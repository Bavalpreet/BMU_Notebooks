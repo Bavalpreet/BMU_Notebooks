{
  "nbformat": 4,
  "nbformat_minor": 0,
  "metadata": {
    "kernelspec": {
      "display_name": "Python 3.8.2 64-bit",
      "language": "python",
      "name": "python38264bita03373cad2404f55bdc5db0285b9fbe0"
    },
    "language_info": {
      "codemirror_mode": {
        "name": "ipython",
        "version": 3
      },
      "file_extension": ".py",
      "mimetype": "text/x-python",
      "name": "python",
      "nbconvert_exporter": "python",
      "pygments_lexer": "ipython3",
      "version": "3.8.5"
    },
    "colab": {
      "name": "feature-selection.ipynb",
      "provenance": [],
      "include_colab_link": true
    }
  },
  "cells": [
    {
      "cell_type": "markdown",
      "metadata": {
        "id": "view-in-github",
        "colab_type": "text"
      },
      "source": [
        "<a href=\"https://colab.research.google.com/github/Bavalpreet/BMU_Notebooks/blob/main/feature%20selection/feature_selection.ipynb\" target=\"_parent\"><img src=\"https://colab.research.google.com/assets/colab-badge.svg\" alt=\"Open In Colab\"/></a>"
      ]
    },
    {
      "cell_type": "code",
      "metadata": {
        "id": "SUVJX7T4wRYD",
        "outputId": "2d24cfca-5531-486d-c52b-8ae813975394",
        "colab": {
          "base_uri": "https://localhost:8080/",
          "height": 34
        }
      },
      "source": [
        "from google.colab import drive\n",
        "drive.mount('/content/drive')"
      ],
      "execution_count": null,
      "outputs": [
        {
          "output_type": "stream",
          "text": [
            "Mounted at /content/drive\n"
          ],
          "name": "stdout"
        }
      ]
    },
    {
      "cell_type": "markdown",
      "metadata": {
        "id": "2zYehY_FvjY2"
      },
      "source": [
        "# Introduction\n",
        "\n",
        "Often you'll have hundreds or thousands of features after various encodings and feature generation. This can lead to two problems. First, <font color='red'>`the more features you have, the more likely you are to overfit to the training and validation sets`</font>. This will cause your model to perform worse at generalizing to new data.\n",
        "\n",
        "Secondly, <font color='red'>`the more features you have, the longer it will take to train your model and optimize hyperparameters`</font>. Also, when building user-facing products, you'll want to make inference as fast as possible. Using fewer features can speed up inference at the cost of predictive performance.\n",
        "\n",
        "Let's get Started"
      ]
    },
    {
      "cell_type": "markdown",
      "metadata": {
        "id": "CiFEn3i8vjY4"
      },
      "source": [
        "## Very Important Question\n",
        "\n"
      ]
    },
    {
      "cell_type": "markdown",
      "metadata": {
        "id": "pkTeuVOLEX9y"
      },
      "source": [
        "## **Ques** - What is the  difference between dimensionality reduction and feature selection ?\n",
        "\n"
      ]
    },
    {
      "cell_type": "markdown",
      "metadata": {
        "id": "JNJExrbBEcEV"
      },
      "source": [
        "Feature selection is different from dimensionality reduction. `Both methods tend to reduce the number of attributes` in the dataset, but a **`dimensionality reduction method`** does so by **creating new combinations of attributes** (sometimes known as feature transformation), whereas **`feature selection methods`** **include and exclude attributes** present in the data without changing them.\n",
        "\n",
        "**Some examples of dimensionality reduction methods are Principal Component Analysis, Singular Value Decomposition, Linear Discriminant Analysis, etc.**"
      ]
    },
    {
      "cell_type": "markdown",
      "metadata": {
        "id": "JRkGyQXnEG9R"
      },
      "source": [
        "## **Ques** - When we do feature selection before doing test train split or after test train split and why?"
      ]
    },
    {
      "cell_type": "markdown",
      "metadata": {
        "id": "BRhjIhWyL8dP"
      },
      "source": [
        "we will do it after doing test train split before giving the data to train and why not before to prevent it from overfitting."
      ]
    },
    {
      "cell_type": "markdown",
      "metadata": {
        "id": "r1Qh_2MXvjY5"
      },
      "source": [
        "### Importance of Feature selection\n",
        "     * It enables the machine learning algorithm to train faster.\n",
        "     * It reduces the complexity of a model and makes it easier to interpret.\n",
        "     * It improves the accuracy of a model if the right subset is chosen.\n",
        "     * It reduces Overfitting.\n"
      ]
    },
    {
      "cell_type": "markdown",
      "metadata": {
        "id": "jPES8k9avjY6"
      },
      "source": [
        "## <font color='red'>Simple TIP</font>(Remove constant features)\n",
        "\n"
      ]
    },
    {
      "cell_type": "markdown",
      "metadata": {
        "id": "QRGETZpVxUEv"
      },
      "source": [
        "1. Remove those features that have zero variance (i.e there is only single value in complete column)\n",
        "    Example for Dataset there is a column that has only a single value for all rows remove that feature."
      ]
    },
    {
      "cell_type": "markdown",
      "metadata": {
        "id": "YffgP8CPvjY7"
      },
      "source": [
        "### For this Purpose we will be using Classifcation dataset "
      ]
    },
    {
      "cell_type": "code",
      "metadata": {
        "id": "hB31yN2UvjY8"
      },
      "source": [
        "import pandas as pd\n",
        "import numpy as np\n",
        "# load data\n",
        "url = \"https://raw.githubusercontent.com/jbrownlee/Datasets/master/pima-indians-diabetes.data.csv\"\n",
        "# names = ['pregnancies', 'glucose', 'BP', 'skin-thick', 'insulin', 'BMI', 'pedi', 'age', 'class']\n",
        "names=['preg', 'plas', 'pres', 'skin', 'test', 'mass', 'pedi', 'age', 'class']\n",
        "df = pd.read_csv(url, names=names)"
      ],
      "execution_count": null,
      "outputs": []
    },
    {
      "cell_type": "code",
      "metadata": {
        "id": "0LNFwsqovjZC",
        "outputId": "c49e9a8b-2f7a-42cb-817c-2023c4cb9d08",
        "colab": {
          "base_uri": "https://localhost:8080/",
          "height": 204
        }
      },
      "source": [
        "df.head()"
      ],
      "execution_count": null,
      "outputs": [
        {
          "output_type": "execute_result",
          "data": {
            "text/html": [
              "<div>\n",
              "<style scoped>\n",
              "    .dataframe tbody tr th:only-of-type {\n",
              "        vertical-align: middle;\n",
              "    }\n",
              "\n",
              "    .dataframe tbody tr th {\n",
              "        vertical-align: top;\n",
              "    }\n",
              "\n",
              "    .dataframe thead th {\n",
              "        text-align: right;\n",
              "    }\n",
              "</style>\n",
              "<table border=\"1\" class=\"dataframe\">\n",
              "  <thead>\n",
              "    <tr style=\"text-align: right;\">\n",
              "      <th></th>\n",
              "      <th>preg</th>\n",
              "      <th>plas</th>\n",
              "      <th>pres</th>\n",
              "      <th>skin</th>\n",
              "      <th>test</th>\n",
              "      <th>mass</th>\n",
              "      <th>pedi</th>\n",
              "      <th>age</th>\n",
              "      <th>class</th>\n",
              "    </tr>\n",
              "  </thead>\n",
              "  <tbody>\n",
              "    <tr>\n",
              "      <th>0</th>\n",
              "      <td>6</td>\n",
              "      <td>148</td>\n",
              "      <td>72</td>\n",
              "      <td>35</td>\n",
              "      <td>0</td>\n",
              "      <td>33.6</td>\n",
              "      <td>0.627</td>\n",
              "      <td>50</td>\n",
              "      <td>1</td>\n",
              "    </tr>\n",
              "    <tr>\n",
              "      <th>1</th>\n",
              "      <td>1</td>\n",
              "      <td>85</td>\n",
              "      <td>66</td>\n",
              "      <td>29</td>\n",
              "      <td>0</td>\n",
              "      <td>26.6</td>\n",
              "      <td>0.351</td>\n",
              "      <td>31</td>\n",
              "      <td>0</td>\n",
              "    </tr>\n",
              "    <tr>\n",
              "      <th>2</th>\n",
              "      <td>8</td>\n",
              "      <td>183</td>\n",
              "      <td>64</td>\n",
              "      <td>0</td>\n",
              "      <td>0</td>\n",
              "      <td>23.3</td>\n",
              "      <td>0.672</td>\n",
              "      <td>32</td>\n",
              "      <td>1</td>\n",
              "    </tr>\n",
              "    <tr>\n",
              "      <th>3</th>\n",
              "      <td>1</td>\n",
              "      <td>89</td>\n",
              "      <td>66</td>\n",
              "      <td>23</td>\n",
              "      <td>94</td>\n",
              "      <td>28.1</td>\n",
              "      <td>0.167</td>\n",
              "      <td>21</td>\n",
              "      <td>0</td>\n",
              "    </tr>\n",
              "    <tr>\n",
              "      <th>4</th>\n",
              "      <td>0</td>\n",
              "      <td>137</td>\n",
              "      <td>40</td>\n",
              "      <td>35</td>\n",
              "      <td>168</td>\n",
              "      <td>43.1</td>\n",
              "      <td>2.288</td>\n",
              "      <td>33</td>\n",
              "      <td>1</td>\n",
              "    </tr>\n",
              "  </tbody>\n",
              "</table>\n",
              "</div>"
            ],
            "text/plain": [
              "   preg  plas  pres  skin  test  mass   pedi  age  class\n",
              "0     6   148    72    35     0  33.6  0.627   50      1\n",
              "1     1    85    66    29     0  26.6  0.351   31      0\n",
              "2     8   183    64     0     0  23.3  0.672   32      1\n",
              "3     1    89    66    23    94  28.1  0.167   21      0\n",
              "4     0   137    40    35   168  43.1  2.288   33      1"
            ]
          },
          "metadata": {
            "tags": []
          },
          "execution_count": 3
        }
      ]
    },
    {
      "cell_type": "code",
      "metadata": {
        "id": "6px9OmsJvjZH"
      },
      "source": [
        "# To numpy for fast computation\n",
        "array = df.values\n",
        "X = array[:,0:8]\n",
        "Y = array[:,8]"
      ],
      "execution_count": null,
      "outputs": []
    },
    {
      "cell_type": "markdown",
      "metadata": {
        "id": "7WNR5wbtxDKh"
      },
      "source": [
        "## In this class we'll cover"
      ]
    },
    {
      "cell_type": "markdown",
      "metadata": {
        "id": "-4FLt4RbvjZL"
      },
      "source": [
        "\n",
        "In case you don't know **P-Value** click [here](https://www.youtube.com/watch?v=KS6KEWaoOOE)\n",
        "\n",
        "### 1. **Filter Method**\n",
        "\n",
        "\n",
        "![text](https://res.cloudinary.com/dyd911kmh/image/upload/f_auto,q_auto:best/v1537552825/Image3_fqsh79.png)\n",
        "\n",
        "Filter methods select features from a dataset independently for any machine learning algorithm.\n",
        "These methods rely only on the characteristics of these variables, so features are filtered out of \n",
        "the data before learning begins.These methods are powerful and simple and help to quickly \n",
        "remove features— and they are generally the first step in any feature selection pipeline.\n",
        "\n",
        "\n",
        "Ex :- Chi-squared Test, ANOVA-F test, Pearson Correlation\n",
        "\n",
        "### 2. **Wrapper Method**\n",
        "\n",
        "![alt text](https://res.cloudinary.com/dyd911kmh/image/upload/f_auto,q_auto:best/v1537549832/Image2_ajaeo8.png)\n",
        "\n",
        "Ex :- Forward Elimination, Backward Elimination and Recursive Feature Elimination\n",
        "\n",
        "1. **Forward Elimination**\n",
        "\n",
        "> The procedure starts with an empty set of features. The best of the original features is determined and added to the reduced set. At each subsequent iteration, the best of the remaining original attributes is added to the set.\n",
        "\n",
        "2. **Backward Elimination** :-\n",
        "\n",
        "> n backward elimination, we start with all the features and removes the least significant feature at each iteration which improves the performance of the model. We repeat this until no improvement is observed on removal of features.\n",
        "\n",
        "And What is **Recursive Feature Elimination**:-\n",
        "> It is a greedy optimization algorithm which aims to find the best performing feature subset. It repeatedly creates models and keeps aside the best or the worst performing feature at each iteration. It constructs the next model with the left features until all the features are exhausted. It then ranks the features based on the order of their elimination.\n",
        "\n",
        "### 3. **Penalization/ Embedded methods**\n",
        "\n",
        "Embedded methods are iterative in a sense that takes care of each iteration of the model training process and carefully extract those features which contribute the most to the training for a particular iteration\n",
        "examples are lasso and ridge regression."
      ]
    },
    {
      "cell_type": "markdown",
      "metadata": {
        "id": "sYTu1uGVJlDT"
      },
      "source": [
        "## How to choose the right feauture selection method\n",
        "\n"
      ]
    },
    {
      "cell_type": "markdown",
      "metadata": {
        "id": "rHYuAzSWKIiW"
      },
      "source": [
        "\n",
        "1.   We can see that there are lot of feature selection techniques available.\n",
        "\n",
        "2.   The following graphic will serve as a guide on how to choose a feature selection method:-\n",
        "\n"
      ]
    },
    {
      "cell_type": "markdown",
      "metadata": {
        "id": "OMsuZBJtJolK"
      },
      "source": [
        "![Screenshot from 2020-10-22 08-02-54.png](data:image/png;base64,iVBORw0KGgoAAAANSUhEUgAAA9sAAAJ1CAYAAADJ6OP2AAAABHNCSVQICAgIfAhkiAAAABl0RVh0U29mdHdhcmUAZ25vbWUtc2NyZWVuc2hvdO8Dvz4AAAAydEVYdENyZWF0aW9uIFRpbWUAVGh1cnNkYXkgMjIgT2N0b2JlciAyMDIwIDA4OjAzOjAyIEFNq8pTaQAAIABJREFUeJzs3Xd8leX9//HXffbJTk72IGQQCCMM2UNlo6ACrmKt8lCwfnHWtuKodVTxp7XVVmutX6haR60KyBAEWbI3yA4re0J2zshZ9++PmPtLTIKgB7D6efqwNSfn3PucnPd9XdfnUlRVVRFCCCGEEEIIIUTA6C71BgghhBBCCCGEED82EraFEEIIIYQQQogAk7AthBBCCCGEEEIEmIRtIYQQQgghhBAiwCRsCyGEEEIIIYQQASZhWwghhBBCCCGECDAJ20IIIYQQQgghRIBJ2BZCCCGEEEIIIQJMwrYQQgghhBBCCBFgEraFEEIIIYQQQogAk7AthBBCCCGEEEIEmIRtIYQQQgghhBAiwCRsCyGEEEIIIYQQASZhWwghhBBCCCGECDAJ20IIIYQQQgghRIBJ2BZCCCGEEEIIIQJMwrYQQgghhBBCCBFgEraFEEIIIYQQQogAk7AthBBCCCGEEEIEmIRtIYQQQgghhBAiwCRsCyGEEEIIIYQQASZhWwghhBBCCCGECDAJ20IIIYQQQgghRIBJ2BZCCCGEEEIIIQJMwrYQQgghhBBCCBFgEraFEEIIIYQQQogAk7AthBBCCCGEEEIEmIRtIYQQQgghhBAiwCRsCyGEEEIIIYQQASZhWwghhBBCCCGECDAJ20IIIYQQQgghRIBJ2BZCCCGEEEIIIQJMwrYQQgghhBBCCBFgEraFEEIIIYQQQogAk7AthBBCCCGEEEIEmIRtIYQQQgghhBAiwCRsCyGEEEIIIYQQASZhWwghhBBCCCGECDAJ20IIIYQQQgghRIBJ2BZCCCGEEEIIIQJMwrYQQgghhBBCCBFgEraFEEIIIYQQQogAk7AthBBCCCGEEEIEmIRtIYQQQgghhBAiwCRsCyGEEEIIIYQQASZhWwghhBBCCCGECDAJ20IIIYQQQgghRIBJ2BZCCCGEEEIIIQJMwrYQQgghhBBCCBFgEraFEEIIIYQQQogAk7AthBBCCCGEEEIEmIRtIYQQQgghhBAiwCRsCyGEEEIIIYQQASZhWwghhBBCCCGECDAJ20IIIYQQQgghRIBJ2BZCCCGEEEIIIQJMwrYQQgghhBBCCBFghku9AUIIIYQQQghxKTibPOSW1FzUdap+H876Kpx1p/D7PAFZpsEUhCU0CnNwBDrDpYl4oVYTiVEhWM0SMVvIkRBCCCGEEEL8JNU53CzaeuKirU9VVZx1FZQe3kJN0RF8nqYOn6soCnq9HgCfz4eqqh0+1xQURkRCJtHpfQi2JaLXX/yYl5EQwZg+nSRsn0GOhBBCCCGEEEJcBD6Pi+rCI9SVnmg3aFutViIiIvB6vTQ2NpKcnIzZZKasvIyamhr8fn+7y3U76qkuPoKKit5sISg0GkUnI4YvNQnbQgghhBBCCHGhqSqO2tPUlZ3E47K3+pWigKpCQnwCY8aMoa6untzcIwwZMpTIyAjWb1jP0aNHMegN1NXV4XA62rR0e5sc1BblEhQZh8kSgtEcdDH3TrRDwrYQQgghhBBCXGAq4Kgpo8le05yslebHFUUhPj4ep91BfFw8gwcPwelwkpyUTNeuWVgsVqqqqrBF2YiIiGDvnj0cyT1Ck9vdZh2eJgd1pScIj8+QsP0D8KMK2xUVFRQVFeFyuejSpQtxcXGtfp+bm8vp06dRVZXhw4dfoq28OGpra9m7dy9FRUX4fD4SExPp3r07ycnJ2nO8Xi95eXlUVFQQHR1N586dsVgsl3Crf1gcDgf5+flUV1d3+JyoqCi6dOmC0Wi8INugqip+v18br/NDoKoqDoeDffv2kZeXh8vlIiwsjKysLLp06YLVaj2v5fn9fiorKzl+/DhhYWFkZGQQHBx8gba+eX2KoqAoCm63mwMHDuBwOMjIyCAhIeGCrfebvF4vhYWFlJaWao9lZ2djs9m0n6urq8nNzcXn86EoCtHR0XTt2vU7rc/n86HT6VAUBa/Xy9atWzGZTKSmprb5rAy0kydPUlpaSnh4OBkZGQQFyR9/IYQQPz3NhdFO43E7taANEBERwdUTrqa6uprY2DhMRhMNvgasVitlZeVYgyykp6fTO6c3Op2OqqrTnMw7idvjaTuOWwFHVRluVyPWUJt0Jb/EflRhe/v27fzjH/+grKyMp556imuuuabV799++21Wr16Nz+dj165dl2grm9ntdpYuXYrNZuPKK6/EEMCqgcuWLeONN96gsLCQ+vp6/H4/oaGhZGRkcPPNN3PdddcRFBSE0+nkgw8+YPHixYwbN4777ruPxMTEgG3Hf7vKykrmzZvHunXrOnzO5Zdfzu9//3siIyMDvv7i4mIWLlzI2LFj6datW8CX/12dOHGC5557jv3791NTU4PX68VisRAdHc2oUaO4/fbbyczMPOfleTwetmzZwrPPPkvv3r157LHHzuv158put7Nu3Tr0ej1DhgwhPDyc+vp65syZQ15eHo888gg33nhjwNfbEZfLxYIFC/j3v/+tPfbYY48xadIkzGYzAKtWreLll1/G7Xaj1+sZPXo0zz///Hmtx+l0smjRIhRFYcqUKZhMJpxOJw888AA2m4377ruvzWdloLXsZ//+/XnkkUdIS0u7oOsTQgghfoi8bhceZwOqz9vq8djoGLKzu2OzRWG3O9i5cwd7vtpDeXkFfr+fsLBQumZ1ZUD/AVisFixWK0nJyVRWVFJbV9tmHLenyY7HXo/f5kWvM13MXRTf8KMK21VVVRw8eJD8/Hyqqqra/D4vL489e/bg9XrbefXFY7fbeeKJJ1i0aBH3338/l19+ecCWvXDhQmbPns2JEyfQ6/X07NkTVVXJzc0lNzeXkydP4vV6+fnPf47P56OgoIDdu3eTlZWFu52uKD9lLpeLkydPsnv3bqxWKyEhIW1amKurq89aGfK7On78ONOnT6empoYBAwYEfPnfx6OPPsqSJUvQ6XT06tWL0NBQioqK2Lp1K4cPHwbggQceIDo6+pyWp6oqVVVV2nF2uVwB3+a6ujrmzZvHm2++yc9+9jP69+8PNLcuHzp0iMOHD3P69OmAr/ds/H4/xcXF7N69W3tsw4YNDBs2jPj4eKA5bO/atQuPx4PBYCA9Pf281tHY2MjDDz/M559/zrRp07juuuuA5lbu3bt3Ex8f3+5nZaC17GdERARNTR1XXRVCCCF+tFQVr8uO1936e47FYqG+rp7q6ioyMjLYsXMHS5cupfJUJW63G1VV0ev1Wm/LkSNH0f+yAXTN6sbmTZvYtn0bDqej9apQabLX4vd50BskbF9KP6qw/d/C4XCwbds2LfgGSmlpKY8//jjHjh0jKyuLl156iezsbHw+H1u2bOGpp57i0KFDLFmyhP79+1/ULrP/7caNG8f999+vhaAWISEhhIWFBXx9ZWVlbN68mdjY2IAv+/vIzc1l6dKlmEwmfv3rX3PrrbdiMBjIz8/nL3/5CwsXLmTNmjWMGzeOESNGXOrN1TQ2NnLw4EFyc3NbhXmbzcaCBQtwuVythlhcbEajEb/fz+7du6murm4et+V0smXLFjweDyaTqcPqo2djt9vZuHEjeXl53+n1QgghhAgMlebx1N+sQN61a1cSExKIiY2hoqKCZcs/o7ikuNXfba/XS1VVFTt27iAhIYFRI0fhcDrZf2Bf81BGZ9v1uZ0N+H2XtoFRSNgGmr+IL1u2jPnz51NSUkJoaChDhgxh2rRpdOnShaamJl555RX27NnD5MmTue6667BarezevZsXX3wRs9nMgw8+SN++fampqWHhwoWsXLmSwYMHc9ddd7Uan1hSUsKrr75Kbm4uAO+99x7btm3jb3/7GzExMfh8Pvbs2cPcuXM5fPgwOp2OLl26MHXqVEaNGoXJ1PHdqUWLFpGXlwfAs88+y4QJEzAajaiqSnR0NLW1tSxevJghQ4a0O652y5YtPP/88+Tm5hISEsKMGTOYPHmy9nu/309JSQlvvfUWGzduxOVyERcXx+TJkxk/fnyblszt27fzzjvvcOjQITweD8nJydxyyy1ce+212nOamprYunUr77zzjnbzITo6mvHjxzNlypRW4basrIy//OUvbN26Fa/XS3p6OrfffjujR48+6/m12+0sW7aMBQsWUFpais/nw2azMWXKFKZPn37W17aIiIggKyvrrIHM6/Xy9ttvs2DBAhoaGrDZbEyePJnrr7+e0NBQ7Rh+9dVXfPDBB+zZsweXy4XFYqFfv37MmjWLTp06sXTpUl555RVUVaWuro4nnniCyy67jCeeeIIVK1bw0UcfMWjQIG699VZiYmIA+Pvf/86XX37JFVdcwbRp04iIiOC+++7j1KlT3HXXXaxevZqNGzfSo0cPnnzyScLDw9m0aRNvv/02eXl5hIWFMW7cOKZMmUJqamqH+1hbW4vL5cJoNKLX6+ncuTN6vZ6kpCQURdHG/5457risrIx//etfrF69GofDQadOnbjtttuYMGHCWY95y7F677332Lt3L36/n5ycHGbMmEF2dnaroRcnTpzgf//3f9myZQuqqpKQkMDUqVOZPHkyZWVl/POf/2TNmjUALF68mKNHj/Lss8+SmJjI3LlzKS4u5s4772Ts2LHauTx8+DBvvvkm+/btQ1EUMjMzmTZtGsOGDdNqG6xZs4YFCxYQEhLCTTfdxOLFi1m/fj1+v59hw4Yxe/bsc7oZk5qaSmNjI3v37tXqSnz11VecPn0ak8lEz5492bdvX6vXNDU1sWXLFubNm6edw1GjRnHzzTeTkpJCUVERL730EgUFBUDz58OJEyd46qmnWg0Xqa6u5vXXX2fx4sV4PB4GDRrE7bff3mpsuMfjYeXKlXz44YcUFhbi8/kYMGAAM2fOpHv37trzfD4fhw4dYu7cuezbt4+wsDCmTp1KXV3dtx4DIYQQ4sfO63bh93q0n1VVpU/v3lxxxUiibdGsWPE5ZWXlHd4gr66uJi8vj9q+dc29Vo/k4mpqv0egt8mB6vddkP0Q5+5HG7arqqooLCxs9ZjD0bZEfnl5OXPmzGHu3LlaVw2AtWvX8vnnn/PEE08wfvx4qqurWblyJXa7ndGjR2O1Wlm+fDnz58/HbDbTrVs3+vbtS0VFBf/+97/ZuXMnmZmZbUJtQ0MDW7Zs0bpu7tu3j/379/Piiy8SExPDggULuPvuu2loaMDna36DbNy4kSVLlnDPPffw4IMPEhIS0u4+f/HFF3g8HoKDg7nmmmu0ol2KohAVFcX//M//MGPGDIxGI0ajkfr6eu21Lftrt9u1Ykxr165lxYoVDB8+HJ/PR25uLrfccguHDx/WWuQVRWH58uXcdNNNPP7442RkZADwzjvv8PTTT1NcXKzth06n4/PPP+fOO+/khRdeAGD9+vVMnz6dyspKgoOD0ev1NDQ0sGLFCk6cOMGvf/1rEhISOHnyJDfffDP79+/H42n+kNq2bRurVq3imWeeYcaMGe0eE5/Px8svv8zf//53KisrtQ8vRVG04zVz5sz2L6LzdOedd/LRRx9p3fEVRWHDhg3s3r2bOXPmEBISwqZNm3jiiSfYsmVLq14NGzZs4MiRI8ybN48jR46wfv16oLkr+9q1a6mpqeGRRx7hyJEjzJ8/H1VVmTJliha2d+7cyfz58wkODmbKlCkALF++nIKCAm2ogM/n01pJP/nkEx544AFtTL+iKKxZs4b169fz9NNP06tXr3b3sWfPnsTExHDq1ClefPFFVq9ezfjx4xk5ciSXXXYZAwcORFEULQjn5eXx0EMPsXLlSq1Fedu2bSxatIhXXnnlrMd+9erVPP744+zdu1e7hjZt2sTixYt57733GDx4MHq9nqNHjzJu3DjKyspaXZfr1q3jyJEjTJw4kV27dmmh88iRIxw9epQHHniAqKgoVq5cyeHDh7nyyisZO3YsXq+XTz/9lHvuuYeamppW6/7888+5++67tfdhfn4+y5Ytw+/389FHH1FRUaHt55YtWygtLeWtt9761msnKyuLsrIy9uzZw4EDB7jssstYv349TqeTfv36aWO4W9jtdpYsWcL999+vzbnZcg537NjBY489hl6vZ+PGjdr7vGW/77nnHi1s19bW8ve//53i4mLtut24cSPl5eU8+eSTpKam4nK5ePrpp/nnP/9JdXW19h7avn07b7/9Nh988AFXXXUVqqqyb98+Zs6cyb59+7TPkXXr1l3yoTtCCCHEpaai4vM24fe3/ptYWlbKsWO5REZEUlZWpn3vaI/f76ehoRGXy0VoaAhxcXGcOn2qVYZp4fM2oUqvtkvuR1ue7je/+Q2pqamt/l2yZEmrC9jlcrF06VJeffVVjEYj06dPZ9OmTfztb38jLS1NazXKzc2lf//+RERE8OWXX9LQ0ICqqqxatQqv14vL5WLDhg2oqkplZSXbtm0jNjaWfv36oShKq+1KSEhg1qxZWii98cYb+cc//qG1PM+cOZO6ujpycnJYunQpK1asYNKkSZSXl/POO++wbNmyDve5rKwMv99PTExMm6riiqJgNpsJCQnBbDaj+0ZlwlOnTvHQQw9RWFjIqlWrsNlsOBwO3n//fQBqamp48skn+eqrr4iPj+fVV19ly5Yt3HvvvSiKwvvvv8/HH3+M0+nkwIEDvPzyy+Tl5dGzZ08WLlzIzp07mTRpEnV1dbz99tvMnz+f2tpaPv/8cyoqKrjlllsoLCykpKSE3/3ud6SkpFBcXKxVAp8zZw4HDhwgPDyclStXUldXx8yZMykrK+OVV15pc2OlxbFjx9iyZQsVFRXce++9lJaWkpeXR69evbQCVefinXfeISUlRatirSgKffv25fjx4wB89tln/Otf/wLghRdeoKamhn/961/4fD6WLFnC/Pnz8Xg87Nmzhx07dtC/f39WrVpFdXU1DzzwACEhISxbtgy73c5VV13Fb3/7WwDCw8N57LHH+P3vfw80f8h6vd42H8Q+nw+v19umy1FL1elp06bx2muvcc8991BZWcmzzz6Lw+Fg2rRpHD16lE8++YRu3bqxaNEiVq5cicPReuxPi+DgYF577TXtpsi6det49NFHGTJkCD169ODPf/4zNTU12tj2efPmsXr1aiIjI1myZAlVVVXce++9eL1eZs2aRUlJSbvrKSws5D//+Q87duzgyiuvZPPmzRw4cICrrrqK0tJS/vSnP1FTUwPAL3/5SwoLC4mOjmb58uXs3LmTO++8k8rKSpYtW8bx48e57bbbGDZsGABXX301r7zyitZy23KcWv5IVVdXM2vWLKqqqsjJyWHx4sWsXbuWqVOnUlZWxptvvqldN36/X6t90LlzZ9atW8fJkycZMGAAbrebBQsWtLqp1ZGIiAgyMzMJCQlhx44d2rF1Op1ceeWVbT5Hjh49ypw5c6ivr+fGG2/kyJEjLFiwgO7du/PJJ5+wfPlywsPDefDBB7VgffXVV/PGG2+0arF2uVyYzWaWLl1KcXExDz30EF6vlx07dnDw4EEA7b1dWVnJLbfcwtatW1m+fDmpqanU1tZy++23k5+fT01NDfPnz2fXrl0kJiby4osvUlxczNNPP01ERMS3HgMhhBDix87v87ZqbW5umNnI6jVrcDqdRESGt/mbfyZFUTBbTFitVgYNGsyokSOJjY1t870eAK/vgtQVEufnRxu2z0VDQwMLFy7UgtMf//hHrev3zJkzCQsLY+3atRw8eJDhw4cTExNDQ0MDu3btorq6Wits5PP5OHDgAOXl5Xz11Vc0NDSQmJioFWE6U3h4OCNHjtS6XA8YMIBf/OIXhISE8P7771NXV4fNZuPll1/mqquuYsyYMfzqV79iyJAhHD9+nK1bt9LQ0NDu/pw6dQpVVTts+T6bAQMGaN22R44cSXp6OoqicOTIEVRVpbS0lIULFxIeHs706dOZNWsWAwcO5KGHHmLq1Km43W42bNjA0aNHWbZsGaWlpZhMJubNm8fEiRPp27cvH3/8MZ06daK+vp73338fVVVxu934fD42bNjAnDlz2Lp1Kw8++CBHjx7lww8/pEePHpSXl7N582ZcLhf33Xcfw4YNIyQkhD/84Q+EhYVRVVXFl19+2e5+devWjcWLF1NQUMAzzzxDXFwcZrOZqKgoFEUJWDGuDz74AID09HR+85vfaF16p0yZQmlpKTt37sRoNHL//fdTUlLCp59+yvDhwzGZTMTGxmI2m/H5fNTX19OzZ0/Gjx8PNBfNuPrqq1t1vT9fycnJzJ07l7vvvpsbbrhBK5bXpUsXbr31VjIyMrj22msZP348RqORHTt2tJqO6puuv/56Nm3axOTJk7WeG6qqUlBQwO9+9ztmz55Nfn4+hYWF7Nu3j4aGBm655RYGDRpEREQEzz//PBEREXi93g5vHuXl5bF7926CgoK4/vrrGTRoENnZ2dx+++0kJydrvTAKCwtZt24dZrOZ++67j3HjxtG3b18effRRXnrpJebMmcOYMWMYNmyYdoOrZ8+e/OxnP2sz/r7F/PnzOXXqFFFRUTz33HNMnDiRyy+/nAcffJDBgwdTVFTEzp07qa2tbfW6J554gr59+5KamsoNN9ygHZdzCdvQfK1GR0eza9cuioqKOHDgAG63W7tJ0MLtdpObm8v+/fvJzMzktttuo0uXLkyaNImxY8diMBjYsWMHDoeDsWPHEh4eDkCvXr249dZbW+13WFgY11xzDaNHjyYhIYGhQ4cSHR1NY2MjDocDj8fDsmXLyMvLY+DAgfz+979nwIABjBs3jnfffReA+vp65s+fT11dHV9++SV6vZ6xY8dqNQ5uueUWRo0adU7HQAghhPhxU9sE4MSEJEZeMQqr1UqP7r20oYftCQoKIjEhCRWVQ4cPceDQIWprayVU/4D9aLuRv/TSS22m8bn33ntZtmyZ1irY1NTE/v37my/uHj206Zt0Oh1ZWVmkpqayf/9+KisrsdlsdOvWja+++oo1a9bgdrvxer0MHjwYaB4zumrVKrZs2UJISAg9evSgU6dO57XNe/bsAcBqtTJkyBDt8cTERHr06MGWLVuorKykqqqq3TdiUlISeXl5WlfPM+9yqaqK1+vF7XZjNBrbTDWWlpbWKqTr9XrtzlpLF3Kfz0dYWBgDBw7UntepUycyMjLQ6XSUlJRoY0kaGhro2rUr8fHxWiunwWDgiiuu4N133yU/Px+TycTEiRNZuHAhRUVFvPDCC7zwwgtERUUxatQo7rnnHgYPHkx5ebnWxfWdd95hxYoV6HQ6bX8MBkOHLdt+v5/a2lp27tzJ0qVL2blzJydOnMDhcJxXwairrrqKGTNmtCpYFhwcTFJSEtDc0gjNwxKuuOIKoHmca0lJCV6vl1OnTlFbW4vFYuHYsWMsXryYTZs2cfDgQWpra7Wu8d/sLnwuvu0Dtm/fvtr5drlc5OfnA82B9uGHH+a5554DmluT/X4/paWlHQZEj8eD1+slJyeHBQsWUFdXx/bt21m+fDnLly/n2LFjLF26lJEjR5KVlaUF0vnz57N582btWnA4HOh0Oo4cOdLueurq6qioqMDtdvPnP/9Zu5lRW1tLRUUFTU1NFBUVaedQp9O1er917tyZX//619rPxcXFZz1GZ2p5H1osFoYOHao9npycTI8ePdi8eTOlpaVUVFRovwsPDycmJkY7zt9lCr3u3bsTExPDrl27WLhwIXa7naCgoDbV6N1uN+Xl5QAUFBTwyCOPaNOBtZzDyspK7Ha7FrQ7YjabW43Rt1qthIWFad2+i4uLqaqqwu/3M3DgwFbjzwcPHqz1yNm3bx+TJk2irKyMsLAwOnXqpA1jiY2NbTWGXwghhPip0htM6PStv4MrOpXklCQKiwpITU1lxIgRrFu3joaGhlbDH81mM9nZ2fTp04fGhgaWLFnMwUMHaWxsbP87rd6Aovyk21V/EH60Ydtms7UJu0FBQW26ZrT8rCgKqqq2+vnM/wcYO3YsX3zxBWvXrqW+vh6Px8OECRNwuVwcOHCA5cuXs2HDBpKSktq0RnXkzKB05rrOfNO0dFtueX5H4So7O1sbJ1pQUNBqLtuWLtPvvPMON910ExMmTDivFvAz13/mtvl8vg6Pm06n07a35fEzw5Fer+fKK6/k/fffZ968eWzfvp3q6mrsdjsLFixg586dzJ07F5vN1ur1fr9fW2a/fv0IDg7u8C5geXk5jzzyCPPnzycsLIx+/fpx3XXXad2Nz1VsbCwDBw7ssEBayw0cn8/Xaox6cnIyKSkpZGZm4vF4WLRoEb/73e+ora2le/fu3HzzzdTW1rJ8+XJOnz6N2Ww+a/ehFmeeh5YbPx05M+ioqqoF+29ue1JSEklJSXTv3r1VUb8ztRQA8/l8/OlPfyIiIoJx48YxZswYxo8fz4MPPkhubi6FhYWt3n8t3a1b5OTkoChKh6G0pVv8mTd8oLn6e58+fYDmVtmWmwKqqrZavsfjoaGhAb1e324xwLM58xo+81ycecy/+Tur1dp+F67z0KNHDxITE9m5cyfz5s2jrq6O4cOHExwc3OE2tvjmOezUqVObG2rt0ev1bYacdLSeb67T6/Vq6zjzuLSc65b3aMt7VgghhPgpU1AwB0dgtATT1FijPZ6fX8CiTxdRXVvNL2fezZTrpqKoCoeOHNJqxwQHB9M5tTPDhg0nIz2dhsZGbNE29Hp9h7nAYAlC+caUteLi+9GG7XNhNpvp0aMHK1as4ODBg5SXlxMXF4fT6eTw4cOUlpYSGxtLQkICJpOJIUOGEBUVxcGDBzl16hQ+n4/Ro0fjdrt56aWXWLFiBTU1NYwePZpBgwad0zY4HA7ti2lOTo722JdffsnIkSNRVZX8/Hxyc3MxGAwkJiYSFRXV7rKuvvpq/vOf/1BbW8sf//hHHn/8caKiovD5fOzbt4+33nqLNWvWoNfr6d27N126dDmnbdTpdKSlpWGxWGhsbGT79u2MHj0ai8VCYWEhx48fx+fz0alTJ2w2G51DCew9AAAgAElEQVQ7dyY4OJhjx45x/PhxoqOjMRqNVFZWsmfPHoxGI+np6ZhMJgoLCzEYDDz88MPEx8ezf/9+Pv74Yz799FNtv1vWBXDLLbfw6KOPEhQURE1NDbm5udhstg6nMdu0aRPbt2/H5/Px4osvctNNN6HT6di7d692gyUQunbtyp49e0hLS2P58uWEhITgdDo5evQoJpOJmJgY7bwWFxczc+ZMnnjiCZKSknjjjTdYu3Yt8H83L87k8XhahRlobvmtqanRuvi3jF/+NmazmbS0NPR6PZ06deK5557jqquuwuPxkJ+fj8PhID4+vsM5snNzc/nrX/+KzWZj5MiRjB07FrPZjNvtpr6+Hp/Ph16vx2QykZCQoI3VveGGG5g9ezY2m42amhqOHj1KWFgYKSkp7a4nMjKSxMREbejAXXfdhdFoJD8/n4aGBqxWK507d9Z6SLRc4y2V0vft28fLL79McnIyU6ZM0XogtBzPM8dof9OZ78MNGzYwevRodDodeXl5HD16FL1eT3Jy8jnPI36urFYr2dnZrFu3jsrKSgCGDRvWJjQbDAZstuY/sCkpKfzhD39g4sSJ2jl0Op3ExcURHR3dag5tn8/X5qbHt4mLiyMmJga9Xs/evXspKysjKioKVVXZtm0b5eXlmM1mrYhbamoq+fn5nDx5kpqaGiIjIykqKtJa4oUQQoifKkVRsIRGYbK2biDy+XysWrOKyMhI6uvrSUtLY/z4CfTqlUNZWSlNTU1E2WxkdemCCuQX5GM2mUlISCDx69lg7HY7bncTZ361MQeFotP9pKPeD8JP+gwEBwczadIkNm7cyL59+3j++ee59tprOX78OB9++CENDQ1MmTKFbt26AZCRkUHPnj05duwY1dXVREdHM3DgQOrr67HZbFRUVBASEkLPnj1JT0/vcL0Gg0HrTrtjxw5Wr17NkCFDmDRpEi+++CIVFRX8v//3/7QiVf/5z3/Ytm0b3bp1Y9iwYR12DZ0wYQITJkxgwYIFzJ07l9OnTzNu3DicTidLly5l7dq1REdHM3LkSHJycnA625mUrx0tXXTHjRvHZ599xkcffURKSgppaWl88cUXrFy5kqioKK688ko6d+7MFVdcobVMP/XUU9xzzz1ERUXx4YcfcujQITp16sS0adOoqqrimWee4d///jdjx45l9uzZREVF0bNnTzZt2qQd1/T0dAYOHMixY8f48MMPGTBgACkpKXz22Wc89dRTDB06lL/+9a9ai+eZmpqatJbckpISjhw5QklJiVYt2W63n9Mx+DaTJ09m8eLFWkXxESNGcPToUWbPno3ZbOaRRx5hzJgx2vNra2s5fvw4JSUlrF69WgvLLQG6pQtuS/E9aA6BkZGR6PV68vPz+fLLL3G73axatYpDhw6d03ZaLBa6d+9OdnY2+fn5fPTRR4SHh1NRUcErr7zCoUOHeOihh/jlL3/Zbpi86aabeP311ykrK+Oxxx7j+PHjpKSkUF5ezuLFizl58iSZmZlkZ2fTpUsX+vTpw/r16/n000/p27cvXbt2ZeXKlTzzzDMkJSXx4Ycf0rNnzzbrSUtLY8CAARw8eJDPPvuMlJQU4uLiePXVV1m+fDnDhw9n3rx5dOnShZEjR7JixQreffddcnJyiI2NZdGiRXzwwQcMGTKE0aNHt2rpPXjwICtWrGDcuHHtBu5x48bRqVMnSktLmTNnDg6HA7PZrL0PMzMzGTp0aIc3vb6P3r17ExkZSV1dHYqiMGTIkDZh22Kx0KNHD3r06MHJkyf55JNPiIyMpLKyUjuHDz74IHfffTcWi0W7lo4fP86aNWvo27dvu63l7bFarYwePZrdu3ezefNm/va3v3HDDTfgdDp58skngeY6BVOmTCEiIoKRI0eyYcMGNm3axOuvv87ll1/OqlWr2Lp16zn12BBCCCF+zPQmCwZrMIpO32ZaLqvZSnVVFY32BgryCxg+fAS9e/fWCiBHR8dw8NBBCosKsNmiiImJYdCggZw+dZqjR49SUJCP0/l/tYgMRkubnrvi4vtJh22r1cq1117LgQMH+Oyzz3jjjTd4/fXXURSFsLAwRo8ezR133NGqBXj8+PGsWLECt9vNiBEjMJmaKwIOHTqUhQsXEhMT861dyMPCwsjMzGTPnj0sXbqUpUuXsnLlSsaOHcuTTz6pzSW9bt06LZh36dKFGTNmnLXQkMlk4k9/+hOqqrJp0ybmz5/Pxx9/DDQH/NTUVKZOncrNN9+M2Ww+57ANzdWSH3/8cerr69m3bx+zZs3SuoknJSUxZcoUrr32WkJDQxk4cCDTp0/XWr/Wr1+PTqfD7/eTlZWlzbWtqio33ngjBw4cYPPmzdx2221ERUVpFaqnTJlC7969MRqNzJo1i6KiIrZu3cqtt95KcnIyJ06cICkpiSFDhrSqsHymPn360L9/fyorK3nppZdYsGABTqcTm81GYWGhNr78bMUozsV1113HtGnTWLp0KbNnz6ZTp05agL7yyisZOnQoNpuNfv36sWLFCpYuXcrhw4cxGAytAtGJEyfo06cPycnJJCcnU1xczOOPP07Pnj1ZvXo1ffr0oW/fvuzbt4+nnnqKiIgI4uPjtencvo2iKCQnJ/OrX/2KF154gfnz5/PFF1/g8/lwuVz06dOHIUOGaPULvikzM5MnnniCv/zlL+Tn5/PII49ovzObzWRmZjJ9+nQtJN58883k5eWxfPly7r33XmJiYsjPzycyMpLRo0eTk5PTbhfj5ORkpk6dSm5uLhs3bmTv3r3o9Xrq6upISkrihhtu0IZBPP3001RVVXH48GFuv/12bW75rl27cv3112vjrlNTUwkNDWXFihVaOD9zTHaL1NRUHn/8cV5//XV2797NTTfdpB3brKwsfvGLX3zr3O7fVe/evbXeADExMXTv3l27MXemtLQ0HnjgAV588UUWLFjAF198gd/vx+Vy0bdvXwYOHEhERAQGg4GePXuSm5vLwoULWbhwIUuXLj3nYS7QXBCvqKiIjz/+mLfeeot3330Xp9OJxWKhT58+zJ49m86dO+P3+5k8eTJbtmxh/fr1PPPMMwQHBxMXF0d4ePg5974QQgghfpRUFV+TE/83hvO1KC0v5aOPP8JkMVFZWUlMTAwJCYms37Ael8vJFZdfgdVqIbVzZ8xmEy6Xi+TkZLp160ZoWCgul4uSkpLmRiZFwV5bQVhjDXqjGUX/k458l5T+qaeeeupSb0SgNDY2asXNxowZ02bM9qlTp4iJiSEnJ4fJkyejKAqhoaEMHjxY6zrbuXNn+vTpwzXXXMM999zDwIEDW7UshYWF4XK56NatGzfffDPdunXTihZYrVZGjBjBtddee9bCRDqdjpiYGIxGI6mpqfTu3ZsxY8aQkJBATk4OXbp0ITIykqSkJLKzsxk5ciR33HEHU6dObVWgqD2hoaGMGjWK6OhoYmJiSE9Pp0ePHgwePJjbbruN6dOna11q/X4/dXV1REZGMmzYMPr27auN1S0vLyclJYVBgwYxfPhw9Ho9cXFx2pf4+Ph4unTpoi331ltvpXPnzkBzoOvduzeZmZlERUWRlJREVlYWQ4cO5c4772TGjBmYzWYMBgMpKSn06NGD0NBQwsPDiYiIIDs7m2uuuYaZM2eSlZWFTqcjMTGRXr2aKzRGR0djs9no06cPP//5z/nlL3/ZYViOjo4mMTGRsLAwoqKiiI2N5ZprruG2227DaDSSkZHB5Zdf3u7rPR4PDoeDuLg4hg8fTk5OTofjf1uKvwUHB2Oz2bDZbHTt2pXrrruOmTNnkp2drXWtjo6O1rZn4MCB3HfffcTExJCWlkb37t3JysoiKiqKoKAgQkJC6N69O0OHDmXEiBEkJiaSlpbWXI0yMZGcnBzuvPNO+vTpQ2xsLEOGDKF3795YLBaKi4vJyspi+PDh9OvXT9tWk8lEeno6aWlphIaGauseO3Yss2bNYvDgwWcN7r179yY9PZ2oqChSU1Pp1q0bPXv2ZMSIEdxxxx1cf/312vzfsbGxZGdnExkZSXh4ODabjb59+3LDDTfw8MMPExwcjKqqOBwOVFVl0KBBDB48mIiICFJSUujatSthYWHa+2Hw4MHcfffdTJw4UWudTU5Opnfv3oSGhmrX2pAhQ5g+fTo33XQTYWFhmEwmwsLCsFqtJCYm0qdPH0aNGkViYiJ1dXVkZGQwevRorYt9z5496dGjh9bVPSsrixEjRnDXXXcxdepU7WZEy7jw7OxsRo8erb0/7XY7Xq+Xfv36MWHChHavm+a5Mptv9AwbNozevXuTkJBAbW0tKSkpTJgwgZEjR2KxWLT349ChQxkwYAAWi4WMjAzS09O190Tnzp0ZO3Ys9913H4MGDcJkMgEQHx+vDQXp3bs3Y8eOJT4+npKSEi677DJGjBihfVY6nU48Ho/WiyYpKYng4GAuu+wyUlJSiIqK0t6zo0eP5le/+hUTJ07U3vdRUVH06tULq9VKfHw8vXr14he/+AUjR44kJiaGPn36MGjQoO99c0sIIYQIlEaXh13HK779iQHgbKiiqvBgqzHbZ6qpreH06dPNw768PgoKC9izdzcFBQW4XC5s0VHaUM3du3ZTWV5BeHgYtuhoHA4HlZWVNDU1AdDUUEtwZDyW8Jg2RdkulKhQC+nx4YRYTRdlff8NFFVqxWuamppoaGjAbDYTHBz8vQsefRun04nD4cBisbTp1tkyDRQ0F4U6l1bLM7UUjKqtrUVRFIKDg89aCOl8+P1+HA4HTU1NBAUFfWsBqpbq6C1doNvj9Xqx2+14PB6sVutZC07V1dXh8XgICgrqsJDXNzU1NeFwOLSeCBfq3Kqqisvlwm63YzQa273p0tJ93efznfXcqqpKQ0MDHo+HsLCwVs9ruXbO5fifjdvtprGxEb1eT1BQ0HldZz6fj8bGRjweD3q9/luv05bz1nItnmuXJo/Hox2v0NBQLUR+k6qq1NXVaYVE2rveXS6Xdh0EBQV963XQso9+v5+goKDvVC3+QjuXc+h0OrHb7Vit1nPuQt4ej8dDfX29FqzP9jy73Y7BYPhOUxEKIYQQF0t5jZ1/LN93wdejqiqOukoKdn5OfUXetz5fURT0ej0+nw9FUcjIyGDipIlYrVZWfL6CAwcOYDQamDhxIv0HDGDnzp2sXrVaq9eioCNt8DXYUnugN1yc8JuREMGYPp2Ij/zu3zV+bKRPwRnMZvNF/TLdEirbo9frO+zKey4URcFgMAS8iBM0t8yHhISc85focxnbajAYvnWaohbn+rwzXaxzqyjKWc8rNJ/bb+uh0LKsjp73bes4VyaT6TuPPdbr9ed1Lr7LeQMwGo1a1+qzURTlW59nsVjO66bT+e7jpXAu5zBQ14vRaDynabzO9ZwJIYQQPxkKGC3BGMzn9ve4ZdpeaP7ubTQaMRqMqH4VnU7BZDI1N2IpCm63u81MKTqTCaM1BEUnFckvJQnbQgghhBBCCHEBKSgYTFbMQeHo9Eb8vvbHbrfH7/dTVVVFSWkJ3bO707t3b0JCQrEGWUlLS8PeaKeivELrQg5gDgrHaAmRubYvMQnbQgghhBBCCHGBKYoOS1g0BrMVt+Pcw3bLULljx45hs9lISUkhITERk8mE2+3Wpt08c5ad4Mh4DGarVCK/xCRsCyGEEEIIIcQFpgBBEXGYLKG4HfXn9Vq3283R3Fx8Xh/dunXDbDFjMpnIO5nHiRMntMJq0Bzqg21JGIyBqdckvjsJ20IIIYQQQghxoSkKltAoLGE27LXlbebaPpvmWYTqOXToEMXFxc0F1Ax6GhsatWKuLUxB4Vgj4i5aYTTRMQnbQgghhBBCCHERGMwWQuM603C6kKbG2vN+vcvlwuVydfh7RacnPDETS0g4ygWeWUl8OzkDQgghhBBCCHERKIqOyKQswuMz0BsCP1NOsC2R6M49MVlk6s0fAgnbQgghhBBCCHGRGC3BxHUZgCUsiuaR3IGhN1qIzehHcGSCTPn1AyFhWwghhBBCCCEuEkVRsIbHYAmPQdEHLhRbQ6MIiohDZzCCVCH/QZCwLYQQQgghhBAXkaLTERwei04fuBJalohoDGaLTPf1AyJhWwghhBBCCCEuIkVRCI3rjNEcHJDl6fRGgm3JGExBAVmeCAwJ20IIIYQQQghxkYVEJWDr3L252/f3FJ6YQVhMKnpj4Iuuie9OwrYQQgghhBBCXGSKTk9EYlZAupIHRyZiDJIK5D80EraFEEIIIYQQ4hLQGcwoyveMZIqCouhQ1MBskwgcCdtCCCGEEEIIcZGpqLgdtcD3S8mKCk32GnzupsBsmAiYwJW/E0IIIYQQQoj/NuqlaRJWVT81RUfwNX2/kKyiUld+gsjkbpiCw2SO7R8QCdtCCCGEEEKInyYV1EsQtlW/D5ejjsbTJfhV3/denttRj6O2guDIeIyWwFQ4P2+X6KbFD5mEbSGEEN/JZ599hsPpvNSbIQLIaDCSnpFOTq9el3pThBDiolBRv2cn7u+wTr+fhlMF1JQcpcleG7Bl1pYeQ28yE5nYDaMlCC7yfNuX4lj+0EnYFkII8Z088sijXDH+uku9GSKAGupqiY8OJed5CdtCCBFwqopf9WOvLqXs8BbqKwtQfd6ALb7hVBFNjjpUv0pUcjcMlmCUixy4RWsStoUQQnwn9Q313Hnv7Eu9GSKA9u/ZwZef/ftSb4YQQlxcF6H7s6qq+DxN1J8q5PTJPTScKgpo0G5eiR93Yy2VR3fg8zYRldIdszUMRXeRamKrSFfyb5CwLYQQQgghhBAXgKqq+H0enLWV1JWfpKb0KM7aSlT/9x+n3RFn3Skqjm7HVV9FVHI2IbYk9Cbz163cF7KlW4L2N0nYFkIIIYQQQvxk+S9ISFRR/X48jgZqy45TW3wER20l3ibHBVjXNyjgcTRQXXAAZ20FoTGphMWnExQZh8FkRVEU1AvQvVyidlsStoUQQgghhBA/XQFLiSqo4Pd5cTVW01BZgP10MfbqMpocdaD6A7Wic+L3ebFXl+FqrKXhdBFBkXGERKcQHJWIKSgcnV7PhW3pFhK2hRBCCCGEED9ZyvdM2+rX/+ttctJ4qpiGygIc1aW47LV4mxyofv8lzbQ+txN7VQnO2krqy/OwhEYRbEsiLCYVa0QseqM5QIXUpG37myRsCyGEEEIIIX6yvk97s6r6cDfWUVt2lIaKAlz11Xhdjfi87v970g+k8djv89DUWIPbXou9qpTa4iNYI+MJi08jJDoFoyX0exVTU+EHs68/FBK2hRBC/Kg0uZy89tIzFOUfp1uPPtz9q8cv9SZpfF4vpyrLsVisRETZLvXmCCGEoLmIGbSfE9WvHz+zzVZRVbzeJuzVpdQW5WKvKsbtsuN3u1C/7iqu0+kwGo0AeDwe/H4/RqMRvV6Px+PB5/Oh0+kwmUwAuN1u/P7m1+r1eoKCgvD5fDidTgCMRiOqquL1etHr9eh0Om0ZiqLg8/nQ6/UoioLb7Uan02EwGPB4POj1evR6vbb9Pp8Pj9uJ1+3EVV9DfXke5pBIwmKbx3ZbwmLQGYzNY7vP2P+W43Pmf7c5WNK43YqEbSGEED8qPp+PA3t3cnj/nku9Ka3U1dbw3tzX2LtrCw8/+UcJ20II8UNxrgHR78dlr6Wu/Bj1pSdwNZzG625C9XlaPU2n6OiW1Y0bbrgBh9PJZ58tpbyinGsmXUu/vv1YtPhTNm/ZTHZ2NjdcfyMhIaG8/vprHDt+jJCQEO6YfgddunSlsbGRNWtXcezYUUaNHENjYyOrVn3BgAEDycjMYO/ePWRkZKBT9Bw5cpghQ4Zis9mY99ZcoqOjuWLElXy+Yhn9LxtAz569MJpM2O129uzezeo1q6iuqcbv8+B3evC4GnHWVFCVf4CgqAQikrIIjU7FYA0O/HH8CZGwLYQQ4kfH7/fh83nx+S7c1Crn68DenfzrzVeIT0zGfwGnfBFCCHHumhtjVe2/2/xeVfF5XDRWFlJXeJjG6mJ8bhc+n7eDVwAKWIODSE3tjKqq7Ny1g6amJtLT0snM7EJEeCQ6nY70zmlkZmQSEhJKp9ROHD9xnKGDh3LZZf05ePAA4eERXD7iCnw+H0lJSVRXV2MwGoiyRZGYlMjJvBPExsah1+koKSkmKSmZzMxMOndKw2w1kdIpmeDgIGJiYgkODiY39zAVlZUUlRTi9ri1bf16R/F5m/B5m3A766grP4HZGkpIXGciO/XAGhGDTmdsddy+ya8dSdFCwrYQQogfPY/HQ0NdLU1NLkLDwtHpdOQe3k9leSkZXbJJTcvE2NKVr6mJqtOVqKpKbFwCDfX17NmxCYPRSPecfkTHxGnLbWyop6G+Dp1OR3hkFBaLFYCGuloaGxtQVZX4xGTsjQ2cqizH43Hj/boreUxsAlHRMZfkeAghhGimqCqK2n5EVFUVt6OOyqPbqCk6gs/jgg6e22a5gKLoCAkJJiI8ErvNTlhYGIqioCigoBAXn0BNTS0Wi5WkhCT0ej2dOqXidLpYuGgh6Z0zGDVqFJERUeh0+q9f2/x6HUrzP4qCojR3JdfpFAwGA127ZlFVcxoF3dcb4qesrJzFi5dQUFTQPPe3v+OR6qrfj+pvwuluwtVYTV3JMaIz+xGdmoPBbD3rsRStSdgWQgjxo1dcmMerLzzJ9s3rGHr5GFwuF9s3r8PjdoMCP7vtbmbc+1siomwcOfQV/3PrtTgddn775Iu8+ZfnaWxswO/zE5eYxIx7HubaG2/FYDCw+ON3+fvLzxFli2H20y8x9IqxALz3z9d4b+5rOB12vvyqiA/++Xfe/OvzAJSVFPLAHTdw5dhJ/OkfH1y6gyKEEKK5Zdvffkj0ed00VORRX5GPz+0872V7vV4URSEiIhyP14PBaMDzdYuy3qAnNjaG3NwjBAVZSU5OQUFBr9ej4sflcnEy/wTGDQZq6+roofbQxmHrdPp21+f3q5w+fYqMjEzcR5q0sejNzc0qfF37TD3XUKw0B2+3o57awkNYQmMIj0vr8OnNq5HAfabvXm5OCCGE+C/jdNj5cvUyTleWMW7SVNK7dENRFD5+738pyDve5gvIa398hqSUzoy9egoxsfGUlxTz4TtvsGPL+vNab1RMDPGJKQAYjSaSO6UTn5QcsP0SQgjx3akd/OP3eXDb6/G5Xee/TFXF6XRgt9sJCQkhIT4Bn9eHw+EAwGq1EhYWQVlZKZWVlcTHJ6CcUXbM5/Nx4sQJlq9YTlFxEX6/SkpKCqNHjaFrVjeMRlO7e3Ls2DHCw8OJioxGb2gO5Tqdjvj4BCaMu4pRI0cTFxeL7ryqjqu4nfX4XI2oqr/D4yVBuy1p2RZCCPGToaoqw0eO55cPPEpWdi/WrVzKX198kvwTRynOP0n3Xn1bPT+n7wBe/t//YDAa2bF5HU/9dhaFecfZsHo5g4Zdec7rvfHnM4iLT+LBGTcRl5jMi6//i67dcwK7c0IIIb6bs3Qj9/k8qN+xzobL5cLr9REcHEK0LQaHw0ljYyMAURFRBFmDKK8sp6SkmP79B2INtrYz33Xzz4qikJiYSHh4OCEhIVRWVrRTElyhoKCAuLg40tMzsFqbu3wrOoXw8HByeuVgNBkpKMzj1KnT57Uvfp8Xn8+DX/Wj66C9VqJ2WxK2hRBC/KSkpmWSmtYFgOjYeIKCQwDweN1tSrtMnDoNy9dfVjqlZTJg6BUs+/RDTlWU0VBfe3E3XAghxAXRUbdq1e9D9XpA/W4zcXu/bskOCw0jOjqaoqJCXK7mvzmxsbHN036pUN/YgMlkIjrapoVtnU5HQkIiyUnJXxdjg6+++orPli1l6NBhpKelt5tua+trKCkppl+/y/B/3T2+uZX8OB9/8hH5Bfk4nc7zLiCq+v34PW5UnxdVb+zgSRK3v0m6kQshhPhJMZstmC0WAIJDQ7U5TttjO6OAmdFkJjIqGmgeh+ducl/YDRVCCHFRqKra/r9+f3Pg/o4hUlX91NXVYTabCQ4OpqGhEY/Hg6pAfHw8RqOBq6+aSJ+cvpjNZhITkoDm4mkmk4msrCyuvmoiKcmd0Ol0OBwOTp8+jd1u1+bzbrNOn8qRI0dwOl0ouq+bvlXweD00NDTQ2NiI1+s93z0BVHxeD36vt8PjJWG7LQnbQgghRAeOHT6o/XeTy0lFeQkoCtagIIKCg1F0zRVgfX5fq8qu9sZG1LNUehVCCPED0VHQVv34/f+fvTuPj+sq7z/+mX3VaBvt+77LsizHsZ3ETpyFJCSEJQ2QtBQIZW2BUigtLdANKO2vLAUKgVAIBEhCCoSEhOyxHduyLdmyJVm7te/baDT73Ht/f4w9WLYcbMeJY/t583KQRnfOPXPtkfS955znRFGV6DmHSE3T8Hg8LC8vEwj48S4vxbZ+1DQyMjLwepfp7e3l8OE2QqEQebl5LHoWMZnNVFVWU1pcislkJBwOsXIY+5X6o6O7txuvdyl+mE6vI8Hpory8ktqaWnJzc1/xRvPqLwYUJRybVn/aa6b9kb5dfmQauRBCCHEaz//+NzSs30hicgoH9u6i/eA+HA4nOfmF2OwO7HYHNpsd75KH4aN9TJRXsTA/R0dbC+Hw6iPf4VCQgd4unAkusnLyTltVVgghxOtklTCtaSqqoqCe48h2KBRiYWGB6ekpDAY94XCY6alp0tMzYkXSdDqOHOnkscd/QzQaoai4BLvdTvO+Zmpratm6ZSuaptHV08XI2AhFRcUsLXmIKlGWl5eZX5gnEPDj8XjQ6/T4AwHm5+fw+/2Mj48zMNBPNKoQCoVZWvKSk53P9du2sbS0xOH2Q2zfvv20P6dOpUMD1GgYNRp5hZsPmmTtk0jYFkIIIU5jcmKMr33pc6RnZdN7pJ2Z6UkamjZy1dab0Ov15BYUk5VbwKHWZn776M/o6WpnZmoCv38ZvV4fG8E4Jik5Fb3egGdhnp/98Dsc7evmz/7i4zgTXMk8cpQAACAASURBVBfwFQohhFgtTGuahqpE0dQoZ5sgNU1jcmqS7TteYnZ2lqNDg9htNmZnZ5mZnWFmZoaFhQWCgSCLC4tElSiPP/5bIuEwPT09PPTIL8jNziUQDNDT28Oyd5mX9TsJhcP4fD46OjqYmJhgcmqS+fkFdDods7OzRKMRxsbG8ft9PPfcc6SkpjI+PsGe3Xvo7x9Ar9cTCYeZnJwkGDz7CutKNBy7JqctKCdZ+2QStoUQQlxS9HoDJeVV6PUGCkvKgdg67YKiUuoa1pOemRM/1mKxUVxWhRJVSE5NQ6dbubrqqmtvYnpynK72Ngx6PZu33MCbbv8TqutjVctLK6q56bZ3YDKZmJoYo6OtlfKqWq7YfC27X3qWgN+H3hD7UZtfVMq1N72Z3q4OFhfmmJ+bIRIOvU5XRQghxGpiE59XH9nW1CjaWRYSMxgM2O12ADo6OwiHwxiNRlwuF2aziYnJcVRVpbevF5/Ph96gx53sZmR0mLnZWUKhEENDQywuLKBqGsFgkGAoyJGuI9jtdpxOJ1PTU0zPTGM2m1lcXMRsNqPT6ejo7MBqteJ2uxk4OsDRwaNYrBb6j/bT29+L0+nE4XAQDAbRONulThpqNBIL26eJ1Oe6tv1SJmFbCCHEJcVkNnPnPR/Av7yMKykJgORUN7e+7V1svvZGsnPz48cmp7p5x93vZ9m7REFxGUbjyh+LjVdsorKmgf6eI+gNevIKSiguq4wfl5iUwpvf+i5q1jQyMTqM1Wanoroek8nMmsYNRKMRLJZYMTZXYhJ/+Zl/oqfzMNFohNz8IuyOhNfpqgghhDidVxrZVs9y2y+7zU5dbR0ZGZls3/4SgUAAi8VK49pGKirK4zOw9zTvpq3tEGVlZWzetBmj0cgjv3yYUDhMWWkZ69c3odcbCQYD9PX10dvXS0V5BYWFRRw8eACf309ZaSn9A/1kZWWRnJRCS+t+Gtc2kp2dwwsvPM/S0hLr16/nSNcRopEojY2NZGVl4/P5aGs7SHtHe3zf7zO6TtEIqvoKI9syrn0KCdtCCCEuKQaDgarahhWP2Wx2SiuqTznWZrNTWbPmtG3p9HqKyyopLqs87TEJiYnUr72C+rVXrHg8NS19xed6vZ78whLyC0vO5GUIIYR4XaxeRTu2Zjt61sUuLRYLRUXFVJRX0NrSwtz8HBZTrOBZeXk53T1deJeXCYcjgEZNdQ1XX3UNVquVPc17WFz0UJBfyLrGK+jp6SY7K5v8vAL0Oj3VVTVs2BC7kTs5OUl9XT1+v4+K8kqys3IYHBqkYc1aampqWZhfoKenm4Y1a/H7/SQlJdGwpoHFRQ/JScmYjCampqYYHhk+sxFpjdg+269UME4KpJ1CwrYQQgghhBDi8qSdZmRbPRa2tbMb2dbpdRhNRkwmMzr9saVJOh1Go5HZ2VlefPFFxsbH8Pl8hMNhcnPyWFryYrc7yM/Np6O9A6PRSDQaYdful8nPK6CpaT1paWmYzWZsNjvZWTlEowpWqw29wYDJaMRsNmPQ6zGbzZjNZioqKpiYmMBkMmMxW8jKzCYQCLKneTf5eflkZGTicrkwGAxnuBWYhhaNxPbZluniZ0zCthBCCHGC3LxCPvPF/yAajVJT33ShuyOEEOI19oph+yynkQPoTvN4JBJhaWmJ+fl5VFXFaDSSlpZGT083TqeD/Pz8+N7YiqKw6FkkMTHp2J7aOjRNw+/34XK5SHOnYTCsHuXm5mbJysomJSUFgyG2RaXRaCQSiY2Iz87O4na7mZ+fP6vgHFuzHUFVVXS6U1+lJhXSTiFhWwghhDhBUoqbN91+JwBGo+kC90YIIcRrbbXAqcarkZ9tIbFT86bu2H8LCgp521vfztDwEC++9AKKouByudixczv5+fnk5OTEa4LYbHbWN60nPT0Tr9fL5NQEGRnpTE/PoKoabncaFosF3YnRXosF8v7+fgoLi8jLy8dqtcZnfet0OpJTknG5XLFjzzIZq5qCGj12TfT6U74uI96nkrAthBBCnECv18eLmgkhhLi0aWirBmpNVVCVyNmPbK+2bFkHOh2YzWaSk5NZWlrCYDCSnJyMxWJhfGKc8fFxqqursVgsgA673c6GDRuxWqz09HTj9XpRVY2pqUl0QElpGTqdDv0qoXdqahqbzU5hYSEOhzP+uF6vx53qpq62HkVRGBsbZWZmBuUMK65rqhLb/kuNol8lRmqalEg72al/O0IIIYQQQghxOTi2ZvuUP6qGFo0em8J9dlabRq5pGqOjozz55O948vdPsrAwT1ZGFnq9AVTweBZJSEggMdGFTqfD6/XyzNO/58CBVhISXGRmZGIwGFhaWjq27ZcJu92+6nTuSCRMb283CQkJWK1/uHmsqAqzc7OMT4xjMBjjW4ad+bVSUdUIqqqses2kQNqpJGwLIYQQQgghLlurhm1NRVGVcwrbpxMI+BkbH2N8fIxwOExGRgY2m5V3v/tu1q/fgNVqIy0tHb1eRzgSpre/l4Gj/VgsZhITk9Dr9SiKwtTUNB7PUqzR02Tlvt5ewqEQer2eeJ7WNAL+AB6P5wyLop1AA02N7bWtKauHbZlGfioJ20IIId6w9ux4nvffeSPvvGUjv/jxd4lEIqcc89BPvs973notd918JR1tra/6nD/5/n9z921X87H3vPWsnjc2PMjnP/VB7rr5Sp5/8jHC4dBpjx3s7+FTH7qbe+96E79++IFX22UhhBCvxsmjs9qxqeVKFM5hzTaAw+GguLiIiooK3Klu9HodTqeDwoJCKsoqcLvdZOdkMzMzy4EDreze/TKKopCTlYPBYABNIxKJEAyF0OnAaDLE256cnGBmZgpFUVZmbd0fwu7IyAjzC7FCbJqmEQ6HcTgTKCwqJDs7G70eQqEQ6lm8Pg31WJG0Y9t/aSpo6knX7pwu1yVL1mwLIYR4w3IlJWMyW+jZv5v9u3ew4aprKSqpWHHMC089RsehVlLdGdSsaXzV55ydmaS3u4P0jKyzel44EmJ0eIDerg48nleu8BoKBRk+2svczDQLc7OvtstCCCFeBfWE79fHP9I0FVU9twJpOp2evLxc7rn7T/H7A+zd14zBYKKkpIx77kkjGo3y1FNPkpuTy+DgUZ5+9mkAbrjxJnJycvB4luIzstVo7Px63R/GSGfmZpianqagoPCELa9X/szxLi8zMjJMenoGoVCI3t4eioqKecttbyUcDrN3XzNz83NnPsKtO96f2PZf6oqfcbGP1VN6ISRsCyGEeMPKzSukum4t+3a/xJH2g/R1d1JYXB5fY9be1sL42BCqqnLjbe8AYtMBVVVFVZXYT32dDoPBsKKIzPG78Md+d4iNDhw7bvPWG0lOdmN3Olb0RdM0VEWJjwLo9HoMBsNp17tpx0Yl0LTY+Q2GVY872fG+a6r2R88hhBDi1dHQYj8vTqKqKqpy9tPIl7xLbN/5EkNDg/F2JqcmMRlbaW7eHT9uaGSIsfFRFj2L8S24vvXf38Tj8RAIBOjs7GBsbIy5+XkWFxdZ9CxgMpmIRCLMzs7y3HPPcvjQIUZGRxg8OojNbmd4ZIiHH34Ij2cJr9fLk79/ktbWVoZGhgiFQkxMTpCRnsGyb5mBowPMzp7tzV4NVYmgqFH0qxWO0yRun0zCthBCiDcsV1IylXUNZOXmMzE6zEBPF8Gtfmz2WBDe9dKzeD0eDEYjN94am/a9MD9LT+dhjvb3EI2EsTsTKKuspbi0AoczAZ1Ox+T4KJPjoyQlpxDw+znScQC73ck1224mJ7cAs9mCyRTb9kvTNKKRCJMTo/R0tTM2PIheryc9M5vK6noysnNPqV4eCoUYGujl0IG9BP1+Kmrqqahegysx6RXDeTAQYGxkkO7OQ8zPzeBOy6B2TROZ2bkYTSYJ3UIIcb5pp9tnW0FTz75AWigUYnh4mJnpGQwGA5FohGAwiNlkZnR0FEVViEQiRJUoszMzaBoY9AbCkTD79+/HaDJitpjwLHkIhUMEggGCgQAaGrpje21rmsbU9BQL8wsoqoJv2YeiKUQiYfqP9oMKZquJ6elppiamQB97jR2dHfT29aLT6QiFQijK2a7b1tCU2DTyVa+ZrNk+hYRtIYQQb2hFJRXU1K9jfGSIro6DjI8MUVJRTSgYYP+ul1j2LlFRXU9JeRVLngW+9A+f4IXf/xa7w4nJZMbvX8ZqtXPnPffy5x/6BA6ni8ce+Qnf+8aXqW1oYnF+lsnxMcxWKyVlVfz2/x7koQfuIz0ji8d3dKBEo7TufZmvfOFTjA0fxeF0oShR/D4fZZU1fPRvvsDGa65b0efd25/jJ9//JoGAH/+yl3A4xC1vfRef/Pt/JdWdvurr9PuW+d2vH+YnP/gmM1PjWCw2gkE/6RnZfOofv8LmrTfIvt9CCPEaOGXDKk1D1aKoapSzHanV6XQ4nU42b9xMUVER+1v207y3mYaGBhrXrmN0dITtO7cTDAV585tvJyM9g9bWVnbv2UVUibJp/SbWrl2LpsGRI50MjwyzvukKkpIS0esNKIpCX38vJqOJ3NxcDAYDmqbR29vL4tIiNVU1OJ1OFEVlZGyY9sPt1NXWEY0q7NmzG2eCk7raOianpujobMfv95/FdeLY3uPR1ffolmLkp5ACaUIIId7Q8gqKqa5fi9lioaujjZGhAVRVpePwAcbHhlGUKNtufgtGk5nml1+k/eB+8gpLuPOeD/D+j32GK6++jiXPAnt3vURfd+eKttvbWjCYTGy4ais333YnGVk5sW1YTuD3+3juqccIBgKsabqS9374r3nH3fdSUFxKd+ch9u1+Cc/iworntDbvpHHDZu792GfYdssdmMxmnnn8UR756Q9WfY2aprF/zw4e/sl9zM/NsPHq6/nzD/01W66/lbnZab76T59mYmzk/F5YIYQQQKzy+Cl/FCW2x/Y5jNbarDbKy8vZvPkqKsorcTgclJdXcNVVV1NZWYXdZic1JZX1Teu58sqNNDY2YjKZSE1J5fbb7yAtPR27w8GWLVspKy3DarOSnZ1DTU0NqampmE1mCgsLqaqqISUlFYPBiE6vx53iZu3aRtLTM0hLS+OGbTdSV1tHXl4+9fVryM7OpqioiPLyCmw22zmMRMemkavHtkQ7+Y/K+avcfqmQkW0hhBBvaFabjZKyavIKihno7WKgt4v1m7bQuudlvEsebHYHG6/ZhtFoJL+whD//0F9jtVq5/pa3sez14HA42P7sk4SCAXzL3hVtOxNc3PvRz3DDLXcQDoewO5ynnN9ssbDxmm2UVlRTWFJOeVUt46PDzEyOc7SvG8/CPMvepRXPWXvFJj7x2X8hxZ1OKBTiaG833Z1tbH/md7z/I39zyjlCoSCHD+xlsL+b2rVXcOef3kvtmnVMjl9PX3cHR/u62b3jefIKis/vxRVCCIGmrjKyrShoyirrks+ATqfDbDZjtztITk4mNSWVpKQknE5nbG9rvZ40txur1UYkEiEnJxejyUhqSioZGek88cTjDBwd4Lprt7HsW+aFF54nEAxQX1tPc/MeOjo7yMjIwOdbZs+e3XR1d7HkXWLNmjWYzRZaW1uYnZ3lT/7kLtxuNwsL82RkZFJQUEBycjKapjE3N7fqDh+vfKFAU6KxKfaKduq2Y6oMbZ9MwrYQQog3vOLSCiqq19Df08WB/btp2nQNba178Pm8bLzqOjIyc9Dr9ZSUV6NDx+jQAI8+eD9DR/s40nHwtO0WFJVSWFyG2WLFfNK66+PMZguNV2xioKeL8bFh9u16if6eTjoOxbYZC4dDRCMRdPo//NbRtPEa7I7Y+nCr1cqVV19HV8dB5udnThkFB1iYm2FyYgxFUQgHA7z84jO0H2wBIBKJoNPp6Go//esQQghxbjQ4dV22ph4Llec+UquqKoqi4HA4yM3JxWa1EY1G41tkZWRkEgqFmJubJTs7G5vNSjAYJBKJkuBMYHh4mF8++ghz83MEAn48iwuEQkHm5uZYWFggEo0SjSr4fD4WPYt4vd5j4VljcXGR6elpIpEIiqowODxIWVk55eUVmM1mpmemWViYP/u9ttFilcijkVXXsmurTy6/rEnYFkII8YaXnpVNeXUd25/7HV3tB3n+qccYGRpA0zS23vhm7I5YwbTWvS9z/7f+g57OQ2TnFZCemYM7LZ3u07TrTHBhtlhe8dzBgJ9f/eLHPP5/P8OzuEBBUSlJyamkpqUzMzWx6nNMJhMn1jIzmczxj9VVfkEJh8OEQ7F9uWenpzi4fzdmc6xf7rQM3GkZZGTlvGI/hRBCnAPtdCPbsRHcc6WqGn6/H5PJRF5eHgA+3zLqsXNlpGfg9XoZHBygpLSERFcSI6MjdHS0U11Tw/DICHv3NbOwuIDZvHq9DpcrgTVr1uBKdNHS2hLfdaOgoIDUVDd6vYGJiQnGxkbxeDwUFRUTCPhp7zjMsm/5HF+XEttnW1XRTiraqck+26eQsC2EEOINz2g0UVldT35RKZ2HWnn2d79iYX6OzOxcahua4oH5B9/6d1qbX2btFZv4wMf+loLiMvq6O3j5xWdWbddmc2A8IQifTNM0JifGeOC+bwBw023v4PY778HhSOCXP7ufrva2VZ/X29VBOBzGarMDMDkeW29ttdqw2x0szM2sON7hTMCZ4AKgrKqWt9x5D1m5+UQjEfq6O7FYrZRU1JzFFRNCCHFmtFPCtqapxypun3vY1jQNr9eLoqjk5xcQjUbxeDxomoZer8edlsbi4gJDw0Po0JGRnkFffx9P/O5x3nL7HWzZshVVU9ixc0d8y8mTWa02cnJy0el0dPd0o9Pp0Ol01NWtAcBoNDI7N8viooexsTFqamrx+ZaZGJ8gGAye2wtTldjotqqAbmWNk1NuWggpkCaEEOLiUFpZQ2l5NXq9nvHRYQJ+H5u23EBqWgY6XezH2ejQUdDpcDoTyS8qJRjws3/PDiC2l/bZrk/TNA3fspfFhTmMJhPp2TmkZWQxPNhH57Fp5Ktp3vE8zz75a460H+S5px5j3+6XMBgMVNc3xkP1iVyJyRSVlONKTGJyfATP4gLOhEQW5ud4+cWnefHpJ4ie7do6IYQQZ0Q7+X9qbBo5r2IauaZpLC97iUTC5OcXoKoKXm+sbojNZiMpMRHg2Gi0jpycHKxWK4uLizzzzNMsL3vZtHEzeXl5GAyGVc/h8XhoPdDKjp07mJ6eRlVVNA2Gh4fo6enGYNCT5k5D0zRGRofx+ZaZn59ndn727Ndrw7Ft0mI3IlRVOeW6STnyU8nIthBCiItCUnIqFTX1vPzi08zNTmMymblqyw24XEnxY67ZdgsP/+Q+Drbs5mtf+nuUaJT+3iM4E1z4/currpd+JTqdjpRUNyXlVQwd7ePxRx+k70g7c7PTjA4dxWAwEvD7CAUDWO32+PPsTic//cF/k56ZzfTkOJPjo5SUVfGOu+9d9Txms5krr97G4QP7ePmlZ/jFj7/LzheeZmJ8mMG+HqrrG0lMTFr1uUIIIV4FjVNDtarGC4G9Gl6vF3/AT3p6Gl09R+JTt5OTknE4nNjtDgwGA0ajkby8PLKyMtmw/kp27dpFS+t+br3lNvJy85icXH3JUjAYYHh4iO6eboLB4LHq4hrd3V2Mjo9SWVlJeno6RqOBxcXYum6Px3PCsWdJF7uJoCkRNCWKTka2/ygJ20IIIS4Ker2edRuuYmJshNGho6S606moqcdk/sM08Lvf9xH0Bj3dnYeYmhgnr6CYd7/3I4yPjjA1MYbd7kBTVQpLytl6w5upbWjCbnesOE9JeTVbrr+VxKQkdDod7vRMPvKpf+SZJ37F2OgQszNT1DWs55rr3sSR9jaSU9yg02G3O1m7fjNJyW5uuPWtDA700NayF2dCIrfc8U5uvv0d1DdeAcTWiq/ftAWvx0N+UQkARaXl/PmHPklhSTlH2g8yPzuNy5XEO+65l21vup3cgqLX72ILIcRlIpa1V4ZtTVVjI7er1Ng443Y1jWXfMh6PB4PBiG95GZPRhNViw+12Yzab6OvvY3JqkpKSErKzc7DbHWzefDWBQBCzxYTBoEenO7nk9x/YbHaKiorQNJiZncFqjRX6DAaDeDweotEoZrMJnU5HVFFQFCVWpO1VheJj238pUdCftJZc1myfQsK2EEKIi0ZhSTnvfu+HCQQCWK02UtMyV/wikldYwns//CnmZqZQVRVXYjLutAy8S4v4lr24EpNAp+OKzddSXl0f25YlNW3FOa669kbq116BwRi7Y282W9i89UZKK2rwLnkwGo240zIxWyxcc/0taKpGcqobs8XKO+5+P8FggIzMHDaGt7Ht5juIhMMkJqWQnZOH/thUQHd6Jne/76MoUQVXUjJwbF16bQNZufnMz84QDAYwGo2kpmWQkuKOP1cIIcT5pJ2yP7SmKajquVcjV1QFX8CHEo0yMzPNxMQ4M7MzaBq4EqLY7XaWljxs3/4Sg0ODpLnTKC0pZXFxgfHxMdata0LTNIaHhxkaHiISiRIMBvF6vYQjYTQ0AsEABqOOuto6igqLOdLVSTgSxutdIhQKEQ6HWVryEA6H0TRQolGWl70EAv7TrgE/s8sVKx6nKgqYVrajoko98pNI2BZCCHHRMJstZGbnveIxaemZpKVnrnjMarORlpEV/zw5JZXklNRVn5+SmkbKCQE8tl+qZdU9rk9ef52V84e+2R0OkpJXP4fFYiUnr/CUx/V6Pckp7thouRBCiNeFppxcIE07NrJ99tPIY2u1lznQ2oqiKng8HlRVpa+/D6dzFKvVSjAYYH5hnoGjAywsLLDz5R0MDh5lbm6OJ3//OwrzCwEdI6PDjI6OEg6HGBgYIBAIMjk1STgcpqOjHd/yMgaDAVXTGBsbxefz8Yz6DCNjI3i9Xrbv2I5nyUMgEEBVVXbv2YVnaQmf3/fqrpcaRVWj6Fa5bmIlCdtCCCGEEEKIy5MWG9te8ZCqghKFc5xG7vf7Odx++FhoV5mcjAVkvT42LVzTNAyGnnhF8I6ODnp6evD5/Bw+dJienh6A+Ai1pmkMDg0xOjYW2ztbUeju7mZgYCA+uysSiaCqKsPDw4RCIRRFYU/zHlRVJRwOEwgE2N/SEv/8nC+XpqFGo2iKssp1k2nkJ5OwLYQQQgghhLhMaXDyCK2ixsLkOU63VlV1xdZaf6zydygUIhQKxT4OhwiFQ6ccE4lEVrRz4nNOdGKQDgQC8Y81TVvx+bnT0NRY2D75uqFJNfKTSdgWQgghhBBCXJZy0lP4+t/+2UmPHg+UUSQ8nkwHej06vSm+7eZxZpMRh81ygfr1xiRhWwghhBBCCHFZMhoNpKW4/viBQpwDCdtCCCHOiaIo3LG19kJ34zWhKArhUIhgMBibtqfTodPpsJjNmC0WzGYzer3+jzd0kTGZzNxxxx0XuhtCCCHEJUGnSdk4IYQQlwlN09A0Lb7XqKIo+Hw+enp6OHjwIHv37qWtrQ2/38+GDRtoamqisbGRjIwMOjo6OHDgAPv27WNgYIDMzEwaGxtpbGykrq6O/Px8rFYrRqMRg8GA0Ri7n/1Ke6QKIYQQ4tIlYVsIIcQl63gl2OPBOhwOMzU1RWdnJ62trbS2ttLV1UVWVhZNTU1s3ryZtWvXUlxc/Ioj18vLy3R3d7N371727dvHgQMHCIVCVFVV0dDQQGNjI2vWrMHlcq0I38cr0QohhBDi0idhWwghxCVDVdV4hdZQKITP52N4eJj29nYOHz5MZ2cnkUiE8vJyGhoaaGpqor6+nsTExFcdgicmJjh8+DAHDx6kpaWFI0eO4Ha7qaqqorq6msrKSoqLi7HZbFgsFqxWKyaTKT4CLoQQQohLi4RtIYQQFyVN0wiFQvj9fvx+Pz6fj4WFBXp7e+nv76e/v5+RkRESExNpaGigvr6e+vp68vPzsVhe+2qp4XCY/v7+eNBvb29namqKwsJCSktLKS0tJT8/n/T0dOx2Ow6HA7vdjtVqvSTXgwshhBCXGwnbQgghLgrRaJTl5WU8Hg9LS0ssLi4yOTnJ+Pg4o6OjDA8P4/F4qKyspK6ujqqqKiorK0lJSbnQXQdiNwe8Xi+dnZ0cOXKE9vZ2BgcH0TSNvLw8cnNzyc3NJTMzk6SkJFwuF4mJiSQkJGA2m2X6uRBCCHGRkbAthBDiDUdVVYLBIPPz88zPz7OwsMDMzAyzs7NMTU0xPT3N7OwsKSkplJWVUV5eTmVlJUVFRRgMhgvd/TMWiUSYmpqiq6uLnp4euru7mZ2dxeFwkJ6eTlpaGm63m7S0NFJSUkhOTiY5OZnExMSL6nUKIYQQlyMJ20IIIS44RVFYWFhgamqKmZmZeLA+Poq9tLSEqqpkZ2dTWlpKSUkJpaWlJCYmXnJTrr1eL2NjY/T19dHX18fAwACRSASn04nL5SIhIYHk5GTcbjfp6em43W7cbjdOp1NGv4UQQog3EAnbQgghXnder5epqSnGx8cZHx9namqKYDCI3+8nHA4TjUZxOBwUFBRQVFREYWEhmZmZWK3WC931C2J6eprh4WGGhoYYHBxkfHwcvV6P1WqNF1tLSkoiIyODrKwssrKycLvdr8vadCGEEEKsTsK2EEKI11QkEmFmZobR0VFGRkYYHR1lfn4eRVHQ6/WoqorRaCQ7O5vc3Fzy8vLIycl5w6y1fiMKh8NMTk4yMjLC2NgYY2NjLC4uomkaOp0OTdMwm82kp6eTm5tLdnY2eXl5JCUlyfRzIYQQ4nUiYVsIIcR5o2kafr+f8fFxRkZGGBkZYWJiAr/fH5/irKoqLpeL7OxsCgoK4mHQbDZf4N5fvFRVZWlpKV4sbmRkJD5b4Ph11zSNhISEePA+ft0v19kCQgghxGtNwrYQQohzpqoqU1NTDA4OMjg4yNGjR1lYWECv12OxWLBYLDgcDtLS0sjMzCQ7O5uMjAwp8PU6iEQizM3NMTExwdTUFBMTE8zPzxMMBuP7kIfDYTIyMigoT+WxaQAAIABJREFUKKCwsJDCwkLS0tJk728hhBDiPJCwLYQQ4owFAgH6+vro7+9ncHCQnp4eotEoiYmJ8e2qUlJSSEtLIy0tjfT0dFJTU2X09A3C7/czNzfH9PR0vBDd4uJivAid1+vFYDCQn59PaWkpRUVFFBQUXJKF6IQQQojXmoRtIYQQq4pGo0xNTdHb20tXVxddXV1MTU2RkJBAZmYmqamp8VCdkpJCamoqycnJOJ1OGbW+SGiaxtLSEgsLC/Ft1mZnZ+NBfG5ujsXFRRITE+Pbq5WXl5OXl4fJZLrQ3RdCCCHe0CRsCyGEAGB5eZn+/n46Ojpob2+nu7sbTdPia3xPLLKVmJhIQkICLpdL1lpfQjRNIxKJ4PV64yPdi4uLTE1NrShwFwgEKCoqorq6murqampra6WgnRBCCHESCdtCCHEZUhSF6elpDh48SFtbGx0dHQwPD5OSkkJ5eXl8L+uMjAwcDgcOhwO73Y7NZpPpxJcZVVUJh8P4/X58Ph8+n4/5+XmGhobo7++nv7+f3t5eXC4XdXV18T9lZWXY7fYL3X0hhBDigpGwLYQQl4FQKERXVxctLS20tLRw6NAhAoEAtbW1VFVVxacHJyYmxvdutlgsGAyGeDVrIY5TFIVwOBwvshYMBhkZGeHIkSN0dnZy5MgRJiYmKC4upqGhgbVr17J27VoyMzOl+JoQQojLhoRtIYS4BI2MjHDgwAFaWlpobm7m0KFDFBUV0dTURFNTE/X19RQWFmI0GjEYDPH/l2AtzpWiKCiKQjQaRVEUvF4vHR0dHDx4kNbWVg4fPgzAmjVrWL9+PU1NTdTV1eFyueTfnRBCiEuShG0hhLjIBQIBenp6aG5uZu/evbS2thIMBqmsrGTdunWsW7eO+vp6nE4nRqMxHqyliJl4LWmatiJ8h0IhJiYmOHToEK2trRw8eJD+/n7y8/NZt25d/EZQWVnZhe66EEIIcV5I2BZCiIuIqqrMzc2xf/9+du/ezY4dO+ju7iYtLY2NGzdy5ZVXsmHDBoqLi7FYLBe6u0K8okAgwKFDh9i7dy/Nzc3s2bOHubk5Nm/ezIYNG7jyyitZu3Ytbrf7QndVCCGEOGsStoUQ4g1EVdVTpuMeX2t96NAh9u/fj8fjobq6mk2bNrF+/XrWrFlDamrqhe66EOfF3Nwczc3N7N+/n/3799PZ2UlSUhKNjY00NjbS0NBAcXExdrv9lCUQMh1dCCHEG4mEbSGEeB0c/1Z7YhjQNI1oNEooFCIUChEMBpmfn6e7u5vDhw/T1dVFe3s7aWlpNDU1sXbtWpqamigqKpLttsRlIxwOMzAwwMGDB2lpaeHAgQMsLi5SWFhIRUUFNTU1VFVV4Xa7VxT3M5vNp7zfAAnkQgghXjcStoUQ4jWkqiqLi4tMTk5iNBrJzs7G5/Ph9/vxeDxMTU3Ft07q7e3F5/NRVlZGXV0d1dXVrFu3jqSkpAv9MoR4Q5mfn49XPW9ra+PIkSOYTCaKi4spKSmhuLiY/Px8XC4Xdrsdh8OBqqpMTEyQnp5OamqqbGEnhBDiNSdhWwghXgOKojAxMUF/fz9PP/00Dz74ICUlJdx9992MjY0xOjrK1NQUNpuNqqqqeLguLCyUtdZCnKVIJML4+DidnZ3xED46OkpaWhq5ubnk5uYyNzfH/fffzx133MG73vUuSktLSUlJkdAthBDiNSNhWwjxumhpaWF+fp7L4VtOJBLB6/Xy7LPP8pvf/Ia5uTkAXC4XRUVFVFRUUFVVRXl5OcnJyRf1L/upqamsW7fuQndDnEezs7McPnyYSCRyobvyqgSDQfr6+ujp6aGzs5O2tjZ8Ph+qqlJUVMQ73/lO1q9fj9Vqvajfg2fDbrdTU1NDcnLyhe6KEEJcFiRsCyFeF3fddRcRTJhMl/ZaYw0I+AMsLi6wuDDH8pKHxcUF/Mte0jIy2XzNdRe6i+dV0DvPb37z6wvdDXEevfDCC3zxn/+NzJz8C92V82bJs8jzT/8Og9GIy5VEUkoqrsQkklNSSUhIuGy2wVv2zPP3n/00mzdvvtBdEUKIy4LxQndACHF5WFzy8snPf42MrJwL3ZXXhX95meGhfsZHhhgeGmB6YoycvELufv9HL3TXzqt7btt0obsgzrNIJEJJRS1/+dl/vdBdOS80TWN06Cgmix13WgbZeQUUlpSTnVeAOy3jkr8BeKJvfuUf8Pl8F7obQghx2ZCwLYQQrwG700llzRoqa9YAsUJp0ejFPS1XiItVRlYOn/u3b2CWeghCCCFeRxK2hRDidaDX6zGb5Rd9IV5vOp1OQrYQQogL4vKoCCKEEEIIIYQQQryOJGwLIYQQQgghhBDnmYRtIYQQQgghhBDiPJOwLYQQQgghhBBCnGcStoUQQgghhBBCiPNMwrYQQgghhBBCCHGeSdgWQgghhBBCCCHOMwnbQgghhBBCCCHEeSZhWwghhBBCCCGEOM8kbAshhBBCCCGEEOeZhG0hhBBCCCGEEOI8k7AthBBCCCGEEEKcZxK2hRBCCCGEEEKI88x4oTsghBDnauhoHwB5BcXo9SvvHSqKgmdxnoDfT0qqG5vdcSG6eFYCAT9zM1MkJqXgdCag05+/+6FzM1N4vR4Ki8vPW5tCvBJN0wgFA8zNTuP1LBKJhDEYjDhdibjTM7HZ7Oh0urNuNxqNAhpGo+n8d/pV8vuWWZibxZWUTIIr8by2PT01QTQSIS0jE5PJfF7bFkII8dqQsC2EuGh97Ut/TyQc4ROf/RfKqmpXfC3gX+bFZ56go62Ft73zz6lZs+4C9fLMDQ308rP//Q433vo2Nmy+FpP5/P1C/fvHH2XnC7/nOw/85ry1KcTpqKrCzPQke7Y/z56dzzM5Nkw4HEan05GRlcPmrTdy1XU34U7LPOVG2StZ9i7R3XmIBFci5VV1r+ErODc9Rw7z64ce4Mbb3s6ma64/r23/5uGfMDc7xfs+/CnSM7PPa9tCCCFeGzKNXAhx0Wpt3sXu7c9y33//O3Oz0yu+FolEGB0aoKOtBc/i/AXq4dnR63SYjKbzOqJ93NBAL/v37Djv7QpxMk3TmJuZ5mc//A7/+93/IhIJc9W2m3nbu9/HtTfdTjQa5cff+zq/eegBlhYXzqrtgb4ufvy9r79h/y3r9HqMJiN63fl/Dw/0dHLk8AFCwcB5b1sIIcRrQ0a2hRAXtdS0DHZvf5ZHf/ZD3vfhT2E0nb+ppZqmEQmHWV5ewmy24HAmoNPpUBQF3/ISqqLiTHCtek4lGsXjWUCn0+FKTMZgMKx6jlAoSCgYxGqzkV9Uxr1/+bckuBIxmlZ+ew4FgywtLWKz2XEmuE49n6Lg9y0TCPixWq04nAkYDPItXrz+QqEg2597iqcff5Tr3vQW3v3ej5CTVwCApqoM9HVz3ze+zO9+/RD16zbQtOFqDMY//Ftd9i7hW/Zis9txJiSuGPleXvIwOz0JmnbKeVVFYWlpEUVRSExMxmA0njJNXdM0wqEgvmUvZos1/p5eTTgUYmlpEYPBSHJK6qrHHJ8qHwoFsdudlFfW8v6PfgZXYtIpxy57l/D5lklKSsZitZ3y9ePv4WAwgNVqxW53rrguQgghLj7yXVwIcVGrql9LNBzh0Qfvp27tejZeve20x7Y072RooJeN11xPVk5e/PHdO56j/eB+PvCXf4uiKLQf3E9bazNXXnUdLz3zBNNT4zgTXFyxaQv5RWW0tTTT3raPaCRKcVkF2970FtzpmfFf2g8d2MfenS8wNTGGzqAjv6CEdVdeTVVtAwATYyO0NO/AZnOw5Fmk58hhqmobKC6voqNtP/WNGyirrMVo1BPw+9j5wu/pPHyAxYV5ElyJVNU2cMXmraS601GiUQaP9rJv93ZGBvvxLS9js9nILShm89YbySsoktAtXlc+r5cn/u/nuNMzufPu98eDNsRGfkvKq7j9T/6U5p0vYHckcDw2D/R20fzyC4wND+L1erA7nBQUlrJ+81ZKyio52t/D7379ELPTk+x66VkSk1NpuvJqMrJy6O85wt5dLzI00Es0GiEtPYu1V2zmik1b4ucOBgK0teyhpXkH83OzJLgSqaiuJxqNkpScQuMVm7E7nISCQQ7s38XBfbuZnprAaDKRX1DCVdfeSGFJrObBwtwszz31a1yJKUyMDTMxPsKaxg3kFRTTcaiVhqYrqaiuB2Budpq9u17kyOGDeBbnSUlJo6Kmni3X34LN7iAaiXC0v4fml19gfHSIYMCPzeagsKScjddsIyev8JzWtgshhLjw5DcwIcRFLTk5ldvefjdf+PSHeOC+b1BUUkFmdu6qx7Y072T7s7+jqLRyRdjes+N5fv6j/+EDf/m3qIpCW2sz3/v6l+jr7kCJKlisVg7s283B/bspLKkgGPDjTHAxNjxI887nMZnM3PyWu7A7HLTu3cV93/gykXCI+qYrUaJRdr74NAf27ea9H/5rahuamBwf5dcPP8DykofklDTC4RBJKSkYjAYeeuA+zGYLxWWV6PV6fv6//8OTjz1MflEphcXlTE+O8dP7v8XI0AB/9oGPMz46xE9/EPu8uKySlFQ3k+Oj7Nl5P6NDR/nAX36GFHf66/XXIS5zqqqyMD/DQF8XW66/mfzCklWPa1y/ieq6tbGZIUYjI0MDfP+/v8L4yDB1a9eTkZnD+OgwP//R/9DVeYhP/cOXY7NMvEuxEWC/D9+yl2g0Sm9XBw/e/y2GjvZSUbOGhMRk2tta2LPzeRRFYePV1xGJhGnd+zI/+PZXiUaj1K+9Ao9ngf/7xY8YGRpgy7ZbqKxtwGyx8uzvfsWvHvoRdkcCJeVVBAMBfvWLH7F/z3Y+/nf/SlFJOQvzs/zk+9/E5nBitdoxmy2kpKajKAoP/+Q+bHY7FdX1LHkWeOSn32fH809RWl5DRlYOA33dvPjMEyzOz3HXe/6C8dEh7vvml5mfnaGiZg1JyW6Gj/axb/dLLMzP8vZ3v49UeQ8LIcRFScK2EOKiV9fQxJ333Mv/fue/eOyRn/Dej/zNq25TVVUMBiN3v++jOJwJvPD04/z4u18DdNz1ng9S17CeqfFRvvblz9GydyfXbLsZvV7PL378XWamJ/mbz3+FqtoGFEVh367t/OQH3+S3j/4sXsgtEg4DOjZtvYGq2gbc6ZmMDR9d0Yf+3iM8+rMfUr2mkXs/+mkyc/KZGBvmZz/8Ntufe5It225hfHSI4aN9XL3tZm5689uxORzMzUzzP//vX9i/Zwd3veeDErbF60aJRpmaGEdVFbJy8tGfZvmEze5YsUPAoda9tLe18IGPfYZNW27AYrUxMTbMj7/3dVqbdzI6dJSisgpuuPVtjI8OsWHzVm649a2YzVae+L+f093Rxlvf9V6uuf5mrFYbg/29fP0r/8APvvVVGtZtIBQK8dgvf0rQH+CDn/g7atasY9m7xBP/93P6uzvj/Rga6OWJXz+Ew5nAu977USqr6wmFQ1TUrOE///kz/PKnP+DTX/gqENs9wGZ38I673092bj5JKW4G+3tWvM6D+/fwzBO/YvOWG7jjrveQlpHF+Ogw//FPn+G3jz7Ijbe9nb7uTkaHBnjbu9/P1utvwWS2MDo0wI+++18c2LeLq697k4RtIYS4SEnYFkJc9MwWK29+27s41LqXJx97hJo1TVTXr31VbdpsdrbecGt8KmhFVR1JKW6Kyyq55ro3YXc4yczOxZ2WgWdxgWg0ytBAL20te9hyw61U1jSgaaDXG6iorqOqtoH2g/sYHx4CYmG+vLqO6266PT7NdmZyfEUf9r78EnNz0/z5Bz9JRc0aABwOJ+/50CcZPtpHUoobZ4KLv/irz1JUVkl6RhahYBC73Y7D6SQY9KMqyqu6DkKcDQ2NcDiIXm9YdV3y6VTW1PPXn/syV151bWxqdTSK2WIlKcVNNBphcWEWq7WB5JRUjEYTCa5EklPcjA0P0t62n8ycfOoa1mOx2NA0KCguY9M113PfN75Cf88RHM4EDrbs4U2338lVW2/EYDTiTstgyw23cujA3ng/OtpaGB0a4C8+/nesXb8Ri8UKwK133MVzT/6a5596jL/4+N8BYDSaKK2o5YZb3orFGjtuaKB3xetq2bMTVVG56bY7KSwpR6/XU1Fdx8c+/QVmpiYwmy2UVFTzV5/9F6rr1pKYlEIwGMCZ4MLhdDE1NSEF0YQQ4iImYVsIcdHT6XSkpKRxz/s/xj999qM88uAP+KD7715VmwaDYcVokslsxmqzYbPZsTuc8WNOXEs5PNhHOBRk367tjA6+L/54VIkyPTGGwWBgfn4GvT422pfqTic17fQjVoP93aiKQvmxwA9gNJkoKauipKwq1nY0it+3zO8fe4ShgV7m52bxLS8xMnxUgrZ43en1BlJS0lCUKN6lxTN+Xkl5Naqq8dAD32N8dJjpyXF8y15mp6eAWCGy1UxOjLIwP8vs9CT/79/+DvMJ+0/PzU6jqgpjI4MkuJKIhsPkFxSvKDqWkppGWnpm/POZqQkAcvMKMZst8cdNZjNllbUc2Psyk+OjmEwmzBYLaRmZ8aC9av/GR0hJSycpJWVFobc1jVfEdx2wWK34fF5++eD9jI8MMz83TcDvY2ToKCnutNVqwQkhhLhISNgWQlwSdHo9VbUN/MmffoAffvv/8euHH4iPSp0oHA6hKNEzbvOEz/5okSJFUdA0aFi3gdLKmlO+7kpMJievkImxEQAsFuuqfVzRHmA6TYV1RVFo2bOD+7/9n4QjIYpKKiirqiW/qIRdLz5D+8H9f/Q1CnE+GQwG3BmZ2B1Oho7GipUZjaf++x08VuyspLyaq6+7ib27XuKB+75BNBqmpLyGqrq1ZOfmc7Svm6cee+S051MUBVVVKa2oYe36TasG37LKGqYmjs0aOek9rNfrV4RgnU6HwWBEf9KNNOCE96oaf+7p3pvHRSLh4y2vePz495ZIJMK+l7fz7f/6Z0xGM6WVNdSsWUdBUSk7X3iagb6uV2xfCCHEG5uEbSHEJUGn02G12dl6/Zs53LqPF59+nMTklBX73ZqMJsKhENFIZMVzZ6cm0FT1VffBnZ6JwWgkIyePt971nvjjkUiY0eFBPIvz8VHx431+pQCfmZ2LXq9nfHSI7NxjWydpGv09nTzy0x/Q0LSRjkOtBIMB/uwDf8WapiuxWKxYrTY6DracdjRQiNeKTqfDmZDI+k1bOHL4AAf27mL9CRXBj2t++UWe+NXP+bMPfBzQ8dAD32NyYpSvfvsBMjJzsNpsqIoavzF1OknJKTgcTlLdaWy7+S0rRqlHRwYZ7OsmMSkF3bHvA+MjQyuevzg/x9zsNHZHAgCupGTC4RBzs9On3CgY6D2CTq8nPTOXhbmZM7oe7rRMhgb7iIRDKx5v3fsyjz3yILffeTe/eeQBopEIn/78V8nNL8JitRKNRjjYsueMziGEEOKNS//HDxFCiIuDTqcjMyuHt7/7vZitVo72rhwVciUmEYlEmJmeJByOjTgND/ZxuK0F5TxMua6qbSAtPYsnf/UQoWAAu8OJze7As7DAN/79H/n5j/6HaDTyxxs65qqtN2I0mnjwh9+OP+ZdWuTpJ37FgX27CAYDLMzN4HA6yS0oIi09E1diEkf7uznSfpCZ6Umi0TMbxRfifHE6E7jt7XeztLjA/d/5TzoOtca/pkSj7Hj+KX776E9JTE6lbu16rDYbUxNjWMxWCovLScvIwpmQiHdpieee/M0p7WuahqrGbiTlF5aSX1RK695dTIwOY7ZYsTucWCxWfvDt/+A//vlviUQiJKe4adxwFbu3P0tbazMQ2/d6z87naW9ribddXb+WFHcaT/32EebnZuOPdxxq5eWXnqG+cQOJSclnfC3q1q4nFAjSum8XoWAw/vhDP/4uu3c8i8OZwMz0JDa7neLSCtzpGSS4Ejna172iX0IIIS5OMrIthLik6A0Gqusbeed7PsjXv/QPK75WXb+OrJw8/vvfv0BbSzNmi4WdL/weq9W2YirpubI7nHz005/nc594P3/61mu55Y53oqkqL7/0NLPTU3z4r/+RpORUhug7o/YqatZw5z0f4Gf/+20mRoeprl/H0f5u9u16ketuvJ1tN92Of9nL97/579z3ja+w4aprmZ2J7UHs9Syi0+kI+P2o52HUXogzpTcYqF97BR/7zBf52r99jk/e+yeU19STlp7J+MgwvV3tuBKT+OTff4myqlr0ej0br9nGYw//lC9++kNcve0WJkaHeP73vyUSCRONRFhcmAfAZLagaRq/+PF3mZ2Z4ra3v5s77noPvd0d/NNnPsKWG99MqjuN5h3Pc7htPx/8xN+TnpmNpmn86b1/xec/9Rf8zQfvpqS8imXvErMzUytmv1RUr+GGW9/Gg/d/i89+9M/YcNW1LPuWefzRn+FwJPDpz3/1rL5XXPem22ne9SLf+o8vcujAXvLzi2lrbaaleScf/ZsvkJtfxMYt1/PA977Ov33u4zRtuoaRwQEO7N/F1NgYySmpBIP+8/1XJIQQ4nVi+OIXv/jFC90JIcSl76cPPsjGLW/CmeA6b22ODA1Qe1LlcZ1Oh8lkJjU1nYTEJLJzC6hv3EBqWjop7jRyC4pZWlqks20/y94l3vmeD7LhqmuxWG1ce+NtaJqG1+vBYDSy4aqtuBJjo1ihUJBgIEBJeTXlVXXx881MTZCVncf/Z+8+w+Oq77SPf6dJoxmNeu+SVS3ZcpF7B2OM6T0kEBLCkgopS56wu2xCNtndbJJNJUtIloSQhJJQQkw1rtjGvciWbVWrWlbvZUbTnheGWQymGGSPLd+f6xI2M2fO+Z0DZzT3/NuU6WWEhdlITc9izsKltB1vYe/2rdTXVpJXWMKdd9/Hsksux2w2B/aVX1hCTl5hYF/O0VFGR4eZMn0WyakZmM1mps+aT0JSCpUV+ynfvQ2Am267i0/e8SXCIyJJTssgKjqGwwf3Ur5nO/jh2k/czoorrgu0eCcmp9Lf20uY3c5Fl145btcf4NknHuHLX/riuO5Tgquuro6KIzXMWXjRR3q9wWDAbDaTlZPPzLmLGHOP0VxfR8PRGvD7WXTRSr70jfspLZuL2WzBYDBQOn02IaFWKg7sYdfWjYyNubn+k5/l1ju/wtDQIKnpWeQWTCYyKhpHZCS93V2EWsPILZhMUck0ppXNw+1xU757O4cP7CEmNo47v/Itrr3pdsyWE8eIjU9gzoKlhNnD8fo8TC6dwSWrrmV4aABHRCQz5iwgPNxB0ZRpZGRN4lhzI7t3bKazvZWLVlzFP3//p6RlZmMwGHC7x+jr66WwZDqT8osC5z46PIzH46ZkWhkpaRlYLCHMnLOQcEck+3e/Qfme7dgdEXzp3n9l5VU3YrWGkTUpn9CwMCr27uLg/l2EhFi57hOfZfmqazCYTOTmTyYpOZWurg7iEpKYVjYPm93+Pv8F3tuOLeuZUpTHpEmnXv9cRETGl8GvQX0ichZcetkqvv7tn5KYnBrsUmQc3XrlfA4dPBDsMmQcrVmzhieffYm77/t+sEsZN8NDg7z6wjPkF02hpHRm4PGK/bv55Q8foGR6GZ/9wtcJd0QGscoz7xc/uJ9brlvFihUrgl2KiMgFQWO2RUREZEJzOkd56bkn+dl//At1NUcYHhqkrbWZ9WtW09rSwKS8ogkftEVE5OzTmG0RERGZ0CIio/j0Xffw03//F+7+7PXEJyYzMjyE2+Xi2ps/w4IllwS7RBERmYAUtkVERGRCs1hCWLj0UvIKS9i7axu93V2EOxwUlUwjJ6/oA9fLFhER+SgUtkVERGTCM5pMJKdmcHlqRrBLERGRC4TGbIuIiIiIiIiMM4VtERERERERkXGmsC0iIiIiIiIyzhS2RURERERERMaZwraIiIiIiIjIOFPYFhERERERERlnCtsiIiIiIiIi40xhW0RERERERGScKWyLiIiIiIiIjDOFbREREREREZFxprAtIiIiIiIiMs7MwS5ARC4Mfp+Xf/rKbZjME/9tZ3h4GLvdHuwyzoq42NhglyDjzO/3s3nDKxzYtzPYpZwVY2NjGAwGLBZLsEs58/xebv/ENcGuQkTkgmHw+/3+YBchIhPf0NAQXq8XMAS7lDNu4cIFbNmyNdhlnBUmk5Hw8PBglyHjyO12MzIywoVwrwI89OuHiHA4+NSnbg12KWecwQA2mw3zBfClp4jIuUDvtiJyVlxIgcxgMBAZGRHsMkQ+EovFQmRkZLDLOGusoaFYrVbdsyIiMu40ZltERERERERknClsi4iIiIiIiIwzhW0RERERERGRcaawLSIiIiIiIjLOFLZFRERERERExpnCtoiIiIiIiMg4U9gWERERERERGWcK2yIiIiIiIiLjTGFbREREREREZJwpbIuIiIiIiIiMM4VtERERERERkXGmsC0iIiIiIiIyzhS2RURERERERMaZwraIiIiIiIjIOFPYFhERERERERlnCtsiIiIiIiIi40xhW0RERERERGScKWyLiIiIiIiIjDOFbREREREREZFxprAtIiIiIiIiMs4UtkVERERERETGmcK2iIiIiIiIyDhT2BYREREREREZZwrbIiIiIiIiIuNMYVtERERERERknClsi4iIiIiIiIwzhW0RERERERGRcaawLSIiIiIiIjLOFLZFRERERERExpk52AWIiEwEg4OD/PrXv+bYsWN0d3fz1a9+lbi4OO677z4sFkuwyxORt3G73bzxxhs899xzHDhwALvdTmlpKTNnzgx2aSIiMoEobIuIjIOQkBAOHjzImjVr6Onp4amnnmLlypUYjepAJHKuMRqNtLW18dRTT9Hd3U1sbCxNTU0K2yIiMq70KVBEZByEhoayatUqoqOj8Xg8uN1uPvGJT2AymYJdmoi8g8lkorCwkOnTp+Pz+UhPTyc2NjbYZYmIyASjsC0iMk5WrlxJaGgoAAkJCSxevDjIFYnIeykoKGDRokUNny3tAAAgAElEQVRYrVYKCwtJTEwMdkkiIjLBKGyLiIyTyMhILrvsMqxWK7feeis2my3YJYnIewgNDaWgoIDk5GQSEhLUsi0iIuNOYVtEZJwYDAZuv/12IiIi+NznPhfsckTkfRgMBubNm8fy5ctJT08nOjo62CWJiMgEY/D7/f5gFyEiE99dn/8CO3bswOfzBruUM8rn89PR0UFiYiIGQ7CrOfPmz5vPww//OthlyDjaunUr3/rWffQP9Ae7lDPO5/MzMDCAyWTC4QgPdjlnXGZmJt994AFNBCcicpZoNnIROSsam5r4r4eeJDE5NdilyDi69cr5wS5Bxtnw8DD5JTO5+77vB7uUs8Lr8QBgMk/8j0S/+MH9dHd3B7sMEZELxsT/zSIiIiLyHi6EkC0iIsGhMdsiIiIiIiIi40xhW0RERERERGScKWyLiIiIiIiIjDMNVBKRC5LbPYbP58NitmAwGjFcCFOHi5yH/H4/Pq8Xr9eLyWTSGGsRETlv6DeWiFwwxsZctLW2cLylic6ONsZcThwRkUTHxpOanklyasbH2r/f56Ors4PY+ASMxjPbccjv9+NyOfG43YQ7Is7osUTONr/fj8fj5lhTA+3Hj9Hb3cno6Ag2ezhxCUmkZWQTG5+I+WMEb4/HjXN0FIslhFCrdRyrP7XhoUEMBiM2u/2MH0tERM4NCtsickEYHOhn9/bNvLr6aXZvf53e7i78fj8Go5GUlHTK5i3mius/yfRZ8z9SUO7t6eLwgX3s27WVO+/+FlZr2Bk4ixPGxly0NNZzcP8uYuMSWLjs0jN2LJFgcLmcbFn/Ki8//xcq9u+ms+M4cGLm8OTUdOYtWs7Kq26ksKSUsDDbae3b7/PR19dL+Z7t9Pf1MHPOQtIyss/EaQAnQn1ddSU7tqynbO5iJk+dfsaOJSIi5xaFbRGZ8FwuJ9s3r+ORX/2ImspDJKems2DpJdjDIxgc6Ofwwb08/9c/Unn4AN/6zo+YNmveaR9j09qX+NP/Psjo8CCf+cI34AyG7e7Odp549CG2b17Pdbd8VmFbJpytG1/j5z+4n+PHmomNT2DRxZdht4fT29NFbdVhnn3i9zQ31HH757/GzDkLMVssH3rfrjEXu7dv5qH//h7JaekUFpeewTOB7s4Ofv/rn7DptRf4rwcfO6PHEhGRc4vCtohMeI1Ha3npb09RW3WY3IJirrvlM5TNW4zDEUV/Xw/bt6zj0Yd+StWhcn774A/58UN/whpmY2RkmP7ebkJCQomMjsXy5gf6wYE+Bgf6sVptOCKjGBroZ8eWDbS2NGIPd9DW2kxcQhIRkdF0d3bg8boJD3cQEmqlo60V5+gIUdFxJ3U3H3M56e/rxe0eIzI6FpvNjsFgwOvx0N52DDAQERlFaKiVuuoj7Nv1BoMDfQwM9NHZ0RZ4TuR819fbzW9/+V+0tjSRkTWJWz77JWbNX0K4I4LuznZeX/cyq5/+M7u2vU58UjKpGVmkZWTT39vDyMgQZnPISffWQH8fQ4P9mC0hxMYl0NvdycF9O2k4Wk10bByd7cdJTs3AGhbGYH8/Ltco0TFxmExmWlsacbmcxMYlEpeQGKjR7XbT3dkO+LGHR+CIiATAOTrCQH8fHo+b6Nh48Ps5WlvJwb07cDmd9HR30trSSEpaZjAurYiInGUK2yIyofn9fqoOlVO+ZwchIaFcdvVNXH7tLYFxzglJyaRn5tB4tJZnn/g95Xu2U3monJJpZVTs383Tf/5fsiblc+On7iQhKQWAbZvX89qLz1I8dSarrrmZ1158lsMH9+EeczE04ONX//095i5cxjU33c6Tf/g1nR3HKZ46E6dzlPI92xlzOolLSGTxxauYNW8JjshIjrU08vxf/six5gZu+NSdzJg9H4slhIGBPn76H/+C2Wxh1TU3MymviD898iAd7cdxjY6yZcOrGA3GE8/lFwXzUouMi13bXqf68AFsNjuXXnUD19z0aUJCQwGIT0giLiGJ3u4unn3i9+zevpnlq64lLSObTWtfYscbG0lKTuOue+4LjMPesuFVNqxZTUpaJnd+5Zvs2vY6b2xaC0Dj0Rr+9MiDXDs0xOSp03l19dNUHT7ApVdcz9HaKo4c3IfL5SQ6Oo7Fl1zGJZddi9Fkoqerg9/8/D/x+XwsWb6KZZdeCUBt9WFeef6vtLcd4/bPfw2P28Pqp/9MX28PAM//5Y9s3biGH/3Pn87+hRURkbNOYVtEJjTn6Aitx5ro7+shIzuXguKp75pQzBoWxqVX3sCzT/wej9vNgX27mDx1Bq3NDax7+Xmmlc1l1TU3B7avr6lk3cvP4/V4WXLJ5bQdP8Zgfx8+nw+Px0N9bRU5uYV4vR52b3+dyjfDvtFkCnSF3bltEzWVh/F43Fy08ir6envYuXUjlYfKmb94OdPK5r5Z/yjrXn6ekJBQSqbNIi0jm5bGo4w5nXi9Hno6OzjW3MDo6PBZva4iZ8qubZsBCLPbWXzxZYGg/ZbYuASKSkqJjomj43gr7a0tuN1jVB85yMY1L5BbMJnPffnewPa1VYdZ9/Lz5BdN4TNf+Dq9PV30dHcAMDIyTEvjUXq6OxgaHGDfrm1se30tzY1HcY06iYiK4vixJro62jl0cA8ORxTzlyxneGiQzRtewevxkpmTFzhWZ3sb2zavo762ilXXfAKLxUJbazNu9xgAx1tPvBeJiMiFQetsi8iENjo6wmB/H36//0TX7oioU26XnJoOgM/vo6+n67SOccV1n6R46gxCQkJxRERyz//7LiuvvjHwvHtsjOGhQa664Va+9k/f53Nf/iYFk6dSU1nBts3r6Wxv+9DHSkhK4dN3fY2ExGTCbHYWXbyST97xJdIzc06rZpFzVWtzAwAWcwgZWbnvet5gMGB3RGCzh+P1eujr7WHM5fpQ+7aHO5g9fykLl56Y5yArJ49P3/U1FixdgSUkJLBdb08Xn7j989zzrX/jG/f/gJi4eJrq63jysYdP61wKi0u5+qZPExUdC8C1N3+Ge//1B6e1DxEROX+pZVtEJrS3WpvhxIf091pP22Qyn/Sa01EweQrxSSkYTSZCQkOZvWAp4Y4IRoaHADAajaSmZ3H9LZ8lIjKKwuJSWpsbOVS+h4a6Ktpam+FDrvNtD3dQOnMOzz3pYGhokMzsPKZOn31a9YqcyzxvtgJjAKPh1G0CRqMJg/Gte8b/5s8HCwkJJS0ji/SsSQBExcRSOnMOGVmTqK+rCmxXNncxy1ZeRXxCEj6vl22vr2X103+mYv8u+nq7P/S5xCUkUVhcivXNGdOLSqYxf8klH/r1IiJyflPLtohMaGFhNiIiT7Rm9/f2MPxmAH6nttYW4EQgt9kd77k/j8cTCO8fliUklNS0jEAd9nAHyanphNnsDA0OvGdNIheihORU4MS9dry16ZTbDA32B+4be7gDS0joKbf7qNLSs7BawzAYDJjMZkqmlQEw5nQG3itEREQ+iMK2iExoYTY7ickp2OzhNDXUcbT6CM7R0Xdtt37NauBEC3dRyXsvBeRyOXE63/369+P1eBjo7w/8u8FgwONxMzbmwmg0ve+63j6v97SOJXK+mzpjDgCjI8NsfXMis7cbGhygrvoI3Z3txMYlkJiUisXyf13A33nPdHV++GEab3G6nCf1cBkdefOeNxiw2cNPe38iInJhUtgWkQnNaDSSP3kqk6dMx+Uc5S9//C0739jI2NhYYJsX//YULzzzZwDSMrKYNXfxSftwjo7S/+ZswoP9ffSfRjdSAI/HTeuxRurrqgHo6eqkqaEOr8dDTFw8UdGxhFhCMJlMAAwPDQU+6FdXVnyk8xY5X11y2TVERsUwMjzEc0/8nnWvPB94bnRkhDUvPsuaF57F6/FQWjaX7NyCk4aHtB0/dlJQbqyvPe0aDuzZwfDgQODft79+IvTb7HaSktPenOzQwdiYi+GhwcB2XR1t9Ha/95wPb02UJiIiFwaN2RaRCa+oeBqXrLqOhrpqGo5Wc//X/4HJU2eQlJJGY30NNZUVjAwNYTSZuPc7P8Rqs+H1eolNSAKgubGeZ554lNZjzezZvoVNa19+1zGsoVaMRiN9vT089pufk5mdG1gOCKClqZ7v3fcVVlxxHUdrKnntxecwWywUFpeSmZ3L4EA/YW+2mD3z+O+Iio7B4/Xy+4f++13HMmDAaDQxMNDHxtdexO6IoGzuInJyC87QFRQ5eyKiovn6/f/Bv33ryzQ11PFv3/oyTzz6EKnp2TQ31FF95CCjI8OkZ+awfOU1ZLw5/jouMQlLSAg9XR08/LP/ZObcRWxc+wKH9u85af8mk5mwsDAAmuprefIPD7Pi8uuIjo0LbHNw3y5+8MA/cvGlV3Fg7052bdsEwMorb8ISEkJISAjxSSk0NdSxZeMa4hKS8Pt9/P2vfwos8/UWo9EUmJLh2cd/T9Whg3z2i98gzGY7U5dQRETOEQrbIjLhmS0Wrrn505hDLDzy4I9obWlk59YNJ20Tn5DM9376G2bPW3LiNWYzeQXFzFuynG2b1vLis4/z4rOPk545iaycPOqqD5/0+oKSaax95XmGO9r43wd/yNIVVwTCtslkIjIqmrZjzfzwgW8CJ7qSr7jieq68/lPYwx3Ywx0sWLycuqrDNNbX8O17Pw/AyqtuxOtx09XRHjhWeEQEuQXFHKnYz8F9Oxkc6CMuPkFhWyYEg8HAqqtuwoCBn3z/n+jv62Hvjq3s3bE1sE1hSSlf/Pq/MnfRRZjMJz7KXLLqWtasfpqq/j7+/LsH+fPvHsRmt3PZNTfx4rNPBF5rDbORlpmNzW6ntaWJ5//yGI6ICJZdelVgm5y8Avbv3sbWDWsCj00vm8cXvv4vGAwGYmLjWXXNTRzct5Pqwwf44QP3YrGEUFw6k9yCydRWHQq8Lj0zh5iYeFoa69m2eR3bNq/jius/ccqZ1kVEZGJR2BaRC4IlJIRrb76dBUtXsOuNTVQeKmfM5SQ0LIyCoqksW3H5uyZGS0pJ47s/fIj1r66mvq6K1Ixs5i+6mNHREfbteoPklHSiY060hl1x7SeIiIxiz47NeH0+5s5fGtiPwWgkv2gq33rgx7z64jP09/ZQNGU68xdfHHg9wG3/cA/5RVPYvnUDHq+XsrkLWbTsUp576g+MDo8wrezEWNbk1Ay+9I//yqT8Io63NpOemUNeYcmZv4giZ4nZYuGK625hwZLlbNn4GrVVFbicTmz2cIpLy5g5Z8FJ9w5AanoWP/3tX3np+adob20mPjGFa2/+NO3HW8nJLSQmNh44MbRk9oKl/OCXf2DH1o0YTSbmLbqIsLD/a2leeNFK5i9ezu7tm+nt6WLqtFmsvOrGQLC3htlYedVNJKVksGPLBsDP9FnzmZRfxKHyvbS2NJKTV/jmtmF872f/y0vPPUl3VwfxCUlERsWenQspIiJBZfD7/R9uvQwRkY/h0stW8fVv/5TEN2cavhCMDA/xxduu4kjFfuYsWMovf/9ssEsad7deOZ9DBw8EuwwZR2vWrOHJZ1/i7vu+H+xSzqr6uip+/G/3se31tXzmi9/g9ru+SmRUTLDLGle/+MH93HLdKlasWBHsUkRELgiaIE1ERERERERknKkbuYjIGWIwGklJy8Q5OkpSSnqwyxGR92GxhJKckkZ2bgExsfEYjaZglyQiIuc5hW0RkTPEarVy33f/G7fHfdI6wCJy7klOSeOeb/0bY+4xwsLsmi1cREQ+NoVtEZEzxGAwEhk9scZ8ikxUJrOZiKjoYJchIiITiMZsi4iIiIiIiIwzhW0RERERERGRcaZu5CIyIfj9fro721nzwjOYzGYm5RVRNm/xu7bbu3MrNZUVgIGll1xOQlIKBoPhIx9359aNHK2tJDk1g7K5i7CHOz74RUBXRxv792yn4/gxZsxZSGFx6ftu//jvfoUlJJRpZXO1prZMCDWVh6jYv4vRkWHK5i0mJ7cQs8USeN7tdlN5aD8H9+4k3BHB9NkLSM/M+cjHc7mcHDm4j8MH9pKUms78JZdgtYZ96Nc//rtfYTSayJ88lRmz57/ndq0tTezfvY2+ni4WXXzZx6pZRETObwrbIjJhjAwP8/Tjv6Ovp5vFF1/G5NKZ2Gz2wPPDg4O8+venee2l58jIzmVa2VwSklI+1jFfX/cSr65+hrJ5iyksLv3QYbu9rZXVT/+Z/bu38ZVvPvCBYfvhn/8n4Y4I7vrqPylsy4TQ09XB039+hJamerq7O/nMF76OwxIZeH50ZJjVzzzOq3//Kzl5hRR8wD3yQVxOJzu2buTx3/2KsnmLmTF74WmF7Yd//p+YzRau/+Qd7xu2mxuP8szjj1BbdZj0rEkK2yIiFzB1IxeRCcFgMBAZHU1RyTT6eruprT7M0ZrKk7apP1pNTdUh+nq7KZk2k+jYuI/Vqg2Qmp5FcWkZWTl5WEI+/IzjXq+XkeFhBgf6GRtzfeD2gwP9DA4M4B4b+zjlipwz8idPISIymuGhQTaueYHhgQH8fj9woqfK4EAfWzeuwTk6SkJiChlZkz7W8UwmE0nJaZRMm0X2pALM5tNrbxgc6GdwsB+Xy/m+23k9boaHhhgc6Mfj8XyckkVE5Dynlm0RmTDCbHYWXbSSV/7+VzqOH+Pgvp2UlM4MPH/k4D5amuoJs9kpm7uYqOg4fF4vLU31HD/WzMjIMFHRsWTm5BITGw+cCMWDA3309nThcERiMBhobKgjNMRK1qQ8ps6YQ1xCMrEJiYS9rRXd5XJRU1lBb3cXBqOB+IQk0jKy37Plu6+3h4a6KpxOJ1k5ecQnJmMyvf86v36/n8H+Phrqaxgc6Cc2LoGMrEnY7OHjcDVFzqzomDimzpjDoQN7aKqvpfJQ+Yn/781mvF4vhw7spa21haioGMrmLiLMZmdszEX78WMca27E7XLhiIwkIzuXqOhYjMYT7Qcdba2MDA9hD3cQFmbjwL6dRETFkJWTR1HJNELDwoiLTyQkJDRQy0BfLy1N9fR0d2I0mohLSCQjaxKh1rB3fSHn9/sZGuyn6vBBPG43Gdm5JCanBo7/foYGB6g+fJDBgX4Sk1PJys0/rdZ1ERE5vyhsi8iEYbGEkFdYQlZuwYkP7xXlDA7044iIZKC/j+ojB+nt7mTK9DlkZE3C4x7jj795iB1bN9DX14NnzI01LIzElDQuv+YTLF91DS7nKJvXv8JzTz5KRnYuodYwDuzdSVx8Ip/78jcp37ONNzatpbh0JpnZuYSF2Wiqr+PXP/t3mhrqGB0dwYABe7iDguKp3HzbPzApf/JJdR8q30Nd9REqK/bj8XiIiYvn2ptvZ8nyy7GGnfqDuMfj4cjBffzlj7/laG0lYy4nYTY7k0umc9WNt1FQPPUDw7pIsM1fspwX//YEQ4MDrF+zmrmLL8ZkNuNxu3l93cv4fT6iYmKZu+hiujs7eOn5p3h97Uv09/Xi9XoJDQ0lOTWDG2+7kxmzFxASEsqzT/ye3ds3U1w6k+6OdqqOHCAuPpE7776P+tpKXvrbkxRPnUnB5KmEhIZyYN9OnnvyD9RWHWJ0ZBiDwYjNbqegaCqfu/v/kZCYHAjcfp+fhtoq/v2fv0rD0Rq8Pi/JKelcdOmVXHrlje95vwLs2bGVJ//wa1oaj+JyOXE4IpmUP5lP3vElcgsmv+frRETk/KWwLSIThsFgICYuntnzl1JfU0l9XRWHD+5jzoKlNB6toaGuGq/Xy+z5i4mNT+TVF57l2acepaerg7kLLybc4WDXG69TXVlBV0cbZXMXYTKbaGs9xv7d26k8dABrWBget5v4hCRCrVaaG45SvncHYXY7Yy4XPq+X//nJ91j/yvNEREYzd9HFDPT3sXfnZuprK7Hbw/nqfd87qe43Nq0lO7eAtMwcjhzcx+7tlbQ0HiUqNo6yOYtOGZpbmo7y8C/+k307t5KUkk52bgF11Ud48W9PMjg0wF333Edmdu7ZuvQiH0nB5KlkZefT3trC1o2vMTw4iNUaxvDQINteX0eYzUbJtDLiEpLYvP4V/vjbX+BxuykqmYYt3EHlof3Urn8Fo9lEWkY2aRnZNB6toXzPdmqrDjE25sJudwAGYuPj2bppDft3b8dqteHxeDh+rJkX3hwXnpCUQm5BMSPDgxzcv5uaykPkFZVwzc2fxmI5MUTE6/VwYN9OkpLTycieRF3NEd7Y9BptrS3Ywx0sX3XtKc+ztvowD/7oO1Ts30N2bj6Tp8zg4L5dvPz3vzAw0Mc/f+8nxMQlnMUrLyIiZ4PCtohMKI6ISOYsWMKzT/yO5saj7N+9jTkLllJTWUF9XRUxsfEUl87E4YggPj6RhUsvJSEpmZVX3URoaChrX/4bP3zgm7S1ttDe1kpKWnpg32FhNq668VZWXnUjVmsY8YnvnlzN6/VQWDINDHDxiquZPnse3V0d/OHhn/PK3/9Cw9Eaxt4x7jqvqITPfvEb5OZPpuFoNd//53toaaznhWeeoHT6HEzvaC0bHhpkz44t7HpjE7kFxdx1z30UlkyjfM92HvnVj9i09iWWXXIFqelZpz0uVeRssoaFMXfRRZTv3U5vTxe7t7/OpVfewN5dW+nt6SIhMYWFyy7FaDQSFRPL0hUn/r++6NIrCQ218uwTv+epxx6mub6WkeGhk/Y90N/H//vuj5k1dzFjY2NERce+6/hGo4ncghIuu+ZmFi67lMlTZ+AZG+M73/w8+3Zto/JQOV6vl8Ak6QYDcfFJfO8nvyUyOprDB/fy0E//naPVlWzfsoFZ85ec8jxX//VPVB0+QHxCEj988DHsEZF0HD/GV++8kQN7d7Bl02tcdf2nxvvyiohIkOlTmIhMKCaTmfTMHCZPmc6BvTupqaygrvoINZWH6O3uYsHSS0lNz8JoMjFrwRKmzpzD8NAgTQ11VB8+wMa1L57Ykd+Px+M+ad+ZOXnMXXQx+UVT3vP4ZksIN916J273GN2dnezd+QYH9+3iUPlu4MSMyKPvCAUzZs1n2sy52OzhxMQlUDC5lLZjLRzYuwOv990TLA3093H4wD7cY2OE2eyYTCbaj7cQFmbD4YhkZGiQmqpDzJq/hMio6I95RUXOrGWXXsEf//cXDA8NsvaV57n0yhvYvP4VDEB8QiLzFl1ESGgo02bOpXDyVAYH+mlsqKXq0AF2bdvEyMgwXq83MLnaWxwRkVxz46cJtVoDE669U1xCIldcfwuXXH4Nvd1dHCrfw4E922lpavi/17xtv2aTmdmLljGpoCgwRnvazLnUHKmg/fgxujraT3mO+/fswOV0kpqRzcBAPwMDJyZaS8+cROWhcg7u2aGwLSIyASlsi8iEYjAYiI1LZOachZTv2UFrcyOb1r5IfW0lfr+faWVzSExOA05MivSn/32QjWtfYHhwkLEx1/vOKG4PdxAZFf2+M5gbDAaOHCrnNz/7TxqOVjM25sLr8f5fC7Pfj++doSAyKjC5mtlsJtwRgdFoZMw5+q4AAeByjdLZfhyAin27+M43v4jRYMDn9zM8OADA0GA/HrdmLpdzX1JKOiWlM9mycQ07Nm+gt7uTLRteJdQaxsy5i7CHR2AwGOjsaOOJRx9i64ZXGRjow+v14fN68Pl8p9xveERkYAz1e92zfp+PPds38+QfHuZoTSUu5ygGgwHn6Ik//X4/b78DjUYjycnpgaBtCQkJTEjo9Xre9QUdnJj8cGR4EL/fz8H9u/jHz99y4tj4GRoYwO/3MTQ0+FEvn4iInMMUtkVkwomIimbq9Nk4IiJpaarnxeeepLeni+TUDPIKirHZ7Xi9Xn7xg2+z7tW/ExMbz11f+yfmzF9K1eGD3Hf37afcb6g1DJvt/Wf67mg/zr987XN0tR9n3uLl3HjrnSSlpLH6mcf58yMPnvI1QwP9jI6OBNYEd3vc+PFjNJngFBnBZDITFnZi29zCYi6/9hOY3tFdPK+g+EOv+S0STCaTiYtWXs3enVvp7+vlB9/+R/p6uomJjWfpJZdjMBjo7mznqT88zF/++BuyJxVw55e/xewFS3h93cvveV8lJCZ/4LH379nGI7/6EVWHD7D44stYccX1lJSW8V/fuZctG1551/Y+n4/jx5v/7wF/4B8YDEYMhnfPSG6z2QPhfHLJdFZec+PJ5280kpqe/YG1iojI+UfrbIvIhGM0GklOy6R46kyGBgeor62ir6ebKdNnkZmTh8Fg4FhTA0frqnCOjnDTp+/i2ptuJzMnj7H3WUPXYOCU4fftDuzdwUBvDz6fj29+579YfPFlREXH0tPZAYDJbCb0bUsOARypKOdYcwMAPd2d1FUexj3mJie3CJPx3ZOj2cMdZOXmAxAZGc38JZdw063/wPzFy/F6vLjfHJ9qtnz4db9FgmnJ8lVERMUA8NpLz2EwGEhNz2LKtFkA9Pf1UlG+G7PZwkWXXsktn/0Ck/KLMJlMeE4x1AI4ZfB9p2NNDdTXVpE1qYCbbruLi1deTURkFH293adcI9vr9bB/5zaG32yJ7uxs40hFOQDRMbHEJSS+6zUhoaGkpmdjNptxuZ3cdOs/cNOt/8DVN9xKx/FWfD4fsad4nYiInP/Usi0iE1JyajozZi9gx9YN+P1+zJYQikqmk5RyYsIzR2TUiS6mBgMvPPc4OXkFdHV08KsffRc40YI10Nd72scND48ItDI/8qsfc/l1t7Dh1dVseO0FADweN07X6Emv2bZ5LR6Pm2mz5rHt9bUcrTmMxWLh6ptvw/KOYA4QFR3LvIXL+NtTf2Dvzq389N//hSXLV7Fj6wY2r38Fq9VGZnYumTl5p12/SDCEOyKYt+gijrc04fG4MVtCWHLJ5YF7yRISQmR0DM7REXZs3Uhmdh7HW5t54dnHGezvw2y24HI5Tzns4v3Y7OHYwx3U11Sxcc0LDA8NsmXDGhrqqgHe1UXd7/fTcLSaez57A/OWLGfvrq3s3vY6cQlJTJkxm5jY+FMe5/LrbuHg/l0cObCPf/7qHY+LciQAACAASURBVCy55HK2v76e5//6GMmp6XwtJp68guKPcOVERORcprAtIhNSuCOCwpJpTMoroquznYzsXPInlxASeiK8RsfEsuqam+np6uR4cxP3feUzhIRaKZuzkEMH92AymunqaMNgMGANCyMqOha73fGuluYwezhRUTHYw0+Ms545ZwHzl1zCjq0bWPvS39jw6mpi4xNZuvxytm9Zj9lspr+3B7PpxNjslLRM8otK6Gg7zh9/83N8Ph/hEZFce/NnmLNgWWCsd1R0LHZHBCGhVoxGI3lFU/j81/6JPzz8M/bu3MqubZswmUzExMRx82e+wNQZcwJdV0XOByuuuJ7X172Mc3QUm93O8suuDjyXkJjMJauuoepQOTWVFfz7/V/FZgsnKzcfs8VCT1cno8Mj+Hw+bOEOoqJjcTgiTtq/wWAkLMwWuJeMBgNTZsxmySVX8Orqv/LcU3/g+af/RGJiCgUlpTTWVdPX14P/zcB9oreIhaUrrmD76+t47Dc/w+/zk5icyorLr2fllSe6h5vNITgiooiKjg0sGXbxyquoqznC3558lM3rX2HT2pcwGo2kpGdy3S13cPGlV56lqywiImeTwX+6XwOLiHwEl162iq9/+6ckJqeetWMO9PVSX1dNX2830TGxZOcW4oiIPGmb8j072L9nO+6xMSZPnU7ZnEVUHNjD8OAACcmpTMot5FhLIw111cQnJJGdWxCYzAyg+shB2o8fIyo2jryCYqzWMJyjo2xa+xJHayuJjoljzsJlxCcksW/XG4RarWRNyscaGsbR2iqGhwaYlF/E4OAAe3dsZXh4kCnTZlE6cw4hb2vV3rT2JcxmM9mTCkhJzwTA4/HQ1FDHnh2b6e7sIDIqmpmzF5A1KZ+QUOtZuca3XjmfQwcPnJVjydmxZs0annz2Je6+7/tn9bhu9xg7t27E4/EQEhrKvEUXn/S8y+mk+shB9u/ehs/vZ0ppGZk5ubS2NNLT3fXmvZFB9ZEKujracERGMb1s3kn7b244SnPjUaJj4igsmUZISAg93Z3s3bGV+roqomPimL1gKZaQEBrqqhlzuZi78CJCrdYTAdlkJL9wCmNjLrasfxWXy0nJtDKmTJtFqPXEPdfT1UF9bRVDQ4MUT51BXEJSoIbqygp2btnI4GA/Dkck02bNo6R05tm5wMAvfnA/t1y3ihUrVpy1Y4qIXMgUtkXkrAhG2JYzT2F74glW2JYzT2FbROTsUh9DERERERERkXGmsC0iIiIiIiIyzhS2RURERERERMaZwraIiIiIiIjIONPSXyJydvh8rH76T4Q7HMGuZNz5/X68Xh9erwePxwOAzWbDYDAEubIzL9xu/+CN5Lzi9/s5WnOEJx/9n2CXcsb5/SdmKR8bG8NoMGA0mTC9+WMwGJlot/Dx5gZMJn30ExE5WzQbuYicFc8++xy9vb0wAT68ulwu2traqK2tpaamhmMtLTgiIshITycrO5vKI0eIjo7h6muu/uCdneeiIqO4/vrrgl2GjKOGhgbWrVvHhEuap9Df18/GTRvx+3zExcfT2dlJe3s77W1tuN0eEhLiSUlJJSkpiaTkJFKSk7Gdx18whYaEsnTpEtLS0oJdiojIBUFhW0TkAzidThobG6msrKSmpoaGhgYAIiMjiYiIICYmhsTERBITE0lKSqKyspIHHniA559/noSEhOAWLyLvqbKykieeeILJkydTVlZGf38/vb299Pb20t/fz9DQEMPDwwwODjIwMIDT6cThcJCenk56ejqpqalkZGSQkJBAaGhosE9HRETOMQrbIiJv4/f7cblc1NbWcujQISoqKmhoaMBisZCUlBQI1ImJicTFxREbG0tMTAwhISGBbuNjY2PcfffdpKam8u1vfzvIZyQi72Xz5s2sXbuWK664glmzZp303NjYWCBk9/f309/fz+DgIL29vXR3dzMwMEBPTw89PT14PB7i4+PJysoiIyODrKwsMjMziYqKwmxWt20RkQuVfgOIyAXP6XRSVVVFRUUFhw4dora2FofDQUpKCgkJCZSWlhIfH09cXBwxMTHExMS8bytWSEgI3/jGN7jjjju4/vrrKS4uPotnIyIfVmdnJ36/n/j4+Hc9FxISQmxsLLGxsYHH/H4/o6OjgeD9VhB/K4T39vZSXl7OunXr6OnpwWKxkJaWRmZmJunp6eTk5JCRkYH9PO6KLiIiH57CtohccPr7+6msrKSiooL9+/dTV1dHbGwskyZNIicnh2XLlhEbG0tUVBRRUVE4HA4sFstpHSM/P59rr72Wn/zkJ/zmN7/BZDKdobMRkY+qq6sLo9F4yrB9KgaDAZvNhs1mIzk5OfC41+tldHSU4eFhhoeHGRoaYmhoiJ6eHjo7O+no6KCqqoqOjg46OjqIj48nOzubrKyswPtOcnKyuqKLiEwwCtsiMuH19PRQUVHB3r172bNnD83NzSQlJVFYWMjcuXO57bbbiI6OxuFwYLfbsdvtGI0fb2VEg8HApz71Kb7whS/w2muvsXLlynE6GxEZD4ODg/T39xMZGYnNZvtY+zKZTISHhxMeHn7S4263G6fTGfgZHR3F6XTS1tbGsWPHaG1tZffu3TQ3N9Pf3096ejq5ubnk5OSQn59Pbm4ucXFx6oouInKe0ru3iEwoPp+P3t5e9u7dy44dO9i1axetra2kp6czffp0brjhBgoKCoiKisJqtRIaGkpoaCgGg2Hcl+qKj4/njjvu4Je//CULFy581wdxEQme3t5exsbGSElJOWPL9FksFiwWC453LHlYVFSE2+1mbGws8OfAwAD19fWByRhffPFFGhoaMJlM5ObmUlBQQGFhIfn5+eTl5WG32y+I5QVFRM5nmiBNRM573d3dbN26lW3btrFlyxba2tooLi5mzpw5zJo1i6KiIiIjIzGbzZjN5jfX0D3zH1L9fj+dnZ185zvfYdKkSdx7771n/Jgi8uHs37+f5557jqVLl7Js2bJgl4Pf78fr9eL1evH5fIG/t7e3U1NTQ01NDZWVlVRVVVFTU0NSUhIFBQUUFRVRWloaaBFXV3QRkXOHWrZF5LzT2trKG2+8wcaNG9m0aRPNzc0sXLiQhQsX8uMf/5ipU6cSFhYW7DIxGAzExcVx22238Y1vfIPrr7+e7OzsYJclIhCYRfztY6+DyWAwBL4QfLvIyEjy8/NPeszj8VBdXc2RI0coLy/nkUceobKykubmZoqKipg6dSqlpaVMmTKFyZMnk5CQ8LGHxoiIyOlTy7aInFP8fj9+vx+PxxP4aW5uZufOnezZs4dt27YxNDREWVkZ8+bNY8mSJUyZMiXYZb+v7u5uHn30UVpaWvjRj36k8ZciQeb3+3n66afZvn07999/P9HR0cEu6WPz+/2MjIxQWVkZmADy8OHDVFdX4/P5mDRpEoWFhRQVFZGXl0deXh7h4eGB3j4mkwmj0ajJHEVExpHCtogE1VvB2uVyMTo6yujoKK2trRw4cIDy8nLKy8sBKC0tZcaMGcybN4/c3FxCQkKCXPmH5/f7qaqq4oEHHuDzn/88S5cu1VhLkSByuVw8+uijNDY28h//8R/BLueM8vl8dHZ2UlVVxZEjR6isrKSmpoa6ujpiYmLIysqiqKiI7OzswBJlISEhWCyWwJ8Wi0VfEoqIfAR65xSRs87tdp8Urpubmzl48CB79+6luroal8vF9OnTmTt3Lvfccw/Z2dnnVbh+J4PBQHp6OitWrOCJJ55g5syZREREBLsskQvWwMAAw8PD50wX8jPJaDSSmJhIYmIiixcvDjw+NjZGU1MTtbW1VFRUsGnTJmpra2lrayMrK4uMjAzy8/PJzMwkKyuLhISEQAB/ewhX93QRkfemlm0ROaP8fj9Op5ORkREGBwcZHh6mqamJuro6Dh06xNGjR/H7/ZSVlVFWVsbUqVPJzMw87XWtzwdVVVX84he/YMGCBdx8883qrikSJDU1NTz55JNMnTqVq6++OtjlnDPe6opeW1tLTU0N1dXV1NXVUV9fj8/nIyUlJdD6nZaWRnJyMg6HA6vVSlhYGFarNbDKg4iIqGVbRMaZz+djZGSE/v5++vv76e3tpaWlhebmZurr62lqasJmszF16lSuuOIKiouLycrKCnbZZ0VWVhbLli1j3bp1zJ8//4I5b5FzTX9/P4ODgxdEy/bpMBgM2O12SktLKS0tDTzu8Xjo7u6mvr6eo0eP0tDQwL59+zh+/DhhYWGBlvO4uDji4+NJTEzEZrMF1h4PDw/HZrNNyC9RRUTej8K2iHwsPp+PoaEhurq66OrqoqOjg/b2djo6Omhra6Ojo4Po6GiKioq44YYbKC4uJi4u7oLsehgaGsqsWbOoqKjgxRdf5I477jgnZk0XudD09fUxODhIRkZGsEs5L5jN5kCgnjt3buDxsbEx2tvbAwG8paWF3bt309fXR1RUFNHR0cTGxhIbG0tUVBSRkZFEREQQGRmJw+EgMjISu92uXj4iMmEpbIvIafH5fPT09NDe3h4I011dXfT19QU+wMbExFBYWMjixYvJz88nJiZGH6belJqayuzZs3n55ZepqKhg1qxZwS5J5ILi8Xjo6+vDYDAQGxsb7HLOayEhIaSnp5Oens6SJUsCj4+MjHDs2DEaGxs5duwYx44d48CBA7jdbsLDw7Hb7YSFhREeHk5ERAQRERHExMQQHR0dCOhhYWGaSFJEznsK2yLyvjweDz09PTQ3N9Pa2kpzczN9fX24XC6cTicej4fY2FgKCgqYNGkSOTk5REVF6UPSezCbzZSVlXHgwAHWr19PdnY2cXFxwS5L5IIxPDxMd3c3ycnJ6tZ8hthstsDyYm/xer0MDAxw/PjxQABvbW2lsbERn89HaGgooaGhWCwWrFYrdruduLi4QMt4XFwcMTExWK3WIJ6ZiMjpUdgWkZO43W7a2tpobGykoaGBpqYmXC4XPp8Ps9mMx+MhOTmZrKwsMjMzSUtLIzIyMthln1fi4+NZtGgRf/3rX9myZQtXXXXVBdmtXiQYhoaG6OnpURfys8xkMgVaridPnhx43OVy0dvbGxh+1N7eHvhpa2vDYDAElog0m81ERUWRmJhIfHw8CQkJJCUlERMTo6XJROScpHcmkQucy+Wira2NhoYGmpubaWlpYXh4OPC8yWQiKSmJzMxMcnJySEtLIzw8PIgVn/8MBgNTpkxh586d7Nmzh5kzZ5Kenh7sskQuCENDQ/T29p409liCJzQ0lKSkJJKSkk56fGRkhI6OjsBPa2srXV1d9PT00N3djdFo5K0FdaxWK3FxcSeF8MTEROx2u77IFJGgUtgWucC8tbZqXV0dtbW1tLS04Ha7A0u32O32wLIuaWlppKSkYLVa1S18nEVERHDxxRfz2GOPsWnTJm666abzei1xkfPF0NAQ3d3datk+x9lsNrKysk5atcHn8zEwMEBnZ2cgdHd2dtLf309fXx8dHR243W5cLhculwubzUZKSgrJyckkJSWRmppKQkKCJqYUkbNGYVtkgnO73VRXV1NVVUVlZSVNTU2YzWaio6OJiIggNzeXxMREkpKSAq0CoaGhCtdnQWFhIdOmTaO8vJzp06dTXFwc7JJEJjSv10tfXx8jIyOkpKQEuxw5TUajkaioKKKiok563O12MzAwQG9vL319fXR3dwf+Pjw8zKFDh9i+fTvDw8M4nU7i4+MDXyinp6eTmppKbGysxvCLyLhT2BaZYIaGhqirq6OiooKKigrq6uqIiIggKSmJ5ORkli9fTnx8PPHx8YHlWEJDQ4Nd9gUpJCSE5cuXc/DgQbZu3UpGRgYOhyPYZYlMWKOjo3R2dhIXF6fWzQnEYrEEJlJ7u9HRUQYHBxkYGGBgYID+/v7AMILe3l7Ky8vZsGEDPT09eL1ekpOTyczMJDMzk6ysLDIyMoiIiNBqGiLykSlsi5zn+vr6qKqqYv/+/ZSXl9PU1ER0dDQ5OTlMmjSJ5cuXExMTE2gNcDgcmkjmHJKYmMiyZctYvXo1M2bMoKysLNgliUxYQ0NDHD9+nJycnGCXImdBWFgYYWFhJCQkBB7z+/2Mjo4yPDzM8PAwQ0NDDA8P09fXR3t7O11dXWzZsoVnnnmGrq4u7HY7mZmZZGdnk5eXF+jarmE/IvJh6BO3yHnE5/PR19fHgQMH2LVrF/v376e9vZ34+HgKCgpYtGgReXl5REZG4nA4sNvtmiDmHGcwGFi8eDFbt25l48aNZGVlaSkwkTNkaGiI9vZ2TY52ATMYDNhsNmw2G/Hx8YHHvV4vTqcTp9PJ6Oho4O/t7e0cP36c1tZWnn/++cCyZRkZGeTk5JCTk0NhYSE5OTmkpKSoK7qInERhW+Qc5vP56O/vZ8eOHezatYsdO3bQ1tZGTk4O06ZN4+abbyYvL4/o6GisVitWq5WQkBCF6/OMzWbjhhtu4Pvf/z6zZ89m4cKF+m8ocgYMDAzQ0tKilm15F5PJFPiC+u0KCwtxu92Bidfcbjejo6PU19fT2NjI0aNHef3112loaGBoaIi8vDyKiorIz8+noKAg8Dta7+kiFyaFbZFzTEdHB9u3b2fLli1s3ryZtrY2pk2bxuzZs7n33nspLCwkPDwcs9mM2WzGZDJpMrMJoKSkhHnz5vHKK6+Qn5//rmVwROTjGx4epqOjg+zs7GCXIueJt37Xvn2Mv9/vJysrC6/Xe9JPX18fNTU1VFdXs2/fPp544gnq6uqwWq3k5+dTXFxMSUkJeXl5FBYWaqUPkQuAwrZIkDU3N7Nr1y7eeOMNtm7dSmtrK3PmzGHu3Ln88Ic/pKCgAJvNpnA9wZlMJj71qU/xuc99joqKCuLi4jS2XmQcOZ1O2traiI6OJjw8PNjlyHnMYDBgMplOmjjN7/fjcDhITU1l0aJFeL1efD4fbrebY8eOUV1dzeHDh1m9ejV1dXUcPXqUzMxMCgsLmTlzJoWFhRQUFJCZmRnEMxOR8aZPciJnkcfjoaWlhTfeeINNmzaxfv16nE4nZWVlLFq0iIceeogpU6Zo5tMLVGJiIjfffDOPPfYYU6dOPWlSHxH5eJxOJ52dneTl5ekLSxl3BoMBg8GA0Wh81xel0dHRlJSUcN111wUec7lcVFVVceTIEfbs2cOaNWs4cuQI3d3dFBcXM2XKFKZNm8bkyZOZPHmy5vIQOU8Z/H6/P9hFiEwUfr8fn8+H1+sNjO9qaWlh586d7Nq1iz179uB0Opk5cyaLFy9mwYIF/5+9+wyMqkobOP6fmSRT0nvvpDdKCL1JRwEpoggIKvaylnfdXd217VrWdXV1AVkLNgQUadJ7Dz2UkEYK6b1nJtNn3g+BUVQUJRDK+X1RMpNzn8nMnXufc55zDhEREWJVU8HGYDAwbdo07rjjDiZNmmQrXRTJgSD8Pudvc6qqqpg/fz5RUVHMmTOna4MShJ9hsVhoa2sjOzubzMxMsrKyyMnJsZWiR0ZGEhcXR0JCArGxsYSHh6NQKJBKpbaRdplM9pvmh58/P8Q1RhCuDJFsC8JlMhgM6PV62wqmpaWlnD59moyMDHJzczGZTKSlpdGrVy969+4tkmvhV+3bt4+XXnqJ+fPnExAQQFlZGQkJCV0dliBclzQaDXV1dTQ0NPDBBx9w7733MmDAgK4OSxAumcFgoKqqioKCAnJycjhz5gy5ublUVVXh6+tLWFgYkZGRhIWFER4eblsV3cHBwfbfiy2eWlpailKpxMPDQ1TVCcIVIJJtQfgNrFYrOp3ugr05i4uLKSgoICsri6KiImQyGT169CAtLY0ePXoQEhIiLmDCb/b444/j6emJxWJh0aJFFBUVIZfLuzosQbjulJaW0r9/f+Li4tBqtbz55psMGDBAjOQJ1z2dTkdJSYltUbbCwkJyc3PRarUEBgYSHBxMUFAQQUFBBAcH4+rqilKptO1eolQquf/++5HL5cydO5fExEScnZ3FuSEInUgk28JNzWAw/OIos8ViQavV0tTURHNzM01NTZSXl1NeXk5xcTElJSW4urra5lYlJycTEBBwFV+BcCPS6/V89tlnvPPOO9TW1qJSqdi0aRNJSUldHZogXHdaW1tJTk6mtLQUlUrFxIkT+eKLL0QnqHBDslqttLS0cPbsWQoKCigtLaWoqIjy8nKkUim+vr74+vri5eWFr68vH3zwAQcOHMDNzY1nn32WUaNGERsbKzp3BaGTiAXShJtWZWUlBw4cYMqUKbafmc1m2traqK+vp7Gxkbq6OmpqaqiqqqK6uprGxkbc3d2JiopiypQpJCYm4uXlJfbPFDqVRqNhx44dVFVV0dbWRmRkJBkZGSLZFoTfQSaT0atXL8rLy/H392f8+PEi0RZ+l4OHDtHS0gLXyTCVi4sriYlJJCYmYTQZaWxooLikhLNFZ9mzZy8lpSXU1dZiNBqpqanhL3/5C8uXL+eRRx7Bx8f3ptgRQyqV4OfnT1JSYleHItygbvyzSBB+xGw2k5ubyzfffMOyZcsYMWIEdXV11NfXU1dXR1VVFbW1tdTW1tLQ0ICrqyuJiYkMGjSI+Ph4PDw8RHItXFEeHh689NJLqFQqVq5ciUajISMjg9mzZ3d1aIJw3bGzsyMlJYVt27bRu3dvJk6c2NUhCdepl15+BUdXb6Q3QGeNZ0AYngFhtLW2YDAYkCABrFitVr5ctgpHJyfkCkVXh3nFmU0mPJwVfPLxh10dinCDEsm2cFPRaDTs3r2bDz/8kF27dmFnZ8eXX35JQ0MDzc3NaDQavL29iY2NZcSIEURFReHp6dnVYQs3ofj4eObNm0dQUBDLly/nxIkTXR2SIFyXZDIZKSkpeHp6MnPmTNsK/4LwW7W2tvLXtz7Gydmlq0MROklNVQXvvvp0V4ch3MBEsn0TO336NMePH8doNHZ1KFeFxWKhurqaxYsXU1JSgk6nw97engULFhAeHk63bt2Ii4vD1dUVo9FIdnY22dnZXR32b+bh4cGwYcNwdXXt6lCuuJUrV9Lc3NzVYVxR4eHhBAcHc+bMGT755JMbfuEamUxGREQEgwYN6upQbgrLli2jvb29q8O4oqxWKxUVFSgUCkpKSli0aFFXh3RFOTg4EBsbS2pqaleHIgiCcNMTyfZNbPeePezef4SIqLiuDuWqMJvNNDW1EB6TjIPKhbLiIkxGIxOmzbE9p6bFSE1LfdcF2QmOLltOfHz8TZFsv/WvfzF09KSuDuOK6zVgJCl9hnGmtP6GT7Z12na2bd8hku2r5I0332Ls7Xd1dRhXnNUqZ+ykGZTUtAFtXR3OFdXcVE/m6dMi2RYEQbgGiGT7JmbQG0jonsaEO2Z1dShXjV6vo762murKcqoqSlG3tnLnnIe7OqxOtX/PdoxGU1eHcVWo1RrunPNoV4chdKKaqgreeUWU9F0tOoNRnEM3mNMnjrBnw9KuDkMQBEFAJNvCTUYuVxAYHEZgcBgARoOhawMSBEEQBEEQBOGGJJZUFm5q9r+wx7YgCIIgCIIgCMLvJZJtQRAEQRAEQRAEQehkItkWBEEQBEEQBEEQhE4mkm1BEARBEARBEARB6GQi2RYEQRAEQRAEQRCETiaSbUEQBEEQBEEQBEHoZCLZFgRBEARBEARBEIROJpJtQRAEQRAEQRAEQehkItkWBEEQBEEQBEEQhE4mkm1BEARBEARBEARB6GR2XR2AIAiCIAiCINxMjAYDGo0ak8mITCpFoXJEqVR1dVhXhMViQadtx95Bjr29fae1a7VaMRoNWMxm7B3kyGSyTmtbEDqLSLYFQRAEQRAE4SowGPRUlpWQn3uarFMZNDXUo1Q5EhWXSPdefQkKDUcuV/ymNq1WK3W11TjYO+Dm4XmFIv/9tBo1a1cuoXtqP2ITUjqtXYNBT07mcaoqykjtOwhvX/9Oa1sQOotItgVBEARBEAThCtPrdBzYs51vFn9ETWU5Xr5+ODo6UVtTyZEDe1i3Ygkz5z7OkOHjsPsNI8DNTQ0smv82vfoOYuS426/gK/h91Oo2ln62EIVC1anJtk7bzp4dmzi4Zzt+gcEi2RauSSLZFgRBEARBEIQrLOPwPub962Xcvby577H/o3e/Ifj4+dPYUMehfTv58qP3+ej9fxIQFEpcYvdLbrespIi1K74iIaXnFYz+93N2duW+R/+PxGs0PkG4kkSyLXSqkqJ8qqsqCI+MxsvbF+mP5s+YTEYyDu/HPzCE4NCILory0pnNJirLSmltbSYkLBJnF9dOa7u1pZniojN4+/jh7euPnV3nzWMSfhujwUDBmRyqK0tpbW7GQS7H09uXyOg4PL18fne7ep0OueK3lQNeDSaTiczjR3BxcyMyKq7T2rVYzNTVVFNTVUFQaDgent6d1rZw7bNaLTTU11GQl42nlzdRsYk/eY5G3UbJ2QKcnJzxDwrB3t6hCyL9bSrKSigtLqBn7/7IFcpOa9dsNpFz+iQymR1xiZ032idcm9Rtraz++gv0eh1zHn6aPv2H2kavPTy9uWXMBKwWC0s/W0h+bpYt2W7XqCktLqS6srxj3rO9PX4BwURExaFUqWioryUv6xQWs5nCvGyOpO+md/8hAOh0WkqLCigrLcJsMuHu6U14txg8vXyQSCS22Orraig6k0NTYwNKlYrouCQ0ba2o1W2k9OoDdMy7bm5q4GxBHo31dUgkEvwCggiLjMbJ2cUWa0FeFgFBoZQWF1JfV0NgcBjdouPwCwhE5ehsO6bJaKS6qpzionw06lZUKifCI2PwCwiy/V3aNWrOFp6hpqoCXbsGuVKFf2AwUTEJ2Dtc+98dggAi2RY62d4dm9m6YSV9B97C9DmP/GTukF6nY8G//86tk6ZfF8m20WDgwN7t5GadZPqcRzo12a4sL2Hppx8waPiYjpIxJ5Fsd4WqijK2rlvJofRdaLUaJBIJVrMFi9VCYvfejJ04jYTk39YbbzQY2L5xNW4eXvQddMuVCfwyGAx6Pv/fu8QnNvcPTQAAIABJREFU9STyD52XbJtMJk6fOMrW9SuZMuN+PPqJZPtmYrFYOJOTyby3XiYiKpZHn32RgKCQC55TV1vN6q8/J6xbDLdNmo6967V/w3z04F6WfraA/y5agXcnJttGg4Hliz9GqVIRl/jvTmtXuDYVnsmhMD+HHr37ER2b+JMycQcHOQOGjUbp6ERYRBTQUR6+c8s60ndvxWwyI5FKaGvp6BAePX4qt4yeQHVlOccO7bN1omq17fTuPwS1upXtG9ewd/tG9HodCoUKo8lIZFQct026i7BuMUgkEkrPFrD6my/IOnkMJ2dXLBYzrh6eWC0WtO3tpPTqg9lspvRsAau+/pyCvGzkcjkmkwmZTEbagGGMHHc73r7+NNTX8NWnCwiPjCHj8H7qa6vpN2Qkcx78A/P+9QrT5zyKf2AwOp2WE0cOsHHNNzTU16JQqdC2a/D29uf2O+8hIaUXGnUrG1Z9zZEDe2wLn7U2N2Evd2DMxGmMn3z3VX8PBeH3EMm20KnqaivJzzlNVXkp3WLiGTLyVhwc5LbHLRYz+blZ1NdVd2GUl04qleEfGIzJZETl6NSpbWu17ZQU5ZPYPRWLxdypbQuXprGhli8+eo+dm9YybPRtJPVMw9XNA127hrzsTLasW0F9bTUPPfU84ZHRl9xuW2sL899+lcl333dNJtsyqYy4xB6d3uFltVppbm6kuCgfdVtrp7YtXPus1o6Kndysk1SUFRMYEsZ9j/7fBYs96XVaykvP4uTsgtls6sJoL52vXwDde/W74FrWGSwWC2XFhTg6de61Rbg2nS08g7qtjdjE7ihVjj95XCKR4OrmzrBRtwEdn4+czBOsWvoZ4d1iGD52IipHJ+pra/j684WsWPopPXr3xy8giF59BrJ763qSevRmwNBRGI0Gjh9O5+svPiQ0PJIJU2eicnQmN/sku7euRyKBu2Y/jLOLK2tXLGHvjs2MmTCFpB59aNeo2bjmGw7s3YZ/QDDQkeSuWLqIw+m7GX3bFOKTemI0GtmzfQNrv12MSuXIqPFT0Ov0lBTmcybrFCPGTcIvIAh3Tx+MRiP5OadpaqzHarVSWVbC4k/mYTTouW3y3fgHhVBWXMia5YtZu+IrfPwCOHZoH8u/+piBw0bTd+AwVI7O1NdW8fF/32LpZx8wbORtV/X9E4TfSyTbQqdzkMvRaNr49qtPiElIISgkHKm0c7d016jbMJvNODm72No2mYxo1Goc5PKLbp/RrlFjNBpRqVTY2TtcUEZ1nsViRqfTIQEUCiU9evcnISUV53NlUueZzSbaNRosFgsurq5IJD99jedjkkgkyOXyTi1BFC7fzs3r2L5xDSPHTWbWA4/jd+7Gwmq10LPPQCQSCSuXfsauLesIf+SZC35Xq23HoNcjk0pROjoik33/darX66goL/nZY1osFvQ6LUaDAblCedEyc6PBgFbbjp2d3S929BiNRnTadiQSCQqF8qKL6phMRtrValROTtg7ODDl7vtw+JkyPL1eh06rxcFBjlyh+NlzV6Nuw2TqSJRc3dwvGptwc5JKpUhlMnZs+o7kHn0YMHRkp7ZvtVrR6bSYjEYUCqWtnPT8uWBnb49CofzJ97vVasVg0J/7fDv8bMJzXrtGDYBCqSKpR2/Cu8XYSmXPs1jM6LRazGYzcrkCB/lPk3GT0YhW247FYkGhUOIgl//sdUe48Wnb1ZjNRjy9fS558TMnZ2f6DxlB30G3kNKrLxKJBLPJxOkTR9i3czMGvZ6gkHBiEpKRymRExsTTu/8QWlua2bV1PRazmRn3P0FiSi8AouISqa+rIeNIOv2HjMTF1Y1jh/aR0qsPE6bOwsvHD4lEgn9gMEcO7AY6roe11ZXs37WV1L6DmDrjflzdPLBarfj6B1JVUcqBvdvomdbfFrd/YAiTp9+LX0AQJpOJupoq22NGg4Ez2ZmUlxRx932PMXrCVBwc5MQn98RitdLYUAeAo5Mzw0aNZ+K0WQSHRtiuRYf27WLfrs20a9TX5DQtQfgxkWwLnU6pcmRQ3zEc3r+blUsWcf/jz120/Lqutpr1K5fi6ubBpLtm236en5vFtg2r6N1/CCm9+lJbXcmSRfMZNno8WSeOknP6BBarlZCwSMZPnUFdbTXbN6yivq4WF1c3Bg8fS//BI2w3YdWV5ezauo6sk8fQ6XSoVI6kDRjG2AlTkcpkmEwmDu3fycG9O0hI7snenZtxcnZhyPBx6HRaSoryGTHudoJDI7BYLJw4epA92zdQXVGG2WLG1y+Q8XfMJCYuCavVilajYfvm7zh57CAtzY1IJBJcXN1JGzCUvgNvwcXV7aq8F8LFNTXWs2PzWhydnJk8fQ6+foG2xyQSKa5uHoyfOgOJVEK3mI5Sa6vFQklxIXu2baAgLwutth2pRIpfYDCjbp1CVFwCNVUV/O8/rwOwbcMq6murufu+x/APDKamqoIt61dyJjsTg0GPq5s7qX0H0W/wcFzdPICOZPzQ/l3s3LyW5qYGZFIpyb364OLqwZmcUzz9/GtAx5SM0yePsnPLOmqrK5FIwC8gmFtGTyA2IQW5QkFbawuf/+8/RMUmknXyGNVV5Xj7+PH4H1/iq0XzCIuMZuIdswBobmrkwO6tHD24l9bWZhQKJQkpqQwfOxFvHz8AzuRksnPLWooL8zGZjAAEBIYy8tZJJHZPvTpvnHDNkyuUpPUbQlF+LmuWf0lYZDSBwaEXff4H7/wDDy9vbpsyA8dzHUs6nZYP3vk73j7+zJz7BHW11WxZtwJ7ewccnZw5vH8XWm07AUEhjJ04DW17Ozs2r6Wmqhw7OzsGDhvNiHG3Y2/vgNVqpV2jZsu6lZw4doB2jQbluSR6yMhb8Tm3gvHeHZsoyMvGxdWN3KxTaNStTJ1xP20tLezY/B1PPf8a7h6etpLaTd99S8nZfCwWCx6eXgy6ZSy9+w3CQa5Ao1FzcO8Ojh3aS0NdLRaLGblcSffUvoyfOhP5zyTmwo3Nzt4eiUSK0WDAarH86vMlEglRsUl4+wbQ3NTA/l1baKirpaa6gpPHDmIw6C/6u3q9jszjhzEYDBzcu4Mj6bttj5UW5VN2toj62mrq62poqK+1JdDnO4Ji4pOJikmguakBk8lMRVkJWm078Uk9bNcqiURCRFQM3aLjOXZ4P83NjahUHedvbGJ3XFzdkEgkP9lXW6/XUVJcgJOLKwnJPW0VIyqVI8PHTMCg1+Pm7kmf/kOJS+xOS3Mj6bu3UltTRU1VOZknjwIdnWeCcD0QybbQ6WQyGaNum4LZbGbT2m+JT+7JLWMmYmf304+buq2V9D0dpUo/TLbrairZvW0DPv6BJPXoTXNTA1vWreD0iSO4e/kQE59MfW01K5d9RlF+LjI7O7x9/fELCOL4kXRqqirw8PQmqUdvKspLWPbZQjKOpJPUPZWYhGQKcrNZ9MHbNDXWMfP+x7FaLBSeyWHFkk/IPHEEhVKFTCpFo2mjIDeLjMPp9Oo7iODQCPbt3MyyzxdisVjo0bsfMpk9OzatISszg9fe/QRvHz/WLP+S1d98QXR8EvHJPdGo2ziVcZjszOPIZDKGj5l4Nd8S4WcUF+VTW11Bco/eePv4IfnRCK5UKsUvIJi7Zj+CUtlRkXC28Axff/EhBXlZJCT3IirGj+qqcvZs30hxYT5/euVtHOQK2wi5q7sHAUGhODjIaair4cP33+BMbhY9Uvvh7etHXvYplnz2Aa3NTYybdBdOzi7s37WFRQv+jZ29PWn9h6DX6di8bgVNDfWYjEaefv419Dodxw7t45P5b2Fv70D31P6YzSaOH0kn+9TxjsV3Bg5Fr9exc8tadm9bj729A4HBYbS2NGMymdixaQ29+g5m4h2zaGqsZ9N3y1m/cinBYZEkJPfqWN3228Vo29WMnzqTdk0bC//zOo11taT2G4y3rx8V5aVsXb+KosJc/vHOxyiUonJDoGPBr6SexCf1YNnn/2PTd98wc+4TF907ePe2DQSHRTDqtqm2ZNtkNLJ94xrCu8Uwc+4TqNta2b9rK2XFhcTEJxMUGo61vtaWIDs4yPH1CyAkPJLd2zZw+uQxwiKiiUvqjtFgYPEn89i2YTXxST1I6p5KVWUZG9Z8TW1NJXfOehAvHz8K8rLZsGoZFqsF/8AQ2ts1yGR2FORls3bFVzz01PO4uXtQXVHGu6//lcaGWtL6D0GpciT7VAafLvw3ZrOJAUNHsWXtClZ/8wUBQSHExCdjsZg5enAvn37wDk7OroyZMPVqviXCNcDbxx+FQklZSRF6vf5nKys06jayTh7DzcOTyKg46mqrWLN8MccP78dsNuPs4oq7pzcSmfQXKwYtZjPqtlbs7BzIz8284DGr1Uq32AScXdyorirHaNDj5OSCzO7CBW09vX1pbmrAYjHT2tqETCr7SZWVvb0DKkcnrBYLZtP30+EUyp9WlpxnNptp16htv/tDbu7fr/NTWVHKyqWfcvrEEcxmC24enri7e6JQqmhparjoaxeEa41ItoUrws3dgzkPPU12ZgaL5r9NQkovAoPDLrtdi8XKg0/8icCQcNpamikrKSLr1DFmzX2SUeOnIJPJ8AsI4psvP+JsYR5JPXqzc/NaDu7dzsRpsxk57nacXFxpa2lm0YJ/89nCd+k/aATBYR1zV6VSGbEJKdx1z0PYOzhgb+9AQW6W7fitLc1sWP01GrWaB578E0ndeyOVSklM6cUT901h+8bVTJlxP7t3bMQ/MJhHnv4rLq5umExGDsbs5JN5b5Gfc5rBw8dd9t9CuDzVFWXotFr8AoORXaSkz87ODjd3D9u/S88WUJiXRf/BI7j9ztkolEq02nasWNn83bfU19UQl9idMROnsWjB2yT36MPEabOwWq3s3LKOE0cOMHXGXMZMmIpCqaK+roaln37Ato1riElIJjoume+WL8Zo0PPkn14lMjoOi8VMWv8hPP3gXbYbkZqqClYt+xSz2cxj//cXIqPjsVqtJPXszSfz/sWm75YTGtENxbnpFM2NDbz538/wDQhCIpH85CaouOAMa79dQmRMHA8++WfcPbxQt7Xw0fv/ZO+OzfTsM5DykmIKz+Twhz+9So+0/iiVKtrbNdjZyVj77VcUF54hVqyoLJzj6OhE2sCh5GafYtuG1UTHJTHoljGX1abZbELl6MSIcZPo3X8wOm07H73/Jts2ruGeB/7AuEl34uTsQnhkNH//y5OcOHqAuKTunMnJZM03XzB4+FhmP/Q0Lq5uaNRtbF77LRvXLCeiWyxjJ04DoLW1mUG3jGbSXXNQKh0JCAoh49B+WwxGo4FNa7+lMD+bJ597hbQBQ5HJ7Mg8cYTPFr7LkQN7CAgO5cTRAwSGhDFt5lwio+MBK0NH3Mrc6WPZtXWdSLZvQtFxibi6e3J4/y7GT55xwbUFOiqnKstKeP/NF4nv3ovHnn2R3ds2sGvzWgbeMpoBQ0fh4uKGysmJpZ9+wIE92y56LIlUgkKpxM8/mIef/uvPPsfL2xeNRo2DXEFrS9O5Bc++TwtqqyuBjo5n53MLp+l1F46mn0+crVYrMtmlTReUSiXYO8gxm03o9boLHqsoLaautorAkHCWfDKfg/t2MHn6HJJ6pOHs4orK0YnFH8+jurwEjaZNdPAK1wWRbAtXTGRMPHMefob333yRj//7T15664PLbrN3/8FERscjVyhQKJSER8ZQW13JgGEjbaWAIaERyOVyNG1ttLY0k30yA3cPb3r1GYCPXwASiQRHRydumzKdb7/6mMMH99iSbRdXNwbfMpawc4thnZ+3d15Rfi6lZwtJGzDkXDlVx3zVXn0H8fHXmwkIDEYhV/CXV99B7iDHLzAYq8VCW2sLVrMZCRI06jYM+ouXfwlXh9FoxGKxIJPZcakzKHv1GUhEVByubu64unt0jB60tiJBgsGgR93agvTc5wtArlDg5OxCbU0VRw7swcnZhRHjJuLp7Qt0lM0l90zjyME9lJwtRCqzo6S4gOGjJxITn2Tr9e/VZyC9+g6kMC8HgMaGOk6fzGDUbZNJ7plm2zauz4BhpO/ayrGD+6iprCA0smNF25TUvsQn90ShVCGRSC5YvEyn01JYkEu7po2+A4YRFBLecY44OXP/48+h1bbjHxBEaFg34pO6d4zUn5t32tzUiFQiw2wy09LS2Blvi3CDkEglBAaHMmHqTN7/54ts+m454d1iLqtNq9VKUGg4aQOG4OHpjdVqxS8gGC9vP5J69CYgKBSpVEpyz77IZDIa6moBSN+9DaPB0LEQU2BH1YnK0Ynknn3YtXUDZ3IyGTLyVqCjMqvPgGHEJnS3rYD8wy8Ik9HI/p1b8PMLYsiIW203+z179ycoOAwHuRw3d08eeup57OzscPfwwt7BAW17O0aTAaVSRdO5OanCzcXXL5C0AUNY/fUXbF73LdPnPHLByK5a3ca3SxZRXVXOuEl3oW5rJT/3NF4+fowcN5m4pO5IpVK07e00N9ZTW1tlWzvjxxwc5ERGJ1BZXoLZbKJbdDzQ0Vm05psvOXJgDzPuf4zouAQ8vXw4uG8nfQbdYpsyVHq2gKxTGYSERWBnZ98xWGKF3OwTjDNNs11zyooLKTlbgF9AMM6u7pgvEs8Pddy7RbFl3QoKz+QQm9DRSWuxWNi5ZS0H9+7gjllzOZObSUBIGLeMnkBwWKStk7iwIAeL1Uq7Wn1ZW3MKwtUikm3hipHJZIyZcAcZh/azdcNqBgwbTZ8BQy+rTV//wO9LpyRgb2+PTCbDyfn7OeEyOzvs7OyxWi20tjTR2tpM5vHDPDV32gV7WZ+fc5qfc8r2Mzt7e9w9vS56/OamBnS6dgKDwy64SNrb25PUPRWpVIrVasXT05sNa77hxNEDlJ3ba1Kv16NRt5E2YChW66/P1xKuLG9ff+QKBZq2ViyXMH8OwNHZhdqaSr7+8kOyTx6jvPQsanUbOp0WbXvHYnk/N4tMr9NSejafM7mnuXfqyAsW09Np22lrbaaluZGSonza1Wq8fP0uGGGQ2dkRHhFDYV4OJqORhvoaTEYDPn4BF3ym5XIF3r7+aDRtaDRttp/7+AYglcp+tqzPaDDQ0tSAUuWIX2Cw7TnnF8k5//8qRyfKy4pZ+N7r5GaepLqqDK1Gg06n7fjcW8T8OeFCdnb2pPTqw62T7uKLj94n4rtv6dlnwGW16ejobKvwkEgkSGUyHJ2cUCiVtmuDvb09EokEy7nv2dKSQpoaG3j24bsvOF+MRgOtLc0Eh4XbOqBUjk44Obt8n2j/iMViobGhlpRefS8YVVMoVYSEd7PFZTKZ2LdzC4fSd1JSWEB9bRUGo4HmxobrYttLofPJ7OyYNvMBsk9m8NUn8ynIzWLEbZPx9vGjrqaKdSuWcPLYIdL6D+a2ydMxmUy4uXty/HA6Z3IyiYiKobm5kRVLPuXIwb1oNRrbvYSTsysSiYTd2zbi7OJKnwFDGXf7nfzjz08w761XuOfBJ/HxDeBw+i6WfbaQqLhEXN08CAwOY/CIsXzzxUfM+9fLjBg3iYbaar5Z/BFGowHo+Dz7BgRyy5gJ7Nq2HncPb0bfNoW2thZWLv2UvOxT3P/4H/EPDKa85Oyv/h3sHeTExKfgHxjMyqWfolSqiElI5mTGIdav/pq4xO4Eh3ZUZpUVFXC2MA//oBAaamtZvGgep44ewsXVzXZ+C8K1TiTbwhWlUCh54rmXOXZ4H2+9+H8sXLr+str78bxa288vMjfIYrF0lNf2SGPs7dN+thfUNyDwB/+S/OI8KKvVys9mU2D7PZ1Oy4t/fJjjR9JJ6dmHAcNGEx2XiEbdxtLPFl60beHqCo+IxtHJmZzTJzoqDZx/+py6mmo+/eDfODo5MeP+J8g8fpgP3n2NdnUbyT37cHv/IcTEJ5O+Zxsrl3z6i8ezWqyEhnfj8T++/LOPR3SLJS/7ZMdKzhIJPx5uN5s75sNJpFLs7R1AwkU/q3Z2dhc8JpVKf9LeDyLDci5RlvzoST88r3ZtXc9/Xn8BiURK2sBhDLhlFDFxieRmneTTBe9c/IULNzWlypEhI24lN+skm777Bp2u/bLak0h++h3d8Tm9eH2KxWzGxc2NZ154/Wfnyfr6B+Lq6v59W7+yWrjFYsb8oxv9H54rrS3NLPj339m6fhXdYuPp1WcAYd2iSerem6fun/ZrL1G4gfn4BfDK2wtZ/Mk81q9axu7tG5FIJFitVpQqR+6YNZfpsx/F2dUNq9XK8DETyc06yb9efY53X38eqVRGj7T+3H7nbDasWkbRmVzCu8UQHBJO91592b11PSeOpPPRso2k9R/Ck39+lU8X/psn7p1iO3dS+w1m5twnbCt83znrIeztHPjmy4/YvmE1js4u3D7tHhQKFRp1RyeUm7sHM+5/HLPJxFcf/5fP//cuVqsVbx8/Zj/0NKNunXzRNRl+TCKREN4tmkee/isL3vk7f/u/h5DQsdZD/yEjmD7nYcIiuzH7waeY//arvPDUXNtARr9Bw3n+tfd457W/kJ+bRei5Di5BuJaJZFu44rx9/Xnuxbd4+sG7eOfVP13S7+h0OoxG42Uf293dE0cnZxobaolL7G4rVwJoaWrk6MG9ODtf+srgbh6eKJRKKstL0Go0KH6wlddfn3kAX78g+g4ayqF9O5k593Ee+cFcqaMH9mAxi/20rxV+gUHExqew8btvKDiTRar7IKQ/GM2yWCxUlpewftUyBg4bhclo4MiB3RgNep5+4XWGjPh+3v2xg3t/cWVUB7mcgJBQykvOEhWbaBsxBqgsL6G0uAg7e3tCwruhcnSiqCCvY2uwH9y85GWfBDoqRlzdPLCT2VNeXHTBcSxmMzWVFdj9yrZGPySXK/Hy8UXd1kpVVdkFj+3ftZUt61YwcdosVny1CJPJyEdLN14wAp596sQlHUe4OUkkEoLDIhg9fiq5p0+ycc03mEymC76LAcxmCz/uydRqLy8xPy8wOByZVEZQaAQJyT1tP29qqKcoPxd7e4cLzv1fIpVK8fYNoLKkGLPZbBsBV7e1sH7VMupqqvH09uXowb3cOftB7pgx11YtZdDraaivwdvXr1Nel3D9kUgk+PgF8MwLr/PI03+l6EwOWl079g4ORMcmoVSpLnhucs80/vPR11SUldDS0oSvfyB+foHY2dvz2LN/u6DteZ+vorK8tOMYvv7I7OyYOG0Wo8dPoaS4AE2bGh8fP/yDQpCdW7DWZDQilUq4a87D3H3foxe0t3V4L3wCAs7FIiUgKITnXv4XDzz5J8qKzyJXKggKCb9gt5luMfEs25D+k9cdEBTCwbx6279lMju6p/Zl/merqKmuoKaqAm/fAPwDg22rl/cbPJwevftTVJBLu0ZNSFgkPn4d8Uy8Y6atrSefe4Unn3vld70fgnA1dO7mx4JwEUNG3sqIsbeTvnf7BT+3k9mhVDpSX1tNydkCoGM1zhNHDlBZVnzZx3V2dSMyKo6SogIyTxxB94Obt4Xvv8EfH53JmZzMX2jhQlHR8fj4BXJw705qqsptCVZu1kk2rFoGWDEYDEilUlSq74dK1W0tZJ3KoPBMzmW/JqHzTJ15Px5ePvzjz0+S94PpBBazmeKCM7z54jO4uXswevxUJFIpJpMJOzv7jpHlc2qrKzicvts2AgAdc7EB1K0dP3N2caPfoBFUlZey+bvltk4XdVsrK5d8yit/fITszONERMURERXL9g2rKcrPtc3H275xDccO7bO17+HpTWL33pw+dYy8H3x+jxzcy+lTx+gWnYCXz6Xd0DvI5QSHRuAgV3Ds4F406o7yc4Nez57tG8k6lYHFYsFg1OMgV5zbvqYj0W7XaPhu+ZeX/gcXblpp/Ycw8tZJNDbU2RZeOs/N3ZO8rBNo2zW279TN61bQ2tzUKcceOmoc7e0aVnz1ia1CxGg0sm/nZp7/w33s3raho5rkEtjZ29NnwDCqKks5sPv7BaqKCwvYun71ua0ewWQyoFI5XbCf8ppvF2MwGDrlNQnXP6VKRUL3XqT2HURKzz4XJNoXPs+RbjHx9EobQFBw2C/u0R0QFIJ/YLAtmYaOKQ4xccn0TOtPUFjEBY9VlJfwyKyJvP/PF2lp+n7djaKCXIqLzvykU0wqk+Hp7Uv33n2JS+x+0W1dL5W9gwNBIeH06jOQkLCIn2wTplAqiU/qQWrfQbZEWxCuN2JkW+hUUqm0Y4TgZ25cXnjtPU6dOEy7WmObs+rp7cuAISNZ8O7fefVPjxGb0L1j/+J2De6eXrYbIIlEgszODqnkR+WDUukFc1ttz5XJbCXnE+6YQXlpEf979zWOpO8hNiGFnFMZHNi3g9smT2foyFsxGgxIpZKfnacnkUqRyqRIACcXV6bf+0hH6dMfH2LILWOxWq2sX7mMbtFx3PPAk1isFjw8vVn2xUK07WocnV04efQQBbmn8fUPwKDXY9DrkNAx31AiEX1eXSUmPpknnnuZ9958kfunjSGpe2+8fHxpaW7i1PFDODq5cM+DTzJ4+FjMZjPRsUls37iGT+b/i7zsk+j1Bvbv3IzZYkbl6IS6rQWLxYyruwfePn6sXPYJxUV5PPrs3+g/eDiH9u/kq08XkJ11nIjIWE6fPEbO6ROMn3I3Kb36IJPJePCJP/PKnx/l8Xsnk9S9N2aziZzTJwgJj8Ro6Kj28A8MZtqsB3j9b0/x16fn0m/QcIxGI4fTd+FgZ8/EqTMIDgmnsbG+YwG4H5ebS0Aq+77UPCY+mTtnP8ii+W9TXTGThO6pFOZlk515nFkPPEFUbCJ9Bgxlyacf8MpzjzJo+BhaWlrYuu5bVI6ONDc3oD7X2SA9f/5dYvIi3Fg6vqt/+r0mVygZPX4qZSVFbFm3EolUapu2MGz0BD56/w2ennsX/QaPoKqqjFNHDxIdn2wbce4oM5X9pIT8/DXnws9bx2fw/PWiW0wCd8ycy+qvP6eyvJRefQdSUVrMwX076NFnAMPx+o2PAAAgAElEQVTHTOi4vkilP/vZlUiktmuDvb0Dk+68h0P7dvDGS88waPcYHJ2cyTi8H6PBwJCRtxIYHMaBPdv5atE8KsqKCQ2PIjfrBMcPp+Pj409LU6OtU0Emk13yqLogdLbAoFCi4xJZv2op9XU1xCf1oKm+nvVrlhEcEsH02Y90dYiCcN2Tvfzyyy93dRBC1zh48CB6ix0xCZ23XU9DfR0KhZLUvoNxdbtwWwuFUkloeBRWi4XuqX2JjIrr6NUMDcfXP5DK8mJqqjr2PZ48/T68fPzoFh1PQFAIJoORpsZ6uqf2JTA4zDZ/p7mpHpXKkbT+Q2wlt+0aDVqdltiEFELCInF2caVXn0G4e3hxtjCXgrwsJBIJ0+c8wsNPPW9rq7W1BZlUSmqfQTi7dpSWW6wW2lqaUaocSeyeiqubB0EhYSSmpKJRt5F9KoPqqnIGDBvNX197DzcPL+RyBal9B9NUX0d2Zga1VRWkpPZh9sNPExEVi0QiJTQiCge5Axp1G7EJKQSFhF0wWno5Nq75htvGjcHHx7tT2ruWLfjgAybfff9ltREZFcfAoaNQqBxpqK2mqbEeq9VK/yGjePSZvzF89ASg46Y+KDScsMhoKspKyM06gcGgY+Kd9zD17vuwYsXDy4fwyGjs7O2JSUyhraUZO3t7ElJSCYuIomfvATi7ulJaVEBRQS4ubh7cec9D3H7HLNw9vbBYLCiUSgYOG4O3rz8Ws5nQiCiefeENSooKaKirYfq9jyCVyfDzD6RnnwG0tbSQn3ualqZG0gYM5dFnXuxYrE8mw2w2UVddSXR8ElGxibaEwWKxUFVRRnRsEvFJPZDLFUR0i6VbTDzlpWfJz8nE0dmZmXMfY+S4Sbi4uhGf1BNnFzfKigvJOX0CtbqF6XMe4cEn/0x1ZTk+vgG2tQkAErv3tu0Q8Fto1G0c2L2ZWTNnXNb7KlyaefM/YOqMuZ3SltVqpf3cgoE90wYQFBJ+weNuHp64unngIJeTkNST8KgYHBzkxCV2x83dk6bGOkrPFuDu6cUfX/onzq7uePv40SO1HwajgdbmZoLDflQK3liPg1xBSs803Dw6Fk4zm4xUV5aT3CuNbjEJ2NnZ0aN3f9u5m5d9EqPBwKhbJ3P3fY8SdG7BsuamBmTnFnX74foezU0NWC0Who4ch1LliMrRif5DRmIxW8g9fZyaqnKiYhK4/7E/ktp3EO4enkRExWIwGig8k83Zglz8g0J49m9vEhgchkbdSr/BI7Czt6emqpKg0HB6pPbrlPcAOrZsKsk/zYTx4zutTaHDJ4sWMfK2O3CQy7s6lE4hlclIPretVk7mCQ7s2UZtdSV9Bg7lb2/Ow9c/8Ncbuc5p1G0cFNcc4QqSWH9poqFwQ3v33f/QapIz4Y5ZXR2K0ImevG8KC//7LgkJ8V0dyhWXmJTMl2t/Oj/seqVtb2fdyqX4+PrTZ+Aw5ArFua26Wnhoxnjc3D2Y//nqrg7ziqqpquCdV55my6YNXR3KTSEmPollGw50dRhCJzp94gh7Nizlow8/7OpQbjj9BgzkrYXf4OTs0tWhCJ2kpqqCd199ms0bxTVHuDJEGbkgCMI1QmZnx6mMQxTkZWMyGwkICsVisXBgz3aqKkqZdNecrg5REARBEARBuEQi2RYEQbhGODg4MG3WAyz+ZB5ffPgeTs6umAwG2ts1TL7rXm6bdFdXhygIgiAIgiBcIpFsC4IgXEOSevTmjy/+kzM5p6mrrcLeXk5YRDdiE1LEQkqCIAiCIAjXEZFsC4IgXGO8fPwueesuQRAEQRAE4dok9hwSBEEQBEEQBEEQhE4mkm1BEARBEARBEARB6GQi2RYEQRAEQRAEQRCETiaSbUEQBEEQBEEQBEHoZCLZFgRBEARBEARBEIROJpJtQRAEQRAEQRAEQehkItkWBEEQBEEQBEEQhE4m9tkWBEEQBEEQhF9hMZv58+Ozkcpu7LEqnVaLQa9HoVLi4CDv6nCuKIvFQqCvV1eHIdzARLItCIIgCIIgCL9i1cqVmM0mQNLVoVwRanUbL730Enl51cyZM4f33n+fGXfP4IEHHkAmk3V1eFeGBBTyG7tDQehaItkWBEEQBEEQhF8REODf1SFcMadOneKxxx4jKSmJf//73/j6+jJq1Ciee+45Xn/9NV5//XW8vMQIsCD8Vjd2HYwgCIIgCIIgCD/LbDbz8ccfM2vWLB5++GHee+89goODcXBwICEhgSVLluDi4sIdd9zB8ePHuzpcQbjuiJHtm5iDgz3ffDyf5V980NWhXBEWiwWDwYC6TY3JZEAilaJSOaJSqZBJpSC5McvA3D08kMsdujqMq8JRpWLW+P5dHcZVUV5ehsloxNHJCTs7O+zs7LG3s8PO3h6ZTIbkBvk8S6VS0vr06eowbhpSzDfcOWQ2mzEajZhMJoxGA0ajEb1Oj4ODA75+fl0d3hVnb2/P+PG3dXUYwjXOZDJRUVHB22+/TXl5OV988QWJiYk/KRd3dXXllVdeYfny5TzzzDPMmDGD6dOno1KpbpjrjiBcSRKr1Wrt6iAEoTNZrVYMBgNnz55l8eLFnDp1isGDB5OZmQnAgw8+SI8ePVAqleJCIVw33n//fRYuXEhsbCzl5eW4u7uTlpZGWloacXFxuLq6olQqUSgUN1TyLQi/xmq1YjQaaW9vp729nbNnz7Jr1y6OHDnCmTNnGD58OGq1mpCQEF555ZWuDlcQupTVakWtVrNnzx4WLVpEbGwsjz/+OP7+v1wibzQaSU9PZ8GCBYSHh/PAAw8QEhKCvb39VYpcEK5PItkWbihms5nGxkb279/Pt99+S1BQEA899BDh4eHo9Xo+//xz1qxZw9SpUxk9ejT+/v4iKRGuCzqdjjfeeIPy8nJeeOEFmpub2b9/P+np6dTX1xMREUFSUhKJiYn4+fnh4uKCi4sLKpUKqVTMGBJuLBaLBa1WS0tLC01NTRQWFpKRkUFGRgYmk4n+/fszbNgwUlNT0Wq13H333bz88sukpaV1deiC0GWMRiNlZWWsXLmSw4cPc/vttzN+/HicnZ0vuY2SkhIWLlxIbW0tM2fOJDU1FScnJ3EvJQgXIZJt4YZwfjS7oKCAtWvXcvz4cSZMmMDEiRNxcnK64Lnp6em89tprpKSkcM899xAREYGDw81Rdi1cv6xWK3V1dbz00kt4e3vz9NNP4+7ujtlsprq6miNHjpCens6JEydQKBQkJSWRlJREdHQ0Hh4eODs74+zsLD7rwnXLbDbT3t5OS0sLDQ0N5OXlceLECY4dO4aTkxP9+/dn+PDhJCQkXDDadvLkSebOncvevXtRKBRd+AoEoWtYrVa0Wi2nT59myZIlaLVaHn74YZKTk3/XKuONjY0sXbqUffv2MWHCBEaOHImHh4fo2BWEnyGSbeG6Zzabqa2t5ejRo6xduxYnJyceeOAB4uLiLvo7DQ0NvPXWWxQUFDBr1iwGDhwoVtkUrnkWi4WCggLefPNN4uPjefDBB3FxcbngOTqdjoKCAg4fPszhw4epqKggODiYyMhIIiMjCQwMxMPDA09PT5ydnW/c7VyE657VasVsNtPc3Ex9fT3V1dUUFhaSnZ1NSUkJHh4epKWlMXDgwF/sNH3rrbdoamrijTfeuMqvQBC6nsViob6+nl27drFp0yZiY2OZNWvWr5aN/xqDwcCOHTv4+uuviYmJ4fbbbyc8PBy52EZLEC4gkm3humW1WtHr9Rw/fpytW7dSXFzM8OHDmTBhwiWVRJnNZtasWcPnn39Ov379GDduHPHx8djZiXUDhWuXyWTi6NGjLFiwgJEjRzJ58mQcHR0v+vzGxkZOnjzJiRMnOH78OFarleDgYIKCgggMDMTPzw9fX19b8i0IXc1kMlFVVUVlZSXl5eWUlpZSUlJCfX09gYGB9OvXj9TUVPz9/X+1s8hkMjF27FhefvllBgwYcJVegSBcG/R6Pfn5+WzYsIHCwkJuvfVWRo4ciVKp7LRjZGVl8emnn2K1Whk9ejT9+vUTZeWC8AMi2RauWxUVFWzfvp309HT8/Py48847f3E0+2JKS0t57733aG9vZ+zYsQwePBg3N7crELEgdA6dTkd6ejpLlixhwoQJjBkz5pLLwwsLC8nKyuLUqVOUlZXh6OiIu7s7Hh4eBAQE2JJwLy8vUXIuXDVqtZqKigpKS0spLS2lurqahoYG2tvbiYiIoGfPniQlJeHr6/ub2s3Ozmb27Nns27dPjLgJNw2r1UpLSwu7du1iz549KBQK7r77bhITE6/I8erq6liyZAk5OTmkpaUxduxYfH19RVm5ICCSbeE6ZDQa2bdvH1u2bKG1tZURI0YwZsyYy+qpVavVrFixgv379xMbG8u4ceOIjo4WFwrhmqXRaNiwYQM7duzgzjvvZNCgQb+pJPz8irT5+fnk5ORQUFBAS0sLSqUSpVKJu7s7wcHBhIWFERwcjKurqzgfhE7V0NBASUkJBQUFFBcXo1araW9vx2q1kpCQQEpKCtHR0ZdVcfHyyy9jsVh49dVXOzFyQbh2WSwWzp49y+rVqyksLKR79+5MmTIFT0/PK3pcvV7Prl27WLduHR4eHkyZMoWEhAQxVUm46YlkW7iuFBcXs2rVKnJzc+nWrRuTJ08mMjKyU9o2Go1kZGSwevVqjEYjw4YNY9iwYahUqk5pXxA6W2NjI8uXL7eN3vXo0eN3l+6ZTCbq6uooKCggPz+fiooK9Ho9VqsVqVSKn58f4eHhREVFERoaKka9hd/MbDZTV1dHXl4eOTk5VFVVYTabsVgsuLm5ERkZSVxcHNHR0Z0yncdgMNC7d28WLVpEr169OuEVCMK1zWKxsHPnTr777jsUCgUTJkwgLS3tqm7PlZ2dzfLly6mtrWXEiBGMHz9eTM8Tbmoi2RauCzqdjk2bNrF582acnJwYOXIkQ4YM6fSyQIvFQmVlJRs2bCAzM5OIiAgmTZpEWFhYpx5HEDpLZWUlX375Jc3Nzdx7771ER0d3Srvt7e1UVFRQVFREWVkZ9fX1aDQatFotEomEbt26ER0dTVxcHH5+fp1yTOHGYzQaqaio4OTJk5w+fZrGxkYcHBxwcnLC19eXiIgI28J9nX1DfuzYMWbPns2xY8dECblww2tqauLzzz8nMzOTnj17MmHCBIKDg7skloaGBjZs2MCuXbuIiori/vvvx9vbu0tiEYSuJpJt4ZpXUFDAl19+SU1NDf369WPo0KGEhoZe0WO2tbVx7NgxNm/ejMFgYPLkyVe9d1gQLoXVaqWoqIhFixbh6OjI7NmzCQwM7NRjWCwWmpqaqKyspKKigoqKChoaGqivr6elpQVnZ2eSk5NtW4390oJtwo3PaDSSl5dHRkYGmZmZqNVqvLy88Pb2JiAggJCQEMLCwvDw8LiiI16vvPIKRqORf/zjH1fsGIJwLTh16hTz58+3jWb369evy6vyTCYThw4dYsWKFTQ0NPDkk0+KChPhpiSSbeGapdPp2LJlC5s3b8bNzY2RI0fSt29f5HL5VVnl8vy+3Zs3byY/P59BgwYxduxYsXiacM2xWCwcP36czz//nJSUFCZNmoSHh8cVO57BYKC6utqWeFdVVdHY2EhjYyMGg4Hw8HCSkpJITEzE399flBDeBIxGI5mZmRw5coSsrCyMRiO+vr54e3sTHBxMSEgIISEhuLq6XpU5nEajkSFDhjBv3jx69ux5xY8nCF1Br9ezZs0aNm/eTGRkJBMmTLhii6D9Xnl5eaxevZpTp04xadIkJk6cKAYuhJuKSLaFa9LZs2dZvHgxpaWlDBkyhMGDBxMYGHjVF9qwWq3U19fbFmTz8/Nj9uzZhIaGim0thGuK0Whk//79LFmyhGHDhjFhwoSrMsJ8fqG12tpaampqbNs1VVVVUVVVhUqlIjk5mZ49exIfH4+zs7M4d24Qzc3NnDp1ivT0dDIyMvD09LRtKxcaGkpgYCC+vr5dsqXc4cOHefbZZ9m2bZsoIRduSBUVFSxYsIDa2lpGjhzJ8OHDr/giaL9XS0sL27ZtY+3atURFRfHwww9fs7EKQmcTybZwTTm/wvL69esJCQlh3LhxJCUloVKpuvQGXavVkpeXx6pVqygtLeXOO+9kyJAhnbpXpSBcrvPVICtXrmT69OnccsstV30EwWg00tLSQlNTE/X19VRUVJCfn09BQQH19fVERkaSmppK7969CQ8PF6Pe15mqqioOHz7Mnj17yMvLIygoiJiYGBISEvDz88PLywsPDw8UCkWXxvn888/j6OjICy+80KVxCEJns1gs7N27lw8//JCIiAgmT55MXFzcVav6+70MBgMnT57k66+/prm5mT/84Q8kJSV1dViCcMWJZFu4ZhQVFfG///2PyspKJk6cyKBBg/D09LxmbsbNZjMNDQ1s3ryZlStXMnDgQO677z7c3d27OjRBsGlvb+fbb79l69atPPXUU/To0aPLtuyyWq3o9Xra2tpobW2ltraWvLw8srOzOXXqFBKJhL7/z959R1dRrQ8f/56c9N57QiqBQIAAIfSOEJoEGxdFFK73vojYr/5EVOzlIlgQBQQREEQEAiiEEkoIAUJCgJAC6b33euq8f0SiCHotkJOyP2u5lpzMmXlOm5ln72fvPXQoQ4cOZfjw4TrpARV+n0ajIS8vj+joaKKioiguLqZnz54MHDiQPn364OTkhJWVVbuVh/8RSqWS/v37880334gScqFLqa+vZ8uWLRw/fpzp06czadIknJ2dO82yjBqNhvz8fPbu3cupU6d48MEHmTp1qqg+Ebo0kWwLOtfc3Mzhw4fZtGkTffv2Ze7cuXh7e3fYVtrm5mbS09P55JNPUCgUvPLKK/j5+XWai53Q9TU1NbFmzRqSk5N59dVX8fLy6hC/JY1Gg0KhoKWlhebmZnJycoiLi+PcuXMkJSUREBDAmDFjGDt2LL179xbLi+mIUqnk2rVrREZGcvLkSWpqaggODmbMmDEEBQVha2uLqakpxsbGyGSyDvHd+qXTp0+zdOlS9u7dK+bYELqM1NRUPv30U5qbm/nnP/9JcHAwJiYmHe73979otVoaGhqIjo5my5Yt9OzZkyVLluDo6Kjr0AThjhDJtqBTRUVFrFq1iqSkJJYsWcK4ceMwNjbu8ImrVqulsbGRDRs2sGnTJpYvX86sWbN0HZYgtGlqamLp0qVIksTy5cs7ZAWGRqNBrVajUqlobGwkLi6O06dPEx0dTXV1NWPGjGHChAmMGDECV1dXXYfbpSmVSi5cuMD+/fs5fvw4CoWCyZMnM27cOPr164eFhQUGBgbo6+t3+Jv7ZcuWYWFhwVNPPaXzcnZB+LtUKhWRkZF88cUXhISEsHDhQlxdXdHT0+vwv8XfIkkSGo2G1NRU1q1bR01NDS+88IIoKxe6JJFsCzrR0tJCdHQ0b7zxBv369eOVV17BxcVF12H9JefPn+eRRx5h/PjxvPvuu5ibm+s6JEEAWqsw5syZw8iRI3nyySc7TameRqOhqKiIgwcPcvDgQS5duoS9vT1hYWFMnjyZ/v37i+XFbgO1Ws3Ro0eJiIjg0KFD2NraEh4ezvTp0wkKCuowZeF/hlqtJiQkhG3bthEQENDhG24F4fdUVVXxxRdfcPLkSZ588kkmTZrU5Sp+qqurWb9+PVFRUTzxxBNMmTJFzFYudCki2RbalSRJVFdX895773Hw4EHeeOMNwsPDdR3W39bQ0MCiRYtISUlh06ZNonVW6DCuz4GwdOlSpk+f3ilvYurq6rh48SKHDh3i4MGDVFdXM2zYMKZOncrEiRNxcHDolImhLlRXV3Ps2DEiIiKIiIhg8ODBTJkyhVmzZhEQEKDr8P62c+fO8dZbb7Ft2zYxB4DQqWVkZPDWW2/R3NzMa6+9RmBgoK5DumOUSiURERGsXbuW2bNnM2/ePCwtLXUdliDcFiLZFtrF9YmSYmJiePvttwkICOC1117rtL3Zv+Wbb77hzTffZMmSJcybNw9zc3PRsyLo3OXLl3nggQdYvXo148aN6/TfydzcXE6dOsXRo0c5ffo0bm5uDBs2jHHjxjFo0CCMjY3bSp47+2v9KyRJQqvVtpXoFxUVcerUKSIjI7l06RLBwcFMmzaNadOmdanldyRJ4tVXX8XW1pbHH3+801RyCMJ1kiTR2NjI8ePH+eyzzxg+fDhLlizpkMOA7oSEhATee+89vLy8WLRoEZ6ensjl8k5bLi8IIJJtoR0oFArKy8tZs2YNR48e5fXXXycsLEzXYd0RWq2WnJwc/u///g9zc3Oee+45fH19xbhBQeciIyNZunQpX331FUFBQV0mCVUqlVy+fJmYmBiOHTtGZmYmgwcPZtiwYQwYMAAPDw9MTEwwMTHByMioy7zuX5MkCZVKRXNzMw0NDeTm5nLu3Dmio6MpKSmhX79+hIWFMXr0aGxsbLrkzWtzczNTp05lxYoVOp2FXxD+rOtjmPPy8ti5cyfHjx/niSeeICwsrNtV7RQXF/Phhx9SVFTEggULGDp0KGZmZl3ynCV0DyLZFu4YrVZLeXk5sbGxbNy4EW9vb5YtW9blZ5yUJIm6ujrWrVtHTEwM8+bNY+zYsdja2oqbP0GnNm/ezPr161m/fj29evXSdTh3REVFRVuSefHiRfT19QkKCiIoKIiePXtib2+PpaUlZmZmHXbFgz9KkiSam5upra2lqqqKrKwsLl26RGJiIi0tLQwZMoRx48YRHBzcLUqqT506xSeffMKnn36Ks7OzrsMRhD+soaGBhIQENm3ahEwm4+WXX8bX11fXYemMQqHg22+/Zffu3YSFhTF9+vS2SeEEobMRybZwRzQ0NJCWlsbOnTu5du0a//rXv7psb/ZvUSgUREdHs3nzZnr27Mndd99Nz549RS+3oFPvvvsuiYmJrFixAk9PT12Hc0ep1WoyMjKIi4vj7NmzFBQU4OLigr+/P97e3ri7u2NnZ4etrW2HWif691xvzKuoqKC0tJTs7GxSU1PJzMxEJpMxZMgQRo0aRa9evbrdJHJvv/02JiYmPPbYY92icUHoGgoKCoiMjOTgwYNMnjyZhx9+WNwn/CQxMZGVK1fi6urKP/7xj047caPQvYlkW7itrpdBnTx5kmPHjuHv78+CBQtwdXXt1D1If5VGoyEjI4MtW7ZQUVHB5MmTGTFiBA4ODt3y/RB0T6PR8NJLL6FUKnnhhRe6zZJa1ydnvHLlComJiaSkpKBQKHBycsLd3R0PDw+cnZ1xcnLCwcGhQ5UtqtVqKioqKC4upqCggPz8fPLy8igoKMDGxoYhQ4YQGhqKj48P+vr6ug5XJ+rr61mwYAFLlixh+PDh3fZ9EDoPhULBxYsX2bVrFyUlJSxZsoSQkBBdh9XhlJeX8+mnn5Kbm8u9997L6NGjsbKy0nVYgvCHiWRbuG1qa2uJj4/n2LFj1NTUEB4ezqhRo8QkNbQu33HkyBGOHTtGQEAAYWFh+Pn5dcqZoYXOr7Kyktdeew1HR0cWL17cpSbJ+qPUajUFBQVcuXKFy5cvk5+fj5GREXZ2dtjY2ODi4oKbmxseHh44OTm1e/LW0tJCSUkJubm55OXlUVxcTGVlJeXl5bi7uzNo0CAGDhyIh4dHu8bVUZ08eZKtW7eydOlSvL29dR2OIPyu0tJSDh8+TFRUFH5+fixatKhbnof/KJVKxffff8+ePXsYOnQos2bNwsfHR9dhCcIfIpJt4W9Tq9VkZmZy9OhRUlJS6NmzJ+Hh4bi7u4vxNb+gVCq5dOkS+/btQ6FQMG7cOEaMGCGWtxDanVarJSMjgxUrVhAYGMjChQu7fdltXV0d2dnZpKSkcPXqVerq6jAyMsLMzAxLS0s8PT3x8vLCw8MDGxubO3Juq6+vJy8vj4yMDHJzc6murqaxsRGtVouXlxf9+/cnKCgIa2vr237szu6tt97CysqKefPmifdH6LA0Gg0XLlzg4MGD5OfnM336dKZPny5Ko/+gxMRENmzYgLGxMdOmTWPkyJGi00Lo8ESyLfwttbW1nD17llOnTtHc3MyECRMYNWpUt79x/z25ubns2bOH9PR0Bg0axNSpU3F0dBQNE0K7UqlUnD17li+//JJp06Yxc+ZMMU7wF4qKikhNTSU1NZXs7GzkcjkmJiaYmppib2+Pj48PPXr0wMXFBRMTk790DK1WS319PdnZ2WRmZpKXl0dtbS2NjY3o6enh4+ND//79CQwMxMLCosOUtXc01dXVPPXUU8ydO5eJEyeKEnKhQ6qtreXkyZNERUVhbGzM3Llz6du3r0i0/6TCwkI2btxIYWEhY8eO5a677sLW1lbXYQnCbxLJtvCXXO/NPnjwIFlZWfj5+TF16lS8vb3FheMPqK+v5+TJkxw/fhwzMzOmTp1KcHCwKLkX2lVzczNHjhxh3759zJgxg2nTpolE5VckSUKhUJCTk0N6ejpZWVmUl5cjk8mQJAlTU1Pc3d3x8fHB398fOzu7330PtVotlZWVXL16leTkZAoLC9FoNABYWlri5+dHQEAAXl5emJubt9fL7NROnTrFtm3bWLx4MX379tV1OIJwk8zMTCIiIsjKymLw4MFtjeyiAe3PkySJhoYGDh8+zPHjx3F1deWee+4hICBA16EJwi2JZFv40xoaGjhx4gRHjhzBysqK8ePHM3DgQFEO/SdpNBrS0tL48ccfycrKYsSIEYSHh3eoiZmErq+uro49e/Zw+vRpHnroIUaPHq3rkDo0jUZDbW0tOTk55OTkUFhYSHV1NS0tLTQ3N2NjY0NAQACBgYH4+flhbGyMTCYjLy+PpKQkkpOTKS4ublv728HBAR8fH/z8/HBzcxMNbn/BypUrkSSJefPmdfmlJYXORalUcvbsWfbv34+BgQFhYWGEhISIKqLbQKVScfnyZfbs2UNjYyMzZ85kxIgRGBoa6jo0QbiBSLaFP0yj0ZCdnc327dspKrt3b5cAACAASURBVCoiNDSUcePG4eHhIUqg/4bKykpOnTrF0aNHsbCw4LHHHhMTfwjtqqKigt27d5OUlMQ///lP+vfvr+uQOo2WlhbKysooLi4mPz+f0tJSKisrqayspLGxEXNzc5RKJY2NjXh6emJvb4+LiwteXl5t/xbVBH9ddXU1y5YtY+LEiUyfPl2M3xQ6jIqKCvbv38/58+cJCgpiypQpeHp6iuq/20ij0VBUVMSBAwdITExk6NChzJgxQ0w2J3Qo8uXLly/XdRBCx9fc3MzBgwdZvXo1Dg4O3HfffYwdO1YsYXUbmJqa4uvri5eXF9nZ2WzevBkLCwv8/f11HZrQTZiYmODm5kZ2djZxcXH4+flhY2Oj67A6BX19faysrHB3d8fT07Ott+Xw4cMUFBSg1WqpqKggKSmJ4uJiPD096d+/P7169cLBwUE0VP5NCQkJZGVlMXLkSNzd3XUdjiCg0WhISkriyy+/JC8vj2nTpjFlyhScnZ3F7/0209PTw9LSEn9/f0xMTIiOjubChQu4u7tjb2+v6/AEARA928IfkJOTw6pVqygvL+eee+5h+PDhODs7iyT7DigrKyMmJobNmzcTHBzMU089JWbWFdqFVqslOzub9evXY25uzr///W8cHBx0HVaHV11dzYULF4iNjSUxMRFLS0sCAgLo3bs37u7umJubI0kS9fX1FBQUkJGRwbVr1ygvL6dHjx4MGjSIIUOG4OvrK8of/4KPP/4YpVLJ/PnzRQm5oHONjY0cOXKEPXv2tK3M4uvrK4aHtIOWlhbS0tLYt28feXl5PPjgg2K2cqFDEMm28Lt27NjBmjVrmDZtGrNmzcLT01OMNbrDFAoFWVlZrF27lpycHJYuXcqQIUN0HZbQDWg0Gq5cucLatWsJDAxk/vz5YmWBX7neU33mzBmOHj1Keno6zs7O9O/fnwEDBuDu7o61tTVWVlYYGBjc0CipUCior6+nrq6OyspKUlNTSU5OJjU1FbVazaBBgxg+fDiDBw/Gzs5O9IL9D2VlZbzzzjuEhIQwZ84cUZ4r6FRZWRnr16/n0qVLzJkzh9GjR2Nrayt+x+1Io9FQWVnJgQMHOHjwIJMnT+aee+7ByspK16EJ3ZhItoVbys3NZdmyZRQXF/Pqq68SHByMubm56M1uJ5IkUVFRwQ8//MCGDRv4xz/+wcKFC0VDh3DHqdVqzpw5w4YNGwgLC2PWrFndvldGo9FQWFjI4cOHOXbsGOnp6QQFBTFq1CgGDRqEk5MTpqammJiYIJfL/9B5UqvVolAoaG5uprGxkfz8fBISEoiLiyMtLQ03NzfGjBnDmDFj6NOnT7f/DG7l2LFjREZGMmvWLIYPH67rcIRuSqPRkJqayjvvvIOVlRVPPPEEfn5+4jerI5Ik0dzcTEJCAp9//jkeHh48+eSTuLm56To0oZsSybZwA41GQ0REBCtXriQsLIyFCxdib28vynB0QJIkGhsbSUlJYdWqVVhaWrJs2TI8PDx0HZrQxSmVSiIiIvjhhx9YtGgRoaGh3bJ3JjMzkwMHDhAVFUVhYSGhoaEMGzaMgQMHYm9vj6mpKcbGxn+7R1WSJNRqdduM5lVVVaSlpREXF0dcXByNjY0MHjyY8ePHM3LkSFHe/5OPP/6Y2tpaFi5cKG6kBZ1oaWnh6NGjfPzxx0ydOpUHH3wQOzs7UWXRASiVSnJzc1m9ejVlZWUsXbqU3r17iwkphXYnkm2hTVZWFh988AGZmZksW7aMkJAQTE1NdR1WtyZJEpIkUVxczPr164mJieHFF19k/Pjx4mIu3FEqlYovvviCxMREnnzySQYMGKDrkO44tVpNfHw8hw8f5scff6SxsZHJkyczZcoUBgwYgJmZGQYGBujr69/RKh9JktBoNKhUKtRqNfn5+cTGxnLs2DFiYmLo0aMHU6ZMYcyYMYSEhHTLHrTq6mrefPNNevfuzcKFC7tlY5CgWw0NDbz66qvExsbywQcfEBoaiqGhoagA7EC0Wi1NTU1s2rSJrVu38uyzzzJz5kxRJSi0K5FsC2g0Gr777jvef/99Zs6cydNPP42tra2uwxJ+RaFQEBkZyUcffcTkyZN5/PHHxdrmwh2lUqlYtmwZDQ0N/Oc//8HLy0vXId12TU1NxMbGsn//fiIiInBwcGDy5MnMmjWLkJAQXYd3k+sNAj/++CNRUVFkZmYyZswYJk+ezPjx4/H29tZ1iO0iOjqagwcPtjU6CEJ7SktL48EHHyQ4OJiVK1eKa3EnEBsbyzPPPMPEiRN55ZVXRMIttBuRbHdT18sW09PTWb16NQUFBTz//POEhoZ2y16SzkKr1ZKcnMyKFSuQy+UsXryYfv363fGeNqH7qqmp4cUXX8TZ2ZnFixd3yuX+rleIqNVqVCoVFRUVxMfHExkZyblz53Bzc2PKlClMmzYNb2/vTlM1otVqKS8v58SJExw5coS4uDhMTU3bxnr3798fa2tr9PX10dfXR09Pr9N9drciSRKff/451dXVLFiwABcXF12HJHQDWq2WlpYWNm/ezIoVK3j99dd58MEHdR2W8CeUlZXx7LPPUl1dzerVq/Hw8BBl5cIdJ5LtbkitVlNTU8ORI0fYvn07ISEhPPbYYzg7O+s6NOEPqqys5KuvviImJoZ77rmHqVOnYm1t3WmSBKFzKS4uZsmSJYwbN46HHnoIS0vLDp+0SZLUVkLY2NhIaWkp8fHxREdHk5GRgYeHB5MnT2bixIm4urp2id9OU1MT6enpnDx5kpMnT1JcXIy3tzehoaGEhITg7u6OmZkZJiYmGBsbd/jP8LeUl5ezatUq/P39efTRR3UdjtANKBQKcnJyWLFiBUVFRXzyySf4+vrqOizhL1Cr1Xz22Wd89dVXvPnmm4wZMwYLC4tOez4UOj6RbHcj1yfcunLlCnv37iUvL4/58+czZswY0ZvdCalUKqKjo/nqq6/w9fXl3nvvpWfPnmLMmHBHpKam8uKLLzJnzhxmz57dYUvwlEoltbW1VFdXU1JSQnx8PImJiZSUlBAUFMS4ceMIDQ3tFmsyl5WVER8fT2xsLPHx8ejr69OnTx/69u1L7969sbW1xdLSEnNz8w77ed7K6dOn2b9/P9OmTWPUqFG6DkfowiRJorKykpiYGDZs2EBoaCjPPPMMZmZmug5N+JtiY2NZvnw5I0eO5OGHH8bd3V30cgt3hEi2uwmVSkVhYSHHjx/nxIkT+Pv78/DDD+Pp6anr0IS/KScnh3Xr1lFWVsasWbMYMWIEVlZWYsIg4bY7deoU77//Pk899RQTJ07sMI069fX1VFVVUV5eTl5eHmlpaaSkpFBTU8OQIUMYPXo0wcHB3XqtVZVKRXZ2dtsM51evXsXDwwN/f398fX3x8PDA1ta2LQHvqCtQaDQavvnmGzIzM3n88cdxcnLSdUhCF6VUKsnKymLXrl0kJSXx8MMPM2HCBNE50YUUFRXx3nvv0dLSwty5cxk0aBAWFha6DkvoYkSy3cVJkkRTUxOXL1/mwIED5OXlMWfOHMaPHy8uGF1IQ0MD3377LVFRUYwfP55x48bh5eUlWmmF22779u1s3bqVDz74gD59+ugkBq1WS319PZWVlZSXl5ORkUFGRgbJycmo1WpGjRrFyJEjCQoK6lQ9tu2poaGBuLg4EhISSEhIQKFQ4Ofnh5+fH97e3jg7O2Nra4uNjQ2mpqYdpmGlsrKStWvXYmFhweLFi0WjonBH1NXVkZiYyI4dOzAyMmLBggUEBgZ2ieEmws8kSaKuro6NGzdy+vRp7rnnHsaPH4+jo2OHOecJnZ9ItrswrVZLfn4+x48fJyYmBi8vL+bNm0ePHj10HZpwh5w9e5b169djbW3NjBkzCA0NxcTERNdhCV3MypUrOX36NO+88w4BAQHtcky1Wk11dTVFRUUUFhaSl5dHXl4eOTk5WFlZMWTIEEJDQwkMDGyXeLqS69eKxMRELly4QFZWFhYWFri7u+Pq6oqrqytOTk44OTlhZ2eHoaGhzmKNj49nz549TJo0ibFjx+osDqFr0mg0FBYWcuTIEU6dOsXQoUO5//77xQotXVxzczMxMTF888039OrVi5kzZ+Lv799hK3yEzkUk211UQ0MDZ86c4cSJE1RWVhIeHs64ceN0epMktI/S0lK2bdtGcnIyQ4cOZerUqbi6uuo6LKELaWlpYfny5RQVFfHmm2/So0cPtFotGo3mtt6cKBQKSkpKyMvLIz8/n6KiIsrLy6mrq8PR0ZHg4GAGDRqEi4uLqOK4TSRJoqGhgWvXrpGUlERaWho1NTVYW1tjY2ODo6Mjbm5uuLu74+Li0q5DVtRqNbt37yY+Pp7nn3++W4y7F9pPc3Mzly5dIjIykurqambOnMnw4cNFg3U3odFouHbtGlu3bqWlpYWwsDBCQ0NFWbnwt4lkuwtKT09n7969XL16ld69e3PvvfeKsdndjFqt5vjx43z//fdYW1tz9913M3ToUFFyKdw2dXV1vPzyy8jlcp577jny8vIoLS1l9uzZf3mfkiS1zfqbkZFBbm4uFRUVNDc3o9FocHV1pV+/fgQFBWFnZydKOtuBRqOhvLycq1evkpycTE5ODkDbjOaOjo706NEDb29v3N3d79jwJEmSKC8vZ9OmTchkMp577jlxPhP+Fq1Wi1KpxMjIiNLSUk6cOEFsbCyurq7Mnj0bPz8/8R3rZiRJorS0lIiICJKSkhg0aBATJ07Ew8MDpVKJXC4XDbvCnyaS7S6kvr6eyMhIoqOjMTY2JiwsjNGjR4sTQzeWk5PD1q1bKSgoYOjQocycObOtHE6j0aDVakWZlPCXXV+z1M7OjqtXr6Kvr8/27dv/dE9AQ0MDaWlppKWlkZmZiVKpBFoTuh49etC7d298fHywsbER4+h0rLm5mby8PNLT08nKyqKiogKNRoOenh4GBgb06NEDX19fvL29cXFxuW3JSm5uLmvWrKGkpIS7776b8PBw8V0Q/jKtVktOTg5Hjx5l8ODBHDhwgPLyckaOHMmECRNE2Xg3V19fT0xMDEePHsXc3JwJEyaQn5/PgAEDCAwMFOce4U8RyXYnptVqkclkyGQyrly5wrZt26ipqSE0NJQpU6aIWVoFoPXm+NChQ0RFRWFubs79999Pnz59SEhIIDc3l1mzZolJpIS/pKqqinnz5hEfH09DQwMhISF89tlnt5w47ZfnK2hN1FNSUrh8+TKZmZmYmppiaGiIjY0Nvr6++Pn54enpKZbY6eCqq6vJyckhJyeH/Px8amtraWlpQaFQYGpqSkBAAH369MHX1/dvlWOePHmSKVOm4OLiwsiRI5k/fz5jx44V1Q3CX9LQ0MDq1avZsGEDEyZMwMPDg7vuuosBAwaIBmgBaK0QTE1NJTIykpSUFOLj45kzZw6LFi0SjTHCnyK6PDupkpIStm/fjoeHB1VVVcTHx+Pp6Ul4eDiDBg0SpU9CGxMTE2bMmIG3tzcHDhxgzZo1+Pj4cOHCBSoqKrCysmLy5MniOyP8aYaGhgQGBhIbG4tSqaS0tJTk5OQbkm2FQsGxY8eIiYlh+PDhKBQKLl68SGlpKTY2Ntjb2zN48GC8vb1xc3PDzc1NzC3RidjY2GBjY0NwcDAqlYrS0lKKiora/svMzCQ+Ph6FQoG7uzt9+vQhKCgId3f33/ycW1pabmoAvD7E4PoYfpVKJXqXhL9EkiQKCwv5+uuvycnJ4fz588yePZuQkBBdhyZ0IPr6+gQFBVFSUsKuXbtITU1l27Zt3HXXXaLKSvhTRLLdCZWUlPD555+zceNGzM3NGThwILNnz2bUqFE4ODiIE4BwE7lcTlBQEC4uLhw7doxPP/2UtLQ09PX12b17N+7u7gQFBek6TKGTMTc359lnn8XX15dVq1ZRXl7OhQsXuP/++1GpVCQnJ7N9+3YOHjxIUVERZ8+eZeDAgXh5eREaGto2yZa9vb1o7OkCDAwMcHd3x93dvW3ZybKyMkpLSykuLqawsJBz586xe/duDAwM6Nu3L4MGDSIoKAhLS0v09PSor6/n8ccf58UXX6Rv375t+5bJZBgbG+Pr60t4eDjDhw8X3xnhL1EoFGzcuJHMzEz09fUpLi7m9OnTjB07VjT0CTdobGwkISGB/Px8zM3NyczMZNeuXfj4+GBnZ6fr8IROQiTbnUx5eTkbNmxg69atlJaWUlhYiFqtZsmSJdjZ2YlEW/hNenp62NjY4OTkxLVr16itrUVPT4/IyEjc3NxwdnbGwcFB12EKnYyzszMPPvggLi4ubNiwoa1nc/fu3ezcuZPk5GQqKyuxtrZGkiQmTJhASEgI1tbWogS4C5PJZJiZmeHt7Y23tzcqlYrq6mrKy8spLS2loKCAwsJCduzYweeff46npycDBgygubmZvXv3UlVVxWOPPcaMGTOQy+VIkoSBgQHDhw8nPDwcS0tLXb9EoRPSarWUlZWxY8cOevToQWhoKAMGDGDkyJHifCTcxNDQkAkTJqCvr09SUhJxcXHs27ePhx56CFtbW3HPLfwhYsx2J1JRUcG6dev48ssvaWhowMPDgwEDBjBx4kQmTZokkm3hf9JqtVRUVBAVFUV8fDxnzpwhIyMDa2trli1bxv333y/Gb98B+fkFvPHmm9TW1uo6lDtGqVSSk52NQqnE19eH/Px8CvILUCgUqNWtJb8WFhYEDxyIlZW1rsO9LaytrXnggQeYMH6crkPpdJqbm6murqaqqory8vK2Gej37t1LamoqcrmcwMBAwsPDefrpp7l06RIvv/wyH330EcHBwaJX+zZatuwV0jMy6A63g5IktfVWmpubY2dnh42NDRbm5uh1sWTb2MiIcePG8uijj7bL8dauXcupmBiUSlW7HK+9aDQaGhoa2s5XTU2N9Avq19rg103uuXv3CuD111/XdRidVqdPthMSEnjv/Q9oaKjXdSh3XEuLgpLiYurq69DTk2NsbIy5uTk21tYYGhl1qd+8k5Mzjz++iCE6HkMVfeoUn3z8CY1NjTqN43aSpNbEqL6+nrq6up+WVVLj6OiIg70Dcv2udcNxKx4eHrzwwgv4+fq2y/FSUlL49+NP8vTL77XL8XRHQpJoa/STJC2SJCFpJSQkmhobMTQ0xMjYGJms8ydLp48fwsvFiieXPNHux25sbOSxf/2L6urqdj/27abVamlqaqK2tpbUlBTUajXIZOjL5Zibm+Pt7Y2+gSEVZeX4+PliYNB1i/KsrKyZ88ADzJp1d7sdc8yYsfzrudcxNukukxFev+3tQjdNt1BSmMv5E/vZtGlTuxxv0aJFuPr2J7D/4HY5nu50j+/PLy178mFSU1N0HUan1emvWJWVlRiYWvP0s2/oOpQ77pfNIl0psb6VnVvXk5eXr/Nku7S0DEtHDx57+N86jeNO607fLYC1H71NZUVFuyXbEiDXl+Pj36tdjtdRabVagBtmJe/Mki6eR61W6OTYGo2GaxlZvP3xJp0c/06QJNBo1Dc9LkOGTE8PGSDT6/zfm99zJjqKpCtX2jXZVmvU9PDxx8xclOZ3JTJZ62SD7UWj0eDg7Nrtr3NdUXNzs65D6NQ6fbItAUbGxjg6u+k6FOE2MjQ0brsx1yVJkjA2NhXfry5GLtdHq+3URT2dkij9vX0kWhstxLmpazGzsKShtELXYQiCIAi3ibjzEQRBEARBEARBEITbTCTbgiAIgiAIgiAIgnCbdfoyckEQBEEQBEEQBEmS2mbWvz43yK3mCPn1dh1pHpHrsXW0uIS/RiTbgiAIgiAIgiB0ek2NDRQV5NFQX4eTsyuOzq7oGxjctF1tTRXZGdcwMDDAx78Xpmbmf/gYrUvINWBkZIy+vv5tT4g1Gg3Jly/g6OSCi5vHbd230P5EGbkgCIIgCIIgCJ1eZnoaHyz/Dwvvv4s1q96ipLjwltvt/W4LC++/i2cee4DszGt/6hiV5aVs+nwluVnpd2R9+uamBh6fN5OI776+7fsW2p9ItgVBEARBEARB6DLMzC3JuJpCaXHBTQmxUqngxz3bMTE1/Uv7jo6KZOfW9dTX1d6OUIUuTiTbgiAIgiAIgiB0GX69AlGrVGRnXEXxq/XGM66mkJ1xlb4DQtoe02q11NZUU5SfS8uv1pWurCijuDAfhaKFyooyKspL0Gg0FBfmU1KUD0B5aTH5uVk3PE+pVFJaXEhFWev219XV1pCdcZWkxPMkJZ4n81oqTY0Nd6SXXNA9MWZbEARBEARBEIQuwz+gD6XFhVy6cI4RYyfh4ubZ9rdjkXvp4eNHQO9+ZF1LBUClVHIx/izxZ6MJf2A+Pv692rY/FRVJfm4W4XPmk5p0kcTzsaiUSo4c2E15WTHz//UUh37YRU7GNZa9+0nb86ory/lxz7eYmplz930PYWJqRl5OJicO/8C1tCs0NTagVqmQy+UEDxnB3fc9hJW1bfu9SUK7ED3bgiAIgiAIgiB0GTa29gQE9iM74xrlZaVtvcYN9XWcOnaIqbPm3DBxmkajpiAvi4Szp6itrb5hXxlXk0k8f5r6ulrsHZyws3dCT66Hm6cXbu49AEi5fIEzp6JueF5TUyNXLsaTlnwJtVpNTXUl+7//hsM/7MbO3pGxd01n9IQp6MnlfLHqbeLPnb7D74qgCyLZFgRBEARBEAShS+k7IAStVkN62hUULa2l4UmJ5ykvK2bStNl/aZ/BQ4YzYPBQDAyMmDD5bsZPmfmHn9vY0IChoRFTZz3Aw/96ipn3PMi9D/6T+f9+BplMRlrSxb8Uk9CxiTJyQRAEQRAEQRC6FL9egTi7uHMp/iyjJ4RhbGJKzIlDePsF4Obh1e7x2No7MGXmfSCT0VBXS2F+LtWV5WSmp6LRqNFo1O0ek3DniWRbEARBEARBEIQuxdralr4DBnPkwB6qKyswMDAg4WwMM++fh55e+xf3GhgYUlFeSvTRA+TmZKBWqTA0NASZHtpfTKAmdC0i2RYEQRAEQRAEocsZPHQUkft2kpqUSOa1ZJoaGxg59q7f3F6tVqP4xWzkarX6hpnE/xRJQpK0bf9Mu3KRbzd9TmVFGSHDx+DZwxdrW1skZJyJPvLXjiF0eCLZFgRB6CbUKiU5WRkYm5jg7ul9099VSiVVlWWo1Wrs7B0xNrl5DdKa6koqy8vw9PbFwMDwhr9ptVpqqqsozMumpbkJIxMTXN08sbVzQE8ub9uuvLSEurpqnF08MDUzQyaT3RyrWk11VQUtzU3YOzhhYmr20/GrqK4sx8rGFitrW+S/2K8gCO1HpVJRlJ9LRUUJWrUGBycX3Ht4o6//86RTarWaksJ89A0McHZ1/819NTc1UVFegoWlFZZWNv+z11Gj0VBbXUV+XjbKlmbMzC1w9/TB0tr6tr2+jqaqopz62hrsHJ0wt7DUdTidhn+vvrh59CAu9gR1NTUEBPbDwdH5pu305HJMzcxRKhU0NNS3PV5VUUZNdeUfOpYkaWlubMTErPV61dhQT1lpMVY2dgAkX0ogJSmR+x76J+FzHsHM3AI9PT3OxhxHkkCpUPz9Fyx0OCLZFoQ7TK1Wo1S0INfXx8jIWNfhCN1Y/LkYPnpnGZbWNnz4xTdYWN54Y1pZUcbOreu5fCGOOY8sYuzEqcj1b7xMxJ6MYvumNaxcux0HJxcAJEmitrqKH/Z8y8kjP1JTXYFGo0FPT46NrR3DRk9k6qwH2m62U68ksu2rNUyecS/TZ8/F4Bczwl5XXlrEprUfoS/XZ8Hi5zExNUOj0XAw4lsORHzH8LGTuP+hf2Ln4HSH3i1BEG5FpVJxOeEc+3dvJz0tiZbmJiRJwsjYGL+APsz/19P4BQQC0FBfy7pP3sPewYkn/++N39xnbnY6X6/9iFHjpzB+8oxbNvRdV1lexp4dXxN78gh1tTVotRr09fVxdHZj8ox7GDNxGpZWXS/pPn54PyeO/MhDC58gdOQ4XYfTaZiYmjJwyAj27PiaspIiXlj+35saigEMDQxxdnGjvraGuNPH6dt/IHp6cg7u3cHlxDicXH5uLDI0NEImk3HpwjmsbWzx9gugh29PTp84zA8R25ky/T4qK0o5tP978nMy8e/VFwB9AwNktDYaq9Uq9PT0SE1KZMv6T1AqFDfNgi50DSLZ/g0HInZwcO+Omx43MTXDzcOL8WF3E9g3uEv3qmReTeWj915m5PgwHpj3mK7D6VS0Wi0Fedns2raRpMTzNNTXYmBgiKe3H1Nm3kfI8DGY/tRTJ9ysrqaaQ/t3kZmRyt33PUzvvv11HVKX8OPu7TQ3NpKbncGJwweYce/cG/6uUiooLswn8XwsZhaWeHr5tN0kXFddVUF66hVUKlXbY3W1NXz83iuciz2BX0Afptx9H45OLlRVlnP6+GF2bdtIXnYmCxY/h6eXLz7+vSgvLeHQvu+ZMuPem5JtSauluDCf2JOHuWv6vVhZ2QBQmJ9D/LkYSoryOR65j1HjJmNr73jLnnHh7yspyufQ/l0olQpm3DMXZ1ePG/4ec/ww+77fgrWNHc+8/C4mJiZ3PKbr54aamspbxvSbz6ut5svV/8XW1p5HFj1Lfm4W33+zEU8vH+6Zu4DIvd9x9OBe7nvonyKR+R0ajZrD+3fy7dfr0Gq1jJ4Yhn+vvujpybiUEMeBvTu4lnKZjzd8j7OrO2q1mvycTFTK3++xk8lkyOVyZLLf79Gur6tl784t7P1uMwF9+jHrgflY29hSUlRAVORe1n3yHnpyOePumtHlrrGVFWVkZ6RRX1er61A6nSHDx/L9to2YmJoyYNDQmxqRAWR6enj79WLsXdM5cmAP8WdPoaenh3sPH9w9vG54Tq++/bG0smLrl59yPHIfX+85RtiMezl5+EfWfvQO321eh56eHGdXDwaFjmx7XuiIcVxJjOdAxLecP3MSfQMDmhsaGTNpKrlZ18jPyWyX90NoXyLZ/g0FedlcOBeLs5v7DQvM19bWcP7sKX7YCkWzzwAAIABJREFUtY1nl71L2N336zDKO6u+voazp47hdotyU+G3SZJEQV42S596lMqKcvoGDSQwKJjGhnrSki/xzitP89DCJ5g951HMzC10HW6HpFQpyc68StKFOMZOmqbrcLqEksICYk8eZcY9DxF/5iQ/7t7G1PAHbt1gKJMRd/oEvfv2x9HZ9YZz4K+pVEoORHzLqWORTJl5H48ueg5zC0vk+vpoNGpGjJnEd1vWs//7b/D08eXeuQtxcfMkePBQDv+wm4K8HPx79blhn42NDSTGn8HYxIyBQ0a0rYWampRIUX4uYyZNI/lSAhcTzuHt3wszM/Pb+l4JrZqaGklPu0JLSzMTwu6+4W8njvzAZyveRKlo4e2PvsTIyKhdYrp+bigrLboppt+jUipJvpSAs6sb0FremXw5Hq22dSxmQX4OcbEnGCPON7/r8oXzRHy3BVMzcxYsfp6gAYMxMDRCBgweNoaevYN486Un+OSD13jnow1/eL8+/r14/tX3MTIy+d0KsJqqSo5F7iOgTz/+7/UPW0vO5Xqo1WoC+wXz8XuvcuTAHgJ6B+EX0Oc39yN0Xb7+vXhh+X8xt7DEyLi1AdC3Z2/e+3QTejI9XNw92xpo731wAeMnz8DbtycymQwHJxcWP/cKE8NmkZudga29AwGB/ZDJZKgUClzcPYHW7+tHX+4kO/Ma+vLWVMrd05sP137D5YTzVFWV4eLmSWDfASiUCiStFlNTM0zNzFny4utMnB5OQW4WRsYmBPYdgKuHF3dNm01LSwsAJqbmrNmyD8efqseEzk0k279B0mqxsbPnoYVLGDVhys+PSxJZ11J58Yn5fL7qbe6aNvuWLWRdgYmpORqNRvQa/UkqpZJ9O7dQVVHOE/95jeGjJ6Kvr49WqyU/N5uvPv+Qw/t30bffYIKHDNd1uB2WVqtF38AQA4P2uYnv6qIi99LY2MC4u6ZhYmbaWnVxIY4BIcNu2rZPv4FIksQPu7bTJ2gQQ0ePv2Ec5i8pFQp2bvkSZ1cPHvl/z2Jr79B2ztDX18fQwYlZ9z/MtdQkDu/fxcixd9GzdxCjJoRx7NB+oqMO3pRs19VUcy7mOB6e3vQLDgWgqbGBtCuXMDQyZsykaVSUlXL6+CHGT54hku07RWr9HWq1WpB+fjjmxGE+W/EmTY0NvPLuJwQE9m/XmX1vFdP/IgFajQatpnWyIkmS0Go0SNrWfxsYGKKnp3fDZEbCjdQqFRfjY8nNSmf+v58hePAwDH/RyGJuYMD4ydM5cfRHDAwM0Kh/XsZIo1GTk3mNAxHfUVKcTw8f/5+SnAAAqisrSDgbg7d/AL49AzH4je+TSqWkrraawH4DsXNw+sW5xoBeffozaWo4xUX56P+iTLipsYFDP+wm8fxpTEzNGDV+Cu6e3lxOiGPk+MmYmpmRmnSR8tJiBg4Zgb1j69CUlpZmYk8cxcTUlKDgkLZx0nk5mUQd3Ede9jVUKhXuXj4MHzWRfgOHAFBVWU7y5QuYmJhSW1NNXOwJ+g4YzOjxU7CytiUzPZVTxw6RkXYFc0srho2eyJgJYTe8zuamRhLjzxBz/BBqlYrhYybR1NjwNz/B7sHUzBwf/17IZLKfvx8GBvTs3ReQ3XCucnb1wMnZrW1OEblcjo2dA4OHjWLA4KHoyeVtJeeSJLU9V1/fAG+/nnj08Gnbl568tSfb1s4RzU9DGwwMDFvPKVJrz7lMJsPGzp4hw8YwMGQ4MpmstSRdTw9vvwC0ktQWR59+A3UyY7pw+3XNLPE2kcvlWFhaYf+rMYG2dg4MHzORowcjSL96hV59BgCt45gKcrPIuJaCoYEhfgF9cPP0umm/zU1NpKVcorykCIBefQbg6e3b9ne1Wk1VRTkmpqYUF+ZRXlqMX88+OLm60dLcTFZ6KoX5ORgZm+DfKwhHZ5ebeqdqqqtISoyjuakRZzcPevcd0HbC0Gq1NDbUo9VoMDE1JSvjKvm5WVhaWRMYNBALSysAevwU0y9PJgpFC+lpyeTnZmJlbUNA735izOSvaDRqUpMvYWFpxaSwWRj+opXewtKa0BHj+GbDZ5SXlQDQ0tJCfW0NllZW1NZUk3TxPCBjYMgwbOwcbtp/fV0t11KTqCgrwdHZDf+APphb3jxZSklhAakpl2hpbsTC3Ip+g0LbxrFpNBoa6uvRajWolAoyrqVgY2tPD28/FAoFenpyjI2NSL58gfLSYjy8fAkI7IdcLqe8tIjLiecxNDSi74AQbGztbjhuY0M9WelplBTloyeX4+XTEw8vHwwNW2/KlIoWqiorsbWzQ6FQkHg+FpVSia9/b7z8egJgbm6BrZ09tnb2WNv83Kual51J5rUUVColPXx74tczsEsP5bhdNGo1+3d9g5u7J32DQ7CyseWbjZ9x5GDELZNtW3tHQkeM44fd2/h28xc4uLgS0DvolvtOT0umrLSIB+b/GzuHm0u6ZTIZzm4e9BsYStLFePJysvDy7cmwUeNxdvXgx4jtLFz8/M+xatTk52ZRkJfNw489hblFa/VHdsZVUq4kEhgUTO8+Axg4ZDhbN6wmJ/MaDk7OtxyDJ9x+p08e4eN3X0GtVvLKe58yaMjItsqD65RKBSmXLlBSXIC1rT29+vS/4XdcXlpMTVUlLu6eVFWWkZ6WjCRBv+AQHBydkf3iBvP6JFxpKa3nVCdnt1vGpdVoyLiWSl52Oiq1CgdHZ/oFD7nh/Pt7bOwc8PINwMLCqu2x+rpaLiacpbG+DnMLSwYOGYmpWdcqTf4zystLyMq4iqunF/69+mBgePNvzsjYhNc/WAPQlsBotVouX4znpSWPItdvnYTqTPRRzkZH8fhzrxAcMpziwjy+3fwFYXffj6eX7y3ncYDW8bdunl6cORXF9k2fM3323Lbrmr6+AeEPzEer1bY9v76ulpefXkhi/BmGj5mEQqHgjRcfx9s3gMqKMnr17Yejsyux0Ue4nHAOd0+vn5Pt5iYivtuMg6MzXj7+mFtYcv5MNMuefQwTYxMC+w+iuamRPds2cWDPDpa88DqTps6ioqyUyL3fkZ11jYb6OkoK8mlqaCB48DDiYqNZ/d/lqFUq+g4YTH52Jvt2bmV6+D948fUVyPX1aaivY/e3m9j0+Upc3D2xd3Tm0/++RlV52U2/NeFm14ck/JpcfnPKo6enB79KaGUyGQYGhv/zmqKnJ8fQ6MbjyGQyjIyNf/XYzdsYGBre9PuRyeXo/WIb/S7akdcdiU/yL5DL5RgaG7e1+sPPYxb37tzStlaeta0dcxcsZu4jizD9qefl5NEDrPnwTTKuptzQgj41fA5vrVwPQFlJIfPDxzNy/BQO7t2BSqkk7O4HeHDB42z8fCXHD+9vO4axsSmPPfki9z20EPOfbhK+37aRVW+/RHNTE9B6ARo8dBTPv/Y+Pn69aGpsYOuXn5KWfAkDA0Nio4/S0ty6rbd/AO989BX+vfpgbGLK4KGjCAjshyRJlBYV8NJTC7iUcLYtbjsHJxY+8R/CH5gvJv/6iUxPD2cXD9JTrxB1aD9hM+9r+5uenh73z3uM+38xBv7CuVOsePP/6Bc8hBNHf0Rfrk9DQz1GRsa8+MaHTP1pqIJapSIu9iQfvbuMjKvJbc8fEDKMp158k37BIcj09GhubuaTd5cRsXMLipafl6+wd3ThP699wKSps6iuqmDjmhUknj+DvYMTp08cxqOHD/P//TRnTkUhaSVKSwq5mnIZ9U9jc+c99iT9gofw6vP/ormpCZlMRq++A3jpzVX07T8IrVZL7MkjfPrBctLTrtzwmmfNeYRFz7yMnb0jyZcv8MQjs3l00XN8s+FTamtaJwSxsLRmzvx/86+nXsLYxBQ3T280Gg02dvY0Nzfx2YdvsP/7b6ivrWnb95ARY/lkw84/fEPdXV1MOEt+biaP/L9nkcvlOLm4ExwynLPRUZSVFOHo7HrD9jKZjCHDx9Dc1MiW9Z9w9EAETs5uNyRM1+VkpSOX6+Pp5febVTB6enq4eXhhbm5BSWEeLc3NWFpZMyHsbtZ98i4pSRcIDBoItJYun4w6iLW1LcNGjm/b57XUKxTl5zJ99lzsHZ0YOnoCByK+5fAPu/Dv1adtsjbhzjlzKoqP312GTAbvr96CX8/eN8wyr9VqybiazLJnHiMzPRUjIyNUKhV+AYEsfu5VRo6bDMCxQ/s48sNuLKxtuHwhjurKcgCMTUxY/t8vuGvabKC14W7jmg/5et1Hrdc8mQxPb18sLKxu+LxzszNY9fZSYqOPtp2vAJxd3Vn7zY94eP3cYPxbPHp4MzB0BLY/NR6fPHqAD17/D8UFeZibW9LQUIeFhRVvf7yh7XV0N7U/rQTg6OSKjZ3Db/7efz25mUajRqvRMHX2HOY++jiSVssPu7bx+aq3Sbl8gX4DQ9FKEiql8n8useTg5MLDjz3Jmy8tYcUbL/LFyrcJ7DeQ0FHjGD56Ej5+ATckO9s2reFCXAzvfPwVoyeEodVoSE2+yGNzwrB3dEGSJCRJQqNWo1Kp0P7ivkySWldwUKtVSLRu8/E7r2BhbsnmiBOYmpmh1WrJzc7g/82dTvTRA0yaOgtJal2Voaq8jH8+8QKTZ9wLtM45sWH1Bzg5u7Ls3U/x6OGDTCYjYsdm3l/+HEEDhzBt1gNkZ1zj6y9WMX7yTJ579T1MTEyJP3uKT99/jdzs9L/68QmCoCOiPuF3SJKEWq1CoWhp+6+luYmCvGzOnozC0soav56BKBQtbPjsv0QfPcCzL7/L6eRSouKzeeDhf/PD7m38uHcHWq2WqymX2bF5LY7OLmyJOM759GqOxGUweca9HNjzLWdjjrUdu6qynPNnolmw+D+sXPct4XPmc/b0CXIyrvLuxxs5d62SI3GZhM26j++2rCM/NxtJ0nLkxz28u+xpRo+fyqFz6Zy7WskHa7ZQUlTAyreXUlKU33aMM6ei0Gg1fPb1Ho4l5PDMy2/TUFfHnh1f0/jTsgfrth9gUOhIGurr2L55LeWlxWzceZiEzFoijiUybPQEjkfu51LCuXb/fDoqQ0MjwufMR1/fgLeXPsn82eP5YtU7nIs5TmVFGS0tzbe8oTj0wy6effldIs9c5UhcBoOHjmTVWy9xMeEskiSRfjWZ1f9djq29I5v3HOfc1Uo2fHcYfX0DNnz2XzLT05Akie82r+PYof088fxrxKaUciG7no07D2NkZMimL1aiVLS0HTMrPRVJknh9xVpeenMlQcEhABw/8gMBgf3ZdSSBQ2fTGTFmEt9+/QUfvPEf3l+9hZgrxbz01keUFOazZ/smANJTr7Bj8zocXdzYEnGC8xk1HDmfwfR75hK57ztyMq+1NRIBbPpiJf/v2Vc4eamAbftP0atvf04ePUDc6RMATAufw6Jnl2Fr50B01EFOHz/Mgwuf4MTFPM6nV/Py25+QmpTIt5vX3bkPswuQJIkDETuQJJgwZSYqpRJkrf9fXV1JVOQ+JOnW9bjhcx5h8LBR7N3xNZcvnLshkblOpWxBLtfDytrmd+MwNDRETy6nurqybbKkKXffi7GxKXu/29p209tQV8fZ6KMEBgXTw9cfaJ1DI+niedw8vejh449KqcTbpyc9vP05feIIpcWFbQ2fwu2n1Wg4cyqK1f99nYLcHBY//xo+/gE3JNrQOp72xcUPo1ar+PLbg8RcKWHb/hhc3Xqwcc2HXIg73bZtbk4Ghfk5vPLep5xJK2f9jkjsHJz55L1X2q69xw/vZ+fW9dw7dyEnLuZx6MxVRo6dzLWUpLb9qFRKtn+1hpzsdN5f/TVnr1ZwPr2a11espaa6inWfvveHXmNwyHCefOF1+g8cQm1NFV+v/Qj/Xn35MSaFk5cL2HcyCXsnZz55/zXUvyiP7k5USiVKhQJ9fX3k8j93++ju6U34A/ORy+XoGxjg5dcTN08v6mprbmgU/uWxfnnvpVC0IEkS+voGDB01gY3fHebZZe/SMzCIa2lJrP/4PebPHs+TC+7j8oU41GoVapWK2BOH6d03mMFDRwOtve2+PQMJm/nAn379Wq2GJ196g+UffI6hoeH/Z+++45s678WPf7S3LMmW957YBhvbYGz2XgkzjAwSQlbTNk1Xbm9+Xbf33t626b2vpmmaps1uSklCWEnYhJEQhgGDARuMjffe8pJsy5J+fwgUHAMtKQ0led5/wZHOOc+Rjo7P9zzP8/0y0N/PQH8fcrmcoNAwBp0DQ96fmp5FzqTpGIx+GIx+5Od9QmtLEw889m0s/lb6+hw4HHbmLFxGYFAoe7Ztorenm5N5n2Cy+DN/yd1oLj24yMyewJicSaJTQxBuQ6Jn+zpsHW1s3/IOhQUnfMtaWho5ffwoAwP9PPrkv6NUqWltbmLbprfImTSDu+5dA4BWr2fGvMWUlxZzKu8Q4yfNYHBwkNT0LMZPnkVi8ig8Hg86vYH5i1ey64MNtDQ1+PajUCrJzB7PI994CqlMhq2jnYN7d2LwM6HR6nHY7RiMfqx65FvkTJqBf0AQbreHda/9AWtQCD995gU0Wu9FOnfSDLq7Ovnjb/+HQx99yJw77wIgNCySRcvuJ2Osd97wilWPcWD3NuprKhkcHHpT7XK5aG1qQKlUYvEPpKenm5CwSB547NvUVJZdtWbvV5VUKiV55Gh+++p63n7jRfKPHmT92pdY++rz6PQGxk+eyaIVD5CSluEbWg2wZOUDTJt9J3KFAoPCjx/87P+4d8Ek3nvnTRJHjORk3iEcDjsPfeMpEpJH4va4SUnLYO7C5bzxx2cpLS4iOi4BrV7H4ntWs2D5fSiVKgYG+omKSSArZzJnTx3DZuvwzQMKj4xh6T0PMn3OQgBfL3N0fCLLVj1MRJT3e52zcDkn8g5y75pvMnHabAByJ05n++a3qK2pAECukDNy9BhGjR5LSloGrkEXOp2B3MkzyT/6CbXVFYwcPcZ3vNPmLvRluY9LTGHp3Q/yu1//BzXVFXx2YHNHWwuuwUH8/QNxOp0MDAyw5O7VIIERqSJT+fW0Njdy7NABTGYL+3dvRaFUAR4629ux9/Zw6MAuFi27D+1VkvWZzBaWr3qUpvo61r7yPBHRcXjcQwNzlUqDy+2m64oRB1fjcNgZdDoJsAb5RiKEhUeTlTuRPds2852n/xuFSsWZk3n09fUx7dI5eflB05lTx9DrjRz9eC8FJ44A3kDL3tvNwf07RaK0f6LzZ09x4dwZFAoVSrWKHe+9S3xSKiFhEUPmFH68bwe2jja+/5NnSEnLxOkcIDImjkXLV/H7//0vTufnMTorBwCJRMq9a77B+EkzUapUZGVPYMrM+az/y0t0ddpQKJVs2/Q2MfEjePLp//JmlvaDRctXUV1x0bfP3p5uYuNHMCojm6xxk5BKZTgHnUyddQcv/+4Zmuprb/h4bR3t9Pf3YTL7XzrHeggODeMnv/o9bS3NDDqdX8khnlqdHp3eSH9//5BqBJ91OTC+HBjK5HJMFv8htaGlMvlVh/VetmHdq9TXVPkeBCpVatZ8/XtodXrcLheBIWGsevgJ7lvzDdpbWzhz6hgH9mzjyMG9PPvLH/G9H/6CkLAIerq7yRibNuThgEwmJyUtg+NHP76h41coVYwcPYam+jq2bnmbhtpqmhpqKS+7QHlpMWHhUUPebzCahiSXbKitxul08u7aV9jx/rtDP7O+Pupqq+gf6Ke2phKNVkfopWRc4L2vCAoNv+rUMkEQ/rV99f5a3IC+Pgcl589SV1MJgFQiRaFUkpY1jjl3LmXKTG/W0sqyEnp7vfNft29+27d+f38fDnsvXZ0dNDXUkTF2PNGxCXS0t1J87gytzY3U11Zx8tjhYftWqdSER8X6eg6MRj+SR6bz0d7t/PaXPyI9cxyjx44nPjGZzOwJmMwWHHY7ZaXnyJ080xdoA6jUamLik1Cp1NRVV/iWBwQGY/YPGPI+qVSKrb1tSA8kgFqtIXfyTE4cPch3HllB9oQpZIydQGx8EhljxmPw80P4lEwmI3HESH78i+exdbRx/uwpis6cpCD/CJ8c2E15aTHf/Lf/GFISImPsBNTqT0vnGIx+RMXEce7sSRz2XkovFOF2uagoK6G769PAprriIm6Xi/qaShx2O0vvXkNHWwstTQ2UthXS3FRHxcVSzp09OaydZksAIWHDS+eER8Sgu6JsilqjQYJkSAkuqUyGRqdn4FL2zNiEZFaFRlxKDnOK1uYG6murOX3iKF2dHcPOqdRRGb5/K5RK/K1BeNxuXIPDb+JS07IIi4zhld8/wyf7dzF6bC7pmdnkTppBYLAYPnw9+3dvpbvLhtkSwPYtQ8sZmv0DqK4s53jeQabMmH/V9cfmTmbOwmW88cffsH3LO77Mq5clpowCj4eS82dxuVxXnSvnLf9TTl+fg7CIaF9vDcCSFav5aM92jh7ax7gJ09izYwuhEVFkXJpLbu/pofjsaZob6ug3O9i1dcOQbcsVSvbv/ICFy1ah1epEQsd/gk5bB1k5k3jkm//Gwf072fz2n0lITmXp3Q9iMvv7PvPTJ/Nwu920NDUM+VvYUF+Ly+Oisb4GW0cbAHq9EWtQyJAEW0HBYUglUnp7ujH6+XHxwjlypkwfUsIpMDiUmPgkaqrKATCZ/Vm08gE62lpprKuh5dLf1Zqqcrq7OnzZx29ESKg3z8lHH26j8mIxmeMmkZ41zlu2Ln4E6i+gxNm/IrN/ANagYF8uj8TkUVf9vX304TZs7e3cufRuwHvvpFLeWKLLotP5XDh3xjdiRavVc/fqr9Ha0kTFxQukZ43DPyAQiVSKf2AQ0+YsYOK0Obz+4m94640/UFZyHmtQ6BXzdz9tp0SCL0v1jRjo7+Pdta+w9pXnMRpNWPwDiIpLZOKUOfR2duFyX38I/MBAP3g8KJWqYT3U46fOwmS2IAGklxJ7ffZaqtFqh/xeBEG4PYhg+zqsQSE88sQPmDTdm41cqVCiMxiHXQDt9h4GnU4KT5+grrpy2HYiY+JQKFV0tLWwb9cH7N3xHi3NDSiVKrR6A0ajadg6EokUxRXZf6UyGeOnzAKJlH273udcYQFHDu5FrlCQPX4qqx5+Ao1Wj8fjueqNgFwuR6PV4nINDtmH5CqZDt1u17Akr2qNhhnzFuEaHGT/rg8oOHGEj/fuRK3RMGXmfBYuW0VMfNL1Ps6vBI/HQ5/DTnlpMYHBoViDQrD4W5kwdTYTps7G3tvDts1v88Yfn+XYoQMkXpF0Sq3RDvk+JBIJeoMfrc1NuFwuenu6aW9rYf/u91HIhybW8A8IRKs34PG4OX+2gA3rXuF8YQFulwu1RovZHIBCoRySHRa8Nxw6/fDkahqN9qpZ9qXSaycjs7W3sWf7ZvZs24yto83bQ280ejNtXqV26o2UPUtNz+Khb3yf/bs+4PzZU2x663XWvvI74pNSefDx7zJugqiLezV9Djsff7gdg58fz778jjevw6V7TrfLxdmCE/zix9/m0IHd5Eycfs3t3Ln0Xs6dOcn7698keVTmkCHbkdHxJI4YxfFDH1Feep64xJQhvZ1ut5uKixcoyD9CeGQMYRHRQ5L8jB0/ldDwSLZueovo2ATOnjrOfQ9905fnoqaqnLMFxxk9JpdHv/XvvtIrl/35j8/y/oa1nDpxhKCQsGtmTRc+v9iEEax65AlGj8khJDySyrIS3n79RUJCwpk5f4kvAOh3OOjv6+Pgvp3D/k5aLAEEh0Z8mm1XLhuWaffKYekej4fe3u5h1zq5QjkkUBro7+f44Y/Y8s6bVFV48wdotFqiYhM+d/JEpUrFY996mvDIGI4dPsDHe3ewddNfUSk1LFh+H/c99M2vZNlGs9mf+KRUPtm/m8LT+aRnjcPwmfuXjvZW3nz5eWory5k2ewES6ed7+PXUT389ZISdRCJBo9FyYM823vjjszz+3R8xf/HKISMM5AoF4VExGPzMOOy9qNQqtDo91ZVlDA46UeENcN0u7zzrT0lAIsHtdg2Z4tXf5xgyZaCstJi1rzxPemY2P/jZ/xEYHIrH46G5sZ49WzfQ29113WPyDwxCq9dx38NPMCpjrO/8dLvdnC8sQKfTI5crMPtb6XPYaWyo9eUmcLtctDY3DclZ8mU00N/PwEA/KrXmmknyrsXtdtPnsONw2JFKpeh0htvy4UR3lw2FUjWk80W4vYlg+zrkMjkGw/Bs5J+l0xtRqzUsXLaKpXev8S0fHHTS0d6Kx+MhPDKG3Vs38dYbL5I6KpO7V3+NqNhEQsLCOXXiCAf2bL3usCznwAB2ey+jx+QyafocGupqKC46zbFDB/hwu7cnaNGy+1GpNXR2tA9Z93IA2NvTg0r1+X683gzpzYwdP4W5i5ZTXXGRc2dOcnDfLrZueguDn4mI6Niv/I2ux+OhuamB//fkg8xffDePPvn0kBs+rU7P6DE5xMQl0mlrHzJXrbvLdqnmq/dnOTg4SHNDHQHWYORyBSazhZj4JL7/k18REflpwp+e7i462lsJDA5FIpHyp+d+QVVFKctXPUZa5lhCQsMxmiz8789+QEH+kX/KcbtdLk4eP8xbr79I0sg07n/0W0RGxxEYEsahA7upLP/HkrrYOtoIDg3nWz/4GZ22Di5eOMeZU3m8v34tv/zp99iy99RNOpIvl6IzJ6ksL2Hq7DsJCY8c1puSMmo0iSNGUVx4mtLiIvz8hj/4AzD6mVj5wNcoLy3myMG9Q26ClSoVdz/4OM//78945flnuPehbxIeFYtGo6Wvz0FddSWb3n6D+tpqVj3yLYJDw4dsW61Ws3DZKv7yyu/4YOM6VEqVr7b6oNNJWel5aqvKmb/kbpJHZQwbvjt34XI+2b+L7ZvfZtqsO5Hrv9rXoH+G4DBveRyJVEpwaDh3r36c2upK3nzld0REx5GanolUKkNvMGIy+/Pfv3mZsIhPh9Tae3tobWlCpzNg+kz1gmuRSKSYLRZ6e7pwu12+B30D/f047L2+91VXXGSWf/7IAAAgAElEQVTtq7/H6Rxg1SPfImVkJiHhEag1WpbNGnOtzV+XvbcHu6OXu+5dw8oHHqOkuJDiotN8vGc7b/zxWUaOHsP4yTM/17ZvZxKplIyx470PID7cToA1iJxJ0zFbAnC7XDQ3N7D7g41UlZWwfNWjWIOCaW1p+lz7uloyRrfbTWpaJkqViu2b38Lf30pMQhIarY7BwUHaWpo4emg/SqWKqNgE/EwWxuZO5oMN6zidf5QxOd5pBhVlJRz5+EPfdhUKBVqtnk5bB1XlF0kYMRLX4CAnjh6kpbmBkDDvA762lmZcg4MkpaZjCQjE4/HQaWvn5LHDVFeVY7IEDGvzlUalj2XX+xv4cPtmTGYLEdFxuF0uis7k89PvPcaMeYv5+vd/QnpWNjs/eJdP9u0mIjIWvcFIdWUZRafzfVO9vqxKLxRRcPwIE6bNJjo24e9ez+1201BXw6GPdlNTUYaf2cLUWXf8y9da7+tz0NLUSHBouO/hwtt/fomUtNFMmDL7FrdOuFlEsH0TRMXEoTeaKD1fiFQqxWTxx+PxUFdTyUcfbket1uBvDaKy7AL23h5mL1jGhKmzkEgk9Pf3UXjKOye8u6vzmvvo7e3mwJ5tdNo6uHPpPcQlJhOXmExswgjOFxXQ1tyESqUiKTmNorMnqa2uIDwyBo/Hg723h3NnT+F2u4iKjf9cx+iw9/LBprfo73PwyDf/jYQRI4lPSsXgZ+ZiyTm6bTacAwNf+WBbIpFgMltQqtR8sn8XuVNmkjBiJFqtDo/Hg8PeS/nFC9g62hiZMXZI1tb8vE/ImTgds38AEomEC+fO0NrcxKKVc1BrNMTEj+DE0YNUV5SRPHI0SqUK58AAZ07lceSjvcy+cymWgEBqqyuITUjmzqX3+Mpy1ddVc6H4rDeDvst102s3Xn4wMODsZ/L0eUy+VDPUYe+lvPS8L+He53Xy2CFOHD3I/EUrSU3PIjg0nNxJ0ykqOMnJY5/cjEP40nG73Rz6aA8Ou50JU2df9bdp9DMzfspM/vLK8xz+6EPm3Ln0mtsblTGWeYtW8OoL/+tLcAbeUTO5k2dQXVnGjvfW87tf/Qdjxk/C4m/FZmun4PgRWpoamT5nIROnzr5qj+Ds+Ut586Xn2LblbTLHjicy2lt20NbRRtHpfIwmMylpmVedJ5uUmkZMQhLHD39MdcVFkq+YniD8c4zJmcSchct46/U/8NfXX+CpHz9DQGAQ6Vk57Nm+mY/2bGPZfQ+jvJSNvPB0Pnu2byZnwjQmz5z3t3eA97waNTqb8ovFVJaVEJuQjNvloq66grIL51BfmipVXVVOS1MDdyy5m+lzFmIw+uFxuyk6e4q2thYsAYE3fHzNjfWse+NFMsdOYNrsO0nPHEd65jiCQ8I5eewQjXU3Pg/8yyI2YQR3LL6b9Wtf5u03/8T5wgLik1IZHBjg9Kk8ik7n+0bb3WxSqZTImDiW3P0gm956nd/+yls2zBoURJ/DO+2vsa6WWfOX+EbYzF9yD4Wn8/nTc7+itbkJhVLJ4Y8+pK6m0tcrr9HqLtVllrLjvfX09zno7++nqOAEA/39vgfmYZHRhIRFcGD3ViJj4tFodVSVl5D3yQECrEG4XC5fFZirGZUxltzJM/h47048HjfpY3Jx9vezYd1raPUGxk+dhVKpJCF5FGNyJnFw/04UCgVhkdGcOXmM0uLCL32ugMKC47zxp98QGhF1Q8F2n8PBwb07+MvLv8PP4k9SStp1v4t/FflHD3L8yMesefx7+F16wLT57dcZ6L9HBNtfIl/uX+0XxOhnZsHSe9jx/ru8/ec/MnpsLh63h2OHD/DJ/t3cseRutFod1uBQFAolJ44eRKFUIJPJqSwr4eghbxbyLlv7NfehUCjp73Owd+cWBp0Dvrm+J48dwjU4yIjUdBQqFSvuf5T/+fG3+dNvf8HsO+9Co9FSVnKebZvfJj0rh8zsCZ/rGCUSCW6Xiz1bN+HvH0hiivfJb37eQfR6g3dOuFpkyZRIJGh1eu5e/XX+8srvePYXP2L67AUEhYTh8UBjfQ2HP/4QlVpD1riJvprmAIcP7CE6NpERI9Pp7e5i3RsvEhEbz/zFK1BrtGRlT+DAng94/92/AB6CQyNoaWpg66Z1DAwMoFSr8TNbCLAGUV9TxdGDewkKDaff4SDv0H7aWppQKVV0d3UOmat/M0hlMkwWf+QyOWdPHcffGoRMKqXiYgmnjh+h3+Ggr8+B53NmjJYg4WTeJ/Q5HLS3taA3GGltaqSmqoxJM/6+m/evGrfLhU6rZ/qchSSPzLjqkFqNVse4idMpOX8WtVqNUqViZPoYBpz9Vw2KF614gKaGOpob64dMV9Hq9Kx84DHCI2M4/NGHnD11nD6HA6VKRXBoOHcuvZfcyTOwXCO5T1RcAktWrKa1tYmFy+/3LR8Y6MfPZGbWHUuumQhPLldw59L70OoMNDXWi2D7CyCVyVh2z0PUVJaxe+smEpNG8sBj3yZ7/BQSk0eyYd2rqNRqIqJivRnvd7xHU0MtU2fd8XfXQ1colSxYtorfPfNTXvrdM8xftBLwcOzwR5SVniM13dtrbQ0MxmT252zBCSKj47EEWOloa2H3tk2oVGps7W03fHxavYGWpgbeefNPOJ0DhIZH0me3s2fbZgKDQ0lJ++qeYzKZjEkz5mEOsHJg91YqLl6g6tLIJaOfmSUrV7Nw+f1YAry/dZVSxZjcSZjMQ0c0+JnMZI2bQEz8CGQyOSazhewJU4mMjrtu4jSD0cTiFfdjtvhz8tgh78OXkiJkcgVmSwDLH3iUGXMW4n9pRGJcwgi++f2fsvmdP7N10zokUilh4VFkjp1A6aUSmjKZjPTMbO5/5Fsc3L+TPds2oTf4MWHabOKSkjFbrKg1WkLDo1j16JPs2/keG/76Kjq9AT+Tmdl3LmXQ6aSmspzenm4MBj8yxuZi9DMPCY4NRj9WP/ZdAqzBFJ3O5503/4RMJic0PJLZd97F2FxvxnSLv5UHv/ZdNq//M6fyj3Ds8AGiYhOYt2gF3d2dw0o1CtDdbaP8YjEhEVE89PXvM3L0mCG5i/5Vbd24jsb6WpxXjBZ79MmniRXTMr9URLB9DYHBYSSmpOFnvn45G/DeFCxb9Qgut4szp45z4dwZPB4PTqeTWXcsYca8xej0BiZOnY2tvZVzZ09RXXnx0pxEDwuXrbqUfE11aXsqUkZlDKkjqtMbmDRjLh3trRSezqfkfCEymTfr6qz5Sxg/ZRZKpYoJ02bx6BM/4ON9O1j/l5dRqlQ4entIzxzH/MUrCQmLxGHvJSgkjNiEpCGJZ8D71Lq/zzGsF0yr07Fo2Sps7a0c3LeTk8cP++qE37H0XsZNnHbd+bxfJXK5gnmLliORwqEDe9j1wUYGnQN48M59j45NZPrchaSkZQzpYU4eNZpTxw9z5tQxujo7MPqZWbTifuISUwCIjkvgoa8/xfsb1rJjy3q0Oj12ey96vZE7lt5DfGIKGq2Ou+59iN1bN/HBhr9iNJlRKpRo9HruefDrFBw/TE9PF9agEELDIr2Ja64YWiyTyYiMjkcmk/nORwA/PzOp6VlDAjClUklMXOKlEQ1yRmWMZeb8JRSezqexoRa93ohcoWD8lFnodAZAgsfjQaszkJqWNezmS6c3kJSa7rtJutLY3Mk0NtRy9OA+Nr/9BkqVit7ubjKyx/PAY9+5Sd/cl4tUJmPl6q8hkUivedMhlUqJSxzBv//s/0AiQaVWs3jlajx4rjpfzOhn4hvf/wlOpxODYehcf61Oz8z5i5k4bTZNjfX0dneh0eoIDA7xzhX/Gx7/3o8YdDqHnGOBwaHc+9A3kcvl152/NmnaHMbkTPrS9/p80S4HzN45lEMfpvqZLdz30BN02WwU5B9lduMyQkIjePw7P2LzO2+y64ONmPz96e9zoFSouPfBb5B5qfKFf0AQCckjMXzmvAiwBjEyfQwKpRKZTE7muAnc8+DX2b9nK+vXvoxWq/P+LZw+D4PRD5VaTXBoBPOX3M2+ne+z4731aPV6PG43SSlpBAWHU3L+LH0OO3K5gtjEZPwv9XR7ezOTfUOErxQYFMLyVY+wbdPbbN/8Nv7WQHp7vblZHvzad4fk2vgqksvljM7KITUtk9bmJl/SO2tgCGb/gCEP9nQGI6u/9t1ho6nCIqK5/9EnkcnkKFUqIqLieOSJH6BQKodU6bgaP5OFBXfdx6z5S2huaqCnuwulUklAYDBGP/OwB4tpmdkkjEilprIcqUxKYHAYLz33S1+wDeBvDWLBsnuZMHUWtvY2/MwWLAGBvnJel8//eQuXk507mabGehQKJSFhEej0Bl+pMo1Gi0Qq4Z4Hv45UKh123QoMDmH1175DW3MTLS2NKBRKwiOi0eg+vReTSqWER8Xw2JNP09xYj8NuJygkFLVGi7O//3Mld7tdOZ1OKi4We6cquN2UXiii3+HAHGAlPjEZo58Ze28PJecLaW5qQCqVYu/toae7C53egNvtoqG2huqqcuy93Wi0OqJi4gkJi0QqlfqmAjTV1+FvDaKi7AID/f3ExCeiVKro6elGbzDS1FBLc2MDarWGhOSRWPyt1FZXUF1xEadzgMDgMJJHjvad5263m+6uTirLSmhva8HjdnuT3sYmeJPBetzUVJZj62int7eb82cLSBk1GrO/lbjEFN91CrzVgNpbm6ksL6W7qxOVSkVYZAyhYZG+Oem2jjYa62uJiIqlsb7GVw44MDiMxORRNzz/Xbi5xJ3JNYybOJX4ESmER/ztklYSiQRrUAgPf/MpSovP0dxUj8fjISgkjJi4RIx+3oA9Jj6Je9Z8g4qLF2hrbUaj1RIbP4KwiGhiE5J9P1Kjn4nHvv30sLmNMXFJ3P/ok1SUldDa3IhcJscaHEJcQjJanR6JRIJcrmD5/Y+SPjaX+poqHA47AdYg4hNTfL2ZSqWKcROn+4bjXmnpPWu8PWKfKaEjlcoICY/k8e/+iNLiIjpt7chkMkLDo4iKifclMxK854NOb2DRsvvJzp1CTVU5XbYOPIAlwEpUTALWwOBhCcgmTptDwoiRNNTXoFAoiUsYQWTMp8P+VWoNY3MnExkTT3lpMfbebtQaLVExCYSGR6JQenuMZt2xhPikFKorynA6B/C3BjEiNR2Px0NaRjbBoeHodHomz5hPX5/DN3QJvA8D5i9eiUQiwXjF/N24pBS+/r0fDynxZjD6sWj5/b5kWWER0dyz5uuUlZyj09aB9tIftcDgULLHT0EuV6BQKAm9dB5dHip8WXhkNGse/96wcxLAaDKz9O4HyRo3kYbaagYG+jH6mb1z525yL/2XhVQqHVJq51pkMjn6K0ZY/K2ex+v91iUSCRqt7oaG/11vu3K5Ysjoj2tRKJW+81+4eSz+VuYsWIbb7b7qqISEEak89u2n6enuQiaTeXsIs8YRER1Hecl5ent7UCqVhEZEEx4R7fuO0jKzCQmPIPyK3BMAo8fkYA0M9l17NBot8xevJHV0FvW11SjkcsIiY5DJ5PQ57Fj8rWi0OuYvXklyajotLY14PB5CQiOIS0impbmRuppKb5lNnZ7lqx7xBXKBQSEsu+/ha5aLGz95JpHRcVRXlNHf34dM7u2BjI0fcdOn4dyuLgebV6tocdm1rkNyuRz5FQ/W5HL533W9uuzytSYq5u+bGqfR6ryVE/BWirkauVxBYHDokJ7jqwUp/tagYQ+FlSrVkGRc10ugJ5VKsQaHYP0blTRUKu/Drs8u+yqx9/aw9pXfExoeSXNTA+1tLfTZ7Qw4+8kaN5FVDz9BV6eNvTvfo/LiBZzOAXZ+8C5O5wCTps/lzKlj7P5gI22tzcjlcvr6HPgHBHLHknvInTwDt9tNyflC1r32B+JHpJJ3cB8yuZxl9z2MWq0h79B+/MwWaqsr6exox2HvYXRWLulZ4zi4byedtnZampvQ6vQ88NiTjJ88E5fLRVXFRbZu/CvlFy8gk8oY6O9jYGCAuMRkFtx1L5Ex8Rzct5OaqnIc9l62bVqHSq0m0+zP88/8B1Nn38F9D30Tp9NJybkzfLDxr1RXlKFUqxl0OvEzmZk5fzHZE6ah0+kpOV/IprdeJ2XkaEqKi+jt6aK9tQWNTs+cBXexZOXqW/1VfqWJYPsaQsOjCP1MzcTr8Q4fNpCeNe667wuwBl014drI9Czfv1UqNaPHfLbSsJfF33rNoZhXShwxksQRI6/6mkwuH5K85kpJKWnX3KZUKsXib2XchKl/c/+CNzNqRHQcEZ8JKq9FIpGQmDKKURljr/meyzd8oeHDe2N875HJiU9KvWpikNFjcnz/jowZ3i65XEFcYvKw5Vc775QqNQlXnGMSieSa5/eVQ4ANCj8ys8cPe4/BaCItM/saR+W9WRqRmi7qagvCF+TyXNbr+ezvUSqVXfM6cNlnA5rLgkLCCAoZWqpLqVKRkJRKwnUSHWk0WlLSMoct/2wgeGVbtTr937yWhEfGDHnAKHw5SPBW/zAYjGJE3r84p3OAojP5HDv8ETPnL2bC1Nm43S72797KxnWvkZSSztjcSWSMGU9jbTUOh50xuZOJS0imtLiQda+9gAQJ0+YsICg0nI7WZjb89VVe/M3PCYuMJjQ8iva2Fo4c/JDm5nomTp1NgDWI8MgYis54c02kZWYzfvIsrIHBfLR3O7u3buRswXFyJk5n0vS5dHfZ+P3//id//tNvGT95Jj3dnWzb9Bb7d33AopUPkJCUitPpJD/vEw7u3YF/QCAh4ZGMGj2W/bu3YmtvY9zE6YSGe3vb8/MOEpuQhMfjoa25kTdfeo662irmLlxOVGwCnR3t7Nv5Pmtf+T1anYExORPpaGvh7Knj1FVXMmPeImLik+jqtLHu9T/wxh+fZfzkmcOurcIXRwTbgiAIgiAIwleCTK5g9p1LycgeT3DI8JFUwr8es8WfVQ99k+CwCNxuN0EhYRzcu5OzJ/OYOW8R2ROmcDr/KN1dNsZPnkl4RDSvvfgbGupqeezJf2fq7DtRqdR43G5MZn9+8MRqdr7/Lg994ynAO+IzbXQ2qx/7Dmq1BrfHTdGZfKRSKZnZE1i04n40Gi1qrZYz+XlY/K0sXvkAAYHBeDwe9u58n7OnjgPeSgrBYeEsuftB7rr3Id8oB7N/AOfOnKSttRnXoOvS+RcGHg+TZswd9oBycHCQ4qLTFJ05ybL7Huauex9Co9EyODiIn8nMS8/9kmOH9hN3xQPR9DE5LF65Gj+TGYlEgq29jRef/TnlpedFsH0LiWBbEG6x2IQUHv/Oj0hMThVzTgVBEAThn0gmk5GYPOorP/f+dpI8MgPTpSljUqmUwKBQ9AYjPdeodGK391BfW4W/NZDouETf8HuJVMrYCVPx9w8k79ABX7Ct1ekZlTHWFxhfHu9g8bcSFhGN5lLlmABrMCq1hpiEJN/0TYlEgsni76vJrtMbmDV/CfaeHqoqLtJQV0NLUwPnz56kpqqchBEj8eD5m8fsHOin9EIRao2G0WNzfW2Qy+UkpaQRHhVLZVkpba0tvnXSs8ah03vbBRCflAIeD729PTfycQs3mbizF4RbzBoUzJSZ85HJ5WJImyAIgiAIwhW0Op0vgATvtDWlUoHHc/Wg1d7bi8Peg06nH5ZwT6VSo9FpaWtu9C2TyWRXnWcvVyiGJAyWyWS+/EhXtudKbreL8osX2PTW69RWVYAEzGb/S+v9/WGXNzFaC3K5Yljb1BotKpWattZm+vscvuUajQ6J5NOcEiKXyb8GEWwLwi12ObGQIAiCIAiC8I9RqdUolWo6bTZcrsFhr9t7u7EGDR1Wfa3g+UY1N9bzx2d/Tm93Nyvuf5TouEQ0Wh0NdTV0vvTc370dqUyG0c+Ey+Wi3+EY8lp/Xx8DA/1otbq/mb1fuPVESk1BEARBEARBEL4U9AY/gkJCqauuoKWpwVc1BaDwdD6dNhsj08fc9P26XS4a62spLykma9xE5i5cTnpWDonJo5BIpXR3deJyu3C7XX9zW0qFkrjEFDpt7ZwvOj3kterKMuprqwmLjMZk8b/GFoR/FSLYFgRBEARBEAThS0Emk5EzaSZm/wDefOk5Tucfxel0cu7sKZ79nx8hVyhYvurhm75fiVTqK1dZUV5CR3sbg4ODnD11gk3rXqey7AL23h4G+rzl55QqNc2NDZw8doiGupohDwXkCgUjRqYTGRPPe++8yf5dW3HY7Vw4d5aN616l09bOmJxJWIOuX0JOuPVEsC0IgiAIgiAIwpdGelY2a77+fTo7bXxrzV3MyIrm0bvn0Wlr45kX3iT8MzXMbwaJREJwaATL73+UU8cOsWJeDrOz4/l/T64hLCKa7AlTaW1upKurE4BxE6cxOOjkZ089zltv/BHnwMCQbYWGR/Gtf/sZGp2OH33nIebkJPDw8tmUFhfx2LeeJnfyTDEN8TYg5mwLgiAIgiAIgnBL3bn0XqbMvAM/swUAsyWAF//yPiq1Zsjc5ABrEC+9tcOXZdwaGMKTP/hP3B43Rj8TADKZnCkz55MzcToXzp2hoa6aoJAwUtIyfduSSCRMmTGPjDG5GE2WIW1ZtPx+Zt+x1NdTDRAVG8/zr29ErdaivpQdHOC7/+9/ePw7PwLA6GfikSd+wOIVqyk6exKlQkFSajrWwGC6O2309TkwXGrj/MUrycyeQH1dNSGh4SiUSrYeLEKn0wPezOPpWeN4/vWN1FZVUF1ZhsnsT8KI1CHtmjxjHqPH5OJnsgwJvtMyxrLxw3xMZjHU/FYSwbYgCIIgCIIgCLeUTm8YknlbJpMRGBw67H0yuXxI3Wi5XH7NucsqtZq0zGzSMrOHvSaRSNBodWi0umGv6Q1G9AbjkGUKhfKqw7ZNFn9MfLp/mUxGUEgoQSFD227wM/kC7cuCQ8MJDv203ntoeOSw7avVGuKTUrylvK7iWsegVKkJCYu46jrCF0cMIxcEQRAEQRAEQRCEm0wE24IgCIIgCIIgCIJwk4lgWxAEQRAEQRAEQRBuMjFnWxAE4Z/N48Fut3P21LFb3RLhJmpqqMUUFXSrmyEI/xCPB4rOnERzRcIn4fbXWF+LQqH4QvdZVV6K9lJyL+HLQ6lU3uom3NZEsC0IgvBPZjAYGJmcxIGtb93qpgg3kVKlYsSIKbe6GYLwD5k4YQJ5e9+71c0QbjK5XMbEiRO/sP2lpaVx8lQBTVXFX9g+hS/G4sWLb3UTbmu3f7Dt8VBfW8W+nVtudUuEm6ixvga5LOtWNwM8Hmoqy8T59SXTZWtDKvviZtFERkby2quvfGH7E74CPB7s9l5xbfqSKT13hqgQ8xe6z1//+pkvdH/Cl9MTTzxxq5sgCP+SbvtgOzIqitwxo+lpLr/VTRFuouyMFJKSEm91M0hISCArbYQ4v75kZkydSGjI8HIignC7UKpULFu6RFybvmSiQ8zkjs+91c0QBEEQbhKJx+Px3OpGCIIgCIIgCIIgCMKXichGLgiCIAiCIAiCIAg3mQi2BUEQBEEQBEEQBOEmE8G2IAiCIAiCIAiCINxkItgWBEEQBEEQBEEQhJtMBNuCIAiCIAiCIAiCcJOJYFsQBEEQBEEQBEEQbjIRbAuCIAiCIAiCIAjCTSaCbUEQBEEQBEEQBEG4yUSwLQiCIAiCIAiCIAg3mQi2BUEQBEEQBEEQBOEmE8G2IAiCIAiCIAiCINxkItgWBEEQBEEQBEEQhJtMBNuCIAiCIAiCIAiCcJPJb3UDBEEQBEEQBOEfNTg4SENDA42NjdjtdjQaDdHR0QQEBCCV/nP6l5xOJzU1NRgMBqxW61Xf43A4aGhoICgoCJ1ON6zNXV1dWCyWYevZ7XYaGhro7u4GQKVSERwcjJ+f37DjKS4uxmazkZGRgUqlAsDlctHa2kpjYyMRERFX3cf12O12KioqSE1NHbK8t7eXjo4OjEYjRqPxhrY5MDBAfX09MpmMiIiIG1r3H1FcXExISAhGoxGJRHJD6zY2NlJfX09kZCT+/v6+9bu6uiguLiYmJuaa3/31tLe3YzAYUCgUN7yucPsQPduCIAiCIAjCbc3lclFQUMBLL73Ec889x3PPPcezzz7L73//exobG/9p+7Xb7WzdupWCgoJrvqe2tpYXX3yRioqKYa+VlpbywQcfDFtus9k4cOAA7777Lhs2bGDDhg1s3LiRrVu3Ultbi9vtHvL+n//85yxdupTCwkLfss7OTt566y2eeOIJ8vLybvjYqqqqePrpp4ctb2xs5MCBA1RWVt7wNm02G6+++ip//etfb3jdf8S6desoLy8f9rn9PbZt28YjjzzC1q1bcTgcvuV79+5lxYoV7Nu374a32d/fz9q1a2lubr7hdYXbi+jZFgRBEARBEG5rDQ0NvPbaa/j7+/OTn/yEuLg4SktL+eEPf8ixY8dYvHgxg4ODXLx4kba2NiwWC3FxcUilUjo6Oujs7MRutzM4OEhUVBR+fn5UVVVhtVoxGAxIJBLq6+uRy+X09fUhkUhobGzEZDIxatQogoODcbvdtLe3U1VVhVKpRKvVYjAYGBgYoLu7m5qaGux2O0qlksTERNxuNxs2bKCoqIhZs2YRGhoKeAOx/Px8jh49SlZWFgaDAbfbjUQioaCggA8//JBFixbh7+/vO36bzYbZbGbjxo1kZWUB0NTUxL59+5DJZPT39+N2u2ltbaW6uhqn00lgYCBhYWGo1Wr6+/u5ePEiNpuNoKAg4uPjfT3jFRUVNDU1ERAQQFRUFEajkcTERPz9/WlsbMTlctHZ2Ul3dzfh4eEEBQX5Pqfi4mJ6enoICwsjKioKt9tNT08PHo/nqt9jc3MzNTU1AMTExGAymZBKpdhsNsrKyujr68NkMhEfH49UKqWtrQ2Hw0FXVxdmsxmVSoXdbqe1tRWtVkt0dDQ6nY7s7GwCAgKw2+00NzejVCqpqanBYrEQHx/va291dTU2mw2TyYROp8PPzw+Hw+EQZgwAACAASURBVIFSqeT48eNMmzaNqKgoXC4XW7duxel00tfXh8fjwW63U15eTldXF0ajkZiYGPR6PZ2dnVRVVWG32wkKCiI0NJTi4mJeffVVgoKCWLJkCXK5nLKyMpqamjCbzSQkJCCTyejq6qKjo4Pe3l48Hg9msxmr1YparcZut9PR0eFrK4Db7aaiooKGhgb0ej0pKSkoFAr6+vooKyujp6eHoKAgwsPD8Xg8tLe309fXR2dnJxKJhJiYGJqbm2lpaSE0NJTw8PB/2qiQrwoRbAuCIAiCIAi3tYKCAhwOBwsWLCApKQmA5ORknnrqKd+w3927d3P48GGUSiVSqZQxY8aQnZ3N/v37OX78OFarlZ6eHhISEpg+fTpbt24lPT2dcePGodFoWLt2LVOnTiUvL4+mpiZcLhdpaWnYbDY8Hg8mk4lt27ZRU1ODVqultbWVcePGERcXR2dnJ/v378fPz4+WlhZmz55NSkoKRUVF1NXVUVpa6gu229raKC0tZdSoUdhsNgoLC1Gr1QQFBTF79mw2btxIQ0MDFotlyJDo+fPnc/DgQV9A39jYSHt7O4mJiQBUV1fz4Ycf0tDQgNPpxO12s3LlSpKTk9m5cydnzpwBvEPjly9f7mvLe++9R1tbGwqFgjvuuAOLxUJ5eTlarZaioiJKS0vRaDR0dHSg0WhYs2YNAQEBbNmyhZKSEiQSCQqFgpkzZxIeHn7N77CyspK9e/f6RiIEBQWxePFiNBoNb775Jna7nYGBAXp6epg7dy4ZGRns2LGDiooKNBoNMTExvuB0YGCArq4u7rjjDnJycjh16hQRERF0d3fz0ksvkZCQQGtrK319fSxZsoT09HTy8/PZs2cPcrmcwcFBjEYjs2fPBiAzM5O6ujqampqIjIyktraW9vZ2YmJifJ/Zli1bqKiowOVyMTg4SGZmJjNmzODgwYPk5+cjkUiQy+XMmzfPF/jm5eUxd+5cTp8+zccff4zH40EqlZKWlsaMGTPIz8/nww8/RKlUolKpCAwMZOLEiSQnJ3Pu3DmKi4uZPHmyL9g+ceIEu3btAqCvr48xY8Ywd+5cdu/eTX5+PjKZDK1Wy7hx40hKSmL79u3U1taiUqlobGwkNTXVN9Tf5XLx9NNP4+fndxN+oV9d4lGFIAiCIAiCcFurq6sjICBg2LzkCRMmMH78eNrb2/nv//5voqKiuOuuuwgODubNN9+kpKSEs2fPUlhYyNixY8nJyWH//v0UFBQwODjI3r17aWlpobGxkR07dmC1Wjl58iR5eXlMnTqV8PBwCgoKKCsrIy8vj48//pjJkyeTmZlJcXExhYWFuFwubDYbBoOBuXPnYrVaWbduHWq1mqSkJIKDg31BG3jn8ra0tGC1Wunu7uaee+7h29/+NtOmTSMiIgKlUklPT8+wIdHJycno9XpOnjxJd3c3JSUlZGRkoNFoAKipqcFmszF16lTmz59PYWEheXl5XLhwgddee43Y2FiWL1+OVqvl0KFDvt7a4OBgZs2aRXt7Oxs3bqSzs5MLFy7Q2trKhQsXOHHiBPHx8cyaNYvdu3dz4cIFCgsL+dOf/kROTg4rV65ErVbzq1/9ioGBgat+f06nk02bNnHu3DmmTJnCtGnTOHDgAHl5eTQ3N1NYWMj06dNZunQpAwMDvPzyy/T393Pq1CmqqqrIyclBqVRy7NgxHA4HM2fOZHBwkP3799PR0cGRI0doaWmhvb2dd999F7PZzKJFi3A6nbzzzju0tLTw9ttvo9PpmDNnDm63m6NHj9La2gpAbGwsGo2G8vJy+vr62LVrF+PHj/d9tgMDAxw7doysrCwWL16MXq/nzTffpKysjL179wIwa9YsdDod7e3tREREoNPpyMzMZGBggP/6r//CarWycuVKEhMTeeGFF6iqqqKkpISTJ0+Snp5OWloa5eXl5OXlMTg4yO7du2loaPDN0R8YGODXv/41Op2OlStXMmbMGHbu3EllZSV/+MMfSElJYcGCBfT397N+/XpKS0s5duwYVVVV5ObmIpVK2bhxIyaTifnz57Nly5bPNVVAGEr0bAuCIAiCIAi3tWsNde3t7UUqlVJeXo7T6WTNmjXI5XK0Wi2HDx/m3Llz6PV6srKymDJlCi6Xi127dlFVVcWUKVN45plnqK+vp7S0lNGjRxMUFATA+PHjmTNnji8Y6+7uprOzk+joaGbMmMHg4CDHjx/39TwHBgYyb948srKyfK/p9XpiY2NpaWkhMjLS1+bL67jdbjweD263m8HBQdra2oa950oymYwFCxawceNGQkNDOXPmDLNnz2b37t0AhIWFERkZSVFREU6nk+7ubjo6OsjLy8NkMjFr1iwCAwP52te+RkNDAy6Xi5CQEFasWEFfXx/l5eUcPnx42H5Hjx5Nbm4ugYGBBAcH09zczPnz5+np6eHcuXOcO3eO7u5uLly4QE9Pz1W/p87OTs6ePYvdbufYsWNIpVI6Ozs5ffo0o0ePZsqUKZw8eRK73Y7D4aCurg4APz8/0tPTmTZtGkePHiU4OJgJEyaQm5tLTU0NZ8+epb+/f8i+tFot9957L06nk5ycHNavX4/NZqO4uJjvfe97xMTE0NPTM2Q9uVzO+PHjKSwsZMKECezbt4/vfve77N+/3/f6uHHjaGxspKSkhPr6enp7e1EoFERFRXHmzBn27NlDaGgoERERGI1GtFotI0eOpKmpiaKiIqZPn8727dt90w4uXryIUqkkNTWVu+66i76+PmpqaigvL+fcuXPU19czdepU33SCjo4OSkpKeOGFFwgKCiIxMZGwsDDKy8sZGBhg+fLlyGQyHA4HGzdupLy8HIVCQWZmJpMmTaKmpsZ3HHFxcb5pAunp6Vf9zoS/j+jZFgRBEARBEG5rERERtLa20tzcPGQ+8J49e1i7di0DAwPI5XLkcm8/k0QiQSaT4XQ6kcvlqNVqpFKpL4h1uVwkJiZisVgoLCxkw4YNzJs3D6VSCeDr0bzs8j4vB/0ymQyZTOZ7XaPR+PZ95fKrsVgsBAYGUl9fj8ViYcOGDbz00kucOHGCqqoq3xDnq21nxowZ5OXlUVhYiEwmIy4uznc8Z8+e5dChQzidTkwmE2q1Go/H4/sMLh+7Uqmkra0NiUSCSqVCKpUilUp97f8suVzuO26JREJ/fz92ux2dTufLWB4SEsKDDz7o+/w+a3BwEACj0Yifnx9Go5HJkyczZswYysrK2LVrF06nE6PRiF6v9/Xqy+XyIRneFQqFL7u3Uqm8apsvv375eC/PIfd4PL5ln/3+ACZOnEhZWRmHDh1CqVQSFRXlO+6Ghgbef/99bDabr/0AJpOJqVOnMmXKFGQyGZ988gl79uyhvb3dt93Lc8Ivr2exWFi6dCmRkZFDjk+tVjNy5Ehfb7zVaiUxMdF3jC6XC4lEMuQzdjgc2O125HK573hkMhlSqRSXy4VMJvN995eHmF953C6X66rfl/D3E8G2IAiCIAiCcFvLzMzEaDSyfv16jhw5QkNDAx999BEvvPACMpmM+Ph4uru72bFjB319fRQWFtLa2kpCQgJdXV0UFRVRWVnJ6dOn6e3tJSIiAr1ez6xZs9i7dy9dXV2kpKRcM1A2GAxER0f7hpMfO3aMvLy8Yb2qV9PR0YHNZvP939/fn5EjR1JeXo7H4yE9PZ3ExEQCAwP55JNPGDFihG9+92ddTlD21ltvMXHiRF8g5nQ6KSwspL+/n2XLlpGRkeELuJKTk6mtraWoqIi+vj7effdd3nvvvc/xLXwqIyMDu93O2LFjWb16NQEBATQ2NqJWq3G5XLS1tVFcXExxcTElJSV4PB5faa2ZM2cyd+5cbDYbCoWCwsJC6urqeOCBB1i0aJGvFNrNdDnp2tatW7lw4QKHDh2ivLx8yHtCQ0MJCgritddeY8KECej1et9rNTU1FBQUsGjRIubOnesLeBsaGsjLyyMyMpKHH36YiIgIampqcDqdSKVS6urqCA8Px8/PD6vVyurVq8nMzKSkpASDwTCsnSkpKWg0GrZt20ZERAQxMTEUFBRQUVGB0WjEbDazY8cOXC4Xp0+f5rnnniMqKgqHw8GhQ4fo7OwkPz+f1tbWL7T02leZGEYuCIIgCIIg3NasVitr1qxhy5YtvPzyyzidTtRqNfPmzWPhwoVYLBaeeuopNm/ezKZNm9DpdKxYsYLExESOHDlCc3Mzv/nNb3A4HGRnZ5OTk4NUKmXq1Km89tprTJs2DT8/PyQSCWFhYb66yjKZjNDQUAIDAxk7dizNzc2sX78eo9GI3W7H7XajVCoJDQ1FrVYD3h7Ky72iqampvPvuu2zevJk1a9YA3h7ZtLQ0PB4PBQUFlJaW4vF4MBgMJCYmkpubO6y+dVRUFCaTCYVCwaJFi9ixYwdTpkzBbrcTEhKCv78/fn5+lJWV8Z//+Z+EhIQQFhaGv78/CQkJrFixgnfeeYe1a9cilUp58MEHUalUxMbGAt5eYJPJ5MteHhgYiE6nIzAw0NcrCt4RBiaTiczMTO69916ef/55X4/x3LlzUalUWCwW8vLy+O1vfwt4e/3vvPNOli1bxpYtW/j5z3/u219oaCgWi4WPPvqIp556CqvVSkxMDO3t7Xg8HgIDA30JvLRara9d4O0lDwwMRKFQ+LKSq1QqEhISfJ+b0WgkOjqawMBA7rvvPj744ANeffVV2trafHOh/f39GRwcRKlUMmfOHCorK5k8eTIajcb3ucfFxZGdnc0vf/lLLBYLarWa9PR0lEolarWadevW+XqRFyxYQGxsLBMnTuS9994jOTmZH//4xxw4cIA9e/YgkUhITU3FaDRiMpl8UxfAO+ohOjqa6OhoX7bzvLw8YmJiCA4O5oc//CFbtmxh//79KBQKlixZwogRI3jggQf485//DHgfDC1evJiEhARCQkIwm82Ad0j+5c8LvPPUr3ygIHw+Es+1cu8LgiAIgiAIwm3C5XLR1NREc3Mz/f39aDQaIiMjfUFyT08PVVVV9PT0YDQaiYiIoK+vj7/85S80NjZyzz33AN6A0Ww2+0pLPfroo3z/+/+/vfsOq+LK/wf+piNF2gWk2CiiCCEYjdgSJUZFY4t1NTEqJu5X0lxd45ooxlgTWyTFjZpixbZJNrpIXMUacWNsROyI0jGKCERQuOf3hw/3x9yZy73AoKjv1/PM83Bnzpw5M2fmMJ8pZ6YgIiICFhYWuHbtGmxsbODp6Yny8nJdJ1WZmZn4/fff8cwzz+DevXtYtWoV/P398cYbb6CgoAAajQaNGjXCn3/+qevV+t69e7q7mFU7SQPud3iVn5+vCyzt7e3RpEkT2Nvby97ZTktLg7OzM1xcXFBQUIDr168jMDAQd+/exR9//AFHR0eYm5sjMzMTRUVFcHJy0n2ezNXVFaWlpUhPT0dJSQmcnZ1182ZmZiIwMBBarRa3bt1CSUkJNBoNCgsL4eDgoHsHW6PRwNLSEunp6bogsaioCFeuXEFpaSkaN24MPz8/WFhYICcnR/IYtbm5uS7oy83NRV5eHoQQaNKkCZo0aQIhBC5duoTCwkJdgH/z5k34+fmhoKAANjY2cHFxQUlJCYqKiuDg4KD75NadO3fg6uqKzMxMuLu7w8zMDJmZmWjdujWEECgsLMTNmzfh7OyMxMRE3QWIgwcP4vz58xgzZoyuB3UXFxfcuXMH2dnZaNmyJaytrXXb3dnZGVeuXMGNGzdga2sLFxcXCCGg0WhQWlqKzMxM3Xbw9fWFg4ODrkdzPz8/3ba7deuWLoh3dHREYWEhysrK4OXlBeD+e/xr1qxBTk4OJkyYAG9vb2RkZKBRo0ZwcXFBRUUF0tLScOvWLdjZ2SEgIACNGjXC7du3cfXqVZSWlsLV1RXe3t6wtLTE9evXYWtrCzc3NxQUFKCsrAyurq6wtrbGxYsX4enpKbuwQzXDYJuIiIiInkh//PEH1q9fj9LSUkyfPl0ybdeuXdi4cSM8PDwwZcoUNGnSRLFjMuB+EHT06FF89tln8Pb2RllZGYqKijB+/Hh07drV4HzUMNy4cQOrV6/G6dOn0bJlS1y5cgURERF47bXXGkywmZubi3/961/Yv38/hg8fjgEDBujuQlPDxWCbiIiIiJ5Id+/eRVZWFrRara4zsUqXLl3CxYsXERQUpOusqjolJSW4cOECMjIyYG1tjRYtWqB58+ayztSo4SkvL0deXh7OnTuH4uJieHh46DrIaygXSkpKSpCSkoK7d+8iLCyM379+RDDYJiIiIqInUmUv1ID882EVFRWoqKiQ9LZtTEVFBcrLy2FmZlaj+ejhE0KgvLxcV+fGLq48aJXlq3xHvqFcBKDqMdgmIiIiIiIiUhkvtxERERERERGpjME2ERERERERkcoYbBMRERERERGpjME2ERERERERkcoYbBMRERERERGpjME2ERERERERkcoYbBMRERERERGpjME2ERERERERkcoYbBMRERERERGpjME2ERERERERkcoYbBMRERERERGpjME2ERERERERkcoYbBMRERERERGpjME2ERERERERkcoYbBMRERERERGpjME2ERERERERkcoYbBMRERERERGpjME2ERERERERkcoYbBMRERERERGpjME2ERERERERkcoYbBMRERERERGpjME2ERERERERkcoYbBMRERERERGpjME2ERERERERkcoYbBMRERERERGpjME2ERERERERkcoYbBMRERERERGpjME2ERERERERkcoYbBMRERERERGpjME2ERERERERkcoYbBMRERERERGpjME2ERERERERkcoYbBMRERERERGpjME2ERERERERkcoYbBMRERERERGpjME2ERERERERkcoYbBMRERERERGpjME2ERERERERkcoYbBMRERERERGpjME2ERERERERkcoYbBMRERERERGpjME2ERERERERkcoYbBMRERERERGpjME2ERERERERkcoYbBMRERERERGpjME2ERERERERkcoYbBMRERERERGpjME2ERERERERkcoYbBMRERERERGpjME2ERERERERkcoYbBMRERERERGpjME2ERERERERkcoYbBMRERERERGpjME2ERERERERkcoYbBMRERERERGpjME2ERERERERkcoYbBMRPUC7du3CqFGjMGnSJKSnpz/s4lADwn2DiIjo8WImhBAPuxBERE+Cffv2ITIyEpXNbtOmTZGamgoHB4eHXDJ62LhvEBERPX4eqTvb69evh5mZmWT473//+7CL9UTLz8/HF198gb59+yIgIACOjo5wcHCAv78/+vTpgy+++ALXr19/2MUkFUyYMEF2/JmZmSExMbFG+bRp00Yxn+Li4noqed2cPHlSVtbk5ORa5fXvf/8bVa9vZmRk4Pjx42oV9YFT2ifKy8sfdrEeSY/bvgE8uW0GERFRpUcq2KaGQ6vVYtGiRQgICEBMTAwSEhJw+fJlFBcXo6SkBGlpaUhMTERMTAwCAwPx+eefP+wiUz358ssvTU6blJSEc+fO1WNpGra2bdtKftvY2CAgIOAhlYYakidp33gS2oyAgADJhYFBgwY97CIREdFDwGCbakyr1SI6OhrTp09HUVGR0fSFhYV488038cEHHzyA0pExeXl5SE1NhVarVSW/HTt2ICsry6S0K1euVGWZj6px48Zh8uTJcHZ2RsuWLbFhwwZ4e3s/7GJRA/Ak7RtsM4iI6EnBYJtqbPny5fj2228Vp5mbm8PcXHm3mjdvXo0fHyR1zZ07F97e3mjbti06duyImzdv1jnPiooKrFq1ymi6/Px8/PDDD3Ve3qPM3NwcS5cuRUFBAdLS0jBkyJCHXSRqIJ6kfYNtBhERPSkYbFONCCHwySefyMa/+uqrOHPmDMrKylBaWoqUlBS89tprsnTz589/EMWsd3fv3kVZWdnDLkaNnD17FrNmzdLd0T527BjmzJmjSt6rV69GRUVFtWnWrFmDu3fvqrI8ooflUTz2GyK2GQ/enTt32KcCEdED9tgF287OzpL3pFavXg3g/mNrL774Itzd3eHo6Ijw8HCsWLEC9+7d08176dIlxMTEoFWrVmjUqBE0Gg0GDRpkUmdIFy9exLRp09C+fXs4OzvDysoKHh4e6NSpE2bOnIlr164ZzePWrVtYsGABwsPD4ejoCBcXF7z44ou6u8Hbtm2TdRBz8uRJg/kdOXIE0dHRCAoKgp2dHRwdHREcHIzx48fj8OHDRstjaD1zc3Ml43r06IG1a9ciODgYlpaWsLKyQkhICL799luMGDFCViZD/+yLioqwfPlyREZGwt3dHVZWVnBwcEBoaCjeeustnD592mC5lDqxio+PV0w7aNAgSbrWrVtLpi9fvlwy3dbWFgBw5swZDBkyBO7u7rCxsVG86HD16lXMmDEDHTp0gLOzM6ytreHr64vnn38ey5cvx40bNwyuQyWtVostW7Zg8ODBaNq0KWxsbKDRaNCuXTvMmDEDly9fNpqHksuXL0P/4wMXLlyoVV76srKy8NNPPxmcrtVqTbqTpaSgoABLlixBjx494OHhAWtra7i4uCA0NBRvvvkmjhw5YlI+atSNvsTERERFRcHb2xu2trbw8/PDpEmTDB7v+vuWmZmZ5HhS2o8vXboEANi0aRMiIyPh6ekJW1tbBAQE4J133kFOTo7RclYeW927d4dGo9Gt+3PPPYe4uDgUFBTUeN3rg1rl3L9/P8aNG4c2bdrAwcEBNjY28PX1RVRUFFasWGGwY62aHvtq1pexfUN/uq+vLwCguLgYn3zyCdq1awdnZ2c4ODigXbt2WLx4MUpLS41uqwMHDuDll19G8+bNYWtrC39/f0ybNg2FhYUAgJCQkHp597ihtxlpaWl4//330blzZ7i5ucHKygqOjo5o3bo1xo4di3379snmyc3N1W0n/Xb6xx9/1E3r2rWrwXWubduv/3+tT58+AICdO3eia9eucHR0hJ2dHZKTk3H9+nVYWVlJ0g8fPtxg3mPHjjW4nxMRkRHiEbJu3ToBQDLs3r1bksbJyUkyfdWqVWLu3Lmy+SqHfv36ifLycpGQkCAcHBwU01hYWIjvvvvOYLnmzp0rrKysDC4DgLCxsRELFiwwmEdKSorw9fU1OP/ixYvF1q1bZeNPnDghy6usrEy8/vrr1ZYHgBg5cqS4fft2jerg6NGjsnymTZtmMP3x48fFlClTJMOtW7dk6Q4dOiSaNGlSbXnNzMzEP/7xD1FRUSGb/8SJE7L0mzZtUizTwIEDJemCgoIk05ctWyaru9TUVOHi4iIZ/9FHH0nmW7lypbC2tq52Hdzd3cX27dsNbq/s7GwRERFRbR6WlpZi4cKFQqvVGszHUN52dnaSvD7++GOT54+Ojq62XL169TI4786dO43uj0VFRbL5duzYITQajdF5hw8fLu7cuWNw+XWpG6V968iRI9W2K87OzuLgwYOyvPT3LQAiJyen2mWdP39ejB49utpyHz9+3OC6Hz58WHh5eVW77hqNRiQkJBjMwxClfeLevXs1zketchYXF4uhQ4ca3V88PDzErl27ZPPX9NhXs76M7Rv60318fEReXp4ICwszuKz27duLmzdvKm4rrVYrJk+ebHDewMBAkZubK9q2bSsZP3DgQJPr9FFtMxYuXGi0vQDu/w+tmkdOTo7ReQCILl26yJZZ17Zf//9a7969xYYNG4SZmZlkfGW71KtXL8l4FxcXUV5errg99I/LZ555xmC9ERGR1GMfbMfExAhzc/Nq/4GtWLHC6D9nGxsbkZaWJivThx9+aNI/18phyZIlsjxyc3OFq6trtfOZm5uLv//977Lx+sF2eXm56NGjh8nl6dixo7h7967JdXDt2jVZHq1atRIFBQUm56Fv586dRi9WVB2GDRsmy6O+g+1BgwbJ8q8abM+aNcvk8ltYWIgff/xRVq7MzEyjwUbV4W9/+1uNt/V//vMf0apVK+Hs7CzefPPNGgVG+ifO9vb2wt7eXvfbzMxMXL58WXHe/v37S+Z1c3OTrY/+ifPevXuFhYWFydujf//+isuua90o7VvLly83mpeHh4e4ceOGJK/aBNtKx73+0KJFC1FSUiJb94SEBJOChsr6++GHH0zaFyqpFWyrUc6KigrRs2dPk+va2tpa/PLLL5I8anrsq1lftQm2R40aZXRZSu2lEEK8//77Rud96aWXVA22H4U2Y8WKFSbPD0CMGDFCN29tg2012n79/2vPPfec8Pb2ls1bGWyvWbNGNu3IkSOyfE+dOiVL98knnxivfCIiEkI8AcF25fDss8+KoUOHCk9PT4P/wDw9PcWQIUPEc889pzh9xowZkmVdvnxZWFpaStJ4eHiIKVOmiGXLlom//vWvwtbWVjLdyclJFpiOHDlScXmhoaHihRde0AXi+leoAXmw/dFHH8nS+Pn5iSlTpohp06aJjh07Gl0vY5TupHh6eooPP/xQpKSk1Civ/Px8xTpp166diImJEUOHDpVtQwDiq6++kuRTn8F21cHa2loEBweL5s2bi3nz5gkhhDh48KDiBZ3w8HAxYsQIERoaKpvm5uYmiouLdcvUarWKgUKnTp3EzJkzxaRJk0TLli0l08zMzERiYmKNtndd6J84N2/eXDZO6SmHjIwMyQmwlZWV+OCDD2TrWvXEuby8XAQGBkqm29jYiLFjx4qlS5eKGTNmKD4JkZSUJFm2GnWjtG9VDRiqu1BXuY9Uqk2wXTm0bt1a9OvXT7YfVA5ffvmlZFnXr1+XbSMLCwsxZMgQERsbK8aMGSMaN24sW/fs7Oxa7xNAzYNttcr53XffycoSEhIiZs+eLRYvXiw77gGI559/3mj9VHfsq1lfNQ22q26rZ599VvTu3VsxIAUgUlNTJctKSUlRvMDp5OQkIiMjxdNPPy1pZ6qmqUuw3dDbjHv37smOZ1tbWzF16lSxefNmsWrVKtGlSxdZH5fCqAAAGf9JREFUHocPHxZCCFFUVCRiY2NFbGys7GmIoKAg3bQ1a9bolqlW26+0f1cOjRs3FiEhIcLDw0MXbN+8eVO2D8yePVtWF4sWLZIt+9q1aybvA0RET7onIthevny5bvqNGzdEmzZtZGmeeuopyeN2Ssvq0aOHZFnz58+XTG/SpInIysqSpPn6669l+VR9fDEnJ0d2MmNtbS127typS/Pnn3+KYcOGKf4TrRps37p1SxaY9u3bV5SWlurSaLVaERsbKzuZyM/PN7ke9u/fX+1dKHd3dzFo0CARFxdn8K5Fpffee082//Tp0yVpTp06JTvZ1mg0kjvyDyLYnjlzpmxbCiFEp06dZCcjX3/9tSTPxYsXy/KrerK9a9cu2XT9x9SLi4tFVFSUJE27du2q3b5qUjpxTk5OltV9WVmZZL6ZM2dK0gwZMkTExcVVe+J8+PBh2XGxZ88eSb4XL16UBdL6+44adWMooBo7dqzuzvWNGzcUL5p169ZNsqzaBttVy1NRUSGmTJkiSzNgwADJsqZPny6ZbmlpKfbu3StJc+XKFdG8eXNJupo8MaFGsK1WOXv37i2Z/sILL8ie2hkzZoxsf6j6GHBNj30166s2wbaLi4vkbmRBQYHik01Lly6VLOuvf/2rLE1UVJTktaJ9+/ZJLipVDnUNthtym5GamipbRlxcnCSPe/fuyQLuqVOnytbd39/fpO2mVtuvFGw7OzuL+Ph4Sbqqj6D369dPkr5z586y8kVGRkrSKD0CT0REhj32wXZISIgsn6+++kqWj/4/JCGEaN26tdG87ty5I65duyZ+++03cebMGdn0CxcuyJa1cuVK3fSVK1fKpiud7BYVFSleSKgabOsH9vb29iI3N1eWV0VFhQgJCZGkXbVqlSxddXbv3l3tUwJVh549e4oDBw7I8tBqtaJZs2aStN7e3oon6/onXwDEjh07dNPrO9iOjo5WzCstLU2WduzYsYpp9Z8qqJpOPwjo0KGD4nt5WVlZsrsRFy9eVFye2pROnIUQsrvDGzdu1M1z79492aOMu3btMnriXDlvbm6uSElJUXy8UQghy3vkyJG6aWrVjdK+1aFDB1nfAXfu3JH1u+Dt7S1JU5tgWz8oE0KIu3fvypYVHBysm67VamXB6ZQpUxTXfcuWLZJ0vr6+iumU1DXYVruct2/fFpcvXxbJycmyC59CKLf9586d002vybEvhHr1ZWjZxoJt/SBaCOWAcdKkSbrpWq1WdtzY2NgoXnCdM2eOLK+6BttCNNw2Q6k+58+fL8ujpKREXL9+XTco9X1iarCtVtuvFGyvW7dOcZmV1q5dK0lvYWEhefKuuLhYdmFd/+IDERFV77HrjVxfeHi4bJy/v79sXJs2bYymq9pzeSVbW1s0bdoU7dq1Q3BwMID73xC9evUqEhMTMWXKFNk8d+7c0f197Ngx2fQ33nhDNs7BwQGjR4+Wja9q7969kt8dOnSAp6enLJ25uTmee+45ybj//e9/1eatr2fPnrh06RIWLVqEoKCgatP+97//xfPPP4/p06dLxqelpcl6bR4zZgwsLS1leYwfP142bs+ePTUqc10ofcYMkG/z6tL+85//xNatW3VD1XXSz6dfv34wMzOT5eHt7Y3AwEDJuJrWndomTJgg+f3ll1/q/v7xxx+RnZ2t+928eXO8+OKLJuVraWkJT09PhISEICIiQjc+Pz8fhw4dwvTp0yV5A9JjS626UfLyyy/Lvidva2uLTp06Scbdvn272nxM0b17d9k4KysrhIWFGVxWWloarl69Kpnev39/k/LPzMyUbdf6onY5HR0d4efnh44dO8Lb2xsAUFpaivPnz2PLli1Yvny5LN+q+4wSQ/uMIbWpr9pSWlZlD+yGlpWdnS3bboMHD4a7u7ssrzfeeEOxHaqrhtpmtGrVStcDfaX3338fL730Er744gv8+uuvKCsrg52dHTQajW5wdHQ0qXxK6qvtt7GxwciRI6td9qBBgyTrW1FRIfm/mpSUJPn0mrm5OYYNG1ZtnkREJCWPah4zdnZ2snH6J8kAYG1tLRunFPQpycjIQHx8PJKSknD27FlkZGQY/X5opby8PMlvGxsbg8FrSEhItXllZWVJfu/bt8/kEyX9E15TODg4YNq0aZg2bRrS09ORlJSEAwcOYM+ePcjIyJCkFUJg0aJFcHFxwXvvvadYXgCyz3BVatGiBWxtbSWfslGav74oXaAxVIbQ0FDFtGFhYbITbuD+5170P6c2e/ZszJ4926Sy1abu1PTqq6/ivffe09XNwYMHkZqaiuDgYKxcuVKSdvz48YrHnyElJSXYvHkzEhMT8fvvvyMtLc2kzxkB6tSNIc2bN1cc7+HhIfkt9D61VhteXl6K452dnQ0uS2ndlQIzQ65evaoLVutTfZTzt99+w7Zt23D48GFcvHgReXl5daoHQ8e+IbWpr9oytCwnJyfJ582qLkv/fw4APPXUU4r5eHp6wt3dHfn5+XUsqVRDbTPs7Ozw9ttv4+OPP9aNE0Jg586d2LlzJ4D7F06efvpp9OrVC+PHj4efn5/JZdNXn21/s2bNjJ7DODo6IioqCt9//71u3M8//4whQ4YAgO6zo5W6d++ueAGfiIgMe+zvbNe32NhYBAQEYNq0aUhISEB6errJgTYA2bd9DZ08GZumlFdNGPrurKlatGiBcePG4ZtvvsG1a9dw/PhxvPrqq7J08+bNw61btwAol1ej0Rhchv60P/74o05lrglDJ3tK66B/V8mYwsJCg98eN0VN6y4vLw+pqanQarW1XmZVLi4uupOzSitXrsSlS5ckd0ksLCyM3jGu6vvvv0eLFi0QHR2NLVu2IDU11eSTZkCdujGkPu72qakubQFQ9/bAVGqWs6ioCIMHD0b79u2xcOFCHDx4ELm5uXUOamsS6D0KlLZ5dRdWjP3fqY2G2mYA9/9Hvf322wbr/d69e/j1118xb948BAUFYdasWTXKv6r6bPtN3W9HjBgh+V01wNYPto3dKSciIrnH/s52fVq0aBHmzJkjGx8YGIiQkBC0bdsW7du3x6BBgwzmoX/nvbCw0GDayiDVEFdXV8lve3v7aoPXqvTvyBmSk5ODsrIyyTKUHj8MDw/H2rVr4eXlJblLUFRUhAMHDmDAgAFwc3OTzWfoDooQAtevX5eMM3Xd6pP+NgfuP7KptE0McXJygoWFheQijZubm8mBYePGjU1e1ty5cxEbGwutVov27dsjMTFRcR1qasKECdiwYYPu97p161BcXCwJdPr06QNfX1+T8vvll18wbNgw2YUrT09PhIeHo02bNoiIiMCHH36I1NRUxTzUqJtHldK6+/j4mPy0jtKTPvVBzXIOHz4cu3btkky3sLBAWFgY2rRpg7CwMGi1WtnrLE8apae96vJ/p7YaYpsB3H+i7dNPP8X//d//Yd26dUhKSsLJkycVXzcoLy/HRx99BI1Gg7ffftukclb1INt+Q1566SXY2dnhzz//BHD/bvn58+dhbW2Nixcv6tJZWVnJLpAQEZFxDLZrqaKiAgsXLpSM69ChA7777jvJ+98FBQXV5qMf5BYUFKCwsBBOTk6ytOnp6dXmpX93omPHjqq/1zx69GgkJSXpfkdERODIkSMG0/ft21cSbAPQPWLu4+MjS3/27FnFfNLS0iRBvv78SncaDW17/Ufc60LpRPDkyZOK7xgeOXIEZ86c0f328fFBVFQUzM3N4enpKXmX8J133sHMmTNVKydwf9vOmjVLdzJ77NgxzJkzR/E91prq3r07AgMDdSdnt27dwjfffCNJ8/rrr5uc38KFC2UnoBs2bEDv3r0l6ebNm2cwDzXq5lGldKdy06ZN6Nat20MojWFqlfP48eOyQPu1117D4sWLJRflqj4u+6RSurBq6H/L3bt36+39/YbYZlTVunVrXdqKigqkpqYiOTkZGzZswP79+yVplyxZUqtg+0G1/dWxt7fHSy+9hC1btujG/fzzz7ILXi+++KIqF2aJiJ40j9fzcQ9QRkaG7Ip/XFycrKO1S5cuVZuP0vvZVa/2V9JqtYrjq+ratavk94kTJwx2wlNUVITc3FzdYOrdC/33F48ePYpDhw4ZTJ+QkCAbV3khwc/PD82aNZNMW7t2raRDlkqrV6+WjXvhhRd0fytd4VcqV0ZGRrV3NWpK6f3Sr7/+WjHtW2+9hddff103/Otf/9JN06+7ffv2GVzmjRs3JHVXeUfCmMuXL8seqb1w4YJJ85pCv9Ojqry8vNCvXz+T8zp9+rTk99///nfZSbNWq0VaWprBPNSqm0eRv7+/7PFfQ/uUEEKyP+Xm5tbp0daaUKuc+vuLvb091qxZI3v6xVh7/CRo2rQpGjVqJBm3efNmxQ5A4+PjFcerpaG1GefOncO+fft0Q2UHZBYWFggNDcXrr7+Offv2ITIyUjLftWvXjB4zhl7beRBtvzH6j4cnJibyEXIiIpUw2K6lkpIS2biioiLJbyGE4mPmVQ0cOFA2bsGCBcjMzJSMW7JkidETxWHDhkmuRhcUFGDixImyx99yc3Px9NNPw8vLSzcsW7as2rwr6fcULIRAVFQUYmNjceHCBdy9exd37tzBqVOnMHHiRNldbQC6XmLNzMzwl7/8RTItLy8PU6dOlZyYHD16FHFxcZJ0Go0GvXr10v329fWVnUDGx8dj27Ztut9ZWVn4y1/+UuN3+Krj7++PZ599VrbcTz/9VPdbq9Vizpw5+O233yTpOnfurPtbfzvs3btX8Y7z4cOHJfXm5eWFo0ePmlTWZ555RvYIaY8ePUya1xRjx46FlZWV4rRx48aZ/GgwID++9I8tAFi6dGm17yyqVTePInNzcwwfPlwybuHChTh8+LAs7eLFiyX7k5+fn+IFr4ZcTv39pby8XHac37x5E5999pnKa/DosbW1lQWh2dnZmD9/vmRcXl4ePvzww3otS0NrM7Zu3YoePXrohk6dOuHUqVOSNFqtVhZYN2nSRFZWGxsbye+UlBTF/z0Pou03JioqStKj+p49e/Dzzz/rftva2lb7OhwRERnGx8hrqVmzZrCyspJc9Z8wYQJiY2MRGBiI9PR0fP7550hOTq42n7CwMHTo0AG//vqrblxmZiZCQ0MxdOhQaDQaJCcnV3u1u5JGo8G7776LxYsX68bFx8fjyJEj6N27N7y9vZGeno4ffvhBcifb2tra5E5o+vXrh7CwMMkJSHFxMebMmYM5c+bAzMys2g6JoqKiEBAQoPs9ZcoUfPPNN5J3tePi4rBr1y507NgR+fn52Lt3r+zkZv78+ZKTNCsrK0RGRup6jAXunxQNGzYMrVq1grOzM06fPo3S0lKYm5ur1jkYcP/d/cjISMl6v/vuu4iLi0NAQADOnz8ve0zTw8NDcpLVv39/RERESPaXyZMnY+PGjejSpQscHR1x+vRp7Ny5U7ItgoOD8fzzz5tUTi8vL2zbtg3vvvsu8vPz8corr2Dy5Mm1XGs5Dw8P9O/fX3ZX2MzMDNHR0TXKKyAgQNIB3pIlS2Bvb48uXbrg5s2b2L59u9EnPQB16uZRNXXqVKxdu1b3OsWff/6Jbt26oW/fvnjqqacghMD+/ftlr4GMGTNG8b1eU5nyju3nn3+ue/9TjXJWbVMAoKysDFFRUfjb3/4GFxcXpKSkYNGiRbKLmE+qCRMm4IcffpCMmz17Nnbv3o1u3bqhoKAA27Ztq3MHdsY0tDZj5MiRmD17tu7/g1arRffu3TFu3DgEBwejqKgI27dvl10MUrpo3rJlS8lTVOnp6WjWrBm8vb0xadIk3Sc+H0Tbb4ytrS0GDhyI9evXA4DsokDfvn3r9HkzIqIn2oP8qHddrVu3TgCQDLt375akcXJykkyfOHGiLJ+kpCRZPmfPnpWlGzhwoCRNUFCQZPqwYcNk+egPvr6+QqPRSMYtW7ZMks+pU6eElZWV0bwGDx4sG3fixAlJXmVlZaJDhw5G86o6rFixokb18PvvvwsPD48aLQOAaN68ubh27Zosv507d5q0/pXDsGHDFMt16NAhYW5uXu28Go1GTJo0qdp6XbZsmWy+nJycarfJjBkzTC6/hYWF+M9//iPL49KlS8LV1dXkfGxtbcXRo0drUHN1Ex0dLatPfQkJCbJy9uzZU5YuLi5Olq6oqEg3/fPPPze6/paWliI0NFQybuDAgbJl1bVuTpw4IUu3adMmxW0UExMjSWdvby+ZbmzfqsmyRo8eLUnn4+MjS7Nt2zZhYWFh8vr7+/uLmzdvKi5Pif4+Yeqwbt06VctZWloqmjZtanS+8PBw2biqbWhNj30168vYsmtSNh8fH0m60aNHy9IMHz7c6PYKDg4WrVq1MnqMGfIothnvv/9+jfblpk2bKtaD0vmKofpQo+03dr5izE8//WRweZs3b65RXkRE9P/xMfI6iIuLQ9u2bQ1Od3FxwebNmxU7O6vqqaeewk8//VRtz6ITJkww6e6ztbU19u3bh9GjRxtNa29vj5UrV+Ktt94ymraqtm3b4siRI+jZs6fJ8/Tp0weHDh1C06ZNZdP69u2LvXv3okmTJtXmYWZmhunTpyM+Pl5xepcuXbB06VKDn2VycHDAxo0b4eLiYnK5TTVv3jx89tlnBh+JrOTq6or4+HjFzrf8/f1x7NgxtGvXzujymjVrhj179sgek37YevXqJfsGdU06Oao0ceLEat8RNDc3x/Lly01afzXq5lE1ZMgQJCYmmtQDe7du3XDw4MF6OT6MqWs5bWxsEB8fX21bGxoaijVr1qhS3sfBN998g8GDBxucrtFosGHDhnq/o9nQ2oy5c+di9uzZRtsLAOjUqRMOHDig+L9r1KhReOWVVxTnq/okG9Aw2v5evXopHvuVHagREVHtMNiuA09PTxw7dgyLFy/Gs88+CwcHB9ja2sLf3x9vvfUWTpw4YfK7n71798aZM2cwffp0hISEwN7eHm5ubujcuTPWr1+PVatWKc6n9C1NOzs7rF+/Hvv370d0dDSCgoLQqFEjWFpaQqPRoGvXrvjoo49w8eJFTJw4sVbr7ufnh927d+Po0aOYPHkyOnfuDHd3d1hbW8Pa2hru7u7o1KkT3n33XSQnJyMhIaHax0u7du2KCxcuYNmyZejRowc0Gg0sLCxgb2+Ptm3bIiYmBidPnsSCBQuq/X7oO++8g/379+s+LWZjYwN/f39MnDgRx48fV+yJWi0xMTE4f/483nvvPTzzzDNo3LgxLC0t4eXlhc6dO+Pjjz/G2bNnMXToUIN5tGzZEkePHsXGjRsxePBgNG3aVLdNfXx80LdvX3z11Vc4d+5cg3yv2NzcXHJRSKPR1OpdPwsLC2zatAlbt25F79694ebmBisrK/j4+GDo0KE4ePAgYmJiTM5Pjbp5VL3wwgu4cOEClixZgh49esDd3R2Wlpaws7NDQEAARo0ahR07duDAgQP18k3lB1XOzp0748yZM5g8eTKCgoJgY2MDR0dHhIWFYcGCBUhOTn4iPvtmKjs7O2zfvh3ff/89oqKi4OPjo/v/NXHiRBw7dgxPP/20bD61vzveENuM2NhYpKam4h//+AciIiLg6uoKS0tLODk5oVWrVhg7diz+/e9/45dffkGLFi0Mrte6deuwdetW9OnTB+7u7rCwsICLiwtat24te5XpYbf91tbWihdfBgwYUKfXSoiInnRmQlTzgi01KF9++SUmTZokGXf16lVZj95ERERq8PT0lPSpMW7cOIO9+tOjbfbs2bJO8X788UcMGDDgIZWIiOjRxw7SHrL8/Hxs2bIFWVlZyMrKQk5ODpYtW4aQkBBJutLSUtk3SN3c3BQfyyYiIjIkISEBJ06cQHZ2NrKyshAQEICPP/5Y9grO9u3bJYE2AISHhz/IotIDUlBQIHuCTqPRoE+fPg+pREREjwcG2w+ZnZ0dPvjgAxQWFurGRURE4JVXXkF4eDhsbW1x5coVrF+/HpcvX5bMGx0dbfD9ZCIiIiXHjh3DrFmzJOP279+Pl19+Gd7e3rh9+zYOHTok6yXcwcEBI0aMeJBFpXqUnZ2Nnj17olmzZkhJSUF2drZk+ttvvw1ra+uHVDoioscDHyNvANauXYvXXnutRvNERERg9+7dcHBwqKdSERHR46ikpASdOnVCSkqKyfNYWFhg48aNsu+i06Nr9erVBjuj8/Pzw/Hjx4128EpERNVjB2kNwJgxY/Ddd9+Z1OurmZkZRo0ahcTERAbaRERUY/b29tizZ4/JHUb6+vpi+/btDLQfMzt27FAc7+HhgYSEBAbaREQq4J3tBuSPP/7At99+i8TERJw9exY3btyAVquFm5sbmjVrhsjISAwfPlyxh1giIqKa2rNnD+Lj4/G///0P6enpKCkpgYODA9zd3dGuXTv06dMHI0eORKNGjR52UUll48aNQ1JSEvLy8mBmZgY/Pz/07dsXU6dOhYeHx8MuHhHRY4HBNhEREREREZHK+Bg5ERERERERkcoYbBMRERERERGpjME2ERERERERkcoYbBMRERERERGpjME2ERERERERkcoYbBMRERERERGpjME2ERERERERkcoYbBMRERERERGpjME2ERERERERkcoYbBMRERERERGpjME2ERERERERkcoYbBMRERERERGpjME2ERERERERkcoYbBMRERERERGpjME2ERERERERkcoYbBMRERERERGpjME2ERERERERkcoYbBMRERERERGpjME2ERERERERkcoYbBMRERERERGpjME2ERERERERkcoYbBMRERERERGpjME2ERERERERkcoYbBMRERERERGpjME2ERERERERkcoYbBMRERERERGpjME2ERERERERkcoYbBMRERERERGpjME2ERERERERkcoYbBMRERERERGp7P8BgckLfJuQMl4AAAAASUVORK5CYII=)"
      ]
    },
    {
      "cell_type": "markdown",
      "metadata": {
        "id": "q_wxns62vjZM"
      },
      "source": [
        "## 1. CHI-Squared Test (Goodness of Fit)\n",
        "\n",
        "If you want to learn it click [here](https://www.youtube.com/watch?v=2QeDRsxSF9M&t=128s)\n",
        "\n",
        "1. This statistical test is only applied for Non-Negative features.\n",
        "\n",
        "2. It is a filter method means this technique dosen't needs **ML algorithm** to select features.\n",
        "\n",
        "\n",
        "### SKLEARN comes in :)\n",
        "\n",
        "The scikit-learn library provides the **SelectKBest** class that can be used with a suite of different statistical\n",
        "\n",
        "tests to select a specific number of features, in this case, it is **Chi-Squared**."
      ]
    },
    {
      "cell_type": "code",
      "metadata": {
        "id": "9C5uSKCvvjZM"
      },
      "source": [
        "# Import the necessary libraries first\n",
        "from sklearn.feature_selection import SelectKBest\n",
        "from sklearn.feature_selection import chi2"
      ],
      "execution_count": null,
      "outputs": []
    },
    {
      "cell_type": "code",
      "metadata": {
        "id": "iImxd_iWvjZQ",
        "outputId": "d4669eeb-b5d4-4938-d3ee-b3849028143c",
        "colab": {
          "base_uri": "https://localhost:8080/",
          "height": 34
        }
      },
      "source": [
        "# Feature extraction\n",
        "test = SelectKBest(score_func=chi2, k=4) # we want to select top 4 features\n",
        "fit = test.fit(X, Y)\n",
        "\n",
        "# Summarize scores\n",
        "np.set_printoptions(precision=3)\n",
        "print(fit.scores_)"
      ],
      "execution_count": null,
      "outputs": [
        {
          "output_type": "stream",
          "text": [
            "[ 111.52  1411.887   17.605   53.108 2175.565  127.669    5.393  181.304]\n"
          ],
          "name": "stdout"
        }
      ]
    },
    {
      "cell_type": "markdown",
      "metadata": {
        "id": "qsR_i_0nvjZU"
      },
      "source": [
        "### Those with highest Scores Have Been choosen\n",
        "\n",
        "So We'll Choose  \n",
        "\n",
        "Plas,Test,Mass and Age  as our **top4** features\n",
        "\n",
        "#### Now our Dataset Looks like below :-"
      ]
    },
    {
      "cell_type": "code",
      "metadata": {
        "id": "aycIPn10vjZV",
        "outputId": "681e393b-6092-40c8-8e90-3a34f8172430",
        "colab": {
          "base_uri": "https://localhost:8080/",
          "height": 102
        }
      },
      "source": [
        "features = fit.transform(X)\n",
        "# Summarize selected features\n",
        "print(features[0:5,:]) # Top 5 Rows of Dataset after Chi-squared Test"
      ],
      "execution_count": null,
      "outputs": [
        {
          "output_type": "stream",
          "text": [
            "[[148.    0.   33.6  50. ]\n",
            " [ 85.    0.   26.6  31. ]\n",
            " [183.    0.   23.3  32. ]\n",
            " [ 89.   94.   28.1  21. ]\n",
            " [137.  168.   43.1  33. ]]\n"
          ],
          "name": "stdout"
        }
      ]
    },
    {
      "cell_type": "markdown",
      "metadata": {
        "id": "lH0uj0iMLobG"
      },
      "source": [
        "## **Ques** - What is difference between fit and fit transform?"
      ]
    },
    {
      "cell_type": "markdown",
      "metadata": {
        "id": "eFQ2zlR4LvO_"
      },
      "source": [
        "\"fit\" computes the mean and std to be used for later scaling. (just a computation), nothing is given to you. \"transform\" uses a previously computed mean and std to autoscale the data (subtract mean from all values and then divide it by std). \"fit_transform\" does both at the same time."
      ]
    },
    {
      "cell_type": "markdown",
      "metadata": {
        "id": "GxWXHvB5vjZZ"
      },
      "source": [
        "# 2. Recursive Feature elimination \n",
        "\n",
        "It is a Wrapper Method \n",
        "\n",
        "The Recursive Feature Elimination (or RFE) works by recursively removing attributes and building a model on those attributes that remain.\n",
        "\n",
        "It uses the model accuracy to identify which attributes (and combination of attributes) contribute the most to predicting the target attribute."
      ]
    },
    {
      "cell_type": "code",
      "metadata": {
        "id": "oBBIdQUZvjZa"
      },
      "source": [
        "# Import your necessary dependencies\n",
        "from sklearn.feature_selection import RFE\n",
        "from sklearn.linear_model import LogisticRegression"
      ],
      "execution_count": null,
      "outputs": []
    },
    {
      "cell_type": "code",
      "metadata": {
        "id": "32KBDQIJvjZf",
        "outputId": "88cd873c-844f-4e9c-a66c-95c27bddfeb6",
        "colab": {
          "base_uri": "https://localhost:8080/",
          "height": 68
        }
      },
      "source": [
        "# Feature extraction\n",
        "model = LogisticRegression(max_iter=2000)\n",
        "rfe = RFE(estimator=model,n_features_to_select= 3)\n",
        "fit = rfe.fit(X, Y)\n",
        "print(\"Num Features: %s\" % (fit.n_features_))\n",
        "print(\"Selected Features: %s\" % (fit.support_))\n",
        "print(\"Feature Ranking: %s\" % (fit.ranking_))"
      ],
      "execution_count": null,
      "outputs": [
        {
          "output_type": "stream",
          "text": [
            "Num Features: 3\n",
            "Selected Features: [ True False False False False  True  True False]\n",
            "Feature Ranking: [1 2 4 6 5 1 1 3]\n"
          ],
          "name": "stdout"
        }
      ]
    },
    {
      "cell_type": "markdown",
      "metadata": {
        "id": "aM8ZA5XNvjZi"
      },
      "source": [
        "### <font color='green'>fit.ranking_</font> tells which features are selected:-\n",
        "The features that are selected are given Rank=1\n",
        "\n",
        "Rank=2 and rank=3 corresponds that if we have choose <font color='red'>n_features_to_select</font>=4 our second choice would have been selected"
      ]
    },
    {
      "cell_type": "markdown",
      "metadata": {
        "id": "_iFwFBKavjZj"
      },
      "source": [
        "# 3. Embedded Methods\n",
        "\n",
        "There is a property of <font color='red'>Lasso Regression</font> that after some iterations features that are not important start \n",
        "\n",
        "to approach to <font color='red'>ZERO</font> and Ultimately collapse to Zero.\n",
        "\n",
        "So the features whose coefficients are zero are <font color='red'>NON-ESSENTIAL</font> features for us hence we will remove them"
      ]
    },
    {
      "cell_type": "code",
      "metadata": {
        "id": "mTXHYyLbvjZk",
        "outputId": "885d3733-e9a1-4dfc-85d4-8335f25ea0f0",
        "colab": {
          "base_uri": "https://localhost:8080/",
          "height": 419
        }
      },
      "source": [
        "from sklearn.linear_model import Lasso\n",
        "data = pd.read_csv(\"/content/drive/My Drive/bmu_stuff_for_nb/insurance.csv\")\n",
        "encoded_data = pd.get_dummies(data, columns=[\"sex\",\"smoker\",\"region\"])\n",
        "encoded_data"
      ],
      "execution_count": null,
      "outputs": [
        {
          "output_type": "execute_result",
          "data": {
            "text/html": [
              "<div>\n",
              "<style scoped>\n",
              "    .dataframe tbody tr th:only-of-type {\n",
              "        vertical-align: middle;\n",
              "    }\n",
              "\n",
              "    .dataframe tbody tr th {\n",
              "        vertical-align: top;\n",
              "    }\n",
              "\n",
              "    .dataframe thead th {\n",
              "        text-align: right;\n",
              "    }\n",
              "</style>\n",
              "<table border=\"1\" class=\"dataframe\">\n",
              "  <thead>\n",
              "    <tr style=\"text-align: right;\">\n",
              "      <th></th>\n",
              "      <th>age</th>\n",
              "      <th>bmi</th>\n",
              "      <th>children</th>\n",
              "      <th>charges</th>\n",
              "      <th>sex_female</th>\n",
              "      <th>sex_male</th>\n",
              "      <th>smoker_no</th>\n",
              "      <th>smoker_yes</th>\n",
              "      <th>region_northeast</th>\n",
              "      <th>region_northwest</th>\n",
              "      <th>region_southeast</th>\n",
              "      <th>region_southwest</th>\n",
              "    </tr>\n",
              "  </thead>\n",
              "  <tbody>\n",
              "    <tr>\n",
              "      <th>0</th>\n",
              "      <td>19</td>\n",
              "      <td>27.900</td>\n",
              "      <td>0</td>\n",
              "      <td>16884.92400</td>\n",
              "      <td>1</td>\n",
              "      <td>0</td>\n",
              "      <td>0</td>\n",
              "      <td>1</td>\n",
              "      <td>0</td>\n",
              "      <td>0</td>\n",
              "      <td>0</td>\n",
              "      <td>1</td>\n",
              "    </tr>\n",
              "    <tr>\n",
              "      <th>1</th>\n",
              "      <td>18</td>\n",
              "      <td>33.770</td>\n",
              "      <td>1</td>\n",
              "      <td>1725.55230</td>\n",
              "      <td>0</td>\n",
              "      <td>1</td>\n",
              "      <td>1</td>\n",
              "      <td>0</td>\n",
              "      <td>0</td>\n",
              "      <td>0</td>\n",
              "      <td>1</td>\n",
              "      <td>0</td>\n",
              "    </tr>\n",
              "    <tr>\n",
              "      <th>2</th>\n",
              "      <td>28</td>\n",
              "      <td>33.000</td>\n",
              "      <td>3</td>\n",
              "      <td>4449.46200</td>\n",
              "      <td>0</td>\n",
              "      <td>1</td>\n",
              "      <td>1</td>\n",
              "      <td>0</td>\n",
              "      <td>0</td>\n",
              "      <td>0</td>\n",
              "      <td>1</td>\n",
              "      <td>0</td>\n",
              "    </tr>\n",
              "    <tr>\n",
              "      <th>3</th>\n",
              "      <td>33</td>\n",
              "      <td>22.705</td>\n",
              "      <td>0</td>\n",
              "      <td>21984.47061</td>\n",
              "      <td>0</td>\n",
              "      <td>1</td>\n",
              "      <td>1</td>\n",
              "      <td>0</td>\n",
              "      <td>0</td>\n",
              "      <td>1</td>\n",
              "      <td>0</td>\n",
              "      <td>0</td>\n",
              "    </tr>\n",
              "    <tr>\n",
              "      <th>4</th>\n",
              "      <td>32</td>\n",
              "      <td>28.880</td>\n",
              "      <td>0</td>\n",
              "      <td>3866.85520</td>\n",
              "      <td>0</td>\n",
              "      <td>1</td>\n",
              "      <td>1</td>\n",
              "      <td>0</td>\n",
              "      <td>0</td>\n",
              "      <td>1</td>\n",
              "      <td>0</td>\n",
              "      <td>0</td>\n",
              "    </tr>\n",
              "    <tr>\n",
              "      <th>...</th>\n",
              "      <td>...</td>\n",
              "      <td>...</td>\n",
              "      <td>...</td>\n",
              "      <td>...</td>\n",
              "      <td>...</td>\n",
              "      <td>...</td>\n",
              "      <td>...</td>\n",
              "      <td>...</td>\n",
              "      <td>...</td>\n",
              "      <td>...</td>\n",
              "      <td>...</td>\n",
              "      <td>...</td>\n",
              "    </tr>\n",
              "    <tr>\n",
              "      <th>1333</th>\n",
              "      <td>50</td>\n",
              "      <td>30.970</td>\n",
              "      <td>3</td>\n",
              "      <td>10600.54830</td>\n",
              "      <td>0</td>\n",
              "      <td>1</td>\n",
              "      <td>1</td>\n",
              "      <td>0</td>\n",
              "      <td>0</td>\n",
              "      <td>1</td>\n",
              "      <td>0</td>\n",
              "      <td>0</td>\n",
              "    </tr>\n",
              "    <tr>\n",
              "      <th>1334</th>\n",
              "      <td>18</td>\n",
              "      <td>31.920</td>\n",
              "      <td>0</td>\n",
              "      <td>2205.98080</td>\n",
              "      <td>1</td>\n",
              "      <td>0</td>\n",
              "      <td>1</td>\n",
              "      <td>0</td>\n",
              "      <td>1</td>\n",
              "      <td>0</td>\n",
              "      <td>0</td>\n",
              "      <td>0</td>\n",
              "    </tr>\n",
              "    <tr>\n",
              "      <th>1335</th>\n",
              "      <td>18</td>\n",
              "      <td>36.850</td>\n",
              "      <td>0</td>\n",
              "      <td>1629.83350</td>\n",
              "      <td>1</td>\n",
              "      <td>0</td>\n",
              "      <td>1</td>\n",
              "      <td>0</td>\n",
              "      <td>0</td>\n",
              "      <td>0</td>\n",
              "      <td>1</td>\n",
              "      <td>0</td>\n",
              "    </tr>\n",
              "    <tr>\n",
              "      <th>1336</th>\n",
              "      <td>21</td>\n",
              "      <td>25.800</td>\n",
              "      <td>0</td>\n",
              "      <td>2007.94500</td>\n",
              "      <td>1</td>\n",
              "      <td>0</td>\n",
              "      <td>1</td>\n",
              "      <td>0</td>\n",
              "      <td>0</td>\n",
              "      <td>0</td>\n",
              "      <td>0</td>\n",
              "      <td>1</td>\n",
              "    </tr>\n",
              "    <tr>\n",
              "      <th>1337</th>\n",
              "      <td>61</td>\n",
              "      <td>29.070</td>\n",
              "      <td>0</td>\n",
              "      <td>29141.36030</td>\n",
              "      <td>1</td>\n",
              "      <td>0</td>\n",
              "      <td>0</td>\n",
              "      <td>1</td>\n",
              "      <td>0</td>\n",
              "      <td>1</td>\n",
              "      <td>0</td>\n",
              "      <td>0</td>\n",
              "    </tr>\n",
              "  </tbody>\n",
              "</table>\n",
              "<p>1338 rows × 12 columns</p>\n",
              "</div>"
            ],
            "text/plain": [
              "      age     bmi  ...  region_southeast  region_southwest\n",
              "0      19  27.900  ...                 0                 1\n",
              "1      18  33.770  ...                 1                 0\n",
              "2      28  33.000  ...                 1                 0\n",
              "3      33  22.705  ...                 0                 0\n",
              "4      32  28.880  ...                 0                 0\n",
              "...   ...     ...  ...               ...               ...\n",
              "1333   50  30.970  ...                 0                 0\n",
              "1334   18  31.920  ...                 0                 0\n",
              "1335   18  36.850  ...                 1                 0\n",
              "1336   21  25.800  ...                 0                 1\n",
              "1337   61  29.070  ...                 0                 0\n",
              "\n",
              "[1338 rows x 12 columns]"
            ]
          },
          "metadata": {
            "tags": []
          },
          "execution_count": 10
        }
      ]
    },
    {
      "cell_type": "code",
      "metadata": {
        "id": "Mt5y8H-YvjZn"
      },
      "source": [
        "from sklearn.model_selection import train_test_split \n",
        "from sklearn.linear_model import LinearRegression \n",
        "\n",
        "X = encoded_data[encoded_data.columns[~encoded_data.columns.isin(['charges'])]].to_numpy()\n",
        "y = encoded_data.charges.to_numpy()\n",
        "\n",
        "# Dropping any rows with Nan values \n",
        "X_train, X_test, y_train, y_test = train_test_split(X, y, test_size = 0.25) \n"
      ],
      "execution_count": null,
      "outputs": []
    },
    {
      "cell_type": "code",
      "metadata": {
        "id": "PLqUJPBEvjZq",
        "outputId": "7f0252a7-a18e-4aa7-a1fa-dc09d36a3256",
        "colab": {
          "base_uri": "https://localhost:8080/",
          "height": 68
        }
      },
      "source": [
        "from sklearn.linear_model import Lasso\n",
        "#Initializing the Lasso Regressor with Normalization Factor as True\n",
        "lasso_reg = Lasso(normalize=True)\n",
        "\n",
        "#Fitting the Training data to the Lasso regressor\n",
        "lasso_reg.fit(X_train,y_train)"
      ],
      "execution_count": null,
      "outputs": [
        {
          "output_type": "execute_result",
          "data": {
            "text/plain": [
              "Lasso(alpha=1.0, copy_X=True, fit_intercept=True, max_iter=1000, normalize=True,\n",
              "      positive=False, precompute=False, random_state=None, selection='cyclic',\n",
              "      tol=0.0001, warm_start=False)"
            ]
          },
          "metadata": {
            "tags": []
          },
          "execution_count": 12
        }
      ]
    },
    {
      "cell_type": "code",
      "metadata": {
        "id": "0IF57XHMvjZu"
      },
      "source": [
        "# A helper method for pretty-printing the coefficients\n",
        "def pretty_print_coefs(coefs, names = None, sort = False):\n",
        "    if names == None:\n",
        "        names = [\"X%s\" % x for x in range(len(coefs))]\n",
        "    lst = zip(coefs, names)\n",
        "    if sort:\n",
        "        lst = sorted(lst,  key = lambda x:-np.abs(x[0]))\n",
        "    return \" + \".join(\"%s * %s\" % (round(coef, 3), name)\n",
        "                                   for coef, name in lst)"
      ],
      "execution_count": null,
      "outputs": []
    },
    {
      "cell_type": "code",
      "metadata": {
        "id": "ayBMYe5FvjZy",
        "outputId": "5c86fe3e-24c2-4b8b-bb69-50fa7a5af695",
        "colab": {
          "base_uri": "https://localhost:8080/",
          "height": 34
        }
      },
      "source": [
        "print (\"LASSO model:\", pretty_print_coefs(lasso_reg.coef_))"
      ],
      "execution_count": null,
      "outputs": [
        {
          "output_type": "stream",
          "text": [
            "LASSO model: 251.322 * X0 + 299.671 * X1 + 527.422 * X2 + 107.59 * X3 + -0.0 * X4 + -23110.44 * X5 + 0.0 * X6 + 635.516 * X7 + 360.483 * X8 + -194.533 * X9 + -0.0 * X10\n"
          ],
          "name": "stdout"
        }
      ]
    },
    {
      "cell_type": "markdown",
      "metadata": {
        "id": "UOtR03WwvjZ1"
      },
      "source": [
        " ### 1. It is known as L1-Regularisation\n",
        " \n",
        "    * For correlated features, it means that they tend to get similar coefficients.\n",
        "    * Feature having negative coefficients don't contribute that much.\n",
        " "
      ]
    }
  ]
}