{
  "nbformat": 4,
  "nbformat_minor": 0,
  "metadata": {
    "colab": {
      "name": "flask(Basics)-tutorial",
      "provenance": [],
      "collapsed_sections": [
        "a5QEX-GSTQR1"
      ]
    },
    "kernelspec": {
      "name": "python3",
      "display_name": "Python 3"
    }
  },
  "cells": [
    {
      "cell_type": "markdown",
      "metadata": {
        "id": "7kYl1IgTEeV_"
      },
      "source": [
        "# What is Web Framework?\n",
        "<font color='red'>Web Application Framework</font> or simply Web Framework represents a collection of libraries and modules that enables a web application developer to write applications without having to bother about low-level details such as protocols, thread management etc.\n",
        "\n"
      ]
    },
    {
      "cell_type": "markdown",
      "metadata": {
        "id": "LfrDZazq6yWc"
      },
      "source": [
        "## FLASK?\n",
        "\n",
        "\n"
      ]
    },
    {
      "cell_type": "markdown",
      "metadata": {
        "id": "A_uAGwDg8a91"
      },
      "source": [
        "![link text](https://encrypted-tbn0.gstatic.com/images?q=tbn%3AANd9GcQYcSnzIKyb-RaDQtXYyVBsHbuzfq8gvDRDIw&usqp=CAU)"
      ]
    },
    {
      "cell_type": "markdown",
      "metadata": {
        "id": "WeBRnMJo7KR5"
      },
      "source": [
        "Flask is a web application framework written in Python."
      ]
    },
    {
      "cell_type": "markdown",
      "metadata": {
        "id": "NWRFDido628z"
      },
      "source": [
        "##WSGI\n"
      ]
    },
    {
      "cell_type": "markdown",
      "metadata": {
        "id": "2-zAt7CD7G0e"
      },
      "source": [
        "Web Server Gateway Interface (WSGI) has been adopted as a standard for Python web application development. WSGI is a specification for a universal interface between the web server and the web applications.\n"
      ]
    },
    {
      "cell_type": "markdown",
      "metadata": {
        "id": "OPFl5WXP68YN"
      },
      "source": [
        "\n",
        "## Werkzeug\n",
        "\n"
      ]
    },
    {
      "cell_type": "markdown",
      "metadata": {
        "id": "ZukcNg8I7DVB"
      },
      "source": [
        "It is a WSGI toolkit, which implements requests, response objects, and other utility functions. This enables building a web framework on top of it. The Flask framework uses Werkzeug as one of its bases."
      ]
    },
    {
      "cell_type": "markdown",
      "metadata": {
        "id": "uitsEXr76-zp"
      },
      "source": [
        "\n",
        "## Hey did you even heard about JINJA2?\n"
      ]
    },
    {
      "cell_type": "markdown",
      "metadata": {
        "id": "rTxxB4B67A18"
      },
      "source": [
        "\n",
        "<font color='green'>Jinja2</font> is a popular templating engine for Python. A web templating system combines a template with a certain data source to render dynamic web pages.\n",
        "\n",
        "Flask is often referred to as a micro framework. It aims to keep the core of an application simple yet extensible. Flask does not have built-in abstraction layer for database handling.\n",
        "Instead, Flask supports the extensions to add such functionality to the application. Some of the popular Flask extensions are discussed later in the tutorial."
      ]
    },
    {
      "cell_type": "markdown",
      "metadata": {
        "id": "JdXY1f4REeTO"
      },
      "source": [
        "## Installation Part\n",
        "<font color='orange'>**pip install flask**</font>\n",
        "\n",
        "#### preferred is use virtual environment  for flask"
      ]
    },
    {
      "cell_type": "markdown",
      "metadata": {
        "id": "SLJaz-gUEeGI"
      },
      "source": [
        "# `Special thing `\n",
        "\n",
        "## Is it posible to have <font color='red'>FLASK on COLAB</font> ?"
      ]
    },
    {
      "cell_type": "markdown",
      "metadata": {
        "id": "GMNawn_X7fr9"
      },
      "source": [
        "### <font color='red'>YA you can</font>\n",
        "\n",
        "\n",
        "**!pip install flask-ngrok**\n"
      ]
    },
    {
      "cell_type": "code",
      "metadata": {
        "id": "L1ayqyI2Liu8",
        "outputId": "fdd125b1-2751-4538-a837-73f147f629bb",
        "colab": {
          "base_uri": "https://localhost:8080/",
          "height": 235
        }
      },
      "source": [
        "!pip install flask-ngrok"
      ],
      "execution_count": null,
      "outputs": [
        {
          "output_type": "stream",
          "text": [
            "Requirement already satisfied: flask-ngrok in /usr/local/lib/python3.6/dist-packages (0.0.25)\n",
            "Requirement already satisfied: requests in /usr/local/lib/python3.6/dist-packages (from flask-ngrok) (2.23.0)\n",
            "Requirement already satisfied: Flask>=0.8 in /usr/local/lib/python3.6/dist-packages (from flask-ngrok) (1.1.2)\n",
            "Requirement already satisfied: certifi>=2017.4.17 in /usr/local/lib/python3.6/dist-packages (from requests->flask-ngrok) (2020.6.20)\n",
            "Requirement already satisfied: urllib3!=1.25.0,!=1.25.1,<1.26,>=1.21.1 in /usr/local/lib/python3.6/dist-packages (from requests->flask-ngrok) (1.24.3)\n",
            "Requirement already satisfied: chardet<4,>=3.0.2 in /usr/local/lib/python3.6/dist-packages (from requests->flask-ngrok) (3.0.4)\n",
            "Requirement already satisfied: idna<3,>=2.5 in /usr/local/lib/python3.6/dist-packages (from requests->flask-ngrok) (2.10)\n",
            "Requirement already satisfied: click>=5.1 in /usr/local/lib/python3.6/dist-packages (from Flask>=0.8->flask-ngrok) (7.1.2)\n",
            "Requirement already satisfied: itsdangerous>=0.24 in /usr/local/lib/python3.6/dist-packages (from Flask>=0.8->flask-ngrok) (1.1.0)\n",
            "Requirement already satisfied: Werkzeug>=0.15 in /usr/local/lib/python3.6/dist-packages (from Flask>=0.8->flask-ngrok) (1.0.1)\n",
            "Requirement already satisfied: Jinja2>=2.10.1 in /usr/local/lib/python3.6/dist-packages (from Flask>=0.8->flask-ngrok) (2.11.2)\n",
            "Requirement already satisfied: MarkupSafe>=0.23 in /usr/local/lib/python3.6/dist-packages (from Jinja2>=2.10.1->Flask>=0.8->flask-ngrok) (1.1.1)\n"
          ],
          "name": "stdout"
        }
      ]
    },
    {
      "cell_type": "code",
      "metadata": {
        "id": "KBhhz55WK9aD",
        "outputId": "49614e49-1b3f-4c6b-a5ed-7f640c8668e4",
        "colab": {
          "base_uri": "https://localhost:8080/",
          "height": 217
        }
      },
      "source": [
        "from flask_ngrok import run_with_ngrok\n",
        "from flask import Flask\n",
        "\n",
        "app = Flask(__name__)\n",
        "\n",
        "run_with_ngrok(app)   #starts ngrok when the app is run\n",
        "\n",
        "@app.route(\"/\")\n",
        "def home():\n",
        "    return \"<h1>MAGIC IS WHAT YOU See</h1>\"\n",
        "  \n",
        "app.run()"
      ],
      "execution_count": null,
      "outputs": [
        {
          "output_type": "stream",
          "text": [
            " * Serving Flask app \"__main__\" (lazy loading)\n",
            " * Environment: production\n",
            "\u001b[31m   WARNING: This is a development server. Do not use it in a production deployment.\u001b[0m\n",
            "\u001b[2m   Use a production WSGI server instead.\u001b[0m\n",
            " * Debug mode: off\n"
          ],
          "name": "stdout"
        },
        {
          "output_type": "stream",
          "text": [
            " * Running on http://127.0.0.1:5000/ (Press CTRL+C to quit)\n"
          ],
          "name": "stderr"
        },
        {
          "output_type": "stream",
          "text": [
            " * Running on http://9bca53c6f4f1.ngrok.io\n",
            " * Traffic stats available on http://127.0.0.1:4040\n"
          ],
          "name": "stdout"
        },
        {
          "output_type": "stream",
          "text": [
            "127.0.0.1 - - [22/Sep/2020 10:09:25] \"\u001b[37mGET / HTTP/1.1\u001b[0m\" 200 -\n",
            "127.0.0.1 - - [22/Sep/2020 10:09:26] \"\u001b[33mGET /favicon.ico HTTP/1.1\u001b[0m\" 404 -\n",
            "127.0.0.1 - - [22/Sep/2020 10:10:55] \"\u001b[37mGET / HTTP/1.1\u001b[0m\" 200 -\n"
          ],
          "name": "stderr"
        }
      ]
    },
    {
      "cell_type": "markdown",
      "metadata": {
        "id": "CMc-Y6HhMiSd"
      },
      "source": [
        "\n",
        "\n",
        "![Screenshot from 2020-09-20 20-09-22.png](data:image/png;base64,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)\n",
        "\n",
        "The **route()** function of the Flask class is a <font color='dark orange'>decorator</font>, which tells the application which URL should call the associated function."
      ]
    },
    {
      "cell_type": "markdown",
      "metadata": {
        "id": "H8QpqpmrMibr"
      },
      "source": [
        "\n",
        "\n",
        "1.   The **rule** parameter represents URL binding with the function.\n",
        "2.   The **options** is a list of parameters to be forwarded to the underlying Rule object. ( i.e They are name of the arguments that we can pass )\n",
        "\n"
      ]
    },
    {
      "cell_type": "markdown",
      "metadata": {
        "id": "CoBeKy-W3jE5"
      },
      "source": [
        "In the above example, `‘/’` URL is bound with `hello_world()` function. Hence, when the home page of web server is opened in browser, the output of this function will be rendered."
      ]
    },
    {
      "cell_type": "markdown",
      "metadata": {
        "id": "Tn0pGFD04NeQ"
      },
      "source": [
        "Finally the `run()` method of Flask class runs the application on the local development server."
      ]
    },
    {
      "cell_type": "markdown",
      "metadata": {
        "id": "H_bwNJeg_VUl"
      },
      "source": [
        "Modern web frameworks use the routing technique to help a user remember application URLs. It is useful to access the desired page directly without having to navigate from the home page.\n",
        "\n",
        "The route() decorator in Flask is used to bind URL to a function. For example −\n",
        "\n",
        "![Screenshot from 2020-09-20 20-19-08.png](data:image/png;base64,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)"
      ]
    },
    {
      "cell_type": "markdown",
      "metadata": {
        "id": "_rkMCZTc_b_9"
      },
      "source": [
        "Here, URL **`‘/hello’`** rule is bound to the **`hello_world()`** function. As a result, if a user visits **`http://localhost:5000/hello`** URL, the output of the **`hello_world()`** function will be rendered in the browser."
      ]
    },
    {
      "cell_type": "markdown",
      "metadata": {
        "id": "QnBjfyVb3xyQ"
      },
      "source": [
        "# Debug mode"
      ]
    },
    {
      "cell_type": "markdown",
      "metadata": {
        "id": "2l413-0fMifc"
      },
      "source": [
        "A **Flask** application is started by calling the **run()** method. However, while the application is under development, <font color = chocolate>it should be restarted manually for each change in the code</font>. To avoid this inconvenience, enable debug support. The server will then reload itself if the code changes. It will also provide a useful debugger to track the errors if any, in the application.\n",
        "\n",
        "The **Debug mode** is enabled by setting the debug property of the application object to `True` before running or passing the debug parameter to the **run()** method.\n",
        "\n",
        "\n",
        "\n",
        "\n",
        "```\n",
        "app.debug = True\n",
        "app.run()\n",
        "app.run(debug = True)\n",
        "```\n",
        "\n"
      ]
    },
    {
      "cell_type": "markdown",
      "metadata": {
        "id": "l4uGq6PpMiiQ"
      },
      "source": [
        "# Variable Rules\n",
        "It is possible to build a URL dynamically, by adding variable parts to the rule parameter. This variable part is marked as **< variable-name >**. It is passed as a keyword argument to the function with which the rule is associated.\n",
        "\n",
        "In the following example, the rule parameter of route() decorator contains **< name >** variable part attached to URL **‘/hi**. \n",
        "\n",
        "Hence, if the http://127.0.0.1:5000/hi/xyz is entered as a URL in the browser, ‘xyz’ will be supplied to hello() function as argument."
      ]
    },
    {
      "cell_type": "code",
      "metadata": {
        "id": "-L1QAxhmKhIp",
        "outputId": "f53d2cb9-ccc8-4fb4-aaac-3f14a5564846",
        "colab": {
          "base_uri": "https://localhost:8080/",
          "height": 163
        }
      },
      "source": [
        "# EXAMPLE1\n",
        "from flask import Flask\n",
        "\n",
        "from flask_ngrok import run_with_ngrok\n",
        "\n",
        "app = Flask(__name__)\n",
        "run_with_ngrok(app)   #starts ngrok when the app is run\n",
        "\n",
        "@app.route('/hi/<name>')\n",
        "def hello_name(name):\n",
        "   return '<h2> Hi %s! welcome to your own Page</h2>' % name\n",
        "\n",
        "@app.route('/blog/<int:postID>')\n",
        "def show_blog(postID):\n",
        "   return '<h1>Blog Number %d </h1>' % postID\n",
        "\n",
        "\n",
        "app.run()"
      ],
      "execution_count": null,
      "outputs": [
        {
          "output_type": "stream",
          "text": [
            " * Serving Flask app \"__main__\" (lazy loading)\n",
            " * Environment: production\n",
            "\u001b[31m   WARNING: This is a development server. Do not use it in a production deployment.\u001b[0m\n",
            "\u001b[2m   Use a production WSGI server instead.\u001b[0m\n",
            " * Debug mode: off\n"
          ],
          "name": "stdout"
        },
        {
          "output_type": "stream",
          "text": [
            " * Running on http://127.0.0.1:5000/ (Press CTRL+C to quit)\n"
          ],
          "name": "stderr"
        },
        {
          "output_type": "stream",
          "text": [
            " * Running on http://229ba0b9f14d.ngrok.io\n",
            " * Traffic stats available on http://127.0.0.1:4040\n"
          ],
          "name": "stdout"
        }
      ]
    },
    {
      "cell_type": "markdown",
      "metadata": {
        "id": "V2SPRjndM-aB"
      },
      "source": [
        "#### The URL rules of <font color='red'>Flask</font> are based on **Werkzeug’s** routing module. This ensures that the URLs formed are unique and based on precedents laid down by Apache.\n"
      ]
    },
    {
      "cell_type": "markdown",
      "metadata": {
        "id": "XnAyzKQXOO7e"
      },
      "source": [
        "# Url Building\n"
      ]
    },
    {
      "cell_type": "markdown",
      "metadata": {
        "id": "2BflGSt6Cfk0"
      },
      "source": [
        "\n",
        "The **url_for()** function is very useful for dynamically building a URL for a specific function. The function accepts the name of a function as first argument, and one or more keyword arguments, each corresponding to the variable part of URL."
      ]
    },
    {
      "cell_type": "code",
      "metadata": {
        "id": "rizf6VNLKhX9",
        "outputId": "520848b3-409d-4ff2-b982-edc4f97c63e5",
        "colab": {
          "base_uri": "https://localhost:8080/",
          "height": 308
        }
      },
      "source": [
        "from flask_ngrok import run_with_ngrok\n",
        "from flask import Flask, redirect, url_for\n",
        "\n",
        "app = Flask(__name__)\n",
        "run_with_ngrok(app)\n",
        "\n",
        "@app.route('/admin')\n",
        "def hello_admin():\n",
        "   return '<h1>Hello Admin</h1>'\n",
        "\n",
        "@app.route('/guest/<guest>')\n",
        "def hello_guest(guest):\n",
        "   return '<font color=\"red\"><h1>Hello %s as Guest</h1></font>' % guest\n",
        "\n",
        "@app.route('/user/<name>')\n",
        "def hello_user(name):\n",
        "   if name =='admin':\n",
        "      return redirect(url_for('hello_admin')) #name of the function as first argument\n",
        "   else:\n",
        "      return redirect(url_for('hello_guest',guest = name))\n",
        "\n",
        "\n",
        "app.run()"
      ],
      "execution_count": null,
      "outputs": [
        {
          "output_type": "stream",
          "text": [
            " * Serving Flask app \"__main__\" (lazy loading)\n",
            " * Environment: production\n",
            "\u001b[31m   WARNING: This is a development server. Do not use it in a production deployment.\u001b[0m\n",
            "\u001b[2m   Use a production WSGI server instead.\u001b[0m\n",
            " * Debug mode: off\n"
          ],
          "name": "stdout"
        },
        {
          "output_type": "stream",
          "text": [
            " * Running on http://127.0.0.1:5000/ (Press CTRL+C to quit)\n"
          ],
          "name": "stderr"
        },
        {
          "output_type": "stream",
          "text": [
            " * Running on http://22914129dbf1.ngrok.io\n",
            " * Traffic stats available on http://127.0.0.1:4040\n"
          ],
          "name": "stdout"
        },
        {
          "output_type": "stream",
          "text": [
            "127.0.0.1 - - [22/Sep/2020 10:23:00] \"\u001b[33mGET / HTTP/1.1\u001b[0m\" 404 -\n",
            "127.0.0.1 - - [22/Sep/2020 10:23:00] \"\u001b[33mGET /favicon.ico HTTP/1.1\u001b[0m\" 404 -\n",
            "127.0.0.1 - - [22/Sep/2020 10:23:04] \"\u001b[37mGET /admin HTTP/1.1\u001b[0m\" 200 -\n",
            "127.0.0.1 - - [22/Sep/2020 10:23:13] \"\u001b[37mGET /guest/syed HTTP/1.1\u001b[0m\" 200 -\n",
            "127.0.0.1 - - [22/Sep/2020 10:23:24] \"\u001b[32mGET /user/syed HTTP/1.1\u001b[0m\" 302 -\n",
            "127.0.0.1 - - [22/Sep/2020 10:23:25] \"\u001b[37mGET /guest/syed HTTP/1.1\u001b[0m\" 200 -\n",
            "127.0.0.1 - - [22/Sep/2020 10:23:40] \"\u001b[32mGET /user/admin HTTP/1.1\u001b[0m\" 302 -\n",
            "127.0.0.1 - - [22/Sep/2020 10:23:41] \"\u001b[37mGET /admin HTTP/1.1\u001b[0m\" 200 -\n"
          ],
          "name": "stderr"
        }
      ]
    },
    {
      "cell_type": "markdown",
      "metadata": {
        "id": "iBl9f6IPPdSs"
      },
      "source": [
        "### Important thing above was see how **url_for** redirects us to new **URL**\n",
        "\n",
        "explanation=The above script has a function user(name) which accepts a value to its argument from the URL.\n",
        "\n",
        "The User() function checks if an argument received matches ‘admin’ or not. If it matches, the application is redirected to the **`hello_admin()`** function using `url_for()`, otherwise to the **`hello_guest()`** function passing the received argument as guest parameter to it."
      ]
    },
    {
      "cell_type": "markdown",
      "metadata": {
        "id": "tw0pFuY3Q8Ly"
      },
      "source": [
        "Save the above code and run from Python shell.\n",
        "\n",
        "Open the browser and enter URL as − http://localhost:5000/user/Admin\n",
        "\n",
        "The application response in browser is −\n",
        "\n",
        "![Screenshot from 2020-09-20 21-38-05.png](data:image/png;base64,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)"
      ]
    },
    {
      "cell_type": "markdown",
      "metadata": {
        "id": "DrMpcUkCRg7y"
      },
      "source": [
        "Enter the following URL in the browser − http://localhost:5000/user/mvl\n",
        "\n",
        "The application response now changes to −\n",
        "![Screenshot from 2020-09-20 21-36-44.png](data:image/png;base64,iVBORw0KGgoAAAANSUhEUgAAAxEAAAAmCAYAAAC78BbuAAAABHNCSVQICAgIfAhkiAAAABl0RVh0U29mdHdhcmUAZ25vbWUtc2NyZWVuc2hvdO8Dvz4AAAAydEVYdENyZWF0aW9uIFRpbWUAU3VuZGF5IDIwIFNlcHRlbWJlciAyMDIwIDA5OjM2OjU2IFBNhHsMzgAADPFJREFUeJzt3X9QVeedx/H3FXKvYXsYM57WLqwzXpNZqB1h6HAphrtmvYQuJI0hSQOp8ca02phCNCWpMcaRViIbTVxFqqzGi5sKzQ/7Q9RE0lboTAI7MTjTgU4MdLPgJIGym+uP5WZczw3O3T8uIsgP71WoZvN5zTADz/mec57nOfzxfM95znlsx48fDyEiIiIiIhIh26lTp5REiIiIiIhIRHp7e5lyrSshIiIiIiKfL0oiREREREQkKkoiREREREQkKkoiREREREQkKkoiREREREQkKkoiREREREQkKkoiREREREQkKkoiREREREQkKkoiREREREQkKkoiREREREQkKiOTiP5WtixMI/Ox/fSFQoRCoYENnfgeyiTzQR+dw8ovo7+J9TlppKUN/CzcQutno+wfadx17uPaJWReaENaJisO9BGKpr+uJ1Y3b1ev55H7c5iflUnOwu+y4p/3crT73HXSpgCtB3z46js5d13UR0REROSLYUQSMdY4bLTySAZtoZh0Smp+x6HXD7F5oYljjP0jjbveJd6zmUOvH+JQbTEux+Xjr1v9nbz65MOs3NOKkbWUp8vKKVmSjXliH1Vv9lzr2gEQCv0PrW/48B1pJ3itKyMiIiLyBRIbSdDVDeIdGDMcGEC3Md6oOtK461yciRkH2KfzOW4FH/9yIxVHHeSV76I8xxwsz7u3gO7rI4cYVSgUwmazXetqiIiIiPy/FlESMR5/Sw079uyn6b0eApg4M/Mpenwp7oTw9gsDusslIpHGhVl0vr6DrbWNtH7kJxiXQMr8AoqLC0m5iagGkW8/O59V/+Hm7qltHGgH15IS8gN72fjLDvj6YjZsLibDgPbdi/jeKwmUHthMnjGkvr37WXnfJqwf/opdDyZGfN6I9XfT8KKPuuZW2nt6CAQNzCQXuQ8sY1mOEwdD2ut/F1+Fj8NH2+gJgH26k+S0PIrXeEmJi6ZfOnnz9TasmxfjXWBess0gMeHiX5/se4S7tjgo/V3lxX6xGnjSsxb/D37FS0vCfWKz2bA+bKLmxd0cPtpBz1k7ZlI2BY+W4HUZgzHDru0JP8EbDRJmpuBeXEJJzkD/duxgkbea9v4LtVjLbd9YG/7V4ab0cCX5Uf4fiIiIiEjkxk4izlv4TweGFAQ4d354yCeNZXx/bT32rGWUbHIxPfg+jT+vYtWP+tj2UgkZcRfvDEc6oIsk7pMDz7B8QwsJ9xRR/oQT/tJMzfZNrOgK8tIuL87Y6O5GWyf8GM+uo7S5grKda+m+YzUbNp2kdp2P2t8XknGvSdLtHpx7amh4K0DencZgu/xv1dNCCj+6/WICYbPZmKgJWKH+Tt7/T0i9exkFM6cTHxOk89g+qktX0hPzMuWeC3Xp4dV1P8bX7aJo1TZSvwp93V20NvfgPwvERXGX/nQbrScsjNtTSR7yHzJ037GOFQqFGK3xoQ/388zSMlqm57FsVRGp0z6l9aCPqpIVBKt3sTTJQSgUInhsKyvXH2Z6YQnlT80m3vLTefxdWnpOAuE+Ds32UnkoH+v8SerWLKc2voiX13iwA8TEY940fh1FRERE5OqMmURY72zivuxNI8odcwZ+6W+jZnsd/jklvLzRizMWIIWMJOi6r4LaN71k3HvpXewJ0N/Oa680EkhbTfmawoFhZQapdj/fLq2h5mgBpVmOqAaQjlvc5M/PINFwUXUwgOvOfDJcfrqSfdR29QAmzMolb041vj80ELgzn/C9824ajrRB2mqyZ0x8U8OVc1O82T2sKMWVjPWnu6j4bROWJw8HEPqsk7b3AiTcvwxvTnI4cG4G7tzoTxk63UffeTDNIdev38L6zBZOEmIcOKKaq2XRVF1FY7+b0opy8gf6KiXNSbBrEa/VNrP4WQ8OoPu99/HbXRT9MB933EBcpof8oYeLNTBnxAMQPxVwmJgJiQPXREREREQm25ifeHXM9bK5aic7dw38VJWSf8uQgBMtHPvYQUqOZyCBGDAjg4xZ0NrWPikVDvW9T8cJcKZnMHTykPFNF6kxftqPX8GEfcMgHiDOjoEd428AHMTHQV+gbyAoEU9OCsF3GmnwD9Tlwwbq2+xk5WQzCekSEL7773+nhrIVi7jrW7cxzz2PefPuouKYBYE+Bp8VxTpJTnbQ9cZWtr7ayLsf+LH6Rx7rSvkPruK2rMzw+Qu20tbPwBeaIti5v5WmY34crrzhyVasE1eaSeB4Kx0DdU24ZTZmsIWa56qpa26n+7Q14nBTplz+y8TRPP0SERERkeiMPZ0p3okrM2PI3d0u/nSjAwamNIVOf0IAi/Zt32Hetkv2PW/BVwNYEL5LPpHTSj4N0IcDw7hYM5vNRiguHiMGuvoC4+x8GTFTIcYBMSM32Ww2Ehd4SNleQeNbfvLvNelqbKDjRheF/zC8LhPp3LtbWF6yDxYUUVLuwmk6AIumF75H1fkgF4bYoVAC3vJtsLuW+tr11DwfgLhEXAtLKH3CQ2I0b79MM4iPgZ4z/sEic34Ju6oX07LncXZ8GF0bQv0BAmfA+kMZ35pXNnzjeQtrWoBzA3/ab32KyrLp+PYfpmr1DvxnHZhJWXif+gnetEuu+RgJjJIHERERkcl15S9WTzMxYhx4nniZ4vSRm+1GwuR8nehLBvFY+AMBGHr//2wfgfNgxE/ipJYZ2eSlV7DpSAP+hRk0NnZgz3wI902Td8rWI/V0feVudv7ES8Zgh3bTZDHs6tlsNjAz8K7JwAtY/naaf7GVjb9Yy6bkQ1QuNCNP5oxUUmdCS3sHXbhxAphOUkwn/mnA0CQiNlypYc8LgtZgsglAjIExDRLTS6lckjzidPZYAzP2Qjum4swtpjy3GPoDdB87TNULFWz9qY/UX5eQEqt3HURERESutStfsXqWi/S/hY4PujGdTpyX/CSaI1OI+Dg7/G+AvvOjHC/SOCOZpFnQdayJ7iHFgaNNtJ43SZ6TMMpOE8UkOycLe1sj9f/eSMOfDbJzs0afix/nwB4zdDrUlQlaFo64LxM/9OlITxNNHSOn+QwdWDvMZDyPFuK60cLf7R8ROx7bDbPJ/bYL/lxHTfP4T3YM40vY6SNwZkjhB+10Db12sSm40038HZ1YCaP8r8w0R084Yw0SMwtZluvEcbKb7hGLQYT7GMtiZG+IiIiIyGS54icRthtS8T6WR/PataywHqLQM5fp9iAne7poP9aEdXslT3vCQ8MLg1tnugvz3+qp2e3GfpvJ1BgD5987MWKHD4DHiyM2mcLvejiwwceqDXaW/ZMT+1+aqdneCHNL8H5z8lZnsNlsGPOzcf1LGTXPdxGY5qYo3TFs+6C4FFwpUPGbKl6bVcjX4u3hT64mOKK6i56a6cb47WH2HfGwOtcJHzXh21BL+6VTrs428tyKwzhysnHdnEg8floP+mgMOinIdEbd1sTvlFDUvJytzyzHeqAAd5KJ40wrdX+0IM4e/hIS4JjrItX+PHU/r8dd7ME804Jvdz1+GEyubLapuJcWkfXIJlauDOC9x03SdDufnuyiq62F1rgCKh/LAKB9z0qqelLx3DqX2V+eSl/X29T8ph17WgEpcZfW0uRrN5tYB+uo+f1s8m8xINYgYabJVD2pEBEREZk0V7VOhLlgHbsqk/DtPUDVT334g3bMBCdJ6dnkJ48czDtcxZQ/HmBj7Voe3WOFv+l/qJJ8c/gUlfHiAMyF5VRSRdUr1ax/I0DQSCBl/mp+Vlw4/CXvyWC4uSPLTuMbfhLvz8U1YmAbZrP9HYVryul5bgdVP36YgAWJD+7k0JMZUU3HMXKfZvN/bWTL9of5x/VgzEzG88A6iozHqRjykCB0wyySk6D+QBX1H/kJYMdMcrG4vIRlaVeQWDmS8W59icS9Pl57s4qyvQEwEki5tZjKpYsvfvp1Rj6r13RQ9q8bWXTHRsw5bgp+sBRXWwXDnn/MzGdztUn1izXUbaun50wQ4ytOnF934VkwezDMnJOK8ccGal7YS8+ZIPZpTlLnr+Znj+Zz6SocNpuNlO+vo/i/K6jbsJyagDVknYjQYIyIiIiITCzbqVOnhr2eOtpib+GXWEeWRzoYnpwF5yI75+VEc66x+mGsc0ba3vFEWr9or0Wkx5yo806kS9eriDRWRERERK5eb2/vyHcixhp0jVY+ZcqUqAZpE7Xg3NVuvxrR9M949ZjIxfcg8s+eRiOS+EjOe+FYE53kXC5eCYSIiIjI5Bh18k80A+Xxyq8m9q+VKFzJcSajvRNxjMkYNE/0wP+vnUiIiIiIyMS78q8ziYiIiIjIF5KSCBERERERiYqSCBERERERiYqSCBERERERiYqSCBERERERiYqSCBERERERiYqSCBERERERiYqSCBERERERiUpsb2/vta6DiIiIiIh8jthCoVDoWldCREREREQ+PzSdSUREREREovJ/kZ1rxxuRTRsAAAAASUVORK5CYII=)"
      ]
    },
    {
      "cell_type": "markdown",
      "metadata": {
        "id": "86fs8-95QR-S"
      },
      "source": [
        "# <font color='red'>Render Template</font> \n",
        "\n",
        "Yes it is possible to write your HTML in python function but that is a cubersome task ,  especially when variable data and Python language elements like conditionals or loops need to be put. This would require frequent escaping from HTML.\n",
        "\n",
        "This is where one can take advantage of **Jinja2** template engine, on which Flask is based. Instead of returning hardcode HTML from the function, a HTML file can be rendered by the **render_template()** function."
      ]
    },
    {
      "cell_type": "markdown",
      "metadata": {
        "id": "g0_N6vdlSGnO"
      },
      "source": [
        "From Now \n",
        "OUR FILE STRUCTURE\n",
        "\n",
        "# Lets Head towards Application1\n",
        "\n",
        "```\n",
        "*   Application folder\n",
        "    *   Hello.py\n",
        "    *   templates\n",
        "        *hello.html\n",
        "\n",
        "```\n",
        "\n",
        "\n",
        "\n",
        "Flask will try to find the **HTML file** in the templates folder, in the same folder in which this script is present."
      ]
    },
    {
      "cell_type": "markdown",
      "metadata": {
        "id": "BBdvbxz2SG2j"
      },
      "source": [
        "This is where one can take advantage of **Jinja2** template engine, on which Flask is based. Instead of returning hardcode HTML from the function, a HTML file can be rendered by the render_template() function."
      ]
    },
    {
      "cell_type": "markdown",
      "metadata": {
        "id": "a5QEX-GSTQR1"
      },
      "source": [
        "## **hello.py**\n",
        "\n",
        "\n",
        "```\n",
        "from flask import Flask\n",
        "app = Flask(__name__)\n",
        "\n",
        "@app.route('/')\n",
        "def index():\n",
        "   return render_template(‘hello.html’)\n",
        "\n",
        "if __name__ == '__main__':\n",
        "   app.run(debug = True)\n",
        "```\n",
        "\n"
      ]
    },
    {
      "cell_type": "markdown",
      "metadata": {
        "id": "Op5yWPzNT39X"
      },
      "source": [
        "The term **‘web templating system’** refers to designing an HTML script in which the variable data can be inserted dynamically. A web template system comprises of a template engine, some kind of data source and a template processor.\n",
        "\n",
        "Flask uses **jinja2** template engine. A web template contains HTML syntax interspersed placeholders for variables and expressions (in these case Python expressions) which are replaced values when the template is rendered."
      ]
    },
    {
      "cell_type": "markdown",
      "metadata": {
        "id": "sfCXruuDT4OZ"
      },
      "source": [
        "## **hello.html**\n",
        "\n",
        "```\n",
        "<html>\n",
        "   <body>\n",
        "   \n",
        "      <h1>Hello {{ name }}!</h1>\n",
        "      \n",
        "   </body>\n",
        "</html>\n",
        "```\n",
        "\n",
        "# very important how urls are changing with the help of **JINJA2**\n",
        "\n",
        "The **jinja2** template engine uses the following delimiters for escaping from HTML.\n",
        "\n",
        "* {% ... %} for **Statements**\n",
        "\n",
        "* {{ ... }} for Expressions to print to the template output\n",
        "\n",
        "* {# ... #} for Comments not included in the template output\n",
        "\n",
        "* #### # ... ## for Line Statements\n"
      ]
    },
    {
      "cell_type": "markdown",
      "metadata": {
        "id": "aMamSo2sYeJE"
      },
      "source": [
        "# Lets head toward **Application1** folder\n",
        "Note that the conditional statements if-else and endif are enclosed in delimiter {%..%}."
      ]
    },
    {
      "cell_type": "markdown",
      "metadata": {
        "id": "XJu4vgHcYeXD"
      },
      "source": [
        "# <font color='Red'> Thanks for your time ! :) </font>\n"
      ]
    }
  ]
}