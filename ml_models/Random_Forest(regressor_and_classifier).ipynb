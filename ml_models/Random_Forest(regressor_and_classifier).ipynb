{
  "nbformat": 4,
  "nbformat_minor": 0,
  "metadata": {
    "colab": {
      "name": "Random Forest(regressor and classifier).ipynb",
      "provenance": [],
      "include_colab_link": true
    },
    "kernelspec": {
      "name": "python3",
      "display_name": "Python 3"
    }
  },
  "cells": [
    {
      "cell_type": "markdown",
      "metadata": {
        "id": "view-in-github",
        "colab_type": "text"
      },
      "source": [
        "<a href=\"https://colab.research.google.com/github/Bavalpreet/BMU_Notebooks/blob/main/ml_models/Random_Forest(regressor_and_classifier).ipynb\" target=\"_parent\"><img src=\"https://colab.research.google.com/assets/colab-badge.svg\" alt=\"Open In Colab\"/></a>"
      ]
    },
    {
      "cell_type": "markdown",
      "metadata": {
        "id": "d3lGk-8_xZZp"
      },
      "source": [
        "**`Random Forest`**"
      ]
    },
    {
      "cell_type": "markdown",
      "metadata": {
        "id": "K5yl6aYc7DmY"
      },
      "source": [
        "Random forest is a type of supervised machine learning algorithm based on ensemble learning. Ensemble learning is a type of learning where you join different types of algorithms or same algorithm multiple times to form a more powerful prediction model. The random forest algorithm combines multiple algorithm of the same type i.e. multiple decision trees, resulting in a forest of trees, hence the name \"Random Forest\". The random forest algorithm can be used for both regression and classification tasks."
      ]
    },
    {
      "cell_type": "markdown",
      "metadata": {
        "id": "rPG9eycl7F_u"
      },
      "source": [
        "**`How the Random Forest Algorithm Works`**"
      ]
    },
    {
      "cell_type": "markdown",
      "metadata": {
        "id": "AVN6MKKZ7GOY"
      },
      "source": [
        "The following are the basic steps involved in performing the random forest algorithm:\n",
        "\n",
        "1. Pick N random records from the dataset.\n",
        "\n",
        "2. Build a decision tree based on these N records.\n",
        "\n",
        "3. Choose the number of trees you want in your algorithm and repeat steps 1 and 2.\n",
        "\n",
        "4. In case of a regression problem, for a new record, each tree in the forest predicts a value for Y (output). The final value can be calculated by taking the average of all the values predicted by all the trees in forest. Or, in case of a classification problem, each tree in the forest predicts the category to which the new record belongs. Finally, the new record is assigned to the category that wins the majority vote."
      ]
    },
    {
      "cell_type": "markdown",
      "metadata": {
        "id": "TquxRHsp7GLs"
      },
      "source": [
        "**`Advantages of using Random Forest`**"
      ]
    },
    {
      "cell_type": "markdown",
      "metadata": {
        "id": "TKORyQ-U7GRw"
      },
      "source": [
        "As with any algorithm, there are advantages and disadvantages to using it. In the next two sections we'll take a look at the pros and cons of using random forest for classification and regression.\n",
        "\n",
        "1. The random forest algorithm is not biased, since, there are multiple trees and each tree is trained on a subset of data. Basically, the random forest algorithm relies on the power of \"the crowd\"; therefore the overall biasedness of the algorithm is reduced.\n",
        "\n",
        "2. This algorithm is very stable. Even if a new data point is introduced in the dataset the overall algorithm is not affected much since new data may impact one tree, but it is very hard for it to impact all the trees.\n",
        "\n",
        "3. The random forest algorithm works well when you have both categorical and numerical features.\n",
        "\n",
        "4. The random forest algorithm also works well when data has missing values or it has not been scaled well (although we have performed feature scaling in this notebook just for the purpose of demonstration)."
      ]
    },
    {
      "cell_type": "markdown",
      "metadata": {
        "id": "XtIjm-n47sPA"
      },
      "source": [
        "**`Disadvantages of using Random Forest`**"
      ]
    },
    {
      "cell_type": "markdown",
      "metadata": {
        "id": "9acnl9St7sST"
      },
      "source": [
        "1. A major disadvantage of random forests lies in their complexity. They required much more computational resources, owing to the large number of decision trees joined together.\n",
        "\n",
        "2. Due to their complexity, they require much more time to train than other comparable algorithms."
      ]
    },
    {
      "cell_type": "markdown",
      "metadata": {
        "id": "pne221Tcj8d6"
      },
      "source": [
        "# **`Random Forest Classifier`**\n",
        "\n",
        "---\n",
        "\n"
      ]
    },
    {
      "cell_type": "markdown",
      "metadata": {
        "id": "cQ92vxuTNkI0"
      },
      "source": [
        "### **Problem Definition**"
      ]
    },
    {
      "cell_type": "markdown",
      "metadata": {
        "id": "L3kml1uvNUvK"
      },
      "source": [
        "The problem here is to predict the class of patient that Whether the patient is diabetic or not."
      ]
    },
    {
      "cell_type": "markdown",
      "metadata": {
        "id": "P5tqaG8bNuqz"
      },
      "source": [
        "### **Solution**"
      ]
    },
    {
      "cell_type": "markdown",
      "metadata": {
        "id": "X2uOFhX9NxoT"
      },
      "source": [
        "This is a binary classification problem and we will use a random forest classifier from sklearn library. We will follow the traditional machine learning pipeline to solve this problem"
      ]
    },
    {
      "cell_type": "markdown",
      "metadata": {
        "id": "59Bdnn3td13v"
      },
      "source": [
        "### **Classification Using Random Forest Without Doing Feature selection**"
      ]
    },
    {
      "cell_type": "markdown",
      "metadata": {
        "id": "-sfevRt_dzSE"
      },
      "source": [
        "#### 1. Import Libraries"
      ]
    },
    {
      "cell_type": "code",
      "metadata": {
        "id": "Dhw6uIKmdzSG"
      },
      "source": [
        "import pandas as pd\n",
        "import numpy as np"
      ],
      "execution_count": null,
      "outputs": []
    },
    {
      "cell_type": "markdown",
      "metadata": {
        "id": "mPheoa1wdzSO"
      },
      "source": [
        "#### 2. Importing Dataset"
      ]
    },
    {
      "cell_type": "markdown",
      "metadata": {
        "id": "tw1VPqcifVh8"
      },
      "source": [
        "This dataset describes the medical records for Pima Indians\n",
        "and whether or not each patient will have an onset of diabetes within \fve years.\n",
        "\n",
        "Fields description follow:\n",
        "\n",
        "preg = Number of times pregnant\n",
        "\n",
        "plas = Plasma glucose concentration a 2 hours in an oral glucose tolerance test\n",
        "\n",
        "pres = Diastolic blood pressure (mm Hg)\n",
        "\n",
        "skin = Triceps skin fold thickness (mm)\n",
        "\n",
        "test = 2-Hour serum insulin (mu U/ml)\n",
        "\n",
        "mass = Body mass index (weight in kg/(height in m)^2)\n",
        "\n",
        "pedi = Diabetes pedigree function\n",
        "\n",
        "age = Age (years)\n",
        "\n",
        "class = Class variable (1:tested positive for diabetes, 0: tested negative for diabetes)"
      ]
    },
    {
      "cell_type": "code",
      "metadata": {
        "id": "8JLfdTOidzSP"
      },
      "source": [
        "# load data\n",
        "url = \"https://raw.githubusercontent.com/jbrownlee/Datasets/master/pima-indians-diabetes.data.csv\"\n",
        "# names = ['pregnancies', 'glucose', 'BP', 'skin-thick', 'insulin', 'BMI', 'pedi', 'age', 'class']\n",
        "names=['preg', 'plas', 'pres', 'skin', 'test', 'mass', 'pedi', 'age', 'class']\n",
        "df = pd.read_csv(url, names=names)"
      ],
      "execution_count": null,
      "outputs": []
    },
    {
      "cell_type": "code",
      "metadata": {
        "id": "XV-M2jpwdzSS",
        "outputId": "83094641-6210-404e-da1f-426b3700f2c8",
        "colab": {
          "base_uri": "https://localhost:8080/",
          "height": 198
        }
      },
      "source": [
        "df.head()"
      ],
      "execution_count": null,
      "outputs": [
        {
          "output_type": "execute_result",
          "data": {
            "text/html": [
              "<div>\n",
              "<style scoped>\n",
              "    .dataframe tbody tr th:only-of-type {\n",
              "        vertical-align: middle;\n",
              "    }\n",
              "\n",
              "    .dataframe tbody tr th {\n",
              "        vertical-align: top;\n",
              "    }\n",
              "\n",
              "    .dataframe thead th {\n",
              "        text-align: right;\n",
              "    }\n",
              "</style>\n",
              "<table border=\"1\" class=\"dataframe\">\n",
              "  <thead>\n",
              "    <tr style=\"text-align: right;\">\n",
              "      <th></th>\n",
              "      <th>preg</th>\n",
              "      <th>plas</th>\n",
              "      <th>pres</th>\n",
              "      <th>skin</th>\n",
              "      <th>test</th>\n",
              "      <th>mass</th>\n",
              "      <th>pedi</th>\n",
              "      <th>age</th>\n",
              "      <th>class</th>\n",
              "    </tr>\n",
              "  </thead>\n",
              "  <tbody>\n",
              "    <tr>\n",
              "      <th>0</th>\n",
              "      <td>6</td>\n",
              "      <td>148</td>\n",
              "      <td>72</td>\n",
              "      <td>35</td>\n",
              "      <td>0</td>\n",
              "      <td>33.6</td>\n",
              "      <td>0.627</td>\n",
              "      <td>50</td>\n",
              "      <td>1</td>\n",
              "    </tr>\n",
              "    <tr>\n",
              "      <th>1</th>\n",
              "      <td>1</td>\n",
              "      <td>85</td>\n",
              "      <td>66</td>\n",
              "      <td>29</td>\n",
              "      <td>0</td>\n",
              "      <td>26.6</td>\n",
              "      <td>0.351</td>\n",
              "      <td>31</td>\n",
              "      <td>0</td>\n",
              "    </tr>\n",
              "    <tr>\n",
              "      <th>2</th>\n",
              "      <td>8</td>\n",
              "      <td>183</td>\n",
              "      <td>64</td>\n",
              "      <td>0</td>\n",
              "      <td>0</td>\n",
              "      <td>23.3</td>\n",
              "      <td>0.672</td>\n",
              "      <td>32</td>\n",
              "      <td>1</td>\n",
              "    </tr>\n",
              "    <tr>\n",
              "      <th>3</th>\n",
              "      <td>1</td>\n",
              "      <td>89</td>\n",
              "      <td>66</td>\n",
              "      <td>23</td>\n",
              "      <td>94</td>\n",
              "      <td>28.1</td>\n",
              "      <td>0.167</td>\n",
              "      <td>21</td>\n",
              "      <td>0</td>\n",
              "    </tr>\n",
              "    <tr>\n",
              "      <th>4</th>\n",
              "      <td>0</td>\n",
              "      <td>137</td>\n",
              "      <td>40</td>\n",
              "      <td>35</td>\n",
              "      <td>168</td>\n",
              "      <td>43.1</td>\n",
              "      <td>2.288</td>\n",
              "      <td>33</td>\n",
              "      <td>1</td>\n",
              "    </tr>\n",
              "  </tbody>\n",
              "</table>\n",
              "</div>"
            ],
            "text/plain": [
              "   preg  plas  pres  skin  test  mass   pedi  age  class\n",
              "0     6   148    72    35     0  33.6  0.627   50      1\n",
              "1     1    85    66    29     0  26.6  0.351   31      0\n",
              "2     8   183    64     0     0  23.3  0.672   32      1\n",
              "3     1    89    66    23    94  28.1  0.167   21      0\n",
              "4     0   137    40    35   168  43.1  2.288   33      1"
            ]
          },
          "metadata": {
            "tags": []
          },
          "execution_count": 88
        }
      ]
    },
    {
      "cell_type": "markdown",
      "metadata": {
        "id": "FvsaQl54dzSX"
      },
      "source": [
        "#### 3. Preparing Data For Training"
      ]
    },
    {
      "cell_type": "code",
      "metadata": {
        "id": "08troDQjdzSb"
      },
      "source": [
        "# To numpy for fast computation\n",
        "array = df.values\n",
        "X = array[:,0:8]\n",
        "Y = array[:,8]"
      ],
      "execution_count": null,
      "outputs": []
    },
    {
      "cell_type": "code",
      "metadata": {
        "id": "5ikIsOq2dzSf"
      },
      "source": [
        "from sklearn.ensemble import RandomForestClassifier # Import Decision Tree Classifier\n",
        "from sklearn.model_selection import train_test_split # Import train_test_split function\n",
        "from sklearn import metrics #Import scikit-learn metrics module for accuracy calculation"
      ],
      "execution_count": null,
      "outputs": []
    },
    {
      "cell_type": "code",
      "metadata": {
        "id": "8gqUpjcLdzSi"
      },
      "source": [
        "# Split dataset into training set and test set\n",
        "X_train, X_test, y_train, y_test = train_test_split(X, Y, test_size=0.3, random_state=1) # 70% training and 30% test"
      ],
      "execution_count": null,
      "outputs": []
    },
    {
      "cell_type": "markdown",
      "metadata": {
        "id": "5_JMXHtFdzSm"
      },
      "source": [
        "#### 5. Feature Scaling"
      ]
    },
    {
      "cell_type": "markdown",
      "metadata": {
        "id": "7jv3YgLUdzSn"
      },
      "source": [
        "We know our dataset is not yet a scaled value.To do so, we will use Scikit-Learn's StandardScaler class. Execute the following code to do so:"
      ]
    },
    {
      "cell_type": "code",
      "metadata": {
        "id": "DgGzbXQ0dzSo"
      },
      "source": [
        "# Feature Scaling\n",
        "from sklearn.preprocessing import StandardScaler\n",
        "\n",
        "sc = StandardScaler()\n",
        "X_train = sc.fit_transform(X_train)\n",
        "X_test = sc.transform(X_test)"
      ],
      "execution_count": null,
      "outputs": []
    },
    {
      "cell_type": "markdown",
      "metadata": {
        "id": "lRgGzceudzSr"
      },
      "source": [
        "#### 6. Training the Algorithm"
      ]
    },
    {
      "cell_type": "markdown",
      "metadata": {
        "id": "9XB1RnfYdzSs"
      },
      "source": [
        "Now that we have scaled our dataset, it is time to train our random forest algorithm to solve this Classification problem. Execute the following code:"
      ]
    },
    {
      "cell_type": "code",
      "metadata": {
        "id": "7Emsj2CldzSt",
        "outputId": "c229266f-54b1-4054-a2cc-1443f8411698",
        "colab": {
          "base_uri": "https://localhost:8080/"
        }
      },
      "source": [
        "Classifier = RandomForestClassifier(n_estimators=20, random_state=0)\n",
        "Classifier.fit(X_train, y_train)"
      ],
      "execution_count": null,
      "outputs": [
        {
          "output_type": "execute_result",
          "data": {
            "text/plain": [
              "RandomForestClassifier(bootstrap=True, ccp_alpha=0.0, class_weight=None,\n",
              "                       criterion='gini', max_depth=None, max_features='auto',\n",
              "                       max_leaf_nodes=None, max_samples=None,\n",
              "                       min_impurity_decrease=0.0, min_impurity_split=None,\n",
              "                       min_samples_leaf=1, min_samples_split=2,\n",
              "                       min_weight_fraction_leaf=0.0, n_estimators=20,\n",
              "                       n_jobs=None, oob_score=False, random_state=0, verbose=0,\n",
              "                       warm_start=False)"
            ]
          },
          "metadata": {
            "tags": []
          },
          "execution_count": 92
        }
      ]
    },
    {
      "cell_type": "code",
      "metadata": {
        "id": "Uum3RNU0lUul",
        "outputId": "c6af5ac9-fd6b-4710-83c7-f38c6b65bac2",
        "colab": {
          "base_uri": "https://localhost:8080/"
        }
      },
      "source": [
        "n_nodes = []\n",
        "max_depths = []\n",
        "# Stats about the trees in random forest\n",
        "for ind_tree in Classifier.estimators_:\n",
        "    n_nodes.append(ind_tree.tree_.node_count)\n",
        "    max_depths.append(ind_tree.tree_.max_depth)\n",
        "    \n",
        "print(f'Average number of nodes {int(np.mean(n_nodes))}')\n",
        "print(f'Average maximum depth {int(np.mean(max_depths))}')"
      ],
      "execution_count": null,
      "outputs": [
        {
          "output_type": "stream",
          "text": [
            "Average number of nodes 194\n",
            "Average maximum depth 14\n"
          ],
          "name": "stdout"
        }
      ]
    },
    {
      "cell_type": "code",
      "metadata": {
        "id": "q_WOfaInlW1k"
      },
      "source": [
        "y_pred = Classifier.predict(X_test)"
      ],
      "execution_count": null,
      "outputs": []
    },
    {
      "cell_type": "markdown",
      "metadata": {
        "id": "XzDFLJPbdzSw"
      },
      "source": [
        "The RandomForestClassifier class of the sklearn.ensemble library is used to solve Classification problems via random forest. The most important parameter of the RandomForestClassifier class is the n_estimators parameter. This parameter defines the number of trees in the random forest. We will start with n_estimator=20 to see how our algorithm performs. You can find details for all of the parameters of RandomForestClassifier [here](https://scikit-learn.org/stable/modules/generated/sklearn.ensemble.RandomForestClassifier.html)."
      ]
    },
    {
      "cell_type": "markdown",
      "metadata": {
        "id": "kAOupW3cdzSw"
      },
      "source": [
        "#### 7. Evaluating the Algorithm"
      ]
    },
    {
      "cell_type": "markdown",
      "metadata": {
        "id": "6jG8rk4QdzSx"
      },
      "source": [
        "For classification problems the metrics used to evaluate an algorithm are accuracy, confusion matrix, precision recall, and F1 values. Execute the following script to find these values:"
      ]
    },
    {
      "cell_type": "code",
      "metadata": {
        "id": "WJsBx7_ndzSy",
        "outputId": "343e9deb-96b3-40a3-c11a-bf4992d6dba4",
        "colab": {
          "base_uri": "https://localhost:8080/"
        }
      },
      "source": [
        "from sklearn.metrics import classification_report, confusion_matrix, accuracy_score\n",
        "\n",
        "print(confusion_matrix(y_test,y_pred))\n",
        "print(classification_report(y_test,y_pred))\n",
        "print(accuracy_score(y_test, y_pred))"
      ],
      "execution_count": null,
      "outputs": [
        {
          "output_type": "stream",
          "text": [
            "[[129  17]\n",
            " [ 40  45]]\n",
            "              precision    recall  f1-score   support\n",
            "\n",
            "         0.0       0.76      0.88      0.82       146\n",
            "         1.0       0.73      0.53      0.61        85\n",
            "\n",
            "    accuracy                           0.75       231\n",
            "   macro avg       0.74      0.71      0.72       231\n",
            "weighted avg       0.75      0.75      0.74       231\n",
            "\n",
            "0.7532467532467533\n"
          ],
          "name": "stdout"
        }
      ]
    },
    {
      "cell_type": "code",
      "metadata": {
        "id": "cyac6qQTdzS1"
      },
      "source": [
        "from sklearn.metrics import roc_auc_score\n",
        "# Calculate roc auc\n",
        "roc_value = roc_auc_score(y_test,y_pred)"
      ],
      "execution_count": null,
      "outputs": []
    },
    {
      "cell_type": "code",
      "metadata": {
        "id": "VpVZ5WWVdzS4",
        "outputId": "fbcba762-26af-420a-b776-5ccd0c803e22",
        "colab": {
          "base_uri": "https://localhost:8080/"
        }
      },
      "source": [
        "roc_value"
      ],
      "execution_count": null,
      "outputs": [
        {
          "output_type": "execute_result",
          "data": {
            "text/plain": [
              "0.7064867042707493"
            ]
          },
          "metadata": {
            "tags": []
          },
          "execution_count": 97
        }
      ]
    },
    {
      "cell_type": "markdown",
      "metadata": {
        "id": "XYPa7l33mT-t"
      },
      "source": [
        "#### Plotting the curve"
      ]
    },
    {
      "cell_type": "code",
      "metadata": {
        "id": "6Tikh2H2n0NW",
        "outputId": "919b3b78-0e25-4e72-e8d5-704eeb0caf81",
        "colab": {
          "base_uri": "https://localhost:8080/",
          "height": 295
        }
      },
      "source": [
        "import sklearn.metrics as metrics\n",
        "# calculate the fpr and tpr for all thresholds of the classification\n",
        "probs = Classifier.predict_proba(X_test)\n",
        "preds = probs[:,1]\n",
        "fpr, tpr, threshold = metrics.roc_curve(y_test,y_pred)\n",
        "roc_auc = metrics.auc(fpr, tpr)\n",
        "\n",
        "# method I: plt\n",
        "import matplotlib.pyplot as plt\n",
        "plt.title('Receiver Operating Characteristic')\n",
        "plt.plot(fpr, tpr, 'b', label = 'AUC = %0.2f' % roc_auc)\n",
        "plt.legend(loc = 'lower right')\n",
        "plt.plot([0, 1], [0, 1],'r--')\n",
        "plt.xlim([0, 1])\n",
        "plt.ylim([0, 1])\n",
        "plt.ylabel('True Positive Rate')\n",
        "plt.xlabel('False Positive Rate')\n",
        "plt.show()\n",
        "\n"
      ],
      "execution_count": null,
      "outputs": [
        {
          "output_type": "display_data",
          "data": {
            "image/png": "[encoded data removed]",
            "text/plain": [
              "<Figure size 432x288 with 1 Axes>"
            ]
          },
          "metadata": {
            "tags": [],
            "needs_background": "light"
          }
        }
      ]
    },
    {
      "cell_type": "code",
      "metadata": {
        "id": "Rak2_UY7o9pg"
      },
      "source": [
        "# # method II: ggplot\n",
        "# !pip install ggplot\n",
        "# from ggplot import *\n",
        "# df = pd.DataFrame(dict(fpr = fpr, tpr = tpr))\n",
        "# ggplot(df, aes(x = 'fpr', y = 'tpr')) + geom_line() + geom_abline(linetype = 'dashed')"
      ],
      "execution_count": null,
      "outputs": []
    },
    {
      "cell_type": "markdown",
      "metadata": {
        "id": "xlmKzxWlpaRi"
      },
      "source": [
        "you might came accross some error while running the above cell , if so then follow these two steps\n",
        "\n",
        "*   Fix some config in util.py : \n",
        "\n",
        "pd.tslib.Timestamp --> pd.Timestamp\n",
        "then ctrl-s to save new configuration\n",
        "\n",
        "*   Fix some config in smoothers.py :\n",
        "\n",
        "from pandas.lib import Timestamp --> from pandas import Timestamp\n",
        "then ctrl-s to save new configuration after fix all above. Run this cell again."
      ]
    },
    {
      "cell_type": "markdown",
      "metadata": {
        "id": "_TMMZMLkaVsT"
      },
      "source": [
        "#### Feature Importances"
      ]
    },
    {
      "cell_type": "markdown",
      "metadata": {
        "id": "VT6rYS9SaVu2"
      },
      "source": [
        "The feature importances in a random forest indicate the sum of the reduction in Gini Impurity over all the nodes that are split on that feature. We can use these to try and figure out what predictor variables the random forest considers most important. The feature importances can be extracted from a trained random forest and put into a Pandas dataframe as follows:\n"
      ]
    },
    {
      "cell_type": "code",
      "metadata": {
        "id": "2NhsA2zHb7_Z",
        "outputId": "a745b37f-2df6-4d60-ffb3-f681999b664d",
        "colab": {
          "base_uri": "https://localhost:8080/",
          "height": 215
        }
      },
      "source": [
        "import pandas as pd\n",
        "features = df.drop(['class'],axis=1)\n",
        "print(features.columns)\n",
        "# Extract feature importances\n",
        "fi = pd.DataFrame({'feature': list(features.columns),\n",
        "                   'importance': Classifier.feature_importances_}).\\\n",
        "                    sort_values('importance', ascending = False)\n",
        "\n",
        "# Display\n",
        "fi.head()"
      ],
      "execution_count": null,
      "outputs": [
        {
          "output_type": "stream",
          "text": [
            "Index(['preg', 'plas', 'pres', 'skin', 'test', 'mass', 'pedi', 'age'], dtype='object')\n"
          ],
          "name": "stdout"
        },
        {
          "output_type": "execute_result",
          "data": {
            "text/html": [
              "<div>\n",
              "<style scoped>\n",
              "    .dataframe tbody tr th:only-of-type {\n",
              "        vertical-align: middle;\n",
              "    }\n",
              "\n",
              "    .dataframe tbody tr th {\n",
              "        vertical-align: top;\n",
              "    }\n",
              "\n",
              "    .dataframe thead th {\n",
              "        text-align: right;\n",
              "    }\n",
              "</style>\n",
              "<table border=\"1\" class=\"dataframe\">\n",
              "  <thead>\n",
              "    <tr style=\"text-align: right;\">\n",
              "      <th></th>\n",
              "      <th>feature</th>\n",
              "      <th>importance</th>\n",
              "    </tr>\n",
              "  </thead>\n",
              "  <tbody>\n",
              "    <tr>\n",
              "      <th>1</th>\n",
              "      <td>plas</td>\n",
              "      <td>0.205622</td>\n",
              "    </tr>\n",
              "    <tr>\n",
              "      <th>5</th>\n",
              "      <td>mass</td>\n",
              "      <td>0.175328</td>\n",
              "    </tr>\n",
              "    <tr>\n",
              "      <th>6</th>\n",
              "      <td>pedi</td>\n",
              "      <td>0.143427</td>\n",
              "    </tr>\n",
              "    <tr>\n",
              "      <th>7</th>\n",
              "      <td>age</td>\n",
              "      <td>0.134587</td>\n",
              "    </tr>\n",
              "    <tr>\n",
              "      <th>2</th>\n",
              "      <td>pres</td>\n",
              "      <td>0.093163</td>\n",
              "    </tr>\n",
              "  </tbody>\n",
              "</table>\n",
              "</div>"
            ],
            "text/plain": [
              "  feature  importance\n",
              "1    plas    0.205622\n",
              "5    mass    0.175328\n",
              "6    pedi    0.143427\n",
              "7     age    0.134587\n",
              "2    pres    0.093163"
            ]
          },
          "metadata": {
            "tags": []
          },
          "execution_count": 98
        }
      ]
    },
    {
      "cell_type": "markdown",
      "metadata": {
        "id": "K30N0ZzXe91y"
      },
      "source": [
        "Feature importances can give us insight into a problem by telling us what variables are the most discerning between classes. For example, here `plas`, indicating `Plasma glucose concentration a 2 hours in an oral glucose tolerance test`, is the most important feature which makes sense in the problem context.\n",
        "\n",
        "Feature importances can be used for feature engineering by building additional features from the most important. We can also use feature importances for feature selection by removing low importance features."
      ]
    },
    {
      "cell_type": "markdown",
      "metadata": {
        "id": "83bzX0RwiPwi"
      },
      "source": [
        "#### Visualize Tree in Forest"
      ]
    },
    {
      "cell_type": "markdown",
      "metadata": {
        "id": "LVD7ivtdjUGe"
      },
      "source": [
        "Finally, we can visualize a single decision tree in the forest. This time, we have to limit the depth of the tree otherwise it will be too large to be converted into an image. To make the figure below, I limited the maximum depth to 6. This still results in a large tree that we can’t completely parse!"
      ]
    },
    {
      "cell_type": "code",
      "metadata": {
        "id": "GtUhtMnoiUn7"
      },
      "source": [
        "from sklearn.tree import DecisionTreeClassifier"
      ],
      "execution_count": null,
      "outputs": []
    },
    {
      "cell_type": "code",
      "metadata": {
        "id": "S2Ke4cTUiWCi"
      },
      "source": [
        "dt = DecisionTreeClassifier(max_depth=4)\n",
        "dt= dt.fit(X_train, y_train)\n",
        "y_pred = dt.predict(X_test)"
      ],
      "execution_count": null,
      "outputs": []
    },
    {
      "cell_type": "code",
      "metadata": {
        "id": "KA1LfVhBiOOG",
        "outputId": "40241a73-ea0c-451c-897d-32baa1479ac5",
        "colab": {
          "base_uri": "https://localhost:8080/",
          "height": 777
        }
      },
      "source": [
        "from sklearn import tree\n",
        "from IPython.display import SVG\n",
        "from graphviz import Source\n",
        "from IPython.display import display\n",
        "graph = Source(\n",
        "    tree.export_graphviz(\n",
        "        dt,\n",
        "        out_file=None,\n",
        "        feature_names=features.columns,\n",
        "        class_names=['1' , '0'],\n",
        "        filled = True)\n",
        ")\n",
        "display(SVG(graph.pipe(format='svg')))"
      ],
      "execution_count": null,
      "outputs": [
        {
          "output_type": "display_data",
          "data": {
            "text/plain": [
              "<IPython.core.display.SVG object>"
            ],
            "image/svg+xml": "<svg height=\"552pt\" viewBox=\"0.00 0.00 1911.00 552.00\" width=\"1911pt\" xmlns=\"http://www.w3.org/2000/svg\" xmlns:xlink=\"http://www.w3.org/1999/xlink\">\n<g class=\"graph\" id=\"graph0\" transform=\"scale(1 1) rotate(0) translate(4 548)\">\n<title>Tree</title>\n<polygon fill=\"#ffffff\" points=\"-4,4 -4,-548 1907,-548 1907,4 -4,4\" stroke=\"transparent\"/>\n<!-- 0 -->\n<g class=\"node\" id=\"node1\">\n<title>0</title>\n<polygon fill=\"#f2c29f\" points=\"1019,-544 894,-544 894,-461 1019,-461 1019,-544\" stroke=\"#000000\"/>\n<text fill=\"#000000\" font-family=\"Times,serif\" font-size=\"14.00\" text-anchor=\"middle\" x=\"956.5\" y=\"-528.8\">plas &lt;= 0.272</text>\n<text fill=\"#000000\" font-family=\"Times,serif\" font-size=\"14.00\" text-anchor=\"middle\" x=\"956.5\" y=\"-513.8\">gini = 0.449</text>\n<text fill=\"#000000\" font-family=\"Times,serif\" font-size=\"14.00\" text-anchor=\"middle\" x=\"956.5\" y=\"-498.8\">samples = 537</text>\n<text fill=\"#000000\" font-family=\"Times,serif\" font-size=\"14.00\" text-anchor=\"middle\" x=\"956.5\" y=\"-483.8\">value = [354, 183]</text>\n<text fill=\"#000000\" font-family=\"Times,serif\" font-size=\"14.00\" text-anchor=\"middle\" x=\"956.5\" y=\"-468.8\">class = 1</text>\n</g>\n<!-- 1 -->\n<g class=\"node\" id=\"node2\">\n<title>1</title>\n<polygon fill=\"#eca26d\" points=\"768,-425 651,-425 651,-342 768,-342 768,-425\" stroke=\"#000000\"/>\n<text fill=\"#000000\" font-family=\"Times,serif\" font-size=\"14.00\" text-anchor=\"middle\" x=\"709.5\" y=\"-409.8\">mass &lt;= -0.722</text>\n<text fill=\"#000000\" font-family=\"Times,serif\" font-size=\"14.00\" text-anchor=\"middle\" x=\"709.5\" y=\"-394.8\">gini = 0.329</text>\n<text fill=\"#000000\" font-family=\"Times,serif\" font-size=\"14.00\" text-anchor=\"middle\" x=\"709.5\" y=\"-379.8\">samples = 357</text>\n<text fill=\"#000000\" font-family=\"Times,serif\" font-size=\"14.00\" text-anchor=\"middle\" x=\"709.5\" y=\"-364.8\">value = [283, 74]</text>\n<text fill=\"#000000\" font-family=\"Times,serif\" font-size=\"14.00\" text-anchor=\"middle\" x=\"709.5\" y=\"-349.8\">class = 1</text>\n</g>\n<!-- 0&#45;&gt;1 -->\n<g class=\"edge\" id=\"edge1\">\n<title>0-&gt;1</title>\n<path d=\"M893.8522,-472.3174C858.2779,-455.1784 813.7229,-433.7126 777.3265,-416.1776\" fill=\"none\" stroke=\"#000000\"/>\n<polygon fill=\"#000000\" points=\"778.7876,-412.9965 768.2595,-411.8092 775.7493,-419.3028 778.7876,-412.9965\" stroke=\"#000000\"/>\n<text fill=\"#000000\" font-family=\"Times,serif\" font-size=\"14.00\" text-anchor=\"middle\" x=\"776.5125\" y=\"-431.7077\">True</text>\n</g>\n<!-- 16 -->\n<g class=\"node\" id=\"node17\">\n<title>16</title>\n<polygon fill=\"#baddf6\" points=\"1254,-425 1137,-425 1137,-342 1254,-342 1254,-425\" stroke=\"#000000\"/>\n<text fill=\"#000000\" font-family=\"Times,serif\" font-size=\"14.00\" text-anchor=\"middle\" x=\"1195.5\" y=\"-409.8\">mass &lt;= -0.52</text>\n<text fill=\"#000000\" font-family=\"Times,serif\" font-size=\"14.00\" text-anchor=\"middle\" x=\"1195.5\" y=\"-394.8\">gini = 0.478</text>\n<text fill=\"#000000\" font-family=\"Times,serif\" font-size=\"14.00\" text-anchor=\"middle\" x=\"1195.5\" y=\"-379.8\">samples = 180</text>\n<text fill=\"#000000\" font-family=\"Times,serif\" font-size=\"14.00\" text-anchor=\"middle\" x=\"1195.5\" y=\"-364.8\">value = [71, 109]</text>\n<text fill=\"#000000\" font-family=\"Times,serif\" font-size=\"14.00\" text-anchor=\"middle\" x=\"1195.5\" y=\"-349.8\">class = 0</text>\n</g>\n<!-- 0&#45;&gt;16 -->\n<g class=\"edge\" id=\"edge16\">\n<title>0-&gt;16</title>\n<path d=\"M1019.2944,-471.2342C1052.6846,-454.6089 1093.7639,-434.1552 1127.8569,-417.1801\" fill=\"none\" stroke=\"#000000\"/>\n<polygon fill=\"#000000\" points=\"1129.4271,-420.3081 1136.8188,-412.7178 1126.3071,-414.0419 1129.4271,-420.3081\" stroke=\"#000000\"/>\n<text fill=\"#000000\" font-family=\"Times,serif\" font-size=\"14.00\" text-anchor=\"middle\" x=\"1128.8734\" y=\"-432.7216\">False</text>\n</g>\n<!-- 2 -->\n<g class=\"node\" id=\"node3\">\n<title>2</title>\n<polygon fill=\"#e6853f\" points=\"392,-306 285,-306 285,-223 392,-223 392,-306\" stroke=\"#000000\"/>\n<text fill=\"#000000\" font-family=\"Times,serif\" font-size=\"14.00\" text-anchor=\"middle\" x=\"338.5\" y=\"-290.8\">mass &lt;= -2.965</text>\n<text fill=\"#000000\" font-family=\"Times,serif\" font-size=\"14.00\" text-anchor=\"middle\" x=\"338.5\" y=\"-275.8\">gini = 0.06</text>\n<text fill=\"#000000\" font-family=\"Times,serif\" font-size=\"14.00\" text-anchor=\"middle\" x=\"338.5\" y=\"-260.8\">samples = 97</text>\n<text fill=\"#000000\" font-family=\"Times,serif\" font-size=\"14.00\" text-anchor=\"middle\" x=\"338.5\" y=\"-245.8\">value = [94, 3]</text>\n<text fill=\"#000000\" font-family=\"Times,serif\" font-size=\"14.00\" text-anchor=\"middle\" x=\"338.5\" y=\"-230.8\">class = 1</text>\n</g>\n<!-- 1&#45;&gt;2 -->\n<g class=\"edge\" id=\"edge2\">\n<title>1-&gt;2</title>\n<path d=\"M650.7139,-364.6441C582.8046,-342.8619 471.4951,-307.1588 401.7494,-284.7875\" fill=\"none\" stroke=\"#000000\"/>\n<polygon fill=\"#000000\" points=\"402.7838,-281.4438 392.1926,-281.7222 400.6458,-288.1093 402.7838,-281.4438\" stroke=\"#000000\"/>\n</g>\n<!-- 9 -->\n<g class=\"node\" id=\"node10\">\n<title>9</title>\n<polygon fill=\"#efb083\" points=\"768,-306 651,-306 651,-223 768,-223 768,-306\" stroke=\"#000000\"/>\n<text fill=\"#000000\" font-family=\"Times,serif\" font-size=\"14.00\" text-anchor=\"middle\" x=\"709.5\" y=\"-290.8\">age &lt;= -0.486</text>\n<text fill=\"#000000\" font-family=\"Times,serif\" font-size=\"14.00\" text-anchor=\"middle\" x=\"709.5\" y=\"-275.8\">gini = 0.397</text>\n<text fill=\"#000000\" font-family=\"Times,serif\" font-size=\"14.00\" text-anchor=\"middle\" x=\"709.5\" y=\"-260.8\">samples = 260</text>\n<text fill=\"#000000\" font-family=\"Times,serif\" font-size=\"14.00\" text-anchor=\"middle\" x=\"709.5\" y=\"-245.8\">value = [189, 71]</text>\n<text fill=\"#000000\" font-family=\"Times,serif\" font-size=\"14.00\" text-anchor=\"middle\" x=\"709.5\" y=\"-230.8\">class = 1</text>\n</g>\n<!-- 1&#45;&gt;9 -->\n<g class=\"edge\" id=\"edge9\">\n<title>1-&gt;9</title>\n<path d=\"M709.5,-341.8796C709.5,-333.6838 709.5,-324.9891 709.5,-316.5013\" fill=\"none\" stroke=\"#000000\"/>\n<polygon fill=\"#000000\" points=\"713.0001,-316.298 709.5,-306.2981 706.0001,-316.2981 713.0001,-316.298\" stroke=\"#000000\"/>\n</g>\n<!-- 3 -->\n<g class=\"node\" id=\"node4\">\n<title>3</title>\n<polygon fill=\"#f2c09c\" points=\"210,-187 111,-187 111,-104 210,-104 210,-187\" stroke=\"#000000\"/>\n<text fill=\"#000000\" font-family=\"Times,serif\" font-size=\"14.00\" text-anchor=\"middle\" x=\"160.5\" y=\"-171.8\">preg &lt;= 1.116</text>\n<text fill=\"#000000\" font-family=\"Times,serif\" font-size=\"14.00\" text-anchor=\"middle\" x=\"160.5\" y=\"-156.8\">gini = 0.444</text>\n<text fill=\"#000000\" font-family=\"Times,serif\" font-size=\"14.00\" text-anchor=\"middle\" x=\"160.5\" y=\"-141.8\">samples = 6</text>\n<text fill=\"#000000\" font-family=\"Times,serif\" font-size=\"14.00\" text-anchor=\"middle\" x=\"160.5\" y=\"-126.8\">value = [4, 2]</text>\n<text fill=\"#000000\" font-family=\"Times,serif\" font-size=\"14.00\" text-anchor=\"middle\" x=\"160.5\" y=\"-111.8\">class = 1</text>\n</g>\n<!-- 2&#45;&gt;3 -->\n<g class=\"edge\" id=\"edge3\">\n<title>2-&gt;3</title>\n<path d=\"M284.6111,-228.4731C263.8365,-214.5845 240.0222,-198.6637 218.8456,-184.5063\" fill=\"none\" stroke=\"#000000\"/>\n<polygon fill=\"#000000\" points=\"220.5162,-181.4131 210.2576,-178.7649 216.6257,-187.2324 220.5162,-181.4131\" stroke=\"#000000\"/>\n</g>\n<!-- 6 -->\n<g class=\"node\" id=\"node7\">\n<title>6</title>\n<polygon fill=\"#e5823b\" points=\"389.5,-187 287.5,-187 287.5,-104 389.5,-104 389.5,-187\" stroke=\"#000000\"/>\n<text fill=\"#000000\" font-family=\"Times,serif\" font-size=\"14.00\" text-anchor=\"middle\" x=\"338.5\" y=\"-171.8\">pedi &lt;= 0.603</text>\n<text fill=\"#000000\" font-family=\"Times,serif\" font-size=\"14.00\" text-anchor=\"middle\" x=\"338.5\" y=\"-156.8\">gini = 0.022</text>\n<text fill=\"#000000\" font-family=\"Times,serif\" font-size=\"14.00\" text-anchor=\"middle\" x=\"338.5\" y=\"-141.8\">samples = 91</text>\n<text fill=\"#000000\" font-family=\"Times,serif\" font-size=\"14.00\" text-anchor=\"middle\" x=\"338.5\" y=\"-126.8\">value = [90, 1]</text>\n<text fill=\"#000000\" font-family=\"Times,serif\" font-size=\"14.00\" text-anchor=\"middle\" x=\"338.5\" y=\"-111.8\">class = 1</text>\n</g>\n<!-- 2&#45;&gt;6 -->\n<g class=\"edge\" id=\"edge6\">\n<title>2-&gt;6</title>\n<path d=\"M338.5,-222.8796C338.5,-214.6838 338.5,-205.9891 338.5,-197.5013\" fill=\"none\" stroke=\"#000000\"/>\n<polygon fill=\"#000000\" points=\"342.0001,-197.298 338.5,-187.2981 335.0001,-197.2981 342.0001,-197.298\" stroke=\"#000000\"/>\n</g>\n<!-- 4 -->\n<g class=\"node\" id=\"node5\">\n<title>4</title>\n<polygon fill=\"#e58139\" points=\"95,-68 0,-68 0,0 95,0 95,-68\" stroke=\"#000000\"/>\n<text fill=\"#000000\" font-family=\"Times,serif\" font-size=\"14.00\" text-anchor=\"middle\" x=\"47.5\" y=\"-52.8\">gini = 0.0</text>\n<text fill=\"#000000\" font-family=\"Times,serif\" font-size=\"14.00\" text-anchor=\"middle\" x=\"47.5\" y=\"-37.8\">samples = 4</text>\n<text fill=\"#000000\" font-family=\"Times,serif\" font-size=\"14.00\" text-anchor=\"middle\" x=\"47.5\" y=\"-22.8\">value = [4, 0]</text>\n<text fill=\"#000000\" font-family=\"Times,serif\" font-size=\"14.00\" text-anchor=\"middle\" x=\"47.5\" y=\"-7.8\">class = 1</text>\n</g>\n<!-- 3&#45;&gt;4 -->\n<g class=\"edge\" id=\"edge4\">\n<title>3-&gt;4</title>\n<path d=\"M118.423,-103.9815C108.9224,-94.607 98.8387,-84.6572 89.3476,-75.2921\" fill=\"none\" stroke=\"#000000\"/>\n<polygon fill=\"#000000\" points=\"91.8011,-72.796 82.2246,-68.2637 86.8845,-77.7787 91.8011,-72.796\" stroke=\"#000000\"/>\n</g>\n<!-- 5 -->\n<g class=\"node\" id=\"node6\">\n<title>5</title>\n<polygon fill=\"#399de5\" points=\"208,-68 113,-68 113,0 208,0 208,-68\" stroke=\"#000000\"/>\n<text fill=\"#000000\" font-family=\"Times,serif\" font-size=\"14.00\" text-anchor=\"middle\" x=\"160.5\" y=\"-52.8\">gini = 0.0</text>\n<text fill=\"#000000\" font-family=\"Times,serif\" font-size=\"14.00\" text-anchor=\"middle\" x=\"160.5\" y=\"-37.8\">samples = 2</text>\n<text fill=\"#000000\" font-family=\"Times,serif\" font-size=\"14.00\" text-anchor=\"middle\" x=\"160.5\" y=\"-22.8\">value = [0, 2]</text>\n<text fill=\"#000000\" font-family=\"Times,serif\" font-size=\"14.00\" text-anchor=\"middle\" x=\"160.5\" y=\"-7.8\">class = 0</text>\n</g>\n<!-- 3&#45;&gt;5 -->\n<g class=\"edge\" id=\"edge5\">\n<title>3-&gt;5</title>\n<path d=\"M160.5,-103.9815C160.5,-95.618 160.5,-86.7965 160.5,-78.3409\" fill=\"none\" stroke=\"#000000\"/>\n<polygon fill=\"#000000\" points=\"164.0001,-78.2636 160.5,-68.2637 157.0001,-78.2637 164.0001,-78.2636\" stroke=\"#000000\"/>\n</g>\n<!-- 7 -->\n<g class=\"node\" id=\"node8\">\n<title>7</title>\n<polygon fill=\"#e58139\" points=\"328.5,-68 226.5,-68 226.5,0 328.5,0 328.5,-68\" stroke=\"#000000\"/>\n<text fill=\"#000000\" font-family=\"Times,serif\" font-size=\"14.00\" text-anchor=\"middle\" x=\"277.5\" y=\"-52.8\">gini = 0.0</text>\n<text fill=\"#000000\" font-family=\"Times,serif\" font-size=\"14.00\" text-anchor=\"middle\" x=\"277.5\" y=\"-37.8\">samples = 76</text>\n<text fill=\"#000000\" font-family=\"Times,serif\" font-size=\"14.00\" text-anchor=\"middle\" x=\"277.5\" y=\"-22.8\">value = [76, 0]</text>\n<text fill=\"#000000\" font-family=\"Times,serif\" font-size=\"14.00\" text-anchor=\"middle\" x=\"277.5\" y=\"-7.8\">class = 1</text>\n</g>\n<!-- 6&#45;&gt;7 -->\n<g class=\"edge\" id=\"edge7\">\n<title>6-&gt;7</title>\n<path d=\"M315.7859,-103.9815C311.0092,-95.2504 305.9595,-86.0202 301.1494,-77.2281\" fill=\"none\" stroke=\"#000000\"/>\n<polygon fill=\"#000000\" points=\"304.1153,-75.3568 296.2451,-68.2637 297.9742,-78.7165 304.1153,-75.3568\" stroke=\"#000000\"/>\n</g>\n<!-- 8 -->\n<g class=\"node\" id=\"node9\">\n<title>8</title>\n<polygon fill=\"#e78a47\" points=\"448.5,-68 346.5,-68 346.5,0 448.5,0 448.5,-68\" stroke=\"#000000\"/>\n<text fill=\"#000000\" font-family=\"Times,serif\" font-size=\"14.00\" text-anchor=\"middle\" x=\"397.5\" y=\"-52.8\">gini = 0.124</text>\n<text fill=\"#000000\" font-family=\"Times,serif\" font-size=\"14.00\" text-anchor=\"middle\" x=\"397.5\" y=\"-37.8\">samples = 15</text>\n<text fill=\"#000000\" font-family=\"Times,serif\" font-size=\"14.00\" text-anchor=\"middle\" x=\"397.5\" y=\"-22.8\">value = [14, 1]</text>\n<text fill=\"#000000\" font-family=\"Times,serif\" font-size=\"14.00\" text-anchor=\"middle\" x=\"397.5\" y=\"-7.8\">class = 1</text>\n</g>\n<!-- 6&#45;&gt;8 -->\n<g class=\"edge\" id=\"edge8\">\n<title>6-&gt;8</title>\n<path d=\"M360.4694,-103.9815C365.0895,-95.2504 369.9736,-86.0202 374.626,-77.2281\" fill=\"none\" stroke=\"#000000\"/>\n<polygon fill=\"#000000\" points=\"377.7859,-78.7395 379.3694,-68.2637 371.5987,-75.4655 377.7859,-78.7395\" stroke=\"#000000\"/>\n</g>\n<!-- 10 -->\n<g class=\"node\" id=\"node11\">\n<title>10</title>\n<polygon fill=\"#e9965a\" points=\"702,-187 585,-187 585,-104 702,-104 702,-187\" stroke=\"#000000\"/>\n<text fill=\"#000000\" font-family=\"Times,serif\" font-size=\"14.00\" text-anchor=\"middle\" x=\"643.5\" y=\"-171.8\">mass &lt;= 1.769</text>\n<text fill=\"#000000\" font-family=\"Times,serif\" font-size=\"14.00\" text-anchor=\"middle\" x=\"643.5\" y=\"-156.8\">gini = 0.243</text>\n<text fill=\"#000000\" font-family=\"Times,serif\" font-size=\"14.00\" text-anchor=\"middle\" x=\"643.5\" y=\"-141.8\">samples = 120</text>\n<text fill=\"#000000\" font-family=\"Times,serif\" font-size=\"14.00\" text-anchor=\"middle\" x=\"643.5\" y=\"-126.8\">value = [103, 17]</text>\n<text fill=\"#000000\" font-family=\"Times,serif\" font-size=\"14.00\" text-anchor=\"middle\" x=\"643.5\" y=\"-111.8\">class = 1</text>\n</g>\n<!-- 9&#45;&gt;10 -->\n<g class=\"edge\" id=\"edge10\">\n<title>9-&gt;10</title>\n<path d=\"M686.4164,-222.8796C681.6211,-214.2335 676.5178,-205.0322 671.5662,-196.1042\" fill=\"none\" stroke=\"#000000\"/>\n<polygon fill=\"#000000\" points=\"674.5931,-194.3455 666.6821,-187.2981 668.4716,-197.7407 674.5931,-194.3455\" stroke=\"#000000\"/>\n</g>\n<!-- 13 -->\n<g class=\"node\" id=\"node14\">\n<title>13</title>\n<polygon fill=\"#f5d0b5\" points=\"830.5,-187 720.5,-187 720.5,-104 830.5,-104 830.5,-187\" stroke=\"#000000\"/>\n<text fill=\"#000000\" font-family=\"Times,serif\" font-size=\"14.00\" text-anchor=\"middle\" x=\"775.5\" y=\"-171.8\">pedi &lt;= 0.285</text>\n<text fill=\"#000000\" font-family=\"Times,serif\" font-size=\"14.00\" text-anchor=\"middle\" x=\"775.5\" y=\"-156.8\">gini = 0.474</text>\n<text fill=\"#000000\" font-family=\"Times,serif\" font-size=\"14.00\" text-anchor=\"middle\" x=\"775.5\" y=\"-141.8\">samples = 140</text>\n<text fill=\"#000000\" font-family=\"Times,serif\" font-size=\"14.00\" text-anchor=\"middle\" x=\"775.5\" y=\"-126.8\">value = [86, 54]</text>\n<text fill=\"#000000\" font-family=\"Times,serif\" font-size=\"14.00\" text-anchor=\"middle\" x=\"775.5\" y=\"-111.8\">class = 1</text>\n</g>\n<!-- 9&#45;&gt;13 -->\n<g class=\"edge\" id=\"edge13\">\n<title>9-&gt;13</title>\n<path d=\"M732.5836,-222.8796C737.3789,-214.2335 742.4822,-205.0322 747.4338,-196.1042\" fill=\"none\" stroke=\"#000000\"/>\n<polygon fill=\"#000000\" points=\"750.5284,-197.7407 752.3179,-187.2981 744.4069,-194.3455 750.5284,-197.7407\" stroke=\"#000000\"/>\n</g>\n<!-- 11 -->\n<g class=\"node\" id=\"node12\">\n<title>11</title>\n<polygon fill=\"#e99254\" points=\"584,-68 467,-68 467,0 584,0 584,-68\" stroke=\"#000000\"/>\n<text fill=\"#000000\" font-family=\"Times,serif\" font-size=\"14.00\" text-anchor=\"middle\" x=\"525.5\" y=\"-52.8\">gini = 0.212</text>\n<text fill=\"#000000\" font-family=\"Times,serif\" font-size=\"14.00\" text-anchor=\"middle\" x=\"525.5\" y=\"-37.8\">samples = 116</text>\n<text fill=\"#000000\" font-family=\"Times,serif\" font-size=\"14.00\" text-anchor=\"middle\" x=\"525.5\" y=\"-22.8\">value = [102, 14]</text>\n<text fill=\"#000000\" font-family=\"Times,serif\" font-size=\"14.00\" text-anchor=\"middle\" x=\"525.5\" y=\"-7.8\">class = 1</text>\n</g>\n<!-- 10&#45;&gt;11 -->\n<g class=\"edge\" id=\"edge11\">\n<title>10-&gt;11</title>\n<path d=\"M599.5612,-103.9815C589.6402,-94.607 579.1103,-84.6572 569.1992,-75.2921\" fill=\"none\" stroke=\"#000000\"/>\n<polygon fill=\"#000000\" points=\"571.4334,-72.5878 561.7611,-68.2637 566.6257,-77.6757 571.4334,-72.5878\" stroke=\"#000000\"/>\n</g>\n<!-- 12 -->\n<g class=\"node\" id=\"node13\">\n<title>12</title>\n<polygon fill=\"#7bbeee\" points=\"697,-68 602,-68 602,0 697,0 697,-68\" stroke=\"#000000\"/>\n<text fill=\"#000000\" font-family=\"Times,serif\" font-size=\"14.00\" text-anchor=\"middle\" x=\"649.5\" y=\"-52.8\">gini = 0.375</text>\n<text fill=\"#000000\" font-family=\"Times,serif\" font-size=\"14.00\" text-anchor=\"middle\" x=\"649.5\" y=\"-37.8\">samples = 4</text>\n<text fill=\"#000000\" font-family=\"Times,serif\" font-size=\"14.00\" text-anchor=\"middle\" x=\"649.5\" y=\"-22.8\">value = [1, 3]</text>\n<text fill=\"#000000\" font-family=\"Times,serif\" font-size=\"14.00\" text-anchor=\"middle\" x=\"649.5\" y=\"-7.8\">class = 0</text>\n</g>\n<!-- 10&#45;&gt;12 -->\n<g class=\"edge\" id=\"edge12\">\n<title>10-&gt;12</title>\n<path d=\"M645.7342,-103.9815C646.1842,-95.618 646.6589,-86.7965 647.1139,-78.3409\" fill=\"none\" stroke=\"#000000\"/>\n<polygon fill=\"#000000\" points=\"650.6137,-78.4373 647.6562,-68.2637 643.6238,-78.0611 650.6137,-78.4373\" stroke=\"#000000\"/>\n</g>\n<!-- 14 -->\n<g class=\"node\" id=\"node15\">\n<title>14</title>\n<polygon fill=\"#efb388\" points=\"825.5,-68 715.5,-68 715.5,0 825.5,0 825.5,-68\" stroke=\"#000000\"/>\n<text fill=\"#000000\" font-family=\"Times,serif\" font-size=\"14.00\" text-anchor=\"middle\" x=\"770.5\" y=\"-52.8\">gini = 0.408</text>\n<text fill=\"#000000\" font-family=\"Times,serif\" font-size=\"14.00\" text-anchor=\"middle\" x=\"770.5\" y=\"-37.8\">samples = 98</text>\n<text fill=\"#000000\" font-family=\"Times,serif\" font-size=\"14.00\" text-anchor=\"middle\" x=\"770.5\" y=\"-22.8\">value = [70, 28]</text>\n<text fill=\"#000000\" font-family=\"Times,serif\" font-size=\"14.00\" text-anchor=\"middle\" x=\"770.5\" y=\"-7.8\">class = 1</text>\n</g>\n<!-- 13&#45;&gt;14 -->\n<g class=\"edge\" id=\"edge14\">\n<title>13-&gt;14</title>\n<path d=\"M773.6382,-103.9815C773.2631,-95.618 772.8676,-86.7965 772.4884,-78.3409\" fill=\"none\" stroke=\"#000000\"/>\n<polygon fill=\"#000000\" points=\"775.981,-78.0968 772.0365,-68.2637 768.9881,-78.4105 775.981,-78.0968\" stroke=\"#000000\"/>\n</g>\n<!-- 15 -->\n<g class=\"node\" id=\"node16\">\n<title>15</title>\n<polygon fill=\"#b3d9f5\" points=\"953.5,-68 843.5,-68 843.5,0 953.5,0 953.5,-68\" stroke=\"#000000\"/>\n<text fill=\"#000000\" font-family=\"Times,serif\" font-size=\"14.00\" text-anchor=\"middle\" x=\"898.5\" y=\"-52.8\">gini = 0.472</text>\n<text fill=\"#000000\" font-family=\"Times,serif\" font-size=\"14.00\" text-anchor=\"middle\" x=\"898.5\" y=\"-37.8\">samples = 42</text>\n<text fill=\"#000000\" font-family=\"Times,serif\" font-size=\"14.00\" text-anchor=\"middle\" x=\"898.5\" y=\"-22.8\">value = [16, 26]</text>\n<text fill=\"#000000\" font-family=\"Times,serif\" font-size=\"14.00\" text-anchor=\"middle\" x=\"898.5\" y=\"-7.8\">class = 0</text>\n</g>\n<!-- 13&#45;&gt;15 -->\n<g class=\"edge\" id=\"edge15\">\n<title>13-&gt;15</title>\n<path d=\"M821.3007,-103.9815C831.7434,-94.5151 842.8333,-84.462 853.2528,-75.0168\" fill=\"none\" stroke=\"#000000\"/>\n<polygon fill=\"#000000\" points=\"855.6441,-77.5731 860.7024,-68.2637 850.9428,-72.3868 855.6441,-77.5731\" stroke=\"#000000\"/>\n</g>\n<!-- 17 -->\n<g class=\"node\" id=\"node18\">\n<title>17</title>\n<polygon fill=\"#eeab7b\" points=\"1246.5,-306 1144.5,-306 1144.5,-223 1246.5,-223 1246.5,-306\" stroke=\"#000000\"/>\n<text fill=\"#000000\" font-family=\"Times,serif\" font-size=\"14.00\" text-anchor=\"middle\" x=\"1195.5\" y=\"-290.8\">plas &lt;= 0.785</text>\n<text fill=\"#000000\" font-family=\"Times,serif\" font-size=\"14.00\" text-anchor=\"middle\" x=\"1195.5\" y=\"-275.8\">gini = 0.375</text>\n<text fill=\"#000000\" font-family=\"Times,serif\" font-size=\"14.00\" text-anchor=\"middle\" x=\"1195.5\" y=\"-260.8\">samples = 36</text>\n<text fill=\"#000000\" font-family=\"Times,serif\" font-size=\"14.00\" text-anchor=\"middle\" x=\"1195.5\" y=\"-245.8\">value = [27, 9]</text>\n<text fill=\"#000000\" font-family=\"Times,serif\" font-size=\"14.00\" text-anchor=\"middle\" x=\"1195.5\" y=\"-230.8\">class = 1</text>\n</g>\n<!-- 16&#45;&gt;17 -->\n<g class=\"edge\" id=\"edge17\">\n<title>16-&gt;17</title>\n<path d=\"M1195.5,-341.8796C1195.5,-333.6838 1195.5,-324.9891 1195.5,-316.5013\" fill=\"none\" stroke=\"#000000\"/>\n<polygon fill=\"#000000\" points=\"1199.0001,-316.298 1195.5,-306.2981 1192.0001,-316.2981 1199.0001,-316.298\" stroke=\"#000000\"/>\n</g>\n<!-- 24 -->\n<g class=\"node\" id=\"node25\">\n<title>24</title>\n<polygon fill=\"#90c8f0\" points=\"1609,-306 1492,-306 1492,-223 1609,-223 1609,-306\" stroke=\"#000000\"/>\n<text fill=\"#000000\" font-family=\"Times,serif\" font-size=\"14.00\" text-anchor=\"middle\" x=\"1550.5\" y=\"-290.8\">plas &lt;= 1.201</text>\n<text fill=\"#000000\" font-family=\"Times,serif\" font-size=\"14.00\" text-anchor=\"middle\" x=\"1550.5\" y=\"-275.8\">gini = 0.424</text>\n<text fill=\"#000000\" font-family=\"Times,serif\" font-size=\"14.00\" text-anchor=\"middle\" x=\"1550.5\" y=\"-260.8\">samples = 144</text>\n<text fill=\"#000000\" font-family=\"Times,serif\" font-size=\"14.00\" text-anchor=\"middle\" x=\"1550.5\" y=\"-245.8\">value = [44, 100]</text>\n<text fill=\"#000000\" font-family=\"Times,serif\" font-size=\"14.00\" text-anchor=\"middle\" x=\"1550.5\" y=\"-230.8\">class = 0</text>\n</g>\n<!-- 16&#45;&gt;24 -->\n<g class=\"edge\" id=\"edge24\">\n<title>16-&gt;24</title>\n<path d=\"M1254.121,-363.8496C1316.8136,-342.8343 1416.1238,-309.5444 1482.28,-287.3681\" fill=\"none\" stroke=\"#000000\"/>\n<polygon fill=\"#000000\" points=\"1483.4228,-290.6765 1491.7919,-284.1796 1481.198,-284.0395 1483.4228,-290.6765\" stroke=\"#000000\"/>\n</g>\n<!-- 18 -->\n<g class=\"node\" id=\"node19\">\n<title>18</title>\n<polygon fill=\"#e68844\" points=\"1187.5,-187 1085.5,-187 1085.5,-104 1187.5,-104 1187.5,-187\" stroke=\"#000000\"/>\n<text fill=\"#000000\" font-family=\"Times,serif\" font-size=\"14.00\" text-anchor=\"middle\" x=\"1136.5\" y=\"-171.8\">age &lt;= 2.19</text>\n<text fill=\"#000000\" font-family=\"Times,serif\" font-size=\"14.00\" text-anchor=\"middle\" x=\"1136.5\" y=\"-156.8\">gini = 0.1</text>\n<text fill=\"#000000\" font-family=\"Times,serif\" font-size=\"14.00\" text-anchor=\"middle\" x=\"1136.5\" y=\"-141.8\">samples = 19</text>\n<text fill=\"#000000\" font-family=\"Times,serif\" font-size=\"14.00\" text-anchor=\"middle\" x=\"1136.5\" y=\"-126.8\">value = [18, 1]</text>\n<text fill=\"#000000\" font-family=\"Times,serif\" font-size=\"14.00\" text-anchor=\"middle\" x=\"1136.5\" y=\"-111.8\">class = 1</text>\n</g>\n<!-- 17&#45;&gt;18 -->\n<g class=\"edge\" id=\"edge18\">\n<title>17-&gt;18</title>\n<path d=\"M1174.8647,-222.8796C1170.6226,-214.3236 1166.111,-205.2238 1161.7279,-196.3833\" fill=\"none\" stroke=\"#000000\"/>\n<polygon fill=\"#000000\" points=\"1164.8012,-194.7026 1157.2234,-187.2981 1158.5297,-197.8121 1164.8012,-194.7026\" stroke=\"#000000\"/>\n</g>\n<!-- 21 -->\n<g class=\"node\" id=\"node22\">\n<title>21</title>\n<polygon fill=\"#fcf1e9\" points=\"1305,-187 1206,-187 1206,-104 1305,-104 1305,-187\" stroke=\"#000000\"/>\n<text fill=\"#000000\" font-family=\"Times,serif\" font-size=\"14.00\" text-anchor=\"middle\" x=\"1255.5\" y=\"-171.8\">mass &lt;= -1.14</text>\n<text fill=\"#000000\" font-family=\"Times,serif\" font-size=\"14.00\" text-anchor=\"middle\" x=\"1255.5\" y=\"-156.8\">gini = 0.498</text>\n<text fill=\"#000000\" font-family=\"Times,serif\" font-size=\"14.00\" text-anchor=\"middle\" x=\"1255.5\" y=\"-141.8\">samples = 17</text>\n<text fill=\"#000000\" font-family=\"Times,serif\" font-size=\"14.00\" text-anchor=\"middle\" x=\"1255.5\" y=\"-126.8\">value = [9, 8]</text>\n<text fill=\"#000000\" font-family=\"Times,serif\" font-size=\"14.00\" text-anchor=\"middle\" x=\"1255.5\" y=\"-111.8\">class = 1</text>\n</g>\n<!-- 17&#45;&gt;21 -->\n<g class=\"edge\" id=\"edge21\">\n<title>17-&gt;21</title>\n<path d=\"M1216.4851,-222.8796C1220.799,-214.3236 1225.3872,-205.2238 1229.8446,-196.3833\" fill=\"none\" stroke=\"#000000\"/>\n<polygon fill=\"#000000\" points=\"1233.0484,-197.8031 1234.4253,-187.2981 1226.7979,-194.6515 1233.0484,-197.8031\" stroke=\"#000000\"/>\n</g>\n<!-- 19 -->\n<g class=\"node\" id=\"node20\">\n<title>19</title>\n<polygon fill=\"#e58139\" points=\"1073.5,-68 971.5,-68 971.5,0 1073.5,0 1073.5,-68\" stroke=\"#000000\"/>\n<text fill=\"#000000\" font-family=\"Times,serif\" font-size=\"14.00\" text-anchor=\"middle\" x=\"1022.5\" y=\"-52.8\">gini = 0.0</text>\n<text fill=\"#000000\" font-family=\"Times,serif\" font-size=\"14.00\" text-anchor=\"middle\" x=\"1022.5\" y=\"-37.8\">samples = 16</text>\n<text fill=\"#000000\" font-family=\"Times,serif\" font-size=\"14.00\" text-anchor=\"middle\" x=\"1022.5\" y=\"-22.8\">value = [16, 0]</text>\n<text fill=\"#000000\" font-family=\"Times,serif\" font-size=\"14.00\" text-anchor=\"middle\" x=\"1022.5\" y=\"-7.8\">class = 1</text>\n</g>\n<!-- 18&#45;&gt;19 -->\n<g class=\"edge\" id=\"edge19\">\n<title>18-&gt;19</title>\n<path d=\"M1094.0506,-103.9815C1084.4659,-94.607 1074.293,-84.6572 1064.7179,-75.2921\" fill=\"none\" stroke=\"#000000\"/>\n<polygon fill=\"#000000\" points=\"1067.1283,-72.7538 1057.5319,-68.2637 1062.2337,-77.7581 1067.1283,-72.7538\" stroke=\"#000000\"/>\n</g>\n<!-- 20 -->\n<g class=\"node\" id=\"node21\">\n<title>20</title>\n<polygon fill=\"#f2c09c\" points=\"1187,-68 1092,-68 1092,0 1187,0 1187,-68\" stroke=\"#000000\"/>\n<text fill=\"#000000\" font-family=\"Times,serif\" font-size=\"14.00\" text-anchor=\"middle\" x=\"1139.5\" y=\"-52.8\">gini = 0.444</text>\n<text fill=\"#000000\" font-family=\"Times,serif\" font-size=\"14.00\" text-anchor=\"middle\" x=\"1139.5\" y=\"-37.8\">samples = 3</text>\n<text fill=\"#000000\" font-family=\"Times,serif\" font-size=\"14.00\" text-anchor=\"middle\" x=\"1139.5\" y=\"-22.8\">value = [2, 1]</text>\n<text fill=\"#000000\" font-family=\"Times,serif\" font-size=\"14.00\" text-anchor=\"middle\" x=\"1139.5\" y=\"-7.8\">class = 1</text>\n</g>\n<!-- 18&#45;&gt;20 -->\n<g class=\"edge\" id=\"edge20\">\n<title>18-&gt;20</title>\n<path d=\"M1137.6171,-103.9815C1137.8421,-95.618 1138.0795,-86.7965 1138.307,-78.3409\" fill=\"none\" stroke=\"#000000\"/>\n<polygon fill=\"#000000\" points=\"1141.8078,-78.3542 1138.5781,-68.2637 1134.8103,-78.1659 1141.8078,-78.3542\" stroke=\"#000000\"/>\n</g>\n<!-- 22 -->\n<g class=\"node\" id=\"node23\">\n<title>22</title>\n<polygon fill=\"#e58139\" points=\"1300,-68 1205,-68 1205,0 1300,0 1300,-68\" stroke=\"#000000\"/>\n<text fill=\"#000000\" font-family=\"Times,serif\" font-size=\"14.00\" text-anchor=\"middle\" x=\"1252.5\" y=\"-52.8\">gini = 0.0</text>\n<text fill=\"#000000\" font-family=\"Times,serif\" font-size=\"14.00\" text-anchor=\"middle\" x=\"1252.5\" y=\"-37.8\">samples = 3</text>\n<text fill=\"#000000\" font-family=\"Times,serif\" font-size=\"14.00\" text-anchor=\"middle\" x=\"1252.5\" y=\"-22.8\">value = [3, 0]</text>\n<text fill=\"#000000\" font-family=\"Times,serif\" font-size=\"14.00\" text-anchor=\"middle\" x=\"1252.5\" y=\"-7.8\">class = 1</text>\n</g>\n<!-- 21&#45;&gt;22 -->\n<g class=\"edge\" id=\"edge22\">\n<title>21-&gt;22</title>\n<path d=\"M1254.3829,-103.9815C1254.1579,-95.618 1253.9205,-86.7965 1253.693,-78.3409\" fill=\"none\" stroke=\"#000000\"/>\n<polygon fill=\"#000000\" points=\"1257.1897,-78.1659 1253.4219,-68.2637 1250.1922,-78.3542 1257.1897,-78.1659\" stroke=\"#000000\"/>\n</g>\n<!-- 23 -->\n<g class=\"node\" id=\"node24\">\n<title>23</title>\n<polygon fill=\"#cee6f8\" points=\"1413,-68 1318,-68 1318,0 1413,0 1413,-68\" stroke=\"#000000\"/>\n<text fill=\"#000000\" font-family=\"Times,serif\" font-size=\"14.00\" text-anchor=\"middle\" x=\"1365.5\" y=\"-52.8\">gini = 0.49</text>\n<text fill=\"#000000\" font-family=\"Times,serif\" font-size=\"14.00\" text-anchor=\"middle\" x=\"1365.5\" y=\"-37.8\">samples = 14</text>\n<text fill=\"#000000\" font-family=\"Times,serif\" font-size=\"14.00\" text-anchor=\"middle\" x=\"1365.5\" y=\"-22.8\">value = [6, 8]</text>\n<text fill=\"#000000\" font-family=\"Times,serif\" font-size=\"14.00\" text-anchor=\"middle\" x=\"1365.5\" y=\"-7.8\">class = 0</text>\n</g>\n<!-- 21&#45;&gt;23 -->\n<g class=\"edge\" id=\"edge23\">\n<title>21-&gt;23</title>\n<path d=\"M1296.4599,-103.9815C1305.6176,-94.6989 1315.3319,-84.8522 1324.4915,-75.5677\" fill=\"none\" stroke=\"#000000\"/>\n<polygon fill=\"#000000\" points=\"1327.1658,-77.8406 1331.6973,-68.2637 1322.1826,-72.9244 1327.1658,-77.8406\" stroke=\"#000000\"/>\n</g>\n<!-- 25 -->\n<g class=\"node\" id=\"node26\">\n<title>25</title>\n<polygon fill=\"#c9e4f8\" points=\"1605.5,-187 1495.5,-187 1495.5,-104 1605.5,-104 1605.5,-187\" stroke=\"#000000\"/>\n<text fill=\"#000000\" font-family=\"Times,serif\" font-size=\"14.00\" text-anchor=\"middle\" x=\"1550.5\" y=\"-171.8\">age &lt;= -0.235</text>\n<text fill=\"#000000\" font-family=\"Times,serif\" font-size=\"14.00\" text-anchor=\"middle\" x=\"1550.5\" y=\"-156.8\">gini = 0.487</text>\n<text fill=\"#000000\" font-family=\"Times,serif\" font-size=\"14.00\" text-anchor=\"middle\" x=\"1550.5\" y=\"-141.8\">samples = 88</text>\n<text fill=\"#000000\" font-family=\"Times,serif\" font-size=\"14.00\" text-anchor=\"middle\" x=\"1550.5\" y=\"-126.8\">value = [37, 51]</text>\n<text fill=\"#000000\" font-family=\"Times,serif\" font-size=\"14.00\" text-anchor=\"middle\" x=\"1550.5\" y=\"-111.8\">class = 0</text>\n</g>\n<!-- 24&#45;&gt;25 -->\n<g class=\"edge\" id=\"edge25\">\n<title>24-&gt;25</title>\n<path d=\"M1550.5,-222.8796C1550.5,-214.6838 1550.5,-205.9891 1550.5,-197.5013\" fill=\"none\" stroke=\"#000000\"/>\n<polygon fill=\"#000000\" points=\"1554.0001,-197.298 1550.5,-187.2981 1547.0001,-197.2981 1554.0001,-197.298\" stroke=\"#000000\"/>\n</g>\n<!-- 28 -->\n<g class=\"node\" id=\"node29\">\n<title>28</title>\n<polygon fill=\"#55abe9\" points=\"1789.5,-187 1687.5,-187 1687.5,-104 1789.5,-104 1789.5,-187\" stroke=\"#000000\"/>\n<text fill=\"#000000\" font-family=\"Times,serif\" font-size=\"14.00\" text-anchor=\"middle\" x=\"1738.5\" y=\"-171.8\">pedi &lt;= 2.068</text>\n<text fill=\"#000000\" font-family=\"Times,serif\" font-size=\"14.00\" text-anchor=\"middle\" x=\"1738.5\" y=\"-156.8\">gini = 0.219</text>\n<text fill=\"#000000\" font-family=\"Times,serif\" font-size=\"14.00\" text-anchor=\"middle\" x=\"1738.5\" y=\"-141.8\">samples = 56</text>\n<text fill=\"#000000\" font-family=\"Times,serif\" font-size=\"14.00\" text-anchor=\"middle\" x=\"1738.5\" y=\"-126.8\">value = [7, 49]</text>\n<text fill=\"#000000\" font-family=\"Times,serif\" font-size=\"14.00\" text-anchor=\"middle\" x=\"1738.5\" y=\"-111.8\">class = 0</text>\n</g>\n<!-- 24&#45;&gt;28 -->\n<g class=\"edge\" id=\"edge28\">\n<title>24-&gt;28</title>\n<path d=\"M1609.2111,-227.3371C1631.2769,-213.3699 1656.3778,-197.4816 1678.5545,-183.4442\" fill=\"none\" stroke=\"#000000\"/>\n<polygon fill=\"#000000\" points=\"1680.6398,-186.2665 1687.2175,-177.9608 1676.8959,-180.3518 1680.6398,-186.2665\" stroke=\"#000000\"/>\n</g>\n<!-- 26 -->\n<g class=\"node\" id=\"node27\">\n<title>26</title>\n<polygon fill=\"#f8e0ce\" points=\"1541.5,-68 1431.5,-68 1431.5,0 1541.5,0 1541.5,-68\" stroke=\"#000000\"/>\n<text fill=\"#000000\" font-family=\"Times,serif\" font-size=\"14.00\" text-anchor=\"middle\" x=\"1486.5\" y=\"-52.8\">gini = 0.49</text>\n<text fill=\"#000000\" font-family=\"Times,serif\" font-size=\"14.00\" text-anchor=\"middle\" x=\"1486.5\" y=\"-37.8\">samples = 42</text>\n<text fill=\"#000000\" font-family=\"Times,serif\" font-size=\"14.00\" text-anchor=\"middle\" x=\"1486.5\" y=\"-22.8\">value = [24, 18]</text>\n<text fill=\"#000000\" font-family=\"Times,serif\" font-size=\"14.00\" text-anchor=\"middle\" x=\"1486.5\" y=\"-7.8\">class = 1</text>\n</g>\n<!-- 25&#45;&gt;26 -->\n<g class=\"edge\" id=\"edge26\">\n<title>25-&gt;26</title>\n<path d=\"M1526.6688,-103.9815C1521.6044,-95.1585 1516.2475,-85.8258 1511.1532,-76.9506\" fill=\"none\" stroke=\"#000000\"/>\n<polygon fill=\"#000000\" points=\"1514.1807,-75.1942 1506.167,-68.2637 1508.1097,-78.6789 1514.1807,-75.1942\" stroke=\"#000000\"/>\n</g>\n<!-- 27 -->\n<g class=\"node\" id=\"node28\">\n<title>27</title>\n<polygon fill=\"#87c4ef\" points=\"1669.5,-68 1559.5,-68 1559.5,0 1669.5,0 1669.5,-68\" stroke=\"#000000\"/>\n<text fill=\"#000000\" font-family=\"Times,serif\" font-size=\"14.00\" text-anchor=\"middle\" x=\"1614.5\" y=\"-52.8\">gini = 0.405</text>\n<text fill=\"#000000\" font-family=\"Times,serif\" font-size=\"14.00\" text-anchor=\"middle\" x=\"1614.5\" y=\"-37.8\">samples = 46</text>\n<text fill=\"#000000\" font-family=\"Times,serif\" font-size=\"14.00\" text-anchor=\"middle\" x=\"1614.5\" y=\"-22.8\">value = [13, 33]</text>\n<text fill=\"#000000\" font-family=\"Times,serif\" font-size=\"14.00\" text-anchor=\"middle\" x=\"1614.5\" y=\"-7.8\">class = 0</text>\n</g>\n<!-- 25&#45;&gt;27 -->\n<g class=\"edge\" id=\"edge27\">\n<title>25-&gt;27</title>\n<path d=\"M1574.3312,-103.9815C1579.3956,-95.1585 1584.7525,-85.8258 1589.8468,-76.9506\" fill=\"none\" stroke=\"#000000\"/>\n<polygon fill=\"#000000\" points=\"1592.8903,-78.6789 1594.833,-68.2637 1586.8193,-75.1942 1592.8903,-78.6789\" stroke=\"#000000\"/>\n</g>\n<!-- 29 -->\n<g class=\"node\" id=\"node30\">\n<title>29</title>\n<polygon fill=\"#4aa6e7\" points=\"1789.5,-68 1687.5,-68 1687.5,0 1789.5,0 1789.5,-68\" stroke=\"#000000\"/>\n<text fill=\"#000000\" font-family=\"Times,serif\" font-size=\"14.00\" text-anchor=\"middle\" x=\"1738.5\" y=\"-52.8\">gini = 0.147</text>\n<text fill=\"#000000\" font-family=\"Times,serif\" font-size=\"14.00\" text-anchor=\"middle\" x=\"1738.5\" y=\"-37.8\">samples = 50</text>\n<text fill=\"#000000\" font-family=\"Times,serif\" font-size=\"14.00\" text-anchor=\"middle\" x=\"1738.5\" y=\"-22.8\">value = [4, 46]</text>\n<text fill=\"#000000\" font-family=\"Times,serif\" font-size=\"14.00\" text-anchor=\"middle\" x=\"1738.5\" y=\"-7.8\">class = 0</text>\n</g>\n<!-- 28&#45;&gt;29 -->\n<g class=\"edge\" id=\"edge29\">\n<title>28-&gt;29</title>\n<path d=\"M1738.5,-103.9815C1738.5,-95.618 1738.5,-86.7965 1738.5,-78.3409\" fill=\"none\" stroke=\"#000000\"/>\n<polygon fill=\"#000000\" points=\"1742.0001,-78.2636 1738.5,-68.2637 1735.0001,-78.2637 1742.0001,-78.2636\" stroke=\"#000000\"/>\n</g>\n<!-- 30 -->\n<g class=\"node\" id=\"node31\">\n<title>30</title>\n<polygon fill=\"#ffffff\" points=\"1903,-68 1808,-68 1808,0 1903,0 1903,-68\" stroke=\"#000000\"/>\n<text fill=\"#000000\" font-family=\"Times,serif\" font-size=\"14.00\" text-anchor=\"middle\" x=\"1855.5\" y=\"-52.8\">gini = 0.5</text>\n<text fill=\"#000000\" font-family=\"Times,serif\" font-size=\"14.00\" text-anchor=\"middle\" x=\"1855.5\" y=\"-37.8\">samples = 6</text>\n<text fill=\"#000000\" font-family=\"Times,serif\" font-size=\"14.00\" text-anchor=\"middle\" x=\"1855.5\" y=\"-22.8\">value = [3, 3]</text>\n<text fill=\"#000000\" font-family=\"Times,serif\" font-size=\"14.00\" text-anchor=\"middle\" x=\"1855.5\" y=\"-7.8\">class = 1</text>\n</g>\n<!-- 28&#45;&gt;30 -->\n<g class=\"edge\" id=\"edge30\">\n<title>28-&gt;30</title>\n<path d=\"M1782.0665,-103.9815C1791.9034,-94.607 1802.344,-84.6572 1812.1711,-75.2921\" fill=\"none\" stroke=\"#000000\"/>\n<polygon fill=\"#000000\" points=\"1814.7216,-77.6963 1819.5462,-68.2637 1809.8924,-72.6289 1814.7216,-77.6963\" stroke=\"#000000\"/>\n</g>\n</g>\n</svg>"
          },
          "metadata": {
            "tags": []
          }
        }
      ]
    },
    {
      "cell_type": "markdown",
      "metadata": {
        "id": "Wbjg4X2iesLU"
      },
      "source": [
        "### **Classification Using Random Forest After Feature Selection**"
      ]
    },
    {
      "cell_type": "markdown",
      "metadata": {
        "id": "xLS9F3tvOW1c"
      },
      "source": [
        "#### 1. Import Libraries"
      ]
    },
    {
      "cell_type": "code",
      "metadata": {
        "id": "ykSR2KQEFi8G"
      },
      "source": [
        "import pandas as pd\n",
        "import numpy as np\n"
      ],
      "execution_count": null,
      "outputs": []
    },
    {
      "cell_type": "markdown",
      "metadata": {
        "id": "afJxqk6FOe6J"
      },
      "source": [
        "#### 2. Importing Dataset"
      ]
    },
    {
      "cell_type": "code",
      "metadata": {
        "id": "3dei-LPPOd9R"
      },
      "source": [
        "# load data\n",
        "url = \"https://raw.githubusercontent.com/jbrownlee/Datasets/master/pima-indians-diabetes.data.csv\"\n",
        "# names = ['pregnancies', 'glucose', 'BP', 'skin-thick', 'insulin', 'BMI', 'pedi', 'age', 'class']\n",
        "names=['preg', 'plas', 'pres', 'skin', 'test', 'mass', 'pedi', 'age', 'class']\n",
        "df = pd.read_csv(url, names=names)"
      ],
      "execution_count": null,
      "outputs": []
    },
    {
      "cell_type": "code",
      "metadata": {
        "id": "M2otQ1QNGOWs",
        "outputId": "c3400157-b2ed-4352-92a4-417520b86657",
        "colab": {
          "base_uri": "https://localhost:8080/",
          "height": 198
        }
      },
      "source": [
        "df.head()"
      ],
      "execution_count": null,
      "outputs": [
        {
          "output_type": "execute_result",
          "data": {
            "text/html": [
              "<div>\n",
              "<style scoped>\n",
              "    .dataframe tbody tr th:only-of-type {\n",
              "        vertical-align: middle;\n",
              "    }\n",
              "\n",
              "    .dataframe tbody tr th {\n",
              "        vertical-align: top;\n",
              "    }\n",
              "\n",
              "    .dataframe thead th {\n",
              "        text-align: right;\n",
              "    }\n",
              "</style>\n",
              "<table border=\"1\" class=\"dataframe\">\n",
              "  <thead>\n",
              "    <tr style=\"text-align: right;\">\n",
              "      <th></th>\n",
              "      <th>preg</th>\n",
              "      <th>plas</th>\n",
              "      <th>pres</th>\n",
              "      <th>skin</th>\n",
              "      <th>test</th>\n",
              "      <th>mass</th>\n",
              "      <th>pedi</th>\n",
              "      <th>age</th>\n",
              "      <th>class</th>\n",
              "    </tr>\n",
              "  </thead>\n",
              "  <tbody>\n",
              "    <tr>\n",
              "      <th>0</th>\n",
              "      <td>6</td>\n",
              "      <td>148</td>\n",
              "      <td>72</td>\n",
              "      <td>35</td>\n",
              "      <td>0</td>\n",
              "      <td>33.6</td>\n",
              "      <td>0.627</td>\n",
              "      <td>50</td>\n",
              "      <td>1</td>\n",
              "    </tr>\n",
              "    <tr>\n",
              "      <th>1</th>\n",
              "      <td>1</td>\n",
              "      <td>85</td>\n",
              "      <td>66</td>\n",
              "      <td>29</td>\n",
              "      <td>0</td>\n",
              "      <td>26.6</td>\n",
              "      <td>0.351</td>\n",
              "      <td>31</td>\n",
              "      <td>0</td>\n",
              "    </tr>\n",
              "    <tr>\n",
              "      <th>2</th>\n",
              "      <td>8</td>\n",
              "      <td>183</td>\n",
              "      <td>64</td>\n",
              "      <td>0</td>\n",
              "      <td>0</td>\n",
              "      <td>23.3</td>\n",
              "      <td>0.672</td>\n",
              "      <td>32</td>\n",
              "      <td>1</td>\n",
              "    </tr>\n",
              "    <tr>\n",
              "      <th>3</th>\n",
              "      <td>1</td>\n",
              "      <td>89</td>\n",
              "      <td>66</td>\n",
              "      <td>23</td>\n",
              "      <td>94</td>\n",
              "      <td>28.1</td>\n",
              "      <td>0.167</td>\n",
              "      <td>21</td>\n",
              "      <td>0</td>\n",
              "    </tr>\n",
              "    <tr>\n",
              "      <th>4</th>\n",
              "      <td>0</td>\n",
              "      <td>137</td>\n",
              "      <td>40</td>\n",
              "      <td>35</td>\n",
              "      <td>168</td>\n",
              "      <td>43.1</td>\n",
              "      <td>2.288</td>\n",
              "      <td>33</td>\n",
              "      <td>1</td>\n",
              "    </tr>\n",
              "  </tbody>\n",
              "</table>\n",
              "</div>"
            ],
            "text/plain": [
              "   preg  plas  pres  skin  test  mass   pedi  age  class\n",
              "0     6   148    72    35     0  33.6  0.627   50      1\n",
              "1     1    85    66    29     0  26.6  0.351   31      0\n",
              "2     8   183    64     0     0  23.3  0.672   32      1\n",
              "3     1    89    66    23    94  28.1  0.167   21      0\n",
              "4     0   137    40    35   168  43.1  2.288   33      1"
            ]
          },
          "metadata": {
            "tags": []
          },
          "execution_count": 54
        }
      ]
    },
    {
      "cell_type": "markdown",
      "metadata": {
        "id": "Lk6jFo_iOnIR"
      },
      "source": [
        "#### 3. Preparing Data For Training"
      ]
    },
    {
      "cell_type": "code",
      "metadata": {
        "id": "W_DHddwqgjje"
      },
      "source": [
        "# To numpy for fast computation\n",
        "array = df.values\n",
        "X = array[:,0:8]\n",
        "Y = array[:,8]"
      ],
      "execution_count": null,
      "outputs": []
    },
    {
      "cell_type": "markdown",
      "metadata": {
        "id": "dl5EyZP8Pj-3"
      },
      "source": [
        "#### 4. Feature Selection"
      ]
    },
    {
      "cell_type": "markdown",
      "metadata": {
        "id": "8ue7qEdiPvZJ"
      },
      "source": [
        "Feature selection Using Filter Methods\n",
        "\n",
        "\n",
        "\n",
        "what are filter methods ?\n",
        "\n",
        "![text](https://res.cloudinary.com/dyd911kmh/image/upload/f_auto,q_auto:best/v1537552825/Image3_fqsh79.png)\n",
        "Filter methods select features from a dataset independently for any machine learning algorithm.\n",
        "These methods rely only on the characteristics of these variables, so features are filtered out of \n",
        "the data before learning begins.These methods are powerful and simple and help to quickly \n",
        "remove features— and they are generally the first step in any feature selection pipeline.\n",
        "\n",
        "Ex :- Chi-squared Test, ANOVA-F test, Pearson Correlation\n",
        "\n",
        "**We'll be using ----> CHI-SQUARED test**"
      ]
    },
    {
      "cell_type": "code",
      "metadata": {
        "id": "hit0TcJ2gjjj"
      },
      "source": [
        "# Import the necessary libraries first\n",
        "from sklearn.feature_selection import SelectKBest\n",
        "from sklearn.feature_selection import chi2"
      ],
      "execution_count": null,
      "outputs": []
    },
    {
      "cell_type": "code",
      "metadata": {
        "id": "w1XZq3V_gjjm",
        "outputId": "b7b458bc-766f-476c-d58d-5e7ee1ae43c6",
        "colab": {
          "base_uri": "https://localhost:8080/"
        }
      },
      "source": [
        "# Feature extraction\n",
        "test = SelectKBest(score_func=chi2, k=4) # we want to select top 4 features\n",
        "fit = test.fit(X, Y)\n",
        "\n",
        "# Summarize scores\n",
        "np.set_printoptions(precision=3)\n",
        "names=['preg', 'plas', 'pres', 'skin', 'test', 'mass', 'pedi', 'age']\n",
        "print(fit.scores_)"
      ],
      "execution_count": null,
      "outputs": [
        {
          "output_type": "stream",
          "text": [
            "[ 111.52  1411.887   17.605   53.108 2175.565  127.669    5.393  181.304]\n"
          ],
          "name": "stdout"
        }
      ]
    },
    {
      "cell_type": "code",
      "metadata": {
        "id": "MLuHwW2UXst-",
        "outputId": "a235ab6d-5c64-4cf5-aee2-c595ba1ad9e4",
        "colab": {
          "base_uri": "https://localhost:8080/",
          "height": 312
        }
      },
      "source": [
        "import matplotlib.pyplot as plt\n",
        "import seaborn as sns\n",
        "%matplotlib inline\n",
        "# Creating a bar plot\n",
        "sns.barplot(x=fit.scores_, y=names)\n",
        "# Add labels to your graph\n",
        "plt.xlabel('Feature Importance Score')\n",
        "plt.ylabel('Features')\n",
        "plt.title(\"Visualizing Important Features\")\n",
        "plt.legend()\n",
        "plt.show()"
      ],
      "execution_count": null,
      "outputs": [
        {
          "output_type": "stream",
          "text": [
            "No handles with labels found to put in legend.\n"
          ],
          "name": "stderr"
        },
        {
          "output_type": "display_data",
          "data": {
            "image/png": "[encoded data removed]",
            "text/plain": [
              "<Figure size 432x288 with 1 Axes>"
            ]
          },
          "metadata": {
            "tags": [],
            "needs_background": "light"
          }
        }
      ]
    },
    {
      "cell_type": "markdown",
      "metadata": {
        "id": "T1bzTfDzgjjr"
      },
      "source": [
        "Those with highest Scores Have Been choosen\n",
        "\n",
        "So We'll Choose  \n",
        "\n",
        "Plas,Test,Mass and Age  as our **top4** features\n",
        "\n",
        "Now our Dataset Looks like below :-"
      ]
    },
    {
      "cell_type": "code",
      "metadata": {
        "id": "Vfyoot0wgjjr",
        "outputId": "7ce27507-4576-4d00-ef08-1c9a44b83be3",
        "colab": {
          "base_uri": "https://localhost:8080/"
        }
      },
      "source": [
        "features = fit.transform(X)\n",
        "# Summarize selected features\n",
        "print(features[0:5,:]) # Top 5 Rows of Dataset after Chi-squared Test"
      ],
      "execution_count": null,
      "outputs": [
        {
          "output_type": "stream",
          "text": [
            "[[148.    0.   33.6  50. ]\n",
            " [ 85.    0.   26.6  31. ]\n",
            " [183.    0.   23.3  32. ]\n",
            " [ 89.   94.   28.1  21. ]\n",
            " [137.  168.   43.1  33. ]]\n"
          ],
          "name": "stdout"
        }
      ]
    },
    {
      "cell_type": "code",
      "metadata": {
        "id": "eOducI_8gjjx",
        "outputId": "12498b08-95b2-43af-db48-4b11041f1172",
        "colab": {
          "base_uri": "https://localhost:8080/"
        }
      },
      "source": [
        "print(features.shape) # Our new Independent variables\n",
        "print(Y.shape) # Our dependent variables"
      ],
      "execution_count": null,
      "outputs": [
        {
          "output_type": "stream",
          "text": [
            "(768, 4)\n",
            "(768,)\n"
          ],
          "name": "stdout"
        }
      ]
    },
    {
      "cell_type": "code",
      "metadata": {
        "id": "e3ikYE3xgjj1"
      },
      "source": [
        "from sklearn.ensemble import RandomForestClassifier # Import Decision Tree Classifier\n",
        "from sklearn.model_selection import train_test_split # Import train_test_split function\n",
        "from sklearn import metrics #Import scikit-learn metrics module for accuracy calculation"
      ],
      "execution_count": null,
      "outputs": []
    },
    {
      "cell_type": "code",
      "metadata": {
        "id": "EPKr4Lizgjj4"
      },
      "source": [
        "# Split dataset into training set and test set\n",
        "X_train, X_test, y_train, y_test = train_test_split(features, Y, test_size=0.3, random_state=1) # 70% training and 30% test"
      ],
      "execution_count": null,
      "outputs": []
    },
    {
      "cell_type": "markdown",
      "metadata": {
        "id": "SrvGmo-mRAOR"
      },
      "source": [
        "#### 5. Feature Scaling"
      ]
    },
    {
      "cell_type": "markdown",
      "metadata": {
        "id": "clEx2SHNRSZ3"
      },
      "source": [
        "We know our dataset is not yet a scaled value.To do so, we will use Scikit-Learn's StandardScaler class. Execute the following code to do so:"
      ]
    },
    {
      "cell_type": "code",
      "metadata": {
        "id": "nAepkLzdQtH3"
      },
      "source": [
        "# Feature Scaling\n",
        "from sklearn.preprocessing import StandardScaler\n",
        "\n",
        "sc = StandardScaler()\n",
        "X_train = sc.fit_transform(X_train)\n",
        "X_test = sc.transform(X_test)"
      ],
      "execution_count": null,
      "outputs": []
    },
    {
      "cell_type": "markdown",
      "metadata": {
        "id": "eZzjgx8VRmWA"
      },
      "source": [
        "#### 6. Training the Algorithm"
      ]
    },
    {
      "cell_type": "markdown",
      "metadata": {
        "id": "ga3gMhSPRsxy"
      },
      "source": [
        "Now that we have scaled our dataset, it is time to train our random forest algorithm to solve this Classification problem. Execute the following code:"
      ]
    },
    {
      "cell_type": "code",
      "metadata": {
        "id": "EYnF-aKkRhnZ"
      },
      "source": [
        "from sklearn.ensemble import RandomForestClassifier\n",
        "\n",
        "Classifier = RandomForestClassifier(n_estimators=20, random_state=0)\n",
        "Classifier.fit(X_train, y_train)\n",
        "y_pred = Classifier.predict(X_test)"
      ],
      "execution_count": null,
      "outputs": []
    },
    {
      "cell_type": "markdown",
      "metadata": {
        "id": "7rouscl6R2Ik"
      },
      "source": [
        "The RandomForestClassifier class of the sklearn.ensemble library is used to solve Classification problems via random forest. The most important parameter of the RandomForestClassifier class is the n_estimators parameter. This parameter defines the number of trees in the random forest. We will start with n_estimator=20 to see how our algorithm performs. You can find details for all of the parameters of RandomForestClassifier [here](https://scikit-learn.org/stable/modules/generated/sklearn.ensemble.RandomForestClassifier.html)."
      ]
    },
    {
      "cell_type": "markdown",
      "metadata": {
        "id": "ZlNaOdTDSBdM"
      },
      "source": [
        "#### 7. Evaluating the Algorithm"
      ]
    },
    {
      "cell_type": "markdown",
      "metadata": {
        "id": "cODlpspEUp0w"
      },
      "source": [
        "For classification problems the metrics used to evaluate an algorithm are accuracy, confusion matrix, precision recall, and F1 values. Execute the following script to find these values:"
      ]
    },
    {
      "cell_type": "code",
      "metadata": {
        "id": "hurOGMIyUqeX",
        "outputId": "9a331891-8ece-45a7-b65e-d343552ee150",
        "colab": {
          "base_uri": "https://localhost:8080/"
        }
      },
      "source": [
        "from sklearn.metrics import classification_report, confusion_matrix, accuracy_score\n",
        "\n",
        "print(confusion_matrix(y_test,y_pred))\n",
        "print(classification_report(y_test,y_pred))\n",
        "print(accuracy_score(y_test, y_pred))"
      ],
      "execution_count": null,
      "outputs": [
        {
          "output_type": "stream",
          "text": [
            "[[129  17]\n",
            " [ 35  50]]\n",
            "              precision    recall  f1-score   support\n",
            "\n",
            "         0.0       0.79      0.88      0.83       146\n",
            "         1.0       0.75      0.59      0.66        85\n",
            "\n",
            "    accuracy                           0.77       231\n",
            "   macro avg       0.77      0.74      0.75       231\n",
            "weighted avg       0.77      0.77      0.77       231\n",
            "\n",
            "0.7748917748917749\n"
          ],
          "name": "stdout"
        }
      ]
    },
    {
      "cell_type": "code",
      "metadata": {
        "id": "RkYrXyn1aG3A"
      },
      "source": [
        "from sklearn.metrics import roc_auc_score\n",
        "\n",
        "# Calculate roc auc\n",
        "roc_value = roc_auc_score(y_test,y_pred)"
      ],
      "execution_count": null,
      "outputs": []
    },
    {
      "cell_type": "code",
      "metadata": {
        "id": "-trHKlxtaTAP",
        "outputId": "46263596-103b-4b55-864d-45c123cca2c2",
        "colab": {
          "base_uri": "https://localhost:8080/"
        }
      },
      "source": [
        "roc_value"
      ],
      "execution_count": null,
      "outputs": [
        {
          "output_type": "execute_result",
          "data": {
            "text/plain": [
              "0.7358984689766318"
            ]
          },
          "metadata": {
            "tags": []
          },
          "execution_count": 112
        }
      ]
    },
    {
      "cell_type": "markdown",
      "metadata": {
        "id": "ydxpSwIwLmOZ"
      },
      "source": [
        "Let's Compare the Random Forest with Decision Tree"
      ]
    },
    {
      "cell_type": "markdown",
      "metadata": {
        "id": "cCVH7m2_ando"
      },
      "source": [
        "#### Decision Tree"
      ]
    },
    {
      "cell_type": "code",
      "metadata": {
        "id": "yVKPDnCUgjj9"
      },
      "source": [
        "# Create Decision Tree classifer object\n",
        "clf1 = DecisionTreeClassifier()\n",
        "\n",
        "# Train Decision Tree Classifer\n",
        "clf1 = clf1.fit(X_train,y_train)\n",
        "\n",
        "#Predict the response for test dataset\n",
        "y_pred1 = clf1.predict(X_test)"
      ],
      "execution_count": null,
      "outputs": []
    },
    {
      "cell_type": "code",
      "metadata": {
        "id": "Kdt2sp9ogjkA",
        "outputId": "5e5157f5-9e66-4e7a-f4e4-4a47ada5d282",
        "colab": {
          "base_uri": "https://localhost:8080/"
        }
      },
      "source": [
        "# Model Accuracy, how often is the classifier correct?\n",
        "print(\"Accuracy:\",metrics.accuracy_score(y_test, y_pred1))"
      ],
      "execution_count": null,
      "outputs": [
        {
          "output_type": "stream",
          "text": [
            "Accuracy: 0.7186147186147186\n"
          ],
          "name": "stdout"
        }
      ]
    },
    {
      "cell_type": "code",
      "metadata": {
        "id": "NvCj2Sk3ayCD"
      },
      "source": [
        "from sklearn.metrics import roc_auc_score\n",
        "\n",
        "# Calculate roc auc\n",
        "roc_value_DT = roc_auc_score(y_test,y_pred1)"
      ],
      "execution_count": null,
      "outputs": []
    },
    {
      "cell_type": "code",
      "metadata": {
        "id": "9WThiiYuayCK",
        "outputId": "8efe73c6-44d3-4f50-c0bd-9d80facc6022",
        "colab": {
          "base_uri": "https://localhost:8080/"
        }
      },
      "source": [
        "roc_value_DT\n"
      ],
      "execution_count": null,
      "outputs": [
        {
          "output_type": "execute_result",
          "data": {
            "text/plain": [
              "0.7065672844480257"
            ]
          },
          "metadata": {
            "tags": []
          },
          "execution_count": 62
        }
      ]
    },
    {
      "cell_type": "markdown",
      "metadata": {
        "id": "gtaKN9Q-aVmv"
      },
      "source": [
        "*We can clearly see that Random Forests are performing better then decision Tree.*"
      ]
    },
    {
      "cell_type": "code",
      "metadata": {
        "id": "biAq-qdmdxph"
      },
      "source": [
        ""
      ],
      "execution_count": null,
      "outputs": []
    },
    {
      "cell_type": "markdown",
      "metadata": {
        "id": "JqZInKhOkmKG"
      },
      "source": [
        "# **`Random Forest Regressor`**"
      ]
    },
    {
      "cell_type": "markdown",
      "metadata": {
        "id": "GHQceiXjGb5R"
      },
      "source": [
        "In this section we will study how random forests can be used to solve regression problems using Scikit-Learn."
      ]
    },
    {
      "cell_type": "markdown",
      "metadata": {
        "id": "hkx36FMzHYlj"
      },
      "source": [
        "### **Problem Definition**"
      ]
    },
    {
      "cell_type": "markdown",
      "metadata": {
        "id": "W2KdEM_BHc4T"
      },
      "source": [
        "The problem here is to predict the insurance charges."
      ]
    },
    {
      "cell_type": "markdown",
      "metadata": {
        "id": "ulchWK6THjPK"
      },
      "source": [
        "### **Solution**"
      ]
    },
    {
      "cell_type": "markdown",
      "metadata": {
        "id": "ATpm0mDwHoUe"
      },
      "source": [
        "To solve this regression problem we will use the random forest algorithm via the Scikit-Learn Python library. We will follow the traditional machine learning pipeline to solve this problem. Follow these steps:"
      ]
    },
    {
      "cell_type": "markdown",
      "metadata": {
        "id": "J1WDz05rIpd0"
      },
      "source": [
        "#### 1. Importing Libraries"
      ]
    },
    {
      "cell_type": "code",
      "metadata": {
        "id": "FU70V8heI1DR"
      },
      "source": [
        "import pandas as pd\n",
        "import numpy as np"
      ],
      "execution_count": null,
      "outputs": []
    },
    {
      "cell_type": "markdown",
      "metadata": {
        "id": "UpRQ1ll_I4vh"
      },
      "source": [
        "#### 2. Importing Dataset"
      ]
    },
    {
      "cell_type": "code",
      "metadata": {
        "id": "OZRTJVqRg5fM"
      },
      "source": [
        "df=pd.read_csv('/content/insurance.csv')"
      ],
      "execution_count": null,
      "outputs": []
    },
    {
      "cell_type": "code",
      "metadata": {
        "id": "HXAsEQAvg9Ij",
        "outputId": "2515cb86-438e-4e77-baf4-ef21bd053145",
        "colab": {
          "base_uri": "https://localhost:8080/",
          "height": 198
        }
      },
      "source": [
        "df.head()"
      ],
      "execution_count": null,
      "outputs": [
        {
          "output_type": "execute_result",
          "data": {
            "text/html": [
              "<div>\n",
              "<style scoped>\n",
              "    .dataframe tbody tr th:only-of-type {\n",
              "        vertical-align: middle;\n",
              "    }\n",
              "\n",
              "    .dataframe tbody tr th {\n",
              "        vertical-align: top;\n",
              "    }\n",
              "\n",
              "    .dataframe thead th {\n",
              "        text-align: right;\n",
              "    }\n",
              "</style>\n",
              "<table border=\"1\" class=\"dataframe\">\n",
              "  <thead>\n",
              "    <tr style=\"text-align: right;\">\n",
              "      <th></th>\n",
              "      <th>age</th>\n",
              "      <th>sex</th>\n",
              "      <th>bmi</th>\n",
              "      <th>children</th>\n",
              "      <th>smoker</th>\n",
              "      <th>region</th>\n",
              "      <th>charges</th>\n",
              "    </tr>\n",
              "  </thead>\n",
              "  <tbody>\n",
              "    <tr>\n",
              "      <th>0</th>\n",
              "      <td>19</td>\n",
              "      <td>female</td>\n",
              "      <td>27.900</td>\n",
              "      <td>0</td>\n",
              "      <td>yes</td>\n",
              "      <td>southwest</td>\n",
              "      <td>16884.92400</td>\n",
              "    </tr>\n",
              "    <tr>\n",
              "      <th>1</th>\n",
              "      <td>18</td>\n",
              "      <td>male</td>\n",
              "      <td>33.770</td>\n",
              "      <td>1</td>\n",
              "      <td>no</td>\n",
              "      <td>southeast</td>\n",
              "      <td>1725.55230</td>\n",
              "    </tr>\n",
              "    <tr>\n",
              "      <th>2</th>\n",
              "      <td>28</td>\n",
              "      <td>male</td>\n",
              "      <td>33.000</td>\n",
              "      <td>3</td>\n",
              "      <td>no</td>\n",
              "      <td>southeast</td>\n",
              "      <td>4449.46200</td>\n",
              "    </tr>\n",
              "    <tr>\n",
              "      <th>3</th>\n",
              "      <td>33</td>\n",
              "      <td>male</td>\n",
              "      <td>22.705</td>\n",
              "      <td>0</td>\n",
              "      <td>no</td>\n",
              "      <td>northwest</td>\n",
              "      <td>21984.47061</td>\n",
              "    </tr>\n",
              "    <tr>\n",
              "      <th>4</th>\n",
              "      <td>32</td>\n",
              "      <td>male</td>\n",
              "      <td>28.880</td>\n",
              "      <td>0</td>\n",
              "      <td>no</td>\n",
              "      <td>northwest</td>\n",
              "      <td>3866.85520</td>\n",
              "    </tr>\n",
              "  </tbody>\n",
              "</table>\n",
              "</div>"
            ],
            "text/plain": [
              "   age     sex     bmi  children smoker     region      charges\n",
              "0   19  female  27.900         0    yes  southwest  16884.92400\n",
              "1   18    male  33.770         1     no  southeast   1725.55230\n",
              "2   28    male  33.000         3     no  southeast   4449.46200\n",
              "3   33    male  22.705         0     no  northwest  21984.47061\n",
              "4   32    male  28.880         0     no  northwest   3866.85520"
            ]
          },
          "metadata": {
            "tags": []
          },
          "execution_count": 115
        }
      ]
    },
    {
      "cell_type": "markdown",
      "metadata": {
        "id": "qgzaunwEJBre"
      },
      "source": [
        "#### 3. Preparing Data For Training"
      ]
    },
    {
      "cell_type": "markdown",
      "metadata": {
        "id": "UHhHPrg0JOml"
      },
      "source": [
        "Two tasks will be performed in this section. The first task is to change the categorical data to numerical, secondly the resultant data is then divided into training and test sets."
      ]
    },
    {
      "cell_type": "code",
      "metadata": {
        "id": "Wa8N7V6HhImD",
        "outputId": "36f61a7f-fbe2-4b1b-bbd7-2d8c7068455c",
        "colab": {
          "base_uri": "https://localhost:8080/",
          "height": 427
        }
      },
      "source": [
        "encoded_data = pd.get_dummies(df, columns=[\"sex\",\"smoker\",\"region\"])\n",
        "encoded_data"
      ],
      "execution_count": null,
      "outputs": [
        {
          "output_type": "execute_result",
          "data": {
            "text/html": [
              "<div>\n",
              "<style scoped>\n",
              "    .dataframe tbody tr th:only-of-type {\n",
              "        vertical-align: middle;\n",
              "    }\n",
              "\n",
              "    .dataframe tbody tr th {\n",
              "        vertical-align: top;\n",
              "    }\n",
              "\n",
              "    .dataframe thead th {\n",
              "        text-align: right;\n",
              "    }\n",
              "</style>\n",
              "<table border=\"1\" class=\"dataframe\">\n",
              "  <thead>\n",
              "    <tr style=\"text-align: right;\">\n",
              "      <th></th>\n",
              "      <th>age</th>\n",
              "      <th>bmi</th>\n",
              "      <th>children</th>\n",
              "      <th>charges</th>\n",
              "      <th>sex_female</th>\n",
              "      <th>sex_male</th>\n",
              "      <th>smoker_no</th>\n",
              "      <th>smoker_yes</th>\n",
              "      <th>region_northeast</th>\n",
              "      <th>region_northwest</th>\n",
              "      <th>region_southeast</th>\n",
              "      <th>region_southwest</th>\n",
              "    </tr>\n",
              "  </thead>\n",
              "  <tbody>\n",
              "    <tr>\n",
              "      <th>0</th>\n",
              "      <td>19</td>\n",
              "      <td>27.900</td>\n",
              "      <td>0</td>\n",
              "      <td>16884.92400</td>\n",
              "      <td>1</td>\n",
              "      <td>0</td>\n",
              "      <td>0</td>\n",
              "      <td>1</td>\n",
              "      <td>0</td>\n",
              "      <td>0</td>\n",
              "      <td>0</td>\n",
              "      <td>1</td>\n",
              "    </tr>\n",
              "    <tr>\n",
              "      <th>1</th>\n",
              "      <td>18</td>\n",
              "      <td>33.770</td>\n",
              "      <td>1</td>\n",
              "      <td>1725.55230</td>\n",
              "      <td>0</td>\n",
              "      <td>1</td>\n",
              "      <td>1</td>\n",
              "      <td>0</td>\n",
              "      <td>0</td>\n",
              "      <td>0</td>\n",
              "      <td>1</td>\n",
              "      <td>0</td>\n",
              "    </tr>\n",
              "    <tr>\n",
              "      <th>2</th>\n",
              "      <td>28</td>\n",
              "      <td>33.000</td>\n",
              "      <td>3</td>\n",
              "      <td>4449.46200</td>\n",
              "      <td>0</td>\n",
              "      <td>1</td>\n",
              "      <td>1</td>\n",
              "      <td>0</td>\n",
              "      <td>0</td>\n",
              "      <td>0</td>\n",
              "      <td>1</td>\n",
              "      <td>0</td>\n",
              "    </tr>\n",
              "    <tr>\n",
              "      <th>3</th>\n",
              "      <td>33</td>\n",
              "      <td>22.705</td>\n",
              "      <td>0</td>\n",
              "      <td>21984.47061</td>\n",
              "      <td>0</td>\n",
              "      <td>1</td>\n",
              "      <td>1</td>\n",
              "      <td>0</td>\n",
              "      <td>0</td>\n",
              "      <td>1</td>\n",
              "      <td>0</td>\n",
              "      <td>0</td>\n",
              "    </tr>\n",
              "    <tr>\n",
              "      <th>4</th>\n",
              "      <td>32</td>\n",
              "      <td>28.880</td>\n",
              "      <td>0</td>\n",
              "      <td>3866.85520</td>\n",
              "      <td>0</td>\n",
              "      <td>1</td>\n",
              "      <td>1</td>\n",
              "      <td>0</td>\n",
              "      <td>0</td>\n",
              "      <td>1</td>\n",
              "      <td>0</td>\n",
              "      <td>0</td>\n",
              "    </tr>\n",
              "    <tr>\n",
              "      <th>...</th>\n",
              "      <td>...</td>\n",
              "      <td>...</td>\n",
              "      <td>...</td>\n",
              "      <td>...</td>\n",
              "      <td>...</td>\n",
              "      <td>...</td>\n",
              "      <td>...</td>\n",
              "      <td>...</td>\n",
              "      <td>...</td>\n",
              "      <td>...</td>\n",
              "      <td>...</td>\n",
              "      <td>...</td>\n",
              "    </tr>\n",
              "    <tr>\n",
              "      <th>1333</th>\n",
              "      <td>50</td>\n",
              "      <td>30.970</td>\n",
              "      <td>3</td>\n",
              "      <td>10600.54830</td>\n",
              "      <td>0</td>\n",
              "      <td>1</td>\n",
              "      <td>1</td>\n",
              "      <td>0</td>\n",
              "      <td>0</td>\n",
              "      <td>1</td>\n",
              "      <td>0</td>\n",
              "      <td>0</td>\n",
              "    </tr>\n",
              "    <tr>\n",
              "      <th>1334</th>\n",
              "      <td>18</td>\n",
              "      <td>31.920</td>\n",
              "      <td>0</td>\n",
              "      <td>2205.98080</td>\n",
              "      <td>1</td>\n",
              "      <td>0</td>\n",
              "      <td>1</td>\n",
              "      <td>0</td>\n",
              "      <td>1</td>\n",
              "      <td>0</td>\n",
              "      <td>0</td>\n",
              "      <td>0</td>\n",
              "    </tr>\n",
              "    <tr>\n",
              "      <th>1335</th>\n",
              "      <td>18</td>\n",
              "      <td>36.850</td>\n",
              "      <td>0</td>\n",
              "      <td>1629.83350</td>\n",
              "      <td>1</td>\n",
              "      <td>0</td>\n",
              "      <td>1</td>\n",
              "      <td>0</td>\n",
              "      <td>0</td>\n",
              "      <td>0</td>\n",
              "      <td>1</td>\n",
              "      <td>0</td>\n",
              "    </tr>\n",
              "    <tr>\n",
              "      <th>1336</th>\n",
              "      <td>21</td>\n",
              "      <td>25.800</td>\n",
              "      <td>0</td>\n",
              "      <td>2007.94500</td>\n",
              "      <td>1</td>\n",
              "      <td>0</td>\n",
              "      <td>1</td>\n",
              "      <td>0</td>\n",
              "      <td>0</td>\n",
              "      <td>0</td>\n",
              "      <td>0</td>\n",
              "      <td>1</td>\n",
              "    </tr>\n",
              "    <tr>\n",
              "      <th>1337</th>\n",
              "      <td>61</td>\n",
              "      <td>29.070</td>\n",
              "      <td>0</td>\n",
              "      <td>29141.36030</td>\n",
              "      <td>1</td>\n",
              "      <td>0</td>\n",
              "      <td>0</td>\n",
              "      <td>1</td>\n",
              "      <td>0</td>\n",
              "      <td>1</td>\n",
              "      <td>0</td>\n",
              "      <td>0</td>\n",
              "    </tr>\n",
              "  </tbody>\n",
              "</table>\n",
              "<p>1338 rows × 12 columns</p>\n",
              "</div>"
            ],
            "text/plain": [
              "      age     bmi  ...  region_southeast  region_southwest\n",
              "0      19  27.900  ...                 0                 1\n",
              "1      18  33.770  ...                 1                 0\n",
              "2      28  33.000  ...                 1                 0\n",
              "3      33  22.705  ...                 0                 0\n",
              "4      32  28.880  ...                 0                 0\n",
              "...   ...     ...  ...               ...               ...\n",
              "1333   50  30.970  ...                 0                 0\n",
              "1334   18  31.920  ...                 0                 0\n",
              "1335   18  36.850  ...                 1                 0\n",
              "1336   21  25.800  ...                 0                 1\n",
              "1337   61  29.070  ...                 0                 0\n",
              "\n",
              "[1338 rows x 12 columns]"
            ]
          },
          "metadata": {
            "tags": []
          },
          "execution_count": 116
        }
      ]
    },
    {
      "cell_type": "code",
      "metadata": {
        "id": "L4d6fp0ThN2R"
      },
      "source": [
        "# # To numpy for fast computation\n",
        "Y = encoded_data['charges'].to_numpy()\n",
        "X=encoded_data.drop(['charges'],axis=1).to_numpy()"
      ],
      "execution_count": null,
      "outputs": []
    },
    {
      "cell_type": "code",
      "metadata": {
        "id": "SqZI2ZWZhReb"
      },
      "source": [
        "# Split dataset into training set and test set\n",
        "from sklearn.model_selection import train_test_split\n",
        "X_train, X_test, y_train, y_test = train_test_split(X, Y, test_size=0.3, random_state=1) # 70% training and 30% test"
      ],
      "execution_count": null,
      "outputs": []
    },
    {
      "cell_type": "markdown",
      "metadata": {
        "id": "2zYnd8O7IhK9"
      },
      "source": [
        "#### 4. Feature Scaling"
      ]
    },
    {
      "cell_type": "markdown",
      "metadata": {
        "id": "nZ1h4p9bJ2gS"
      },
      "source": [
        "We know our dataset is not yet a scaled value,to do so, we will use Scikit-Learn's StandardScaler class"
      ]
    },
    {
      "cell_type": "code",
      "metadata": {
        "id": "fCiZK0E1JvL1"
      },
      "source": [
        "# Feature Scaling\n",
        "from sklearn.preprocessing import StandardScaler\n",
        "\n",
        "sc = StandardScaler()\n",
        "X_train = sc.fit_transform(X_train)\n",
        "X_test = sc.transform(X_test)"
      ],
      "execution_count": null,
      "outputs": []
    },
    {
      "cell_type": "markdown",
      "metadata": {
        "id": "brXlAAymKBIh"
      },
      "source": [
        "#### 5. Training the Algorithm\n",
        "Now that we have scaled our dataset, it is time to train our random forest algorithm to solve this regression problem. "
      ]
    },
    {
      "cell_type": "code",
      "metadata": {
        "id": "wGIcxyXIhUIn"
      },
      "source": [
        "from sklearn.ensemble import RandomForestRegressor\n",
        "\n",
        "regressor = RandomForestRegressor(n_estimators=20, random_state=0)\n",
        "regressor.fit(X_train, y_train)\n",
        "y_pred = regressor.predict(X_test)"
      ],
      "execution_count": null,
      "outputs": []
    },
    {
      "cell_type": "markdown",
      "metadata": {
        "id": "LRmIcYLBKM1g"
      },
      "source": [
        "The RandomForestRegressor class of the sklearn.ensemble library is used to solve regression problems via random forest. The most important parameter of the RandomForestRegressor class is the n_estimators parameter. This parameter defines the number of trees in the random forest. We will start with n_estimator=20 to see how our algorithm performs. You can find details for all of the parameters of RandomForestRegressor [here](https://scikit-learn.org/stable/modules/generated/sklearn.ensemble.RandomForestRegressor.html)"
      ]
    },
    {
      "cell_type": "markdown",
      "metadata": {
        "id": "N_e_XeW3ksQ1"
      },
      "source": [
        "In case of regression we used the RandomForestRegressor class of the sklearn.ensemble library."
      ]
    },
    {
      "cell_type": "markdown",
      "metadata": {
        "id": "xKbwv9lrgjkb"
      },
      "source": [
        "#### 6. Evaluating our Model"
      ]
    },
    {
      "cell_type": "markdown",
      "metadata": {
        "id": "FCFbcB1zKkvZ"
      },
      "source": [
        "The last and final step of solving a machine learning problem is to evaluate the performance of the algorithm. For regression problems the metrics used to evaluate an algorithm are mean absolute error, mean squared error, and root mean squared error."
      ]
    },
    {
      "cell_type": "code",
      "metadata": {
        "id": "DRJzCkFuiC21",
        "outputId": "5b2255f5-f99e-4e5e-f048-fe0be0a8d2f2",
        "colab": {
          "base_uri": "https://localhost:8080/"
        }
      },
      "source": [
        "from sklearn import metrics\n",
        "import numpy as np\n",
        "print('Mean Absolute Error:', metrics.mean_absolute_error(y_test, y_pred))\n",
        "print('Mean Squared Error:', metrics.mean_squared_error(y_test, y_pred))\n",
        "print('Root Mean Squared Error:', np.sqrt(metrics.mean_squared_error(y_test, y_pred)))"
      ],
      "execution_count": null,
      "outputs": [
        {
          "output_type": "stream",
          "text": [
            "Mean Absolute Error: 2749.0516301805965\n",
            "Mean Squared Error: 24454131.015163943\n",
            "Root Mean Squared Error: 4945.111830400193\n"
          ],
          "name": "stdout"
        }
      ]
    },
    {
      "cell_type": "markdown",
      "metadata": {
        "id": "ORdW6ZjyjASY"
      },
      "source": [
        "If the number of estimators is changed to 200, the results are as follows:"
      ]
    },
    {
      "cell_type": "code",
      "metadata": {
        "id": "l89KqIq0i-1j"
      },
      "source": [
        "from sklearn.ensemble import RandomForestRegressor\n",
        "\n",
        "regressor = RandomForestRegressor(n_estimators=200, random_state=0)\n",
        "regressor.fit(X_train, y_train)\n",
        "y_pred = regressor.predict(X_test)"
      ],
      "execution_count": null,
      "outputs": []
    },
    {
      "cell_type": "code",
      "metadata": {
        "id": "lvyqfSO1v1QP",
        "outputId": "5c32487b-5ac3-4259-e338-5218e92ae730",
        "colab": {
          "base_uri": "https://localhost:8080/"
        }
      },
      "source": [
        "from sklearn import metrics\n",
        "import numpy as np\n",
        "print('Mean Absolute Error:', metrics.mean_absolute_error(y_test, y_pred))\n",
        "print('Mean Squared Error:', metrics.mean_squared_error(y_test, y_pred))\n",
        "print('Root Mean Squared Error:', np.sqrt(metrics.mean_squared_error(y_test, y_pred)))"
      ],
      "execution_count": null,
      "outputs": [
        {
          "output_type": "stream",
          "text": [
            "Mean Absolute Error: 2743.6153022110957\n",
            "Mean Squared Error: 23571535.422954805\n",
            "Root Mean Squared Error: 4855.052566446094\n"
          ],
          "name": "stdout"
        }
      ]
    },
    {
      "cell_type": "code",
      "metadata": {
        "id": "l7SfcJDLyshF"
      },
      "source": [
        "# Import tools needed for visualization\n",
        "from sklearn.tree import export_graphviz\n",
        "import pydot\n",
        "\n",
        "features = encoded_data.drop(['charges'],axis=1)\n",
        "m = list(features.columns)\n",
        "print(len(features.columns),type(features.columns))\n",
        "\n",
        "# Limit depth of tree to 3 levels\n",
        "rf_small = RandomForestRegressor(n_estimators=10, max_depth = 3)\n",
        "rf_small.fit(X_train, y_train)\n",
        "# Extract the small tree\n",
        "tree_small = rf_small.estimators_[5]\n",
        "# Save the tree as a png image\n",
        "export_graphviz(tree_small, out_file = 'small_tree.dot', feature_names = m, rounded = True, precision = 1)\n",
        "(graph, ) = pydot.graph_from_dot_file('small_tree.dot')\n",
        "graph.write_png('small_tree.png');"
      ],
      "execution_count": null,
      "outputs": []
    },
    {
      "cell_type": "code",
      "metadata": {
        "id": "i1_YA2rN6CRa",
        "outputId": "a6e3ceab-1fdc-4195-e5b2-68a48ef23232",
        "colab": {
          "base_uri": "https://localhost:8080/",
          "height": 214
        }
      },
      "source": [
        "from IPython.display import display\n",
        "from PIL import Image\n",
        "img_PIL = Image.open(r'small_tree.png')\n",
        "display(img_PIL)"
      ],
      "execution_count": null,
      "outputs": [
        {
          "output_type": "display_data",
          "data": {
            "image/png": "[encoded data removed]",
            "text/plain": [
              "<PIL.PngImagePlugin.PngImageFile image mode=RGBA size=1619x497 at 0x7F74F32DAAC8>"
            ]
          },
          "metadata": {
            "tags": []
          }
        }
      ]
    },
    {
      "cell_type": "markdown",
      "metadata": {
        "id": "H_SHfBgjgjkf"
      },
      "source": [
        "## **Feature selection for Regression**"
      ]
    },
    {
      "cell_type": "code",
      "metadata": {
        "id": "GAtuNPlTgjkg"
      },
      "source": [
        "# Import your necessary dependencies\n",
        "from sklearn.feature_selection import RFE"
      ],
      "execution_count": null,
      "outputs": []
    },
    {
      "cell_type": "code",
      "metadata": {
        "id": "n6nmh8xkgjkk"
      },
      "source": [
        "rfe = RFE(estimator=regressor,n_features_to_select= 8)\n",
        "fit = rfe.fit(X, Y)"
      ],
      "execution_count": null,
      "outputs": []
    },
    {
      "cell_type": "code",
      "metadata": {
        "id": "-2fe42FJgjkn",
        "outputId": "2fa0869c-4ec9-4288-a3fb-8be2b9abf29b",
        "colab": {
          "base_uri": "https://localhost:8080/"
        }
      },
      "source": [
        "features = fit.transform(X)\n",
        "features[:,:8]"
      ],
      "execution_count": null,
      "outputs": [
        {
          "output_type": "execute_result",
          "data": {
            "text/plain": [
              "array([[19.  , 27.9 ,  0.  , ...,  1.  ,  0.  ,  0.  ],\n",
              "       [18.  , 33.77,  1.  , ...,  0.  ,  0.  ,  0.  ],\n",
              "       [28.  , 33.  ,  3.  , ...,  0.  ,  0.  ,  0.  ],\n",
              "       ...,\n",
              "       [18.  , 36.85,  0.  , ...,  0.  ,  0.  ,  0.  ],\n",
              "       [21.  , 25.8 ,  0.  , ...,  0.  ,  0.  ,  0.  ],\n",
              "       [61.  , 29.07,  0.  , ...,  1.  ,  0.  ,  1.  ]])"
            ]
          },
          "metadata": {
            "tags": []
          },
          "execution_count": 126
        }
      ]
    },
    {
      "cell_type": "code",
      "metadata": {
        "id": "6rNhpOMOgjks"
      },
      "source": [
        "# Split dataset into training set and test set\n",
        "X_train, X_test, y_train, y_test = train_test_split(features, Y, test_size=0.3, random_state=1) # 70% training and 30% test"
      ],
      "execution_count": null,
      "outputs": []
    },
    {
      "cell_type": "code",
      "metadata": {
        "id": "gqddPELOwA9p"
      },
      "source": [
        "\n",
        "regressor1 = RandomForestRegressor(n_estimators=200, random_state=0)\n",
        "regressor1.fit(X_train, y_train)\n",
        "y_pred = regressor1.predict(X_test)"
      ],
      "execution_count": null,
      "outputs": []
    },
    {
      "cell_type": "code",
      "metadata": {
        "id": "KGmfgk45w9Ev",
        "outputId": "5b6c4ba4-99c6-4a18-99ad-57c312cb7081",
        "colab": {
          "base_uri": "https://localhost:8080/"
        }
      },
      "source": [
        "from sklearn import metrics\n",
        "import numpy as np\n",
        "print('Mean Absolute Error:', metrics.mean_absolute_error(y_test, y_pred))\n",
        "print('Mean Squared Error:', metrics.mean_squared_error(y_test, y_pred))\n",
        "print('Root Mean Squared Error:', np.sqrt(metrics.mean_squared_error(y_test, y_pred)))"
      ],
      "execution_count": null,
      "outputs": [
        {
          "output_type": "stream",
          "text": [
            "Mean Absolute Error: 2715.0345044641676\n",
            "Mean Squared Error: 23974045.744367912\n",
            "Root Mean Squared Error: 4896.329823895436\n"
          ],
          "name": "stdout"
        }
      ]
    }
  ]
}