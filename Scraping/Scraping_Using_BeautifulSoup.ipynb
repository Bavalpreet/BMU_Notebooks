{
  "nbformat": 4,
  "nbformat_minor": 0,
  "metadata": {
    "colab": {
      "name": "Scraping_Using_BeautifulSoup.ipynb",
      "provenance": [],
      "collapsed_sections": [
        "b120d0SYcmR7",
        "hxx4et_rgR9U",
        "ysqz1hr2i3ls",
        "avBT2GY9j--2",
        "-2HNibJqsfvs",
        "0rYxVMj4MmLP",
        "c_WfEf3DX6eK",
        "jzXdk923wFoh",
        "8WGFUfrXx0dR",
        "FXigz1Xwy0-u",
        "RZg3Zy1Gz5D_",
        "CzF6mHbh2UXM",
        "zVIsFn9a41kJ",
        "nVRO0LY65gIO"
      ],
      "include_colab_link": true
    },
    "kernelspec": {
      "name": "python3",
      "display_name": "Python 3"
    }
  },
  "cells": [
    {
      "cell_type": "markdown",
      "metadata": {
        "id": "view-in-github",
        "colab_type": "text"
      },
      "source": [
        "<a href=\"https://colab.research.google.com/github/Bavalpreet/BMU_Notebooks/blob/main/Scraping/Scraping_Using_BeautifulSoup.ipynb\" target=\"_parent\"><img src=\"https://colab.research.google.com/assets/colab-badge.svg\" alt=\"Open In Colab\"/></a>"
      ]
    },
    {
      "cell_type": "markdown",
      "metadata": {
        "id": "lYwGrvSBaYgL"
      },
      "source": [
        "The internet is an absolutely massive source of data. Unfortunately, the vast majority if it isn’t available in conveniently organized CSV files for download and analysis. If you want to capture data from many websites, you’ll need to try web scraping."
      ]
    },
    {
      "cell_type": "markdown",
      "metadata": {
        "id": "EKg6LmQ2a_r8"
      },
      "source": [
        "# What is Web Scraping?"
      ]
    },
    {
      "cell_type": "markdown",
      "metadata": {
        "id": "ETilbKM2dt4T"
      },
      "source": [
        "Web scraping is an automated method used to extract large amounts of data from websites. The data on the websites are unstructured. Web scraping helps collect these unstructured data and store it in a structured form. There are different ways to scrape websites such as online Services, APIs or writing your own code. In this notebook, we’ll see how to implement web scraping with python. "
      ]
    },
    {
      "cell_type": "markdown",
      "metadata": {
        "id": "G6sOF9Gddzei"
      },
      "source": [
        "![link text](https://www.edureka.co/blog/wp-content/uploads/2018/11/Untitled-1.jpg)"
      ]
    },
    {
      "cell_type": "markdown",
      "metadata": {
        "id": "zPfckxUzbHjK"
      },
      "source": [
        "Some websites offer data sets that are downloadable in `CSV` format, or accessible via an Application Programming Interface `(API)`. But many websites with useful data don’t offer these convenient options.\n",
        "\n",
        "Consider, for example, the National Weather Service’s website. It contains up-to-date weather forecasts for every location in the US, but that weather data isn’t accessible as a CSV or via API. It has to be viewed on the NWS site."
      ]
    },
    {
      "cell_type": "markdown",
      "metadata": {
        "id": "zBJzyDsQbhwq"
      },
      "source": [
        "![link text](https://www.dataquest.io/wp-content/uploads/2019/01/nws.png)"
      ]
    },
    {
      "cell_type": "markdown",
      "metadata": {
        "id": "i85TDfofcZbt"
      },
      "source": [
        "If we wanted to analyze this data, or download it for use in some other app, we wouldn’t want to painstakingly copy-paste everything. Web scraping is a technique that lets us use programming to do the heavy lifting. We’ll write some code that looks at the NWS site, grabs just the data we want to work with, and outputs it in the format we need."
      ]
    },
    {
      "cell_type": "markdown",
      "metadata": {
        "id": "b120d0SYcmR7"
      },
      "source": [
        "#How Does Web Scraping Work?"
      ]
    },
    {
      "cell_type": "markdown",
      "metadata": {
        "id": "Ubd8w4TCdAFc"
      },
      "source": [
        "When we scrape the web, we write code that sends a request to the server that’s hosting the page we specified. Generally, our code downloads that page’s source code, just as a browser would. But instead of displaying the page visually, it filters through the page looking for HTML elements we’ve specified, and extracting whatever content we’ve instructed it to extract.\n",
        "\n",
        "For example, if we wanted to get all of the titles inside H2 tags from a website, we could write some code to do that. Our code would request the site’s content from its server and download it. Then it would go through the page’s HTML looking for the H2 tags. Whenever it found an H2 tag, it would copy whatever text is inside the tag, and output it in whatever format we specified."
      ]
    },
    {
      "cell_type": "markdown",
      "metadata": {
        "id": "vFmXiZBCeWZ7"
      },
      "source": [
        "To extract data using web scraping with python, you need to follow these basic steps:\n",
        "\n",
        "- Find the URL that you want to scrape\n",
        "- Inspecting the Page\n",
        "- Find the data you want to extract\n",
        "- Write the code\n",
        "- Run the code and extract the data\n",
        "- Store the data in the required format "
      ]
    },
    {
      "cell_type": "markdown",
      "metadata": {
        "id": "hxx4et_rgR9U"
      },
      "source": [
        "#Is web Scraping Legal?\n"
      ]
    },
    {
      "cell_type": "markdown",
      "metadata": {
        "id": "R1zLARBugWnn"
      },
      "source": [
        "Before scraping any website, we should look for a terms and conditions page to see if there are explicit rules about scraping. If there are, we should follow them. If there are not, then it becomes more of a judgement call. Some websites allow web scraping and some don’t. To know whether a website allows web scraping or not, you can look at the website’s <font color='green'>“robots.txt” </font> file. You can find this file by appending `“/robots.txt”` to the URL that you want to scrape."
      ]
    },
    {
      "cell_type": "markdown",
      "metadata": {
        "id": "zzW_8H7LiWiG"
      },
      "source": [
        "[Flipkart's robot.txt file](http://www.flipkart.com/robots.txt)"
      ]
    },
    {
      "cell_type": "markdown",
      "metadata": {
        "id": "SMJ-flFLh4ey"
      },
      "source": [
        "Remember, though, that web scraping consumes server resources for the host website. `If we’re just scraping one page once, that isn’t going to cause a problem. But if our code is scraping 1,000 pages once every ten minutes, that could quickly get expensive for the website owner`.\n",
        "\n",
        "Thus, in addition to following any and all explicit rules about web scraping posted on the site, it’s also a good idea to follow these best practices:\n",
        "\n",
        "- Never scrape more frequently than you need to\n",
        "- Consider caching the content you scrape so that it’s only downloaded once as you work on the code you’re using to filter and analyze it, rather than re-downloading every time you run your code\n",
        "- Consider building pauses into your code using functions like `time.sleep()` to keep from overwhelming servers with too many requests in too short a timespan.\n",
        "\n",
        "In our case for this tutorial, the `NWS’s data` is public domain and its terms do not forbid web scraping, so we’re in the clear to proceed."
      ]
    },
    {
      "cell_type": "markdown",
      "metadata": {
        "id": "ysqz1hr2i3ls"
      },
      "source": [
        "# The Components of a Web Page\n"
      ]
    },
    {
      "cell_type": "markdown",
      "metadata": {
        "id": "rTjWLR5Ti8Ir"
      },
      "source": [
        "When we visit a web page, our web browser makes a request to a web server. This request is called a `GET` request, since we’re getting files from the server. The server then sends back files that tell our browser how to render the page for us. The files fall into a few main types:\n",
        "\n",
        "`HTML` — contain the main content of the page.\n",
        "\n",
        "`CSS` — add styling to make the page look nicer.\n",
        "\n",
        "`JS` — Javascript files add interactivity to web pages.\n",
        "\n",
        "`Images` — image formats, such as JPG and PNG allow web pages to show pictures.\n",
        "\n",
        "After our browser receives all the files, it renders the page and displays it to us. There’s a lot that happens behind the scenes to render a page nicely, but we don’t need to worry about most of it when we’re web scraping. When we perform web scraping, we’re interested in the main content of the web page, so we look at the HTML."
      ]
    },
    {
      "cell_type": "markdown",
      "metadata": {
        "id": "avBT2GY9j--2"
      },
      "source": [
        "#Brief overview of HTML"
      ]
    },
    {
      "cell_type": "markdown",
      "metadata": {
        "id": "Q1wPdJf_kIz_"
      },
      "source": [
        "Let’s take a quick tour through HTML so we know enough to scrape effectively."
      ]
    },
    {
      "cell_type": "markdown",
      "metadata": {
        "id": "g8_jr9L9lGeT"
      },
      "source": [
        "The most basic tag is the `<html>` tag. This tag tells the web browser that everything inside of it is HTML. We can make a simple HTML document just using this tag:"
      ]
    },
    {
      "cell_type": "markdown",
      "metadata": {
        "id": "lURdI3ZIllvZ"
      },
      "source": [
        "![Screenshot from 2020-09-12 19-24-07.png](data:image/png;base64,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)"
      ]
    },
    {
      "cell_type": "markdown",
      "metadata": {
        "id": "lhU_VON8mNIw"
      },
      "source": [
        "We haven’t added any content to our page yet, so if we viewed our HTML document in a web browser, we wouldn’t see anything:"
      ]
    },
    {
      "cell_type": "markdown",
      "metadata": {
        "id": "loS9Sl40mVaN"
      },
      "source": [
        "Right inside an html tag, we put two other tags, the `head` tag, and the `body` tag. <font color='blue'>The main content of the web page goes into the body tag</font>. The head tag contains data about the title of the page, and other information that generally isn’t useful in web scraping:"
      ]
    },
    {
      "cell_type": "markdown",
      "metadata": {
        "id": "aSjSLiC1msHB"
      },
      "source": [
        "![Screenshot from 2020-09-12 19-26-38.png](data:image/png;base64,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)"
      ]
    },
    {
      "cell_type": "markdown",
      "metadata": {
        "id": "yBTH6V33m0oy"
      },
      "source": [
        "We still haven’t added any content to our page (that goes inside the body tag), so we again won’t see anything:"
      ]
    },
    {
      "cell_type": "markdown",
      "metadata": {
        "id": "Z0qCfs19nC1O"
      },
      "source": [
        "You may have noticed above that we put the head and body tags inside the html tag. In HTML, tags are nested, and can go inside other tags.\n",
        "\n",
        "We’ll now add our first content to the page, in the form of the `p` tag. <font color = 'blue'>The `p` tag defines a paragraph, and any text inside the tag is shown as a separate paragraph</font>:"
      ]
    },
    {
      "cell_type": "markdown",
      "metadata": {
        "id": "TspfbH00naA5"
      },
      "source": [
        "![Screenshot from 2020-09-12 19-29-49.png](data:image/png;base64,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)"
      ]
    },
    {
      "cell_type": "markdown",
      "metadata": {
        "id": "9SpkLjOZqkPA"
      },
      "source": [
        "Here’s how this will look:"
      ]
    },
    {
      "cell_type": "markdown",
      "metadata": {
        "id": "TqTBUB-gqltw"
      },
      "source": [
        "![Screenshot from 2020-09-12 19-44-06.png](data:image/png;base64,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)"
      ]
    },
    {
      "cell_type": "markdown",
      "metadata": {
        "id": "vPnbiwuxq870"
      },
      "source": [
        "Tags have commonly used names that depend on their position in relation to other tags:\n",
        "\n",
        "- `child` — a child is a tag inside another tag. So the two p tags above are both children of the body tag.\n",
        "- `parent` — a parent is the tag another tag is inside. Above, the html tag is the parent of the body tag.\n",
        "- `sibiling` — a sibiling is a tag that is nested inside the same parent as another tag. For example, head and body are siblings, since they’re both inside html. Both p tags are siblings, since they’re both inside body.\n",
        "\n",
        "\n",
        "We can also add properties to HTML tags that change their behavior:"
      ]
    },
    {
      "cell_type": "markdown",
      "metadata": {
        "id": "4q1wjmESrP4D"
      },
      "source": [
        "![Screenshot from 2020-09-12 19-46-37.png](data:image/png;base64,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)"
      ]
    },
    {
      "cell_type": "markdown",
      "metadata": {
        "id": "ZA7T1Li-rP1y"
      },
      "source": [
        "Here’s how this will look:"
      ]
    },
    {
      "cell_type": "markdown",
      "metadata": {
        "id": "LtySofO_rjWy"
      },
      "source": [
        "![Screenshot from 2020-09-12 19-47-52.png](data:image/png;base64,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)"
      ]
    },
    {
      "cell_type": "markdown",
      "metadata": {
        "id": "CEqli5lVsWHa"
      },
      "source": [
        "n the above example, we added two `a` tags. `a` tags are links, and tell the browser to render a link to another web page. The `href` property of the tag determines where the link goes."
      ]
    },
    {
      "cell_type": "markdown",
      "metadata": {
        "id": "-2HNibJqsfvs"
      },
      "source": [
        "# The requests library"
      ]
    },
    {
      "cell_type": "markdown",
      "metadata": {
        "id": "ze4OSi3euohY"
      },
      "source": [
        "The first thing we’ll need to do to scrape a web page is to download the page. We can download pages using the Python [requests](https://2.python-requests.org/en/latest/) library. The requests library will make a **`GET`** request to a web server, which will download the HTML contents of a given web page for us. There are several different types of requests we can make using requests, of which **`GET`** is just one."
      ]
    },
    {
      "cell_type": "markdown",
      "metadata": {
        "id": "Qm-f2YG8Flxv"
      },
      "source": [
        "Let’s try downloading a simple sample website, [](https://)http://dataquestio.github.io/web-scraping-pages/simple.html. We’ll need to first download it using the `requests.get` method."
      ]
    },
    {
      "cell_type": "code",
      "metadata": {
        "id": "uU3M9c8UguRf",
        "outputId": "7c02a99c-21bd-4062-c5bc-73351b846033",
        "colab": {
          "base_uri": "https://localhost:8080/",
          "height": 34
        }
      },
      "source": [
        "import requests\n",
        "page = requests.get(\"http://dataquestio.github.io/web-scraping-pages/simple.html\")\n",
        "page"
      ],
      "execution_count": null,
      "outputs": [
        {
          "output_type": "execute_result",
          "data": {
            "text/plain": [
              "<Response [200]>"
            ]
          },
          "metadata": {
            "tags": []
          },
          "execution_count": 1
        }
      ]
    },
    {
      "cell_type": "markdown",
      "metadata": {
        "id": "zputnFoSKdUu"
      },
      "source": [
        "After running our request, we get a [Response](https://2.python-requests.org/en/master/user/quickstart/#response-content) object. This object has a status_code property, which indicates if the page was downloaded successfully:"
      ]
    },
    {
      "cell_type": "code",
      "metadata": {
        "id": "7MDH9Q2pKHeq",
        "outputId": "496f4890-99c0-4f9d-8b16-80a1dc677b49",
        "colab": {
          "base_uri": "https://localhost:8080/",
          "height": 34
        }
      },
      "source": [
        "page.status_code"
      ],
      "execution_count": null,
      "outputs": [
        {
          "output_type": "execute_result",
          "data": {
            "text/plain": [
              "200"
            ]
          },
          "metadata": {
            "tags": []
          },
          "execution_count": 2
        }
      ]
    },
    {
      "cell_type": "markdown",
      "metadata": {
        "id": "keFrScMpK9zv"
      },
      "source": [
        "**NOTE** Status_code of `200` means that the page downloaded successfully. We won’t fully dive into status codes here, but a status code starting with a <font color = 'green'>`2`</font> generally indicates success, and a code starting with a <font color = 'red'>`4`</font> or a <font color = 'red'>`5`</font> indicates an error.\n",
        "\n",
        "We can print out the HTML content of the page using the **`content`** property:\n",
        "\n"
      ]
    },
    {
      "cell_type": "code",
      "metadata": {
        "id": "D5rFRNCeK8pw",
        "outputId": "95674b30-683a-4321-e8a2-72e3e3abe434",
        "colab": {
          "base_uri": "https://localhost:8080/",
          "height": 54
        }
      },
      "source": [
        "page.content"
      ],
      "execution_count": null,
      "outputs": [
        {
          "output_type": "execute_result",
          "data": {
            "text/plain": [
              "b'<!DOCTYPE html>\\n<html>\\n    <head>\\n        <title>A simple example page</title>\\n    </head>\\n    <body>\\n        <p>Here is some simple content for this page.</p>\\n    </body>\\n</html>'"
            ]
          },
          "metadata": {
            "tags": []
          },
          "execution_count": 3
        }
      ]
    },
    {
      "cell_type": "markdown",
      "metadata": {
        "id": "0rYxVMj4MmLP"
      },
      "source": [
        "# Parsing a page with BeautifulSoup"
      ]
    },
    {
      "cell_type": "markdown",
      "metadata": {
        "id": "u8rYr9-IMqyt"
      },
      "source": [
        "We can use the [BeautifulSoup](https://www.crummy.com/software/BeautifulSoup/) library to parse this document, and extract the text from the `p` tag. We first have to import the library, and create an instance of the BeautifulSoup class to parse our document:"
      ]
    },
    {
      "cell_type": "code",
      "metadata": {
        "id": "96dcI8CuMpnj"
      },
      "source": [
        "from bs4 import BeautifulSoup\n",
        "soup = BeautifulSoup(page.content, 'html.parser')"
      ],
      "execution_count": null,
      "outputs": []
    },
    {
      "cell_type": "markdown",
      "metadata": {
        "id": "7a5ACeWfOO1M"
      },
      "source": [
        "We can now print out the HTML content of the page, formatted nicely, using the `prettify` method on the BeautifulSoup object:"
      ]
    },
    {
      "cell_type": "code",
      "metadata": {
        "id": "J3QUq56aOAhd",
        "outputId": "0d81ceb2-7152-4688-da78-88336b17c5b2",
        "colab": {
          "base_uri": "https://localhost:8080/",
          "height": 235
        }
      },
      "source": [
        "print(soup.prettify())"
      ],
      "execution_count": null,
      "outputs": [
        {
          "output_type": "stream",
          "text": [
            "<!DOCTYPE html>\n",
            "<html>\n",
            " <head>\n",
            "  <title>\n",
            "   A simple example page\n",
            "  </title>\n",
            " </head>\n",
            " <body>\n",
            "  <p>\n",
            "   Here is some simple content for this page.\n",
            "  </p>\n",
            " </body>\n",
            "</html>\n"
          ],
          "name": "stdout"
        }
      ]
    },
    {
      "cell_type": "markdown",
      "metadata": {
        "id": "27LJTot9OO7l"
      },
      "source": [
        "As all the tags are nested, we can move through the structure one level at a time. We can first select all the elements at the top level of the page using the `children` property of `soup`. Note that `children` returns a list generator, so we need to call the `list` function on it:"
      ]
    },
    {
      "cell_type": "code",
      "metadata": {
        "id": "sKJmT__YPMlW",
        "outputId": "a079bdc3-3e0e-4c8a-da0c-36be79bf47ef",
        "colab": {
          "base_uri": "https://localhost:8080/",
          "height": 151
        }
      },
      "source": [
        "list(soup.children)"
      ],
      "execution_count": null,
      "outputs": [
        {
          "output_type": "execute_result",
          "data": {
            "text/plain": [
              "['html', '\\n', <html>\n",
              " <head>\n",
              " <title>A simple example page</title>\n",
              " </head>\n",
              " <body>\n",
              " <p>Here is some simple content for this page.</p>\n",
              " </body>\n",
              " </html>]"
            ]
          },
          "metadata": {
            "tags": []
          },
          "execution_count": 6
        }
      ]
    },
    {
      "cell_type": "markdown",
      "metadata": {
        "id": "TXVohxIwPgjw"
      },
      "source": [
        "The above tells us that there are two tags at the top level of the page — the initial `<!DOCTYPE html>` tag, and the `<html>` tag. There is a newline character (n) in the list as well. Let’s see what the type of each element in the list is:"
      ]
    },
    {
      "cell_type": "code",
      "metadata": {
        "id": "zSChVXcVPUqJ",
        "outputId": "70e0191b-88f9-4d7c-d37c-2e59931a8eb8",
        "colab": {
          "base_uri": "https://localhost:8080/",
          "height": 34
        }
      },
      "source": [
        "[type(item) for item in list(soup.children)]"
      ],
      "execution_count": null,
      "outputs": [
        {
          "output_type": "execute_result",
          "data": {
            "text/plain": [
              "[bs4.element.Doctype, bs4.element.NavigableString, bs4.element.Tag]"
            ]
          },
          "metadata": {
            "tags": []
          },
          "execution_count": 7
        }
      ]
    },
    {
      "cell_type": "markdown",
      "metadata": {
        "id": "IlSAnxu-P_-5"
      },
      "source": [
        "As you can see, all of the items are **`BeautifulSoup`** objects. The first is a **`Doctype`** object, which contains information about the type of the document. The second is a **`NavigableString`**, which represents text found in the HTML document. The final item is a **`Tag`** object, which contains other nested tags. The most important object type, and the one we’ll deal with most often, is the Tag object."
      ]
    },
    {
      "cell_type": "markdown",
      "metadata": {
        "id": "MPquLyZyS2bQ"
      },
      "source": [
        "The **`Tag`** object allows us to navigate through an HTML document, and extract other tags and text. You can learn more about the various **`BeautifulSoup`** objects [here](https://www.crummy.com/software/BeautifulSoup/bs4/doc/#kinds-of-objects)."
      ]
    },
    {
      "cell_type": "code",
      "metadata": {
        "id": "YNYu14FJPphq"
      },
      "source": [
        "html = list(soup.children)[2]"
      ],
      "execution_count": null,
      "outputs": []
    },
    {
      "cell_type": "code",
      "metadata": {
        "id": "pbBNsV3fWMaw",
        "outputId": "ba0d561c-eef5-4422-a5ad-735f7244d54a",
        "colab": {
          "base_uri": "https://localhost:8080/",
          "height": 151
        }
      },
      "source": [
        "html"
      ],
      "execution_count": null,
      "outputs": [
        {
          "output_type": "execute_result",
          "data": {
            "text/plain": [
              "<html>\n",
              "<head>\n",
              "<title>A simple example page</title>\n",
              "</head>\n",
              "<body>\n",
              "<p>Here is some simple content for this page.</p>\n",
              "</body>\n",
              "</html>"
            ]
          },
          "metadata": {
            "tags": []
          },
          "execution_count": 9
        }
      ]
    },
    {
      "cell_type": "markdown",
      "metadata": {
        "id": "RA-Do5XbWR7y"
      },
      "source": [
        "Each item in the list returned by the children property is also a BeautifulSoup object, so we can also call the children method on html.\n",
        "\n",
        "Now, we can find the children inside the html tag:"
      ]
    },
    {
      "cell_type": "code",
      "metadata": {
        "id": "PK4Nr1nKWNaG",
        "outputId": "427d04b5-ae98-47fe-8367-4035e581fdb9",
        "colab": {
          "base_uri": "https://localhost:8080/",
          "height": 101
        }
      },
      "source": [
        "list(html.children)"
      ],
      "execution_count": null,
      "outputs": [
        {
          "output_type": "execute_result",
          "data": {
            "text/plain": [
              "['\\n', <head>\n",
              " <title>A simple example page</title>\n",
              " </head>, '\\n', <body>\n",
              " <p>Here is some simple content for this page.</p>\n",
              " </body>, '\\n']"
            ]
          },
          "metadata": {
            "tags": []
          },
          "execution_count": 10
        }
      ]
    },
    {
      "cell_type": "markdown",
      "metadata": {
        "id": "vcVt8JGQWtSw"
      },
      "source": [
        "As you can see above, there are two tags here, head, and body. We want to extract the text inside the `p` tag, so we’ll dive into the body:"
      ]
    },
    {
      "cell_type": "code",
      "metadata": {
        "id": "pypOapXaWVNE"
      },
      "source": [
        "body = list(html.children)[3]"
      ],
      "execution_count": null,
      "outputs": []
    },
    {
      "cell_type": "code",
      "metadata": {
        "id": "zLANGxkEW41_",
        "outputId": "ce49d999-fc52-473e-da4e-0e808be74acc",
        "colab": {
          "base_uri": "https://localhost:8080/",
          "height": 67
        }
      },
      "source": [
        "body"
      ],
      "execution_count": null,
      "outputs": [
        {
          "output_type": "execute_result",
          "data": {
            "text/plain": [
              "<body>\n",
              "<p>Here is some simple content for this page.</p>\n",
              "</body>"
            ]
          },
          "metadata": {
            "tags": []
          },
          "execution_count": 12
        }
      ]
    },
    {
      "cell_type": "markdown",
      "metadata": {
        "id": "AZcCp2qyXMPc"
      },
      "source": [
        "Now, we can get the `p` tag by finding the children of the `body` tag:"
      ]
    },
    {
      "cell_type": "code",
      "metadata": {
        "id": "wJpWWNrGW50i",
        "outputId": "0a8553af-2d25-466e-b8fc-2d6ef6d87aba",
        "colab": {
          "base_uri": "https://localhost:8080/",
          "height": 34
        }
      },
      "source": [
        "list(body.children)"
      ],
      "execution_count": null,
      "outputs": [
        {
          "output_type": "execute_result",
          "data": {
            "text/plain": [
              "['\\n', <p>Here is some simple content for this page.</p>, '\\n']"
            ]
          },
          "metadata": {
            "tags": []
          },
          "execution_count": 13
        }
      ]
    },
    {
      "cell_type": "markdown",
      "metadata": {
        "id": "cbq438kCXeu-"
      },
      "source": [
        "We can now isolate the p tag:"
      ]
    },
    {
      "cell_type": "code",
      "metadata": {
        "id": "JPUYdDOLXSjc"
      },
      "source": [
        "p = list(body.children)[1]"
      ],
      "execution_count": null,
      "outputs": []
    },
    {
      "cell_type": "markdown",
      "metadata": {
        "id": "kgiLQXGCXl2t"
      },
      "source": [
        "Once we’ve isolated the tag, we can use the `get_text` method to extract all of the text inside the tag:"
      ]
    },
    {
      "cell_type": "code",
      "metadata": {
        "id": "GTa5Z_bFXqN6",
        "outputId": "d71448f5-95fa-4d59-db65-442bcbf15ed3",
        "colab": {
          "base_uri": "https://localhost:8080/",
          "height": 35
        }
      },
      "source": [
        "p.get_text()"
      ],
      "execution_count": null,
      "outputs": [
        {
          "output_type": "execute_result",
          "data": {
            "application/vnd.google.colaboratory.intrinsic+json": {
              "type": "string"
            },
            "text/plain": [
              "'Here is some simple content for this page.'"
            ]
          },
          "metadata": {
            "tags": []
          },
          "execution_count": 15
        }
      ]
    },
    {
      "cell_type": "markdown",
      "metadata": {
        "id": "c_WfEf3DX6eK"
      },
      "source": [
        "# Finding all instances of a tag at once"
      ]
    },
    {
      "cell_type": "markdown",
      "metadata": {
        "id": "lPGQhCG5YFMN"
      },
      "source": [
        "What we did above was useful for figuring out how to navigate a page, but it took a lot of commands to do something fairly simple. If we want to extract a single tag, we can instead use the find_all method, which will `find all` the instances of a tag on a page."
      ]
    },
    {
      "cell_type": "code",
      "metadata": {
        "id": "4UWTgtqtXxdQ",
        "outputId": "2a87a312-d625-40d7-9582-faec67118080",
        "colab": {
          "base_uri": "https://localhost:8080/",
          "height": 34
        }
      },
      "source": [
        "soup = BeautifulSoup(page.content, 'html.parser')\n",
        "soup.find_all('p')"
      ],
      "execution_count": null,
      "outputs": [
        {
          "output_type": "execute_result",
          "data": {
            "text/plain": [
              "[<p>Here is some simple content for this page.</p>]"
            ]
          },
          "metadata": {
            "tags": []
          },
          "execution_count": 16
        }
      ]
    },
    {
      "cell_type": "markdown",
      "metadata": {
        "id": "t7ePn3wIuhk7"
      },
      "source": [
        "Note that **`find_all`** returns a list, so we’ll have to loop through, or use list indexing, it to extract text:"
      ]
    },
    {
      "cell_type": "code",
      "metadata": {
        "id": "T7p8nlpHfRYb",
        "outputId": "31150f51-7e7a-4d22-fbde-e385b573b09f",
        "colab": {
          "base_uri": "https://localhost:8080/",
          "height": 35
        }
      },
      "source": [
        "soup.find_all('p')[0].get_text()"
      ],
      "execution_count": null,
      "outputs": [
        {
          "output_type": "execute_result",
          "data": {
            "application/vnd.google.colaboratory.intrinsic+json": {
              "type": "string"
            },
            "text/plain": [
              "'Here is some simple content for this page.'"
            ]
          },
          "metadata": {
            "tags": []
          },
          "execution_count": 17
        }
      ]
    },
    {
      "cell_type": "markdown",
      "metadata": {
        "id": "RaFPMPbCvU4s"
      },
      "source": [
        "If you instead only want to find the first instance of a tag, you can use the **`find`** method, which will return a single BeautifulSoup object:"
      ]
    },
    {
      "cell_type": "code",
      "metadata": {
        "id": "iartmWFJu38V",
        "outputId": "9f2b2757-7055-494c-f64a-7e4c04ebfbe8",
        "colab": {
          "base_uri": "https://localhost:8080/",
          "height": 34
        }
      },
      "source": [
        "soup.find('p')"
      ],
      "execution_count": null,
      "outputs": [
        {
          "output_type": "execute_result",
          "data": {
            "text/plain": [
              "<p>Here is some simple content for this page.</p>"
            ]
          },
          "metadata": {
            "tags": []
          },
          "execution_count": 18
        }
      ]
    },
    {
      "cell_type": "markdown",
      "metadata": {
        "id": "jzXdk923wFoh"
      },
      "source": [
        "# Searching for tags by class and id"
      ]
    },
    {
      "cell_type": "markdown",
      "metadata": {
        "id": "1ZW-KSTswNpi"
      },
      "source": [
        "Classes and ids are used by CSS to determine which HTML elements to apply certain styles to. We can also use them when scraping to specify specific elements we want to scrape. To illustrate this principle, we’ll work with the following page:"
      ]
    },
    {
      "cell_type": "markdown",
      "metadata": {
        "id": "S1FpdC8rwUQg"
      },
      "source": [
        "![Screenshot from 2020-09-13 10-07-33.png](data:image/png;base64,iVBORw0KGgoAAAANSUhEUgAAA1YAAALbCAYAAAD5BRHZAAAABHNCSVQICAgIfAhkiAAAABl0RVh0U29mdHdhcmUAZ25vbWUtc2NyZWVuc2hvdO8Dvz4AAAAydEVYdENyZWF0aW9uIFRpbWUAU3VuZGF5IDEzIFNlcHRlbWJlciAyMDIwIDEwOjA3OjQzIEFNb6liSgAAIABJREFUeJzs3X1cVNedP/BP3fklN+60XBMSxpTEm6wRjEkGawLaJDK7awi2iqSmEJsESXxAq4S1SjG1rHStq1lM+aVoUbERUZeoJCAk8Ymsg6SLQFMekgiCKyOxMk5YZphS5mY6P8/vjwF5xtHB58/79fq+gjPnnnPuuXcm98s99/AtAAJERERERER0xUZc7w4QERERERHd7JhYEREREREReYmJFRERERERkZeYWBEREREREXmJiRUREREREZGXmFgRERERERF5iYkVERERERGRl5hYEREREREReYmJFRERERERkZeYWBEREREREXmJiRUREREREZGXmFgRERERERF5iYkVERERERGRl5hYEREREREReYmJFRERERERkZeYWBEREREREXmJiRUREREREZGXmFgRERERERF5iYkVERERERGRl5hYEREREREReenaJlZaGbJ0TVskIiIiIiK66q5ZYqUkFMJqOYJ/mXBNWkPCUTsczq6wIG8uMzoiIiIiIro6rlliJUl3wdPURjcjERk7kxHpe6WtmXHo7aVYvHgpFr9dDNuVVkNEREREROSBG/IZqzFPRyF2dijGaK+0BhV1H2Yj6/fZeK/4DNTh7BwREREREVEfN2RiRUREREREdDO5eomVrx7Ry2MQ0vOuk2YM5uY0oNluh6O1AZUfb0B0YPcEQWluLqxOO4zLAwBNMNbX93hO6mg8FADKyxthrG+C1W5B84kiZKR1/ttSA2NqBHSX00dtMGKXRyHoiqccEhERERERXYXEStZHISmzCLX1JchaHY8Xnuz5ZJUKW9V+bHlrDd7aUQ1p8kJk5SQjpLOI+od0LHptKVI+PA+4TmLPsqVYvMAdsW8dhhmA32MhCPE9g6zEFfi/dWMQuyQC+CgVKe+3Qb/kbawO93yRCkk/Cwmrt6G0vgbG7YmIniQP61gQEREREdHtQ3gdGlkERSeKjKM1wuq0C+vpIpGzJkYYFOlimcCkIuHoqBApk7q3C1pdIhzOGpFmkHrVF7KuQjg6ikSC0r+tkHUVwnFum4iUIKQZ20RjR41Y/7QkoI0ReXa7KF0V0Ku8FL5RNDotIm+uNGDfJf9gEbtmmzCetgiH0yJqj24USdF6IWuGYVwYDAaDwWAwGAzGbRFe37GSnk7EgRP1KN2ZCAPKsf61aRg/bhrmJGfDaBp62Yi6z6phhg7KmCts3OWu/87/4/5ZVQFoLm9ZdfVsObKS58Mw7nFMeTUVRkzFyp0laDxRiBQDl2gnIiIiIqJL834qoKLHZEWCairDwdy92LO/HGaXh9u2q1AhXXYydFW4zqPqo33Yn3sYx00qJCUE+itN+IiIiIiI6LbidWKl7p6PiWFLsaVKxkupuaitr0BeejwiJ1z580rfeNp2czny3z+MarN3C6rLgWFISM9FZX0N8lKjIFdlYtkPgjFnBxdqJyIiIiKiSxuGxStUmIzZWBn1LB56dCaW7T4J3ey1yKmsR+3HGxA94fJrtNnaAM19UJRL3MmqzsayV1cgq26I3lnbYHNJGKUb4PZTYBTSPq5B7Z9ysX62H+p2r8D0R8dhStQqbC4y8e9fERERERGRRzTDWZlqKsbmxGJsTlZgmLsAca+Mwai/Xn495k/LYHLFIzZtG755rwxWaQzGyzVIScy+/Mq+LEO1LR7RSzYgTXMMbfIY+JkysXhTNaDK0H27BjuWxWPzjmJc4pEwIiIiIiKiAQ1rYnWRaoJxyyoYt1zh5n9IxeJfjcG6JWFIWBMBtJ9H1aF6XNHkwvYCpCzbCmVNFGJXhwItJ3F8UzYkAKppK+Y8u/XKOklERERERNTpW3AvD0hERERERERXaNj/QDAREREREdHthokVERERERGRl5hYEREREREReYmJFRERERERkZeYWBEREREREXmJiRUREREREZGXmFgRERERERF5iYkVERERERGRl5hYEREREREReYmJFRERERERkZeYWBEREREREXmJiRUREREREZGXmFgRERERERF56domVloZsnRNW+xPcwP0gYiIiIiIbinXLLFSEgphtRzBv0y4Vi32J83YiNrWemTMZmZFRERERETD55olVpJ0F657OiNJvFtFRERERETDjs9YEREREREReYmJFRERERERkZeuXmLlq0f08hiEaHu8phmDuTkNaLbb4WhtQOXHGxAd2GdunhyM2PRCVDZZ4OiwoPlEITLm6XtPI5wUj7yazno6LLCeLkFeahT6VqULT0ROaQOsdjuslhocXB7cux5tMGKXRyHId1j3nIiIiIiIbjOa4a5Q1kchbulCxM4OhqI5iXc+24syo9r5rgpb1X7srz4P+IYgeu5CZOV8A9OUVShTAUjBSCrMRYr+Gxh3pGJLHRDw4kIsysiFrD6DObvPu6s5fxLG97fCaD6PNvhAmRyFuISNyHGZMPHNcgCAZFiLA3vjoZiLkfX2VrTJATD8MKJXYiXpZyFhdTwCV/0SZft3ImNjJvZ8ZhvuISEiIiIiotuA8Do0sgiKThQZR2uE1WkX1tNFImdNjDAo0sUygUlFwtFRIVImdW8XtLpEOJw1Is3gLqfEFQqrs0kcSAjorlsbKtJO2IW1JF4omsH6oIiEErtwlCaLQA0E4CdiCyzC0VooEsZ2l5Ne3CaanRaR83J3vyT/YBG7ZpswnrYIh9Miao9uFEnReiEP2haDwWAwGAwGg8Fg9A6vpwJKTyfiwIl6lO5MhAHlWP/aNIwfNw1zkrNhNKlDblv3WTXM0EEZAwAyDM+HQLIdQ9aeM5C0kjtQjeOf2SAFhCCk6/6afxiScopQe84Ch9MOq+UIVuoB+PjARwNACoEhSIJ6vBB7Tg3df/VsObKS58Mw7nFMeTUVRkzFyp0laDxRiBQDlxAkIiIiIqJL834qoKLHZEWCairGwdy92LO/HGaXh9u2q1AhARoJgAyfeyVAjkBWk6V/WZcPRkkAXHok5exCyoQzyN/0S6R8ZsI3dyqIXLUB0V17o5HhIwNqmxkeT+xznUfVR/uw39cPyndjYFBCoB/j6cZERERERHQ78zqxUnfPx8Q/R2HRTxdgbmouFq06iYPvZ2PH5p3I//Jynleyoe1rFWg5hpWvp6O6X3JmQ107gIAwRE6SULdpCeYkl3e+J0F+eQOix3b+02WG2QZI9+ggAzBfomU5MAxzlyxE7OwwBMo2VH2YiWU/zURW0dB33IiIiIiIiIBhWRVQhcmYjZVRz+KhR2di2e6T0M1ei5zKetR+vAHREzytxwbjJ2VQffWY6FMHY1Fxn6h23wn7f91bDDpRTy2H8bgN0uRXsWjSENP5AqOQ9nENav+Ui/Wz/VC3ewWmPzoOU6JWYXORCUyriIiIiIjIE8O6KqBqKsbmxGJsTlZgmLsAca+Mwai/er69accavPPKh0jK/BRK5H4Yq87AChmj/f3Q/P4KvGNUgVOHcejLRCTN24TtyEZxXRtUyQ/PKz1rsmH/2nSUGZKRVHgEAbsLcNwMjA7ps2y7KkP37RrsWBaPzTuKcYlHwoiIiIiIiAZ1TVbJGGhVQMmwQdQ67SJvntxdVtaL2NRcUVrfJKwdduGwW0RjTZFYP6NHmbERImVviag9ZxHWDruwtjaJxvoKYdy5sHNVQHfIk2JEWkGFaGy1C4fTLqyWBlFbskskhEhXfX8ZDAaDwWAwGAzG7RPf6vyBiIiIiIiIrtAwPGNFRERERER0e2NiRURERERE5CUmVkRERERERF5iYkVEREREROQlJlZEREREREReYmJFRERERETkJSZWREREREREXmJiRURERERE5CUmVkRERERERF5iYkVEREREROQlJlZEREREREReYmJFRERERETkJSZWREREREREXmJiRURERERE5KUbMLGSYFhXgubWGuTMC7jCOhQkHLXD4ewKC/LmSsPayxvDcIyVZ0LWVfQYTzsaM8NwK47ocOBYeUkKQ8ZpO6wfxEB3udtq9Eg43ABrUyGSJl1h+9oY5Nl7fH90FCFBucK6iIiI6LZxjRMrGYYlG5CVFoNAzWBldNBP1kPWKpg8eczgF6SBUUjJ3IakaQOVMOPQ20uxePFSLH67GLZh6buHtBHIanIncwfi/K5yYx6O1TA4mbvGPZ7xW1GlXsWGbgEcK+9Iz0TA4K/C+NEhmHu+odEjNm0bMpboh9hYD8OTfpB0IZj8mDx4uaG+P9RjeCfe/f2Rkm+6wr0gIiKi25G4dqGIhKN24ahcK4I0g5eTJ0WJlDXxIlwZvIw0Y6NodFpE3lxpyDalcM/KDVdIL24TjU67cDjtwvrxQqG7yu15MlbDGtookdNqF42ZYUK6pufOTRgcqysISRjSa4SjtVAs0vUdzxiRZ7/UeEoi8MVEsX5VhAiUBm/H0++PoDUVwtFRJBKU6z0uDAaDwWAwbvQY9L7R9WT7bC9SPrvevbgSMmbNDoPOVoz8P+oR+cxMRPpvxeazV6/Fm3esiAYghWDW8wrU4xuRb7508f5U1OWmYuVw94uIiIjoEq7eVEBfPaKXxyBECwASwjMb4HDWYP3TACbEo7Sj+xmGynXBADx8NkWJh7Gj6/kLCeGZlu5t7LmI1V5mP+VgxKYXorLJAkeHBc0nCpExT9+jXT+Ex8UjcsIQ04ou1hWGyFAZNuNOvLnjGGxSCGb98EqmA/rBsGobjCeaYO2ww2G3oPl0BYxrQi/2y5OxUl7eCGN9E6x2C5pPFCEjrfPflhoYUyMuPr8iR65FXmkNGi3usbRaalCak4zIsVc2uVCZkYyckho02+2wtjagdG8ywpUrqckPhuUbL46DtakCealRCOzqlhKFnCY7rKXJnecZAEgIWlUEa0cNMmZ0HzNl3jZUnu4czw4LGmvcx7mrxE09Vho9Fu0sQmV9E6z2zv2rLERGXDB6nbVSKFKO1qCxtUffB2pPF4qE7UWoPddVrgG1pYXImNvzOb5LHJtBSVCmLUTCiwM/EyhNnolwRcXxj/Z3TwPU6LG+0g5H60aES4Bubi6sF8/9BmTMkODxc5U38vcHERER3fSG9RaYrI8SSZlForbVLhz2CrHe4J5qowuJENFzF4qsGrtwnN4lkubGiNi5MSJ2bpSI1Mud20aI6LkxInbeBlE62JQfbYAIfzlGxK4rFM1OiyhN76onRkS/HCqUPlMMh5wKKAWLpJIm4bA3iAPpiWLRkkSRdrRBOJwNIudlv872IkTGabtwdDSJ2o83iITIACEPsu9S5DbR6GwSOS/LAnKUyLHYhfWDmEHLDxZKnHvfKnPWioS4GLFoSbxISd0o0uYF9BjnS49VyLoK4WgtEWlxMSLpgwbhcDYJY1q8SMgoEdaOBpER7h6TwKQi93uZySJpeaJIySh0H7/6bSLav+/4Dz29TRe9TdR22EVzxS6RkrBQJKzZJSpb7cJakSxChpia1T9kYUirEFanRdR+sFYkLFkoUraXiGanXdSmh10cU3nGRlHbYbn4mjQpWZS29i4DQEiGhSJlVbxYFBcjFiUki4yjDcLRUSMyZkg3/1hJESLrnF04TuSK9asSRdKqtSKrtEk4nBZhXKXvblsTICKTkkXCkoUidt5CkbCus72j8SKw63OjDRXrKyzCYa8RBzI69zGtUDQ67aIxo2s/PDs2vcdCEYa4tSKvskk4nHbR/EHMANNkJWFIqxEOe2GfqXeyCJoR5T7XO+yi+fDai5/52JcjRIi/e9vA8Cj3a2vcn58BP/OX+f0x5FTAYf7+YDAYDAaDcdPHMFSikUVQdKLIOFojrE67sJ4uEjlrYoRB6Xth49kzVp48mzIcz1gpcYXC6mwSBxICerQdKtJO2IW1JL77IkuriPAla0VORZOwOu2i+UShSFseIQLlnvVJIjyzQThac0WsLwQgi9gCi3BYdoloeYh97Rc96vFkuyHGKmRdhXCc2yYiJQhpxjbR2FEj1j8tXXxWpXSVe78Dk4qEo6NCpEzq3lbX+axYZWpw73qHOjaSe+wcJzaI8B59V5YUCquz4WIS41Hok90JY05UjwtwPxGd03OM3eNlWFchrB0NImduhEgptQhrzQZhuNTYyTEir9UuatNChXSzj1VnYmXdG9XdjqQXSSUW4bDkiti+zyr1PUfshWKRb8/2m8SBOKXHWC0UBzp6JFYeHxsISQkVi1JzReU5d3JRWTBEciEFuz97R+OFMuC57skzVp49Vzkcz1gN7/cHg8FgMBiMmz28ngooPZ2IAyfqUbozEQaUY/1r0zB+3DTMSc6G0XQjL4kmw/B8CCTbMWTtOQNJK7kD1Tj+mQ1SQAhCup5Aazfh4KZVmPPUOEwMW4ot1TIiV+9CZX0FcrpWKJNC8HyoH9Q/HsbBFgCwwfhJGVQ5BNMNlzNNTEXVoWKYpDCsO7oL6+PCEDgcs4hc7mNx5/9x/6yqADSD98v84VbknwICn3keiqdP4unDYFCAqvf34rhLujimtk/LUefyQ9CkMR53V5kWiiDJhIM7DsPWdWy0bSj+tA6qdhz0QV19V2H81Xys/8wHkZm7kDThDLa88UsY+ywFKT8dj4yjNWhsdU8Ts574NQwSIPv69G/8JhurAanV2JJ1DKocjOef6ey7FIDIdbko7ZoSaW9C/rwxgEaGjy8ASAgJ7fpMmAat2qNjo1EQnVmCxhOFSHvZD6Y9K/DC98ZhYsQKvJN/csCVOqVJUQhXVFR/WIjBW79RDPP3BxEREd30vF+8QtFjsiJBNRXjYO5e7NlfDrNrGHp21cnwuVcC5AhkNVn6v+3ywSgJQK/cUIXJWID3ZB/4+esQGxKAyUF+kACoE6bC4A/U7S6DKsuQAdiOl6POFeq+WM0vhqdppjl3Kaa3n0TKqlcRl56LhHUmlL2/EUlvbkVZi5e77SnVAtN5AN/1gU4D1HlwTKV7fSBrAF1SEZqT+r9vknWQcNKjcfDz9QGgILagCbH93rVhVM9kU63G/g9rsDIkGJLtJCpP9WlBWYjt+9bC0F6MLb/6NY7/j4o7vzsV/7JuIRQP+nJJ13msBu3WeTNskCHf406sDOt2IWeJH6p2p2PZRydhhgT9T36JlPCuLXTQ3SsBNjPOD9GwZ8fGB+Of1EPW2FD1SQHe27UfB+uG2hsJ+shQKK4abN5vupLdvcaG+fvj2nSaiIiIriKvEyt193xM/HMUFv10Aeam5mLRqpM4+H42dmzeifwv+/5e2uH+z98Bd3rbsNfJmw1tX6tAyzGsfD0d1f3qs6Guvcc/ffWInrcAsXOjYBgLmMsK8NaCrdi8uxwq3L/FD9QAWFWC5lV9qnpmKgI1xajyuM8qTAdTEXswFdLYULw0Lx5JSzbgYJAfwp9dg7IruApTm8uR/76KarOHG2vuw2gZQFsbbB72W/3aXda85RW8+VFbv/cdZ6s9voA839IGwIQ9i1cg68w3/d439/gDUVJIMrYnBcNcdBjq5Ais/00MyqKyL971kJ+fCYPveby38MdY+WHndhIwffXAidXNNlaDke7RQYYNNpvaudpeAFC2BnNeS704NqZ/WIiU8K5Pow1tf1EBrYyhbpJ6dGxc1Uj5x2dRFbcAcfMSkVWaiPVlBdixbSs27ylHv6HVPIEXng8AqtfgkKlflZ1Uzz73w1VmSMP7/UFEREQ3v2FYbl2FyZiNlcZspCihiF2yAHNfXoucuGSYirKRkrgCe77sKvuN+8ItwA+jJQDtg1TpssHWDsh+ukF/m6ta22BzSdD5jwFwcvDedZYbpetbrnOq3gw9JvrU4Z095weuQNJjUfrbSJgdDEVzHmX707H4ta3IKutZ3g/hoU8ApgIs+1k2TD0usgJe34T14aEI9V+DKtOg3Ry8/6eKkfVmMWpRAWNCGKb/wxqUfdmjgAdjBQCozsayV7v26dLtSiGz8HwAYNpxrPcdmKHaqz4M49l4xD6phy15DaoGO74eMBUVo2pNIvSPfYOq3w/xR57lMKzLjEfg/6Tjhag1sC35EEfX/BppccfwwhZTr6J3eXq232RjNTAFkbOCIanVON43E9dgkMTChqrqk0B4KCJnyMjPHXjUPT42tmrkv7UU+W/9EkEvLkDcwleRkBmFhDXVOLjpl1j8Vo9tJ83C82OBsrUFg9/xc6loawfk7yqQgd5/PLgH9S+DfeZ7lPHw+8NmawM090H5rgT0mto8nN8fREREdCsY1r9jpZqKsTmxGJuTFRjmLkDcK2Mw6q89S9hw/A81UMMjsC57AwL+cAbwDYBizsbid8p7VFSNsioVsYYV2J7qh+M2GYrvSbyV2CNp+bIM1S3xiF6yDRlSAeraJSiPSShetgr5PafLfVmGals8opdsQJrmGNrkMfAzZWLxpmqYdqzBO698iKTMT6FE7oex6gyskDHa3w/N76/AO0b3b8h9/ICyTUsRu2kvyga6i6ENQWiQBFtxAbI+PNzrAvr4PWVYGRkGQ6iMd0yDXoL2ICE8/QhWf7cah8pqYG4BoBuHWdEBQMteVP2576APPlaXRROAuG258DtYBhMCEDk3CoHtxVj5Tp8pjGo1qr/o0V67HxRtDd56MxsmtRjv/KoAkZmJOPrfwXjvo2MwtaiAPAaKVI633tzbK+kcUnU6fvX7COQs2YfSoALsN55EczswSjcGPqcysWxLNQAZ4es2YJF/DVKeWwNjuwq8vRzrZxxByuoNiD30IrJMgO2TQhy3hWLWf+xD2oRCVJtVSHIwAq5shfQbb6w6SeFrcXBnMIx1bfAJ+TFiw2WYtqRjhwkAyrD/ExMWxcUjZ7uE9z49gzb4QHl6DHqmKFW/z0T+3I2I/t0R3BmyF1XtMsY/PROTNehOgjw6Nj3ZUJWbisW5qXhTH4G4pQsw3ffOXmMVFBmGQFQj5f3BkxyoZTBWqYielojt6X4wmlTcNTYAjveX4q2iHrVd/G7YhDTpEMzSmP7fMR5+f5g/q4IJC/HShg1oyz8DSQmAtbO9Yfv+ICIiolvGtV0xQ6sXizKLRK3FLhxOu7A2VYi8VcH9VvmSJsSIjJIGYe2wC0drg6jMWdhvJUHdjGSRV9PkLmNvErUlG0W00r9NJXqDMNa7V+SynqsQB3q2J+tFbGquKK3vqsciGmuKxPoZssf7JE3bIGqdFnFgiV//9/3jxQG7XTRujxhyJbPukERIwkZxoLJBNNs7x8jSICoPbxSLnh64T4ONVc+V7nptI7mXgi9drRdA9xLilSUVorG1ayy3iYTB2tPHiKzSwY+NEp4osg5XiMZWi7v/52pE6QDH79LhJ0KWbBB5XWPRYRHNpyvEgVXulfykp9eKyg6LKF2t7zW2UshaUdnhXj2ua/U53bREkVVSIxotFuHosAurpUk0nigReUnB/VYFvOnGqmu59fqS7vO8qULkrYsQSs/90epFbFquqDzdfa43N9WIyqMbei0VL09aKDKO1rjH3N4kaksqRKOzewVFT47NZR1njV6sr7QLR2ly97Lvg0VglEg7XNPd5omBP6tK5Fpx4IR7P92f+f798uz7w0+Er8kVlecsA7c3DN8fDAaDwWAwbpm47h1gXOcYaAlxxk00VgMttz6M4U5ULcKYoFyd/k9KFpUd3ckrg8FgMBgMxs0YwzoVkIhucv5RWL8mGOqpM7C2A5IuAIbZUQi0Hcbi901XpcmgyAgEohpv5fedQkhERER082BiRUTd7vHDmMfCYJilQNYCqu086o5nY/Gvfo2ss1ehPY0ekeEBwMlU5H956eJEREREN6pvwX3rioiIiIiIiK7QiOvdASIiIiIiopsdEysiIiIiIiIvMbEiIiIiIiLyEhMrIiIiIiIiLzGxIiIiIiIi8hITKyIiIiIiIi8xsSIiIiIiIvISEysiIiIiIiIvMbEiIiIiIiLyEhMrIiIiIiIiL914iZUkQ9Ze905AlqXr3QkiIiIiIrpJXNfESkkohLWjAutDOl8ISUappR758/yuX6fkKORYLChdNxVMrYiIiIiIyBPXMbFSMOuHIZBMxcirdr8iaXwgS9c7nXHfMbvevSAiIiIiopvH9Uus/MMQPlmC6VAhqtXr1gsiIiIiIiKvXbfESjdrJiZLJhzcXwbmVUREREREdDO7eomVrx7Ry2MQMuBCFH6I/GEIJNNh7D/eP60KSDiCRosFDrsFjRW5SIlU+m1vWL4RxhNNsHbYYW2qQF5qFAJ7zd+TEZlegtpzFlg77HDYm1B7dBsSDL2f35ICI7D+gwo0trrLVOa9ikBN77bC4+IROUG+klEgIiIiIqLbgObSRS6PrI9C3NKFiJ0dDEVzEu98thdlxj7Jk24WZk2WYNpTiAHyKuB8OfbsOAkrxsAwNwpJ726DtWEa3vkSAGQY0j5E3pIxMH+YiZRNZzDqyVcRl7ANeZINU+IPwwYAsMH0x8PIMu1Em00FfJ/ArHkxWP+fEtq+9wqyzAB8I5BWsAuxvidxcEcqjrf7IGjaLEQCMHf1RRuCWUlrEZuWCJNxLzZvzcSO/JOdbRAREREREbkJr0Mji6DoRJFxtEZYnXZhPV0kctbECIMiDVheF5crrM4GkRHe+33p6Q2i1mkXxgS/7temuV8rXRXgfk2fLErtdtGYEyV0F7f1E9E5DcLRmitifQfvpzRjo2h0NomcF93tBiYVCauzQeS83N0e5IXiQIddNGaECanrNa0iwpesFTkVTcLqtIvmE4UibXmECJSHYewYDAaDwWAwGAzGTR9eTwWUnk7EgRP1KN2ZCAPKsf61aRg/bhrmJGfDaBrodpQfwn84FdLZQ9jf907WANTjNahTAZ0yBhIAZVoogiQTDu44DJtWgqSVIGnbUPxpHVTtOOiDuuYDSgiauwEHKhtgtdvh6LCgcWsUdJAh+QCAjMkhT0BqKcOe/eeH7kS7CQc3rcKcp8ZhYthSbKmWEbl6FyrrK5CzRH95A0ZERERERLcc76cCKnpMViSopmIczN2LPfvLYXYNUV73PGY9I8H8fgGWZROfAAAgAElEQVQ8yKsAlw1tKiB1LsPu5+sDQEFsQRNi+xW2YVTno1DyixuRlxkFlGVjffxhVLcBupAFWLc8FO7F1GX4jJKAdjNsQ/W3FxUmYwHek33g569DbEgAJgf5QQK4AAcRERER0W3M68RK3T0fE/8chUU/XYC5qblYtOokDr6fjR2bdyL/y/5PIsnPR8CgPY/9Hx3zPBnpkficb2kDYMKexSuQdeabfkXNVSoACYZZYdC1H8biF5Yiq8X9nvT1VCQtD+0saUObVQUm6ODnySj46hE9bwFi50bBMBYwlxXgrQVbsXl3OZMqIiIiIqLb3DCsCqjCZMzGyqhn8dCjM7Fs90noZq9FTmU9aj/egOgJPcvKiJw1FZK5GPlFV5aOmIqKUeVSoH/sG1QVFcPYJ+paPK3JBmNxGVR5KmLnBgxeTNJjUWYRautLkLXqedz1WToWP/s4Hnp2PlJ2XOLuHBERERER3RaGdVVA1VSMzYnF2JyswDB3AeJeGYNRf+1RwDcCs56RYDtUgIPtV9hIdTp+9fsI5CzZh9KgAuw3nkRzOzBKNwY+pzKxbEs1ABXGD4/BHB2B1XkboeTWwNQO+DwWhJ6Lppt2bMCWV/YhIfVDGJ/ciwNf2ABdCJSeo+ICfPyAsk1LEbtpL8rMvD9FRERERET9XbOVMuSXd4lmZ5PIenHg1QIHWhUQUoTIOmcXzTsjulfpg58IWbJB5FU2iGa7XTg6LKL5dIU4sCq0RxlZhCzZKA7UdJexnmsQtRWFYn3P1Qh1oSIhs1DUnrMIh9MuHK1NorGySGTMC7juK4swGAwGg8FgMBiMmyO+1fnDNSAjem8Nsp45hthHX8Ee/iEoIiIiIiK6RQzDM1YeksMQaZBhKy7AISZVRERERER0C7lmiZX8fAQMsg3GDw+DeRUREREREd1KruFUQCIiIiIiolvTtZsKSEREREREdItiYkVEREREROQlJlZEREREREReYmJFRERERETkJSZWREREREREXmJiRURERERE5CUmVkRERERERF5iYkVEREREROQlJlZEREREREReYmJFRERERETkpWubWGllSNLVq16Sr2LlREREREREg7hmiZWSUAjruSNYOeEqVK5RkHDYguajiQjSXIX6iYiIiIiIhnDNEitJugvSVUt67oT0bQm8X0VERERERNcDn7EiIiIiIiLyEhMrIiIiIiIiL129xMpXj+jlMQjR9nhN44dZG0pQa7HAYW9C7dGNWBQi997OPxRJ24u6y5TsQlK40ruMVo/Y9ELUnrPA0WFBY8UmvPTdngX8sOhjCxytuxDds3opGGkn7HCUJiJQA0AbjNjlUQjyHc4dJyIiIiKi282wJ1ayPgpJmUWorS9B1up4vPBkzyefZOjuOQ/j79ORsukwbP8Qg7S8nVgU2PV2KNYX7kPKrPtQtycdKW/vRd09YUjZuw9p4V0ZkoLY7FxkxOlh+yQTKWszcbDRB7peydF5HPykBqo2BIZnerSvhGKiAtR9WgyTC5D0s5CwehtK62tg3J6I6El9kjwiIiIiIiIPCa9DI4ug6ESRcbRGWJ12YT1dJHLWxAiDIl0sE5hUJBwdFWL9pO7tpKfXisoOu6jNCBUSIJSEQmF1Nom8eUp33f5RIqfJLqwliSJQ496m1mkXtemhQr7YfoBIKrULR2WyCNJ0vhaYKEp71A1AyPNyhdXZIDJmdPdL8g8WsWu2CeNpi3A4LaL26EaRFK0XsmYYxoXBYDAYDAaDwWDcFuH1HSvp6UQcOFGP0p2JMKAc61+bhvHjpmFOcjaMJrVf+Z6vqGX7cegUoDw5FYEaGYbQEEi2Y3hvj6m70NkC7PnkPCT9VBh8Ad0zIVBgwsH3y2AbqmOn9uG9MhXKP8/EZAkAJBieCYbUUoxDxu5eqGfLkZU8H4Zxj2PKq6kwYipW7ixB44lCpBi4ziAREREREV2a91MBFT0mKxJUUxkO5u7Fnv3lMLs83NZlQfP/AvDxgayR4TNKAmxmnO+1vYpmsw3QyPC5B/CTfQBXG9q+7p+09a7bhD25ZVCVWYg2SIAUgtCnZdg+PQxj+0Dlz6Pqo33Yn3sYx00qJCUE+jEe7gcREREREd3WvE6s1N3zMTFsKbZUyXgpNRe19RXIS49H5AQPnlfS3IfR9wD43zaYXTa0WVVA1sGv19+7kjBaJwMuG9r+Fzjf0gZofOA3+tJ3k8y7d+Jgix/CXw6DTh8Gg78Nxo8O97vTJQeGISE9F5X1NchLjYJclYllPwjGnB2XSN6IiIiIiIgwLItXqDAZs7Ey6lk89OhMLNt9ErrZa5FTWY/ajzcgesLgW8rhMZgVCJiOH4PJZYOxuAyqPBUvzfbrLqSLQPQ/+0GtPgZjC2AyFqPOpSB8XgR0l+qarQBb9pig++ECrF4UhsD2Y8jf3yOtCoxC2sc1qP1TLtbP9kPd7hWY/ug4TIlahc1FJjCtIiIiIiIiTw3/w1uSIgxxa0VOyS6xSHG/FphUJBzOJmHMTBYJy+NFSnquqG21C8fpXSLav3M7bahYX2kRjtYakZeWLJJWbxB5NRbhsFeItHC5s34/EZlZ415o4uONIiUpXiSt3iCMTX0Wr+iKwHhxoNUuHE67aNwZ0b3gBSCgLBQ5JbvE+rhQoUjX/4E3BoPBYDAYDAaDcdPGtWlIF7lWHKioEc2tFuFw2oXVUiNKc5JF5Fipd1n/UJG0s0TUWizC0WERjaW7RMoMpXcZjSLCV20TxvomYe2wC4fdIprrK8SBtCih69e2JMIzG4TDWSPSpklXbf8YDAaDwWAwGAzG7Rvf6vzh1qVRsKjgGNZ9Ox1T/jEVdZ4urEFEREREROQhzaWL3IQ0CsLnhUHBnVCeX4C4Z85jy4/SmVQREREREdFVcWsmVtITmLX814j1B2ynjmHL6yuwsohLURARERER0dVx608FJCIiIiIiusqGYbl1IiIiIiKi2xsTKyIiIiIiIi8xsSIiIiIiIvISEysiIiIiIiIvMbEiIiIiIiLyEhMrIiIiIiIiLzGxIiIiIiIi8hITKyIiIiIiIi8xsSIiIiIiIvISEysiIiIiIiIvXf/ESiNDlq53J4iIiIiIiK7cdU2spBkbUdtaj4zZPTMrCYZ1JWhurUHOvIDr1jciIiIiIiJPXd87VpI0wN0qHfST9ZC1CiZPHgPezCIiIiIiohud5np3oD8TdqyYj1GRfjj++8NQr3d3iIiIiIiILuEGTKwA22d7kfLZ9e4FERERERGRZ67eVEBfPaKXxyBE2/2SLjwROaUNsNrtsFpqcHB5cK+pfiHrKuBw2i9GY2ZYn6mAEgzpNXB0VGD9pN7NSdM2oNZphzHJ/VyW8mI8Fk1TOJWQiIiIiIiuumFPrGR9FJIyi1BbX4Ks1fF44Ul3aiMZ1uLA3mSE31OHrLfX4J3d5cA9ul6Jz8n31iB2wVIsXrwVVQPOAVRx/NAxmDUBCA3vvbCF/vlQKK5qGD88CcAPhqhEpH1cg8bKXKxfEgpFO1B9REREREREw0N4HRpZBEUnioyjNcLqtAvr6SKRsyZGGBSps4yfiC2wCEdroUgY272d9OI20ey0iJyXpd71aaNETqtdNGaGCalvW9oIkXXOLqxH44Vysf1gsb7GLhylySJQ01VWFoGR8SKtoEI0d9iF41yFyEtdKAxjJe/3l8FgMBgMBoPBYDB6hNd3rKSnE3HgRD1KdybCgHKsf20axo+bhjnJ2TCaOm87SSEwBElQjxdizykvG2w/jPxD5yFNmoVZSudrk2bh+bEqyvL3os7VVdCGuvx0LIt4Cg898SKW7T4D3csbcKCmHqWZMVBuyKfLiIiIiIjoZuT9VEBFj8mKBNVUhoO5e7FnfznMrj5lNDJ8ZEBtM8PmdYMqDu45BLP0BF6YrQCQYHhpJgJdZXhvz8mBtzh1GPnv7UX+J9WwaWQEPRkAP6/7QURERERE5OZ1YqXuno+JYUuxpUrGS6m5qK2vQF56PCInyN2FXGaYbYB0jw7y4FV53qYxG3vqJOgjf4xAeSqiZymwHdyJ90x9Ckp+CJmbjKySBtSWbsPKEBvyk1/BlOdWoaxv8kdEREREROSFYZtXKCmhYlHqLlF6zi4cTouo/XiDiJ4AAcgiem+TcNhLRMqk7mecBn3GSgoTGU12YS2IEfIgbQUmFQlrR4XISM0VzR0NIiO8Zx2yMCTtEqVNFnc/Dm8USS/qB62LwWAwGAwGg8FgMLyJYX3SSDUVY3NiMTYnKzDMXYC4V8Zg1F8BwIb9a9NRZkhGUuERBOwuwHEzMDpEP/By6Go1yqpUxBpWYHuqH47bZCi+J/FWYjZMnXea6nZkw7h8I2ITAoDqVGwp6rmMoAr4+sB2KBVzNmYiv9r7CYhERERERERDuWZZnDwpRqQVVIjGVrtwOO3CamkQtSW7REJI/5X6pAkxIqOkQVg77MLR2iAqcxaKIE3PMpIwpNcIh7NJ5M3zu+4ZKoPBYDAYDAaDwbh941udPxAREREREdEVGvY/EExERERERHS7YWJFRERERETkJSZWREREREREXmJiRURERERE5CUmVkRERERERF5iYkVEREREROQlJlZEREREREReYmJFRERERETkJSZWREREREREXmJiRURERERE5CUmVkRERERERF5iYkVEREREROQlJlZEREREREReYmJFRDSsJMiydL07QURERNfYLZpYjcH971kx9VRXNOPRmTfXhY7mtUex6m9BmPoYgJljsfxvwfjBc/3LPfAfQUj6SzCiFtxxzftIl6Z94UFEVQYjyfEMVv1lMhIqH0XYjzXdBcb64keN30dS5YN4QHv9+nklpB8/jCXW72PJu3fjRvl0efq58cjYGOTUW9BcsRYGT4+NHIUciwWl66Ze9phcTt9vyvNq7P2Y97dn8JPFIwCtL6IcUxH3bzfKmUNEROS9WzSxOo/WjW+gbsUbqNt8DK7r3Z0r4boA4AJcLvfPrq6fe7kDo6doIWklPDBl5LXv47UQeDemvjsO37/Si+Pr2d5j9+NH2Qoe0baj8t9O4ci/ncXnlS6orgvdZcbLeEjRQHpMxgO6YWjzUjQj8fhvx+IH8d6fL99+SoavrIHvFC1GaQYrNQKj4x9GxG99hygzjDz63HhGCgzGZEWCPCEEIR4fGxmyFleWaHra95v1vFIv4G8A3F/IFwAX4PrbNegbERHRNXItLnWuAxXqpzuhAsDkp6AsCr7eHbpsrnYXVJcGagsA2QWXywXV2reUE39aVgfpRxp8tdV2HXp5DTxyN5567T58VVJ/07Wnne6Lh7QdKF14AoePDlLoQBM++JkTD9haUH7K6yYvTRqJ8QvuxwM5FnzsZVVf/6YehS4ZOGJG86DJiwYPRPljomxCqZftecKzz41n1IMbsDjxPCbbCrDlGhwbT/t+055XNhdcrgtQ2y8Anf+VbDflr72IiIgGdIsmVreAZidU2wj8pR3AWSf+4nKh/Wz/Yq4/tuDYH69578gDd92rAVxO2BqHKORyojGtCUMVuWGZ2/GnX7Rf71705uHnxiMuEw6+swYHh7N/Q/Gw7zfteeVyor3FCfUr98+2Fhc0ZiZWRER067h6iZWvHtFz9TBtyUZZOyBHrsX2pJkI+gcddLIE1WZC3Sf78FZyKvJPqZdf/+gw+CcswX3P6DHS1wf4pg3OP5fh7IponDvheTV3RGbisX95DiN1PhgBFc7T5bC8mwxTbg26J9b44TsLfo2HX3oO2u/6YMT/U+GynkF77s9R83+Pddf1z2swdulMyOPGQPN3KlzW81Art6HujY3ocAHQytDJdw7aF7XlPGxdQ3GqHQ0HVLS4ALS0w1Q4As09rmHv/Y/v4aeJ3Q9PtG+vwtuv23tXqBmJ7737MCZOGQlffwmS5gLUs3Y0/O40Pk5tR1dT0gsPIuLnvhg9VoJW1kCjOtFSasZ//cyE2i961CePxOP/rmDqC3fD1xdQTTZ8/h+ncTizo3u6pUbCI/96Pyb+o9xdn+YCVHMrjk4/gfIv4BlFh5iGcXio8wwd/+5UrH63a6As+ODeOnzeOR7amf4I+4UOjwSNhMalouXIORz+2Vk0mtzvj/73ILyeeAdqX/8TPtjZ2VOdjIjSJzC+sR5bw8yw+nve3qVoXgtE0rv3XfxwTW+ciumdP188TlpfRH39KMZ3zRlz2XDgkRqUm/rWNgL3vuaPKS/IeODxkdD6aiBJgKvdidqf/QkfbO/cH3kkvvebhzFl+nfg66uBS3VBNbfj8198gcP7LgCakfinyifx7GOd1b4WhNWvdbXhRGXEcRQUerZ/mDkWywvux8Wz7wsTfjexCV/3uUZ+6N1gxLzWtYMKfvo35eJ7Lal/xKafd1zs+5DnVZAOP9r+IB4JvAMaWwcaC1uhTrwP4wM1sJU0oSDmLL5q6az4Ep8bj2hjkHduI8IvHptyrHx0Gt4x9S8qBUYg5d+TEW0IgE5jQ91nZyD3/FbVSJB1PoNPDWw/D3PXzeZL9P2mP69cKhoPtMB1yv1z85EWtDf07JMfwuOiIH26E/lf3qJ34ImI6JY27ImVrI9C3NKFiJ0dDEVzEu98thdlRhW6gBCET5JRtiMdm+tU3DV2KqKjE5EzaQxi/2k+9lzOb5X/YSke27UGd3/nDGwH9qHplBku3AVJAVTz5fXXdaYMLbur4bS24cKdY/Cd6a/A/9fZGGGejFOfulOPO6K34rGkYKiF23B6az1cGh/c4T8Od5w9313RuF/i0d8uxcjanTj7Vg3UbwDNvQHQSufh7LqWn5eLxtTBpiXakP/qOMzZ05nutLTi8OtdnWzHsZ/0vjq0/udp7K3VABotvv/bByEPVKXmDvhPvxv+thaUpJ6F+jcNfH9wPyb+xxPQ2MqxN9PdsbsCZYyffAfO7jyLiloXNKNlPP7ag4jaB2ydaEKzCkAaie8fCMJzQS40bj+N0lpAF/Ugntr6BCT1j90Ji6TFU2/646Gzrfh8nwUtX7ng0migHe1Cs+kyDkyLDUdfP4HKx3X4QaKMlow6/HdF13io+KpzmKQ5YzEv+35IX5hR8YsmtN97N56Kfxg/yQO2TjmLr1Wg+d/qcGTy9zD9N4E4W/kFyr/QYPxvxmGi3IrCn5phdXnenidcJWfxQUwLRv34YTw33YXKnzWhofPwuWo7kwnVjtKFJ/C5Bhg182E8N3OQyjQaPLJQwcTH2tGwz4zPG1Wo6ghI92pg/bwrkxmBR373BGa+4EJDpgmltS5A0kAePxLtzRcu7sPnvziBZt138P3f+cO3xISPd3YmLq4LsFV6vn+oPIeCGBs0mhF45OeBmDhIseat9dhbIuGRn4/DRK0FR/61BV0z29TKrgPowXn1gBYPPTYCzWn1+AL34bnEB+E6cBoHPhiJKf/6MH7ws1Zs+UXnuF7ic+MR9RjeWTwf+zUS/H64AikzBinnG4G0gl2I9T2JgztScbzdB0HTZiESwMWvIX0ijpYkInCQb1rTlpmYGF/s/iXHJfp+059XLic+X2jq/McFNPyszxxFbQhmJa1FbFoiTMa92Lw1EzvyT4IpFhER3SyGJ7HSyAiavQBxi17FS08rwNlyHNy0FIt/vxdGU48rUtd5GDevwVufAUAqNn+yDaX/GYWVCVuxP7Ecnl27+uG+n6/A3d+pQdMrETBVtnnV9QuV29DU43/+lvwzuOO/f4u7Q4OBT48BkDDyiQBo/noMTb9MRstfB65nRMDj0N55Hub0n6OpeOA9sX30C8z58yBPkrtUmP7o+dW7q8qG2ioA2gt4/DcYOLHqKvu5Bcf+tcV9sZPeDk3DYxg/xxdSprl7zF1ONP62Cf/9RwA4h89tQXgj+T5MfNaE5iOA9jUFz04GGn5Whf9Mc7q32d4OVAZh4k/vgzbnHNp73LFoP9KEgjf63EG7HO0qvtqp4quZMsISgb9UtKB2e58ykhZT/+1+yKazePcfT+MrGwBYcKJZg4Tf+mPKc2fdvy1XVZQvrIdS8iie2+4P69aR+MGPR6DhjXr8qe4y2vPUqXbUnmrHvY8/iOemu2AubEGtqU8ZlxNf7XTfZrn3kQcHvwDuYrLgyMKz/e4KAQA0Eh6YeAdQ1YSCN85h4FTiAr4ubMHXWuDx3wKyyYbPt1/h8TnbgYadHQA0+PbrGPTkU4/bUHv8DncZVwcadrb0679H5xUAwAVzgQV/qrqAsfF349slFvxpHaD5gQ7PPamFBh3Dt0iNywTjbhMAIGhs/KCJVeC8N/CSch75r83AnN2dv2R5ux4Hzm1AYFeh/9mLZT+p7n0Xqwe1odrD7z3c+udVewEWP/EE9s9dgLmxryJl70KsPFWM936fiS2/L0AdMywiIrrBeZ1YSU8nIm97IgwKYPpDAda/Nh879pTDk6nz5g+3Iv9UFBY98zwUTTnqPLky+vsw+E72gat4G5q8TKoAYMTEpXh4+Xz4Pj4Gd/y9ClfrNxhxJ+Aa5dNZQkV7cQnU2S9i3L5saHfsgvnDw1D7JFgX/ngEra1huD/1EEZkb8O59/ehvbn3JZN6qhz51+JB8qHY7DhbBzw++g6M0mDQRQespXa0435o/d0LRz40/W5IthZU5rig0XYtJtmOhgonnpquxWgN0HA5V7aSBtpADe7q+rfrAqxfOC/v4jjobjyiAOZUM5pdI6DpnJumlthgdt2N0U9JQGHnMTjVgoI3ziHuPx/GT7YCamEdCjKdl9PajculouFAO6YsexjzDt+B0gwzagpVqF5kGlKghG/3mL/mOKWifdgfpxrh2XnVaxv3anLQjADggutvF6DRjIAGuMarf8qYHPIEpJbD2LP//ODFbCdhzD957bo1nK7CeXVJ7SYc3LQKBzetgWKIQmzcAsxdvQuLkk4i/1fzMWdT9VVsnIiIyDve37FS9JisSFBNxTiYuxd79nuWVAEAVAtM5wF81wc6DTxLrL7jA82dgMt8psczUFdo9HwEblmDuzuO4ezba2E7rWKEbioeTJ6PnosGuw7Ho2p+HZSlr8J/7R48+IszsH24Eaff2ob2rl/ONm9D3Y/Pw3/FCty/+LfQLV2Djj/sg+mtX6OlvjMBvJxnrK6aC3A5LrgvTIe6GlUvuK9fNQCgwV33jgDk+xDVfF//si6N+yL8cvoeqMPLFQ9D13UGulrwwagTHj/HBAC49w5IGkD75pNY9Wb/t219bhOoR1vQaL4fE/0vwFbV3usO283tAr76eQ3ebXwQz71xP6Z/8CCeM9tR+9vTOJxqv/z9lL6DfzoQhKeUrhecqPzRcRTkDW+vPT6vbkgyfEZJQLsZQy5sdznPWN1whvm8uiwqTMYCvCf7wM9fh9iQAEwO8sPlfs0QERFdS14nVuru+Zj45ygs+ukCzE3NxaJVJ3Hw/Wzs2OzBA8ia+zBaBtDWNvTFSU/2Nri+ATS6MRgBeJ5c/V3/l0ZMnYm77z4Pc2I0TF3T9+4EfH/eO7ECVDg/fRv1n76NU6OnwvflJXjwtVQEPapD1Y9/ffEC48KZQjTFF6Lp7wMgR87Hg4tfwaPvjUP9C7NgPnOZz1hdhqufH7jg+PoC0NKCAzHnBrjL5cTXl3s3w9SC/1qoQrqYWDnRONCuD7VzXzuhuoD2jC/wcWH/gq6vOnr8S4PxvxuHiVobao+OxPjEcfinw1X4r08vo72rxutfEQAuF5rTTyM7/TS0z/jie288iCn//gQeeKgGmxbae+/WpfZR7UDlz0/gq64pfq4LaKkYpOzfcIlvkc590wxU7ArOK5cTpn1mSF9cqwM12OfRhjarCkzQwW+o/b+cZ6yG3Q12XnnKV4/oeQsQOzcKhrGAuawAby3Yis27PZ0uTkREdH0MwzNWKkzGbKw0ZiNFCUXskgWY+/Ja5MQlw1SUjZTEFdjz5cBbSiGz8HwAYNpxzLO7VQDw12NorVThGzof/hMLLj0d8K9tuOCScMe9YwD0mZLz/9z/uZy/knyh+RgsG46hHcfx5PznII/5Ndr/p2+bJ2HbnQjbmTsxOetV+E72gflM27A+Y9W9nQuudkDSSZBgv2oXaI1HbHDN/A785VMozxmGKyibiobtHvTW6oTqGoFv+w/wu+oqGxrPAhOfGgn1F2eHTO5GxY9DxAsjUPvTOuzNG4mIiicwJVNBw1MmfNVzu6Hau0oc1guA5g7I/gBM3tfX/mkLjn1qh1oyGdOf88Voyd69+IbLBbUdkPyHOl9caN7XguZLtnQBjvYLgHwHZA0Gfk4HF+D4ywUgUIJWAno/qHMF55XajvLXu/7G2NX/axE22zfuXwB9VwJ6Pi8KG4zFZVBnTEXs3ID/z96dx0dV3/sff5XOA490ag40ktFGGSmSuCZUTbDaEL2y2EqIVhNXwI2lQlOXiBsVS2lVsFwKFlkqq01ZyhYrGKkkpF4M0SZESsJyyRBzySTmkmGcmxzT+eX8/kiAAAkmTEgU38/H4/OAnPOd7/d7loH55Ps932HF661M9+vIZ6za6at3X30JI4Zxs18j7WdxuB2V5K2fzfgH57M47xRTLUVERL5COvSTieXJ4Y30HN6Y7CZx1KOMvb8PPZs/i+SIYuzC1URsysNDFMmjUogO5PDMrPb8xvYA3ldn0Hv5C7iX52BufA/f7gMEMeke2Zv6zKc52DxB2bMdvx9cD71K329vpT6sD93LF7L/rSIaPsjE50+g90srCL6VSeCzL6DXdfQ4braegfmrd3F/fweHPirCqoFu4VGEJ0dBzWoCTct/dRu+gNhR5+DL3k6t9zANPfpwXlIS3YO7Cez5ovH8nIlnrKxaSguCDLjpYu74vQNPjYPw82t5/4nqVh42Pz2BRfvJHRnLTW9eS8/bvewtsLBw4LzIILBqH9tb+6LSUO3082k1DPhFf5LOrcb7eTfMq7pR+osy9lb72forL5e+2ZeH8s/jk0w/vs8aoGd3wo0A7z9d3TiaeKWL4b8Ox1h0YYUAACAASURBVFq1s+m5qnqynjjIJWsiSfp1NfOeCBz7Zfsp2zszhxjY5qc6eDEDZvbDWlMLF/UguHYf//VeGytw9CBhSzSRpdV4Ciw+D8B3LwtnwLVgbQnwWfM3lxVovF8Gu0n5Y3f2lTbguNRJcNWetrd3VAPl2/wEh7sYsrSe8wsacJ50rhooz/UTvLU3P/lzPfm59XB+D8yKg7wzs7br7qs28n6Yhyc4kVEz5mCt2w2RUdStn8Army08S2Yw7/5VpE1/m+xrV7Jxpw9c8bib/6vahc9Yfe3uqyCERUDe6xMY/fpK8rwanxIRka+XM/MrX8tD9rznyZ534g4f3kAfho0dgsvhw7NjJc888xSzSlqq5BR2vcbO2/cQOXECvW+4H3eyAV9Y1B/Yjvf9czhupOGLTDwvLMR47i4ufCoBPtuNb8nyxn0VCyn5eRh9f/kAvcdPJbKHQUPtYeq9Rfh2H/stafC/dxC8dgiRv3wAxznQ4K+ktmgZe16bjK8pcexWU0LAuoveDw2m+3kGfHEYa08eZenTKCs4kx8Qgnzy9B4uWtCXqyb241KrHu/G/ZwLHZpYEahl6+BCan51MXG3X8iPb3fgCAYJePwUbGzXpMx2tusja4wH56sXclV6PwYEg/gKvXzqBKohsGwPf6oOcHO6i8vG98Lp7Eaw2qJ6S23TOXBw1W/7conl5c9PHDp6Z1hrPby/Npw7Hu3LD+cXsb2kbe2dEf8oZ8PvepA03sVNvwar3E9+u85pAzWfWFx664XcdE/3pu8Nq6Vi7T42PF11wi8tgnzyRAkX/LEvAx7syyWOBiyPj/zM07uGNbP38d6A/vz4VjeDb2/5XNXM3sPGS/vz49sjGTy8G0FvgNI/Nv1GoqvuqzayPpjO+FeimDk2iUkvgq+8iCXvNo1m+nJ4ZvhdVEx9inE/fZQp9xkQ8OH913Y2fXSg66etfd3uq+AOXkm6pT1HKCIi8pXyLcDujIaiJ22m4MUwXvnxdUz5uDNaFBERERER6RztebxIREREREREWqDESkREREREJESdNhVQRERERETkbKURKxERERERkRApsRIREREREQmREisREREREZEQKbESEREREREJkRIrERERERGRECmxEhERERERCZESKxERERERkRApsRIREREREQmREisREREREZEQKbESEREREREJkRIr6XBGuInR1Z0QEREREelEnZtY9RtJxp4qKvKnkejs1JalUxikriyjZvtvSFRmJSIiIiLfIB2QWBkMm7uXunr/yVGbybjwZiWj4xjoNjCviCfeFXrLX84k8bEZLJ45kmhHZ7Qn5xpmV3dBRERERKTTdVy6EdzB4scXkBdsvs3Lh4FjP1qbZjA+vZKBvg3M29dhLZ+CScydY0g1Z/OfndGciIiIiIh8I3XgOE4leW8tZXHgFEWCHjbNmsqmjmtURERERESky3XOM1bOkaz1N58iuJk0d8tFXYljeHnRarbt2ktFVRV19X5qDpVRMHvIsQURzDjGLcikoKyKutrG/aW7cpl555FpaAbDFuylrr6Il28ArpjIttpj7Rf8Lq4dnTdIfH412UV7qfD7qautomJ/LmunpxB93HNiJsmzcyk+WEVNrZ86fxnFWxaSlhhxfHXuIaTNXM7G/CJKj5atojR3MvFHDtAYxJQtRZQeajr+qiK2rZzMsBPPmWsQaYs2U3zwSLm9FG/LZO6oqPa115a+90thZlYuxWUnlLnlhOMDCB/KzKIyamr91BwsInvBGGL1TJ2IiIiInMU6cMTqHIzwCFxHP0B/geXz4bMAayuzxj/CeodBxE+fYsptrdVh0Oenj5J2XwSF6zaw5F8HqPBZGKaLc0sOYAGNScBbzBxRx6Y/TWdeyWEwwnBH96Giwmqqx6Jw4ZOM/oeLW5+cQapzA1NeyqKyaZ+vcE+7jswdP4T4yN2smzWfDwMG7muSuDttIVuiTG66Yz4lQQAfno+yWOxZxmGfBeFXM+Lhkbz8Z4PDP7yfxd6mI4xN4ZnHkrDyVrJuyW681RaWYeIO5nHgSPeDXgo3raJmdSWHLQjrl8DoselkLPJx/eDZje05B/Fy5irSorxkvzWbxfsszo1MYNRjgxg2sA/Gkt1YbW2vDX03IuIYlhiDkT2fWX8/QJ0Zxa2pKby8Jgb3HYN5fLOv2Rmro+TdlSwu99EzNoVRo2awFg8DHs2ieSkRERERkbOJHVoY9rC5e+26ev9Jse35qJPKx07Nt+tqN9tp7pbrip+eb9fVZtpprlbac8TZLxf57brcibb7S/vmttO2+O26gml2rOP0j2/0Br9dt3+OPcw4ss20E2fm23X1e+3FyUarrzVum2OX1pfZGXceK2MkL7Qr6qvsjPtaf11LEf+7fLvOn2mPC2/82f1Ypl1TX2ZvHOs+Vs4cY2+s9dulc4fYRojtndh344YZdnG9385OizhWrt8Ye+1Bv12Tm25HO1o7V257XFaVXXdwoZ1stL19hUKhUCgUCoXi6xQdNxUwuINZ997PPSlH4k5+ueJAh1V/rJ0iNr27Gyt+MhvfmUFacgxmp6/45yN73kryghHED4pvmqJoEDtqBhsL9lLTNGWwdH4KLkyMsHZWb0SR/LvVbNtfdnTa3bqH+4DDJCy8sa34QfEYvq0sXuHpgOM5zb7vW8qSd30YMQkkhrdWyEPBxwfAdNOnU1aCFBERERHpfB26eEXJpg2sO9XiFR3CIvvZ27jdM5lJj6Xw8soxTPHuYP3rU3nmtSy8wS+voUOUV1IThChXY+Zh3jmHtQtSIG8pL0/MYsdhcMU/yu+eHAQYgHXK6o4xSPzdcjIei6Dwrdk8/rfdeDGIufcFpgw7UsaF63wDfF4q21rtKZx+3y0qvJXgMHF9D/C2XOpwwALOwdB3W4mIiIjIWaoLvt2pAzKBYCXZr08g+/WncN2QxLgJ6Yydupp4951cP775czx1jX98G84JvdXjhYfR0wG+6sOAQeKIIbgCWYy/fQKLqxuLGJ8lMOnJQe2r14hnxNAoyJvKPQ9Ox9O02fODMUwZduQofBz+3AKnSejfGhVK3w16hpsQLMH7vyF3RERERETka6tzVgVsxuf7Ahy9ueD7HTF8YeH9YCVT7rmLlz8A938MIfa4ar9oTEDCI7igg0dLolNHEOPwUfjhjo5IFVvWatrro3DHbggfRPJtXfiFvOFDuPs/IuC/t/Nh9Wm83oghbWU+xUWrmXSDhrNERERE5Our00esvB/m4QlOZNSMOVjrdkNkFHXrJ/DK5jamJ444prz3OvGeLLILD1AZgIjoIYy+BnzZRZQcV42PDz8owhqWxO+WziDqgwMQHoXbu5Txs7a3r+ORKcxcA4l5B7BcCYy6Lw4+ns5//rVxfCz77a14U5N4ce0c3KuL8AQg7MrY9o8oWXms/7uHcWMnkrHI4C//OMBhwnDf0Ifmc+0K/7SAdaPmkPrH9zgnfiWFAZPLbhjOQAftXHnPalff459cTUa/LAq9BrF3PkByZCXrJs+n8HSmYMakMPq2KNyOKMbdn8CsD7LOXJIqIiIiInIGdXpiZX0wnfGvRDFzbBKTXgRfeRFL3m3PM0hf4Nl5gKFDH+CZVBPDYWF5D7Bj/VTGP7v0pMd8Sl5/kmf7vUbaiDFMuQ0s726y5y1t11NPAAS8+HoOZeykCAyrksK/TWV8+nTymirxrZjA3eE+powdytipIzEdFpbvMN4dOez+n/a0ZJH97AOMD04mbcSjTPmZiRG08Pm8lOTl4TnyDJtnKeNvN/DNmEDy2Mkk48OzoxIfYFlftOfI2tV3b+UXRP9sIskm+Dx5vPHoCzz7VmW72jvqX1ms//gB3D84wLr125VUiYiIiMjXWpcvTfjVjpaWEP9qhhE/zS6orbKz09wdX3dLy60rFAqFQqFQKBQKG7C7YPEK6RCRKbw8NQ5r3wFqAmC4okj8WQrRvizG/9XT1b0TEREREflGUWL1dfW9CPpcOYTEEW5MJ1i+Sko+XMr4l37D4vKu7pyIiIiIyDfLt2gcuhIREREREZHT1OnLrYuIiIiIiJxtlFiJiIiIiIiESImViIiIiIhIiJRYiYiIiIiIhEiJlYiIiIiISIiUWImIiIiIiIRIiZWIiIiIiEiIlFiJiIiIiIiESImViIiIiIhIiJRYiYiIiIiIhEiJlYiIiIiISIi6NLFyp2VSU5vPy/Fd2QsREREREZHQdGFi5WbET+MxPDms3dF1vRAREREREQlV1yVWkUMYNtDA824mO6wu64WIiIiIiEjIuiyxco0YzkDDw6b1eSivEhERERGRr7Mzl1iFx5D65EjinS3tjCD5p/EYnizWf9gsreqXwsysXIrLqqip9VPnL6N4y0LSbok47rXDxk4k+QrzjHVdRERERESkPTo8sTJjUpi0YDPFe3JZ/OJEbr/WOLmQawQjBhp4/p5J87zKiIhjWGIMRslSZr30PFNe30BlnyReXvM2M29pSqSc8YyYNI2M/CKK35lBWnIUSrFERERERKSr2SGHw7RjU9PtuVuK7Jp6v12zf7OdMXWkneg2WizvGrvarqnfa88ddvx+44YZdnG9385Oizi2vd8Ye+1Bv12Tm25HO5q2Od32sMem2Rn5ZXZNvd+u2JVpz3wyyY42O+BYFAqFQqFQKBQKhaL9EVoFxg3p9sY9VXZdfZVdvGWhPem+ONvlONVrIuzRG6rsuv1z7GHGiXW1kFhh2MmLyuw6f6Y9znViXYbtThxpT8nItUv9fruuKt/OeCymq0+oQqFQKBQKhUKh+IaFg1C5YxjoNrA8OWxavZIV67fjDZ6ivGsoI2408P51A9ltWrXCosJbCQ4T1/cA7/H7PNkb+IsZRkSki9HxUQyMjcAALYghIiIiIiKdJuRnrKy3HmHAkAnMKzS5e/pqivfks3Z264tLmEOTSHRWkvO3rW1Mfgx6hpsQ9OH932abw2NInTSHjbv2ULByMsPI4ZVHb+H68VlKqkREREREpNN12PCX4R5kj5u+3N520N84NfCdGXbqFc3LmPboNVV2XdlCO9nZwutbmgoYnmQv3u+36wom27EObIwYe9yCzXbxIb9d599rZy+bbI+Oj+iwY1AoFAqFQqFQKBSK9kboUwGbsTw5vJGewxuT3SSOepSx9/eh5/81KxCexIgbDXzvbmBToPV64p9cTUa/LAq9BrF3PkByZCXrJs+nsGmKYVgE5L0+gdGvryTPq/EpERERERHpWt+iMcPqFOZ9yylelMC79/Zn9OqTEyLjhhkUbBmDsWM7vu9fTbQJPk8ef3nlBZ5dskNT/ERERERE5CupQ0esTs1k6IgEzOqtbNx86hTpwPL7SJxV2Un9EhERERERCU2Hf0Fwq8whJCea+HI28K6v01oVERERERE54zotsTKHJpFo+sh+OwvlVSIiIiIicjbp1GesREREREREzkadNxVQRERERETkLKXESkREREREJERKrEREREREREKkxEpERERERCRESqxERERERERCpMRKREREREQkREqsREREREREQqTESkREREREJERKrEREREREREKkxEpERERERCRESqxERERERERCdJYmVn248C81JOw7EhVcPtzo6k61i+PBy3n+37EkXAkM78eT/47jJ4NPLnfRq7FM+jyOlEe7d3ofv6naem1ERERE5JvjLE2sKjk05xeUPPULSt7YSrCru3M6gg1AA8Fg49+DR/5+nO5ccL0Tw2lw0fU9Or+PnSG6Fwlv9udHnZW4tKW9Nl0bEREREfkmcXR1B84MC+sfy7AABl6He1xcV3eo3YKBIFbQgVUNmEGCwSBWzYml6vnn4yUYdzj4dL6vC3rZCS7txXUP9ubT3D1fmfbadm1ERERE5JvkLE2szgIV9Vi+bnweAMrr+TwYJFB+crHgR9Vs/ajTe/fN1sZrIyIiIiLfHGcusQqPIXVUDJ55S8kLgJk8jUWThhP7Axcu08DyeSj5+ypemTyddfus9td/wRAi0x6j940x9AgPgy8OU/8/eZQ/lcrBXW2vpnvyAq785WB6uMLohkX9/u1UvTkZz+oiGo6WiuC8R39D37sH4/x+GN3+n0Ww5gCB1U9T9J9bj9X1H1PpN2E4Zv8+OL5tEaypxCpYSMkv5lAbBJwmLvOcVvtiVVfiO3Iq9gXYu9GiOghUB/BkdqMicKzs+a/+kJ+nO4/+HFhUyGsP+Y+v0NGDH77ZlwHX9yA80sBwNGCV+9n7x/28Mz3AkaaM2y8m6elwLuhn4DQdOKx6qrd5ef8JD8U7m9Vn9uCq37pJuL0X4eFgeXx88up+shbUHptu6TC49FcXMuAm81h9jgYs7yG23LqL7TtpG7eLkXv7c0nTHXrZmwm8+OaRE1XFmvNL+KTpfDiHRzLkOReXxvbAEbSofu8gWU+UU+pp3H/Bb2N5KL07xQ/9kzXLmnrqMknadjWXle5h/hAvNZFtb+/Lrg3OOEaPdVO4ZCWF1W08XhERERH5WuvwxMqMSWHshDGM/lkcbsduZn28krxsC1dUPMOuMclbMps3SizO7ZdAamo6Gdf0YfTNj7CiPb/x/8EErlw+lV7nHcC3cRVl+7wEORfDDZa3ff0NHsij+q0d1NccpuGcPpx36/1E/mYp3bwD2fePxtSje+p8rpwUh5W5kP3z9xB0hNE9sj/dyyuPVdT/BS7/wwR6FC+j/JUirC/AcX4UTqOS+iOf5R9eTen01qYl+lj3QH/uWdGU7lQfIuuhI50MsPXewHGla/68n5XFDnA4+dEfLsZsqUpHdyJv7UWkr5rc6eVY/3YQ/pMLGfDq1Th821m5oLFj50abXDawO+XLyskvDuK4wOSqBy8mZRXMH+ChwgKMHvxoYyyDY4OULtrPtmJwpVzMdfOvxrA+OpawGE6uezaSS8oP8cmqKqo/DRJ0OHBeEKTC044LU+1jy0O7KLjKxU/STarnlvBf+UfOh8WnTafJuKcfDy+9EGOnl/znygic34vrJvbl3rUw//pyPrOg4tclvDfwh9z6+2jKC3ayfaeDy37fnwHmITJ/7qUm2Pb22nJtjJgRpL04kejnXyBv/TLmzlnAio/P0qmaIiIiInKUHXI4TDs2Nd2eu6XIrqn32zX7N9sZU0faiW7jaJnoSZvtutp8e8o1x17nunOhXVrvtwumx9lGm9uLsHvP89gJ/8qx3QPCvrz8wD/Ycfsq7MuHG22r/zsP2JfvqLHjnk9o2mbY5rQSO2HHCjv8O62/rtvwFfaN+0rsfoNab8foF2cn35nUciQPsWMjT+PcO3vZKZ8n2E++ed7J+wzTTvoswX5+TbjtOLLN7GXf8VmC/fz7rqPnvOezV9sv/vuH9s3XHnttz1/H2i/acfZPBjf+7Bx/uT3J/pF97+Pdm7V9nv2TvQn289sutJ2OI9vC7Xv/nWCnzW+hP6cTw/vZT9o32ikPtrDPcNpD9ibYL+7ta19kHtvunHil/bw90E4a3qxsv3A7pSLBfj4/0r700f72k/8eaN87vnv72mtHGJFx9uipC+3s/VV2XX2VXbxljj0pNcY2HaHVq1AoFAqFQqH4akbII1bGDemsXZROohs8H2zg5QcfYcmK7XjbsEqa9+35rNuXwrgbh+J2bKekLSurfWcI4QPDCOYspKzgcKjdp9uACfR98hHCr+pD9+9YBA99QbdzINgzrKmERSAnF+tnd9J/1VKcS5bjfTsL6/+Or6fho/c4dGgIF05/l25LF3Lwr6sIVBw/xdHat511+0Lucmh8fspL4KoLutPTARWtnPOabX4CXIgzsnHhyEtu7YXhq6YgI4jDeWQxyQB78+u57lYnFzhgb3tWxjMcOKMdnHvk52ADNTvr27eCY2wvLnWDd7qXimA3HE0zI61cH95gLy64zoDMpmuwr5oNvzjI2D/35d75YGWWsGFBfXtaaxerfDuLJ29n8UsRxP5sJGPHPcAzy0byzNQcZo25iynZpzH9VURERES+skKfCuiOYaDbwPLksGn1Slasb1tSBYBVhacS+H4YLgdtS6zOC8NxDgS9B5o9A3WaLniE6HlT6VW7lfLXpuHbb9HNlcDFkx+h+eLlwayJFD5SgnvCA0ROW8HFzx3A9/Yc9r+ykMCRx5oqFlJyVyWRTz3FheP/gGvCVGo/WIXnld9QvacpAWzPM1ZnTAPBugZwdGu8+q2dc6uBIOBwADg49/xuYPYmpaL3yWWDDr5rAO3pe7SL+/L74jpyBwarWdNz17HnmNri/O4YDnA+ey3PP3vybp95/O1tbamm1HshAyIb8BUGCHTGEunBSgr/tor14RG4vz+SRHc8MX06oV0RERER6VQhJ1bWW48w4H9SGPfzRxk1fTXjnt/Npr8uZckby1j3ry95rsTRmwtM4PBhfG39kOs/TPALcLj60A3anlx9++RN3RKG06tXJd70VDw5TVnBORD+9PGJFVjU/+M19vzjNfZdkED4fY9x8YPTib3cReFdvzn6Ab3hQCZlEzMp+04UZvIjXDz+fi7/S3/23D4C74F2PmPVDmc+PwhS91kDVFezceTBFka56vmsPQkRgKea98dYGEcTq3pKWzr0Ux3cZ/VYQQjM3ck7mScXDH5a2+wnB5f9sT8DnD6Kt/TgsvT+3JxVyPv/aEd77WRGD2HUY2MY/bMhRJs+Ct9ewOM/X8DizRqtEhERETnbdMDiFRae7KU8k72UKe5BjH7sUUbdN42MsZPxbF7KlPSnWPGvll9pxI9gaBR4lmxt22gVwP9t5VCBRfigR4gcsOHLpwP+32Eaggbdz+8D7D5+3/9r/KM935LcULGVqhlbCfAh1z4yGLPPbwj894lt7sb3Vjq+A+cwcPEDhA8Mw3vgML6/Pcc9/+NqueKgheej0/jAHQwSDIDhMjDwt2vQqO0aKH3PR3D4eUSa+9ie0QHZh89i76I29LamHivYje9GtjAkVuijtBwGXNcD67nyUyZ3PSf2J+n2bhT/vISVa3uQlH811y9ws/c6D582f92p2mur6BRm/v4F7k50Y/p2sO6tp3j89aVke5RQiYiIiJytOnRVQMuTwxvpObwx2U3iqEcZe38fejZ/FskRxdiFq4nYlIeHKJJHpRAdyOGZWTnt+Ah7AO+rM+i9/AXcy3MwN76Hb/cBgph0j+xNfebTHGyeoOzZjt8Prodepe+3t1If1ofu5QvZ/1YRDR9k4vMn0PulFQTfyiTw2RfQ6zp6HDdbz8D81bu4v7+DQx8VYdVAt/AowpOjoGY1gaZVCLsNX0DsqHPwZW+n1nuYhh59OC8pie7B3QT2fNF4fs7EM1ZWLaUFQQbcdDF3/N6Bp8ZB+Pm1vP9ENe0dRDqVwKL95I6M5aY3r6Xn7V72FlhYOHBeZBBYtY/tWzqwseZ2+vm0Ggb8oj9J51bj/bwb5lXdKP1FGXur/Wz9lZdL3+zLQ/nn8UmmH99nDdCzO+FGgPefrm4cTbzSxfBfh2Ot2tn0XFU9WU8c5JI1kST9upp5TwSODVSdsr029tkycX23iCWPT+SNJTkonxIRERE5+52Z77GyPGTPe57seSfu8OEN9GHY2CG4HD48O1byzDNPMauknfXveo2dt+8hcuIEet9wP+5kA76wqD+wHe/753DcSMMXmXheWIjx3F1c+FQCfLYb35LljfsqFlLy8zD6/vIBeo+fSmQPg4baw9R7i/DtPraUevC/dxC8dgiRv3wAxznQ4K+ktmgZe16bjK8pcexWU0LAuoveDw2m+3kGfHEYa08eZenTKCs4k5+sg3zy9B4uWtCXqyb241KrHu/G/ZwLHZpYEahl6+BCan51MXG3X8iPb3fgCAYJePwUbGzXpMx2tusja4wH56sXclV6PwYEg/gKvXzqBKohsGwPf6oOcHO6i8vG98Lp7Eaw2qJ6S23TOXBw1W/7conl5c9PHDp6Z1hrPby/Npw7Hu3LD+cXsb2kbe21iWc+9/x4fkefCRERERH5CvsWjcsDnnHRkzZT8GIYr/z4OqZ83BktioiIiIiIdI72PF4kIiIiIiIiLVBiJSIiIiIiEqJOmwooIiIiIiJyttKIlYiIiIiISIiUWImIiIiIiIRIiZWIiIiIiEiIlFiJiIiIiIiESImViIiIiIhIiJRYiYiIiIiIhEiJlYiIiIiISIiUWImIiIiIiIRIiZWIiIiIiEiIlFiJiIiIiIiESIlViwxM0+jqTpzdnCY6xSIiIiJytlBidSIzhYyqKrb9LgF97j8z3GmZ1FS9xy+v6OqeiIiIiIh0jI5JrBxukqcuZ9ueMmpq/dRU7aUgdzkv3+nukOo7l4npREnVGWQY5+r8ioiIiMhZxRF6FQbxU1ex6Mk+eDctZda8A9Q4+zAwcRB9vhd67SIiIiIiIl91oSdWRjx3/ywKsp/n1qTZeJo2z3op5JpFRERERES+FjpgKuA5GAZgfYH1JSXdt00mI7eICr+fmkN72bZyMsPcJ5YyiX94Bmu3FVFxyE9dbRUVZUVsm52E60gRo2nq4f4qamqrqNi1mblpgzCb1eJKnsba3HyKD1ZRU+un7tBeCt6ZQeoVx09CM6KTeHlNPqWH/NT5yyhY+wDRp5FumsnTWLutiNKqKurq/dRUFbEtYzLJ/U6Y9HbNRNYW7aXC33hsNftzWTs9hejmxRxRJL84h4wt+RSXlVHTVLZi/2rSmj2X5H54IQX7G6df1tVWUVqUydyHY447DzjcDHvx2DTNOn8ZpUWbWTu92fnEIHbUZOau2UzBnr1N573xGBaPimhHewaJz68mu9nxVRw5PucJJ8zRh1EZTeWOXJtoTRAUERERka+n0EesrO1k51Qy+mfpLHrew/jXsvC0kGG5UheycVEK5r82MG/yHGrCExj9WDoZq2DYj6eSZwFEMGz222SMjcL6Vxbr/rQKT7XFueF9iCj34qOxTPLsDWSMMilZt4CXP7Zw/8dd3D19FbHmPMVIKgAAIABJREFUbdz00nYswIyKZ1h8BHlvzWZxicW5rnhGjBrD4owvqIx7nmwLCE9i5obljA7fzaYl0/kwEEbsLSNIBrztPA2uqHiGXWOSt2Q2b5RYnNsvgdTUdDKu6cPomx9hRXlTwcrdZP91PtneSg4ThntgCmPT5pAR9DDg2e2NZYx4Rk0aSWJ5Duv/uoHich+Ww+ACl8WOA8fa9P73dtb/aQfe6sNg9CEmeSSjZy+DyjjGv20BJslzN5AxykXJ20uZ9acD1DmjuPXhkQy7JQaXYwPeIOBwMfSRdEZfsZtNf13Jeo+XGsugZ7iJZ2dlO9oDd/wQ4iN3s27WfD4MGLivSeLutIVsiTK56Y75lASP3jj4CtezfkclhMeT2nRtPNc/33QviIiIiIh8vdghR/gge9KGIrum3m/XlG22F7+YYseazfYbg+yZu/x23a4Z9rBm292PZdo19XvtubcZNmAbiTPs4lq/XbpypO12tNLWNZPtglq/XbwgyTaPbHNE2WlZVXZd1Wp7tKtxW/SkzXZdbb495Zpjr41+Mdeuqy+yZ95iHC1TU7/Xzrgv4lj95hh7Y63fLp07xDbacQ5aas9150K7tN5vF0yPO0Vdbjst12/XbZtsRx85ZudIe+1p9AFzpL32kN8unjmo8XUxk+1ttX67dFmS7Wp2riZt89t1BZPt2CPtOdz2pNwTtp1Oexj26A1+u27/HHuYcaScaSfOzLfr6vfai5OPnfcTz1XskWuTaIR+PyoUCoVCoVAoFJ0cHbMqYHUOryTFcdmQCcz78ByGTlrItqJMJt3QNEksZgiJbij860o+DBoYzsbw/WM7JcEIYq/p01hs6CDc7GbFa0vxBFtuyp04iGiHh00rsppGsIDgbpas2IplxjH0xtank3nyduDFhfv7ACYD46/GqM5jxfrKVl8TCu/b81m3D6JvHIr7yNhg5BAmZWym+OCRKYPv8UwMEBZGWDvHD80bJjJ3S1HjNMb6Kmp2/YZEA8zwMKDxXMU6Ktn0Vla7R+BOp72W+ciet5K8YATxg+JbXQ2w5OOma9OnAzoqIiIiItLJOvB7rCy82Ut5JuXHXDZ4KtmOQUyZk068A4zzwzAdEDtpMxWHqqhpior8dGIdYJouDBqnnoEXz4HWW4kID4PgYQ5XHD9fzKr04sPE/N4pntOxLCwMcBiASVhPAwJefK0kcSGzqvBUAt8Lw+UAHDFMyljOlKFhFP7pBUan3MmDE6fzruc06naPYdGqadz9/QOseOkR7rnjEca9tJKSZqclwhUGQS+Vn3bA3Lo2tNeq8kpqgmC6TpGABZpfGxERERGRr5cOWG79ZL4PZjPlrQfIfiyegS7I++wwviB4593Ps387fFL5uvIdWFjU+HxwZNSilSGWyurD4OhN2AUG/OvYp3ojwoWJD9//tjWJ8HG4xoIrXESckbMAOHpzgQkcbjx+ooaQfI1ByeuPcc/kpuepMDDvm0Fqv/ZVbQ4dTmJ4JX8ZcxfPND3fhAG3vjgGd1OZwwELHGGEnW/Aly4tEnp7rQoPo6cDfNUnX3sRERERkbNBB45YHe8C81wI1vGFBezIIrscoq+NwfdhDtmbj4+8ksZJfTvezcHjiCL1yZHHps6dwJOdQ0nQzbDUhGOr0TmiGJUah+Hbzrv/aHtilZ2Th2UmMHpUVIhH2zIjfgRDo8Dz0dbGRRv+X7N9HdTGuadICj15O/DgZtiI1qfgdWR7rYlOHUGMw0fhhztOI70zSXwxk+I9+WQ8FtP+xkVEREREOkHoYzXhKWRsTcfMyyK78ACHg2G4ByYx6mcReN+eyrpqgBxmvbSB5AXpbPmvOP7yt614qi0w++A2tvPKsyvxBMHaPJ1nlwxh0ag5bMtPYt2mPDzVgBmB2yjilWeX4vl4Pi+9dRcZoxayxbmMvxQ2rQqYaFA47VX+0o6HiTxLZjDv/lWkTX+b7GtXsnGnD1zxrSZ1X8oRxdiFq4nYlIeHKJJHpRAdyOGZWTmNCcW+LN79VzqTHn6dRSwlp+QwlhHBUHf7m/L9PZMPfYMY8eoqZl6RyQ6vhWHGEdUsg7KyZ/NGdhIvj13IJnMlG/dZuK4cQnIMsLvj2zsqMoWZayAx7wCWK4FR98XBx9P5z7/6Wij8JYw4Uh8ehNsF7keSiJ23g8IzNXVTRERERCQEoa2AER5nj5u53M7etdeu8fvtutoqu2JPrr125kg71nl8WfewdHtxVr5deqjKrqv32zUHi+xtGWOOX4nOEWEnPjbDXptfZFf4/S2XM9x28tTV9rb9VU3tbbYXpw06tkogLa88ZyTOsIvr/fbah81j7bkG2WkLMu3ig419qjtUZpcWbLbnPhzVrvMQPWmzXVdfZhfk5tulh/x2nb/MLs5daKfdYB5ftl+SPWVlrl18sMquqfXbNYfK7NI9+Xb2sjHtXhXQdUu6vTi3yC6tqrLrav12TVWZXbor1147qdkqhK5BdtqyXLu0qvHalBbl2gUHT1iFsI2rAn55e02rAh4qsrdt22vX1PrtukN77W0Z6fawyNO4NmCDaSfPzrcrDu21s58/1eqKCoVCoVAoFApFl0aXd+CsiJaSha9kOIfYc/f77ZqVKccloh0TLS23rlAoFAqFQqFQnP1xppZtkK8CRwzjZj5KlO9A49RLp4sBw1JIdXlY/Odmy9WLiIiIiEhIlFidzRwmrh/Ek3xtCi7TgIAPz+6tzHpwKlPWKa0SEREREeko36Jx6EpERERERERO0xlbbl1EREREROSbQomViIiIiIhIiJRYiYiIiIiIhEiJlYiIiIiISIiUWImIiIiIiIRIiZWIiIiIiEiIlFiJiIiIiIiESImViIiIiIhIiJRYiYiIiIiIhEiJlYiIiIiISIiUWImIiIiIiISoSxMrd1omNbX5vBzflb0QEREREREJTRcmVm5G/DQew5PD2h1d1wsREREREZFQdV1iFTmEYQMNPO9mssPqsl6IiIiIiIiErMsSK9eI4Qw0PGxan4fyKhERERER+To7c4lVeAypT44k3tnSzgiSfxqP4cli/YfN0qp+KczMyqW4rIqaWj91/jKKtywk7ZaI4147bOxEkq8wz1jXRURERERE2qPDEyszJoVJCzZTvCeXxS9O5PZrjZMLuUYwYqCB5++ZNM+rjIg4hiXGYJQsZdZLzzPl9Q1U9kni5TVvM/OWpkTKGc+ISdPIyC+i+J0ZpCVHoRRLRERERES6mh1yOEw7NjXdnrulyK6p99s1+zfbGVNH2oluo8XyrrGr7Zr6vfbcYcfvN26YYRfX++3stIhj2/uNsdce9Ns1uel2tKNpm9NtD3tsmp2RX2bX1Pvtil2Z9swnk+xoswOORaFQKBQKhUKhUCjaH6FVYNyQbm/cU2XX1VfZxVsW2pPui7NdjlO9JsIevaHKrts/xx5mnFhXC4kVhp28qMyu82fa41wn1mXY7sSR9pSMXLvU77frqvLtjMdiuvqEKhQKhUKhUCgUim9YOAiVO4aBbgPLk8Om1StZsX473uApyruGMuJGA+9fN5DdplUrLCq8leAwcX0P8B6/z5O9gb+YYUREuhgdH8XA2AgM0IIYIiIiIiLSaUJ+xsp66xEGDJnAvEKTu6evpnhPPmtnt764hDk0iURnJTl/29rG5MegZ7gJQR/e/222OTyG1Elz2LhrDwUrJzOMHF559BauH5+lpEpERERERDpdhw1/Ge5B9rjpy+1tB/2NUwPfmWGnXtG8jGmPXlNl15UttJOdLby+pamA4Un24v1+u65gsh3rwMaIscct2GwXH/Lbdf69dvayyfbo+IgOOwaFQqFQKBQKhUKhaG+EPhWwGcuTwxvpObwx2U3iqEcZe38fev5fswLhSYy40cD37gY2BVqvJ/7J1WT0y6LQaxB75wMkR1aybvJ8CpumGIZFQN7rExj9+kryvBqfEhERERGRrvUtGjOsTmHet5ziRQm8e29/Rq8+OSEybphBwZYxGDu24/v+1USb4PPk8ZdXXuDZJTs0xU9ERERERL6SOnTE6tRMho5IwKzeysbNp06RDiy/j8RZlZ3ULxERERERkdB0+BcEt8ocQnKiiS9nA+/6Oq1VERERERGRM67TEitzaBKJpo/st7NQXiUiIiIiImeTTn3GSkRERERE5GzUeVMBRUREREREzlJKrEREREREREKkxEpERERERCRESqxERERERERCpMRKREREREQkREqsREREREREQqTESkREREREJERKrEREREREREKkxEpERERERCRESqxERERERERC9DVJrAxM0+jqToiIiIiIiLSoSxMrd1omNbX5vBx/ikJmChlVVWz7XQLNUyvXnXMoqKqiYEESrjPdURERERERkVPowsTKzYifxmN4cli741TlTEwnnDhe5bomnmjTIDo+nj6OM9hNERERERGRL9F1KUnkEIYNNPD8KZMdVvtfXjjrKR4PJsDf55MX7PjuiYiIiIiItFWXJVauEcMZaHhYvD6P08irwJvDG5NzOrpbIiIiIiIi7XbmpgKGx5D65EjinS3tjCD5p/EYnizWf3h8WmVEJ/HymnxKD/mp85dRsPYBopulf8Ztcyit91N3JAqmEXtiehg5ho1+PxUrUzBPaHfcO1XUlS0k2Qk44xj9ZAqx4R1xwCIiIiIi8k3V4YmVGZPCpAWbKd6Ty+IXJ3L7tS2s5ucawYiBBp6/Z3JcXhWexMwNy0lLhMIl05kyayUlhuu4xSmswqU8/uAExj/6FCtKWulEeRabdliYNw4hsXliFz6UoQMNfB9kkR0AI2YEaS8uZNueIrIXpZN6jdlKhSIiIiIiIqdmhxwO045NTbfnbimya+r9ds3+zXbG1JF2ottosbxr7Gq7pn6vPXfY8fujJ222a+r32hn3RRzbbo6xN9b67dK5Q2zjuHoi7LQtfruuYJod6zi5jejnc+26+r323NuOtWGOWm1X1JfZGanm0W1GZJw9eupCO3t/lV1XX2UXb5ljT0qNsc0W6lQoFAqFQqFQKBSKliLkESvjhnQ27trDtmXpJLKdlx+8hcv638I9k5eS7Wnp6akIhv00AaP8XdZnN99vMjD+aozqPFasrwy1W5T8dQN5VlNbTfUnj0jA9G5gxd98R8tZ5dtZPPkREvtfxfUPTCebBJ5ZlkvprkymJOq7s0RERERE5MuFPhXQHcNAt4HlyWPT6pWsWL8d76lW6XMNZcSNBt6/b+C4vAqTsJ4GBLz4OmKVv5JVrP3YwjU0iUQDiEwhNdHAs34VmwItlA9WUvi3VaxfncWHHgvDHU9Mnw7oh4iIiIiInPVCTqystx5hwJAJzCs0uXv6aor35LN29kSSr2j5eSVzaBKJzkpy/rb1hNUAfRyuscB0EdHWtQr/DXwbzmlxp4cVy7fiixzK3cNMolNTGGjsZv3inJNWITSjh5A2ezUFe4pYOz0Fs3ABj/8kjnuWnNZ6hSIiIiIi8g3UYfMKDfcge9z05fa2g/7G55XemWGnXtG8jGmPXlNl15UttJOdJ7/enZZp19SX2Rsfizq2vdVnrIxjdRmt9MmZZC8u89sVG6bZc4v8ds2Wiba7+bNT0Sn2zHeK7Ipav113MNfOmD6m1efCFAqFQqFQKBQKhaK16NDvsbI8ObyRnsMbk90kjnqUsff3oef/NSsQnsSIGw18725ocTqeZ8kM5t2/irTpb5N97Uo27vSBKx53i720+DCvCOu2JF5cNI2oQgvXlZDz+FTWVTcVCWQxd8VuUtMmMhof6x5Yhqf5NEPLxPXdIpY8PpE3luTQ4iNhIiIiIiIibdBpWZx533K7or7MXnznKUaFXIPstAWZdvHBKruu3m/XHSqzSws223Mfjjq5rDPOTsvItUsP+e262jK7dNscO9V9Qpl+E+2Nh/x2XdE0O761kS2FQqFQKBQKhUKhCCG+1fSXTmCSurKIxTduZfTl97PC9+WvEBERERER+Tro8C8IbpU5hOREE1/OBt5VUiUiIiIiImeRTkuszKFJJJo+st/OQnmViIiIiIicTTpxKqCIiIiIiMjZqfOmAoqIiIiIiJyllFiJiIiIiIiESImViIiIiIhIiJRYiYiIiIiIhEiJlYiIiIiISIiUWImIiIiIiIRIiZWIiIiIiEiIlFiJiIiIiIiESImViIiIiIhIiJRYiYiIiIiIhEiJlYhIhzIwTaOrO/G14TC7ugciIiId4yxNrPpw4V9qSNh3JCq4fPjX64OO48HLef7fsSRcCQzvx5P/juMng7u6V9JeztsvJqUgjkl1N/L85wNJK7icIXc5jhXoF84dpT9iUsHFXOTsun6eDuOuvjxW8yMee7MXX5V3V4e+b/qNJGNPFRX500hs67UxU8ioqmLb7xLafU6+ce95M5w7am7ksVfPO7bN0YObixOYtLIX0J243ARefL/3V+b+EhEROZWzNLGq5NCcX1Dy1C8oeWMrwa7uzukINgANBIONfw8e+fsZ040LJvYl6Q/h9HR8eelOE92LhDf786PO+oDZke1deSF3LHVzqTNAwa/38d6vy/mkIIgVbDhW5jKTS9wOjCtNLnJ1QJtfxtGDq/7Qj59M7BFyVd+9ziTcdBB+vfMU90wn31cd+L4xouMY6DYwr4gnvs3XxsR0cnqJQKe/57taNwxnC/8FBQGr8Vzw78afz+rTICIiZ42v0kfoDmRh/WMZFsDA63CPi+vqDrVbMBDECjqwqgEzSDAYxKo5ky06uCglkgGmh21nspn2urQX1z3Ym09z93zt2nPeGs4lzlq2jdlF1pZWCm0sY80T9Vzkq2b7vpCb/HJGDy579EIuyqjinRCr+uz3e8gMmvCel4pWP/l27n3Vke8ba9MMxqdXMtC3gXmdcG06/z3/VRTECjRgBYJAA3WBBixLaZWIiHw9nKWJ1Vmgoh7L143PA0B5PZ8HgwTKu7pT0h7nnu+AYD2+0lMUCtZTOrOMUxX5yvIG+Odzga7uxfE68n0T9LBp1lQ2dWT/TkXveQgG+fyzBgIV9UADAW89VrBeI1YiIvK1cOYSq/AYUkfF4Jm3lLwAmMnTWDRpOLE/cOEyDSyfh5K/r+KVydNZt89qf/0XDCEy7TF63xhDj/Aw+OIw9f+TR/lTqRzc1fZquicv4MpfDqaHK4xuWNTv307Vm5PxrC7i2IStCM579Df0vXswzu+H0e3/WQRrDhBY/TRF/7n1WF3/MZV+E4Zj9u+D49sWwZpKrIKFlPxiDrVBwGniMs9ptS9WdSW+I6diX4C9Gy2qg0B1AE9mNypO/Awb6eRHv+3LdcPPwzQa8BVWk//r/fzXxqaPIc5epFRcyUWrCnntIX/jNkd3frRtIION/fxxQDmfBeGSN+MY+eCRyUtufv5v99Emqqd/xOtP1zb+YPbgqt+6Sbi9F+HhYHl8fPLqfrIW1B774OMwuPRXFzLgJpML+hk4TQcORwOW9xBbbt3F9p1tvDBuFyP39ueSpjv0sjcTePHNIyeqijXnl/BJ0/lwDo9kyHMuLo3tgSNoUf3eQbKeKKfU07j/gt/G8lB6d4of+idrljX11GWStO1qLivdw/whXmoi297el3E8GM2kN3sffXPdWprArU1/DyxquhbOcFI+u5zLjpz2oI+Nlxax3XNibd04/8FIrr/d5KKreuAMd2AYEAzUU/zEP1mzqOl4zB788Pd9uf7W8wgPdxC0gljeAJ88t5OsVQ2Nz64UXMuPr2yq9sFYXnzwSBv1FCR9yIbMth0fw/vx5IYLOfrY0U4PfxxQxmcnfPrtsPsq1sUdiy7m0ujuOHy1lGYewhrQm8uiHfhyy9gwspxPq5sqbsv75ss4R7L24ByGHb0223nm8luY5Tm5qBGdxJTfTiY1MQqXw0fJxwcwm/+r6jAwXWGtTw0MVOL1tb3vjthwbn71Yq66rgdOZ+MoV8BTzft37eOTZqNqX/aeaCxkcNlzF3PdXb24KLI7DoJY3lr2/nYXaxbUNx1gdy79VV9ufqAX4a5uBD0+iv/oIWtmgCP/VF30bDQ3pTg5v5+B09mNYHUtn64tY+PTVXzma9ZedC9uftXNgJt64HQEqf7IwnHS/0ANeHOr2buzsf3PtlVTHDz+/wf3nRMZ5stk8WYPp/E/h4iIyBnT4YmVGZPC2AljGP2zONyO3cz6eCV52RauqHiGXWOSt2Q2b5RYnNsvgdTUdDKu6cPomx9hRXt+M/uDCVy5fCq9zjuAb+MqyvZ5CXIuhhssb/v6GzyQR/VbO6ivOUzDOX0479b7ifzNUrp5B7LvH43/bXdPnc+Vk+KwMheyf/4ego4wukf2p3t55bGK+r/A5X+YQI/iZZS/UoT1BTjOj8JpVFJ/5LP8w6spnd7atEQf6x7ozz0rmj4qVB8i66EjnQyw9d4TPmGZTm7eGMuP3RZ7l3nIr3YQeU8kg9ech3nHP3lnYwNtVTF/DytzDS59uj8DnFW896tqjsxAsgqa+mP04EcbYxkcG6R00X62FYMr5WKum381hvXRsYTFcHLds5FcUn6IT1ZVUf1pkKDDgfOCIBWeNncJqn1seWgXBVe5+Em6SfXcEv4r/8j5sPj0SLfu6cfDSy/E2Okl/7kyAuf34rqJfbl3Lcy/vpzPLKj4dQnvDfwht/4+mvKCnWzf6eCy3/dngHmIzJ97qQm2vb22COaWs2ZkNT3v6svgW4MUPFHG3qbLFyxuSiYsP9vG7OITB/Qc3pfBw1upzOHg0jFuBlwZYO8qL5+UWlhWN4zzHdR8ciST6calf7ya4bcH2bvAw7biIBgOzMt6EKhoOHoMnzy3iwrXefzoj5GE53p4Z1lT4hJswFfQ9uOj4CAbRvpwOLpx6dPRDGilWIfdVxc5ueTKblTM3MNOejM4/WKCG/ezcU0Prv9VX37yxCHmPdd0Xr/sfdMW1lZmjX+E9Q6DiJ8+xZTbWikXnsTMDcsZHb6bTUum82EgjNhbRpAMHP1nKCadLbnpRLfyL61n3nAGTMxpTBC+rO+Gk5tXXc71xiHyf38Qr7cBR7hB+GUNBJr9u9eW9wROJwnvXc1NA6H6vSryV9US+LwbxiUGVvmR+8rBpX+8mnsf7I537UG25AcxB1/IgN9fzfk9C/nTr2qBbpg/DueSfrV8MteDtwacA8IZ8Gg0I416Zo30Nd5j4SZJG69kQHiA4kUeygMOXINdXAX4jj9KPpu+h8+a/h5YtJ+s4/ZGkJiSzszkabz4ryyWLJzNG0ty8HzFBk5FROSbyw45HKYdm5puz91SZNfU++2a/ZvtjKkj7US3cbRM9KTNdl1tvj3lmmOvc9250C6t99sF0+Nso83tRdi953nshH/l2O4BYV9efuAf7Lh9Ffblw4221f+d/8/e/cdFVeX/A38tez94tUmuNspYbEyuCWUFbgmWhtQm4RaIuwlbFlL5c9XY1ohal9XNdVfTPn5dbf3F5u8lkUShDUM2QepDSi0/LEFwZSBWhpFlxmlirtMs5/sHKKOiDg2Cuq/n4/F+tN577jnnnnth580998xz4u4yswhZENa+TRbKkkoRVrZTaG+69HFeUTvF2OOVYti4S7cjDwsRMU9Fdx4xESLYz/0x17x8j1ggRovY6VLHdj+t+GlDmFhQdKsYIEFAM1DEfh0m5r/T3+VaeYuHisPEwiN+YpDkWqe3CCkMEwuP3H7B9vb2Zt8tksVD4pmXvTu2a/qLn1S3tac5e4xGK575Nkwkbujv9rlcNqKGiflirIh9vpN9skZEVIeJhdVDxQ8Ul77Oaxub6CiXssO0IrYhTCwo9hN3Th8u5n87Wjwz27tr7XUxBr35I7Hw2/tEiP4K5f5wmXKSt3ioqLPr5Vqmn3i0IkwsLLpVaK7UL41WxNovuCe+c0iXvWe67b6KGibmf/uAiBjb0f8XX/c+V/eC3MFC6o57rZMIXlws7C15IrGTaxOYnCfMjmqRNsW3Y7syQ+S0WEXN2oi232lKgAiPucTP/FPRIjJIcb8/ep148dswMefNfpcu4+bPxICU+8QC8ZCIf/0yvxcf8BMzvw0Tie8oHeMreYuQjx4SC813i3t1EICXuPeDsWLhV0PFHXLHffGj3LFioXm4uEvT3t7r94kFYrT46XMuv6+Uwd/xd4UiAmPmiZVZxaKhxSrsJ4tF5vIZInyYm7/jGQwGg8G4SuHxEyt5TBIyNyUhXA8YPsnC0uenYcvOwzC6MSne+P4G7Dkei1ljH4deOoxKdybS3xQB7WgfOAtSUVdy2tPuw2vkXAydPw3ae/3hfZMKZ/MZePUBnAN82kuosBUUQv3ZUxi+ays0W7bD+H4u1G/Or6f1s/1obo7Arcs/hNfWVJx8bxdsDec/5lCPH8aebnkJ3gt3PKJAsphwJM1l0OqbULLfgXsnK7hDexLmbvsrrhfumDAQsqUJJWlOSOdW8rKhutiBURM0GCIB1V15EUKWoAmU0Pfsv52tMH/RxXcpggfiTj1gXG5Eg9MLUvvcNLXQAqNzIIaMkoHs9mtwvAlZL53EzL8OxTMbADW7Ellnpztd75wqqnNsePDloXgx1xtFa40oz1bhyTv/cqCMm13mr9mPq7B1+1MBN++r845pbVsiTvIC4ITz21ZIkhck9PTKcQpGh94HuSkXO/c2XrqY5Rjy9xzrnibrraj4zInx8+5BvLYexRtMqPj0grN262eiFXdGKJCMJ1G48tKPYjWPDIROUlGcZukYW6cD/0izYPwjCu58GDiyq7MjnfiqtAV4RMbNWgA2L/g92B9SkwlHMrvjKllQuWc1Xt6zGq8Pi0DCzBmYOmUFcub8BqU7foOnZ2+FgS9lERFRL/B8KqA+CKP1MlRDAfZlpGPnXveSKgCAaoKhEcBtPtBJcC+x6u8DqQ/gNNbC/clulzBkGgLXL8bAloOof2sJLCdUeOnCcHvKNLguRu3MnYfSaZXQz30Ofkt24vZf18Ly/hqcWJYKW/sriN5UAAAgAElEQVSrS2hIReXkRvi98gpunf0n6OYuRssnu2BY9ns0VbUngF15x+qyJPQd4AVYHLBdMGY2owOQvCFrAXTbB2EJfQd5AcpgxDYMvni3U2r7EN6VFx4CdZhSPBS6s3egswm7Bxx1+z0mAMAgb8gSoHn9ASx4/eLdFuX821s90IQa460Y6dcKS6ntorG7frXiq1fL8U7N7Rj/0q2YsPt2jDdaUfGnE8hdbu36ecr98WhOMEbpz25woOSnnyIrs3t77fZ9dU1S4DNABmxGWC43vl15x+pKnC34vwml+PoNPcKeHorY54dB/cKEojdO4OCu9j8SuPMzIbVCowVgVC/b97OLr9gaLuiG0QEVXpC1l/62DufXbb+dJRk49/vK5vAo2e+MejwXe95V4KPzhT4uCMEPBMAXgKF7myEiInKLx4mVumMaRv4rFrN+MR1Tl2dg1oJj2PfeVmxZtw17vrzCJwZpMIYoAE6fvvyHE1fW03CeASSdP7wA95Or71+8ySssCgMHNsKYFAdDQXtW0AfQvnp+YgWocHz8Fqo+fgvHh4RBO2UObn9+OYLv1qF08u/PfXBtrc1G3bxs1N0UACVmGm6f/Szufnc4qiZNhLG2i+9YXZYTdnMrcI83NBdcQY3OG3Ba25ZsdgJOJyBdWKhT7SMpdXZTOGE/1Qo0NSEn/mQnS2s7cKqrSZyhCR/NUCGfS6wcqOns1C93X5xq+6BmW/sFPsi+uKDzqxaXf0m468/DMVJjQcWBfrgraTgezS3FRx93ob2rxuM/EQBOJxpWn8DW1SegGavFj166HQ/+4T784I5yvD3Dev5pXekc1RaUvHoUXylny7eiqfgSZb/FFX6LdPN95XTAsMsI+YueulCX+nm04LRZBUbo4Hu58+/KO1busLTgyEtHceRXEgZNGowHX70dj/z1R9BqPmtbyMSdnwmnBNUCQC9DkdD2jmEn7KecgCRDMwSAy6Izks4bMlqhNrXCva9CPPv7Sr7o99V3JvsiNG4GZk+Lx8RQX8BQgHdTnsX6v2Sh9Ib5gwkREV1vuuH/5lQY8rfitfytWKQfh4Q50zF1yhKkzUyBIW8rFiW9gp1fdn6kHDoRjwcAhi0H3XtaBQDfHERziQrtuGnwG5l15emA35xGq1OG9yB/ABdMyflP23+68i3JrQ0HYVpxEDZ8igemjYfi/3vY/nlhm8dg2ZEES20fjN78HLSjfWCsPQ3L336Np/91iW8adaowfObux6tW1BywwBk1EPdOllBxdmU43UCMHO8NZ6kFNU0AoMJSD8gj+2OI3IyGy1bfCvvXrUCgDI2MC552taJmvwXOqP7wU47jcFo3fHKxqKje5Mb5mh1QnV642a+TR2KlFtTUAyNH9YP66/rLJncD5g1H9CQvVPyiEumZ/RBdfB8e3KhH9SgDvnI97nLtXSV2cysgeUPxQ7f8qd32cRMOfmyFWjgaE8ZrMUS2diy+4XRCtQGynwwZ1kucoRMNu5rQ0Ok+V23fMwTFG4qEi1YFPFemO+8r1YbDL5z9jrGr/20RFsuZtj8A3SYDBtfRsiC/4BDUJ8OQMDUAO9++xHS/f6bj5WfKoFyiq2p12Xe7y5xOnNp1Eln7HZC/uht3TugPbGp282fCger9VjySMhgPz6tHzfLOe2A70AyjcyjufFqBtL99OqDkjR89rUCyWFBd6G5nO35fjXzeGxWrPZmCqyA8eQ3+OCcCwTrAkJ+Opc9sxPqMsosWwSAiIupp3frJRDUUYF1SAdal6BE+dTpmPuuPAa7vIkkBmJmaAd99h2BAAGKmxiLQVoDXVnXhL7aohfHNFRi8/TfQby+AkrMflmO1cEKBt99gOLJfxUnXBKXqMKxWQPfCmxj6/YNw+PjDuz4VJ3aUo/WTbFisYRj8u51w7siG7dQZYOAo9Dtvtp4M5bcfQn9bGZo/K4dqBry0AdDGBADmjHOrcXlFbUTw1D6w5B9Gi/E0Wvv5o390NLydx2CrOtM2Pt32jhVg22hA0QvBePhPwYgdaUS9RYLf5Ftxl9KCojfaV7pDC45kWvFgih9is4Di/SqcsoxhfgCaLqyxFfWFVjgnDMZP/upAcaEDGNQPSsNJfLCyBbZNJ1AYH4xH3nkAAyYZUV2iQoUEzQ9k2HYdx+ED3XNeF/nCiq+agJEvDUd03yYYv/aCcq8Xal6qQ3WTFQd/a8Sd7wzFC8X9cSTbCsupVmCAN7SyDR+92tT2NPEeHaLe0ELd9UX7e1UO5P7qJO7Y7YfoN5qw/le2joc4l23v6pyirciKJuftGLlyGNTdLcAP+sGZeRz/t9/NCqR+CDsQCL+aJhhKVHxtA26+S4uRDwDqAVvbKnBnqTbUlDgxcrwesX/2xvGaVkh3auDcVeV+e+e0or7ICmeUDhFbHRhU0grNRWN1jd5XbjJ+eggG5zxMXbEG6p5jgF8A7HvnYlmeCsOWFVj/7C4kLn8f+Q+kI+cLC6ALhd71t2p3vmM1TIfYbC2c+y2or3DADi8MeuRW3KFpRVNJx2qT7vxMnPrfEyiKug8Pv/kjzBlvQsWnLbDZAXlQP2hqTuKD1S3AZ0Z8tE2HZ56/Gy9q6nGkpLVtVcBHgPrFBhzpwgqstk0GFMUH4+H/DcaLo4yoOOIEhigY1OX/B1IBrQ8sHy7H02s2Yk8Z0ykiIrp2XJ0/+aoG5K9fgPz1F+6wwGjzR+TMCOgkCwxl6XjttVewqrKL9R99C19MqoLfvLkYPOZZ6GNk4IwKR+1hGD/qg/OeNJzJhuE3qZB/PRm3vhIGnDoGy5btbfsaUlH5Cx8M/eVzGDx7Mfz6yWhtOQ2HsRyWYx0vpDv/WQbnAxHw++VzkPoArdZGtJRvQ9VbKbC0J45e5krY1MkY/MJ4ePeXgTOnoVYdQl3SEtSVXIUnHzYbPppQDvVNPUY9p8ddmrbvsToQa8BBl6XWT71xFOmaYYh4zg/jx3sBqhM2oxU1B1pgv+ABgXl1FXLuHI6HJ/lhfJQXnEYbav7c/unJ1oKD40th/u3tCJl0Kx6eJEFyOmEzWFGS06VJmV08TwtyZxigefNW3Js0DCOdTlhKjfhKA6AJsG2rwl+abHg0SYe7Zg9s/x4dFU0HWtAXgA0S7v3DUNyhGvHXXzWfuzPUTAM+ytTip9OH4kcbynG40r32roqP65H1x36Inq3DI28Aar0VxV0a01aYj6i4c8KteORp7/bvDWtBQ+ZxZL1quuCPFk4c+VUlhvx5KEY+PxR3SK1QDRYUZ3+3a2hefRz7Rw7HwxP0GD+p87G6Ju8rN6mfLMfsZQFYOTMayQsBS305tnzY/jTTUoDXoiajYfErmPXEdCyaIgM2C4xfHsa+z2qvwvNOB5oqvHDX5Ntxr04CnE7YDDZU//EL5LosQnHlnwkAFis+euQfOPXb2xESpcWDj3hDQitUow1fbTj7DN+J6l+U46/GoXj0OT+Mn+QFtd6KI786gdyVLZ307zIsNnw0oRS2P+gxKup2jH/OC7A5YfnCgprirjzBUpGfFIX8rrVORETUI76HtuUBr7rA5DyULPTBsodHYdHnPdEiERERERFRz+jK60VERERERETUCSZWREREREREHuqxqYBEREREREQ3Kj6xIiIiIiIi8hATKyIiIiIiIg8xsSIiIiIiIvIQEysiIiIiIiIPMbEiIiIiIiLyEBMrIiIiIiIiDzGxIiIiIiIi8hATKyIiIiIiIg8xsSIiIiIiIvIQEysiIiIiIiIP9WxipVEgyz3aIhERERER0VXXY4mVPjEb5pP78dqInmqRiIiIiIioZ/RYYiXLfSFLPdUaERERERFRz+E7VkRERERERB5iYkVEREREROShq5dYaYMQNz8eoRqXbZIvJq4oRIXJBLu1DhUH1mBWqNKxPygWiVNDoOMCF0REREREdB3p9sRKCYpF8sY8VFQVYvPCeZj0gGuWpEB3SyPy/7Iai97OheWH8ViZuQ2zAtv2Bj42A4vaj01bHI9QP2ZYRERERER0fRAeh6SI4LgksfZAuTA7rMJ8Ik+kLY4X4Xr5XJnA5DxhbykWS+/vOE4es0SUtFhFxdpxQm7fprs/ViRvzBYVzVZht1aLorQUkTDG99x+BoPBYDAYDAaDwbgGw7MK5DFJIqfKJOwOk6g4kCqSp4QInXRxubOJ1SKXxApSiFhabhX24hQRfOExSoCImb9C5JTXCbvDJGoKl4gYXa8PFoPBYDAYDAaDwWBcFJ4vgK4Pwmi9DNVQgH0Z6di59zCMTjePdZrQ8G8At/lAkQC4Hmc5hn0706EoOuj8ohEYFAp/zSXqISIiIiIi6kUev2Ol7piGkRFzsb5Uwc+XZ6CiqhiZq+chZoRy5YOlwRhyC4B/n3ZJxmToH5uBpemFqDiah7UzA2DYsQCTQp7EquOe9paIiIiIiOjq6LbHX7J+nJi1fLsoOmltmxr4wQoRN6JtX2dTAZUn14gKh1VUrGx7x0oXkyIyS+qE3WEVDeUZYmVihAjU9P5jPQaDwWAwGAwGg8G4XHg+FdCFaijAuqQCrEvRI3zqdMx81h8DvnEpIPkifFYKEistGKAfh7gpEdDXZyHhrQKoANQ+vhjwVTpeS9mI9e8fg9qdnSMiIiIiIrpKvoe2DOuq08UswaYFUQj+oQ6KRoZqMaDy77uwLGU59hxnCkVERERERNevHkusiIiIiIiIblTd/gXBRERERERE/22YWBEREREREXmIiRUREREREZGHmFgRERERERF5iIkVERERERGRh5hYEREREREReYiJFRERERERkYeYWBEREREREXmIiRUREREREZGHmFgRERERERF5iIkVERERERGRh5hYEREREREReYiJFRERERERkYeYWBF1lUaBIvd2J4iIiIjoWtKzidWweKRVmdBQvAThmh5tmahb6BOzYTbtxy9H9HZPiIiIiOha0g2JlYzItdWwO6wXR0s2ZmldSgaGYLRehjIiFKE6z1u+MgXhc1Zg88p4BEo90Z6bAmOxaGMqkh/jY4/rjSz3Ba8aEREREV2o+9INZxk2v7wRh5yu24z41NbxT3XfCsxOasRoSxbWH++2li9DQdBTMxCnrMb/64nm3CQPC8PUqdEo/Xhub3eFiIiIiIi6QTc+x2nEoR1bsdl2mSJOA/atWox93dcoERERERFRr+uZd6w08ci0uk4RzEOivvOiuvAZWLopA0VHq9FgMsHusMLcXIeS1REdU7CUEMzamI2SOhPsLW37a44WYuVTSnsBGZEbq2F3lGPpGAAj5qGopaP9kj+GdPEEZAROWYHMkmqYW6ww1xUjZ3U8gpWOEsGLiy86L/mpVDQ4TEib0t5z/Tzkt1hh3h0PHWREbjR1jIk1Awku753pn0xBWmE5GqxWmJurUZSegsgLxsytsXKDErMEmUXlqDlbh6kcRWkpiBl2fi36F1NRcqIO5hYr7C0m1JRnY+2LQVBcC0kBiFm4BmkHilFRVwezta1sw4kMJJ57L0lBzOpCVJw0tdVlrUPFgVQkhvue3zFJj8iF21FUVXeuXE15HjKXR0PXpfbc6LsUhFnb8lBS1VFHTUk21s4MOf/8AEDyx9S0ajRYrbA3V6PkgxWIC+QEQSIiIqL/Zt34xKoPZK0vdOeSgzNQLRZYVADqQayaPQ17JRm+T7yCRU9eqg4Z/k9MR+IUX5TuycKWL2vRYFEhKzr0rayFCqDtQ/kOrJxox76/LMf6ytOA7AN9oD8aGtT2elSUps5Hwsc6TJi/AnGaLCz6XS4a2/dZSqu6dGb6F7cjZ20E5M/TsX7JMWDY44h7cQ1yfijjkegNqHReuQ4AQFMulk4/Dd09k/HH+aEwrH8F6z9r22V31uJQe/d1canI2RQL5cssrE9ZA7M2DAlzkpC2C4h8eHF7OXfGyj26gFBE3q/g0JbVWFepou+wMMTFJSHtfn8kPDoNO+vbyhn/eRh7/1IGY9NpQPZHUEw8ElZvAxpDMPv99hblUExNjkd4fQH2vpeFinoLVEnGEJ2KstqzLVpg+CwXmw3bcNqiAtr7MPHFeCz9q4zTP3oWm40AoCBmbRbSpupQ+f5WrPpLLeyaAEx4MR6RjwVBJ2XB6HS3PTf6Lvlj9I9DEGjJxaplh2CGgruefA4Jq9/HXdrxiFxS5jKmKiyle7G3rBHQhiJu6gxsTjsDw4MLzl1DIiIiIvrvIzwLWUSurRZ2h/WiKFoQcFH54MXFwt6SJxL1ndcVurxY2FuyRaLuEu1JIWJpuVXYC+cJ/RX7pheJB6zCXrJEBEvf8fzkCLG2qq2OUI1LPxcXCrOjWmyOkS95XvJTqaLBYRJpU+Tz6pSfXCNqHCaROVXupL1xYuVRq7AfXSEilY7t+jnZwuyoFmuflDv6cKWxcjMCk/OEvaVYLLq/Y5vuqVRR47CKkuUhQr7UsUq8yGy2ioqV4zrKaOJFZotV1KyNuPRxnUTbmNSJtKfazy8oRRS1WEXNtmihO3ftA0RykVXYS1I6rud3bO+ivsvRYvNJqzCnx3bUIweJ5EKTsJsyRILu0mMVvLBQ2B3lYmV4J9eTwWAwGAwGg/FfEd03FdBZhlXPPIunY8/GU/jlztorH9fldsqx78NjUENTkPPBCiTGBEG5miv+BY3DaD+gdE86Dp17f0zFoS1ZKHP6InRcaPeuEhcUgXA9UPpeOj51ypA1bWH5+DAqnb4Ivt+/O1u7JOP7G7DnOBA49nHo28dXGTMPaw+Uo6bZCrvDBPPR3yNcBhStTxdrlxE8dQVySqo7pt1tiIUOCuT2qvTh4xAsNWLfjlwYu+F8vlPf1TKs33wQqhKCx8de+ipXfl4GI3TQ98ylISIiIqJrULcuXlG5Lwt7Lrd4RbdQkf/6k5hkSEHynFgsTZ+BRcYy7H17MV57K7dtelg3kgf5QJGASuMFSaKxEWYnENDlpMK99nTJeWhIvni/QdFBxrEuTfX7TlQTDI0AbvOBTgIq/WZg064lCLcVYP3vfo9P/6miz21h+OUfZ0DfxaqVp9Ygc2MscGgrls7LRdlpQBc6HX+cPw6ADECFr84HcBrR+FU3nKn+u/ddbTTCAgXKLW396pRNhQoZkC5ThoiIiIhuaL3w7U7d8MHT2Yj8t+ci/+1XoBsTjVlzkzBzcQZC9U/hwdm5sJwraG/7z/eBPt+1t6dOw+IEFJ0v4FIzdL4YIAGWptNt5ZwqgD4YcJM7/b9ye8b1z+L1v52+aL+9vqxnPrpLgzFEAXC6/fwfj0K4thHvzpiM1869TwVMWNjVxEpG+MQI6Gy5mD1pLjY3tW89FYbk+ePOlTptUwHJBz6DPE9WPOm7fIsOCiywWJgwEREREdGl9cyqgC4sljNtH9pv644JdCqMn6Rj0dOTsfQTQP/jCASfV+0ZnP5aBbS+GPJdmysrwKf1QHBMPELPLcwhI3hKNIKkRhwqOAQVgPF4LVQpAEFjfS9TWXuvzadhccrQ+XUyd6wsF/n1QOADQbB8WoD8vPPjUKXl4mOuAjl0Ih4PAAyfHTxvcY6+PZSKGw6VwQA9Iid231TLrvddj5iJIZDVMnz6nValUBC+MBsVVcVImxP0HY4nIiIioutFjz+xMn56CAbnPExdsQbqnmOAXwDse+diWZ6bH1ylECza/zZCDbnIL61Fow3wDYxAwv2AJb8cledVY8Gnn5RDjYzGH7euQMAntYA2AHrjVsxeddi99tRcLFuWi8i18/Buji927jsGddjjmBoXBDXvFSxtfwJi+TAde43RiFucgc36LJQYgQGjgzpPCr48hLKmeYibk4q1chYqbTL098goeHkB9jQVYNXvshCzMQkH/i8E7/7tIAxNKqD4Qy8fxrLX02Ho5umOAAApADNTM+C77xAMCEDM1FgE2grw2qoCqADUv2fjU8s4THxzF1aOyEaZUYWshCCgy1mPivz3D8IYF42FmWugzyiHwQb43BN83rLmav5qrMuPxtKZqdinpCPnuArdPRGICQJwrGstWrrQdzlyCfZtC0F+5Wn4hE5GQqQCw/rV2GLo6nkCkEMQ9+I46HWAflo0gteXofRqXDsiIiIiuiZ4uAJG+6qALRkiQeNOeUWEL8wQJSdNwt5iEg1VeWLpk8q5uq68KmCQSFidIYqq6oS5xSrsDpMw1xWL/G1JItyvk/KaIDFrY56oMLWtVGiuKxaZCy6z0t0lzjF46gqRU14tzC1WYT5ZLHJWx4tg5fxySug8sbmour1fVmE2VYuSwu0icczFq8XpnkwRmeXt52CtExWFa0ScvmO/PjJJbM4tFjXNpra6TpaLorQZLqsbdvOqgI46UVJYLGqaz/YnVSSOUc7v82NJYnNhuagxmYS9xSrMpjpRc7RQZCaHdHFVQEWEzlkjcsqrRYPVKuwtJmE+WS0qirPF0kiXsdKNE4nbCkWNqa1MTXmhKDlpFfaiFBHYxVUBr9j39lUB7VWFIr+qTpjP3it/jBZ6+YKxumBVQDl8hahwWEXmi8pF5xmzulg0NFeL/C7fcwwGg8FgMBiM6yx6vQOMXo7OkoVrMjQRYu2JtiXRle6uu7Pl1hkMBoPBYDAYDDejFxavIHKDFIRZK6cjwFLbNhVSo8PIyFjE6QzY/FfXBUqIiIiIiHofEyu6NkkKdD8MRcwDsdApMmCzwHDsIFY9vxiL9jCtIiIiIqJry/fQ9uiKiIiIiIiIvqMeX26diIiIiIjoRsPEioiIiIiIyENMrIiIiIiIiDzExIqIiIiIiMhDTKyIiIiIiIg8xMSKiIiIiIjIQ0ysiIiIiIiIPMTEioiIiIiIyENMrIiIiIiIiDzExIqIiIiIiMhD115iJclQNL3dCSIiIiIiIvf1amKlT8yGuaUYS0PbN9yfgiJTHfa86Nub3SIiIiIiIuqSXkys9Jj4RChkQwEyy9q2yLIPFI3ce10iIiIiIiL6DnovsfKLQORoGYYPs1Gm9loviIiIiIiIPNZriZVuYhRGywbs23sIzKuIiIiIiOh6dvUSK20Q4ubHI7TThSh8EfNEKGRDLvZ+enFa5f/zVJTUmWBvMaGhPBsrpwRAdjk2cuY8xIxQrlrXiYiIiIiIuqLbEyslKBbJG/NQUVWIzQvnYdIDnbwzpZuIiaNlGP6ejU7yKuj8FVTuXY1FyzYi/z9BmLXxfWya0r6ghSYUE5OXIK24HBUfrEBiTACYYhERERERUW8THoekiOC4JLH2QLkwO6zCfCJPpC2OF+F6udPyupkZwuyoFmsjz98vj1khKhxWkZ/o27FdGy02n7AKe0mKCJbat2n0InLOEpFWXCfMDqtoOJotVs6PFoFKN5wLg8FgMBgMBoPBYHQ9PKtAHpMkcqpMwu4wiYoDqSJ5SojQSZc7xlckZJmE/cQaESlfWFcniRVkEbmxWtit2WKW7sK6ZKEPjxeL0gpFjdUq7KZikTYnqLcHlMFgMBgMBoPBYPyXhQRP6YMwWi9DNRRgX0Y6du49DKPzMuV1j2PiWBnG97KQ79aqFSrMTRZAUqC7BYDx/H2G/Cy8q/jA10+HhNAAjA72hQxwQQwiIiIiIuoxHr9jpe6YhpERc7G+VMHPl2egoqoYmasvvbiE8ng0wjWNKPjbQTeTHxlDdArgtMD4b5fN2iDEJa9BztEqlKSnIBIFWDb9MTw4O5dJFRERERER9bhue/wl68eJWcu3i6KT1rapgR+sEHEjXMsoImG3SdjrUkWMppPjO5sKqI8XaXVWYS5KEoESBOQgMWtjnqhotgq7tVrkb0sRCaG+3XYODAaDwWAwGAwGg9HV8HwqoAvVUIB1SQVYl6JH+NTpmPmsPwZ841JAG42JY2VYPszCPtul6/F/IgnJUi2gBGDClFiEKsewbsZGVLZPMfTxBQ69PRcJb6fjkJHPp4iIiIiIqHd9D20ZVo9QpmxHxaYwfPjMcCRkdJIQDYvH2o3zEB7gD71WBlQLDJ/nYvOSBViW19hT3SQiIiIiIuqSHkysFMSll2Pz2INIuPtZ7LT0TKtERERERERXW7d/QfAlKRGICVdgKcjCh0yqiIiIiIjoBtJjiZXyeDTCFQvy388F8yoiIiIiIrqR9Og7VkRERERERDeinpsKSEREREREdINiYkVEREREROQhJlZEREREREQeYmJFRERERETkISZWREREREREHmJiRURERERE5CEmVkRERERERB5iYkVEREREROQhJlZEREREREQeYmJFRERERETkISZWREREREREHurVxEqfmA1zSzGWhvZmL4iIiIiIiDzTi4mVHhOfCIVsKEBmWe/1goiIiIiIyFO9l1j5RSBytAzDh9koU3utF0RERERERB7rtcRKNzEKo2UD9u09BOZVRERERER0Pbt6iZU2CHHz4xGq6WynL2KeCIVsyMXeT13SqmGxWJlbiIo6E8wtVtitdag4kIrEx3zPOzZy5jzEjFCuWteJiIiIiIi6otsTKyUoFskb81BRVYjNC+dh0gPyxYV0EzFxtAzD37PhmlfJviGIDA+CXLkVq363AIvezkKjfzSW7n4fKx9rT6Q0oZiYvARpxeWo+GAFEmMCwBSLiIiIiIh6m/A4JEUExyWJtQfKhdlhFeYTeSJtcbwI18udltfNzBBmR7VYG3n+fnnMClHhsIr8RN+O7cNmiMyTVmEuTBKBUvs2jV5Ezlki0orrhNlhFQ1Hs8XK+dEiUOmGc2EwGAwGg8FgMBiMrodnFchjkkROlUnYHSZRcSBVJE8JETrpcsf4ioQsk7CfWCMi5Qvr6iSxgixiNtUJuzVbzNJdWJcs9OHxYlFaoaixWoXdVCzS5gT19oAyGAwGg8FgMBiM/7KQ4Cl9EEbrZaiGAuzLSMfOvYdhdF6mvO5xTBwrw/heFvLdWrVCRYOxEZAU6G4BYDx/nyE/C+8qPvD10yEhNACjg30hA1wQg4iIiIiIeozH71ipO6ZhZMRcrC9V8PPlGaioKkbm6ksvLh0oyY8AACAASURBVKE8Ho1wTSMK/nbQzeRHxgCtAjgtMP7bZbM2CHHJa5BztAol6SmIRAGWTX8MD87OZVJFREREREQ9rtsef8n6cWLW8u2i6KS1bWrgBytE3AjXMopI2G0S9rpUEaPp5PjOpgJqo8XmE1ZhL0kRwRIE5CAxa2OeqGi2Cru1WuRvSxEJob7ddg4MBoPBYDAYDAaD0dXwfCqgC9VQgHVJBViXokf41OmY+aw/BnzjUkAbjYljZVg+zMI+26XrCZ2fgbRhuSg1ygh+6jnE+DViT8oGlLZPMfTxBQ69PRcJb6fjkJHPp4iIiIiIqHd9D20ZVo9QpmxHxaYwfPjMcCRkXJwQyWNWoOTADMhlh2G57T4EKoDFcAjvLvsNXt9Sxil+RERERER0TerWJ1aXp+DxiWFQmg4iJ+/yKVLt9ikIX9XYQ/0iIiIiIiLyTLd/QfAlKRGICVdgKcjCh5Yea5WIiIiIiOiq67HESnk8GuGKBfnv54J5FRERERER3Uh69B0rIiIiIiKiG1HPTQUkIiIiIiK6QTGxIiIiIiIi8hATKyIiIiIiIg8xsSIiIiIiIvIQEysiIiIiIiIPMbEiIiIiIiLyEBMrIiIiIiIiDzGxIiIiIiIi8hATKyIiIiIiIg8xsSIiIiIiIvIQEysiIiIiIiIP3aCJlT9ufdeMsONnowF3R8m93akukZ6/Gwu+DUbYPQCihmH+tyH4yfje7hUBvDZEREREdLEbNLFqRPOal1D5ykuoXHcQzt7uznfhbAXQCqez7X87z/7vq8YLQ+YNRfSftBggXc12uihwIMLeGY6Heipxcae9Hr82RERERHStu0ETKxXqx9tg2rMNpo9rr8vEymlzQnW2Qm0CYHbC6XRCNV/NFiX8INYPIx/ph2spr8KdAzHq+cHw87t22uv5a0NERERE17pr6jM0uWhwQLV44WsbgHoHvnY6Yavv7U4RAF4bIiIiIrrI1UustEGImxoEw/qtOGQDlJgl2JQcheAf6qBTZKgWAyr/vgvLUpZjz3G16/UPiYBf4hwMHhuEflof4MxpOP51CPWvxOHkUfer8Y7ZiHt+OR79dD7wggrHicMwvZMCQ0Y5Ws+V8kX/6b/H0J+Ph+Y2H3j9R4XTXAtbxqso/38HO+r68WIMmxsFZbg/pO+rcJoboZakovKlNWhxAtAo0Cl9LtkXtakRlrNDcdyG6hwVTU4ATTYYsr3QYLvgAD8NHvrDUIyK6g9FboWltAnFb5zA/+W0P6PTDERswz34wa5SvPWCtW2b5I2HikZjvHwCfx5Zj1NO4I53QhD//Nl30PT4xbf6c000Lf8Mb7/a0vYPpR/u/YMeYZMGQqsFVIMFR948gdyNLR1PBSUZd/72Vox8RMGQYTI0igRJaoVqbMaBCUdx+As3L4xeh/jq4bij/Q69650wLHzn7ECZsHtQJY60j4cmyg8Rv9bhzuB+kJwqmvafRO6v6lFjaNs/5A/BeCHJGxUv/AO7t7X3VKcguug+3FVThQ0RRpj93G/vitdGE4KEmXqUbklHaZOb50tERERE17VuT6yUoFjMnDsDCT8LgV46hlWfp+NQvgpdQCgi71dwaMtqrKtU0XdYGOLikpB2vz8SHp2GnV35i/8P5+Ke7YsxsH8tLDm7UHfcCCf6QtYDqrFr/XXWHkLTjjI4zKfR2scf/Sc8C7/fb4WXcTSOf9yW5XjHbcA9ySFQs1NxYkMVnJIPvP2Gw7u+saOi4b/B3X+ai34V21C/rBzqGUAaFACN3AjH2c/yL2agZnnIJXpiwZ7nhuPpne2ZVVMzcl8420kbDj5zQValaPBoTjAe1quo3mZAcZMEv6f9MH53fyg//Qc+yGmFuxo2VCG9UMadrw7HSI0J+3/bhLMz29SS9v7I/fBQTjDGBztRs+kEiioAXeztGLXhPsjqZx0Ji6zBqNf9cEd9M47sMqHpKyeckgTNECcaDG53CWiy4MALR1Fyrw4/SVLQtLYS/1d8djxUfHW2W08Pw4tbb4X8hRHFv66DbdBAjJo3FM9kAhserMcpFWh4oxL7R/8IE/43EPUlX+DwFxLu+t/hGKk0I/sXRpid7rfX1rfLXxs5aCISF85D4ILf4NDebVi7ZiN2fm7pwskTERER0fVIeBySIoLjksTaA+XC7LAK84k8kbY4XoTr5XNlApPzhL2lWCy6v+M43VOposZhFSXLQ4Tsdnu+YvB6gwj7skDoR/pcufzoP4mQ4w3i7ijZvfpvek7cXWYWIQvC2rfJQllSKcLKdgrtTZc+zitqpxh7vFIMG3fpduRhISLmqejOIyZCBPu5P+aal+8RC8RoETtd6tjupxU/bQgTC4puFQMkCGgGitivw8T8d/q7XCtv8VBxmFh4xE8Mklzr9BYhhWFi4ZHbL9je3t7su0WyeEg887J3x3ZNf/GT6rb2NGeP0WjFM9+GicQN/d0+l8tG1DAxX4wVsc93sk/WiIjqMLGweqj4geLS13ltYxMd5VJ2mFbENoSJBcV+4s7pw8X8b0eLZ2Z7d629LoTsFyISFqeK/BMmYXeYRMWBNSI5LkgonYwtg8FgMBgMBuP6D4+fWMljkpC5KQnhesDwSRaWPj8NW3YehtGNFSOM72/AnuOxmDX2ceilw6h0Z5WJmyKgHe0DZ0Eq6kpOe9p9eI2ci6Hzp0F7rz+8b1LhbD4Drz6Ac4BPewkVtoJCqD97CsN3bYVmy3YY38+F+s359bR+th/NzRG4dfmH8NqaipPv7YKt4fwpjurxw9hz3OMuA/DCHY8okCwmHElzGbT6JpTsd+DeyQru0J6E+cKpg560N2EgZEsTStKckDRn1zyxobrYgVETNBgiAdVdWSVElqAJlND37L+drTB/4ejaQiPBA3GnHjAuN6LB6QVJ07ZZLbTA6ByIIaNkILv9GhxvQtZLJzHzr0PxzAZAza5E1kZHV1rrErX+MDanHMbm3/ki+GfxmDnrOby2LR6vLS7AqhmTsSj/O0x/JSIiIqJrludTAfVBGK2XoRoKsC8jHTv3updUAQBUEwyNAG7zgU6Ce4lVfx9IfQCnsRbuT3a7hCHTELh+MQa2HET9W0tgOaHCSxeG21OmoZ9LMWfuPJROq4R+7nPwW7ITt/+6Fpb31+DEslTY2l9dQkMqKic3wu+VV3Dr7D9BN3cxWj7ZBcOy36Opqj0B7Mo7Vpcloe8AL8DigO2CMbMZHYDkDVkLoNsSKwl9B3kBymDENgy+eLdTws0ygK7kCoE6TCkeCt3ZO9DZhN0Djna8x+SOQd6QJUDz+gNY8PrFuy3K+be3eqAJNcZbMdKvFZZS20Vjd1U4G1H6t13Yq/WF/rZ4hOtDEeTfA+0SERERUY/yOLFSd0zDyH/FYtYvpmPq8gzMWnAM+97bii3rtmHPl1d4r0QajCEKgNOnYXH3Q671NJxnAEnnDy/A/eTq+xdv8gqLwsCBjTAmxcFQ0J4V9AG0r56fWAEqHB+/haqP38LxIWHQTpmD259fjuC7dSid/PtzH9Bba7NRNy8bdTcFQImZhttnP4u73x2OqkkTYazt4jtWl+WE3dwK3OMNzQVXUKPzBpzWtqXAnYDTCUgXFupU+0hKnd0UTthPtQJNTciJP4mGi66VA6e6msQZmvDRDBXyucTKgZrOTv1y98UpB1QnYFv7BT7Ivrig86sWl39JuOvPwzFSY0HFgX64K2k4Hs0txUcfd6G9LlICIzB1zgwk/CwCgYoFpe9vxMu/2IjNeXxaRURERHSj6YbFK1QY8rfitfytWKQfh4Q50zF1yhKkzUyBIW8rFiW9gp1fdn6kHDoRjwcAhi0H3XtaBQDfHERziQrtuGnwG5l15emA35xGq1OG9yB/AMfO3/eftv905cu8WhsOwrTiIGz4FA9MGw/F//ew/fPCNo/BsiMJlto+GL35OWhH+8BYexqWv/0aT/9L13nFThWGz9z9wN2KmgMWOKMG4t7JEio2nV0dYyBGjveGs9SCmiYAUGGpB+SR/TFEbkbDZatvhf3rViBQhkbGBU+7WlGz3wJnVH/4KcdxOK0bsg+LiupNbpyv2QHV6YWb/Tp5JFZqQU09MHJUP6i/rr9scjdg3nBET/JCxS8qkZ7ZD9HF9+HBjXpUjzLgK9fjLteeuwJjsfJ/f4Ofh+uhWMqwZ8crePntrcg3MKEiIiIiulF166qAqqEA65IKsC5Fj/Cp0zHzWX8McH0XSQrAzNQM+O47BAMCEDM1FoG2Ary2qqALH2FrYXxzBQZv/w302wug5OyH5VgtnFDg7TcYjuxXcdI1Qak6DKsV0L3wJoZ+/yAcPv7wrk/FiR3laP0kGxZrGAb/biecO7JhO3UGGDgK/c6brSdD+e2H0N9WhubPyqGaAS9tALQxAYA5A7b2VQi9ojYieGofWPIPo8V4Gq39/NE/OhrezmOwVZ1pG59ue8cKsG00oOiFYDz8p2DEjjSi3iLBb/KtuEtpQdEb7SvdoQVHMq14MMUPsVlA8X4VTlnGMD8AFy0D3or6QiucEwbjJ391oLjQAQzqB6XhJD5Y2QLbphMojA/GI+88gAGTjKguUaFCguYHMmy7juPwge45r4t8YcVXTcDIl4Yjum8TjF97QbnXCzUv1aG6yYqDvzXizneG4oXi/jiSbYXlVCswwBta2YaPXm1qe5p4jw5Rb2ih7vqi/b0qB3J/dRJ37PZD9BtNWP8rW8eDqsu252afVQW6m8ux5eV5WLelAMyniIiIiG583wewqNtrdVpg+PwjvLdpNz5rnw2oHRuPWY/eBEONhHsm/BRPjr4NakUWlk6fjVUlXfzkeaoIp/YdRevAEeg/ZjwGRURg4Kgfoe9N38B+OBuW2jMdZf9Tha9rtdA89Ci0kRFQbpfxn4r9MH32L8D2DzSXOeF9Txi0kVHwnRCFgSP1gKkK1sJMnPrHvwBIkPzuQ//RERj0k0kYHBmBAffchtaKTBh+/Tqa6tva+v7g4bgpOAzaiCgMfiIK2tEj8D/mQzj55quoK/gXRLcMrAuHAzXZFnzrfzMCfuaLET/W4H/qmlA09xg++lvHE6WWwmYYb+6LOx73xb0TtbjzwZvwPxYb/vVhE478zQ7X5RvU0tP4ZogG/o8PwoioW+D/w+9BLWvGkYMOwPEtanf9G8039cFtPx6MERMHIeDhm3HLgP+guaAJNVXtZ+jdD/e+Ngg3lRpxKPsMPOZQUVsl4DtmIAKi2tq8+UwLarLNaLIAjvJ/48vPvsXN9ykImDgIdz1xC/zv6oPvN5/G8fe+QUurhHtT78FDvibs/mk9TO1Pp5yVVrQE6XD/ZA2+yWzEv5rca88tls/x3qbdyPu81v0prkRERER0Xfse0P2f+TsTmJyHkoU+WPbwKCz6vCdaJCIiIiIi6hldeb2IiIiIiIiIOsHEioiIiIiIyEM9NhWQiIiIiIjoRsUnVkRERERERB5iYkVEREREROQhJlZEREREREQeYmJFRERERETkISZWREREREREHmJiRURERERE5CEmVkRERERERB5iYkVEREREROQhJlZEREREREQeYmJFRERERETkoZ5NrDQKZLlHWyQiIiIiIrrqeiyx0idmw3xyP14b0VMtEhERERER9YweS6xkuS9kqadaIyIiIiIi6jl8x4qIiIiIiMhDTKyIiIiIiIg8dPUSK20Q4ubHI1Tjsk3yxcQVhagwmWC31qHiwBrMClU69gfFInFqCHRc4IKIiIiIiK4j3Z5YKUGxSN6Yh4qqQmxeOA+THnDNkhTobmlE/l9WY9HbubD8MB4rM7dhVmDb3sDHZmBR+7Fpi+MR6scMi4iIiIiIrg/C45AUERyXJNYeKBdmh1WYT+SJtMXxIlwvnysTmJwn7C3FYun9HcfJY5aIkharqFg7Tsjt23T3x4rkjdmiotkq7NZqUZSWIhLG+J7bz2AwGAwGg8FgMBjXYHhWgTwmSeRUmYTdYRIVB1JF8pQQoZMuLnc2sVrkklhBChFLy63CXpwigi88RgkQMfNXiJzyOmF3mERN4RIRo+v1wWIwGAwGg8FgMBiMi8LzBdD1QRitl6EaCrAvIx079x6G0enmsU4TGv4N4DYfKBIA1+Msx7BvZzoURQedXzQCg0Lhr7lEPURERERERL3I43es1B3TMDJiLtaXKvj58gxUVBUjc/U8xIxQrnywNBhDbgHw79MuyZgM/WMzsDS9EBVH87B2ZgAMOxZgUsiTWHXc094SERERERFdHd32+EvWjxOzlm8XRSetbVMDP1gh4ka07etsKqDy5BpR4bCKipVt71jpYlJEZkmdsDusoqE8Q6xMjBCBmt5/rMdgMBgMBoPBYDAYlwvPpwK6UA0FWJdUgHUpeoRPnY6Zz/pjwDcuBSRfhM9KQWKlBQP04xA3JQL6+iwkvFUAFYDaxxcDvkrHaykbsf79Y1C7s3NERERERERXyffQlmFddbqYJdi0IArBP9RB0chQLQZU/n0XlqUsx57jTKGIiIiIiOj61WOJFRERERER0Y2q278gmIiIiIiI6L8NEysiIiIiIiIPMbEiIiIiIiLyEBMrIiIiIiIiDzGxIiIiIiIi8hATKyIiIiIiIg8xsSIiIiIiIvIQEysiIiIiIiIPMbEiIiIiIiLyEBMrIiIiIiIiDzGxIiIiIiIi8hATKyIiIiIiIg8xsSIiIiIiIvIQE6tOyVAUubc7QdczWYGi6e1OEBEREVFPYWJ1ISUWaSYTiv4YBqZW9J2EpqDIVIU9L/r2dk+IiIiIqId0T2Il6RGzeDuKqupgbrHCbKpGSeF2LH1K3y3V96y2Jw29nlRJQUhYmYq1c4J6uyfURbLkA0Xu9TuIiIiIiHqQ5HkVMkIX78Km+f4w7tuKVetrYdb4Y3T4OPjf4nnt/7XkIEx8MRbBO9MhA1B7uz9ERERERHRJnidWcih+/rMAIH8BJkSvhqF986rfeVwzERERERHRdaEbpgL2gSwDUM9c8amK/skUpBWWo8Fqhbm5GkXpKYjUX1hKQeiLK5BZVI6GZivsLSY01JWjaHU0dGeLyO1TD0+YYG4xoeFoHtYmjoPiUosuZgkyC4tRcdIEc4sV9uZqlHywAnEjzp+iJQdGY+nuYtQ0W2G31qEk8zkEfsd0UwmdgbW5Lue3ewliAl3a08QirdmKmo0RHVMNpQAkF1lhL0lBsARACsLSEivszWsQKQO6qRkwO6ywO6ywO6qx9kmX+pQQJKzORkmdqW2cjmZj7YtB509j1EcgceV25BSXo+bsWFhNqClMQWhXZqsNi8XK3EJU1J2tow4VB1KR+NgF7xHJ47DoQDlqmk2wO6wwm8o7uc4ygqemYO3uPJRUVbdf57aym6e61Hf/PGSWV6PB2nYfmE8UInN5LALl8+sKjFuCzJLqtn61mNBQVYz83UkId7khdOEzsHRTBoqOVqPB1N635jqUrHa5Fm60p8QsQWZROWpMLueXloKYYRcPZkDi/rZyVhNqijOwKEZ/URkiIiIiujF4/sRKPYz8gkYk/CwJmxYYMPutXBg6ybB0canI2RQL5cssrE9ZA7M2DAlzkpC2C4h8eDEOqQDgi8jV7yNtZgDUL3Ox5y+7YGhS0VfrD996IyxoKxOzOgtpUxVU7tmIpZ+r0P94Mn6+fBeClSfxyO8OQwWgBIQiMtQXh3asxuZKFX11oZg4dQY2p51BY8gC5KsAtNFYmbUdCdpj2LdlOT61+SD4sYmIAWDs4jDIQUnYk52CIFsB3l21DQY5CD+fOg9pH/gjIexZ7Kx3syJnLd5NmYZK3xDMXD0D+o9X4/Udx9r3WVBR2j64cgiSszOwKOgM8rcsx/pKIOCpGZi1NgOKOhZP72hsKxYci9fmREM9lI49W47B2KRClRXonYdQ24X5hbJvCCLDgyDnb8Cqv9fCrgRgQlwslu4Ogv6n4/FynqW9j0aU7tsFc0YjTquAz7AwJMxMQtomCx4cvxqVTgCSDo9PS0LCiGPY91469hqMMKsyBmgVGL5o7Gi08Rjy39uAfGMjTsMH+tGxmJm4BmlOA0a+fhgAoJ+aipy10ZC/zML6JWUwQ0FwzHTERIYhSF6O/Lbew/+J6Uic4ovSPVnY8mUtGiwqZEWHvpW1HX8QcKM9XUAoIu9XcGjLaqyrVNF3WBji4pKQdr8/Eh6ddv51bjyMnVuOwQx/hE+NRfI7qTBXP4ZVX7o/7kRERER0/RAeh3acSM4qF2aHVZjr8sTmhbEiWHHZL48TK49ahf3oChHpsl0/J1uYHdVi7ZOyACDk8BWiosUqatLjhV66RFv3p4iSFquo2BgtlLPbpACRmGsSdlOGSNC1bQtMzhP2lmKx6P6OYwMXFgq7o1ysfEw+V8bsqBZpU3w76ldmiJwWq6hZGyFkt8dAEXHpdcLenCeSR3RsVyLXiAqHVVQsD2mrSxMr0pqtomajS91SgEgusgp7SYoIdj1nTbzItF5Q1iX0M7OF2VEnchIDXI5pG2dz4bxz4yfHpIoGh0mkTZE9usbymBWiwmEV+YkuYzVshsg8aRXmwiQReKnrBfz/9u4/Jso70ff4Z5NJ9tlcEp5Gzs40NXFOjinsundx067DRlcnWQOcuAU22xW7tsje1mqveknjEtq4pDbGWz2y8TZqtMVzxF9BWVoFbAUW46B7DiLbIORUEPfqSHoLzLEyTlxnlrD53j+gBRQs+CBUfb+ST6LPfOf7PDPyh5883+eL8b3TZKKRKrM64cvP7DUFZ0f5zF8br8k7GzHRhsKB81mLzPaOiIm2Fhl/3JdjLOPf3mqit6tMnmfomG9b0x3H7uN8Y/xceZ7fa672RUzz4L/zaN+VtXjgWMOGxAmcnxBCCCGEPCyZnF0Br9dra8Y8fS91rd47922lFexVQ2uVCuYPrsVKTpXfK134oEzn+i1ZcQMJ/+m82vvdmvvMrIFhaYvk1SUd/f0BBftHP5XXv0hJrqCqj9YO3sGS1H9J+4+eUcyep7QFY69vCza2qFseeZ+SJFspvh/Kut6ooxU9Y75nXKx58qfYiv25TPuH3Y0I1x1QRbvkXZAm7yRsEzLElj/NJyt8RiVHr331fVpq0blPwrISffJN6vnG8JcD2l8TlpW8UP6EwWNWorLeKVfDlc6vlgwef3mW5LIVn3DP2e42M1UFpXVq+/zLZXd/1BvJkuLjFe+SNCdV/plSe8VBBW5Nwuf5uvONofvE+zr+FynpHv/OsXOtao9JHu+s6d9xEgAAAJNuEv/7HVN34IDeCBzQlvn5Kv1DoTbuzFfgxxvU8g/xsl2Sp6BOXQV3vzNoe2Tpmp5IsCW1K3ht7LO4E+Kl/pu62TVyHVusp1th2bJn3GMPvVhMMVmSy5JkK/4JS7rVrfAYJW7cXB55bCn2RfdQ2ZOk/pC6vpDkjpfHJbU7PM0QW/H/YEl2hko6Q3e/3B+vJ6ZkK8GYurp7JJctzwxJ3Zb87xxS6Rq3Lhzeodc/uqRuWUr+9e+0MX2CU7uSVVB6SBvnXNPxXb/Txk+C+tu3vcraUKTswZ9a68mBn6v2z+7xAzOJ5xtTLKRgj6SnBv6dg6ON6Q/rZkyy2IYdAADgkfRA7muE/32HNh5+SYE1PqV4pMb/uqlwv9T93ot686Obd42PftaimGLqDYcleeSdpTEfcuq5flNyfVfxT1rSp0PNwXJ7ZCus8BfjbRNh3eyNSXM8cjv9Fvq71R2WrBke2cMv3fVdPTlD0s2b6u6XpJjUL1lx9lgzDTMwdsxr/6+YdP2M3vgfO9Ry17iw2ifjDs7XGnguSv3t6v5CkuVTZlqi1LhJL/xm21cFI/hPr2pj+rcnNnViqrKesdS+a41eKDz/1fns5UXKnj34197YwPN0CW5pZKWduPGcbyyu7+pJW9LNm/cu6U4LPAAAAL6xJmcp4CietL8j9Uf1t5iklloFPpOSnk1W+Fy9AnUj09g+8J/ilpp6BV2Jyl6fM+aSqmCgXu39XqVnLxzaBdCVqBXZ82SFz6vmT+MvVoH6RsXshcpdkejsw8bOK3AuLOvZpcqeM3TY9i9VZpIU/FPNwNLG/mu69P8kO3meUr7uxkV/TDdvSfZTXt1dw8IKnGpULCFZP4pvv+v7DNS1DBa5BywhVct+5pb+73mdu37Ha07L6t+H/jjWVxX79LwuhKWkny8d2FHxAZ9vLJYvU2mJUvDPZwY255ggT1aRAhdb1VC8dJKXjAIAAGCqOP9vXMJSlZ7Jl91Yq8CFa7rZHy9vSoZW/NKt7hObdPy6JNXr3bcrlVWcr9P/MU9HPjqj4PWYZM+S1zqvrW+WKdgvxeq26c39qdq3YqcamjJ0vLpRweuSbLe8Vqu2vnlAwU/e19uHf6XSFXt1Ou6gjlwY3BXQb+nC5n/RkQls5xfcX6T3XvyD8radUODZMp38z7Dk8d3Hf27Dqti8Q43+Qm2sqlLS/jMKxiUra0WGvJ9VKvfdgZ0K1d+i48dblLchR7s/lEpOXVPMmiX/U5K+uGPKWKMCF2LKXpyvfTvcCgRj+s7sREU/WKutdTEF92/Suy+eUEHxn+TNqlDgwjX1ytaTM93q+uC3ejfwYNYB+taXq3R2rS50W5r7/EvKmtmj44Xv60K/pP5GVZwKavWqdSrdZ+nIn64N7K43/x63IMfyl1rVfJqvgpd3aZ8OqL79pmKWW2neYWPClfo//3pJ6evX6djHbu0/dU3y+pSZ6ZU0weWB4znfl1yJWrW3XO7qRgWVqKwVS5V0q15vvFuvmCZazCyl5+TIN9uSvC8ps7BM7050S0oAAAB8IzjbASNhnlm9/ZAJXLxseiMRE70dMl0dZ82x7TlmbtzIsd70fFNS22Su3giZaF/E9H7eahpKXx25M5zLbfxrisyxplbTFYmMPs7ymqxN5abhSmjwfHWmJG/R0C6BGn33Nss/sDPbsZftofN5Fpm84irT9vnANUVvdJqrzXVm98sT373Nn+VaYwAAFYxJREFU9r1qdp8evO4bl03zh5tNdtIdu/G5vCZrW5Vp/vJ8kYHv6+T2pcZ755xJS8322sH5bodM18U6s+Xnw67dTja528pNQ0en6b09MNfV1pFjJntXwKtNdQPXfjtkui5Wme0rkkfuWhiXbHK3l5vmK0PX1NXZappPF5nsmUPfwbh2BZydYTaWnTVtn4dM7+2I6b3Raa52NJnAwVeHdiF0Df4sdA7+TF1pMg0XQyZ6e9guhOPdFXAc50sqqDPRvk7TfLbJXL0RMdFIp2k7u9fkzbfv+q5G7KBoZZiSzyOm62DGXbs8elfsNW03Qqbtw1fvubsiIYQQQgj5RmfaL4A8BBm1LHwj4za5H3aa6JWdJt2a/PlHK+yEEEIIIYTwRAceYpZ864uU6+lR8LPwwC8+fiZDy35uqf33B/SAVkMCAAAAd6FY4SFm6UlPklKyM7QswZalmLqDrap5+0Vt3Hr+we82DwAAAAz6lgZuXQEAAAAA7tMD224dAAAAAB4XFCsAAAAAcIhiBQAAAAAOUawAAAAAwCGKFQAAAAA4RLECAAAAAIcoVgAAAADgEMUKAAAAAByiWAEAAACAQxQrAAAAAHDom1esXJbsuOm+CAAAAAAYv2ktVt68KvXebtIW3+CBZwrVEOrU8Zfd03lZAAAAADAh01isvMpc4pMVrNexloEjlhUvO86avksCAAAAgPswfcVqZqrSUywFa6rUEpu2qwAAAAAAx6atWHkyn1OKFVR1RaPoVQAAAAAeZg+uWCUkK3t9jnyjbkThVtYSn6xgrSrO3V2rZi3bq+bOkKK3Q+pqrdL25Ymyhr03fdU6Zc2xH9ilAwAAAMBETHqxspOXqqC4Tm0dZ1Xy1jr94tlRnpnyZCozxVLwVJVG6VXyzLLVXrFDG7cWK/D3ZK0uPqF9ywc3tIjzKbNgs0qbWtX2cZHyshJFxQIAAAAw3YzjuGwzNzvf7D7danr7Iqb3Sp0p3ZRj/F5r1PGeVeWmt++y2Z0+8nVrfpFp64uYQJ576HhChim5EjHR5kIz1zV4LM5r0tdsNqVNnaa3L2K6LlaZ7eszTJI9CZ+FEEIIIYQQQiYeZxNY8/PNyY6QifaFTNvpvaZg+Tzjcd3rPW6TWxky0Ss7Tbp151yjFCtZJr34solGqsxqz51zWcbrzzEbS8+aq5GIiYaaTOma5On+QgkhhBBCCCGPWVxyypusFK+lWLBe1eVlOlpxXt399xjvSVPmAkvdH1QqMK5dK2LqvR6WXLY8MyR1j3wtGKjUETte7pke5foSlTLXLUtiQwwAAAAAU8bxM1axw6/oR6lr9d4FW8u2lauto0nHdoy9uYSdliF/XI/qPzozzvJj6UmPLfWH1f3FsMMJycou2KmTFzvUXFaodNVr68rF+slrtZQqAAAAAFNu0m5/Wd5FZvW2Q6bh88jA0sCPi0z2nOFjbJP7YchEO/earLhR3j/aUkBvjintjJjehnyT5JKRlWxWF9eZthsRE41cNoGDhSbX5560z0AIIYQQQgghE43zpYDDxIL12pNfrz2FXvlXrNSqF2fpib8OG5CQocwFlsI1laq+NfY8s5bkq8B1TbIT9c/Ll8pnX9KeV4vVPrjEMN4tNe5aq9xdZWrs5v4UAAAAgOn1LQ00rClhLz+ktn0LVfPrp5VbPkohmp2j3cXr5E+cJW+CJcXCCn5Sq5LNG7S1rmeqLhMAAAAAJmQKi5Wt7LJWlSw4o9zvv6ij4ak5KwAAAAA8aJP+C4LHZKcqy28rXF+pGkoVAAAAgEfIlBUrOy1DfjuswIla0asAAAAAPEqm9BkrAAAAAHgUTd1SQAAAAAB4RFGsAAAAAMAhihUAAAAAOESxAgAAAACHKFYAAAAA4BDFCgAAAAAcolgBAAAAgEMUKwAAAABwiGIFAAAAAA5RrAAAAADAIYoVAAAAADg0rcXKm1el3ttN2uKbzqsAAAAAAGemsVh5lbnEJytYr2Mt03cVAAAAAODU9BWrmalKT7EUrKlSS2zargIAAAAAHJu2YuXJfE4pVlDVFY2iVwEAAAB4mD24YpWQrOz1OfLFjfaiW1lLfLKCtao4N6xWzV6q7bVn1dYZUu/tiKKRTrWd3qu8xe4R701ftU5Zc+wHdukAAAAAMBGTXqzs5KUqKK5TW8dZlby1Tr941rp7kCdTmSmWgqeqNLxXWe55Svcny2o/oHff3qCNuyrVMytDWz48oe2LB4tUnE+ZBZtV2tSqto+LlJeVKCoWAAAAgOlmHMdlm7nZ+Wb36VbT2xcxvVfqTOmmHOP3WqOO96wqN719l83u9JGvW/OLTFtfxATy3EPHZ79qjn0eMb1n802Sa/BYnNekr9lsSps6TW9fxHRdrDLb12eYJHsSPgshhBBCCCGETDzOJrDm55uTHSET7QuZttN7TcHyecbjutd73Ca3MmSiV3aadOvOuUYpVrJM1r5OE41UmdWeO+eyjNefYzaWnjVXIxETDTWZ0jXJ0/2FEkIIIYQQQh6zuOSUN1kpXkuxYL2qy8t0tOK8uvvvMd6TpswFlro/qFRgXLtWxNTV3SO5bHlmSOoe+VowUKkjdrzcMz3K9SUqZa5blsSGGAAAAACmjONnrGKHX9GPUtfqvQu2lm0rV1tHk47tGHtzCTstQ/64HtV/dGac5cfSEwm21B9W9xfDDickK7tgp05e7FBzWaHSVa+tKxfrJ6/VUqoAAAAATLlJu/1leReZ1dsOmYbPIwNLAz8uMtlzho+xTe6HIRPt3Guy4kZ5/2hLARMyTMmViIk2F5q5LhlZyWZ1cZ1puxEx0chlEzhYaHJ97kn7DIQQQgghhBAy0ThfCjhMLFivPfn12lPolX/FSq16cZae+OuwAQkZylxgKVxTqepbY8/jW1+u0tm1utBtae7zLylrZo+OF76vC4NLDOPdUuOutcrdVabGbu5PAQAAAJhe39JAw5oS9vJDatu3UDW/flq55XcXImt+kZpPvyqr5bzCT/1QSbYUDjbqyNbf6c39LSzxAwAAAPCNNKl3rO7NVlrmQtnXz+hk3b0r0rVDy+V/t2eKrgsAAAAAnJn0XxA8JjtVWX5b4fpK1YSn7KwAAAAA8MBNWbGy0zLkt8MKnKgVvQoAAADAo2RKn7ECAAAAgEfR1C0FBAAAAIBHFMUKAAAAAByiWAEAAACAQxQrAAAAAHCIYgUAAAAADlGsAAAAAMAhihUAAAAAOESxAgAAAACHKFYAAAAA4BDFCgAAAAAc+uYVK5clO+5Bzm/Lth7g/AAAAAAeO9NarLx5Veq93aQtvsEDzxSqIdSp4y+7H8j5rJ/vVNuNDu3+Jc0KAAAAwOSZxmLlVeYSn6xgvY61DByxrHjZcQ+w9FgWd6sAAAAATLrpK1YzU5WeYilYU6WW2LRdBQAAAAA4Nm3FypP5nFKsoKorGkWvAgAAAPAwe3DFKiFZ2etz5Bt1Iwq3spb4ZAVrVXHu7lo1a9leNXeGFL0dUldrlbYvT9SIFXyWV1mbDqnhSki9t0Pqulin3XmLZN8xjyc9X6UNl9Ubiag31Krq9fNGzJP01llF+y5rd/rwo5ay9nUqeqNcqz0D15q+ap2y5tw5OwAAAAAMmPRiZScvVUFxndo6zqrkrXX6xbOjPNTkyVRmiqXgqSqN0qvkmWWrvWKHNm4tVuDvyVpdfEL7ln+5oYVbWTsqVVqwUNafi7Xl7R06/tl3tWzbH3TyraHiZPk362RZodJntKvk95v07uHz0gzPiGLVXn1G7f1upfzsh0MHrR8qxWdLnzYqcF1SnE+ZBZtV2tSqto+LlJeVeFeBAwAAAADjOC7bzM3ON7tPt5revojpvVJnSjflGL/XGnW8Z1W56e27bHanj3zdml9k2voiJpDnHjqekGFKrkRMtLnQzHXJ6JlC03w7YtqKM4z91fkTTV5tyERD5SbXIyO5TW5lyERvVJm82cPmf36v6eoLmdLlg+e15pntF4fNLRkl5ZvA7Yhpfmfe0DXEeU36ms2mtKnT9PZFTNfFKrN9fYZJsifhuyOEEEIIIYQ89HF8x8qan6+TFzvUcDBffp3Xlt8s1veeXqwXCg8oEBzt6Sm30pcslPVZjSoC43i66nqtjpzqkf5pnlISJK9/kZJcQVUfrVX4yzH9l7T/6BnF7HlKW2BJlk/+uZZi56p09C/3mDt2XkcqLkmJqcqaM3DInu9TsoIK1LQOjbsVVPWuDXrhx0/rR6lr9V6Lray3Dqm5o0mla5LH90UBAAAAeGQ5XwroTVaK11Is2Kjq8jIdrTiv7v57jPekKXOBpe5TlRpPr5Ji6r0elly2PDMkd0K81H9TN7tGvjnW062wbNkzLMllK96WYje7h8rXGBqPVOqCkpW5LFmSpbTF82R1n1HNaGsUFVMwUKkjR8tU3dIj2YlKmesWO7gDAAAAjzfHxSp2+JWBuzgXbC3bVq62jiYd2zH2Zg92Wob8cT2q/+jMOHcDtPSkx5b6w+r+Quq5flNyxSv+yZF1xnJ7ZCus8Bcxqb9b3WHJmuH5+uehWg5qfyCmpMyX5LcXyj/fHr30JSQru2CnTl7sUHNZodJVr60rF+snr9WyqyEAAACAyVtXaHkXmdXbDpmGzyMm2hcybR8Xmew5w8fYJvfDkIl27jVZcaO8f7RnrLw5prQzYnob8k3SiGesUu94xqpz2DNWtsku6zTRyFmz8Zmh57juesZqMPbze83Vvk5zbMchc/X2Hc9+WclmdXGdabsRMdHIZRM4WGhyfe77/o4IIYQQQgghj15cmkSxYL325NdrT6FX/hUrterFWXrir8MGJGQoc4GlcE2lqm+NPc+sJfkqcF2T7ET98/Kl8tmXtOfVYrX3S/rkfb19+FcqXbFXp+MO6siFmLw/+5WW+S1d2PwvOtItSWFVbN6hRn+hCqr+qMTDlTrXLT3pSx512V74+Pva/+lSFazKkP7yvo4Ov13VL8W7pcZda5W7q0yN3dyfAgAAAHC3KWtx9vJDpquv05Q8P/pugZqdY3afbjJtn4dMtC9iopFO03Z6rylYfMcdIstrsjaVm4YrIRO9HTJdHXWmJG/R0B2sL8/3TI7ZXtlkrt6ImGhfxPSGLpu2s4dMnu/u83tWlJuuvohpeCt52tsuIYQQQggh5OHKtwb/MAVsZZe1qmTBGeV+/0Ud/bpdJaaUpblv/VGnV/Xo9XnPq+Sz6b4eAAAAAA+TSV0KeE92qrL8tsKnKlXzDSlVc59fp5QZf1P8D57T6hWz1LJ5rY5QqgAAAABM0JQVKzstQ347rMCJ2q/dAn1quJXy6/+ld9Ld0vUWVW99Sa9vbWGHPwAAAAATNoVLAQEAAADg0eT8FwQDAAAAwGOOYgUAAAAADlGsAAAAAMAhihUAAAAAOESxAgAAAACHKFYAAAAA4BDFCgAAAAAcolgBAAAAgEMUKwAAAABwiGIFAAAAAA5984qVZcuOm+6LAAAAAIDxm9Zi5c2rUu/tJm3xDR7wFaoh1KHjL7un5Py+d5oU7Yt8lavFqbKm5MwAAAAAHiXTWKy8ylzikxWs17GWgSOWK162Nc5qk7RUG4v3qmDx/VehS+Wb9Npra/Xauvd1IXbf0wAAAAB4zE1fsZqZqvQUS8GaKrXcR6mxZi/UihUZSnnq/i8h/EmlSv71gEoOn1ew//7nAQAAAPB4m7Zi5cl8TilWUNUVjeJmEQAAAICH2YMrVgnJyl6fI9+oG1G4lbXEJytYq4pzd9eqxLw/6moopGgkpKtN5dqY5R160btOgdsR9X6YI48spReHhp6TipQrN06StUgFHzfp6o2Qem9cVsOHRdpeNvD3ruZDWv3MRJYPupW+ap2y5tgT+/wAAAAAHhuTXqzs5KUqKK5TW8dZlby1Tr94dpQS48lUZoql4KkqjdKrpJ7zOrprmzb+vkztMxaq4N/2Km/O4GvXa7Vl5Vq99vt6hRXThffW6rWVA8l9bYcCMUmuWUpZkKhYYJteL6yR/K9q9Q8uaU/hDp37bxl6p2ilvOP9QHE+ZRZsVmlTq9o+LlJeVqKoWAAAAADuZBzHZZu52flm9+lW09sXMb1X6kzpphzj91qjjvesKje9fZfN7vSRr1vzi0xbX8QE8txDxxYPHGvYkDhy7M93mqt9IXNsxSjniMsxxyIREyhINJLXFJyNmN7KHGNJxvdOk4l+vtdkWcPHLzWlNyLmanGqsUb7fHFek75msylt6jS9fRHTdbHKbF+fYZLsSfjuCCGEEEIIIQ99HN+xsubn6+TFDjUczJdf57XlN4v1vacX64XCAwoER7sd5Vb6koWyPqtRReDrn66KnWtVe0zyeGfd51boUcX6JctlyZL0t1hMcln69kSmuBVU9a4NeuHHT+tHqWv1XoutrLcOqbmjSaVrku/rqgAAAAA8OlyOZ/AmK8VrKRasV3V5mY5WnFf3vXbY86Qpc4Gl7g8qNY5eJfWHdTMmWePdhv2BiikYqNQRO17umR7l+hKVMtctS2IDDgAAAOAx5viOVezwKwN3cS7YWratXG0dTTq2Y+zNHuy0DPnjelT/0Znxl5HRitq4t0f/my7Vlelo/SVn5SchWdkFO3XyYoeaywqVrnptXblYP3mtllIFAAAAPOYmYfOKmIKBA3pj6U/1j99/Tq8fviTPLzertLlDbR8XKXvO8LG2sjIXyuqu1/E6Z3Uk1ntT4X5LnpmzvmZkWNWbX1Hu1vqxC1B/WOFbku323L3c0ErW6i8349iQpu98skOv/fS/6x9/+oo27v+au3MAAAAAHgvOlwIOEwvWa09+vfYUeuVfsVKrXpylJ/46bEBChjIXWArXVKr6lsOTfdqoluvrlL1mr3ZblWq/Zcn7A0v1r2/Q8Yl2tliLWv4zplz/b7Vvm1vnbrnljWvV1jcPKNgvxbulxl1rlburTI3d3J8CAAAAMNKkFquvxIIKvLdBgfdGHrbTUpVih1VTMQnL525V6o3/uU3x/3ullq0vlNUfVrClUufidB8PPPWo5M3fKmVPoTLXFCo91qP2mo6BbdX7W7Q1Y7HTqwUAAADwCPuWBrYHnAK2sstaVbLgjHK//6KOhqfmrAAAAADwoE36Lwgek52qLL+tcH2laihVAAAAAB4hU1as7LQM+e2wAidqRa8CAAAA8CiZwqWAAAAAAPBomrqlgAAAAADwiKJYAQAAAIBDFCsAAAAAcIhiBQAAAAAOUawAAAAAwCGKFQAAAAA4RLECAAAAAIcoVgAAAADgEMUKAAAAAByiWAEAAACAQxQrAAAAAHCIYgUAAAAADlGsAAAAAMAhihUAAAAAOESxAgAAAACHKFYAAAAA4BDFCgAAAAAcolgBAAAAgEMUKwAAAABwiGIFAAAAAA79f6ngQ7ZD4Gp3AAAAAElFTkSuQmCC)"
      ]
    },
    {
      "cell_type": "markdown",
      "metadata": {
        "id": "43MCRh5QwX5W"
      },
      "source": [
        "We can access the above document at the URL http://dataquestio.github.io/web-scraping-pages/ids_and_classes.html. Let’s first download the page and create a `BeautifulSoup` object:"
      ]
    },
    {
      "cell_type": "code",
      "metadata": {
        "id": "D2r6h2sRvehP",
        "outputId": "e64db27c-3210-4c56-8ce5-c19d124d0410",
        "colab": {
          "base_uri": "https://localhost:8080/",
          "height": 437
        }
      },
      "source": [
        "page = requests.get(\"http://dataquestio.github.io/web-scraping-pages/ids_and_classes.html\")\n",
        "soup = BeautifulSoup(page.content, 'html.parser')\n",
        "soup"
      ],
      "execution_count": null,
      "outputs": [
        {
          "output_type": "execute_result",
          "data": {
            "text/plain": [
              "<html>\n",
              "<head>\n",
              "<title>A simple example page</title>\n",
              "</head>\n",
              "<body>\n",
              "<div>\n",
              "<p class=\"inner-text first-item\" id=\"first\">\n",
              "                First paragraph.\n",
              "            </p>\n",
              "<p class=\"inner-text\">\n",
              "                Second paragraph.\n",
              "            </p>\n",
              "</div>\n",
              "<p class=\"outer-text first-item\" id=\"second\">\n",
              "<b>\n",
              "                First outer paragraph.\n",
              "            </b>\n",
              "</p>\n",
              "<p class=\"outer-text\">\n",
              "<b>\n",
              "                Second outer paragraph.\n",
              "            </b>\n",
              "</p>\n",
              "</body>\n",
              "</html>"
            ]
          },
          "metadata": {
            "tags": []
          },
          "execution_count": 19
        }
      ]
    },
    {
      "cell_type": "markdown",
      "metadata": {
        "id": "WnCdki8jwlsX"
      },
      "source": [
        "Now, we can use the **`find_all`** method to search for items by class or by id. In the below example, we’ll search for any **`p`** tag that has the class **`outer-text`**:"
      ]
    },
    {
      "cell_type": "code",
      "metadata": {
        "id": "2fzsWDi9wex4",
        "outputId": "08cdee0b-5755-4288-ee19-066f44852310",
        "colab": {
          "base_uri": "https://localhost:8080/",
          "height": 168
        }
      },
      "source": [
        "soup.find_all('p', class_='outer-text')"
      ],
      "execution_count": null,
      "outputs": [
        {
          "output_type": "execute_result",
          "data": {
            "text/plain": [
              "[<p class=\"outer-text first-item\" id=\"second\">\n",
              " <b>\n",
              "                 First outer paragraph.\n",
              "             </b>\n",
              " </p>, <p class=\"outer-text\">\n",
              " <b>\n",
              "                 Second outer paragraph.\n",
              "             </b>\n",
              " </p>]"
            ]
          },
          "metadata": {
            "tags": []
          },
          "execution_count": 20
        }
      ]
    },
    {
      "cell_type": "markdown",
      "metadata": {
        "id": "AYrbTs1SxERD"
      },
      "source": [
        "In the below example, we’ll look for any tag that has the class `outer-text`:"
      ]
    },
    {
      "cell_type": "code",
      "metadata": {
        "id": "bfxHoC8Ew2Vq",
        "outputId": "b56f3c63-1d3b-44f1-c22d-d1451383cd00",
        "colab": {
          "base_uri": "https://localhost:8080/",
          "height": 168
        }
      },
      "source": [
        "soup.find_all(class_=\"outer-text\")"
      ],
      "execution_count": null,
      "outputs": [
        {
          "output_type": "execute_result",
          "data": {
            "text/plain": [
              "[<p class=\"outer-text first-item\" id=\"second\">\n",
              " <b>\n",
              "                 First outer paragraph.\n",
              "             </b>\n",
              " </p>, <p class=\"outer-text\">\n",
              " <b>\n",
              "                 Second outer paragraph.\n",
              "             </b>\n",
              " </p>]"
            ]
          },
          "metadata": {
            "tags": []
          },
          "execution_count": 21
        }
      ]
    },
    {
      "cell_type": "markdown",
      "metadata": {
        "id": "4nF30U4mxWwv"
      },
      "source": [
        "We can also search for elements by id:"
      ]
    },
    {
      "cell_type": "code",
      "metadata": {
        "id": "IWog4MrgxKR-",
        "outputId": "131e9502-7254-4f4c-b1bd-b5c600fa2899",
        "colab": {
          "base_uri": "https://localhost:8080/",
          "height": 67
        }
      },
      "source": [
        "soup.find_all(id = 'first')"
      ],
      "execution_count": null,
      "outputs": [
        {
          "output_type": "execute_result",
          "data": {
            "text/plain": [
              "[<p class=\"inner-text first-item\" id=\"first\">\n",
              "                 First paragraph.\n",
              "             </p>]"
            ]
          },
          "metadata": {
            "tags": []
          },
          "execution_count": 22
        }
      ]
    },
    {
      "cell_type": "markdown",
      "metadata": {
        "id": "8WGFUfrXx0dR"
      },
      "source": [
        "# Using CSS Selectors"
      ]
    },
    {
      "cell_type": "markdown",
      "metadata": {
        "id": "JqM8rrzox9MN"
      },
      "source": [
        "You can also search for items using CSS selectors. These selectors are how the CSS language allows developers to specify HTML tags to style. Here are some examples:\n",
        "\n",
        "- p a — finds all a tags inside of a p tag.\n",
        "- body p a — finds all a tags inside of a p tag inside of a body tag.\n",
        "- html body — finds all body tags inside of an html tag.\n",
        "- p.outer-text — finds all p tags with a class of outer-text.\n",
        "- p#first — finds all p tags with an id of first.\n",
        "- body p.outer-text — finds any p tags with a class of outer-text inside of a body tag.\n",
        "You can learn more about CSS selectors [here](https://developer.mozilla.org/en-US/docs/Learn/CSS/Building_blocks/Selectors)."
      ]
    },
    {
      "cell_type": "markdown",
      "metadata": {
        "id": "pwFnQvq6yKxv"
      },
      "source": [
        "BeautifulSoup objects support searching a page via CSS selectors using the **`select`** method. We can use CSS selectors to find all the **`p`** tags in our page that are inside of a **`div`** like this:"
      ]
    },
    {
      "cell_type": "code",
      "metadata": {
        "id": "F7eSohcqxcee",
        "outputId": "e42f840d-e320-4173-c1b2-c077caa71ee4",
        "colab": {
          "base_uri": "https://localhost:8080/",
          "height": 101
        }
      },
      "source": [
        "soup.select(\"div p\")"
      ],
      "execution_count": null,
      "outputs": [
        {
          "output_type": "execute_result",
          "data": {
            "text/plain": [
              "[<p class=\"inner-text first-item\" id=\"first\">\n",
              "                 First paragraph.\n",
              "             </p>, <p class=\"inner-text\">\n",
              "                 Second paragraph.\n",
              "             </p>]"
            ]
          },
          "metadata": {
            "tags": []
          },
          "execution_count": 23
        }
      ]
    },
    {
      "cell_type": "markdown",
      "metadata": {
        "id": "PDxLwVukyqJh"
      },
      "source": [
        "**Note** that the select method above returns a list of `BeautifulSoup` objects, just like **find** and **find_all**."
      ]
    },
    {
      "cell_type": "markdown",
      "metadata": {
        "id": "FXigz1Xwy0-u"
      },
      "source": [
        "# Downloading weather data\n"
      ]
    },
    {
      "cell_type": "markdown",
      "metadata": {
        "id": "eVHvYQVTy9GV"
      },
      "source": [
        "We now know enough to proceed with extracting information about the local weather from the National Weather Service website. The first step is to find the page we want to scrape. We’ll extract weather information about downtown San Francisco from [this page](https://forecast.weather.gov/MapClick.php?lat=37.7772&lon=-122.4168#.X12k4nUzZH4)."
      ]
    },
    {
      "cell_type": "markdown",
      "metadata": {
        "id": "dwr4iuWwzYcC"
      },
      "source": [
        "![link text](https://www.dataquest.io/wp-content/uploads/2019/01/extended_forecast.png)"
      ]
    },
    {
      "cell_type": "markdown",
      "metadata": {
        "id": "UbEbJMvUzpUh"
      },
      "source": [
        "We’ll extract data about the extended forecast.\n",
        "\n",
        "As you can see from the image, the page has information about the extended forecast for the next week, including time of day, temperature, and a brief description of the conditions."
      ]
    },
    {
      "cell_type": "markdown",
      "metadata": {
        "id": "RZg3Zy1Gz5D_"
      },
      "source": [
        "# Exploring page structure"
      ]
    },
    {
      "cell_type": "markdown",
      "metadata": {
        "id": "K5M-FkFjz-RQ"
      },
      "source": [
        "![link text](https://www.dataquest.io/wp-content/uploads/2019/01/devtools.png)"
      ]
    },
    {
      "cell_type": "markdown",
      "metadata": {
        "id": "R-MYPOTx0O-c"
      },
      "source": [
        "The elements panel will show you all the HTML tags on the page, and let you navigate through them"
      ]
    },
    {
      "cell_type": "markdown",
      "metadata": {
        "id": "EdKF2__10lVm"
      },
      "source": [
        "By right clicking on the page near where it says “Extended Forecast”, then clicking “Inspect”, we’ll open up the tag that contains the text “Extended Forecast” in the elements panel:"
      ]
    },
    {
      "cell_type": "markdown",
      "metadata": {
        "id": "B7yzVQ290lYY"
      },
      "source": [
        "![link text](https://www.dataquest.io/wp-content/uploads/2019/01/ex_selected.png)"
      ]
    },
    {
      "cell_type": "markdown",
      "metadata": {
        "id": "57v0CcM01P_T"
      },
      "source": [
        "The div that contains the extended forecast items.\n",
        "\n",
        "If you click around on the console, and explore the div, you’ll discover that each forecast item (like “Tonight”, “Thursday”, and “Thursday Night”) is contained in a **`div`** with the class **`tombstone-container`**."
      ]
    },
    {
      "cell_type": "markdown",
      "metadata": {
        "id": "YfogxQSi1n7E"
      },
      "source": [
        "We now know enough to download the page and start parsing it. In the below code, we:\n",
        "\n",
        "- Download the web page containing the forecast.\n",
        "- Create a BeautifulSoup class to parse the page.\n",
        "- Find the div with id seven-day-forecast, and assign to seven_day\n",
        "- Inside seven_day, find each individual forecast item.\n",
        "- Extract and print the first forecast item."
      ]
    },
    {
      "cell_type": "code",
      "metadata": {
        "id": "7SI-RqO_zTMG",
        "outputId": "9ab36557-ade5-4091-c47e-c49b1ad26846",
        "colab": {
          "base_uri": "https://localhost:8080/",
          "height": 306
        }
      },
      "source": [
        "page = requests.get(\"http://forecast.weather.gov/MapClick.php?lat=37.7772&lon=-122.4168\")\n",
        "soup = BeautifulSoup(page.content, 'html.parser')\n",
        "seven_day = soup.find(id=\"seven-day-forecast\")\n",
        "forecast_items = seven_day.find_all(class_=\"tombstone-container\")\n",
        "tonight = forecast_items[0]\n",
        "print(tonight.prettify())"
      ],
      "execution_count": null,
      "outputs": [
        {
          "output_type": "stream",
          "text": [
            "<div class=\"tombstone-container\">\n",
            " <p class=\"period-name\">\n",
            "  Overnight\n",
            "  <br/>\n",
            "  <br/>\n",
            " </p>\n",
            " <p>\n",
            "  <img alt=\"Overnight: Areas of smoke. Cloudy, with a low around 57. West southwest wind 6 to 9 mph. \" class=\"forecast-icon\" src=\"newimages/medium/nfu.png\" title=\"Overnight: Areas of smoke. Cloudy, with a low around 57. West southwest wind 6 to 9 mph. \"/>\n",
            " </p>\n",
            " <p class=\"short-desc\">\n",
            "  Areas Smoke\n",
            " </p>\n",
            " <p class=\"temp temp-low\">\n",
            "  Low: 57 °F\n",
            " </p>\n",
            "</div>\n"
          ],
          "name": "stdout"
        }
      ]
    },
    {
      "cell_type": "markdown",
      "metadata": {
        "id": "ONmFSgd-JVSl"
      },
      "source": [
        ""
      ]
    },
    {
      "cell_type": "code",
      "metadata": {
        "id": "JIKJ8nMIJVsb",
        "outputId": "8dd02058-4804-425f-ef3a-99edb5db023c",
        "colab": {
          "base_uri": "https://localhost:8080/",
          "height": 34
        }
      },
      "source": [
        "len(forecast_items)"
      ],
      "execution_count": null,
      "outputs": [
        {
          "output_type": "execute_result",
          "data": {
            "text/plain": [
              "9"
            ]
          },
          "metadata": {
            "tags": []
          },
          "execution_count": 28
        }
      ]
    },
    {
      "cell_type": "markdown",
      "metadata": {
        "id": "CzF6mHbh2UXM"
      },
      "source": [
        "# Extracting information from the page"
      ]
    },
    {
      "cell_type": "markdown",
      "metadata": {
        "id": "lJrUUq5h23lz"
      },
      "source": [
        "As you can see, inside the forecast item NOW Until is all the information we want. \n",
        "\n",
        "- The name of the forecast item — in this case, NOW Until.\n",
        "- The description of the conditions — this is stored in the title property of img.\n",
        "- A short description of the conditions — in this case, Dense Fog Advisory."
      ]
    },
    {
      "cell_type": "code",
      "metadata": {
        "id": "J20Wc3oJyYme",
        "outputId": "c520574a-dbe0-44dc-cb9e-88ddf3c099dc",
        "colab": {
          "base_uri": "https://localhost:8080/"
        }
      },
      "source": [
        "period = tonight.find(class_=\"period-name\").get_text()\n",
        "short_desc = tonight.find(class_=\"short-desc\").get_text()\n",
        "# temp = tonight.find(class_=\"temp\").get_text()\n",
        "print(period)\n",
        "print(short_desc)\n",
        "# print(temp)"
      ],
      "execution_count": null,
      "outputs": [
        {
          "output_type": "stream",
          "text": [
            "Overnight\n",
            "Areas Smoke\n"
          ],
          "name": "stdout"
        }
      ]
    },
    {
      "cell_type": "markdown",
      "metadata": {
        "id": "zVIsFn9a41kJ"
      },
      "source": [
        "# Extracting all the information from the page\n"
      ]
    },
    {
      "cell_type": "markdown",
      "metadata": {
        "id": "Vwq_QYHN43F2"
      },
      "source": [
        "Now that we know how to extract each individual piece of information, we can combine our knowledge with css selectors and list comprehensions to extract everything at once.\n",
        "\n",
        "In the below code, we:\n",
        "\n",
        "- Select all items with the class period-name inside an item with the class tombstone-container in seven_day.\n",
        "- Use a list comprehension to call the get_text method on each BeautifulSoup object."
      ]
    },
    {
      "cell_type": "code",
      "metadata": {
        "id": "gYONTDGD4qTV",
        "outputId": "6e507a5c-283f-4047-cb96-2fe8b59c48b6",
        "colab": {
          "base_uri": "https://localhost:8080/"
        }
      },
      "source": [
        "period_tags = seven_day.select(\".tombstone-container .period-name\")\n",
        "periods = [pt.get_text() for pt in period_tags]\n",
        "periods"
      ],
      "execution_count": null,
      "outputs": [
        {
          "output_type": "execute_result",
          "data": {
            "text/plain": [
              "['Overnight',\n",
              " 'Monday',\n",
              " 'MondayNight',\n",
              " 'Tuesday',\n",
              " 'TuesdayNight',\n",
              " 'Wednesday',\n",
              " 'WednesdayNight',\n",
              " 'Thursday',\n",
              " 'ThursdayNight']"
            ]
          },
          "metadata": {
            "tags": []
          },
          "execution_count": 26
        }
      ]
    },
    {
      "cell_type": "markdown",
      "metadata": {
        "id": "nVRO0LY65gIO"
      },
      "source": [
        "# Combining our data into a Pandas Dataframe"
      ]
    },
    {
      "cell_type": "markdown",
      "metadata": {
        "id": "vn_uZKs45zBS"
      },
      "source": [
        "We can now combine the data into a Pandas DataFrame and analyze it"
      ]
    },
    {
      "cell_type": "markdown",
      "metadata": {
        "id": "xv9ifM8R5-rp"
      },
      "source": [
        "In order to do this, we’ll call the DataFrame class, and pass in each list of items that we have. We pass them in as part of a dictionary. Each dictionary key will become a column in the DataFrame, and each list will become the values in the column:"
      ]
    },
    {
      "cell_type": "code",
      "metadata": {
        "id": "KTAQwzhO5Kd7",
        "outputId": "247bcfb8-b031-4373-8417-d7ae2d20b669",
        "colab": {
          "base_uri": "https://localhost:8080/"
        }
      },
      "source": [
        "import pandas as pd\n",
        "short_descs = [sd.get_text() for sd in seven_day.select(\".tombstone-container .short-desc\")]\n",
        "weather = pd.DataFrame({\n",
        "    \"period\": periods,\n",
        "    \"short_desc\": short_descs\n",
        "})\n",
        "weather"
      ],
      "execution_count": null,
      "outputs": [
        {
          "output_type": "execute_result",
          "data": {
            "text/html": [
              "<div>\n",
              "<style scoped>\n",
              "    .dataframe tbody tr th:only-of-type {\n",
              "        vertical-align: middle;\n",
              "    }\n",
              "\n",
              "    .dataframe tbody tr th {\n",
              "        vertical-align: top;\n",
              "    }\n",
              "\n",
              "    .dataframe thead th {\n",
              "        text-align: right;\n",
              "    }\n",
              "</style>\n",
              "<table border=\"1\" class=\"dataframe\">\n",
              "  <thead>\n",
              "    <tr style=\"text-align: right;\">\n",
              "      <th></th>\n",
              "      <th>period</th>\n",
              "      <th>short_desc</th>\n",
              "    </tr>\n",
              "  </thead>\n",
              "  <tbody>\n",
              "    <tr>\n",
              "      <th>0</th>\n",
              "      <td>Overnight</td>\n",
              "      <td>Areas Smoke</td>\n",
              "    </tr>\n",
              "    <tr>\n",
              "      <th>1</th>\n",
              "      <td>Monday</td>\n",
              "      <td>Haze</td>\n",
              "    </tr>\n",
              "    <tr>\n",
              "      <th>2</th>\n",
              "      <td>MondayNight</td>\n",
              "      <td>Haze</td>\n",
              "    </tr>\n",
              "    <tr>\n",
              "      <th>3</th>\n",
              "      <td>Tuesday</td>\n",
              "      <td>Haze</td>\n",
              "    </tr>\n",
              "    <tr>\n",
              "      <th>4</th>\n",
              "      <td>TuesdayNight</td>\n",
              "      <td>Slight ChanceRain</td>\n",
              "    </tr>\n",
              "    <tr>\n",
              "      <th>5</th>\n",
              "      <td>Wednesday</td>\n",
              "      <td>Mostly Sunny</td>\n",
              "    </tr>\n",
              "    <tr>\n",
              "      <th>6</th>\n",
              "      <td>WednesdayNight</td>\n",
              "      <td>Partly Cloudy</td>\n",
              "    </tr>\n",
              "    <tr>\n",
              "      <th>7</th>\n",
              "      <td>Thursday</td>\n",
              "      <td>Mostly Sunny</td>\n",
              "    </tr>\n",
              "    <tr>\n",
              "      <th>8</th>\n",
              "      <td>ThursdayNight</td>\n",
              "      <td>Partly Cloudy</td>\n",
              "    </tr>\n",
              "  </tbody>\n",
              "</table>\n",
              "</div>"
            ],
            "text/plain": [
              "           period         short_desc\n",
              "0       Overnight        Areas Smoke\n",
              "1          Monday               Haze\n",
              "2     MondayNight               Haze\n",
              "3         Tuesday               Haze\n",
              "4    TuesdayNight  Slight ChanceRain\n",
              "5       Wednesday       Mostly Sunny\n",
              "6  WednesdayNight      Partly Cloudy\n",
              "7        Thursday       Mostly Sunny\n",
              "8   ThursdayNight      Partly Cloudy"
            ]
          },
          "metadata": {
            "tags": []
          },
          "execution_count": 27
        }
      ]
    },
    {
      "cell_type": "code",
      "metadata": {
        "id": "-2P-p1qD5VhL"
      },
      "source": [
        ""
      ],
      "execution_count": null,
      "outputs": []
    }
  ]
}