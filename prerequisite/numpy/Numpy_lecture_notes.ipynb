{
  "nbformat": 4,
  "nbformat_minor": 0,
  "metadata": {
    "colab": {
      "name": "Numpy_lecture_notes.ipynb",
      "provenance": [],
      "collapsed_sections": [],
      "include_colab_link": true
    },
    "kernelspec": {
      "name": "python3",
      "display_name": "Python 3"
    }
  },
  "cells": [
    {
      "cell_type": "markdown",
      "metadata": {
        "id": "view-in-github",
        "colab_type": "text"
      },
      "source": [
        "<a href=\"https://colab.research.google.com/github/Bavalpreet/BMU_Notebooks/blob/main/prerequisite/numpy/Numpy_lecture_notes.ipynb\" target=\"_parent\"><img src=\"https://colab.research.google.com/assets/colab-badge.svg\" alt=\"Open In Colab\"/></a>"
      ]
    },
    {
      "cell_type": "markdown",
      "metadata": {
        "id": "AjyWrIx-0wyu"
      },
      "source": [
        "# Introduction to numpy \n",
        "topics to be covered:-\n",
        "- Array Creation\n",
        "- Datatypes\n",
        "- Operations(Arithmetic operations)\n",
        "- Broadcasting"
      ]
    },
    {
      "cell_type": "markdown",
      "metadata": {
        "id": "FRtO8RUP1V1i"
      },
      "source": [
        "in this tutorial, i will walk you through the basics of NumPy. It is one of the most widely used python library.It is the most useful library if you are dealing with numbers in python. NumPy guarantees great execution speed comparing it with python standard libraries. It comes with a great number of built-in function.\n",
        "\n",
        "First, let’s talk about its installation. NumPy is not part of a basic Python installation. We need to install it after the installation of python in our system. We can do it by pip using command pip install NumPy or it comes with conda as well."
      ]
    },
    {
      "cell_type": "code",
      "metadata": {
        "id": "F483quTxVeKu",
        "outputId": "dc9d3c1e-5026-4243-a4b5-06f82ff86912",
        "colab": {
          "base_uri": "https://localhost:8080/",
          "height": 35
        }
      },
      "source": [
        "!pip install numpy\n",
        "conda install numpy"
      ],
      "execution_count": null,
      "outputs": [
        {
          "output_type": "stream",
          "text": [
            "Requirement already satisfied: numpy in /usr/local/lib/python3.6/dist-packages (1.18.5)\n"
          ],
          "name": "stdout"
        }
      ]
    },
    {
      "cell_type": "markdown",
      "metadata": {
        "id": "BybtoBFEV-z2"
      },
      "source": [
        "We are done with the installation and now let’s jump right into NumPy. But firstly lets know why to use numpy arrays?"
      ]
    },
    {
      "cell_type": "markdown",
      "metadata": {
        "id": "sygK9QQnVxk2"
      },
      "source": [
        "### **What’s the difference between a Python list and a NumPy array?**\n",
        "\n",
        "\n",
        "\n"
      ]
    },
    {
      "cell_type": "markdown",
      "metadata": {
        "id": "uanHxOmdmqC6"
      },
      "source": [
        "*NumPy gives you an enormous range of fast and efficient ways of creating arrays and manipulating numerical data inside them. While a Python list can contain different data types within a single list, all of the elements in a NumPy array should be homogenous. The mathematical operations that are meant to be performed on arrays would be extremely inefficient if the arrays weren’t homogenous.*"
      ]
    },
    {
      "cell_type": "markdown",
      "metadata": {
        "id": "qq23l2NMmvx1"
      },
      "source": [
        "### **Why use NumPy?**\n",
        "\n"
      ]
    },
    {
      "cell_type": "markdown",
      "metadata": {
        "id": "cKfahOApm0c5"
      },
      "source": [
        "NumPy arrays are `faster` and `more compact` than Python lists. An array consumes `less memory` and is convenient to use. NumPy uses much less memory to store data and it provides a `mechanism of specifying the data types`. This allows the code to be optimized even further."
      ]
    },
    {
      "cell_type": "markdown",
      "metadata": {
        "id": "SnrxhpL0-7To"
      },
      "source": [
        " #### First, let start with the most important object in NumPy that is the ndarray or multi-dimensional array. Multi-dimensional array in similar words in an array of arrays which means array for example [1,2,3] is a one-dimensional array because it contains only one row where two-dimensional array as given below contain multiple rows as well as multiple columns.\n",
        "\n",
        "[[1 2 3]\n",
        "\n",
        "[4 5 6]\n",
        "\n",
        "[7 8 9]]"
      ]
    },
    {
      "cell_type": "markdown",
      "metadata": {
        "id": "gF5Gvttp_CIL"
      },
      "source": [
        "Let’s do some coding now. \n",
        "\n",
        "We start with import NumPy into our project first and in order to do so just write import NumPy.\n",
        "\n",
        "In the following code, I am renaming the package as np just for my convince."
      ]
    },
    {
      "cell_type": "code",
      "metadata": {
        "id": "WZppmtaa-n3K"
      },
      "source": [
        "import numpy as np"
      ],
      "execution_count": null,
      "outputs": []
    },
    {
      "cell_type": "markdown",
      "metadata": {
        "id": "5PunUtQ9YN7V"
      },
      "source": [
        "#Array creation"
      ]
    },
    {
      "cell_type": "markdown",
      "metadata": {
        "id": "tnwslkyf_R_5"
      },
      "source": [
        "### Now in order to create an array in NumPy, we are use it’s array function as mentioned below"
      ]
    },
    {
      "cell_type": "code",
      "metadata": {
        "id": "XtOi2KT-_WLn",
        "outputId": "31bd4b4e-b629-4070-e21e-70fa6bd927a0",
        "colab": {
          "base_uri": "https://localhost:8080/",
          "height": 35
        }
      },
      "source": [
        "# array = np.array([1,2,3])\n",
        "array = np.array((1, 2, 3))\n",
        "print(array)\n",
        "\n"
      ],
      "execution_count": null,
      "outputs": [
        {
          "output_type": "stream",
          "text": [
            "[1 2 3]\n"
          ],
          "name": "stdout"
        }
      ]
    },
    {
      "cell_type": "markdown",
      "metadata": {
        "id": "TzfwxjmD_jxo"
      },
      "source": [
        "- This an example of a one-dimensional array."
      ]
    },
    {
      "cell_type": "markdown",
      "metadata": {
        "id": "LBNtxMXF_r2Y"
      },
      "source": [
        "### Another way to create an array in NumPy is by using `zeros function`."
      ]
    },
    {
      "cell_type": "code",
      "metadata": {
        "id": "58jtM6Xx_mT_",
        "outputId": "f8709eb0-7b7b-47d3-e02b-2ba94d82e26c",
        "colab": {
          "base_uri": "https://localhost:8080/",
          "height": 35
        }
      },
      "source": [
        "zeros = np.zeros(3)\n",
        "\n",
        "print(zeros)\n",
        "\n"
      ],
      "execution_count": null,
      "outputs": [
        {
          "output_type": "stream",
          "text": [
            "[0. 0. 0.]\n"
          ],
          "name": "stdout"
        }
      ]
    },
    {
      "cell_type": "markdown",
      "metadata": {
        "id": "TQ0q1L6NAIk0"
      },
      "source": [
        "- If you look closely at the output the generated array contains three zeros but the type of the value is a float and by default, NumPy creates the array of float values."
      ]
    },
    {
      "cell_type": "code",
      "metadata": {
        "id": "2sz_5VR-_Y2-",
        "outputId": "a3779556-195b-4463-a213-cbfca72fcc46",
        "colab": {
          "base_uri": "https://localhost:8080/",
          "height": 35
        }
      },
      "source": [
        "type(zeros[0])\n"
      ],
      "execution_count": null,
      "outputs": [
        {
          "output_type": "execute_result",
          "data": {
            "text/plain": [
              "numpy.float64"
            ]
          },
          "metadata": {
            "tags": []
          },
          "execution_count": 7
        }
      ]
    },
    {
      "cell_type": "markdown",
      "metadata": {
        "id": "HIHg2IoVAccX"
      },
      "source": [
        "### Going back to the first example inside NumPy’s array function we pass a list so we can also pass the list variable inside array function and the output will be the same."
      ]
    },
    {
      "cell_type": "code",
      "metadata": {
        "id": "b-hTrDYkAQsM",
        "outputId": "4d6e5e92-4d2d-4070-aa34-a8dd16c1d05e",
        "colab": {
          "base_uri": "https://localhost:8080/",
          "height": 35
        }
      },
      "source": [
        "my_list = [1,2,3]\n",
        "\n",
        "array = np.array(my_list)\n",
        "\n",
        "print(array)\n",
        "\n"
      ],
      "execution_count": null,
      "outputs": [
        {
          "output_type": "stream",
          "text": [
            "[1 2 3]\n"
          ],
          "name": "stdout"
        }
      ]
    },
    {
      "cell_type": "markdown",
      "metadata": {
        "id": "yeVzBvWGA-E7"
      },
      "source": [
        "### Now let’s look into how to create a two-dimensional array using NumPy. Instead of passing the list now we have to pass a list of tuples or list of lists as mentioned below."
      ]
    },
    {
      "cell_type": "code",
      "metadata": {
        "id": "ei6qp1w0Afd1",
        "outputId": "15c427b9-4f6e-49bc-9e23-59e258e810cf",
        "colab": {
          "base_uri": "https://localhost:8080/",
          "height": 72
        }
      },
      "source": [
        "two_dim_array = np.array([(1,2,3), (4,5,6), (7,8,9)])\n",
        "\n",
        "print(two_dim_array)"
      ],
      "execution_count": null,
      "outputs": [
        {
          "output_type": "stream",
          "text": [
            "[[1 2 3]\n",
            " [4 5 6]\n",
            " [7 8 9]]\n"
          ],
          "name": "stdout"
        }
      ]
    },
    {
      "cell_type": "markdown",
      "metadata": {
        "id": "t2435nw1BiW3"
      },
      "source": [
        "#### What will happen if the number of column are not equal?"
      ]
    },
    {
      "cell_type": "code",
      "metadata": {
        "id": "AtnJZBgqBZBx",
        "outputId": "ff56b1b0-5adb-433d-c5e9-2159a42ece97",
        "colab": {
          "base_uri": "https://localhost:8080/",
          "height": 35
        }
      },
      "source": [
        "arr = np.array([[1,2,3], [4,6], [7,8,9]])\n",
        "\n",
        "print(arr)"
      ],
      "execution_count": null,
      "outputs": [
        {
          "output_type": "stream",
          "text": [
            "[list([1, 2, 3]) list([4, 6]) list([7, 8, 9])]\n"
          ],
          "name": "stdout"
        }
      ]
    },
    {
      "cell_type": "markdown",
      "metadata": {
        "id": "EmybW1C_B0QU"
      },
      "source": [
        "- Note that the number of columns should be equal otherwise NumPy will create an array of a list."
      ]
    },
    {
      "cell_type": "markdown",
      "metadata": {
        "id": "sOd4DO1DCERA"
      },
      "source": [
        "### Now to create an array of a range we use the linspace function."
      ]
    },
    {
      "cell_type": "code",
      "metadata": {
        "id": "qIfvHuOnCDSK",
        "outputId": "4739fd0a-34c8-4ada-b598-fd507f40a8a6",
        "colab": {
          "base_uri": "https://localhost:8080/",
          "height": 35
        }
      },
      "source": [
        "range_array = np.linspace(0, 10, 4)\n",
        "\n",
        "print(range_array)"
      ],
      "execution_count": null,
      "outputs": [
        {
          "output_type": "stream",
          "text": [
            "[ 0.          3.33333333  6.66666667 10.        ]\n"
          ],
          "name": "stdout"
        }
      ]
    },
    {
      "cell_type": "markdown",
      "metadata": {
        "id": "RQv_LgnPDe9n"
      },
      "source": [
        "- <font color='green'>Here the first argument is the `starting point` and next is the `endpoint` and the last argument defines `how many elements you want in your array`</font>"
      ]
    },
    {
      "cell_type": "markdown",
      "metadata": {
        "id": "xRRuI01TEwgK"
      },
      "source": [
        "### Now to create random arrays we can use random function. Here I created an array of `random` integers, therefore, used `randint` where first I specified the `maximum value` and then the `size of my array`."
      ]
    },
    {
      "cell_type": "code",
      "metadata": {
        "id": "KulP86ToCQcV",
        "outputId": "f632b82c-43ef-47ac-8bf3-e1da971b023c",
        "colab": {
          "base_uri": "https://localhost:8080/",
          "height": 35
        }
      },
      "source": [
        "random_array = np.random.randint(15, size=10)\n",
        "\n",
        "print(random_array)"
      ],
      "execution_count": null,
      "outputs": [
        {
          "output_type": "stream",
          "text": [
            "[ 8 11  7  4  0  1 13 12 13  6]\n"
          ],
          "name": "stdout"
        }
      ]
    },
    {
      "cell_type": "markdown",
      "metadata": {
        "id": "1d-R0_hpiNbi"
      },
      "source": [
        "#DataTypes\n",
        "\n"
      ]
    },
    {
      "cell_type": "markdown",
      "metadata": {
        "id": "PjWW1egfimqa"
      },
      "source": [
        "Once you have imported NumPy using\n",
        "```import numpy as np```\n",
        "the dtypes are available as np.bool_, np.float32, etc.\n",
        "\n",
        "There are 5 basic numerical types representing booleans (bool), integers (int), unsigned integers (uint) floating point (float) and complex. "
      ]
    },
    {
      "cell_type": "code",
      "metadata": {
        "id": "AxE8Vefdiyq1",
        "outputId": "d64aa604-07d2-4912-f921-c84ad6f9a150",
        "colab": {
          "base_uri": "https://localhost:8080/",
          "height": 35
        }
      },
      "source": [
        "x = np.float32([1.0, 2.0])\n",
        "x"
      ],
      "execution_count": null,
      "outputs": [
        {
          "output_type": "execute_result",
          "data": {
            "text/plain": [
              "array([1., 2.], dtype=float32)"
            ]
          },
          "metadata": {
            "tags": []
          },
          "execution_count": 61
        }
      ]
    },
    {
      "cell_type": "code",
      "metadata": {
        "id": "GqkpVLrojDhA",
        "outputId": "fc968c54-bf98-4f74-ac92-3e5996bc5baf",
        "colab": {
          "base_uri": "https://localhost:8080/",
          "height": 35
        }
      },
      "source": [
        "y = np.int_([1,2,4])\n",
        "y"
      ],
      "execution_count": null,
      "outputs": [
        {
          "output_type": "execute_result",
          "data": {
            "text/plain": [
              "array([1, 2, 4])"
            ]
          },
          "metadata": {
            "tags": []
          },
          "execution_count": 63
        }
      ]
    },
    {
      "cell_type": "code",
      "metadata": {
        "id": "DQGApx4bjWTY",
        "outputId": "495a5b76-7584-4eaf-da5e-c10e4fd96ee7",
        "colab": {
          "base_uri": "https://localhost:8080/",
          "height": 35
        }
      },
      "source": [
        "z = np.arange(3, dtype=np.uint8)\n",
        "z"
      ],
      "execution_count": null,
      "outputs": [
        {
          "output_type": "execute_result",
          "data": {
            "text/plain": [
              "array([0, 1, 2], dtype=uint8)"
            ]
          },
          "metadata": {
            "tags": []
          },
          "execution_count": 65
        }
      ]
    },
    {
      "cell_type": "markdown",
      "metadata": {
        "id": "-84CmKTSjcl2"
      },
      "source": [
        "- The np. arange() function returns an evenly spaced values within a given interval. For integer arguments, the method is equivalent to a Python inbuilt range function but returns the ndarray rather than a list.\n",
        "\n"
      ]
    },
    {
      "cell_type": "markdown",
      "metadata": {
        "id": "VijlEzKjjwYf"
      },
      "source": [
        "#### Array types can also be referred to by character codes,"
      ]
    },
    {
      "cell_type": "code",
      "metadata": {
        "id": "UO6EDRyhj2Gx",
        "outputId": "9a350527-64a5-4a02-b2a3-789a775c1344",
        "colab": {
          "base_uri": "https://localhost:8080/",
          "height": 35
        }
      },
      "source": [
        "np.array([1, 2, 3], dtype='f')"
      ],
      "execution_count": null,
      "outputs": [
        {
          "output_type": "execute_result",
          "data": {
            "text/plain": [
              "array([1., 2., 3.], dtype=float32)"
            ]
          },
          "metadata": {
            "tags": []
          },
          "execution_count": 66
        }
      ]
    },
    {
      "cell_type": "markdown",
      "metadata": {
        "id": "AiSk6u1P0b35"
      },
      "source": [
        "link to documentation for character code for other dtypes - https://docs.python.org/2/library/array.html"
      ]
    },
    {
      "cell_type": "markdown",
      "metadata": {
        "id": "40DNvYsWkHlJ"
      },
      "source": [
        "#### To convert the type of an array, use the `.astype()` method (preferred) or the type itself as a function. For example:"
      ]
    },
    {
      "cell_type": "code",
      "metadata": {
        "id": "zZmoYa7UkQFA",
        "outputId": "821f6628-f819-4193-97d3-125a8d3d3b85",
        "colab": {
          "base_uri": "https://localhost:8080/",
          "height": 35
        }
      },
      "source": [
        "z.astype(float)     "
      ],
      "execution_count": null,
      "outputs": [
        {
          "output_type": "execute_result",
          "data": {
            "text/plain": [
              "array([0., 1., 2.])"
            ]
          },
          "metadata": {
            "tags": []
          },
          "execution_count": 67
        }
      ]
    },
    {
      "cell_type": "markdown",
      "metadata": {
        "id": "U0MW-eMDkP1C"
      },
      "source": [
        "- Note that, above, we use the Python float object as a dtype. NumPy knows that int refers to `np.int_`, bool means `np.bool_`, that float is `np.float_` and complex is `np.complex_`. "
      ]
    },
    {
      "cell_type": "markdown",
      "metadata": {
        "id": "C125X1cUlrbH"
      },
      "source": [
        "## ***Question(Homework)*** - What is different between int_ and int, when we should use int when it is preffered to use int_ ?"
      ]
    },
    {
      "cell_type": "markdown",
      "metadata": {
        "id": "XAGY96zgY2S7"
      },
      "source": [
        "#Operations"
      ]
    },
    {
      "cell_type": "markdown",
      "metadata": {
        "id": "nsZOMPssF1jq"
      },
      "source": [
        "### Now we know the basic of how to create arrays and also about the Dtypes in NumPy. Now let’s look into some of its basic operations.\n",
        "\n",
        "First, we will start by finding the `size` and `shape` of an array. Size will give the number of elements in an array where shape will give us the shape of an array."
      ]
    },
    {
      "cell_type": "markdown",
      "metadata": {
        "id": "3ofO0p7DGEBp"
      },
      "source": [
        "For a one dimensional array, the shape would be (n,) where n is the number of elements in your array."
      ]
    },
    {
      "cell_type": "markdown",
      "metadata": {
        "id": "9aYy98eyGLdC"
      },
      "source": [
        "For a two dimensional array, the shape would be (n,m) where n is the number of rows and m is the number of columns in your array."
      ]
    },
    {
      "cell_type": "code",
      "metadata": {
        "id": "vvI5Nmqz1Hxk"
      },
      "source": [
        "array = np.array([1,2,3])\n",
        "two_dim_array = np.array([(1,2,3), (4,5,6), (7,8,9)])"
      ],
      "execution_count": null,
      "outputs": []
    },
    {
      "cell_type": "code",
      "metadata": {
        "id": "orcIp8SnE1YN",
        "outputId": "b87ff31f-aa7c-4c66-b43c-e0cb34f0445d",
        "colab": {
          "base_uri": "https://localhost:8080/",
          "height": 35
        }
      },
      "source": [
        "print(array.size)"
      ],
      "execution_count": null,
      "outputs": [
        {
          "output_type": "stream",
          "text": [
            "3\n"
          ],
          "name": "stdout"
        }
      ]
    },
    {
      "cell_type": "code",
      "metadata": {
        "id": "HzXbS8eXGP9s",
        "outputId": "9a91a396-6df8-427b-94b0-423095069bd9",
        "colab": {
          "base_uri": "https://localhost:8080/",
          "height": 35
        }
      },
      "source": [
        "print(array.shape)"
      ],
      "execution_count": null,
      "outputs": [
        {
          "output_type": "stream",
          "text": [
            "(3,)\n"
          ],
          "name": "stdout"
        }
      ]
    },
    {
      "cell_type": "markdown",
      "metadata": {
        "id": "yJaGPFZr_IIA"
      },
      "source": [
        "question - check what is the difference between (3,) and (3,1) ?\n"
      ]
    },
    {
      "cell_type": "code",
      "metadata": {
        "id": "Vt1lh54JGSVM",
        "outputId": "a6abd25b-b8db-466c-ba05-83c71e0ada45",
        "colab": {
          "base_uri": "https://localhost:8080/",
          "height": 35
        }
      },
      "source": [
        "print(two_dim_array.size)"
      ],
      "execution_count": null,
      "outputs": [
        {
          "output_type": "stream",
          "text": [
            "9\n"
          ],
          "name": "stdout"
        }
      ]
    },
    {
      "cell_type": "code",
      "metadata": {
        "id": "v-KvuNBOGYgY",
        "outputId": "6f451519-a857-48d3-a60d-cd4a2db3c86d",
        "colab": {
          "base_uri": "https://localhost:8080/",
          "height": 35
        }
      },
      "source": [
        "print(two_dim_array.shape)"
      ],
      "execution_count": null,
      "outputs": [
        {
          "output_type": "stream",
          "text": [
            "(3, 3)\n"
          ],
          "name": "stdout"
        }
      ]
    },
    {
      "cell_type": "markdown",
      "metadata": {
        "id": "L_gRCmJ-JYw2"
      },
      "source": [
        "#### If we want to change the shape of an array we can easily do it with `reshape function`. It will look like something"
      ]
    },
    {
      "cell_type": "code",
      "metadata": {
        "id": "BwQ3CqyRJRSw",
        "outputId": "114ef8b6-dc21-4516-bc36-98941626f55c",
        "colab": {
          "base_uri": "https://localhost:8080/",
          "height": 90
        }
      },
      "source": [
        "#creating a 2-d array\n",
        "two_dim_array = np.array([(1,2,3,4), (5,6,7,8)])\n",
        "\n",
        "two_dim_array = two_dim_array.reshape(4,2)\n",
        "print(two_dim_array)"
      ],
      "execution_count": null,
      "outputs": [
        {
          "output_type": "stream",
          "text": [
            "[[1 2]\n",
            " [3 4]\n",
            " [5 6]\n",
            " [7 8]]\n"
          ],
          "name": "stdout"
        }
      ]
    },
    {
      "cell_type": "markdown",
      "metadata": {
        "id": "mjO5QWIrLdZl"
      },
      "source": [
        "#### **Note** - We need to make sure that the rows and columns can be interchangeable for example here we can change rows and columns from (2,4) to (4,2) but can not to (4,3) because for that we need 12 elements and here we have only 8. Doing so will give an error as mentioned below.\n",
        "\n",
        "\n",
        "\n",
        "```\n",
        "ValueError: cannot reshape array of size 8 into shape (4,3)\n",
        "```\n",
        "\n"
      ]
    },
    {
      "cell_type": "markdown",
      "metadata": {
        "id": "IV9Cu5DBLwqz"
      },
      "source": [
        "#### To check the dimension of our array we can use the `ndim` function."
      ]
    },
    {
      "cell_type": "code",
      "metadata": {
        "id": "iPH8R1RZK2F0",
        "outputId": "2726a6c6-ed35-4dac-8aea-995be9345889",
        "colab": {
          "base_uri": "https://localhost:8080/",
          "height": 35
        }
      },
      "source": [
        "print(two_dim_array.ndim)\n"
      ],
      "execution_count": null,
      "outputs": [
        {
          "output_type": "stream",
          "text": [
            "2\n"
          ],
          "name": "stdout"
        }
      ]
    },
    {
      "cell_type": "markdown",
      "metadata": {
        "id": "sO9lP0drMHTu"
      },
      "source": [
        "#### <font color='red'>Now to get values from array also known as </font><font color = 'blue'>`slicing`</font><font color='red'> can be done in various ways.</font>\n"
      ]
    },
    {
      "cell_type": "markdown",
      "metadata": {
        "id": "C2H0_KaQMq1k"
      },
      "source": [
        "**Try yourself** - For example array[1] will fetch the second element of my array but if I want a range we can use array[0:1] which will bring me the first two elements. \n",
        "\n",
        "For the last value of the array, we can use array[-1] similar to the standard method of getting elements from the list in python."
      ]
    },
    {
      "cell_type": "markdown",
      "metadata": {
        "id": "HF8XAJckQYj6"
      },
      "source": [
        "## Arithmetic operations"
      ]
    },
    {
      "cell_type": "markdown",
      "metadata": {
        "id": "_iM6QR_QMQwF"
      },
      "source": [
        "#### Now to find the sum all we have to use is `sum()` function but if we want to find the sum of axis we can pass an argument for the axis."
      ]
    },
    {
      "cell_type": "code",
      "metadata": {
        "id": "Z7o1XkLi2-h3",
        "outputId": "d003e8fa-04d4-42c6-98a6-68d1cc41d720",
        "colab": {
          "base_uri": "https://localhost:8080/",
          "height": 72
        }
      },
      "source": [
        "two_dim_array = np.array([(1,2,3), (4,5,6), (7,8,9)])\n",
        "two_dim_array "
      ],
      "execution_count": null,
      "outputs": [
        {
          "output_type": "execute_result",
          "data": {
            "text/plain": [
              "array([[1, 2, 3],\n",
              "       [4, 5, 6],\n",
              "       [7, 8, 9]])"
            ]
          },
          "metadata": {
            "tags": []
          },
          "execution_count": 88
        }
      ]
    },
    {
      "cell_type": "code",
      "metadata": {
        "id": "pRA5d1nuL73v",
        "outputId": "559857e5-4066-486b-c8f1-0a7b3cac1333",
        "colab": {
          "base_uri": "https://localhost:8080/",
          "height": 35
        }
      },
      "source": [
        "print(two_dim_array.sum(axis=0))"
      ],
      "execution_count": null,
      "outputs": [
        {
          "output_type": "stream",
          "text": [
            "[12 15 18]\n"
          ],
          "name": "stdout"
        }
      ]
    },
    {
      "cell_type": "code",
      "metadata": {
        "id": "tjBFVmifNavL",
        "outputId": "9c843aea-19f7-4ab0-d7e3-37554db5836f",
        "colab": {
          "base_uri": "https://localhost:8080/",
          "height": 35
        }
      },
      "source": [
        "print(two_dim_array.sum(axis=1))"
      ],
      "execution_count": null,
      "outputs": [
        {
          "output_type": "stream",
          "text": [
            "[ 6 15 24]\n"
          ],
          "name": "stdout"
        }
      ]
    },
    {
      "cell_type": "markdown",
      "metadata": {
        "id": "EtfBlMk9NkqO"
      },
      "source": [
        "- so axis equal to 1 will do do a sum row wise and similarly for axis equals to 0 will do sum column wise."
      ]
    },
    {
      "cell_type": "markdown",
      "metadata": {
        "id": "ImwveRkkPD2N"
      },
      "source": [
        "Now to add two array all we have to use is ```+``` operator for example:"
      ]
    },
    {
      "cell_type": "markdown",
      "metadata": {
        "id": "EUc_TSsAPrgb"
      },
      "source": [
        "![array addition in Java.png](data:image/png;base64,iVBORw0KGgoAAAANSUhEUgAAAmgAAADzCAIAAAC9s323AAAAinpUWHRSYXcgcHJvZmlsZSB0eXBlIGV4aWYAAHjaVY7LDcQwCETvVLEl8PMYyllFsZQOtvzFcaTI7wADQjPQ+bsGfSbCTt56IAEuPD31WyJ4YcyiLLNXXTzdpJTW+MxkugQyOvt76M4bzRAY3XtHw4FDy11Ps7uKMd1X02y+kq8RgleE7fthewD9AfmmLRzwyJGiAAAKBmlUWHRYTUw6Y29tLmFkb2JlLnhtcAAAAAAAPD94cGFja2V0IGJlZ2luPSLvu78iIGlkPSJXNU0wTXBDZWhpSHpyZVN6TlRjemtjOWQiPz4KPHg6eG1wbWV0YSB4bWxuczp4PSJhZG9iZTpuczptZXRhLyIgeDp4bXB0az0iWE1QIENvcmUgNC40LjAtRXhpdjIiPgogPHJkZjpSREYgeG1sbnM6cmRmPSJodHRwOi8vd3d3LnczLm9yZy8xOTk5LzAyLzIyLXJkZi1zeW50YXgtbnMjIj4KICA8cmRmOkRlc2NyaXB0aW9uIHJkZjphYm91dD0iIgogICAgeG1sbnM6ZXhpZj0iaHR0cDovL25zLmFkb2JlLmNvbS9leGlmLzEuMC8iCiAgICB4bWxuczp0aWZmPSJodHRwOi8vbnMuYWRvYmUuY29tL3RpZmYvMS4wLyIKICAgZXhpZjpQaXhlbFhEaW1lbnNpb249IjYxNiIKICAgZXhpZjpQaXhlbFlEaW1lbnNpb249IjI0MyIKICAgdGlmZjpJbWFnZVdpZHRoPSI2MTYiCiAgIHRpZmY6SW1hZ2VIZWlnaHQ9IjI0MyIKICAgdGlmZjpPcmllbnRhdGlvbj0iMSIvPgogPC9yZGY6UkRGPgo8L3g6eG1wbWV0YT4KICAgICAgICAgICAgICAgICAgICAgICAgICAgICAgICAgICAgICAgICAgICAgICAgICAgICAgICAgICAgICAgICAgICAgICAgICAgICAgICAgICAgICAgICAgICAgICAgICAgIAogICAgICAgICAgICAgICAgICAgICAgICAgICAgICAgICAgICAgICAgICAgICAgICAgICAgICAgICAgICAgICAgICAgICAgICAgICAgICAgICAgICAgICAgICAgICAgICAgICAgCiAgICAgICAgICAgICAgICAgICAgICAgICAgICAgICAgICAgICAgICAgICAgICAgICAgICAgICAgICAgICAgICAgICAgICAgICAgICAgICAgICAgICAgICAgICAgICAgICAgICAKICAgICAgICAgICAgICAgICAgICAgICAgICAgICAgICAgICAgICAgICAgICAgICAgICAgICAgICAgICAgICAgICAgICAgICAgICAgICAgICAgICAgICAgICAgICAgICAgICAgIAogICAgICAgICAgICAgICAgICAgICAgICAgICAgICAgICAgICAgICAgICAgICAgICAgICAgICAgICAgICAgICAgICAgICAgICAgICAgICAgICAgICAgICAgICAgICAgICAgICAgCiAgICAgICAgICAgICAgICAgICAgICAgICAgICAgICAgICAgICAgICAgICAgICAgICAgICAgICAgICAgICAgICAgICAgICAgICAgICAgICAgICAgICAgICAgICAgICAgICAgICAKICAgICAgICAgICAgICAgICAgICAgICAgICAgICAgICAgICAgICAgICAgICAgICAgICAgICAgICAgICAgICAgICAgICAgICAgICAgICAgICAgICAgICAgICAgICAgICAgICAgIAogICAgICAgICAgICAgICAgICAgICAgICAgICAgICAgICAgICAgICAgICAgICAgICAgICAgICAgICAgICAgICAgICAgICAgICAgICAgICAgICAgICAgICAgICAgICAgICAgICAgCiAgICAgICAgICAgICAgICAgICAgICAgICAgICAgICAgICAgICAgICAgICAgICAgICAgICAgICAgICAgICAgICAgICAgICAgICAgICAgICAgICAgICAgICAgICAgICAgICAgICAKICAgICAgICAgICAgICAgICAgICAgICAgICAgICAgICAgICAgICAgICAgICAgICAgICAgICAgICAgICAgICAgICAgICAgICAgICAgICAgICAgICAgICAgICAgICAgICAgICAgIAogICAgICAgICAgICAgICAgICAgICAgICAgICAgICAgICAgICAgICAgICAgICAgICAgICAgICAgICAgICAgICAgICAgICAgICAgICAgICAgICAgICAgICAgICAgICAgICAgICAgCiAgICAgICAgICAgICAgICAgICAgICAgICAgICAgICAgICAgICAgICAgICAgICAgICAgICAgICAgICAgICAgICAgICAgICAgICAgICAgICAgICAgICAgICAgICAgICAgICAgICAKICAgICAgICAgICAgICAgICAgICAgICAgICAgICAgICAgICAgICAgICAgICAgICAgICAgICAgICAgICAgICAgICAgICAgICAgICAgICAgICAgICAgICAgICAgICAgICAgICAgIAogICAgICAgICAgICAgICAgICAgICAgICAgICAgICAgICAgICAgICAgICAgICAgICAgICAgICAgICAgICAgICAgICAgICAgICAgICAgICAgICAgICAgICAgICAgICAgICAgICAgCiAgICAgICAgICAgICAgICAgICAgICAgICAgICAgICAgICAgICAgICAgICAgICAgICAgICAgICAgICAgICAgICAgICAgICAgICAgICAgICAgICAgICAgICAgICAgICAgICAgICAKICAgICAgICAgICAgICAgICAgICAgICAgICAgICAgICAgICAgICAgICAgICAgICAgICAgICAgICAgICAgICAgICAgICAgICAgICAgICAgICAgICAgICAgICAgICAgICAgICAgIAogICAgICAgICAgICAgICAgICAgICAgICAgICAgICAgICAgICAgICAgICAgICAgICAgICAgICAgICAgICAgICAgICAgICAgICAgICAgICAgICAgICAgICAgICAgICAgICAgICAgCiAgICAgICAgICAgICAgICAgICAgICAgICAgICAgICAgICAgICAgICAgICAgICAgICAgICAgICAgICAgICAgICAgICAgICAgICAgICAgICAgICAgICAgICAgICAgICAgICAgICAKICAgICAgICAgICAgICAgICAgICAgICAgICAgICAgICAgICAgICAgICAgICAgICAgICAgICAgICAgICAgICAgICAgICAgICAgICAgICAgICAgICAgICAgICAgICAgICAgICAgIAogICAgICAgICAgICAgICAgICAgICAgICAgICAgICAgICAgICAgICAgICAgICAgICAgICAgICAgICAgICAgICAgICAgICAgICAgICAgICAgICAgICAgICAgICAgICAgICAgICAgCiAgICAgICAgICAgICAgICAgICAgICAgICAgIAo8P3hwYWNrZXQgZW5kPSJ3Ij8++hEU8gAAAANzQklUCAgI2+FP4AAAIABJREFUeNrsvWmPJFeWJXbufc8W32PLyI1JMrkXyequVk3X1PRgMMIAEiAB+ruCIEDQYDBoQbV2d3ErkkkyyWQusftuy3v36oOZuZt7RBYXFZNF8h0SgQwPd3Nb37nruaSqCAgICAgICPh64HAKAgICAgICAnEGBAQEBAQE4gwICAgICAjEGRAQEBAQEIgzICAgICAgEGdAQEBAQEAgznAKAgICAgICAnEGBAQEBAQE4gwICAgICAjEGRAQEBAQEIgzICAgICAgEGdAQEBAQEAgznAKAgICAgICAnEGBAQEBAQE4gwICAgICAjEGRAQEBAQEIgzICAgICAgEGdAQEBAQEAgznAKAgICAgICAnEGBAQEBAQE4gwICAgICAjEGRAQEBAQEIgzICAgICAgEGdAQEBAQEAgznAKAgICAgICAnEGBAQEBAQE4gwICAgICAjEGRAQEBAQEIgzICAgICAgEGdAQEBAQEAgznAKAgICAgICAnEGBAQEBAQE4gwICAgICAjEGRAQEBAQEIgzICDgrw8FtP3LGgLIX3yn/MVtymoLuvHZrU+1v2X7Gzf3Z+uz8k2OUfSbvD8g4NnDhlMQEPD9cCA1jKIMVL+u2UehJEQEACCBMggeIMC0iZHaHMarbVe/G214S6Xa/tpiVgBQgkAAYQiBBSSovxO+NIaaXWIAtNpbAiDN99ebqneJICrEAEQUTFzvnioRQajePKFhR6b12YBCBL76PgpmfUDwOAMCAta8SS2vjlqsJlAFAQwigiqg9RtVdc2s+pc2TgBvPNvc5lRtuYCkK1KsfhLVLKbGmEvOYrMdXRE9X/HdzaeYVl9KRNR+s6oqdP329RExgxibLB8Q8DcGUtVwFgICnrG3KSuehPDapWPVyiUTVSUyNYmpEikgHgywqV4EAKkJpvFZtfYLa2dOq83qmtU2PiWNp0sAICI11VVerDLgQdUCYdckp7iaLHXNmgpHIMCIgIgrJ1NVCQQSQBQKGKotBdvynrcIOCDgbxEhVBsQ8MzNVYDX3Nl22oRWsU1SVRAZAEQKyUFqKAKgYFUo1aRbB0up5uPaXWtoTOpgaIs+V1yrG/tUx4VJIB4VZ8NUPHc1+VPtOtdvqEhXPa2/SWrOhKxpXQWoYtDyla5zQEAgzoCAgBVPicFGdrMhGCcQAgik5L2UhgxIQAWoYsaINAaTAwQSgRl13tBfwcStLdMma27sTUVmvkWBq8gqY51BdYTKI65jtkqQOjG5ykoSK4ik2YICDuLA1b8jiAICY6DVe6Ir/MvgbgYE4gwICLjKaWuV1dRFQCzwCiWwwhO84RKaIZugnKjPvcKYLnX3iYcREg+z5V9e5p7NfKHUFTdVJnPNniUwR362nD+R0kXxMO7dgL2OJknJ286mANzebsO0JVEu+bnIhCRXIVO7oZWTzMSxeiUimAgUI9kBaL0K6cqFDdQZEIgzICBgizTRRDEVIFf5cAooIoVDFVn1S7hjTO4tp59m2ZkrZ0Iujvvp4Hbae5m6b9jkALou/KGaGtEkEas6XAPhmudoFSEWpTbJLlF+nj3+/enZu4XPovjW4a1/l+z9E3QIOKIVddpVywrVgdcq5mwZIBVgieWnp1/+Du4L0rF6RCaFM4YjR16gbGMRtWQVKcWHo+tvofcy0G1436JxYU0dYA4ICMQZEBCATT+TVg0e9YtejSEC5cgfnT/8/fz0XfUXxEJSkinmGaYX96Pk853rRefGL8B79VOsG1RTRWYNFCogbrWvMOpoqQBgKMEBE/fkD9PT37P7MmH1ZablbfASvt84nVJ3sBBr26dVUFXkU29fdDGenjyAfh7bJUGE4jJTa2IlEeRMpao4MrnvI3mpM7wd99yGk6lV3DggIBBnQEDABpqKG7LQJuPIImAFDFXlNcuziz+ejH+b0CxJE9B1UGQ5d+WFkyOSB0eP/9sLwwSDn0MMEGPdZwmoAVPTvCLwJUxUE6dAIMoVcRpGCYz17L2Tx7+l8ovEiFfrNRfNARFmRtVSCq1qbrV2NwGp3VpW1KXACjGU3tg/eCtbDpw/E3hhZuOZoK5M7dJlXxAWjFgohu3GnV3A1tHaWqVBDFhDqDYgEGdAQEAbVJMR6q6PVndI22+MOl2KBsTd/u7t/u6r6OygmOj03vnR7+aLM8RRnj1M+q9BtY6k1k2fDCJIa0O2dhkrgmPiAo7BBCLk8I+nR38ycsGaoyAyJo5JtAC8UPUxUOUVatPpCVcfBqH5dgcwjEXncPTir0bFS6AlyEm5ZCj8ArYoHr+f41jKIivZdvf3b72Bzj5gVmoM7fMTEBCIMyAgoA2m7bpW1K2cKkysUKLeYO8/dDqvWm/Q2wWlEEGUUWevn18ssvdKKZfFNEEEShovkBWqqkxqqEQlbqCixKWWTEndOCkwHAMwcMhP/ZPfzk/fY8166cjlrvTMGpEC8ILSwAgRgbjpNhEtmeG8tyaGGHgPhoI8wSAiRLA9RPtACYA7AihwAfls7t8pHYvvc+fW7o1f8eFbwC4Qr20FWqkrcODPgECcAQEBT3c/af1PU0VBCeKZzZ5Ndxu5ghK8gBQYHy/nM4AIcZqMIFyVtFbhTaJKo2cpy4c+n3PUN709Qodp7X8SVYlKB1y48UfnR+8wZl673d1bxfS0nE4hZBRo6o5UPLMCOXQKvzAoQGwBOEJpwAaICCmj45FYNt6DTKQQJTVQEg/OsicPlouxOiYdjnbfttd+DgydWkNmdSYqbT8KXmdAIM6AgIDLaBW1ykpnthKxUy/EYI4gABxMAbnA4gH0TGefXxx/4OcPjafYjOLosMpuAiIqUEsA4Midz05+Px1/aZLrN175R+Cm1Z7ySq+H4Dx4ium/TY5/K/5UTRztvI6959S95+ZzUlfFaA1AnkkZcuEmHy3Gf5TyiFQBESaA1au1Qx/t7t74GScvs6ZQcFNzK5UYguaYPRo//qNxR4q0P3qps/Mm+IZ6Y0wjSERrNSUO7SgBgTgDAgKuwoou+SppnibtRwQ/ffj57zn7TJf3JX+U2qWhguL9ncOXOTmAiQFA1RBAJeCAHO5xOfuwmH5hyin0LqgPIgIrqNbk4wLFo9nRH5fTeyQ5kv2Dmz9Ht1/wPU9ImFkZYEIEBxiBuMn4yfmTj4yexmxExMFba6UURSfHQad3K40VIlAmhogQC0GBHDRZnHzoFo8jzmFu9a//AsMXoT0yibbWH2rKggICAnEGBARcwZq0Ik6FWYsJCAAyDAG8whBQABeTi4+i4pPEH6Wcsy+yIo/7NzqjW0gPABYFCYEdMIG/AObIP8bi8w6NremjfAJroUPYAaOviEECPtWLP2WTD6yZejMYHLxq9+6iXIpYgmWxJBZqlUCRgj3UUn8vmr9oZMcSk6hRZ63lyCmlEV0z9gDowFTriXgvFsykQI78s/nFnyMuBUm6+yZ2XoMZeESMqBSYKtJcT1ZxBIBsoM+AQJwB39oX+SbYaK/7Drb/zfHXbCr4ETYo6PqqtSTOtRq/RYAlKOAcos61a3eWZ7PIW7hJUU7iJBH1Fydf7uy8CXgiEDMkX5y+Px/fS2jiF1+oO7ZUFLOH03u/KWmUY6ez91Jv924UWVDmHv9h/Ph3Uh4xlUn/YHCwC2SQKXPGXADEMoWeEHXBkSiIkt1rr+8OO3CTOitLgCikhO2AdpBcB8XaVAuzsXXLTTnJzz7MFl8kJJ5Go71XQQceHUXiAdO+B0lWZUEUArUBgTgDWovl1pCmTbKru7/lKirkbYJsrzhoqZ4qVB2UwUS0Hl5VT8EhJarEXzaIczUjhzYyTNLa82bOBuGKPaHtLQhUoXz5GNtnoF1ZSpc3Keu3bf6hETP/4ZtH5FrPYCUYayGq8LXIj+0B8f5z/xNu/Tssjhbnn09P382X78ZuMj/+l15/N7rxnwkpCKDF6cPf+cVHpU5juxTMob7DcXb+sed0ob1FPu0kXYxGuPji5Mk/G/nEIof3Mn00+ei/O/6TsvjsvupExIxPNXYwgzfTm/+eadcjYlhKXkWcodahrf6vJoQmkBhq67YVqqpjPeDgp4vzexHPHZnh3l0a3gYNGVGpAME0vS4gB+hGa0rgzoBAnAGrNV/rn3z1nzcIlbeZZrWJrfevetABkNQLFwiA92AGVe13tP5Ma0/ql+kKv26tGlN/7aXlTKXqVqC2l1C5TQTaNgsue7obG5SrZxfTtjLqjwKt4ZS0ZTwREUM96oLTjvex4T7S3e6d57uH12efzc6PPojtzC8fRVrW5gzz7u5Nn8xdfp5njyNbqC9dgaQ7onQnNjvo3rI2RlFm+SzLF1YkltQyeyVfLMsyM6ZknidWWSB+MT3/ophGzx+87c3QsAEEMofMoQUIQAQw4MERGGCGePGGVyuKFtBpfvHAZyfwhY8O+ruvgIcQS1RPFCO96n4LlBkQiDNg0z/jSmJlKxjVcqhabQO4zDTS/GGzjIIqdTW0REoFqqpqzEpBW0UVAJGpWK6WTKtiblR14ku9ZxtdhhVp1d3wW84iMbfijh4AkRIxhJ4aPaYrXMyWf7l6qSUO18iwcXV+9IfOo9yeoNmEzmXNncoQhS1UHRHYGCCGHQIJ7GHcew7RlwqZT8/SPIfxiFJg1H/+v0B+BUz85M9nn/+fwMQnh8Pn/yOGrwMDJF2gCyRx72Z39xda7vt8WkjhPKCIE1I/gcwBFCUXPuLhTtK7jmhgQPBzN/t8evLPcI/JOwgRLMBKQnE/7r3Yufk26KaxPQWciqWSKEP2OD//RPIpU5T07tLem0AfRLqefdaMQ2tL0QfiDAjEGXA1g246d203sgmp4pIP2A6cbscqpfnRUIqpJiyKOOJqgDBzi4a1JlFtmJFASk9btOoYcmuRr4i2HZ+t/lsdAT3lwPlpiyNve+WAglsDnxvJONgfw9p6xfWtz5G6Sme2QPmgLOeRHVA0AvogA+8BEyUJceR92YkSEMNYBZxGFodk9hRzSXMx1/M5PO+hfxfxXaCn8B5qkXD/+uGdX0N/Bj8FHNjAMFyO6f3J0W99dhZF3f7+y53n/wnpS+otGUbpFtOToycfJ3ScAKRMxKoqHjm63NcXdl9E4qEqTKCqmyXD8sti8dhTGSf7vb2fgW/AxTAggqoHADKQVhCkvugO9YQyDqtFQCDOnzbamcht1wpYeRvrtbQlzI228jVv8o6s/l41v+uaZypStFQTav1+AgNCVPmm1ftVAVJWWo079rjKS7x0UGuqlUa9huqbqg7D1TFcvYroAdpMc1ZOs7SmWZmqYIT46nHKP3zuJG0isisZBAuow/KLBw/+d5cd39p/Nb7+FugQUR9YIH8yvXgomgOJmE5zDaVW9kEExFG8F3dfdGWXOzeR7oNSj1iQNVoJXSQvg0pQ3mSLBQDSmzT9IlvODaXd3iH6ryquOyQMY6JO3DlMd+5GOozFqHrPQkCisdVBmR6KGTAicDXJ0wAKv8znX5Ry6kwUdQ/T3dehe0oREbQOIZhGtaHSjhdZl0kpB88zIBBngG6VC+rWArriD6Eropot1ryivlQA5tUWVJVAkIp4BY6hBA/4utBRPSCNW1DPcVo7jF8xm4JrNVQlEENtxW4gw2TWYxmxOiKuJbzXgVtpHSZfcr4rjhesapG09dUkqxj1D35VZVyqeOLa9lAFCshcilO/+GJcXHQuPu9ff1tt12eTfP5gev6AYDg6HO6+hKgDgl/dWQqFJd4d7rzZ6T6v3WugA0WiYEJk6hNvAAt0VKvGTiiUFGQWnkfKHY+4lChGn9Bv0uhRun/7hf6/h87gCcygAgJIB9QTm3K8r2Jq5VpSwMn8bDF9IDKD6ce9m0iviURkIPC0Dim0kxbt4WiBNAMCcQbW3G4BEWrV9Wzy6HahaSuGu84mrhKEm6IzgIC4okkHeGhpyAEFkMPPUM6Qj302lXLhs4lK4SV3rvSSO5+LOFUv6i7VyzIAZmuMMTY2UWRNyjaxUQ8mNbZj7IDiIZIebB+IoBbKoASIQAYwqKZCKgl0RahcheM2M1u0Csmq1OIAtHJGZW0m/ODvBxEISLnmDQbgm8MyTAAhSneGtyf5kcseZv7RZPouwARnCYxSdMemL5i9v4PpK4zqOmPMZIGh2XnLAKAYSMUbQyCK2kEOJXgQQAYgQAjGwfnEeZvEcRRFUAXBQERFvGHbQfIC4KAWZIECSihjcMxWFFxJznI9VjvL50dZdspwcXJtOLoLGGEleIWYeqjKSjJeKrOy9rzVBuoMCMQZsEWf1RCMq1aGK6tpavlvufwnghgI4IESJBABl0AJlCinuhyXy6mUs7KcF8tzl4/FzSBLcGm0NJIblKpe4QjOwlVu6GU/qK5k8azOoCS/pFygsCALTkCJR6KagDo26tq4n8R9Yzo2HRjTsUkXyQBRF5wQxab2dbhuPKh/cityyXWYmRS6yqfWjHDJsvgx3A8MUMMc1V0hCiaLzt7w5i+kWE6dByaGhdQxoxCo2d/Ze2tw7dfAHjQGNTJ11YeVoUldR6UGRIbRCvsLVMBcTU9pxAeU2MF2d3dfXlyclgK2OxACebAaYhijykQDBYQiBlQcM4PrQWMeYhnQykLyYCyyonAW2Ini5zB4ARpRXe1NVE1Q4+0ru85i048jqhDwowWpBpmOZ7NEyqZTyfh6i4OgCqjVYTyuo2HVIqVQB3hgDvcE7kKzqSsuyuzcZecum8AvVErVTKQkLUFeSBQOXiJi0qqhswnhUqtcaB2YrRpNWMXoOtEosvKYyQDklaAWMKDIsGWOiWOBIY7Z9KJkmHT3bbpL8RDRLmwP0RBIavcUBLK1Ag6UiFbfolCC0e1m0OqUmB8HazZ+NhTsq75Gql7JgRz5cTa9txx/oflcfYZITdrvjV6KRi+Bb0LT6jz42rxiAtfpaeMUQlXHh5rmrFahCPGw60CFVNXUAiwx/zI/f6Ao0t3b6L4C6kGrIAE3bjGaXL1nKCGqWBOAXWXlyUGXi9MPTh//xlp7cOsfo9Er0H59uNK676lObFchW2oTJwXiDAjE+VOH6IY2aWsBFWFexyCby8GkdemNruOTIlIYrhQScrg5XI5yofk0z44Xs0+8XGiZeT+ncq5+wZpZiLGq6kVElISY2CqTgtQzwaBuwORVKLgO+rUreFUBZjbNb75SaSB1VcaUCIYqwoOqQrQZNclEFojBKZkucV+5Q9EIpt8ZHKa9A7Z92BSmg6gHdOrWQDUgrgV0sPZIqPn6htp/2J5n5U4Tr31tXKn/oAV0CpnDZ6AS1oMY2AFVlgfXMfl6MjbXEQ1yoBKaQVzzCgEePlPySqJiABgVaBUBAUjAQD7XbEYk6A0QXwPHdRewxFADWLCpapGa3YwULLAAmTrvwFAB55AZ3DGMgbkJ3wXb7awErzOia6tI1oQaEBCI86dOnE2dqlkV1upanrSm1aYEv8oTeUABC1XvvYkAlMACcgF/gezJcvKlz898NnH5LM/OhJegkquBjiIEsQTDXBQFyIAjoYRNFyYFxUIJ4kQoYo4MJ0wJIQIM1DLbxjsRkKh61aol1JOoqIM6EQcpoI4lZ3bqC1/MxS9FCiYY8swQLYWEKs+0+klMRGzT3CuZLkcDsn2b7HS7e/HwOUSHsDugHrgHSkGRNpUjCiXllcJC00jzA19Z61x1Va5loQqqMoWkCpBjanQRqpwfHLQEF4DU2UAtoB7eQQpgCc2hHuqgJbRAeeHymfNL0hKiIgJxzueAU1XAAkJwUGEhgGFWNdXMZI1NiGNPrKzGJnG8i3gXZgBQPbPaJtAEnIBS4ZQpAQzUQKvAsUALIANZoAtYr0JErK3uXnaAah2uX52Vuicq8GZAIM4AaTJ266RymzhbcUgGGOpBDlKAFXDQApqhPJf58Xzyebk8LrLjMjsyWKouEgNiX6gDMWsCNSoRYNgkTJGxqZqIuMtR19hhlA6SeIgo1TgRjgxFMAmQgKK66KMKgVIVHvaAhwrUQzxUIa7+txSQEnAoF+KX6pa+XDg3L4tlWS6hucoSUqgXlZK0tOQIHlQ4vwRgbCyInMaqiWgMHnYGt+P0mkn20u4BDW7AdqEWnAIRYOugbsst+8EvrLWX6aC4otSAHFDWxpZWV8TDL8AOVAAe5cxNT1yxRFmIz6SceDf3Li/LpfdL0Vx9rrIElZHRKotZWW0t0UcBlaTVX5iYnYrCMhuoVWFVVVYhEWXyHcNdY3pkEpMYtqnhlKiDqGuSnk36STpAPIBJgBhsmkJxCxhoClghIRhCBNE6+cCilSnZEv2odk8AE5o4AwJx/tShlwp/VpZ3E5OEVpMZq0JDB1qAZsAccuZPP5ye388Xj/3y3JCDK9gI4I3V0mcg9QpruqodoOPRIdqJ072kc80mQxMPTNzjtI+0D0qbVgTT7FC7PIcu7bQ01K6rmse1u6TV4iuAa4p4cxR5Ucy1XJKfuHyWLaflcipuon5mZKY6jU0hslCU8EJkCEbVgKNSDHHsxcB0uoNrnd71dHgTw+dhrgF9oCc+AUXEG2fxB+1tSlXcqtJoIREAV8BagHNQDsmAJWgOLDA/KhdnRTbxy3GZX7hyXhTLqqdI1RkURj1XQVQmr0qqRAC5urfXg2GYWZwQi5JT8qBqFKipRaMAUSUypNaAVFVIUEXNERExlJ3WtbjsY1YSgnIlhxAbThmdpLOTdHZNr297u+gegobQHqgHRIqIENcVvVTva2Uq1vLJpJXOhkKpLiILCAjE+RMP1q5ZU5qTzqs8Xh2LQwk46BzuZHn66fjiszJ7hOLI0iRCRpIzmGBASe5VORFiNdaJsXan09nv9Q+T3iHSQyS7MCOgA4oapiToqpa12Zl1Q11Nk9UyS4BCaF3pugJjqwe1acCnuj+vOs4SyIAcKKE5ygmys3x2XGSn+eK8yM7VzUlzQ47UiRTWQLSwDAFUSdSWEqnZsclh1L0z2Lmb7L2EaAfoQC2qgt4fuLJMy292Tc1OJRrkoAWKMRYn2fw0z07y5VGxPFFM4ReWlbUwyEkLVSVLXiudnXrYphI7kFJEsETGq1MlVgOYylKBGkDVlEoKrlpyq6i4I4IqVJVBpMoQD1/F7VWVUb2HBMwKoyAIqSh7QemVoBEhJSQwaQFTICUzsvFuv3uzMziMBjsc9WFHoCqZHQPWCRlOUMtwSC1QRW2TLiAgEOdP3OmsmxEFUAEBltFUs5IDzaAXyI+y+cNy+bAY35fi3BdTaGFQMMpGryBxGjt0HQZx9zDuHfaH19gOzfAGTBecAgYag+ImyEltYdu1JtFGwPBK3QO+JAu31mFobhvCStVBV+pIqy/zQA4UtTVQJ3oZy4mfn+bLo3J5XGSPl9mJ+vNYc9bMkGcDIhWBwDJ3lXsOfY72uqPn+6MX0TlEtAczgHYV0Q8401nZTuRBJTCHH6MYw11kky9cdpYvzl1+wbogyr3k3uWJUfW5Mgm8USEiEmUTOfFKERALrIr1YOFIEEESa1NlUjKR7ZooJgWxNdwVkJoq7yysYIkAiOZEqkrqS5VctBAREVe6jOHgPSQzyA0rINBSUViIIVWUnkshGLUMA+eJqESkZNkkhJgQE8cFbJKOup0bce86p9fQvYboGtARGCDiur7WVikM2YxvBAQE4vyp+Zi8GZ2TRhxnNQ3DQ3PoGMuH2eTT6eR+tnwEd2rKs9Q4KKuSwCgsIVbuROku7KgzuJn2b6F/E9SH7YJ60ASUNGTGFVlW7Q266TPWWu36F4lzSxqQ2iWPuMIV0Cs8KdR5XKdwgHDlQ9Rdejn8DBhDx7p4XCyeSHaWTY+Xy3PokjU3yBlO4ZmsEyOU2mhf7J5JrvWHzyWj59G7AfSBBKhaMvg7uHy89WzQ1sF+45CxYNV3qwW0gM/hpi4/WsweLacP/fI44qkWE3VLQkFcgHylQUFiBAxrvULFEiJSwyaJkx5MylHfRl22XTYx2ZRNbNIdJD1wVXaU1lW1ZCAxuFEYqFtULEigDqzQqky3AAmkip16aIlsiWzqi6lK4cWJWzg/V821cEW5yP3MS8FKRn0EBy2VKjkqIVFSMLNXKCegPvEQyV7Uu5H0b3BnP073YHvgHhABHagRMgriVuLz6YboJdNuUx6kdX2kZTsGRzYgEOf3G2tbn8hNaSD1Te9lPQdDN2aLgCCQArRA/gTuWCafTM4/KfMjX5zDL5idUUeGvcRCXYr2TLwfJQcmvd4bPYdoB8kQptv2KZsxT9hia/rLQ6C/iwHR29tcJUrbZCygij9KkAcyuBncwi1PFuOH+eyhlCdcnqqfGOQER2QUtpTII4njvu0edEd34tErsM8hvgEMRSzZpsMVTVKZ2pJDte4Sbc9lk60Rb9QwnIKlFZomCFfiuhsCwvXFrT4ltWKwotVIo82XkmQwDpijPIM/wfwomx5n85O8OPHFmGVu4QhFFRoFICTgqjA5dTqM0l02KXE3jnfYDKJolHR2kQwrGQoYCzJgU/+sgvP1PnDrEvDmSFW66rYWtGuI6tc9pCoWU6iDZlAH8dBC3TJbTorlxOVjLcfwM3ETuIXIjCRn8oYEWgJQ2MoK9GQ46nHUj+P9tHcz6T+P5AaSazB9INGqHAxM2Jw1i/UIIAEMzEpplze7WZTqzmlT/72ubQPY1jndsIQFBOL8vohzQ2SVAXivptZxaVrrlJtJlgIlggM5YAF3Dne8PPpgcvqRW37ONGPNLIvhyKvNnbHxyMQjmxwk/dtp/zaSQ0S7oD64A4pXbiXWrSw/zBNZpVfVETsgg0xQnGLxeDl9kM0e+uJUygt1c0JpqG7i9BQVvp/273T6d7v7r6N3B1RZEk3pU2upFXgRsWw2FGp0nb29qky3Zg6FxdbYL6GWvKq0bBRt5mVBVQW+Ug8miIonFmAJncOdFZMvl5P7xfhzlOfi50DGlKvkRoWZnTeKGKZLNiXbZZvAWKF0Z++ujffACbiLZAjqgXrgDpA0OexY41tsAAAgAElEQVStY+Dv7GJVZ8G3BuZ4oISfQ5coxvBzuLEWZ3k+zhfnRT5Tt1Q3Fb9keCbPlIuUTEQclT4RHsJeT/q3Rnsvm9EtxENoBzys8qBQBqItNWNdGwH1yYdS1QWDWkpZPEBgU7marBV3AmRgvxN7MSAQZ8DX86ukmkApMACbNqFqFaXUdRKuatJTAS2gT7D4bHr83uz8Y784sWZhKWMqvaqnRDHwfI3i272d54ejW5weIN4HdaGV+iuvjOxaDIB+FLLYVYq09kQdkMPNND8vs0du8TCbflYsH8OdG1kaFCJC1BGOCjXeDjv926O9l+PBK4hvwuyCuhAWrQZCcy2vryVWUg9oBBbanKmb8YNV+9DqPVXppyoR1dtseWZaX29uXXNB5UHqBO4Mk88W5/cW8y/L8pxkHpP3bu4lZyPMpCBCItQVjGxyGHdvmPgA0W6UDKPOgJIeKGmsJaplC8WAV/GG2qdcPc703SorSR1W2bh+AjiQACVQABlcJvm0zJfqF25+UiyeFMsjyDjWMelCpQBEoGRT4Th3xrk0inf2Rs91Rnew9xrMPngH6KjGWOlJiSNuppmCVYSUwdBKgqO2cUQhAuZKXkFbxhG1Uw8BAYE4v4elXoCyKuhnWDSjoVG17ldxwtr5EPI5uATNZXz/4uSd2cWHVDyOaGqpIPVORTklMyh1lPZu715704zuIj4EOkAMSVUjVNqezbhOUqlFwvVHoe2pawMDlQZ8LTu3AC6QPczPPpme3SsWT0jmhgrWQjQXU4KNk9TJIE5fGO2+3jt4Bel1mEpYJ4GykK2W2NXEx3bkth2zbfZkPakGm1PPmraJtQ+qaz0LblQAReGoriueozjJju9NTz7K5g+snluzVF2SegEzW2LrwN5Hyp2oc5B0DtP+zbh7k/u3YXaAHiRt+LJxrYBGGb2ugm72jjZmzvz1XMynVGBtjsmjjfhB3QED15ytErpAcY7Fk8Xki3z+MM9OqZxDlyIL0SUZZ4wxGkEj+LjUHndu9/Ze6h+8it5NUOV9mub/RqIImzpE6+hBTZy1OdtWOqIghBsQiPP7W+QbufbVFLA6GVbJq9LKhaoDWXNggvOPLo7/tJx/CnfBMmc4JoEUTmON9k1yK+6+Orr2Bvq3QB1Qpwk8soIqKxrKzK2nfiXbXfVZ/rCJ06+9ihVDVMMd1YNyYAk5x+Lxyem92dknsniQ2qnlDJIREVFU+FjQY7u3s/9ad/9N9Koe0F5rqa1cSQ+1jSYRiNrs2ZDBZUKlihrbw9FWshVtwUJHXAIzyLmMP87Gn2Sz+z479uWUqYhIARHvQZGjjpPE8yju3OiPXuyM7pjBjXq8zFrzwUCiOoPK8FQHmLemsbaacPnqOQHfyQPgQFTbCrpVDlZTaNXmS7WXV4/rATkgh0yLiy8XFw8W4/tSHrE7MVgSlVW423lw1FdNyI7S3q3ezqt2+BK6N4HKHjIQUqX1LD7VprKpvnmUUEk7KBzBGDFroUaqWq1CiVBAIM7vhzjr0RaXvCYQIL5kI8ASmPr5l9nJx/n03nLxIcuFhVcl9alQF5xEvWu93Vc7+28gfRHYa0ZbGKh6Fa4HWFR1LWZjSdTtAdc/ZFTRUVUVMNXq5OCNSddYgBbAHHomZ3+enX48Pv0UchFHBckCUGsS8ZHQDsV30tErg/2fYXAH1IWkoE7jMspqcJVuzINEPeV7S61ilaveKLLdEnsS+BymBJbIT4rx57OLT9z8PorHKmcGS2byyorESwxNTLKXDK5HncPu6Hl0b4L3gQHQAcWuUsEgstT0+FbmWMtGq+QnSD2AJpMKVa3PVUW09N1z5+avtRXSBEW25q1XM190NTMdBbCEnAFTTD4vxp8sJg+W8ycqS2M8aaGSERFTqtxX3o86z3V2Xk4Gd6h/EzxaKRurgip9pVpFhFfBWIUAXuAYTEiaF+vKdoYNPmdAIM7vKbRIm68QvC+NqV4t4c9RPFiM31+cfyTTRyTnSjNiUWGRQRQ9Z9Ln0p1X0msvITkEekACtaLE3HIdKs1YEVVlE2HzgtGlOcA/9FBtYwo0kvdkGpbylYYNQYESMoM7K8f359N7bvGJWzw0MiGfERlQIpTC7JjO7XRwt7v/Ovovwu3CpBUL6obEXW0C0VX7o+sQ7uXK2+ZtqsACPMbyQT79NB9/Xk4fuvzY+KUxJShXEqeR047a63HnVqf/Qm/3BeoegLswXSAGEmi0nkPZlI8qVFWVyGAteN+U8rbbhxhXPsT0fVzAVSx5W7HeV3WwrV0r6zZfWUDmmB8tx58V80c+PynyJ5YuVJakCkCFPJIo3TfdW92dN0z/RdO7C95TJArippRWVwGAOmZQpVoFTNAEZCrWlFrkMArEGRCI85mv8u1yg41VuOr6z1CcluNPJufv59MPUT5OkSu8Awl1lUdp7/nh7ht25zXEt0FDUE+prmeoKi6stL5oXeexEc9s4sOMH0HKZmMK45qrBB51fwFqTdfaCfOgAnIBPcH80+npB37+sFwewy8MO9XSgzz1yB7Evbtp/6Xu4VuwB1UPj6CaRmmwqpWtLytvt6+0TnX7VVqJPSGHLiCn2el7y+mni/FnVJ5GOjUoSVlhPGLYPnf20/6t3s7L6DwH3kO0B0q1aiXSavwztZlHSagWpasZ3EKb9K+BbiogUmuS55pM6bt+Aq56Udc1x9oEUWtjxwFQmKoRpCLEWpZIHJGClvAX8GdYPskn9xfj+0V2LOUsMktLS/G5qhHuOzqMBi91Rq8mo+dt5zp4gEq1kVJfT461EIYU0DPIGD4DW3Aftq/cE9h64PZ3fYICAnEGPJU7dUvntSoHPYJ7MH38L9OTDzR/EnNuuPDwSj2hQ5Pc7uy90du/S52blQorNKrGNfsNJ6K9QG+5EQ7rNsGvO9fzh+LB69O8pqs1FkogA2Uoz8qLT2cXnxTTT1mOxZ8RMiFALUtS0igZvXJw63/A8DXQHpAIIoUVRUQM9VBpam65EkRsRmqvpfkr31JITSW06kqYHHQs43cuTv6UX9xjmVSSOgYFlIk7oF1Ed7rDl7t7r6B/C3bQlCxRM/iULrGctI6QdX19ZW1PbLYhbnbrPqPQ/WbUessD3rohL/nHG8y6+oCrfUQqgQyTJ4vp54vxJy57QOUjyNjAMbN4K5QKdxFf2zl8Pb32JsxNmAOg42EIxDAQBU5nT/75/OhPkZ8AxqS3r939NdLXQX2vwhRYMyAQ5/e0zq+iZypCWsKUoCWyo+z0vfnFO7OLP6c8jo2HmFIisX2KDruDNwaHb2N4Fxg4WEJkNgaNtT2t1hrTWmKbnv3tWSv0oz/dm6e+ao2tvVMSUA4s4E8w+/T8+N3Z+cdM51aX6uZWPUfdAj2NbsWdV/ZvvI3Ri9A+0AfFzcl3QKNWsXJ563olbOriOnVLYoBmyL4cf/n7yfhfyT9JdaYu9zCwHUGk3O90b/eGLyX7b8LeRHSt0mi9nCVdXWdaK0W0X2+ED9vEuTGH67Ln3kQsn8kjsKVs3KLSvyC+wVcR58pAUFIhKqBTFI/87LPF+JPF+D7yc6Nzg6VqRkSlJqXZ5/TOYPdn/dtvw+wDA0i3fijcl+Oj/+v84f/T1XN4ofT5ay/8Z+z+J2APaPvFAQGBOJ/dMi4enkAKZTCrAZbIH2B+b3r8r5PT9w3OjVkqCi/G0oHgMBq+tnfrH7BzFxhAE7BRqMJTVaTQKuvXOiq4dh2+zhL4w18HWu0Nl5db2uIJQaufUkW4HqyxBObATKafnT16d3lxz/rjiKeQpfdi436pKcz10d4vOtd/gfRlSA/EsJFCRKtpLUQK72BsVYKrIGomgBoogBw6QfnF/PEfJif/pu5LiylrQbDg2Glc6sAmLw723+wdvI3uDSBpBnSTwqDVXklfJwbaZHx122P7viMNbcK7QtN42wfVjdD31s5Xieeq1I2rUKqBg+RAAXbAFJNH40cfzM8+jPSR0TF4rqpiuh5pKQnMwej6W8Prv0D0EnQAsjDn2el/ffjR/9HHY3ZlSbt7t/5jcvt/Az9fxcVDO0rA/x/YcAq+pcUBAN7UEio5Fg/nT/5lcfaOZJ90eErsSlXwSGgU9V7aOXgbu28jvgF0xFuwYYDg6sV/M+5G286CtBeoSyG4jXDiD5k1W5p8V7Gmrs+F8LoqSgBmZtVqae4pOgYDHgwOerdw8fL46N3Z+B7JaSfKxM8izIBy9kSW56c7h6d8802YYV2iSbYelqZkLCAOXLdbUC1eX8ItQGM9f398/C/54iPyj43OLJQ4KcqBYifuHxzsv2r23kZyB3rgXKSGiWDgqkxfPW9SW/Mm6SuFD+UyX17Nmvp1tvbXfAC2/62XqJ1kM7C8Qai6ycOrAUIMqBrijqIDCGGIwe6oc3N0963F/d8tp5+W2WOmBcGzzBLMmPPFcbYcP7l2+EveeRXch3Hp3mEU7yA/YuMY08X8y2TxBP1roG5YvgKCx/n9LPQKD5QEB/fETd4ZH/+pmHxs/HlqytJloLjErkle6e+92bn+JqJ9mFHdgqYEYvUACTFfvSxemdrUK2eYyI/FBroqDbY+GdIoC65jlaqeICCqZlxr/SZna2HgHLpEeeLOP56dflDO76k7NiiNsvgI1IsGN9OdF6P9v0f6Aux1D+u1NFBDMSBNnJZVCSCCg79A+WD+6Dfl/KNicZ90xgwi4xyXMhrsvZ0M7ia7LyA9BPWARDkG4taxVIVjVQchQVY1tM04rVXycrsXc1NqoP0n/d5CEHp1UpO/Hv1vWUKtOoF12Z0HqSo1naCVsvEStMTi0eL4/enZh2X2peW5pcKVubGJaIfi/XRwt7f/hhndAuv8s9+Mn/z3iE+FAPPc7s3/Nb75T9AD0YhDG2dAIM5njhJYQi4wO55ffDgf/6FYfmJ0EjN8IWyHMAfJ8OXBrX9C+gLMEJQKbJNY4XVSU4QMttoECbhq7FdbUeEywfzwlwFtRybrOaAtD2prmeb1i6pQFigRt/RrQPBEUk+e8cf+7J3p6Uf59BHcOEJGLJ7I8w53X+sf/Lyz/3NEB43iRCQi1cJahwTUQ8cY/3l29s7s7A/sH7MuiCiXnuqoO7rT33k12nkdaSX301lJCHnxxDFQZdW0GVmKeoSWtvtEV9eRrzac9CpD6mt6hN+J4bhdhfRVWdVtuXZcHjPT7qDlttSzr7x+gmd4yAJ6Dn/kTt45PfrA5cdG5hHmIBGKnBma5M5o/5VkdAvz46PP/2/WE+9zTzu9/V+PXvgfEb0KGYWi2oBAnM92hVclzOEfYfLh5PS9+cU9KZ9EnDN5L5GJr5v0+c7wrXTvDfRuQVNQJM1oL1FQNYZzvVqs++s360W3y4MIq3GeG2o1z8bDeFbEWf3iWiO2LejyEiuyUmi6tACLgKhaaQVa5SkL4BzLh+X0/vj43eX4/YjHEZdKttQ+xbf6e2/2b/wCyUvQgWpaD97SipsX8I9l/Ofx0W/Gp+937Yw188pqdjh9sbvzRm/0M+rdQrQriEgscQRl8UqkrYRm6+JW5blMLYF+fJUB1LIblJ92xVu1Oc+gOOhS+a5ezYi4bA7+pRF1TU5XBPXM9koEuKo29gBsJYqLJcojLB4up/cnpx/o4tOEZ85nSka5R6afJNdGuzsXxx+JG4vLnEbUuzm49o/dG/8L6Haj+RwQ8G3wI85xXjEOk7YX6Mu97bKxzK0f8qb2UguiJfQcJ78fH/9pMvnY0CyJVDw79Di5ke681r/29+i9DNoFUr+u0lQCVTovddP8ep3hpy1zekVwjK9esHSdC6Svs/jS07+MrhwY8izBTVcG1UmySwe2Ep5TwUp6TRWkbV+CoQZEoATooDuMOvtdSgpSLR648sT4eWLGZZZNnsyWs+Pd/V/a/Tcouq7aIzIgB0yw+GJ+/K/Tsz+h+KwXT1RK2JTogKPnevtvdw9/jvgO0PfgRsYHANhUo620iiOobqokctWjKY3AKn8N+0ee8g6+MvL5lapyulGb882DFspfZf18Y4Npg/hr24VWDjcTACOVPQMQYkR7GMWd/iBO7PxJKfmXFiAqy/LMUuZns+MpdRJTilowG18UR2dH73b3foG0Dwx1uwvoK82Xb7PyPGPjky5dh69/Tb7vpz54nH8DrFnVx7dnygNi0KpfoCrnRIBtC5Cuo6m6DhkpbJ02w5mM3z17+Bs/vkdyCsrZUqlc+H5n8LPdg7+LDn4Osw+qGu2NCjFtDOL4erOR5Zs9eGttaxbAbA5hbg2YVACkBDBoNZKM15HAioWajlKzVs959o/T1+xHlJWE7Gqfm7V2IzUoANQx58DMLR9MTt4rT/8V2RcRXaiUnrpOOmz3d278fXrzPyF6DtoFzZC/e/zZfyvO76UYi5vY2GTeIrqejN7ePfwlDd4ADwCrMJc15q42YTbdMvpWJ0SvvHk2dHSvJtetzTEACF3V5fL9m7zK6yC22vUBqwc5IAMWwAJYAlLVOcuTd8+PPvTFOGFlVRFRVSWrqpbhVDyb0l6Ld3518Mr/DNz26FdF1I3UBFSqsgOuxPzq6a2XSF1rjXmD1rBVrO+6KshhrmxvfeoQePrmZ2kz4FQdg2kiNqjXAVQzZbnV5qvtR57W96Jfq60ELd+fqsdJT7XIVlkWbhZbbFW21qy58WIJZCiP89N3Jsf/r5vds+48SVDCLEur8eHw4I2dg3+g4avAHrQjQpXgKq869Kj17H8XR6tYqdu0mv/aXoUKqPKFNt2FZglVWU9m3ox96vdgQfPXMq51zZ31OdgoK10rlxIAshADMrbT2buzr7398aM/LC/eszyFuojnJNn4UbHIde/2L9G9junD44f/NZu+n2CiPjM2yX1Ho+t7t/4hPfwV7G34gUoMhsLz17wF6VsH1/kr7/WrZlI/1Zfl7c3+7SyUl57QjapdgjrNT0+O/gx54pfncKRuDhl34mWcdIQyyReqjsmDoFAwKxkIWRLvZm72aXnyb9FB17Q7hVSIq4BBk7KlLUOcaq397TO5CvXoerfpuz6fl6vQq2kwW4uMVBpJsrmz1a+GNltpWwoagTN/ssS5XbXPmy/6+k1mcz4uowmlruOgykwgLFE8Xp79ZvrkjzL9JOVFFNnCUab9ZPDizs1fR9feBnYFKSECGd6Mm1zlWzRKb1eGvL5x3KwJ+bWiM7RqnK9GS5KpnBVtRaqpHVZi3wwZ5Q3zuVYN/xtaW1ci+4ZQHR0pDDWp4lojYkOIXaW0ldQaDBABO7Tzy53oZqd3a3r6Tpl/EfOCypzliCd/XPpHncGN8/PH5fKekXNi5zkpsBd1Xrxx+z+g/wrsDaDjjTAc1Y2B3/kh4ykTsTYc0LXJw+swx7rWTLaJgf52JRsVoDrqUcERAV4AR26Znd5j/VDLo0QIoszwZel5SVpWd7sHKYlnEVXPJNVkPi1k9vnscW+3cwe9PnTY3PxV2InpinPqAGUYgLR50FaeKFUDP+sZggRl2rBTvsYjQ9/69DjA6lpKbD0VwKwnjypBDNqegDTv4mo8XV2zDBhmpSsjFgE/GY9zI0/ZZEXQHnu0uq31aZwmqNJWqiB1i9OLow/LxefDKGPRZUGme+1g77Vk/y0M3gYOFYki8iq2ZSArGlP16rDbX+kp+svde3SFQlqbNbW1jD5lxf7bji2sDWdp+SsbJ9wwQRVaBeeNoMPUR7+XdPrJ6PDs0W+WFx93zCyJyjJ7MM+eFNNPi3yRJrlDWUgcdW/2e68ND36Bwc9A+0DXA4BTCCnV8a3vuJB1+459mker/PRYMK9Dc8+y6fPbcye3nxZT/SCLJO1EcMWE9NyqMhiInfciBbMSs2j17BKRI5J6zBjIUMnkZfnl8vi9DvWRGuhAYLQajybeMq1PNVU2dgEoEAGGqKV3WD3dUGomltW9xYrtoTvf0X1P7TBt5UnyZWP68pPC5KV2oxubqf6ThATnT50415JsK5erDuitwzF0ibGUnKyTPUIQQgyv8CV5iqIIUeSccZ7j/p1keDfqvwp7CxIBjtgakCFbW/bVDjA1pbC22bFN1qSry/S/aYHFaoTxmrXrQkQmsCEBahHPVripboypPmtgqrDnJtHTZXHUvwWu5PrJ963HntfnE0JrxSUHgKrzTyUIWBU2ewu+jt3+rh2p3fHTP/ryGJCIIdlJL6bCFx5plNzp7fxd7/qvED+nGAilWq/jTGo3L+93xZp0ec52k9huJylXd0LbU1tFDNZlX3UoonrtbzQyR9v6xNw4SQlMvzu6fnHSYU48AOFSwIaJIFqqeiJSkHoXWWXxDGjlWxPBePEX09N3O50Bki6ImbseluGIfd3CKwpSiIIrBV1RtYQIZEExtMpfch3UUdK1eY5nIku0JWIMqJhWesLXT7S9Yhg7Kh+0fl48GIDhVdZD2gmOgJ+gx7k2wJrsfa0EpuAN64zWjtfqcwwhlICDL+ByLebG0u7ec2OdlLMoGQ7j4Qu2+5xG+760UkyEc2M7Ju6SiUGG2NbCpwDBK3yzrn11GORbu3jt6gC0LMqGLGW73k83anHX80CUTbPQ0FODyd/7qiq6DkMytf1Okq1clAJOvCFDbOrTRAwSGAuyANPg7j67ydE8H7MpF1LOLZcqIoBypzd4sXf97xHfgQxhEg9WKNpa4c/sDD3NgmkdtV8fvFBzV69qbhvKr/jSfcvUwDOyfNEqqqulKA0BYkG9dPBivHwVftcKs4KZvC/VF6o5kIuUXpZMmbg5JDf0/7H3btF2XNeV2Fxr7ao659w3Lt4AQRIgCT5FmhL1tCTLdkey3em2R9tuf6QzRo+RjOQ7+cp/PvKT/HfylTHaHu50x3bcrZbbli1Z1pM0SVN8P0AQAPHGfd/zqKq91srHrjrnXOCCFCHShknUh8aFAN5Tp2rvvdaaa645jVkiAHdCJN/y8vzWtVdmMU97M8AI4lDyuu4P4WYW3d2ggIFqkEnowIWQMRUiBYUCnIE5ZSWULPCmkAH5iJ/NdIulReAJsJb0d33+3VD8nKc4DTL+xz7d03W+EzU/uYGTJpw25iZRBSbdTRDitC9j09qnFDINVppuQQf1aIuhFiuhivP9oWcuh7tz8+gsK/XMKaAkr2k0UNrwUYZMOOtIPgeZAYp0F1OdR74JBPfhfFmeCocEk+lSqD1zG7DSbxBv27HxmbyNnXSb4rUE6IQRPd2v3iGF6ggGA7PCGcRjScOUS1EFjKwqjedn9306hKX+tVc9XpLgZTXSrGsyz8V+hCVYBs7gzqQEAQkBps7k+Kh1aHZIGV/3EFJ+FhuorRWjauyix3qBgKZ6dAr2JOKm7qTblhESCS4QB1viihMgIJ/lxYeWu/PENdADM+ohLCLWGvvl8Ep/62I9vOJxtVNsW7WiNhBid4dbTm5e1r6+tX6q8j17inmaqWol18piHSzlGgpomiAVMyMzLRWUak2WPEgnCz2SApKD8nR0eAvT/n0hLm3MGzu5NnMBJtPKwA16bwCcOB0I41buDZAy/wOx6O8Eztum4JxmlPn1gpoNoGcAw1LJMhkM1KHV21W17nGLUTsrUQJfZ3vz9zoqMNXIwRkpmUVxCQJAzWuttY6BykHI50K2QFkHztPS3rvVEB9K7DS+rsNBaQuYT7V7abdcmKd/bPj0fFtvnRaY5Skvtvc8+1NpmKhfCihIoVVdbptuVdUQ7BJANp/N3rsA2l7lQf88hTxSrzNzMMsXMaiQ1cgjMQWwO5yYQBSoLQD4oz0pnadLjelLmo0c4QpYaha0/9WYGgYG6/VNCr7tz0ifChWTJxwNLDNc3AMAXsCBok7PRqzs7en3MEB5Ff1Lw7Wzg83z9WgNKGuvxEZBSqASEZg6StO+lWsxQuDQmkw8ZRvUBEN2Y4eRMRPIzAkWKx3UVd8heTEnWU+yGVCWcCz5e3mgdN3Taf7IU31Kmzh7t3i+T9nK0m6VsYO1Dcx3Yud7Pf+Pq3KQ+87pSXfyCCKnYACjTqvEQakjQJ7BDagQ+zraUO3DhizRbaxiw3B2Sn0ygyc7MCZPU/ZOiE6RiMzJkDuEpJNlC5LvAXdAPg6fOzqNO6TmJqMgH3zVNhtjSrqsBhmIDcFBnAizpK1kQNtzNYNwKklIoDBKwVyVJLtNz1WfRCtvAT0iuCta/fd2YbODiEA+xjPrarQCKutq3b3M1cjhCAoQUaBK6lWKlzc331zfuNrp7V3ce59kx4wWDXNGnW5vHlxAOuA8OXdq09Wi1qLZJxL0H+pX9p3Cgz6lip45YArUIAKJQ8xJmhKkTS2oNTVzTfcXYxTJiOjvhcxyS2+ZItDOcTbv8yayRDDTmjllfjUQAYNGiCL2UW2Mts5vbp0bbZ7NRpeCD2vYzOKx7tLjUhxS7hhY3MiZnQEot1HHOWEzmrZ183lp9oMdAVwAeZbPhWIeXAACk2llheYgamGt3Z7zrQlQTAGwmHjtWeogOMzNuRGtJDin08/FQeYqTDRtqJfUnuk6MP/O9QmsOInMjIndYAInEsoMKA3MYGSYLBFOM7/wEjrQ0VpZrsHLTNhUpxe6U+L4ZWzG3h7g1JS3bSB0gjOiAa6jSMLUoeDI8ubwI2GCt2OVH97Fuxwn6YPGg92UYiIZxMabRFqNXAGA0jkn5FCWVEQ3MOTttYtoIhhEDgeME0NKJkfumHPogLdW1HHguhXLdUPfvMzZHUpEBBMEg7jnxvMkPrtIyPZJviD5fnCPXMhHZFoOag7dLJ9Hbml6HgjTWC19NCHIb9DlG3t3NfQoJriAYM6RyBmVQ8BCTePTJuPtEuAMCiH3qVd8O2Lx2EXaniYmaxPVJDUXyQzuCkLGXICy5u+DIQw73aOdAw+ivlRfeW39ypk8xNDbxzKX5BUZRt6AT5YiEBucGUjxZ1pVwwGGAmowUzXUXingoVgAF6BWJ/KG9fDRLA3b8axa8SomrtJAT1o9SRuZiQBJAtnjLNsMFNynB9XuXBflySYAACAASURBVJ/IitObgX8NJE7YNKxtQyPMwR2kuotS8xPIgILRlT7pRjm8nAcVqEcNkhORWnmdBreBGcYGhimxtxy2JlRZTURMZC5RM5dMQs5S5N1lcNHOEU6E93iH+B9uJfecon5wo5eUtlD0hjXHaHh4apALm5WFvD8EC6KDAtThDgE0ggOWZrAvIG9bStdhO7dRNdLuehNsRaxue21EAcLNEIMD4hBCISBGsH4WL6Naz1mJEN2I3V2ZAVIywHOCEAxeClcaS5eMqGPWIQru6m7uDs5YOlmxQFkH0puyqZoS9/nw687JfC2NmW6EmIKmRYKbm0uxXmOgKCMGI2QEYVQGB1zAABlmBMuzyIDQEKmhhoxvu/c7FSvjzn1h7Wh0mJK/MW9FAFKHTxN44hBJqji1oQ4YWP9cuXkx6nqedTjfC+QKYjdKXWFnJyhHJwOYPIhKy5y1yYtuIyjAmqaIuZvlcyGbg3TB2U4Q9GeQv/9gu36CwPuUZZAmEJuQAVBogBmydgwvtowPa5NOdjCVsAju+s7uzJ0A+kmsOJvmOYtqXUv2l89f/tvXz25vjULWsdAzJ3Fj8iJkBO0GWsgGdy8Mv/zUMc7MqUxeVWYWo3LeZnCtFIenJLTdpUaTkRIHwMIN0wjEavBoJXuJIefdJXCGRtkr3FAv/rydTm6okuMdxe04SsMHcMiVvv3b//K3lzcxrJU4lBZBoiRCQdwIaj46eXjhd37x4buXCrrRTvE2ukwd5GyCqyX+/Ecvv3xmbWPoRXcmUIC5u0vwnCmnLCdd7FWP3Tf32F1SSMmAmwllDnGnNL1gZGTazsTlZkTSAUllTgCTwSOLEcystrqurBabCUEhAslSO+Ajqzgb0ocn2/OG0RPhHBqCT4QEQlEBL7y5+r3nXrs6sJGyMLu7uxOLp15XHPWoevK+I7/xtYcXk94Mg2/LV2yN6O6Y9z1mvzVMONoRZtUo2wTWByjLBjoXaQKJmoQgTh3RYuvChQNzB+d7c8Ru6LhJu39bYaIEWhJSxdkMm1xn/+etPCdTAIxcbTgaaohVp5hDMQcU3pCzPppHSw7AQdYAZs3NNYNW5i50fg0VAUCtQEiaS2Bu6fWOXo4Fxp5ukViDSRrJNfV17gTHTyJUa+QKIiLaiPh//vrFH7yxMlJRFEpCECYXkBlM64x0f1j/leP+1C+cKALDagFnEhwQYUOd1qRNGytSq8+9owIwAOyt/BA7kYpHA8ysLjeEWDoz4IIoc1eQ0K5y6h+8ybnzBJmMoExMqtxAXBGuVfxnz195fcUiZRGUKmYmQVTSMheQ22tn1u87uP/gU0c6AOCi7jSRL79N3m+ymnLiEji1hj/47isvnq+3rJNl69QKFZuQmbHSDPoHsrV/9Y2HTx4+2GVjcoU5s5oHECxYolWzk0cC3BVMSt7M/VJ0IvOSieFgJiY3K+OgtDDK84hiHqGDKc0Yog89a5+Cn5uRu9SxVhClIJJm9c+tDr71zBtnh7MDnnUnhmVE7l6rElHG1tGtN89vPvm5h2fn0QG8jhR4oo1w21y845iaEAOs/SE1R8ZC1JHw3Rf7f/S9599896pJFx46nY4wzIyI8sBMtpj3DxfX/vU/++xMyES3HXIjs9TaXiYnbJam6YSAcyN5kbaEmZORO5O7lzFaFAsBECIqdoqGfbhbiABWcDOJ4uOCwUEUmQbA//Z/f+vtNWyMdGQoY93rduvhQEQ45OpGkBMHi9/96olvPHms45Y12YNRAnXvVJ2fxMDpDDMIE7MxXnt3fd3msu6cqhIiQREdwiBiycxJRSRDCAEwJoiTRY0KZAQ2IyTKQDshZdb2NacrxfH8VFN5uEGcCGTkTuR1NVwLHrPeEogJbE3j8cPGtm6UZU/EgeaBgEMm6UsBWQhpP0f3rJipzKNlb1y5+sMX3/rCI0f2dSFElNgjt12XM42toQbWS5y9NhrwXprZY3HAWgqUmS1wdJgZkBXd2aLbYSbVyk2JAycdYU2vjIiEyCl5VxEREVuilzk1FYYDUDcGE0Ck5OY60IrhJjPLRPlHDaP4uKPZ1keNMBU53M0BRp6HTifnoWbC6hAKYmrueV5EygeGSum1C1efe2Xj8JMLnQwUGBbB+e25lacchMb0oN0vBZ5+7fIPXlu5NjQqzMp+kdeqCgWJCBFb3fWV++dXrm5VR+ezsYIB+0SVsJ13BLfGbyknbrmqzOPmYDoDiNzcSQMLCdTqWG+pezE7O6088VEkFT4tQttsc0srNsG2l7fiG5eGmyqe9yqlbGSsLECJ6JwZ5Mr22nL3ja8+eSxvcAtttOvvWE1+QgMnARyapp9hMKozka6N7j48f3jeezRCPSLyzX4dTQf1aJ5HR/f1XDc6WTvuTDmJm7s2vApLuytFTE6nqU8DOGFH9UkGGCladR4CxzpaVUJCzkU2VuqyabntnWrLHzxqWqs0y5O6hFjJEoQcgD0Bv/zQ3rsXN2bmZwxOzupGyJRE896PXz19eVS4dfqWxQ4qRmHGzDeo4P/DVyPkDogQJCHlKsGQW/3Y8aXFbNiJozjqj7yqyEZlGYdbdy8VS506YNTJg1umajFGMkqKQkIEd/ZgUGUmhxigRsyS2tIU0NplmDvcnCXxVmsbaOVFPsOZMCXHDP+wAToei8/xRB+RgJAcLYIzATlDgX1z/IUH9jwyAuXd6CFjYa2Ms1rmzqyNXrnQ7w84ltgqy5AjAgFwIbpd9/H0IU7jzoHvIlo/cpw+tzqq8jzPiS3vaDVc7ZAIZ9GgqlAvMl2am53JC7YBu5HHnV0STrt7GrwBotGYnBV3AshIOVYD1JODzBxaDWk0kDwT/lnYqbeUPTsTIOMeZ0M/ZtUoIRfAHIf3L7926eyg7lsczXBHy7KLGkCez1QsdZgZDLZOn1sdKuYF5oGpoSw6nOhOvflJhGp3bC2RQkfuPvzsQ4/+zi8fOjqPHGDg3cuD7UF/o785V+iBrN+V0quhAESkUQ2gIOQTJKRd5taOAUxIfUbgKfQ2xUSDA0pgIjc3YhDqutrOJafARNm4gejTipH08xwzmGr/WFP+NrxKZ2C5R//D734uEtzB0sJehM2IU9fwxjtnLm7XMBRFkQa5idluT+kgiJuRcKMb5mSK3Mvf/uVffOoEjs5hY00vrV6rvFaPdTmaET60KDltlqM6BdzgwtTIA3gz7KGaol4iH4MYbm4RyhQY4m7O4nBnJ3IzcjdyMNVabTEzQrdxpJrS3Hhf2PlnOTppigImUwXouPhOKycDnnpo/yMPfIMdIqgMTEkMHJf7+Pbz26/+hx+YGTPPzc2kQRp1MMlt+IKpbYvsFI3bvevuTmpY2+o7JAQ6cXTpl544UdiQwe42HPUtKhHltrUvW13IYvDYyocZAeYOJiKHM10P3jSR1QjcUuHJG4zJ3YmcnOFu5NT8EhuNNjsShHtAcHe6pSd808NgilVs0zAyQSRPcESX6AufOn73PXd5URgLIQ+MDsXhKA5l5nvPn3runTXn3D1GgzZ3x9GiCHAnan5yA+eUYqQpixTqg27Xj81jPyc6GWaXhqOZLd7vpDEzzuphmnpW1CSBEOAmzhyyUYwUBObe9FqchC06NAshVDQyKDgTF1gTUJ3ZWJ1AHuEMRRZC9Fq1D+0gFECYDko7REQBdyZqtiXAqs18SGJzEKBas2RNmjul/Hbd2AJNpEiJgIywFCbTWqmecqCTY3sPSGNyX+pQnA1j3UqyHS3d2+T92uQsEkRyhMK0OtTz++eoAGZnNvfldVn2WZzJ3UwwIq2FcyWGszgo8UCYyKEevXBVzSmnSOY1k8OMg5CbkzFYXcnE2I0MMEbOSG8lxmqVssTNKIhC45qx06+mjQYNP9YMktxePU3EtK7XZkSTeQb35MpBRE2F4ZOMTcOYvdn2y2eAbjuEn7TLOUcEijksz3BZlo4skOWkWVM88e0aNbFDosFxE8WGZp2rA4zoNWrdP7v3tz+/dLCzxIRBfzjYGNbVCJSRFz1Z2pNvZ+ZAMCF3EgOgHsycOGZwgjsLIDSqYwghJUpmJQmRudcUQmGMWitmiCMYnDiKGSDmhBhoy0oDL0HmCN00wek78lpMnEcBhxJJymkS6GrNzlZCY7pSq4XAzcJKCP207xMlfqKnkeLM8U+fOlimP1MzRGCKmnG5xKlTeL4cBEInQ8ETGCNI7sBtOtd7J3D+/ew8Bwzmzmnqxl3hMVMUbHCCbof6Wk83mBRqjKzlmpERwCZm5FD1ICiYoXUAUFXQEqMRLKI7B5lBLLPcNU+NpOQwlaoBdtIWaGMwp3kGeB3rYRa64G6i3Pn1dUeixbJaAyFCSwFQDVHXYgo48kJYoJGyblOM8A2wz242jdS+ck9ZepM/Wwb2GlpHMwlMh/Yt5y1Dzz/CVs3PBShg2hHCWQnuMbNB7t2ATa9X82or2Cgjd3dLXotutoPmZE5icCeAWb02M2FIrFGPsHJFBwPKu7J3GbNzcGcSTyguTxd9BgKbabUVOEfGRNLMLtBNy4eUALk7uRMUqqgrlH2MhgQDB+Q5evNwprwAMUxB6QOdPI3rNRTvsbioNfQQa7oU3vbuPBBhBHjVT72DXHjf3vmJkvM/llT4PdeDBGRFTsLwWJDtCTiUA6hjdyvSkLQ2hqoyeSGktTYKlB7ZhYTVasSY1woSkCHWEJlJvW23JgmyGlHBHVSjiiXvdmKsdmpVpiURk/Q8dAaiN9z7LhhDKkkpvUodps4rLCIwKMBzZ+LABojZ9Du7PsNoU7SMEMTnxnogagRGsBI8CuhSJW6ALcz0Ok327AROY7B3ouYnN3C2fQrfuQjImjLO6nJgWru7w53YiADOjAFzgrEBJsZFp1MOtomr3CM2N3HlCla2ce0qMkFRYGEP9u2Vuw7aiCnvKmloWgSTkbuggS2YuHkqJbWuK5GKCwXJGHfinXvA4Zy06GME1di6iq0NvPZTbFyDBBy+G8cfxvw+SGjTRf7AzRKaOGwrUFWIMcJyznjv3r3tNrxteQITNc5kg8jJ6MFjHUv2sq5LWGxUrM0DADIjc2qIUUqBwGCLpsJE5GIUOIgBG5t45+344gv1tQ1aXu586Yu4Z8YzZgqklvIIp8S+NOX0Wsnq0miYUzcJ6F6fcOw8jJhRVTHPA8hQl9hcw7m38NyPcOEMtMTSXtx1HMcfxv2PwTg6hZAguJb8mhLCnRXY7iNN7imJVEVVVe5uZpLT3r2TtsLHYPI9aUkGJoLFhJWnprCWWg9da0DJWUjhXqkGYdU6WVc6Ae4C5GbYuIaNDZghEDo5kNAWAgnMmhnwXhedXmd2flRWSV8isjmBHDI1t6aqdV1mUoMN9D4+5N5o/AGxRrmJOEKMiIqig6xAdyl6oEQhZn4PEHen3sLUz8kj2B2EGFFVlaqKYHZ29o5t9Z3AeeOaFCIwE6tPWfg6UMe6D6sJRiSAK6UxTJDzWNdRib2si6JAOcLF83jzjWvP/O3666dpewiySjB75Oj+Jx4vHv9UdvJBk7ziFJbbObCm8ORGUsid2IXEXaNWuZYQAYMmhNzp486ZCFrBRlh9d/VP/vD0d/+86K/RqF878j37Z+5/9O7/+l/isSfRmUXWuYWs4rqzta4bVgsTdfJ8Clyk25Zmlw4CmjR3IyjGSslHbpHIUknP6eU6nIzS8BvYyZxgxM7uDFMDqMOM/gBnzqx+85uDV17GVj/uP3Dg0KHuwYMkM5XHDIEc5K3TTgutM0vUiDhSKwVdgvFNEvcGr3PKMyEY6hJnX9/8zp9d+Ju/1HNvz3uFehSZh73F4oHHT/zm7+GzXwndeYw9CcZe5D5xVp6eeJgYpDcVp49fsupEkrAoEmKfYOKPwZWQbh0vDFW41eTRrXSNTGZUEREHMkvkF2Y3IgIzNGaO6sw5e+mleOE8qVEWZLYDgDQGFyJOu8Mz0V5Hjhzh+x7MZpeIcyVow9wKY8IguxlUYxViRYW2+bHdkPzZpI8SDaNNbFwePvNX/XPv1OtrUHTnFxfuO0mf+1q2Zz8yBmUgM3UWfp99ARA1+jbuzlMEftVmJYiIiExtcxDRHUbtJzxwJnewKW13H8dOh1duJZnSxMUujgk1bOyMROZR8lwVb52+/OffGv74xzOD/qLAFIxM3fT0OxdWrtVvvPnAf/ff88FDVHSdCGBrlS2NSKmpIAEIyMjN1CzCa5C2N3j9NmBioAYPcP6tC//7/1q+/Pw+H3lVZVmXHLh0euvyO8+88uxT/9P/gs/9GkLxwSsGm4zuERFQafLiJWY2iwlxptu120G4EWc0JiOPdVUyRkTKTi1/YyzYypwA89QaTX/JAXCzWkRQ1Xj3jL7w3PCl5xc3tzL3i+uXq62VLhR5ZubqLY/aG6alNA7AZGBo1HrEMiIRaqZHfMrAbvoLKLkhOq6dX/uDf3P1B/+lu7VZBNmMmnWLzJ2Ga/rT77+9ev7etSv09d9Cd0lFOAEojfsN+U5bE7qhVXEj2yydoQyCJuUs+lgM7Vmjemkp82vcQogtDjehIyFjcgZ5IzrrDmQkTh5jJYEzJmzVq8+9uP6f/+PslUuFM7kiIxK4m6uxOQVRaEVUhg6dODH39W/s/fJX4TDiKSsvTr0AIiJzs9q0Eo2pFU7vkclajeEKXnn63d//v+q3XykGG17W3dAZaVzvLMw+/t29/+x38fkvIYNxIAnvhyXR9A9j9eb2jzv+yj4AIn7n+vhDtT49R+Xu5JCGfqhUDwgVQ8mTCou1Ha8W9rGkFs2hCNjq9y9fHaysU2STvJ7N9xw83M1ntq+tDK9etI11cgy+/Re9X/+nxV3HajVvCxHyVk6oLYncyZE465VZZBqXD1M1XSM4AkTF2uWNb/8ne/Wny+X29mzv0BOfoaVD2FjX0y/mVy/2tq9s/MU3Fx58Cgfmb+kRKUHgADEBqk2K2vzvP54jc6wYzDCmWmOpXOZkAjgs8YoTuykRghq/rUZTIIkDWMaSc8DKZbz4dytP/3B2a3vWFaI5hcxraIW6cmblySmpDPL0O9nhQh49aqy4roMoYexreF1Pq7WAM0W5Hb//ndHLT8/1V7LeQnHwroOf/hwOHcHZ05eef0YvnI6XTp//9n88eu8JPPp5kW4zu3pdu3QXx5uxPSTvWFnu3sCYHBWU4SP3dfn7zaWaES+zaOZJTsiG4hUoCRTEpkxnMlOA0IpGwQCSLHSk6Ei3I+pew1w9moiI2gLctweUoSTaiiJSdDszCOKTrcI0drAhEwixw+uolXiEZy1ae+NiADzChjj3+qn/8//Izr7ai+ZqseiWqrOmncHa6IWnbXkf3/8ADt/DxKXFnHO6Sa15MwTB3SkBy3GCPYgI3Qg/3Qmen9jAmUg6SRHGvdHyFuJUSMVqIF4l4jiIU3/CCZGYHOKWvIQ89QCzbObuY9kjj8XZxfl9+7onjmFpDuC5rfW5H/7g4jNPdwZb155//th/9Ws2LCkrnABEkCe5aGrjOBGZe3NTqhpLthqt9h7dGBCi492LG88+193u193O4d/71/jFX8H8Yaxfkz/9t+Wf/XE27K++/tpC4Fs3AWwjduqBtXW5S9KEdxBovN9ut8xo/NTU4UYgc68zckbNZCBz10YCnhAZ5Cw2NcaRYHmSCHPiHMDGOl56cfS3T4ez7xQs6q6Vo6O5BDjBvMi4RlSCGBuxEggcNOkvmpMxqVnlWsK6YJk8txuIoKoe1HD14qWffJ/Wr3re7T7+1blf+x088iSyHHF08LPPbf77f7P6yvN0+tX6P/9RdvwRymaBME0Xn4wR34CmT2NujXRzC9WOgbsGfvlwhTj+QReEwc0scb3cYbGE1UxmpmoaiI0QW3yJPLKZBFH32ikrusu/8OnFpTlduVBXgwAwmCKCE9Y38fZb5euvBdeBCR8+vvDgk3zP/ZUFSGjoZt56RcAYBoeQRFe3ClYjvGczxRQbKyt/9S0/82qP4Pc8uvipz2Zf+CI67H/0h5ee+QFtrq68/ty+K5dw4G4IbhY1sbOvOa1DnpCkZjE0orXMzGOoto2sd6LmJx2qbVfDeJqT0a4SjzoS1IniATBB2NXQyFTCuJHQI5i5wuXQof2feYoeeCSbn8OBPSgyxBLbm3jnbSGm/jCMapQVhwIOo6awTZrRqZAlt9RMIgcxatOoVbCauNhpTDt964a19Xj1SqDauj089CiOHEdYQmcWd983irpkPhiWGJU/R24xeT5m5u4iAsTpY/f2boFx+goGSgzZIC5swgaLMCOZMihs/z0ZO1mS83Z3Se7PoxJnzm08+2w8fWo2Fy5mmGaxeY2doQ2HKsYKgRuZUBqbhDeVBDUGqOqNNabvcra3kEYQQqn4yd8MTr1cjIYL996/+LVfx1O/hO4sJIMZHsvnNy5eevOVucH2peefuWtjHcUiOl1QGjEl0Fjr3HYI5vnudjZmSNMO6S2LfBgW6rfTpYmi5STCnSwnQtTKYilslIjIkiJr2ookLDDA2UxFMjXIkaOyPCuj+/K6DwCUQ4FBjTOn8e7ZviPLOvX8/PJnPsOfegz7D3gWUgnfWnTZRP/dnQggNavNIk9S2113ekQsV954ZTFWdW2HHv8cfv13cOQoUNEvr42ee3qe69HGFQy2AEd0yt7v0EsTTjuCKIAdUK26q6p/XH0l7wTOW4Zq06rZWAcJew2ro5ATwd2EDGSTk82dHCExSBo5PW7YkqYkJJ2Z/PgJREOskAtWV7C1hUsX8O6lHAFZl3u9RkcZRG5iABpI0FoaZxJ2a+JTqm/d3jMiGERKoAwKlNhcxcY6OgWuXcXlC53E/s0COKFAfGuPKI2XKUDCiXKZS5DxaJdPH/i30/ttTL3IgZU1BQePLkyZQDiSK7UdQCIis/FCN08StCERuNSsI0LDPtbW/cc/ia+/qWWFhcXsxIm4uu6bGxTJnRAEbpJlZs2ySTJSaW6usblyZ4rmbFo35hW7wV6tYaqh3r76k+/Ol5vrLoeOP4zHHkcvByuYwAHdOZx4OBy8p37r5XJtBaffxqF74bH1wUuCGe9F5Zj+8LHQbSo3RcTb+c2PRbkJgCpFVAegqswcQtrHbh7TvoxmTmBmApMZubFnbghECnchg4WZGXQD5Xu8LgldlBV4Ff3VqxdPZz3ezrOZR07Kl57AvYedTeDmE0lOH5vAt+6wRAx2jRVfJ1u7C7wUy9VNioTQwf7DWN6LokAZkc9K6Dih1goh0Svy992QNya7KWJaOyLargQxs52OeHfC6Cc7cDLIHApsD1BWNZCHjIWomU10nYwATo0ktxJfDUnOyYJkZKgU4iYW0d/Cm+ewtmoXLq+/8rKeehOj0nqzy/efRK9nICOjdqh80nvzsdRI00wFmbu3JsO7WGkanANjcW9Y3l+vvCbl5tVv/cm+foViL94+NfrRd6UelUWx74EHUXRh8oHiJo35JdfVQ76bqefteUwmqQpVE7lydSWaARC4W5VYVw0ea27kRJRkPZ0MBJgABDJ2ZAza3uBqhNdeuvrM01i9VhdF8cD9ePLJ7b/+m05e5BzIgbrGDNXqQkiFJTtPPDFbgoW7gtRdfeI1t2vRaYgVKPbPvtHpb6E7nz/4BJb2I+TJM0vhQQKKubC4H/xy8NrXV6msEJJPNbwRchyz3W6qOpXAg487/JZIYCjV1CljgcY8wCqDT9mqEBzszURvUyZSW6CnRDlScuVSyXtWc5F3cfaday+9EAfbamaHDy987Zdw4l6f7SmojqVwxju86DERvKSkbqHu2sQsZ5DdbENmM7MKCqp49y1ceQc4hO0NPPvjUI5KQBaWEAJIQD8Xn8ub0twnzNvpo48+CsHIO4HzH1cKSgAwqGJpMbqJeC7OAJmbgVvmkLsLrDl6yJLmFjkLQcEgVyiDRBhXrvafffr8//fH3WvXQqQOrOdxWBTh2JHsK1/BnuXYqLqaEjvY2BgQA3srD0NjA9SWkXTjqUYtjuqCvUcOPPHZlVM/XqyGGz/5zoXnns6QUVXO+rCbFRdnFg594asoZqYdlm5hJxldn2dyi2/e5rso3dtWvx8NROLubjVMEYyQeF8JIuO2LDQjMHOjpeYmWkErnH771L/7w5krl0A2c9+D+MxTOHRgm+FEQ7P5xOEiDyF4bEZb26A1RQRrcx53hcYpxk7j7DE1VaeQiNFGvbE2q5rNHcSxh5HPRASBAgjNxH02MzsfYbBYb2/nGuEF0GjKcNN+dp/44dw0T+Kb7I6PzWWeMt0UFGvSOqHTY7ciJFX0XVSHiFzYXNmMTNzEGUCGACWsrehLr/RffmW21n7euevzX8a99yPvqQvgmQTzkOi8gBklnVtuVajTuJRdx8+6YUMZmDGzMHfPffr6M7Pl1sVv/cGe154uDh/FxubKC38XqjLOzXeP3Y/5ZUh264SGG3LlXclBd66ftUX0Mb4cqNUNzMzQyHBpgiXBk6xkQxVJwN118mPsUNVGEU0tjvr9jbW4vdlznSctrJa63Lu4sPzASRw4CPOkT9f6H01ZIE1Vcrt0752nxEcag1xzgwgWFue//NV7j5/kqtpHvFyNeoO1BRt2YpUzHz9+HA+cBAhRPyDEYrhBQXt8P9d1PW5T7MYAd+akwc/mRByYKDBkB4I5sVYDmXGjv8/k5AhaQyPOndXv/NXstaudOCq6+eLJB3HyIYBmspwEZlHqEqbQSKOajYEwntUZP8ymMUCWNKraZyjvhTVfvsxew53zAkUHJEiWyKnT7g6zNNUQ3Ik9Tb4nhJggzaTmeyRNjfeyfexPseRxoo28HAXYwmxHkgTtFFjd+Gd6or+yT6TbE/BtDBOQqwUXREcV7ZVX+2++kfe3PIS5E/fRZ7+AmXlQILC1IZCNjcyoAR7Ix6suwV6WRFba7b/bkiBGd+bIr/6T2b37OuR7qs34xt/1f/ydzb/70WLc6qLed/DA3s9+HgcOtmvnA79T9x0QErWXvPecAisAGAAAIABJREFUzJ3rE1dxOoNQG2pXI+YgVNtcryAAJPAxuVIBMxJvhV4b7CtJzAAZBzLXGAMjHDy4/OkneTSk8+dWzr7T2drubrleWc2eezlfOIiv/ZJ0s8gGsBiPgzEA4wbfu248gOgmtCAYk8ErbG/i+b9bf/d85qHU3LtzdbezNRrM9NeljsM3X13497/P/2Ie9z8OIsgHSIPoZgUcGSZl8W18JYUyeJ2etzOAPM8zCWOV7kTGUto1Q7Q0q4JLl/XFn1599tnZQb+Kwz2HjyPP8OIr2NyUK9dsNOoEwZXLOHcOCGEhd2oGfgFzYtupXkHJiMzSQXkzI0aDEzwHFSBxj4YSqGBK6Tg3BhRaw7SqqmCQjLOii8AgcRC3YCBBgBss32gqbtIu2U+L0X2sIioRyhHqWs1jITi6f1/O7fziWOw2zd3azkqVQC5TrwYMI88Qa6ytbbz4QrxwNgQe7d179MtfxcIierOphDUmbZZhGto28Uk65TQWNzBwUqrl98EEut3Qm+Usr0aDiNozK+sq9+hEo/5aduUiBpvoLQEZBfmQHhrdQWXvBM5dqiQiVNFqU3XLhA/uX0wNDebgynBtUf7GhIHT5GVq8sMYiGXMJAQRd0PelUNH937tV7G2umdjDa++Wv70xcGFy9X58xs//OG+Jx6jhRkwGyHYlBfuTUblaHfq97jh6tAaLz5z+i++mW1tzPaWesc/lX/uy5jtYX3FfvrMhRefnR0Or7zwt/PHvt87cAxLy7eCH+zW/roxatoORcDb5BUnZpCroYpGJGYIkosIJWXihvo0Hb2MJzWiuDtUB2++dfm552f7m1QOOt1O/9LV+idPh05PNrbp6lpuUVTXX3+l6g9w8uH9X/wKHTiaxNwaiKKlUxBkLFuz8zDaTQiPgJDj4GHkHRsRlX3E4dTtpVFigls16GdEUR3dXhrpJ4gnNfiG8EM/e005vjFrxhw/VldZwt3ZTWCLc10GmIM1xV8ETTKYNHuWIFZqBDKNxs4nkqmamOOdU/7uad3Y4F7Bx+7GY48jD1UaXTO4hElovAme9x6RaQdm6xHbG8OnfzTc2NDaBt2FubvunjlyD9xXXniGy0G1vrb9w+8eOno/vryEztItjFrSTtnk1ON0sxjj1D/6+IMTdwLn+0N5xHDCqCrhbGYhl+WlRleKKThxMsV0d4YlGiR5GMfdlDlmeQ5zNicikoD5Zcwu44hCKxy8Ozfe2P5hd3Nr68IpXDuPw8sU5kBsPPYhSvTLMe/SfXrV71z+O1r+BvQ3h0//FV8+leV5ffhY/j/+zzh2Er1ZbK/ww4/BdOunT/PKpdVXn+195ZexMAdkt/y0Er126mCN46rtdt5M6XHW0bRxoqadjWTe8bTHjqdggzsZrM62tkdXrmRWdTuB1Wxto1pZV8ny2jsMcR1ViFcurm5umtP+x59IvFYna5hfPmaCJAH5qaXj4xneXcp8d6NOJ1/YY1srvr2OC2dwsqTCFMaCRhdwsF2urXZBGjIs74UISAytAsNE+ICn06BWKpVvfL/MTE1aMZUdfSxKDjfUdcMQZq+TV0ogrqaPhPF+HHPumxZ1RGJ7ORuTAWSQONSXnqPL54Uge/YuPPoLWN6L+a4BooEMwcmsTsi/GMaYuTEw1YW8Wezc8X/WJS68dea731peWSm5m336yzNf/+e4/xGsbSzf871zf/7H2co7fvmdyz/4qwOH78XDn/856V7jne7uabT3znUncE4dkoQ6YjSqRCSwhDHRkeAspgxS2bXVR0BzPJlaHVS538dohCBY2BM5t6ITvMP3HKeT9+dvvIy1dYz6OthENeTeLPukxDRKkmw7dm97G9JSI3fDmV2xsd4dbPDWKuZnlh96FCcfxdx+OKPTA/ueR5/cfOunqIbba1cQBx+wF9mWQbQDK5psJ2/6Y7JLxWTjruEOd6SdmOSNvL8pP5ObAJg7bu9mIELbWWy8E0NdI0Y1s7wXMiF3nVY98ukHPyW+3zS8iLN9+w8++lh5abEuh16DHHMiUtdZqdXqCuLAxWVufmHvIRw5irk5EKxdSI08OjiphDfFOpNZmkzw9/hGxIzoc4fvGV69QMM+3noNn1lDd14COwxaoR5i5WK9uqKc+/wy9uxFKBpTuffxbd091WFO0C6uD5y3ium0EpV2ncHADpYmJuJ/OxGOyTIY/yq/3hfvg3VmzJrR/hBC2lrORM0u24E3XCeL1YKr7a+qYsGMfn/zrTd1dYW6RXbgUPHop1B0R1VNRUdVYcg4AyjBDFMLjo1tIj/tAS7vbcBgHrke4afP28VzpC4Hjyz91u/h018Cz+IQ49DdSxcvVk9fG22v1+fP4upF2K2EuukEUqgN5yQT4aNkTHAHuf1EB05CotRlBFQAyDV2u5POAGfB2jCqqlkokgYpgZ1QMwBkGghGVIlWeOPV8vz5YnEeDz8WFvbXRZdAiDUCSx7MwRwkkLHSVGRsw3AKwSRC6uauTgLiLOSQAh7GNzxmBjUzV6P+cHMr4ywUPd63H+xN4WCCfL538Ng6FF6aRdgtlIUNC99ajig5oAZng0eHAaoQcmKSVlqcUmlOcHCL36ZifTze0pwY0cEEdm+YOtRIigfUcAeFxvC5UWHQ5hNo51nYwkfp47w1wdhRrxtiNBFBHHYLMLOaCVNy33J3wFLn0cekITJysBOyAp96fOnYMaxeqzY3vI4BTkQcFZdWhn/zHblabWu18NCjh576Ik48hH2HY8bO5BB2iBkAZcA5EJkZQzQ6BCSSKpAdfNrm1TZCM5Bs8eRj/VMvFytbo7de7lw8iz0HIB2yiKg4d6b+3reLwYZ3Zvbc9xgOHgEFIqbxOS03VIwNH3tsZpCKK+VUgCrMzAgQpKOf27I4xeMPFDWbt+81YKBsSo5prGaEsVnCZKk0MoRpqWsyQUjyg62gzbgpwB80MFR17U5OmaNOXUCmEIGcg0d1gIMg2Z0ww51bmVlquzNG4EiFMFZX8NqrWN0Q41Fvdun4cRw8bJIJZR7BDDAsfffrKM1NyIxwB4mbEHeyYnbKx8YmJrwGEJgYgyGuXu1FrzlbOnESDzyIogPuogZm9s0+9dXNN5/hwaDc3sbW1q2xvaYDohBgMLiiSZF5jGC0vqF34ucns+K05jh3qDqZOzVWmWlviuSliyThGM7MbEpJsu1POIkzsWBj49T3vrfx0kshl4e+/JXsN34z0woO9Ldw9p3V8xeWim6fAmYWuJjxKfq7GE9sUpjUDTAShouzEOegcFO4zA0SUBQIYbS9be+e41hitAEIzFD1/dJ5VJWEIswuIu/ewlKfhjFpKg9V88QzYm7qBR+norsrNvh09dA+vtSDc7irQgIDSSuYk01qko5zh7sxAQjteboL/GiwdMLKFCqQoFAzmMLd4VHImZk5ELlBWzsoGhehYy3i5peI0MwMOgUOHMybEtLgjmGJd87Say9XV96NkvfufxCPP4GZpVoyJx0fl4Qkysggc+PERSJiYmF+v53liqzA577S//5fFFfPrrzxysy3/mjxwD7ML4EJayv9//T/rj//4w77aH750Fd+FVI48QTfu6WDrQGxCe4ewqQKvIUyw8dR0q2l7/JutS/fvOzm6/hT/PMhx2bm1mqaMxHAkgsX7sokBIKbEZx9PH/VDFiTERoYgdgxqlCOTv3lny9tbirz7PHjct8JZJLcGn5G9xBKxjUuTDlRNqZq+W4lJ8jLjQ3SihiyMAMo3KA1FEANr5I8EUGg/sGTiutf3BhbMncbS5y4gloPoTtx8xML1aaJyuS+ycxMnGWZSJOUk+TMmVnJYGaOWjGCJ3VbMiYnE3Gmxlo2K0Y6uzVc8HrrW3+Wv/b67NG7YLR5+pRdutAtbSDdpQcewNIBhJ4jcw+ppqEpqAqJlQ4nCu7MVDBlO4l2Oz2oJWBxWRf3DkDzVX/t6R8t/7vfx4mHsDiL4RZ++vza97/dVdrk7vzRk+gug8PP8axAQAgYN8BCyG2sHORO/N5dlfGRswP4jXWJIHAKInCQwuEkGWBIzARhEBgEYm1UI5iuIyK11Ye22368rYnGbEkmEpEszySEDjhzj+4TsDTFtZ2ro/WgdiOBEAGelBIAADkKGRFyzllri5HZ0Q0U3G0sZ4FkyDluaxKzEswlDx1I9r7iLiDBPQ/se+pr/ZWLvc2V0V//Wf/8WzOfehSE6q3TW2+8mq+dHxaz2/sO4TNfhGQfjAB5wwtLPc5xuKPxQzSnW5oDNkBSurPzpG31KiEN6YalVadK5XDzSlvlgSZeToayxjMTHwxkSgJyRCSh0WWFZBI6sR4CLuxOZm5swRskxMa6v44WzmVgtIlz7+i5sxRH2iv00GHc/wAETrE5MH1agvj6bM+IARaoOoFFsrwt528+gJlJcdchDZYP+is/+d7yE5/BV76BEOGKlXP++k+ofxXQbGkPDhxBa3B2C4myE1J/c9ztnqpHpf3hTtT8JPc4WznjstboyRd6fJAypAhZtx6NlJTbVvm4/SYGcgNFOEfT0O0e/dTj166uxDNvydb28OUX+cK7phRHJWIccvCDB+75+tex9wAotxaIc0BSPeJmZETkyYrByJBl1CEpQLwzK59qFJnTzPzsr3xj/d131l99er4anP/mH4e9P6h7IVhNl6/FtTUvFrN7Htr7jd/C/BLoVhjqKVwA7kgSZc3uGlUloXdDbNzxR54KQlNDq01RSEAIAeQwBYkZPCCCSsDBHYG0yW8S9wHzTXw6WiXYVh5pfKg2mHCNGKO65eYh5J1iRqioo5EReDzKx+ypGpm0sjRN9RGRmyWvGHN3MCgnQy460xtQXuVZKXmXAHgZ60wmcwVGABkbk8OgjOBGhEy4eN+dZW6cFQAtffmf2Jk3t1/4EfpbW6+9sHn+rUiOfu1Rs/k9MyceOvab/wpL+xCKnyMvauZPQkhEUHajUdl0CW5N4WLcL5s4vMG8BaV5h4mLTaMRBgh49478z2dwVsY6uqVEuXHLcslCR+ugTgxoKrEAdjbYdeVjguCZIra38Oab2XAw0poW93WP3YPZeRcGJRiLdy5AjBsKTTPVm2EVGCCZcL5zb04PpKVeBSHr4cDhcs/+GC/41tq5P/kPC2+cmr/3Pli5/dJzV19+tjsc9ruzs0dP4MARiNxaJ3LKa2zy8x2p2juBc/etGKMlb+lMptmVWZbParntHqNHSeeq80T1g8womsAyEQR69JG9Eq79ZHb91Ovob9Sra7XB8o4sLszf/8DS5z6LR0+i01ERuFHqewGW5lusFeVu+HVMyEPoQbrTQXMq2zYAxAGdOTzy1NH/Fuf+dPbaS88WW9e6g9XSyoFzIXM2tz+/74HlL3wN959EMYMPamDibbrQInVZDiJnZvd49cqKYqkxPGu9xt7jaPYbGi/uaM4LMcBq4gp44QIuCUYlHljE/fPoAB0YcdMMFLKdPbLp7lES5I5jQURAiQRgM0RrrLKKouj25rjqoK5BzmyuRg4mdtcpLH5KEiGJDCRWVGtvAXf0OnMn7r30zrsmjD17UcyYI+8Ejc5tdbLzWDInmDGlsxIBN6e6OOAc1E1CF/c9uvzb/w32799+8bnh1Qu03Xdi7Sz6gb103/2Hvv4beOLzyDu3IA6VoPjkQ56QviCSUofoWNuAzoxrzg/26ydp07jB4QbClIxlKrImXWpK8XIcUCeuznwjO/gWYmd01LWamcEpcKskFyjrcdW1OEoT20Iu4CS2RFOwPxxBuRHu649WT78NtVh0D973UHb0XoSuJzz3uobETTaDEbnBEQJ3IcV4MbRfbopUnwxVixk8/qV9Xz2z+e0/7a2v4o1X+ufPbGfCUK9KVNV66C4+8fkDv/7PcfdxMGmsQsh/vnOxWb16A43tznUncMIJ6kYQZs5kemxYEHocehqjuRObw7l11EsLyxnKXsc663Tk8BFk+d6FuaUzJ+qLF3TUl7wX86Kz/0A4eRL33oP5WYROjMrMTg0/0AkGAxnBzB1ECoGLhB6HDiDNROAu/aHUOQuY3YPHP3/XbBdnf2n4zA98Y30BkGKG86X8ruP44i/i6D2goBRuZc7Sd7Bq8wlUSxsbm+P4N52fTodnuqHDOfVrjcAaAU7woDljAHzzJy9/+6yq228/uX/fVw4fGH+G644omaC/thF1szHY9FnqzUgcC4qikACxLnEF1TSvBii13Slv6Y6tgw0TJ9TYxtKdRGREvLRn7tFH6jKGrOjecy+6M8ZUR0uljIzVYSb5jhjBWfKsC+40lQfhJt+AHYjqEhidHh57avnA4eXPfgln3h6+9VpZVYuf/hL2H8HRo1jej2K21fH/gBXGZDoFcAgjhGayMILWttP4Pt/aoTmlcHqdGYvt/Jo8Jt+ONZx3Gwu2sSf3rXFr3VHHmGQtQwghtJkA5yH0og7UoydMetxDASeKmJFNLWsGyzDLBwsLC/v2Zb/wC9h7CJwp6eTb0Q2qzv8/e+/1bMl13ov9vu9b3b3TiZMHkxCIRAICBAICCDCCQYH0Vbwly1d1bdW9D65y2Q8u2y+u8h/gKr9cv1zbD7fs8pWLihYlJomkSBFMAAkQgchhMDOYnE7ae3ev9X1+WKt79z7nDIBzhqIh4ZwHFjDE7NO7u9cXf2Hyr823EJLcZT1wp36fN3ynhuolBfYd2f2b/2mPePzyc/nli+XSZaAKxMVgjgdze266c/DRz+COe6O+plzHkpPak9s2unpnQLuTOJsA7hVV6eP7wZwqZTMQHBCyvB8NpdWMTJJiN0VydFqDdcj5sZdOD/sOYtcuueduWV3GcA2dHEUHroOigIgKh9K7zAWEZnMSGGxK0KjcDXNmTK6T5X1wJ1qaWAsRy+uzPhuEe/O49X584O7uA49iuIphhf4Msj56fXQcJANnsj07You2zs1kFcwcp1HDcRVXN2QQaidZniZ982ZzVYUpjEUAQgAq8BiogMvKS25mVA5X4BTwQAA7AsjBpokNG1Z0Ndi4FtA3z8QKBI8QgqoHRIQIINcXN/ZaehtFF7EoTdcazbUCZWBEp66aimNqHsydwt156+LNN4IcKKuIPcFIDOCEb7Zmu5nEEIyYMpd1wDmU30YvmwAHOCcIHgjoDnDDTdh7FPeF7mipW+RwHZiDK8CcRhbbD5Q1lIlqWz0mH3Q4KoFuuwjZ5hkjbWdfqmfYzR8GMGOzJflkx6nX1G1+9/PoqD9oEdTGk8RpIq4HnfHjylABanUhZcSBoo+RBoKSisIZ0eLCro89srw42z9yE269BbsXhwaBq5Fx2s55yby6fdnkAafEmetw1gVldYuuNtnLTw0GiAmc4cCh3r/5r3onTuDkieGFc/BjIsrn53h+N47ehoX94AKcGVAGzWUbtUV8X4kZjtAm9CrQ1Hl07WJ15+effeLkWpkSSnGThUySNUpzbsn1qByCxsGS7VQULmhtLEBeCVL5AGbqdNhy7s+oeQ9zzlmIitvsVfMi8yGoTAJ00vTj6DHGpmKaO+5z1gU5xNnw5i8ow5iiAzOcK2ahJfbOQg1waZVCquSZEjL1OgtGAkRiAuEQqqoKPjQtcVJ125A70egc2RQkUieZTuugBowB6syNXe4tA3fDOk8P2sSTuflkau3JUnYlB3ASMmNAIGxZfMCcOel6GpqOwMSEuNmylnAMJioFRkQRlds0nSCpmCpo1sksGFMHDJgXImyQCU/cUKKgLFyQ9EAOJptgKGnDBl6iWLKoyyQqJvYXI7SXiQlQbywWtBLOrvNICOCIIwswKCqfKrYQ7DqEvjWAR8AY8M3+EtweRdTPq24863aTCBnQBfJ2BWZMtOXJYRw2BqNIbGFTRFBrDAGuIzooqzWYV5RiHE2/0hmndOQtFlHK2dxC58P33f7L90JysKsie83adJt1VSNv7LYJjqUDV8DItFGoTWPpaekfBixYxllGro8bZ3Hszm7wMA8iGCHLEQRZBww1GCGX63F1gGOICDNH7GRtOmHNujuZie78vD87TgWCYml1TVUVlImrS64YrTNwKHozGFflqAIZw0fIgCjYyJhS8OOGzYBALhiAnKDBA5DYbRDzGDAnMBYDK5iMoFpTMwEOSsydLOunUd76Rg1TvH0FCBIl44khzhCIqeF9GjGDa/cPo60WiWl2NPE1IwJCffKZpsaQ1KLuTS5SJ/PDurUy9dRWB4gRQyEMATSIWQYQqXCz+VGFwDQQi9Xy82YJdjKlqGpMVO/DlMAwRVn68XgMKCy4FHOd5F0XulqOlDwDZhrSCJbMjMwUiDpDiWzTTmxGUW1YKfYITEqiRkwWggUwuSj06htsqrFXiOt0OgNIHksus2t7gEdWLMd5g3ECoDboGGIQYopzCGDwtpBB1KKPxkxhyswaAHBA9HzBtrKmAgFEpjqm/Idn8NSp0XmfV7EhIo0j0LpM0dZUn1Gb5gGY95f+7SOLi80JaOq/rbeeBiwtraimLBidbs0CwIQM0hOZqaqKScFmFlhYg4oGYSImDaZkxhSYjXIGsSkQW1CmKckEpo1Ke5EGIwIgwAxUdAacdeNkoT0Opw0lVGQxSdN4Uw729ROvp/3CzXaUt3t/QAQLWs8dVJVYzp8/n0rYia6v7gjYvt9HtSGNXiWa967frJADd/JsAAuoVk3NYELGJAaDkpkyWc3FTARN1nU7GE02mwQySJzQIaQRSBzpsQSFuE6eDeC6SZCHN+V16dSBqUdt1j4vlPKk1NshxGnY9u9TGyXbMmypf8vbdwCqyrWkNTHDOGiQlhKvUBJUVVgAhRAieCS6gUBY1RNnviab1L1CXfnGDN2sDG2SzEP6TCNTx1Z0stRccS5Zz2zNfBU0sAhZGsYSUfwkBcxUIM2ora0go7FwMIq2ay3OCQCNLbiAjDhymIgycV1qkCD0tvPPutEOKZFMoUzr3aQyWFvd27aer0bipqZKKZlzKrG9W0bi2+zKjJgr4PWL5bdfeOuNtayUnmhFBq2VYLGe+DjVnO0pT//hI4uTSTRfV8AOimBxx8kSyWXpVhKoyDvzYD8eB9Myd86HikhYyCyQBqb44onCAnHFwiaibvN71JLmiJNhgIOpKSmBSNj1JO9Dipjrrk2LnIaYNWtjdpPQ0Kok7Br7kXd3yKNzDAkgErcaZGZV8EEbh7xYYBk1ogg7P++/xMnNPj4CIpywbHTjo4yyXsEYhhLwkSUNCzLZ35gCRtJSRvA0HeYI4DjsNSZShQUOgZKCJeBIhSjLilnJZ0GTdjPiHnl91qzTRjKSbGL6pCkhRAwqbxvc0VpzTlDxnMBKbET69jGs1W4SEWqxXxAHgon4NJOCqrGkG6akubNQVoqgNa7VwMpO08B1ivyaEmd9N1LLmwCZtX9wE3VBucvi9RM5l3eh/TKUSgFQNmo1ltbU10qTYMRNJUC1qp4yR+IKKVvEWoNNocSQaP8WoErOZb0sH0C6SZqBr6XzXoOgOI2xpXns1OYFGkVlyLoHpp/HeZCaNNRm0dN2ojAAqiwwSQCWK395rby0pqVkbBMxAYaSqcFpjaGNrkEhIW69G1ceCEaOoIjyyCytqnELWROIoFojOBZH3OgEp8GH62Y0G7SycsWrV2aGwipD4AgmV/I+kLCRskE0WjVwSNXcZtIcANgi7AjiTCko51k36y1AekC2bmq9SY5szi+BpF71Tsl0aLKgQLP3ALbxPsQXygwEZgjHWY8Gb8HSBKR1nHdgtu/jjrMeeSb5AQGRTaZxdSoSUAFHeacMlVA5NC1BbBTfMwaF9Pep5RcPTe4KSTBaaxJL/A+JOA4/2FRghbHrdGck64MKgFGPjIk2XU6y1aFH0r5zw56sFe5p27dmA0E+RtY2tWszztrUparFTWOABrAE5YoxBkZABTgCC1XACHgLOFfSmgYv7qp0zwMZ0AGHqLEN5EDP0FFksUO1mMj9un68PTag5Fxp0bcytoIB5sCgXLIBh9JK01A6RmOTScRmiYXS8DvredskcqXslsBiEfZpkcvhiAEiJTOCMHFe5LNwA8BFIYhr24Ar2qyMeoRQP9lGiCc2CYptZZH67mjqsOvf0NLV4+vT7mcFMzlABTi62Hv49kMfKIsxsnaDKeYB9iQaEcxG7Z6eEHZVeV5XQrXGxXZgKZacd4OqQtNGsck+9RNw5LpFb8ETj8dXU4logYiMoptOWnimFXh8HQzGHGG3BE2LklQJsZESOFYHUAIV4grJ+5A+IAm0bA39Jn7FTb6gNgxyavGhN5w6Tm+O8tZvETU+xC2t4CjybjYZ4mx8UXd+3peJ0xDl/82MiNtk3zp3ppMgxR7hjvqL5s1YwezJgipTUuQS02hMwSpGXLEawQVmijpemkj60XQlRCtIBuecDVzWlXwQJT0nc5PWJHbDICsdHtdqR0KC52iSHq33tdsTKksXMF1dTlLmZt6B04I+qdkNSefWQBzbzTXgJ8f9G6VbMjCDBWsepcOFCq/52SWoZO5nV/kvXsIuh1xjpwtv6AXcvQsfXASADDCdJCDU9s06faMUCCFoMIoO5RoRzQlURNLN8vmgHKpVWMmtCbAlETOiTXkeBiJlS+pC0WqElUFaRQBK7AnNgTJxucsHcAMgj4reVE/VJmkzxeSJVh8nhganIizltXq3TB5RbAlq5LZj60Yb5xiIiO9Y4qVCENuUHUhy88ZdwiOHcNfeQRVXwtwScdTMCGX8QtPC6gyQSWH75+rqkCbBaDsDyaivSWzE5pjJIjmYG0KOmTJlLL08J1XAD2ElJewzB1UhOBZvvnVGVAmBW8i0DQr1ASAWkFMT5/qdYgYuAp6kIerQZKBA1/h2DZeS26VApHVNNJUouW1vFNZ/1+mT1v2rUVLxQwNZsrAj9f7+TZxxC+UNXiP+ghJZIY4P64kHUu50QAZHXJgRV1UZQmUEYjaypGYZSdM2NXfh2LaSNv2KkJiRmamSIWfpZZ0B5TNAZvXOpdmzBWeKAAAgAElEQVTl1B3JJmeJN69M65FXe9S23fVXy7PCjBBCLDI2k3abAgHGrigBXIkQIlwTpsZKWPb41lMvf/mV1eVsoaoqEg7EweUlddbgKulXpk8ev/j8G6Ur1yTqTpAybFBd/NcPHr3pYwc7MURMDda1maauu7gqWAhRGIpdGm2iXkGSZCzKJRCqQBbSbJQIFn0hDGibTE1+RNMEPu7qtBaFEVUjqImCmXJxPVf0KB8ABSyLIOCGXT49UdOWOvpGiTpMEyK5FUyv56ducA0GBK3w87CvJsDVaJ6MsMhY7GzY09XHq6rftEY3UVqf03qgTXrQ7V2SwphBGhgk6ZdwU3YRsUEJORx3eq4cXtVqpQorDswMJjYgmG9RMlgR3ey5dl1dr3qhxEFjwnZFMZt15kDxNcjWOcq1YLQtXd/6ZvG0WxG3TvqGAS8TqW0rHhKlAES1RCYZiYisY7bsZM33c+JMsACD6mQMItNluLTOuhkTd9ARcjnGQ/JDF0aklVIFUigDnPAOpATNFAC7SDhRhDQ9YYUzY3AGJ+R6lHUsRtVENg9t6CwZg8IkarTkCFxKURMEUSPVZWmNF/9d1/3d66s2wrUi71TWnJqETxyVvSIQRoYl7y5hsJotKlfMYKJgUpmAcqiA3RgUkBVFxgqDMzMn5rRUKVzqswNzZNYybS4QgVBPOk0FEDFXJF06nbzexHCUM0oqNURlGTDIKJbV3P7K06vrFIOj2iqDlZiVnaoRKmLjHNkMFwNyHVi+wQx1OjhuFgGbMSyBxaamxLRec+d6cydRJMoa2zRQeXrsv5VEFV9OI5BA68zAtc1N8/2TUCJPp8zpc/r2WvDv/u21WhEanLYOsXhJqsTReoAph2Suw96JjQ1hSAZiK8mrapa0wxwAI29RG8GQjr8lE5X6MbKIMxSS97LODLgDZAa36WqjxfEwkLaHOlQL9TXbTZm+11PgtesO2qopKhJRlmXS4Hl38uFO4mzeArMagsq0sbFoCCppCUEZstk866Ma6tpSNV4yIaMqEg05CVBqsw6r/eWZTQOgkKAZc+ayruRdyQexnbXJ3EYUgZrVF9Em4m3rvkUrstT1KE9Cnm0z8E21OxEP0NLsJahcKxlPy6Zwsz5RZWYCBhluO7zn7nJ1Jc81kINBQ5BsaJ1Xzy2N3ExQW8j87h4vZAWHklgAWPALM50DfZfVUgVBA/Fk3jUdirQxqRYREjYzJSUnbeZDGtZJBtfL3YIvXTkeBfUKz2Co1ZZKWictJtMY1DRFe23AWZyMFQnG4Ixcn4tZyQYTvfJmFAyjdZL9m/UrUz3ahvlqS3joneYG6/56g65KkboWaWaYcPw+mQWnep2B0swTR7KPgkjB2mqTaXouotf4oryJIsC2dg+tpMvMkTq88Z1p2EycDfIsQ5Hr2lU/HGuoNCN2pkGnhP/iyDdKIFmbxJvwQ056nf5CkgcyB3IgBAVH/g9NViIEekdw9LVg9mmST293ozbcNp00tLVbkZkp4D28Big54cgTm74Aox1fsfd54nRUe+gYdILIqN0K0MZexCYm0ek5Y54pipnF8eqVgEptRGGcWUkIIAZTIK8W2BWm7LjwpUcmknVICpd12HUIGZBN0tHkumTa/CFpe27UVVFLyBQGDBUhi02tRSaBVpHn4YN3sm3hyhQlArA2QlAQEcMGhTismxnK1NWur4uZmAUogEXg9++f/7X758cAK4QBxSrjHOF/+aI+eaUajYafvHn2tx/Ijw0wK0C04wS6vDADdGPrQuwmKBveMPfkGEdCNJNCZRSMSBHq/5qnI7QDz7hOl9ywrFa9X1E/LpSEWWERXhQ5okQE8wpTyszMgYksqKlaxmJGSqCskxcLnA2Iuwq3kXAwFYsmz5o3rYfirr0u6dSs5tTWTUmAMnGsS2rN+iSOOKENtOgKVCvyGDHBYugnggdWq8qTA9AnnXUsQBV8JrxVAQ0DFExMpB5MgZ0HymYCUTeXrn61mjjcliGuebpJ4ELqmiyqPG01bkvspMDMuQU1BIOL/WytO1/LMCTPHwYVYPCgn+dq1ajSS0FHFgKcBQxhwSEnMKkaMYiUicGh8k464gpwz7keOoP0RWnSUUeRsvVOI9PhplUNq6VpVoLo12IjMflXIOKE8I0fUwFAEKKWxhYhQC3m7fSZWpsu8NRLR/AW77OJYXF2phHSTXj1KBCxgwx6nybOVuXFBiU1mqyy1ld206I4DCbkAIFcMdiTIwQdmR+6chVaBZinYBYky8wyshyUFbkjZu70LET/bAdk1ngZv8PaZrN3lDQyPetgJE2yT5FARLViESd5CCZbHOclfFLNPzWDD9FNWLPM7d+9mNXhfwM0tM0xXV+rCNAxy43mOF00ESBYBvrAwb7+9HLVET3U0w/N4yDQi8FCGnujKYNG2sIdUyPT1kyhZd4ZsYgdgonLu9IJ2tFyaMNR8N4Q2DmIqQU1NZBQZkQEMVMmCV6RZSBn1Ddw1snIFXADUDcO5bZRprSSSMqdzZ9MboAmBXAhtkgWNKgpmAjStldreWMCCZ7WGIvXjQ+gQGUIDAI50IHdGQAnbttbTwKpqaJ4fQnHl8IqyyhEek1Cm8en2qi6W8MpMrBBDF2t7j8WZbTq4S4p0XYYVsm03KbhdS2zFtqks+M0YBchLnJyQAkfvF9VzUHeByYlJmZhYwoKkHT7BbOD64AKcBHhYC2S5Tul/CkOqK5rLWUd3CFOukwjgK7WFGnmCBHJDgDee3Icx9KUqkzjhp5tU2V6UPgoWi/ouFQik+0sN3cS53YGT7WeZ8NpirwqIjLnqAM3AylBQRCIwGrEGSizKgQSyTLAEOJ0Mb60XNPxsHV1gjQQhjIZmIkoDYlNYASoibCKM4hsS26PWnD9OJDyBiMyM2batWvX9G5mC7+BiKSZiE0Sf5IBiqLqHJ1NgKBghvyjn1mug7EDMpFCOpXx2PyYK+/DyOvYmEg0qGrIGEIWCiYYi+sqFVL02c2xFCRxrJ/Fs7NNVKrVEhOsmO4MSjWJuKjoQ8dpWqgeLGB2BvUIEcSc/JrTfC3p8gQCb0YmiPt+M1NTdlhcbOCmWzYWIwAhkAikWAW+9tLlv3jizePlYMWyLJZhNGmpyIwRITakNZqdAULYNz795//dR/pGCbYXMaTbX93plGr52z+BRC1tyNI5iOP2UWhW2IhVVZkEEFQeeYSfOrgcQSEMgobA3FSs0arMy7VCK12z8mu5zUT2XCO5gXjfECUck1SEU9PEcxEPYhhcpOj6GH8aGg6vI7PFBx1qrgGi99/OXHYncV53+mzNmyTRuiL1AhBQDk4qesSMUQUnJJmAg0GMwFnt2Gew6zRqrwG3xNQIsbNxkl6HqoFFp0R/tp9XCPA+ZhiOauAT6ZLtJbUIarfGwAsMwJekBdTY0gJGOMnuR2Ll9n/du3+4EAiDMiq6VHhUpUNwGFd+qL5yGVOeOTNUQ+S5ei/dgZmQ64H7ikZIlSNlpfnnba7ljCkRDFIqzZjSUisRZeIcgDmhVANIGVJvLi1y47lm/W7SyBBFUHQcJxCRqcUtIE3WsVvOVsICRTBTobw7i87A0CfqQatICwxECg6kYsGgMKegWoQLAcZQta7VQhnY1mWsv51bd5dsBJPNXLyTlBUgqHpIlKxyKBRaIWOLA9Ja9ZGFrv2R2+NBcqsZZQX74EVIYGQhAqMRLK3+yUPiW5CeJTdzJ0uuwJu+k6qR8HzNs7ajVbuTOLdURW/858lKr5l1JK3wyuAy6BAcCCKUw1xrjRE3HjXkdcJ130Ims9ZuzJsSmSOFRmExiRSvBOyR6wo2IApAWdZYOzZV33zjLWWySftCUvuLQcAC5EAOZEQ6rW9NgKqlrnpDEPw55dEoS9FSwk0aflJlDjCHfpYBKolDaRWKEUrPs7OGSKOUOrJHaKNO4V226vnVoHgCwNHlJSVLUxgjRP47Aqo2qU6hSsxiHL8BiKo4Ia+vS4jXI+BqJoQqQjAYMTObhoAW53WbR8YRdYHbZu1j+/nYynBM3iFQglpz4JqMaCYWqyintZUCm85X3Gu4xC1SkF3H2PBdvjDUIpJFumT8wyTvCBBHfI9XKBPXmstUGYhYgcyIiH3dKfNE4F7fJmltmmanO9FavRIsAIsjAFohjOArBA9vCIYMcBlcAWGQM0S/O7VJz56GtPEpyLoIRy0Fyrq+qv8v2XG33kmcW4mt4CkJ5rS3YEMgkvYIyUWR67UVvPTk6PJ5Hcz27rwH/d2mQo5SW9KqHLfRi1it7RKFiTICdITxEJcv2Km3aPcBHDoW/a0otXeyvdjXHNyqgirMAhnDbIpgd+012LpBH00Li0MDiCgafQBQk1A5rRpJu7hqlU2wlT/31lPrDKcJcWpxDhaV1lnUEAghQCtUy3j+qasra3Mf/1UTYXZAm/xbcwkobL9coUnCqLHNkTdizgK0QrmG4RIuXcJaicpj3z7ML0AySAZOOglmSjUPqnnlNjG6SnPa6L+m7NjMJuym62ovtAB/+LC78/CNQ8BPS01pKzG0mZ3NHq+Do93WSB+1s/o26FW0pTdnMlVytq4/h8JXFEbQEqypKKl/ARFnCuQ9cB4LL6151ZOhfczH13H9U+KaBFQj+CFWLuHlZy4+89Ol10+uXr0ys2f3rhtvGtx0O+78JcztIREIK8zAoKaJT5OeOJdq0GTJCYiIiKRltGIW/tGnPjuJ859Xu5lAaEknM83jvNYnjOFTj6LGDPgRli/a33/19Nf/urx0HnsPHPvs5/Hp36LebIi9Junk1SV99+XnZq0CCQFVhStn8fxTa9/46qm33sru+vCx3/nPsO+oulzif7dtGQRKJoExx8Xz0zhmRO+QtzlHm56xiZUKJRMlJRggjliHOYIzn/pkNYUx87pR28/96NZYU21+QfRbzQwgVgXUgxTjJTz5g/Lx755/5kdLeWfu8FE+dicyFxX8yWDEzWwVYLDWArNbaDotqawxt8zHKHFGA8IQx1/Ec0+EZ398+bWXqvGIuAj5zMFfeoDufxC33YnBHiAHCRNncfVNgKg17paYzJQtecDAFKrGxj6o5MnrLfUcplu9314tcn8I2vFcCPqUWmhMKxu0M6VsyBauSa5UVyYT/6Itz2nXtUpv9xkGcFTAY0GDtfLwq3jhabz0LJYvQ4Asg2SoqvTFHCHL1hb29+55CPMHQJKgW9MHCk0epXfuMtuo/iln0yjhEkYOa3jpp+Ovf+n8Mz/E1QvZeDxf+vxVd/nxbGn/4YMffRSf+g3ccAxSaL13D/BMIGIYk6Xb3pBMQoBq7VBLaUvekmTBDhtlJ3FuqR/RmoasjXqkQSXl0kSdZw3wQzz52Ftf/zP34rMz1XBt+fzay4d7n/6NEEKNfk2BNWE7t/UaCkEBp4bgsXYFP37szF9/0b/yYmCxYzfCEZhdFHXdTkc7pRweRX2JSEQAL5LC8LZHeWQwitI8FL3AusAuHj2wf3Y8Ht/QQ6EgBjO/TRreBm7l7at6q6U+m/4gTudEAPM4fxw/+odL3/r62nM/6a5cHs3uwelTOHY7NBhJk2mscT6hd2jH334a35QXdcJgaIUwxPHnV7/8p+d++Pd24TTGQ2IHpQzZibfezF597sDnvoAHP4HBblin1qDihrRnUNpsbpzYEcbMrKrOSaQ0qkUULm3x5QEJBSi0EhLhABNnDGrk3aNCQjwy08mg7XlN7TJiUsW2tiRbuKR27nznV7YFXOWU5hRaYunS8ce+WX7rK4vlSmApAc2cKiIZqdTqatYZHrjpI3sOYmYPXCZt49kWaVW2fiCbiq598U4EVy9f+e63j//93/VGl3LzY9DiwkK4clWGK/Lm2qtfvrI/y/u/9QeQDPXSNXas0VNtXQevgFd4DYqoQmpToOzrHpXvJM731Q9PuRiQ1juKBrNYyw4EIJQ4c7L69pfzV5/plZeDeTauhhdhlYigvWBo4S62rCU7SWwB4yW88fzKV/9EX3yq8tX8HfcsPvQw5heSMdlkabiFWFO3wCnOGsBMcZTnMgGUJzuPLXckyUezPn9mIScZGP7wo7dd8mDGrgKznAzLKLoZ0bttZ7f3fOtnq60s4ZPFMgHwGF7Sv/3TS9/+sn/thbnhWma0FEo4gSpcvEkeZAoxSiAMjYkqVjlbnMs171vEPkYaKaoKZ9648sX/68p3v8Zrl3n/gcEN94ZsUYbD4fNPuKtnxj+9fK5c3SuCRz6DLGu7rTV6QIEU4CRo3Oa3MLxadHXPMolYXibeRpZKaSZChBD32ekyJOXLUPec07QimipiABA8TST5kMxA2vzdd513mDlWWu+4orM6Z4tOXBMoPk8/skvn8nPH8+FyWQwqWJkXJamAVJF1Zsj1Br1ZZL1a+KNlwx6HU/IuCqnpijDBkM0amaep5Blw/vJVndlN+/f3Dx7Yf8udxU234qUXzv7w29mpl/jimdOP/+CWhz6Fo4vR8yQpH5EaOACOfHTvA1iTVwVEJN6roijijTZVYqafe7W6kzj/+c9rp7Trknx6FAOfyNpZwJXTS3/5H6tnHs8unxUOQThnE/NQn05wDQVqiO20nUhvviqdy7C2gjOvv/4f/lc8/URhPj96y/5P/SruuR95L5G8eZuxbzKZMRghhMg8V4GT6zw5CUpvNb00CNAlHOrjcEJMxbWQ/sJKW2t315MNpcLYvFIGXL3y3GPfKV57cc94rWseSo4VjsCJT9noHDRc/jjeZ8Sh79aeci2fVlusxjtWjvHY35/+3rdmli8t3HCw/8nP4r6PYf4ozp1d+Pb8hZ98V86eHb787Mnv/t2h2+/C7h6KrP5KtXVP2hG09uspG8WdqMVWVyiZZV9/RRLnwxPTt6lJpNvwOyaT7brPtnrkzdcJDm8AL+/mxFXR8A8trbnYmrHs7nRGwXdgmJ278VcewuIeZBnUo+iACwx24aYP4sANoMbjAG0ZE3p3l7ruX1WNI57OoMHAtVq+GeYWP/Dp38A996Of4eAh7D2ELMcdd+/rFKO/PLl69Uq1fBlnz+DQnUrgJqJvXA8RKFn8NO3CBJJXi2bv6B7sJM6tBHpqv/9RwrpezmuSvVVWQ7WEb3zpzN/9v4NLJ3f3ernJcDiSUAgytEzzwInGRpieTW3hktixwA9x6cTqf/h34anv5RTs8I0H/sUf4uHPYm4/KIPjyN2S60x0cSCbjLaIOUmfNMFuyxUoIWp71n9N1KAEJ01n0RA5bPsO3Fu8onrZlmBUqVVgQGJV1MGuw9kNy3rxzOjqhdxKIoK4BuAMuEY/CQohhOQ25bYz67TGVsYaMi18deXpH/fL1aHrHHroUfyLP8TCYQwdDt6Cmw66uZnqa1/Krl5ZeekFPPs0Pn5TPTZtzRssTuvaYzezxkzS2Bqr560CvadvpmtLFUabGsAAl9TwFTSdTa3pMpUQAJMU2SOrk2sHhQYVvFXtXGwEttA7Tmpp8izSxLWsmFwgvkyy95FP4Df/ALsOwQAhBI/uDFwByuAyOEl0tZouaRKTL8tmv3568qQpKdZ1jzIZIN6SpnaMJeqZBDLAPR9BqJALGPAM85AKu3d1Zmf4LNQ8UEJH7LrajGcBl94tnqhex9+t0NDk7I3t+U67uZM4tz4eRav6jC9ZDLSsFXSIp39w8m++OLt8QV2W33wTVqrq+AkEMm/rtN6mVl+0uVHX23ZsinKMlQurf/eVcz/8zmK1Nup0Dn7qM3j4Y5iZRwiwCgq4zLHzAW57oFpqvB9RBh83jswstFFUfes7J+KUFqkOEQYyT2QTDHCa5f7CpkNTzCKNZstsgGDX/rv+4N/gzGv46RP6g2+uvfmyMSF2zJZqq6kVHZSbbdY20BRJOBEa1ebitYVq+eQbrhyNuwN89FOY2YtiDrmDKYrD84/+Rnj+ubNPfL83HOKN1/Axj2BwEyyHrV9ocZ1IGjeeJJ7qhK7/sLRE6tNKYloTsX0AGtvzif5V679ktBT26Tqanq0pdWySJhjGa0vL3vuOEPo5XnkOz7+8ujIq/bCYm+vd/CHcfBu6HM+bpgl7uvlxxCzvfjfTDHsj2BWJhIQkKlsRE8BqzEUPptASWsKv4uwJ/PhHZ7/95fDay6Ww27UHh45AxCYdcMyUtVzztN+AV1Qa4u3iDX3+DjJoJ3FuMRBEC6HpfVV6r/wabIgLJy594y/1jRecVXLrnbjnAZx8Sy9cpshYIIdJftSm/Uwa87SVIpoUGsABp06c+/EP3GjNMQ7efgdGJb7/bew+iD37sLgPMwcieVS2y+PUiQgaytKrKlka4ES/TdpWAWq1KAvXQEumxKAgcsmFDQYEhkTTp1/EUKFe6dV+NFFUIG4umfMuPvDLOHQjWE4//lghmZpBOI45sc5TpKZACnjy5+/+S5C2NmHcfCBga1cuz4cwNqDTAecGo2jMZTmyBZnblRf9celXLl0ekGo25eI46TbizHY6BKrCex/DpcikNNIW2mk7hwaAeYK5xslguqurRdKbWpK5Vb4k48x2U7bdtqc9qn03WTNNPkhbDkUECLwV4mbK5eHX/nSYFYR8OC5JdDXrXMj2HHn01/Dbv4tdBy3k7DpQIJmcJ6PpjdsZW1+D1r2mRUUNMzMwBwTHBTwgUTKaEyBdIkvK48qZ6ltfGj392Oj1n9FwlVZWeuTLmV277/ow9h6BdAjCyfUvgEJLMHiqsFC1xh1FRGR6wL6z39xJnFvtRXSqtZrwmzzgsXIJ3/360lM/HEC1GOz+xK/jhiO4sjwKVeFBQWGmGtkqqEEoTUDbVh1XDfHsj+zkqz2rRMPyK6/xxZWVLAu9mbLTy2+46eDDn8Ud92B2F/F1Pcc4ZBuPxxoAqPCWCf2bzM0MSTqzXuQlNLxZChv/f5zPNuqCkpKqMpGqJ87gCipmMLtQZp2cmIxrsV1MnC2mtCz4ut+3ScFvAJH2F+bCpZN5GONnz2L/reRyUCQQGIZrWFmpyhF1tdsrAG8ItTPmJCrLNTJcCCjLpGvBzD8Xjntrr1lvVWnyKk6oz5Q05PhaQ4zrcvhZnzjfERw0JXE3qT0IAMajariaacgsDM+f0cyxmzHVQCrkurp08st/stCh/q//Di0cTRAoMNAIhvC7vNZJiKEIO/cOAvW1YKcZzKAwESIIY7w2eurJn371b/ad+dlg6WwBDd53B/Pzd9yFBz8KLkBuajG07krawNqovAgoQTbbLOv1OtntJM73V9PJQmoNcCM2RsHEAlZX8fiPzv3NX/OpU5rP7Lr3V/Dwr8FXkMcctGDL1aDCcFGwoB4DxjnllL/Su7sShSouX1h98cf5lRNdLV3lx5cvj5aXNDOvoee6/uVnTr/23IFf/V187reBPmo/ri0mkklLGYK1mXBN8NkeKrgWGlcDjBxZbeJNBEgjVtck019UneuT7GcUsQCYMlCQ+NAZMEVVEZELcCBIDmFIdNmYWA3bxAxgkzHl2w5oa/KkEcAGZW5lnZxmDt+wevrF+dGa/8qXHPVxx11YmMd4iDMn8f1vjV59ZuBs6CCdDFbGFqmxRqkpnG5TNkbbmzZJH7fegS1nzFQTRdxmk3gSx6bmMdc7fgPIJ9fJGk8rE0mKZjYTqZz8CyuralBVVtdGY1A5Hl0pBGXFoejo/B4cvnPfoZvGWi6/+Rq9/hJdfOvy3321P7sbn/k99Lot2jdq8UWfQiutO2sak1Z0uYE1KsURtGOAxyggzxB9t6NMLjEiAdcVnT37sj0HR0tnZLyGclg4p6OAq0OsrCEYONTYBDawto3fp4+ZKZnRumVN/XYaCDu6QTuJExGlsumKUSdAlWZ2xC3APAMqbBit4dknT3/lr9ybry9a8Hkut90O87h6GctXM/VZRbRyBZdOw+XodEnE2pnSpuzdtxDiz53ClQuFH5WBdLDgdu3vLywObXW8fEUuXsXVC2vPXbnY6+669UP4wC8lrTBsNiEinfi+tAp9hVFK8CBAa5xOXbY3/+G2+oAYOi0OfanuNScrnPaJ3VbWVAaHDZfX3Pn1f2pT4i6Tx0EEFWIz9WQCNmSZaqSfRlVbiSpOXC9iLfmwNr9OqTWH3ySHmof3sAq+IvXQ+uYqMSmKDvIcUQohy+fuvf/qG69kJ05efeXl8Gf/MT9yrLtvr5VrwzdeXnv1Z/Orl0qv2uliz76UsOrfN+XRTrzOxKYxq7KNYk/b7zab85Leqxp+pTVLh9etQjaYrjdz8AZqpNuD107L/9i1arl1s4f4HNvueLBwZTwiSCgGOHrz3k9/Hnf8Chb3ObL++RNr//5/xvFXlk68Pn76yeIjn0UxQObsnc6Itl4OZgYCfIXhKpaWMFyB+WRtvbw6fvNk8YHbsecQFhYhpMbRKpgdAYybb/vl3/8vcPqR6qkfDk+8MjzxWn7l8trxNzrf/U7/2G2Y7TSLZ22/h42QIU0oaNHtkBGI2obaFAdDvLPn3EmcsMZnmDERG000NiTamYJiwdY6dJHMiTHeeu3C33wRzzzRX11yVjkb4dIJfPWPcfUqTrzSK8tCSd86yX/7RdzzIO68D4NdE5ZCUGJeZ2z8rkphM6yt2uoaU2c4OzNz+z3dT/8m9h/o+5X+pfP42XOvfvOrM8ML53782Nz9j7t9RzC7B27KN23yNZISuLaY2qldqLW4YARljsVwBqa0r4GlKnVbctWYjDkxVZMkUTDafuTWRiCUbers28bIOfX5guS6mmCGosn9kqJEaTCEYMIqFJK3OSFEhQRpmCy1y3drtp+mFK0xV0PFDSVGV7F0Dk/+CKMVlAG+TF/CZbj1bnzwQfQGBqW8j499oXvqEsJ33Nk3wxvPVsefGWeFVWVh5ayOcoS1vFvNzOPQzeAuIC04Gzfc43XyOZGFGjJ4ocDQoFHKn6ZKiq1pKWPKkJWbB8ytJz2FFSJs6HDbnSW3J6jbXLhS8haJHX399k62wPUkKX6+j469VvvJpHjounaEvtwAACAASURBVLL74PjCGet0j/3eH+HhRzHYDc5AwN59vfs+snzxnCwvjS6dLs6dxa6DkdhCkAnx21z7XTSq8cbKMAUD5RA0Xvn+3574sz/h02/44eXCqWmllRcVv+fGA5//13O//jtYnCeJFS0U5hwj7+NDD+COe7OHPpu99pz/2p9Xj30lLJ9b+9E3+7d8AB/9AmaKZkCULE6No7A+wWJba9F5jHPQqhPXcfVTM0r524xpZ1L7/k2cTZ0XJyOpwaHa5ZWTGGwzKdKp3b41MSWsnHjt0qk3ZsZrSoosW1lbvfiVL42ZC2BmOCzUrBpdOvXG+T//v9d++sx9/8Mx6y8IZQaDhUSX22pLFeGWwYdxFZQ6B48Mfuv38eFPoegDHtUq7rhv5vhxfuYf5sj8+TOuGtbZcXp1ZJNpmNVUuTqoKU8HLO+9GhGE2VHtY00U7L34kkzYBAmais1MT5vNGa0fIa9Lq9pw4omQZWohWPBaJc1DsmvL9DfOTTrpdOuImX6C9z994pv/x7+bOXeyX64JwUIwNmSdITK78YO/8j/did4cgcAFFg/v+b0/Qnfu/I++NT7zalauIWDQ7RTjEj4YENwgLBzAkVsguRmBIpeU1yWcqY7SlIlDQBU8EVggUvec2+8tGBtgtOsS4fSl8GYpka/9gVs+MTrxjNep9NkcC6pJSJhCTjUSTiDC7v23Pvobl+YXDtx+Jz7xeQwWwQJyBpAf4dAxmpmnq1cxXMPK2uRNsg0u5et3IrWXHBRZhrXly2feWjl3Ztfqcp8Dh7GqZt2OVji3unzhwrm5tRUszsZ9J2tglACQFTBGXkAyfOihRWg4+dLFpx/vDJf1lRf4E19o+Qpr+o6TG0sEjarRPiDUQ3toGogJ02Q9s0PofL8mztQKRH1RSpYBmgzWESIovz7rsWNQqk9XiD0Rp8SjnWI0OzfqdldRdslYinE5FhbWIMxkZeBKyULoZ5LDM3mBcyAYQrSL3ThGfeefoJBMFWNjX+QLB/aDC3AfFOAJs3sWbv+lc8/8MPjq6qUznWoYlyS6cXZFAHFokK51W0BQMg+4OEMTuNFopKrGuTkmohbH4T06gU+1TTRpptTpRULhNNsiAgg1lg7NylZiYRGHVjAlWFAHBWkIlQXf7eQgg3mwAD7AAE2eUgmdW48oUlqt13g2AcyIAaq+qsarq4PgcyZoAFMF8xoqyqOGLzQYByIHE+w+gn/1R3s+92m8+rPq3Onq6nIvB37wjeqlF/wYxfzRfQ98DPO7wI6IDCEWQEaguF0zRwDIt9ICM4FL2LiKohO1SnzdftE/+UA5LbwAswBkNdA45U5LKlHaZDsmDZOUr3CG3kLxiV878NHPAIysG4efpp7YwStmF+E6oVIHQaXRxVrBsi74tHZD8U3jOD8nqDEho978oYcene/M4dyp8WgZ5IvOYFiFPCtu2X+0f9d92LcI0tQwhwpnj2N2Fp1ZZBkCwQnGgtm9smvfCCKlX15ZmUNIRFLEGJaCTnIUp6jkpUwcyip4H7k3Bpm4/FCz9eSdSe37tuO09TUtTWu6WloG8GTF0oQPD6DGB8rsPQ/eLYzjr2D5Ci5ftLGRy1AOsXwJrz1/9fWX8qKYv+Ho3od+HR98CAu7J+odRBN6+9bCAIEFnCErOHelH+PSWRyJCcEh72Ak0inMuFP0XLcDCjUgfmM44Y1F/tRA1wzGKqiqKoCC6sREc70AzXvr6Wo9sTVa30Yq2nPUaF3ZIDHixDY5BoPYLAQzYSHH8EDQjssyx6OyRFD4AFEIMzRMEJgT+sH6+9xKQtEskbKi86F7vvBf/jc48QpWVwGg00HOYMHMbtz7IDpdgJjYAMoYntGfQ/cW7NmXlSvZaBV//7Wlq1fKymu+2D96G91zP8SBoeqJp9ar2OhpU0dPKLRSUjMosbNa36MlcfdPO3EyVEzJUnFkqUzk6WK6bjdr/qisa9CZYDlY4BUSsTlGcMly/fxZHo+dc5wXmB3EXcHUS0naAjTw1IljRaJ9OhjTsdtmdh9AKGcowDHUzbDAGOLQKZC5VBv6cvj0j9/48p/MdTsHH3oEv/RhSAbO4APOnaouXBKXjznbu3s3MlFE5eG2qD5PAqH52IN7DdHImkhEsg3DmJ1e832dOJs3d5IRG9fCJpPGKYYBLWlsrd+1iHfIKZ/D3Y/gtl8GgLKiMobiCq//DH/1f66eOK5ZZ2b/zfjs7+HQB1D0wRySUQU3AJQtz8Gog+6MzAzMqaxcxGs/w72fhI2NiDDG+MqFV5/vwEZlyGfmMTMTTYKthUKg1ugyHqYkbmQKUoNrRAEjxNJDiF1UlqlXdEyJ9Piey53NoNHSZpFgzLZesLxFH0yRiCYBDiBD8CQsyMgAraABa1VeMhv7cQkmKINcbFycsLUCMcEDbMT13akVFcgDTBFBSgQpsLgPD30SD3wM4zFQAIZcoBWI0ZkB9+oBXwjGEDCEwMgclkd45bnL3/1GdfG0F8YNR/offxSHjiDvxlfW0I7dDkCgJvxNdLAUCBQ1ewwAUwIVNwLrfH3KA++BrAnng4TgVMlcHdnaHuO8nq3RbHm1mTwpxmtYvYqlS9i9CzlUc6YMFWAVrlysfvJ9vnIaHDDbx+KMUkXI6jm51sQz2zj+SmeQVI0dAcTgAjMLaZlioX5eDsxwqPw4E0EICKMzT/yDPPODMFq68MZzu0+9itvvRtHDlXP43teHb75OSn4wyG68GczBKqEsVYaWNJhosptx8aQHAoij+oFjaVUWRDugoPd34uTpeWWzxtpsJZPQ/M2KhdtQfUB8IJdnyAcJrJg8jCsMV6070E7Pu4IHu7H/KIo5CIHQ7Ato2wskMizscfsPj158qli6vPrTJ/r3PosbbibHWLqM53+y+uqLhTfefWD+ltsgeXS/pAmyMaZtbaZVMskkYbLHaHxf6jvgYBmpTCjxZGb0HgYLKNU665RQ9usMrfjtXhKN3BSohwZcOIVzJ/HC0/nyJarG3aLAd/4W91a47T5k3fVY3doPQFv3fP28DqwKMJPk3M0RAroMylNJRmpEUZNK4obNVAhQj+Eyls/h1Jv61A8uPf4Py6+84AKwa9/chx/ELz+AvKNGUQqR2teSoB9t4HS0AYgiFLVVDeCmLFHYtmnw8h57E4wUZoTtKETGOxgMy5ff+Opf+bdePnD4SP+RT/OeQ0AHqrhyGt/4q+WXnrbhSjW7p3vXPdi910TSEaN1aGFa/541shtpymMUhQfMYJErrKjFNAxwrgvz8CMQHzly5GTm7PSFshxevHLefvAP/bn58blTKyffpNUVP7fn4EMfx933QVkoqwUWpgN7lMKtwwFRwpQxKJMJTI9MsQMLep93nHFgExFltn6FwxMgicVyD0Riae1TD2lrLTPnuJalNrJAya0H6Peo3y8BlCGYMAQisLjXZKIaxxrHoVvdGrBgzw29u+7vvPIzvPTk8Ikf9LN/j1tuR844cXz8/LPFudOhmJ370H246YPoz29cok6R0609sIpxohKIGVMtgCAMCqWAc1HHjcmk2x6P8xc0iG/fMFOGlxZciBpH3/o7BIJBHXFUXIrb34BxwYyVi+WX/njpe9/AqVfcyoWujKW8+uYf/2/09DOH/+1/i1vvguQeJqBJ4xKFSVlDYyQ5PUu2OtV604zYmJgcDAFgJjIhBVQlahiYgyqqEcol/ORbePHp8U+fvPLSSzxeEfPVvoN7P/KpwWc/j/1HgIzJgdSscVWcdFYuAUNS96ntYE4e8EySOxYCp1zL/9SncwZUwJjcmMSzKnNL0xFtq8vJjtN4YoWU5P4FWmL58qnH/nb2zefPCm566wQ+/mnMLuDKBTz+nbPf/LKce7PMut0778NdH4H0DFKjc2Nh0iDJ46/QlktShCLGxYIBpkEhIBIiqrH3k2gRO2DqdOG9PPiJXa+/epFcefp1vPmann6tAumolO7seGHP4oOfGnzut7DnCKQPhbHW+GKm5p0wjgD6WBALjMxiJm+RwipQfF8iAncng75PR7UNHAZKDGPbFJ8zQbC32WUTTbX0UZGVoUbMcDUPrzPAgWNXZvf1JJ+b3xVrN5BY0HVvnW11AhIL0LzAhx8+eP70ycvnbOni8e9+x3/vuyoqpj2QL/r+hltnP/dbuOEmUPE2hfiGogHNjUlou9QcJz3wOvFwo5wn79XnG8Mhp5JH108UjCfz3PQAPDV7ymTPCUEGhOrEyZeeeTo/d7pHmvdnSusFEhO+eO703FsnZz/wISCZS9S9exPp2rzDGs1IBDCBSZUYTJmaZxIzi9M6M1gicMR/RNJZgl/+3jeP/8n/zq++MFdZRzI/WJA9+448+jk88igO3wqXg3I0VPr621HTORHDIgeJuZXilaDxEROYuXEqp3/6hPfmmEf0C5gSUzE2opMX450IisRw+cEDh8o3ns1XV176yp9X3/yKdXvsR/nVcwNBlXfHe4/e+Mkv4OgdoFwa28HmjWwewTRVKXktgaPIABGxSKinXSzRu6aWSklYJk9EcBn6c4PP/15/buHyT743OvWqjZaUzO3qrrr+4Uc+nX3uP8HR2831zcAcvV03hZe3wB4cibwqETI5NVHWSLt6LxbLO4nzF7P2SCGDRY1isDBrAi7X9gDMbNGkIwpDNmMe9TVajrQ2XkgYVJB4wHUX8Suf8S+feuvqldsf+SzyInWWUnsUM9X4lamd07v9kQz7buTf/lcHcv7xX/w/xdJaDwatyoyXe/3BrXfd/Ef/NY7diawPy5rpJLUIk7HfMJsEV029ePRrDByFTZkDQOICswdIxIwivzPCU7eDCv5Hz5opO0V5AgcSkbh1DK2yXZqMorHw1xoNw42aLoENnN1054FPfW750MGVC+eyoAxUBprt3XDr3bP3PgTXja4XyZs70Tm9tYaiPIGfcJOzuZ6/SQTQIqK1G0UCVTKDJ5CAgQph7fnHv2+nTy9ydqXfyQ8c3fXhh/Z98jM4djuyDrLc6qKMiafKLIZZIIpLWQaqSBRFrTxhAMjFd1pVtY72Ylsv7N57ixkB1I9YLPjSSZE5hACImhmI1TRaTU5kN0gTsBhpb00EMGPvjTf+2r98a7R69vFv97QclFd05YyIgN1FKnDkpg/+7n+Ohz+DfA7iLIDFtdhQ01q1bV6KtRB5lOYgXKf8hAOX2uws4ZoI5AEHl+PgzfTbhxY/8Tm8/lJ57gyg+b792HsQew6jNwB3WgmczSZDCK2LRWJqarNKK7VSWGEVTOvqSlSDcLZh7Lzz8/7qOJXjhsmIiINZCBVzlJ3SuAnR1I2QgTiuf2TStzRZMwHZW0NgberTQzc/8N//j/AeeQeSW92QREB3E0S3GQyMVQqe35d9/l8+ePd9eOssTp6AVVicw6Ej2HsIh28Dd6LOVrtGpIkdN0I8DFjvb2bghFmPaZUkqIKdMjwoWNrHEH5hxl9bLYyo9nOKrbKVvopfJnkoN6zWmBUk7cHA3N48C8gMQeHy3q5Pf37Xo5+F17TuIoMzSBfdXdeIJm5aqX26arNWF9KeaZiua5WmJAGcu+2Bh6zgGajcfDvuvh/7b0A+gMxAaguOdOXxw9Qo6tEgWThHyYroWaYqdXOpASEYzBlUOJtYtxttT8r/vVYoZ7WrTygrU82FASVyVhcZRFDVYMriItCaaKI+zwAJwwp88L6DBR380F3jEy+uvHXcLy0V3V42v/fw0Vvpww/jlrvQm4c4DeDUm3Gz6Wx9WstF3Fr/2+LNkEHqOg9Tbd9EdMzAJo6EyBXYX2DXgVwriIAByYAirUjr1yjpP6aXXxWewYTE261MQawhFdNm2kCDDCB2ts78fOfnfZY4FVCJ/DuvBHEO0VfdEWAVgR3EJn1nDYaj2iOymfuj4UdGp8OYbSKQRqCCrIvcgQAWNU08B2MyCDXA1K3LJhMsotdDhsE+fHAfblP4KhmnuAwuh+u2jVFacjmTeM4NYl4NZsKmZsRcJfmeyFk1AkaV9wYPstoTMf41ilLk77EilGJhZFA1r+CsY6JwWQCo2UQiFj0TkD2xqGmgtNZjwNQzuVimoLMIqybKuZH6xmKQwJCWFlCKT8mVs46HEyFWnkRMriuY+hqkFUwZHNnG9ePKkM/MfeJX8cDDICDrIOtAOM5mm4lfmEgXKgkDiMvX1DEkyaeoB2Bt7YegZMpmZsaa0LSWhKPwT7vrDEAIwXvLKHcuT6q8Ro2dgPfqhJiZkStMN5SzAUqkwoSig9vuxbEPFDYqqhKlB+coBgBjZiYdZILHOKNsWiDQN4OlkBJqrT5g7XPd0qwwSCPaQ8jS4jEOezOrQe2SEluGgoEC5iHxiTIo7k8DwKrKkWhEquZBzGCJW28DGI4YgPcox6qqIkJk2no5Y2yTHXDt+7fjNFMCCyxUQSszMqIAeMBRBmMLCGlyBwOyyM2oqW9BIUnxp5Hr43Y3mDSTswgjcsE0WMj+v/bO5sfS4yrjzzlV773dPTP2jMc2nnwRsB3hwIJESZAQJBI7hMSGD7FiBxIL/gz+CJZIiE0kkNghUIiQLAWBFQJWPkhCnCjECbHj6RnPdN/7Vp3Doqrej3tvjz0ThO7tfn4Ly57pbnfdt946H3XOc6SNb5wlN59Mss5cXBA8RIQbACx4OJG15YUGZBtuTLKPUcXcak5d1yIqV7VxEuClWdW0pHAScNZnM48Sgpa+C5gh6DBacf/qR4qEoOWcc4b0JmsP1tQQ2jGgxT1SAG6daEksFEUZt2J4TF3dISFCIsyhnt2aJ6/mNefusCbdPX6wKjtqUqvX3+pEfH7Ea5WMbx2WQ1UINEF1eVMWJyrqiA5XZJSUsOzcTzVGSbCgsSghZAd0OXwIvSMJzg1rEwE6DaG2srSdBhOJB10ipEDXdWWmiKrCtQeWEkpCyaWU+GHd50UXFOIt8J9UzVmZe4cY0J3g+Lg+SBtGVeccg9dD02JUa160t2aeYXNsTnsZ5uqgeiwloJykiSa3ipNBAuMfOqrEJMyghhwRhia6JppZEw+AqWiCmGE6VbvP8AANi7hYSDBRD13EZGgB6nA12s0raji1OmuGLkoQ6d3PffGD+3jqGEdZNcMdGlGuN4vSRqcAkpaxSzXbFktOUCejrcPQtVX0QcwQEKBtVEXR2LNBuSMj4vHH9GQvAyhStjLdSoMIHJ3WQbkwE62ns8HCZITZIHLmmB7K6DPunTk66dsFixpCgCt+dI6H5y4IC8lLtaV4qLdAKmJuJrpfp2qpmhZDDBKjppyTd/fP8NYKFrBEnbEYOjWBJXTAcaepCecJ3AwhqMPgLjmJBHeBlHxbDiW3nQJU1U0AQ25SsDp1S6QFBCVmmzQ4jV/UhIpKZ4hm2NA0qTIICKsAXY2UF71DvQihaQtbayYwDC3tAlgvqkA2qCC8+9CTiymS1jimTBRdKd58B2drAdCJH0dZBrgPqevDPigNWAO99VEN1veWEaJXLxlwWK7X9aELgMFcVMJQRY/xvS4tIr2YQkMpvVZ4StLVe0Op15iqgoxeoYAZopYtJ/UWIdhWil7KsCAbu4tllFvJVY2hbJPZdIWxLjjDBblWB8cq+zX08prBgVD7oGASpWrUwr1opUmAA+tk2aXPbi5Bu/o/ci05KCndaTOhSnJ1Is4mC3JtGYLkdTz+zlsPPv+Fb7x052ZnfUimkBijqENtKasXf+baL3/shQ6x+OubicFRurbNlayzuNoU6VJOM0rdjh0viifpktMqMJujjvIfblZmR8WgogqYmwUNGZvi7j5tVDV3kSx44+3VF770+t10ZGGZUt/FGEMnIub5tA+vv/H2KouldKToxEu8XVLM+2c1kVu3yULtqFMA57n76vfu/s0/LZ4KZx1EPKvk2C1dFpr7a3722U+9fPt6eXyuENdSPawiWUYR36oMLu2SUKRV4ZiUz7w2e0wuvSfH2yw0H8OOdkBLq9rwmeDATGsmJQtRI+rlwqSvyOo0j9mF9mC1Qwa+9B/f/sab75758RpisBi86zq3sJLFD+6ef+fHD0261J9eW4bQxoE57NBvtRRY1PR5RgynK3zvvn8UcuKQHsuIBMkJougUYaU3lvM+JWxMWg06KIWUALOL5mstJfVjhkBLPba3pxSmQ1sHn3VW0apNI1omT7/4tyaThpbhYiRZjmVyDuq3SQuXxeqohEF/o7wWydUFd88Rj3CWkTNiJ+JVB+OdHj+87w/9yLQPi65cyypQOlLdwXDzihtOdMAy4oXbNzT84Nzi62+ef/2/v+Vm6oB51HK55EH0dnj3T37rE7/48gtLKUm57O1YK9l/HXeTtdkKHhCktqDARQSS3coZHAGYolXEP0k7h0uLdeFAyhaDIJQj1A2mAklaZnoEGa5P6nVsqWyXFpsihhXwxqn81Re/9l9340M9UjfX4Lp0F7W1h3gmXcDimvYvPPvM9ZOgrb9T51Oo9ilNCwA3juXW9YWK3F3pv3779N++9p0o6yydu2tppPN4ZA8+/rx94KMvPn1dj2oNqokgWQraCUL2rNruNkWAmB0qiq6ECGoGqQFnbuOxdCoiP7m4HEtOtOry2CidAYQadsTRs/FYfmYGAAsRAljKpRbcw6BMZI5eytaeCkq6RwlroAde/foPP/8v33/zrIvdcc5ZJZkneBfiUS+yhqbYHYt96IO3yvZQgV+KQ0CAa8cnAdFi/O5d+Yu/f/0fXrsW+odHmpCTqxjEE441/exN+aPf//RTQJSNqfUZgEsHoAajOqRMTUWr1IUAag4gK6CDX5XRpmHOBDtT2xWDbtFsGNwwD1fKINJmcaVNuRGVDFOBm5Wbc3VAtFxxliYWcbiUMtzgGRLw5jn+7M//9j9/ksPx7eNuAct9XocQljGgO/n+6fq7b/cr71TCzevHse6AHCTYNJFCrqDhLMmx44gXP3j7znKVzk4twaWzsEwuCJrE1XpLOcaQZHl2tuqkhY5S9eqGDjDZMX1CSld7Oc+kag5Nqo2wHZE81u8/VspKu6HxmmVq44JDKwve+vnjvYgbQjAgAWfr/HDdezgSWYiiN88eRSRGz2m1DL7E+fOL9NIL128/VUtkJj1e+xV0tvHP+blbRz///Mlz3cPTtZytRVV7X/ToJJarKFeLS80Pzt6RqENMKYCZRQ055xBCCGFQlirrLjVdpchavJ2J086NzVrZ2bSN2e+5+VQ2g1XMxnm6QdSzRikXCQmisxZjnU0Bc68JOIcrVn1a9QnxpHfJEroQLEeRYJC0eni8DOoP71xPr7x0ZxFr7kQuxcu+AD7y7K0b3TffvLe+b/Er3/j+1xRRUuc55bXEIzNbqNyQsx8+gz/8vU9nQZxPMJBh0N5U07rljcwtaGwiyEU4vzVMtqItmwlBX1BM75uun0NLC4Bspp/HhERGKQIrgvwyyhbIxHuCm6sqesM58K0f3f3m3Xiup+hFtQghW+cw/OQsiYR4PdjNrn/+1o0gQE4QQ/MC3HnNeTUNpwOeRcJS8JlfePZPf/tTf/fql986PVt77BGLHgLE1LLCu6DXcf/W0aqmS6TModeUUowaNl+C8fpBN0coqQDdxq3GE/tuMi0oGH5SGJIymz/fyytVots0STGXnxICcOcafvXlZ/7nXbu/XnmIjpiRVFU8I2XxdL3Lv/bJV37zVz50HGq9HzxDilu7b16RQdxcri/xO5995cjPX33tq/fOsiNm0Vx0oNoXH9m7Hzl+eN1OBU+vEhZRvZaQeAiyqdjelhpqHNDymNoeQdHO3jCL8ynoW6Zzc7QZdm0NbemJMcLXGrk0bfpu3BtocrueXUL5s5eeu/4bP3fyTu/nlnIpFXFVF1jv5gEP7jx/67Of+eRLd47rHFZPrcDkgO+0yvP43Cee/fc3Xn74xa+8tQp9RpSQ1ivXbuULy50IbH2+lPX64VpHcc1ZikomjUyT5Gr5wzh8RFq2xmR86Hzr6Na/XxDDycZ3Y2OTyLgtdZaRnRx0tROmSg1qBnrAgbPT06N8knpYOM6m0czMknTufiLw1b2XP3zzdz/3Sx/7SJfr/a7DM4YZtOTRR5C7X8JlldsrQxbNigcJ75whKR705cStmZDSyBkUx46ngt8+kZwRA2Qz2NodP+zfkod3z8ZfOxs0uIQ1sAJ+fBeyQAZS06Iu+rZuCI6jgOOIm0tIRhSo2tibsV9rN+/XEqNL7IEE3O9x+gA5IPmgcj4JRxw33J5/Wps5RJucNM5IGda4r6opY3FQe24AUCZeZdOi4X7vDA/W8ICVzGZ6lyhKDcuIp45xpNAq+l/CJ4PGw44xHGvBjzL+8cv3/vn1N+6vzVPuui6ZWFisTM1Tlx48s1h/+Fr+4z/49af1sIOGycO1sR8YMQnOgPuOv/zr1+6l7t3U9eEIEhQ5J4N0cJe8euZa+OQrH/jMx49vAkdA8NRSTOp1VgFDzitoOJvBy6auMEcWtI6C8TzVtt1Kz0XtvgCKbpWUlIX4YRjOrezQGG2KlWuZXqqqZ7mFHdr0W5dXVWCZKsKbm6jupQZCyaVrcjRFpM3ni8n7X+b3LkohV7JY1Hg3y7b22XCOz3d+rlnJCyDoupVNDQuXnW5Va1fWQXgQh35MGmDr5B67Bwlv38sSQp8hgBmkQzKIABmLYF0+/8DtkwgctBjr/KHNNAUTYMBP7qMvJbwBCOhTrTmKEesVOsFzN9ABR6UZrVYs1WnEswoJcqUMp2/+pwvK1N8wPy5rfYe5mkCAbB5FDi/ibKve+HUFGLRziy+5cluIRhjcgDgpKSoRqou41msTKRJl+ykeZGZFlwylOU7G6YsyO11q3Y1j1oPpZiKy7RgdhOFEqa2tZbepOHoZmprQ8tG0+rdOhd29laU1pRy04Sy+sbmpRIeajzo+wKZ6h1nuNMglOt8wudipGYSh07gMFShOc84x1Ky+IsFMpHlQqEooNvc4yRUynD6oq4yxY5YahRWd5TIOZWI5s8SeFgAAB1NJREFU51sQE3tzCCbT2sLV5g5pXaRneB7K/mqqT8rgmNrsVb4wDidR7d3UbLPv259HPJhzL3W/Ozdy6w0oJ4JnBxDCIWrMjana0XBOg860li5aa1IIPok829TVcoyKwOGwXEZzXAJh0jrV3C3KrBeoSGW2+MkcOZsF7bCPfuCTu1DDCVUrmwRmUJm8FAKzOoCl+ZQZ1pq4ZXJeCFD1UQInWj+Cy/nRSFNuVgXcSxXlpIFOtgd+pGTuVRnc3c1MwjDg51AO1ty6xLYsqrSDMxscSO0WV2WQbi0Z2jIaHhia4s2R9z1hVccZGmzdrnxsw2qW4sUQJAQZHvSw2MN5xJO1N/390uYrIcChcPF1QBKRYheL+NVQ7VH0FhSuqiJiVsXpLkWGqZa49H0uqpmxlHK5D7V1UTu4u6VLc3zrRNVsqGwKNTqAI7unUgPsZjU5k3pAUBrEZWoyL4pmydWIOMeQpIQjg6C1J5E4NbAb46bNrIzH09JtNSrm7H/EmYdpVqMMfY042nhcKHJG6ad2hxaPQqafw+CQmpmGqmNibmGfxqMMuWWHh1kacho96bSaRpqZDGVRRey/ZbRkh33SPXu+rT0dam2mtgz7XMbZeJazhlC0YtpLPt51inh5uCJBNG5+ZgeMwbXmnKcpyzJkrYhohuFi3w895pxfWtu4b13aiafzqNTgKUicfLNazhK3xa5LH6oy4ryShnNINhbp7bmBnAcsbcTs+C4ZUA+gAwnNbZy5Ibr1Xg3rnUrXYuzfb+IlIi3t2eaRmZmGDnt2tJaYWVtdqUjJN9mWo6PjKF9LZTNkyyXY2qi83XvDmdvhpsAgiVClEjSKm4lrcQS8SKxOmlpajVj7HKofWVO1fujSQY5xPHW5ns8Qt7ExRMSltN/UsW6X6AZvmKM52c4iAJJ50NCS2OVrpO6KOupQHPNLTZ/sf15yXk3DORydG9d+mIpATmcovkdS5BD8z/HB2lZyT6eGBG7zN2Q8WzdWvZ/FMhddaF7811Ptd8UF5RX7HXEOK5tlQWarnoiJz56+b4QV5ZsicFmGFk+X4VvPUbBR0HAZ1iuPn2T3qVLS9BUwDB2lnGL9PoiXfYFWethto6xu0otyKfyfrYNjIpa7te4hwmjDwqowPTBVit8dje3RireNwmgdZOuI8YN+3puaCT53DWVjG9RvsVEpeRRQHdLxlysRJ5N9W3fyDvfoyYSj93K9k/uX93hLbTSZO8StNjxsBppXOuKcpC6HreCzPeG744xDPVN8ItIlF/ukk3jlQhk9uSB237vnK0MXbl3XzrHSu6Z+6c5A5TCSCuPZZ49IithW+812z99le+XHj0o3brx1x064FMv37djx0S6m2fyNnn8yvNe86hGnzrzvIXXj4wsjbcP5KI5lh/v62Nx2bmZm2jskrUrf9tUkvn+Xb7J0CNR3P0K7PJvaN1UY/X0H5RMX4XKfjLp9db3pN/g0Kj3gvfB4Hp+Vq88qsDt5KwYxv3ok+GSwKLlqEedEkkreyx977Aze3pkbn/9OcrFn+sgP61AjjO10wizafsyDck8/DH/Ujp38zhu+0wG7Rj/Nh9TefdvcHo5LUDXqW3kDwcbN7nwTu84EpaZ/Oy2QrL3CNJxXN+Jsu0BacOnvkes4bPenjZ2SjbB75xI3PgrZskCH8d7o5nL8gkVdjis9edS+lR23VjudjKtiQasP4Ru3nuWTivMZmYcZWW9fzYwPukWQpdDBdfeT9w2/0x43iGXEecl9T+y+6HqCo2SP70h2mw3dyN/K7pDqkevayxBsV7/N5ir8PWzQo75+/6qIDRc1F03F1qYew5YP5I/6HC7flWcrn5HWk7bb2BzuArfOsSF8HExm/edQTWbtWkovGAuhm8kbctUizun28gsPxMvtjO/yrOUyBdu7V+GX8+leECftDB3ey2pegbd+8gnIjr+TS7UfJoNahwaz9k8fBqrDHzkzTC/V0cCIk/w0ZuQqvwW+rxHk/6XhJNwP72vhQ9JCubtoOAkhhJD/P+hiEEIIITSchBBCCA0nIYQQQsNJCCGE0HASQgghNJyEEEIIoeEkhBBCaDgJIYQQGk5CCCGEhpMQQgih4SSEEEJoOAkhhBBCw0kIIYTQcBJCCCE0nIQQQggNJyGEEELDSQghhNBwEkIIIYSGkxBCCKHhJIQQQmg4CSGEEBpOQgghhIaTEEIIoeEkhBBCCA0nIYQQQsNJCCGE0HASQgghNJyEEEIIDSchhBBCw0kIIYQQGk5CCCGEhpMQQgih4SSEEEJoOAkhhBAaTkIIIYSGkxBCCCE0nIQQQggNJyGEEELDSQghhNBwEkIIITSchBBCCA0nIYQQQmg4CSGEEBpOQgghhIaTEEIIoeEkhBBCaDgJIYQQGk5CCCGE0HASQgghNJyEEEIIDSchhBBCw0kIIYTQcBJCCCE0nIQQQgih4SSEEEJoOAkhhBAaTkIIIYSGkxBCCKHhJIQQQmg4CSGEEELDSQghhDwG/wtWZh+7I/XaSwAAAABJRU5ErkJggg==)"
      ]
    },
    {
      "cell_type": "code",
      "metadata": {
        "id": "njXWQ9hgNhZC",
        "outputId": "be697848-be87-4983-8b22-a0e22145bb25",
        "colab": {
          "base_uri": "https://localhost:8080/",
          "height": 90
        }
      },
      "source": [
        "print(two_dim_array + two_dim_array)"
      ],
      "execution_count": null,
      "outputs": [
        {
          "output_type": "stream",
          "text": [
            "[[ 2  4]\n",
            " [ 6  8]\n",
            " [10 12]\n",
            " [14 16]]\n"
          ],
          "name": "stdout"
        }
      ]
    },
    {
      "cell_type": "code",
      "metadata": {
        "id": "bIE3j6NGQwW-",
        "outputId": "d21cca74-122c-4c09-e18f-2566e26a82c9",
        "colab": {
          "base_uri": "https://localhost:8080/",
          "height": 90
        }
      },
      "source": [
        "#Another way to do that\n",
        "print(np.add(two_dim_array,two_dim_array))"
      ],
      "execution_count": null,
      "outputs": [
        {
          "output_type": "stream",
          "text": [
            "[[ 2  4]\n",
            " [ 6  8]\n",
            " [10 12]\n",
            " [14 16]]\n"
          ],
          "name": "stdout"
        }
      ]
    },
    {
      "cell_type": "markdown",
      "metadata": {
        "id": "5U5QYckURCEe"
      },
      "source": [
        "Similarly we can do the subtraction, division and multiplication.\n",
        "\n",
        "np.subtract\n",
        "\n",
        "np.divide\n",
        "\n",
        "np.multiply"
      ]
    },
    {
      "cell_type": "code",
      "metadata": {
        "id": "tKnWnFs7POH8",
        "outputId": "eb9b432b-8eb7-41f5-ea95-944d1352234b",
        "colab": {
          "base_uri": "https://localhost:8080/",
          "height": 90
        }
      },
      "source": [
        "#subtraction\n",
        "print(np.subtract(two_dim_array,two_dim_array))"
      ],
      "execution_count": null,
      "outputs": [
        {
          "output_type": "stream",
          "text": [
            "[[0 0]\n",
            " [0 0]\n",
            " [0 0]\n",
            " [0 0]]\n"
          ],
          "name": "stdout"
        }
      ]
    },
    {
      "cell_type": "code",
      "metadata": {
        "id": "qYxtcggkRRxg",
        "outputId": "ba6b1531-0aa0-4953-f14e-2872f15a0b00",
        "colab": {
          "base_uri": "https://localhost:8080/",
          "height": 90
        }
      },
      "source": [
        "# multiplication\n",
        "print(np.multiply(two_dim_array,two_dim_array))"
      ],
      "execution_count": null,
      "outputs": [
        {
          "output_type": "stream",
          "text": [
            "[[ 1  4]\n",
            " [ 9 16]\n",
            " [25 36]\n",
            " [49 64]]\n"
          ],
          "name": "stdout"
        }
      ]
    },
    {
      "cell_type": "code",
      "metadata": {
        "id": "5LmhHQqCRlEx",
        "outputId": "7aa288df-4584-4351-d474-0a2fd9e8d989",
        "colab": {
          "base_uri": "https://localhost:8080/",
          "height": 90
        }
      },
      "source": [
        "# division\n",
        "print(np.divide(two_dim_array,two_dim_array))"
      ],
      "execution_count": null,
      "outputs": [
        {
          "output_type": "stream",
          "text": [
            "[[1. 1.]\n",
            " [1. 1.]\n",
            " [1. 1.]\n",
            " [1. 1.]]\n"
          ],
          "name": "stdout"
        }
      ]
    },
    {
      "cell_type": "markdown",
      "metadata": {
        "id": "njo1pCkhTwCu"
      },
      "source": [
        "### Let us now discuss some of the other important arithmetic functions available in NumPy."
      ]
    },
    {
      "cell_type": "markdown",
      "metadata": {
        "id": "pnzgFafLUIG2"
      },
      "source": [
        "###numpy.reciprocal()\n",
        "\n",
        "\n",
        "This function returns the reciprocal of argument, element-wise."
      ]
    },
    {
      "cell_type": "code",
      "metadata": {
        "id": "T2-Z-CNPRtvV",
        "outputId": "9afc3111-66d8-4509-e47c-057c4be9fc89",
        "colab": {
          "base_uri": "https://localhost:8080/",
          "height": 35
        }
      },
      "source": [
        "#numpy.reciprocal()\n",
        "\n",
        "# a = np.array([0.25])\n",
        "# a = np.array([1])\n",
        "# a = np.array([1.33])\n",
        "# a = np.array([0]) \n",
        "# a = np.array([15])\n",
        "print(np.reciprocal(a))"
      ],
      "execution_count": null,
      "outputs": [
        {
          "output_type": "stream",
          "text": [
            "[0]\n"
          ],
          "name": "stdout"
        }
      ]
    },
    {
      "cell_type": "markdown",
      "metadata": {
        "id": "TOl-jffXThXn"
      },
      "source": [
        "For elements with absolute values larger than 1, the result is always 0 because of the way in which Python handles integer division. "
      ]
    },
    {
      "cell_type": "markdown",
      "metadata": {
        "id": "5C6_20elUACW"
      },
      "source": [
        "### numpy.power()\n",
        "This function treats elements in the first input array as base and returns it raised to the power of the corresponding element in the second input array.\n",
        "\n"
      ]
    },
    {
      "cell_type": "code",
      "metadata": {
        "id": "HsN9hbhlSb9p",
        "outputId": "fdec7cc5-7374-4647-b8bf-487d6068fd46",
        "colab": {
          "base_uri": "https://localhost:8080/",
          "height": 126
        }
      },
      "source": [
        "a = np.array([10,100,1000]) \n",
        "print('Our array is:') \n",
        "print(a) \n",
        "print('\\n')  \n",
        "\n",
        "print('Applying power function:') \n",
        "print(np.power(a,2)) "
      ],
      "execution_count": null,
      "outputs": [
        {
          "output_type": "stream",
          "text": [
            "Our array is:\n",
            "[  10  100 1000]\n",
            "\n",
            "\n",
            "Applying power function:\n",
            "[    100   10000 1000000]\n"
          ],
          "name": "stdout"
        }
      ]
    },
    {
      "cell_type": "markdown",
      "metadata": {
        "id": "lfxV61CTUv04"
      },
      "source": [
        "### numpy.mod()\n",
        "\n",
        "This function returns the remainder of division of the corresponding elements in the input array. The function **numpy.remainder()** also produces the same result."
      ]
    },
    {
      "cell_type": "code",
      "metadata": {
        "id": "TuzT3j72UXBa",
        "outputId": "0cc83d02-2baa-4ca9-f93d-f8cd02b4d0aa",
        "colab": {
          "base_uri": "https://localhost:8080/",
          "height": 272
        }
      },
      "source": [
        "\n",
        "import numpy as np \n",
        "a = np.array([10,20,30]) \n",
        "b = np.array([3,5,7]) \n",
        "\n",
        "print('First array:') \n",
        "print(a)\n",
        "print('\\n')  \n",
        "\n",
        "print('Second array:') \n",
        "print(b)\n",
        "print('\\n')\n",
        "\n",
        "print('Applying mod() function:') \n",
        "print(np.mod(a,b)) \n",
        "print('\\n')\n",
        "\n",
        "print('Applying remainder() function:') \n",
        "print(np.remainder(a,b)) "
      ],
      "execution_count": null,
      "outputs": [
        {
          "output_type": "stream",
          "text": [
            "First array:\n",
            "[10 20 30]\n",
            "\n",
            "\n",
            "Second array:\n",
            "[3 5 7]\n",
            "\n",
            "\n",
            "Applying mod() function:\n",
            "[1 0 2]\n",
            "\n",
            "\n",
            "Applying remainder() function:\n",
            "[1 0 2]\n"
          ],
          "name": "stdout"
        }
      ]
    },
    {
      "cell_type": "markdown",
      "metadata": {
        "id": "R59I97naZQNs"
      },
      "source": [
        "#Broadcasting\n",
        "\n",
        "There are times when you might want to carry out an operation between an array and a single number (also called an operation between a vector and a scalar) or between arrays of two different sizes. For example, your array (we’ll call it “data”) might contain information about distance in miles but you want to convert the information to kilometers. You can perform this operation with:"
      ]
    },
    {
      "cell_type": "code",
      "metadata": {
        "id": "lcG4p8yCVN_9",
        "outputId": "b4257280-d33a-46c5-b41e-eb4f59cd2a45",
        "colab": {
          "base_uri": "https://localhost:8080/",
          "height": 54
        }
      },
      "source": [
        "data = np.array([1.0, 2.0])\n",
        "print('original data', data) \n",
        "\n",
        "print('after broadcasting', data * 1.6)"
      ],
      "execution_count": null,
      "outputs": [
        {
          "output_type": "stream",
          "text": [
            "original data [1. 2.]\n",
            "after broadcasting [1.6 3.2]\n"
          ],
          "name": "stdout"
        }
      ]
    },
    {
      "cell_type": "markdown",
      "metadata": {
        "id": "sFsSVOCMZ8k9"
      },
      "source": [
        "NumPy understands that the multiplication should happen with each cell. That concept is called **broadcasting.** Broadcasting is a mechanism that allows NumPy to perform operations on arrays of different shapes."
      ]
    },
    {
      "cell_type": "code",
      "metadata": {
        "id": "vuyMw_lkaQ-j",
        "outputId": "99b9bf75-1b83-4915-8e7d-94682338e510",
        "colab": {
          "base_uri": "https://localhost:8080/",
          "height": 35
        }
      },
      "source": [
        "a = np.array([1.0, 2.0, 3.0])\n",
        "b = np.array([2.0, 2.0, 2.0])\n",
        "a*b"
      ],
      "execution_count": null,
      "outputs": [
        {
          "output_type": "execute_result",
          "data": {
            "text/plain": [
              "array([2., 4., 6.])"
            ]
          },
          "metadata": {
            "tags": []
          },
          "execution_count": 69
        }
      ]
    },
    {
      "cell_type": "code",
      "metadata": {
        "id": "mNVwqKkqcsK5",
        "outputId": "1067129e-b6e4-4d3d-c999-410eabe0f54c",
        "colab": {
          "base_uri": "https://localhost:8080/",
          "height": 35
        }
      },
      "source": [
        "a = np.array([1.0, 2.0, 3.0])\n",
        "b = 2.0\n",
        "a * b"
      ],
      "execution_count": null,
      "outputs": [
        {
          "output_type": "execute_result",
          "data": {
            "text/plain": [
              "array([2., 4., 6.])"
            ]
          },
          "metadata": {
            "tags": []
          },
          "execution_count": 68
        }
      ]
    },
    {
      "cell_type": "markdown",
      "metadata": {
        "id": "gawe7_WtcbhS"
      },
      "source": [
        "The result is equivalent to the previous example where b was an array. We can think of the scalar b being stretched during the arithmetic operation into an array with the same shape as a. The stretching analogy is only conceptual. NumPy is smart enough to use the original scalar value without actually making copies so that broadcasting operations are as memory and computationally efficient as possible.\n",
        "\n",
        "***The code in the second example is more efficient than that in the first because broadcasting moves less memory around during the multiplication (b is a scalar rather than an array).***"
      ]
    }
  ]
}